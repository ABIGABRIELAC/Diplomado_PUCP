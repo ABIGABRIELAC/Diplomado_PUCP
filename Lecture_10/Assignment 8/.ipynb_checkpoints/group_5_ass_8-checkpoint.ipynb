{
 "cells": [
  {
   "cell_type": "code",
   "execution_count": null,
   "id": "badfe7fe",
   "metadata": {},
   "outputs": [],
   "source": [
    "#! pip install chardet\n",
    "\n",
    "\n",
    "import folium \n",
    "import chardet\n",
    "\n",
    "\n",
    "import numpy as np\n",
    "import pandas as pd\n",
    "import geopandas as gpd\n",
    "import matplotlib.pyplot as plt \n",
    "\n",
    "\n",
    "from pandas import Series, DataFrame\n",
    "from folium import Marker, GeoJson\n",
    "from geopandas import GeoSeries\n",
    "from shapely.geometry import Point, LineString\n",
    "from folium.plugins import MarkerCluster, HeatMap"
   ]
  },
  {
   "cell_type": "markdown",
   "id": "690ddf2c",
   "metadata": {},
   "source": [
    "# Data reading and cleaning"
   ]
  },
  {
   "cell_type": "code",
   "execution_count": null,
   "id": "23db1cd1",
   "metadata": {},
   "outputs": [],
   "source": [
    "base = open(r'../../_data/data_dengue_peru.csv','rb').read()\n",
    "det = chardet.detect(base)\n",
    "charenc = det['encoding']\n",
    "\n",
    "# Reading data\n",
    "df = pd.read_csv(r'../../_data/data_dengue_peru.csv', encoding = charenc)\n",
    "\n",
    "# Generating Ubigeo as string, cause not all Ubigeo values are of 6 digits\n",
    "df[\"Ubigeo_str\"]  = df['Ubigeo'].astype(str).str.zfill(6)\n",
    "\n",
    "# Identifying department\n",
    "df[\"Ubigeo_dep\"]  = df[\"Ubigeo_str\"].str[0:2].astype(int)\n",
    "\n",
    "# Identifying province\n",
    "df[\"Ubigeo_prov\"] = df[\"Ubigeo_str\"].str[0:4].astype(int)\n",
    "\n",
    "# Capital letter to merge\n",
    "df.columns = df.columns.str.upper()\n",
    "\n",
    "# Casos formatting\n",
    "df[\"CASOS\"] = df[\"CASOS\"].astype(str)\n",
    "df[\"CASOS\"] = df[\"CASOS\"].replace(',','',regex=True)\n",
    "df[\"CASOS\"] = df[\"CASOS\"].astype(float)\n",
    "#df[\"CASOS\"] = df[\"CASOS\"].fillna(0)\n",
    "#df[\"CASOS\"] = df[\"CASOS\"].astype(int)\n",
    "\n",
    "# Dataframe pre visualization\n",
    "df"
   ]
  },
  {
   "cell_type": "markdown",
   "id": "26eab5a7",
   "metadata": {},
   "source": [
    "# Cases by district"
   ]
  },
  {
   "cell_type": "code",
   "execution_count": null,
   "id": "38f3bef1",
   "metadata": {},
   "outputs": [],
   "source": [
    "shape_1 = gpd.read_file(r'../../_data/LIMITE_DISTRITAL_2020_INEI/INEI_LIMITE_DISTRITAL.shp')\n",
    "shape_1['UBIGEO'] = shape_1['UBIGEO'].astype(str).astype(int)\n",
    "\n",
    "\n",
    "# General cases by district 2021 data frame \n",
    "cases_dist_2021 = df.loc[df['AÑO'] == 2021]\n",
    "\n",
    "# Cases by district\n",
    "dist_21 = cases_dist_2021.groupby(['UBIGEO'])[['CASOS']].sum()\n",
    "dist_21[\"UBIGEO\"] = dist_21.index\n",
    "dist_21.reset_index(drop=True, inplace=True)\n",
    "dist_21\n",
    "\n",
    "# Cases by district georeferenced\n",
    "cases_dist = pd.merge(shape_1, dist_21, how=\"outer\", on=\"UBIGEO\")\n",
    "\n",
    "# Plot\n",
    "cases_dist.plot( column='CASOS', cmap='Reds', \n",
    "          figsize=(15, 15),\n",
    "          linestyle='-',\n",
    "          edgecolor='gray',\n",
    "          legend = True,\n",
    "          missing_kwds={\"color\": \"lightgrey\"})"
   ]
  },
  {
   "cell_type": "markdown",
   "id": "97e57cd8",
   "metadata": {},
   "source": [
    "# Cases by province"
   ]
  },
  {
   "cell_type": "code",
   "execution_count": null,
   "id": "52f20c5a",
   "metadata": {},
   "outputs": [],
   "source": []
  },
  {
   "cell_type": "markdown",
   "id": "f146053d",
   "metadata": {},
   "source": [
    "# Cases by department and year"
   ]
  },
  {
   "cell_type": "code",
   "execution_count": null,
   "id": "d7ca1689",
   "metadata": {},
   "outputs": [],
   "source": []
  },
  {
   "cell_type": "markdown",
   "id": "01144fe6",
   "metadata": {},
   "source": [
    "# Cases by department and 2021 quarters"
   ]
  },
  {
   "cell_type": "code",
   "execution_count": null,
   "id": "88652f4b",
   "metadata": {},
   "outputs": [],
   "source": []
  }
 ],
 "metadata": {
  "kernelspec": {
   "display_name": "Python 3 (ipykernel)",
   "language": "python",
   "name": "python3"
  },
  "language_info": {
   "codemirror_mode": {
    "name": "ipython",
    "version": 3
   },
   "file_extension": ".py",
   "mimetype": "text/x-python",
   "name": "python",
   "nbconvert_exporter": "python",
   "pygments_lexer": "ipython3",
   "version": "3.9.7"
  }
 },
 "nbformat": 4,
 "nbformat_minor": 5
}
