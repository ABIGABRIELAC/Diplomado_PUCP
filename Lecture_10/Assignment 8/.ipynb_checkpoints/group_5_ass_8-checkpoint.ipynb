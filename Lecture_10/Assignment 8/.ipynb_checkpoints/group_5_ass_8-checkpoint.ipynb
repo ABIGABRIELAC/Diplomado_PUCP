{
 "cells": [
  {
   "cell_type": "code",
   "execution_count": null,
   "id": "b1a86bab",
   "metadata": {},
   "outputs": [],
   "source": [
    "#! pip install chardet\n",
    "\n",
    "\n",
    "import folium \n",
    "import chardet\n",
    "\n",
    "\n",
    "import numpy as np\n",
    "import pandas as pd\n",
    "import geopandas as gpd\n",
    "import matplotlib.pyplot as plt \n",
    "\n",
    "\n",
    "from pandas import Series, DataFrame\n",
    "from folium import Marker, GeoJson\n",
    "from geopandas import GeoSeries\n",
    "from shapely.geometry import Point, LineString\n",
    "from folium.plugins import MarkerCluster, HeatMap"
   ]
  },
  {
   "cell_type": "markdown",
   "id": "e1047043",
   "metadata": {},
   "source": [
    "# Data reading and cleaning"
   ]
  },
  {
   "cell_type": "code",
   "execution_count": null,
   "id": "bb4f83d7",
   "metadata": {},
   "outputs": [],
   "source": []
  },
  {
   "cell_type": "markdown",
   "id": "e11f3953",
   "metadata": {},
   "source": [
    "# Cases by district"
   ]
  },
  {
   "cell_type": "code",
   "execution_count": null,
   "id": "badfe7fe",
   "metadata": {},
   "outputs": [],
   "source": [
    "shape_1 = gpd.read_file(r'../../_data/LIMITE_DISTRITAL_2020_INEI/INEI_LIMITE_DISTRITAL.shp')\n",
    "shape_1['UBIGEO'] = shape_1['UBIGEO'].astype(str).astype(int)\n",
    "\n",
    "\n",
    "# General cases by district 2021 data frame \n",
    "cases_dist_2021 = df.loc[df['AÑO'] == 2021]\n",
    "\n",
    "# Cases by district\n",
    "dist_21 = cases_dist_2021.groupby(['UBIGEO'])[['CASOS']].sum()\n",
    "dist_21[\"UBIGEO\"] = dist_21.index\n",
    "dist_21.reset_index(drop=True, inplace=True)\n",
    "dist_21\n",
    "\n",
    "# Cases by district georeferenced\n",
    "cases_dist = pd.merge(shape_1, dist_21, how=\"outer\", on=\"UBIGEO\")\n",
    "\n",
    "# Plot\n",
    "cases_dist.plot( column='CASOS', cmap='Reds', \n",
    "          figsize=(15, 15),\n",
    "          linestyle='-',\n",
    "          edgecolor='gray',\n",
    "          legend = True,\n",
    "          missing_kwds={\"color\": \"lightgrey\"})"
   ]
  }
 ],
 "metadata": {
  "kernelspec": {
   "display_name": "Python 3 (ipykernel)",
   "language": "python",
   "name": "python3"
  },
  "language_info": {
   "codemirror_mode": {
    "name": "ipython",
    "version": 3
   },
   "file_extension": ".py",
   "mimetype": "text/x-python",
   "name": "python",
   "nbconvert_exporter": "python",
   "pygments_lexer": "ipython3",
   "version": "3.9.7"
  }
 },
 "nbformat": 4,
 "nbformat_minor": 5
}
