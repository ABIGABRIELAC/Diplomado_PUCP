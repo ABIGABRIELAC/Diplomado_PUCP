{
 "cells": [
  {
   "cell_type": "code",
   "execution_count": null,
   "id": "badfe7fe",
   "metadata": {},
   "outputs": [],
   "source": [
    "#! pip install chardet\n",
    "\n",
    "\n",
    "import folium \n",
    "import chardet\n",
    "\n",
    "\n",
    "import numpy as np\n",
    "import pandas as pd\n",
    "import geopandas as gpd\n",
    "import matplotlib.pyplot as plt \n",
    "\n",
    "\n",
    "from pandas import Series, DataFrame\n",
    "from folium import Marker, GeoJson\n",
    "from geopandas import GeoSeries\n",
    "from shapely.geometry import Point, LineString\n",
    "from folium.plugins import MarkerCluster, HeatMap"
   ]
  },
  {
   "cell_type": "markdown",
   "id": "690ddf2c",
   "metadata": {},
   "source": [
    "# Data reading and cleaning"
   ]
  },
  {
   "cell_type": "code",
   "execution_count": null,
   "id": "23db1cd1",
   "metadata": {},
   "outputs": [],
   "source": [
    "base = open(r'../../_data/data_dengue_peru.csv','rb').read()\n",
    "det = chardet.detect(base)\n",
    "charenc = det['encoding']\n",
    "\n",
    "# Reading data\n",
    "df = pd.read_csv(r'../../_data/data_dengue_peru.csv', encoding = charenc)\n",
    "\n",
    "# Generating Ubigeo as string, cause not all Ubigeo values are of 6 digits\n",
    "df[\"Ubigeo_str\"]  = df['Ubigeo'].astype(str).str.zfill(6)\n",
    "\n",
    "# Identifying department\n",
    "df[\"Ubigeo_dep\"]  = df[\"Ubigeo_str\"].str[0:2].astype(int)\n",
    "\n",
    "# Identifying province\n",
    "df[\"Ubigeo_prov\"] = df[\"Ubigeo_str\"].str[0:4].astype(int)\n",
    "\n",
    "# Capital letter to merge\n",
    "df.columns = df.columns.str.upper()\n",
    "\n",
    "# Casos formatting\n",
    "df[\"CASOS\"] = df[\"CASOS\"].astype(str)\n",
    "df[\"CASOS\"] = df[\"CASOS\"].replace(',','',regex=True)\n",
    "df[\"CASOS\"] = df[\"CASOS\"].astype(float)\n",
    "#df[\"CASOS\"] = df[\"CASOS\"].fillna(0)\n",
    "#df[\"CASOS\"] = df[\"CASOS\"].astype(int)\n",
    "\n",
    "# Dataframe pre visualization\n",
    "df"
   ]
  },
  {
   "cell_type": "markdown",
   "id": "26eab5a7",
   "metadata": {},
   "source": [
    "# Cases by district"
   ]
  },
  {
   "cell_type": "code",
   "execution_count": null,
   "id": "38f3bef1",
   "metadata": {},
   "outputs": [],
   "source": [
    "shape_1 = gpd.read_file(r'../../_data/LIMITE_DISTRITAL_2020_INEI/INEI_LIMITE_DISTRITAL.shp')\n",
    "shape_1['UBIGEO'] = shape_1['UBIGEO'].astype(str).astype(int)\n",
    "\n",
    "\n",
    "# General cases by district 2021 data frame \n",
    "cases_dist_2021 = df.loc[df['AÑO'] == 2021]\n",
    "\n",
    "# Cases by district\n",
    "dist_21 = cases_dist_2021.groupby(['UBIGEO'])[['CASOS']].sum()\n",
    "dist_21[\"UBIGEO\"] = dist_21.index\n",
    "dist_21.reset_index(drop=True, inplace=True)\n",
    "dist_21\n",
    "\n",
    "# Cases by district georeferenced\n",
    "cases_dist = pd.merge(shape_1, dist_21, how=\"outer\", on=\"UBIGEO\")\n",
    "\n",
    "# Plot\n",
    "cases_dist.plot( column='CASOS', cmap='Reds', \n",
    "          figsize=(15, 15),\n",
    "          linestyle='-',\n",
    "          edgecolor='gray',\n",
    "          legend = True,\n",
    "          missing_kwds={\"color\": \"lightgrey\"})"
   ]
  },
  {
   "cell_type": "markdown",
   "id": "97e57cd8",
   "metadata": {},
   "source": [
    "# Cases by province"
   ]
  },
  {
   "cell_type": "code",
   "execution_count": null,
   "id": "52f20c5a",
   "metadata": {},
   "outputs": [],
   "source": []
  },
  {
   "cell_type": "markdown",
   "id": "f146053d",
   "metadata": {},
   "source": [
    "# Cases by department and year"
   ]
  },
  {
   "cell_type": "markdown",
   "id": "3178c7d0",
   "metadata": {},
   "source": [
    "Generating departamental data"
   ]
  },
  {
   "cell_type": "code",
   "execution_count": null,
   "id": "33554c1b",
   "metadata": {},
   "outputs": [],
   "source": [
    "shape_3 = gpd.read_file(r'../../_data/LIMITE_DISTRITAL_2020_INEI/INEI_LIMITE_DISTRITAL.shp')\n",
    "\n",
    "# Generating Ubigeo as string, cause not all Ubigeo values are of 6 digits\n",
    "shape_3[\"UBIGEO_STR\"]  = shape_3['UBIGEO'].astype(str).str.zfill(6)\n",
    "\n",
    "# Generate province ID\n",
    "shape_3[\"UBIGEO_DEP\"] = shape_3[\"UBIGEO_STR\"].str[0:2].astype(int)\n",
    "shape_3['UBIGEO'] = shape_3['UBIGEO'].astype(str).astype(int)\n",
    "\n",
    "# Agregating shapes by department\n",
    "shape_3_dep = shape_3.dissolve(by='UBIGEO_DEP')\n",
    "\n",
    "# Generating departmental data\n",
    "dep = df.groupby(['UBIGEO_DEP','AÑO'])[['CASOS']].sum()\n",
    "dep[\"UBIGEO_DEP\"] = dep.index.get_level_values(0)\n",
    "dep[\"AÑO\"] = dep.index.get_level_values(1)\n",
    "dep.reset_index(drop=True, inplace=True)\n",
    "dep.sort_values('AÑO')"
   ]
  },
  {
   "cell_type": "markdown",
   "id": "0ffa942d",
   "metadata": {},
   "source": [
    "Generating data frames by year"
   ]
  },
  {
   "cell_type": "code",
   "execution_count": null,
   "id": "9e0509e2",
   "metadata": {},
   "outputs": [],
   "source": [
    "year_list = [2015, 2016, 2017, 2018, 2019, 2020, 2021]\n",
    "\n",
    "\n",
    "cases_dep = {}\n",
    "dep_year = {}\n",
    "\n",
    "for i in range(len(year_list)):\n",
    "    cases_dep[year_list[i]] = dep.loc[dep['AÑO'] == year_list[i]]\n",
    "    dep_year[year_list[i]] = pd.merge(shape_3_dep, cases_dep[year_list[i]], how=\"outer\", on=\"UBIGEO_DEP\")"
   ]
  },
  {
   "cell_type": "markdown",
   "id": "17002508",
   "metadata": {},
   "source": [
    "Plotting data"
   ]
  },
  {
   "cell_type": "code",
   "execution_count": null,
   "id": "e21eafcc",
   "metadata": {},
   "outputs": [],
   "source": [
    "# A small function that hellps us for automatic subplots dimmensions\n",
    "from math import sqrt\n",
    "def nearest_square(num):\n",
    "         num1 = round(sqrt(num))**2\n",
    "         return int(sqrt(num1))\n",
    "\n",
    "# Figure set up\n",
    "fig, axis = plt.subplots( nrows = nearest_square(len(year_list)),\n",
    "                         ncols= nearest_square(len(year_list)),\n",
    "                         figsize = ( 15, 15 ) )\n",
    "\n",
    "# Loop for subplot\n",
    "idx = 0\n",
    "for i in range( nearest_square(len(year_list)) ):\n",
    "    for j in range ( nearest_square(len(year_list)) ):\n",
    "        \n",
    "        # if idx is minor to number of elements\n",
    "        if idx <= len(year_list) - 1:\n",
    "            ax = axis[ i ][ j ]\n",
    "\n",
    "            dep_year[year_list[idx]].plot( column='CASOS', \n",
    "                      cmap='Reds', \n",
    "                      linestyle='-',\n",
    "                      edgecolor='black',\n",
    "                      legend = True, \n",
    "                      ax = ax,\n",
    "                      missing_kwds={\"color\": \"lightgrey\"}\n",
    "                    )\n",
    "\n",
    "            ax.set_title( year_list[idx] )\n",
    "\n",
    "            idx = idx + 1\n",
    "            \n",
    "        # if idx is major to number of elements        \n",
    "        else:\n",
    "        \n",
    "            axis[i,j].axis('off')\n",
    "            idx = idx + 1\n",
    "            \n",
    "fig.suptitle('Dengue Cases by Year')\n",
    "fig.tight_layout()"
   ]
  },
  {
   "cell_type": "markdown",
   "id": "01144fe6",
   "metadata": {},
   "source": [
    "# Cases by department and 2021 quarters"
   ]
  },
  {
   "cell_type": "code",
   "execution_count": null,
   "id": "88652f4b",
   "metadata": {},
   "outputs": [],
   "source": []
  }
 ],
 "metadata": {
  "kernelspec": {
   "display_name": "Python 3",
   "language": "python",
   "name": "python3"
  },
  "language_info": {
   "codemirror_mode": {
    "name": "ipython",
    "version": 3
   },
   "file_extension": ".py",
   "mimetype": "text/x-python",
   "name": "python",
   "nbconvert_exporter": "python",
   "pygments_lexer": "ipython3",
   "version": "3.8.8"
  }
 },
 "nbformat": 4,
 "nbformat_minor": 5
}
