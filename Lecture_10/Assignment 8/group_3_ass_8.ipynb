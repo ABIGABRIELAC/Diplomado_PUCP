{
 "cells": [
  {
   "cell_type": "code",
   "execution_count": 28,
   "id": "4f6c9769",
   "metadata": {},
   "outputs": [
    {
     "data": {
      "text/html": [
       "\n",
       "<style>\n",
       "    div#notebook-container    { width: 95%; }\n",
       "    div#menubar-container     { width: 65%; }\n",
       "    div#maintoolbar-container { width: 99%; }a\n",
       "</style>\n"
      ],
      "text/plain": [
       "<IPython.core.display.HTML object>"
      ]
     },
     "metadata": {},
     "output_type": "display_data"
    }
   ],
   "source": [
    "from IPython.display import display, HTML\n",
    "\n",
    "display(HTML(data=\"\"\"\n",
    "<style>\n",
    "    div#notebook-container    { width: 95%; }\n",
    "    div#menubar-container     { width: 65%; }\n",
    "    div#maintoolbar-container { width: 99%; }a\n",
    "</style>\n",
    "\"\"\"))"
   ]
  },
  {
   "cell_type": "code",
   "execution_count": 1,
   "id": "cb09e4cd",
   "metadata": {},
   "outputs": [],
   "source": [
    "import pandas as pd\n",
    "from pandas import Series, DataFrame\n",
    "import numpy as np\n",
    "import matplotlib.pyplot as plt \n",
    "import chardet"
   ]
  },
  {
   "cell_type": "code",
   "execution_count": 2,
   "id": "9414ddaf",
   "metadata": {},
   "outputs": [],
   "source": [
    "import geopandas as gpd\n",
    "from geopandas import GeoSeries\n",
    "from shapely.geometry import Point, LineString\n",
    "import folium \n",
    "from folium import Marker, GeoJson\n",
    "from folium.plugins import MarkerCluster, HeatMap"
   ]
  },
  {
   "cell_type": "markdown",
   "id": "7a7e3969",
   "metadata": {},
   "source": [
    "#### 2. Import the data located at this link. It has information on people infected with dengue at the district level for 2015 to 2021."
   ]
  },
  {
   "cell_type": "code",
   "execution_count": 24,
   "id": "718c8896",
   "metadata": {},
   "outputs": [
    {
     "name": "stderr",
     "output_type": "stream",
     "text": [
      "C:\\Users\\Liliana\\AppData\\Local\\Temp\\ipykernel_12296\\1423518656.py:1: DtypeWarning: Columns (7) have mixed types. Specify dtype option on import or set low_memory=False.\n",
      "  dengue = pd.read_csv(r'../../_data/data_dengue_peru.csv')\n"
     ]
    },
    {
     "data": {
      "text/html": [
       "<div>\n",
       "<style scoped>\n",
       "    .dataframe tbody tr th:only-of-type {\n",
       "        vertical-align: middle;\n",
       "    }\n",
       "\n",
       "    .dataframe tbody tr th {\n",
       "        vertical-align: top;\n",
       "    }\n",
       "\n",
       "    .dataframe thead th {\n",
       "        text-align: right;\n",
       "    }\n",
       "</style>\n",
       "<table border=\"1\" class=\"dataframe\">\n",
       "  <thead>\n",
       "    <tr style=\"text-align: right;\">\n",
       "      <th></th>\n",
       "      <th>Año</th>\n",
       "      <th>Semana</th>\n",
       "      <th>Eventos o daños</th>\n",
       "      <th>Departamento</th>\n",
       "      <th>Distrito</th>\n",
       "      <th>Provincia</th>\n",
       "      <th>Ubigeo</th>\n",
       "      <th>Casos</th>\n",
       "    </tr>\n",
       "  </thead>\n",
       "  <tbody>\n",
       "    <tr>\n",
       "      <th>0</th>\n",
       "      <td>2020</td>\n",
       "      <td>43</td>\n",
       "      <td>Dengue</td>\n",
       "      <td>CUSCO</td>\n",
       "      <td>MEGANTONI</td>\n",
       "      <td>LA CONVENCION</td>\n",
       "      <td>80914</td>\n",
       "      <td>2.0</td>\n",
       "    </tr>\n",
       "    <tr>\n",
       "      <th>1</th>\n",
       "      <td>2021</td>\n",
       "      <td>41</td>\n",
       "      <td>Dengue</td>\n",
       "      <td>MOQUEGUA</td>\n",
       "      <td>MOQUEGUA</td>\n",
       "      <td>MARISCAL NIETO</td>\n",
       "      <td>180101</td>\n",
       "      <td>NaN</td>\n",
       "    </tr>\n",
       "    <tr>\n",
       "      <th>2</th>\n",
       "      <td>2021</td>\n",
       "      <td>42</td>\n",
       "      <td>Dengue</td>\n",
       "      <td>MOQUEGUA</td>\n",
       "      <td>MOQUEGUA</td>\n",
       "      <td>MARISCAL NIETO</td>\n",
       "      <td>180101</td>\n",
       "      <td>NaN</td>\n",
       "    </tr>\n",
       "  </tbody>\n",
       "</table>\n",
       "</div>"
      ],
      "text/plain": [
       "    Año  Semana Eventos o daños Departamento   Distrito       Provincia  \\\n",
       "0  2020      43          Dengue        CUSCO  MEGANTONI   LA CONVENCION   \n",
       "1  2021      41          Dengue     MOQUEGUA   MOQUEGUA  MARISCAL NIETO   \n",
       "2  2021      42          Dengue     MOQUEGUA   MOQUEGUA  MARISCAL NIETO   \n",
       "\n",
       "   Ubigeo Casos  \n",
       "0   80914   2.0  \n",
       "1  180101   NaN  \n",
       "2  180101   NaN  "
      ]
     },
     "execution_count": 24,
     "metadata": {},
     "output_type": "execute_result"
    }
   ],
   "source": [
    "dengue = pd.read_csv(r'../../_data/data_dengue_peru.csv')\n",
    "dengue.head (3)"
   ]
  },
  {
   "cell_type": "code",
   "execution_count": 27,
   "id": "8d93ab7c",
   "metadata": {},
   "outputs": [
    {
     "data": {
      "text/plain": [
       "Año                 int64\n",
       "Semana              int64\n",
       "Eventos o daños    object\n",
       "Departamento       object\n",
       "Distrito           object\n",
       "Provincia          object\n",
       "Ubigeo              int64\n",
       "Casos              object\n",
       "Dpt_Ubigeo         object\n",
       "Prv_Ubigeo         object\n",
       "dtype: object"
      ]
     },
     "execution_count": 27,
     "metadata": {},
     "output_type": "execute_result"
    }
   ],
   "source": [
    "dengue.dtypes"
   ]
  },
  {
   "cell_type": "code",
   "execution_count": 29,
   "id": "348bca15",
   "metadata": {},
   "outputs": [
    {
     "data": {
      "text/html": [
       "<div>\n",
       "<style scoped>\n",
       "    .dataframe tbody tr th:only-of-type {\n",
       "        vertical-align: middle;\n",
       "    }\n",
       "\n",
       "    .dataframe tbody tr th {\n",
       "        vertical-align: top;\n",
       "    }\n",
       "\n",
       "    .dataframe thead th {\n",
       "        text-align: right;\n",
       "    }\n",
       "</style>\n",
       "<table border=\"1\" class=\"dataframe\">\n",
       "  <thead>\n",
       "    <tr style=\"text-align: right;\">\n",
       "      <th></th>\n",
       "      <th>Año</th>\n",
       "      <th>Semana</th>\n",
       "      <th>Eventos o daños</th>\n",
       "      <th>Departamento</th>\n",
       "      <th>Distrito</th>\n",
       "      <th>Provincia</th>\n",
       "      <th>Ubigeo</th>\n",
       "      <th>Casos</th>\n",
       "      <th>Dpt_Ubigeo</th>\n",
       "      <th>Prv_Ubigeo</th>\n",
       "    </tr>\n",
       "  </thead>\n",
       "  <tbody>\n",
       "    <tr>\n",
       "      <th>0</th>\n",
       "      <td>2020</td>\n",
       "      <td>43</td>\n",
       "      <td>Dengue</td>\n",
       "      <td>CUSCO</td>\n",
       "      <td>MEGANTONI</td>\n",
       "      <td>LA CONVENCION</td>\n",
       "      <td>80914</td>\n",
       "      <td>2.0</td>\n",
       "      <td>80</td>\n",
       "      <td>1</td>\n",
       "    </tr>\n",
       "    <tr>\n",
       "      <th>3</th>\n",
       "      <td>2020</td>\n",
       "      <td>1</td>\n",
       "      <td>Dengue</td>\n",
       "      <td>CUSCO</td>\n",
       "      <td>MEGANTONI</td>\n",
       "      <td>LA CONVENCION</td>\n",
       "      <td>80914</td>\n",
       "      <td>0.0</td>\n",
       "      <td>80</td>\n",
       "      <td>1</td>\n",
       "    </tr>\n",
       "    <tr>\n",
       "      <th>4</th>\n",
       "      <td>2020</td>\n",
       "      <td>53</td>\n",
       "      <td>Dengue</td>\n",
       "      <td>CUSCO</td>\n",
       "      <td>MEGANTONI</td>\n",
       "      <td>LA CONVENCION</td>\n",
       "      <td>80914</td>\n",
       "      <td>2.0</td>\n",
       "      <td>80</td>\n",
       "      <td>1</td>\n",
       "    </tr>\n",
       "    <tr>\n",
       "      <th>5</th>\n",
       "      <td>2020</td>\n",
       "      <td>47</td>\n",
       "      <td>Dengue</td>\n",
       "      <td>CUSCO</td>\n",
       "      <td>MEGANTONI</td>\n",
       "      <td>LA CONVENCION</td>\n",
       "      <td>80914</td>\n",
       "      <td>7.0</td>\n",
       "      <td>80</td>\n",
       "      <td>1</td>\n",
       "    </tr>\n",
       "    <tr>\n",
       "      <th>16</th>\n",
       "      <td>2020</td>\n",
       "      <td>1</td>\n",
       "      <td>Dengue</td>\n",
       "      <td>LIMA</td>\n",
       "      <td>LIMA</td>\n",
       "      <td>LIMA</td>\n",
       "      <td>150101</td>\n",
       "      <td>0.0</td>\n",
       "      <td>15</td>\n",
       "      <td>1</td>\n",
       "    </tr>\n",
       "    <tr>\n",
       "      <th>...</th>\n",
       "      <td>...</td>\n",
       "      <td>...</td>\n",
       "      <td>...</td>\n",
       "      <td>...</td>\n",
       "      <td>...</td>\n",
       "      <td>...</td>\n",
       "      <td>...</td>\n",
       "      <td>...</td>\n",
       "      <td>...</td>\n",
       "      <td>...</td>\n",
       "    </tr>\n",
       "    <tr>\n",
       "      <th>172093</th>\n",
       "      <td>2020</td>\n",
       "      <td>53</td>\n",
       "      <td>Dengue</td>\n",
       "      <td>ANCASH</td>\n",
       "      <td>CHIMBOTE</td>\n",
       "      <td>SANTA</td>\n",
       "      <td>21801</td>\n",
       "      <td>0.0</td>\n",
       "      <td>21</td>\n",
       "      <td>0</td>\n",
       "    </tr>\n",
       "    <tr>\n",
       "      <th>172094</th>\n",
       "      <td>2020</td>\n",
       "      <td>53</td>\n",
       "      <td>Dengue</td>\n",
       "      <td>ANCASH</td>\n",
       "      <td>COISHCO</td>\n",
       "      <td>SANTA</td>\n",
       "      <td>21803</td>\n",
       "      <td>0.0</td>\n",
       "      <td>21</td>\n",
       "      <td>0</td>\n",
       "    </tr>\n",
       "    <tr>\n",
       "      <th>172095</th>\n",
       "      <td>2020</td>\n",
       "      <td>53</td>\n",
       "      <td>Dengue</td>\n",
       "      <td>ANCASH</td>\n",
       "      <td>NEPEÑA</td>\n",
       "      <td>SANTA</td>\n",
       "      <td>21806</td>\n",
       "      <td>0.0</td>\n",
       "      <td>21</td>\n",
       "      <td>0</td>\n",
       "    </tr>\n",
       "    <tr>\n",
       "      <th>172096</th>\n",
       "      <td>2020</td>\n",
       "      <td>53</td>\n",
       "      <td>Dengue</td>\n",
       "      <td>ANCASH</td>\n",
       "      <td>SANTA</td>\n",
       "      <td>SANTA</td>\n",
       "      <td>21808</td>\n",
       "      <td>0.0</td>\n",
       "      <td>21</td>\n",
       "      <td>0</td>\n",
       "    </tr>\n",
       "    <tr>\n",
       "      <th>172097</th>\n",
       "      <td>2020</td>\n",
       "      <td>53</td>\n",
       "      <td>Dengue</td>\n",
       "      <td>ANCASH</td>\n",
       "      <td>NUEVO CHIMBOTE</td>\n",
       "      <td>SANTA</td>\n",
       "      <td>21809</td>\n",
       "      <td>0.0</td>\n",
       "      <td>21</td>\n",
       "      <td>0</td>\n",
       "    </tr>\n",
       "  </tbody>\n",
       "</table>\n",
       "<p>24751 rows × 10 columns</p>\n",
       "</div>"
      ],
      "text/plain": [
       "         Año  Semana Eventos o daños Departamento        Distrito  \\\n",
       "0       2020      43          Dengue        CUSCO       MEGANTONI   \n",
       "3       2020       1          Dengue        CUSCO       MEGANTONI   \n",
       "4       2020      53          Dengue        CUSCO       MEGANTONI   \n",
       "5       2020      47          Dengue        CUSCO       MEGANTONI   \n",
       "16      2020       1          Dengue         LIMA            LIMA   \n",
       "...      ...     ...             ...          ...             ...   \n",
       "172093  2020      53          Dengue       ANCASH        CHIMBOTE   \n",
       "172094  2020      53          Dengue       ANCASH         COISHCO   \n",
       "172095  2020      53          Dengue       ANCASH          NEPEÑA   \n",
       "172096  2020      53          Dengue       ANCASH           SANTA   \n",
       "172097  2020      53          Dengue       ANCASH  NUEVO CHIMBOTE   \n",
       "\n",
       "            Provincia  Ubigeo Casos Dpt_Ubigeo Prv_Ubigeo  \n",
       "0       LA CONVENCION   80914   2.0         80          1  \n",
       "3       LA CONVENCION   80914   0.0         80          1  \n",
       "4       LA CONVENCION   80914   2.0         80          1  \n",
       "5       LA CONVENCION   80914   7.0         80          1  \n",
       "16               LIMA  150101   0.0         15          1  \n",
       "...               ...     ...   ...        ...        ...  \n",
       "172093          SANTA   21801   0.0         21          0  \n",
       "172094          SANTA   21803   0.0         21          0  \n",
       "172095          SANTA   21806   0.0         21          0  \n",
       "172096          SANTA   21808   0.0         21          0  \n",
       "172097          SANTA   21809   0.0         21          0  \n",
       "\n",
       "[24751 rows x 10 columns]"
      ]
     },
     "execution_count": 29,
     "metadata": {},
     "output_type": "execute_result"
    }
   ],
   "source": [
    "dengue[dengue.Año == 2020]"
   ]
  },
  {
   "cell_type": "markdown",
   "id": "32caf2b4",
   "metadata": {},
   "source": [
    "#### 3. Generate ubigeo for Departments and Provinces taking the first two and four numbers."
   ]
  },
  {
   "cell_type": "code",
   "execution_count": 25,
   "id": "77283411",
   "metadata": {},
   "outputs": [],
   "source": [
    "dengue['Dpt_Ubigeo'] = dengue['Ubigeo'].astype(str).str[0:2]"
   ]
  },
  {
   "cell_type": "code",
   "execution_count": 26,
   "id": "33e3c5e7",
   "metadata": {},
   "outputs": [],
   "source": [
    "dengue['Prv_Ubigeo'] = dengue['Ubigeo'].astype(str).str[3]"
   ]
  },
  {
   "cell_type": "markdown",
   "id": "1799a1db",
   "metadata": {},
   "source": [
    "#### 4. Use geopandas to plot the number of cases in 2021 by the district using a continuous legend. Do not forget to indicate the color of NA values. Use this shapefile."
   ]
  },
  {
   "cell_type": "code",
   "execution_count": null,
   "id": "3d2318ea",
   "metadata": {},
   "outputs": [],
   "source": []
  },
  {
   "cell_type": "code",
   "execution_count": null,
   "id": "e3492582",
   "metadata": {},
   "outputs": [],
   "source": []
  },
  {
   "cell_type": "code",
   "execution_count": null,
   "id": "a1f16603",
   "metadata": {},
   "outputs": [],
   "source": []
  },
  {
   "cell_type": "code",
   "execution_count": null,
   "id": "c9fadcc0",
   "metadata": {},
   "outputs": [],
   "source": []
  },
  {
   "cell_type": "code",
   "execution_count": null,
   "id": "36c91c70",
   "metadata": {},
   "outputs": [],
   "source": []
  },
  {
   "cell_type": "markdown",
   "id": "340c5caf",
   "metadata": {},
   "source": [
    "#### 5. Use geopandas to plot the number of cases in 2021by the province using a continuous legend. Do not forget to indicate the color of NA values. Use this shapefile. For this task, you will have to aggregate shapefiles at the province level."
   ]
  },
  {
   "cell_type": "markdown",
   "id": "da7bed70",
   "metadata": {},
   "source": [
    "#### 6. Use geopandas to plot the number of cases by the department for all the years using subplots. Every subplot for each year. Do not forget to indicate the color of NA values. Use this shapefile. For this task, you will have to aggregate shapefiles at the department level."
   ]
  },
  {
   "cell_type": "code",
   "execution_count": null,
   "id": "30d6376b",
   "metadata": {},
   "outputs": [],
   "source": []
  },
  {
   "cell_type": "code",
   "execution_count": null,
   "id": "0cb551e8",
   "metadata": {},
   "outputs": [],
   "source": []
  },
  {
   "cell_type": "code",
   "execution_count": null,
   "id": "ce16b2a5",
   "metadata": {},
   "outputs": [],
   "source": []
  }
 ],
 "metadata": {
  "kernelspec": {
   "display_name": "Python 3 (ipykernel)",
   "language": "python",
   "name": "python3"
  },
  "language_info": {
   "codemirror_mode": {
    "name": "ipython",
    "version": 3
   },
   "file_extension": ".py",
   "mimetype": "text/x-python",
   "name": "python",
   "nbconvert_exporter": "python",
   "pygments_lexer": "ipython3",
   "version": "3.9.9"
  }
 },
 "nbformat": 4,
 "nbformat_minor": 5
}
