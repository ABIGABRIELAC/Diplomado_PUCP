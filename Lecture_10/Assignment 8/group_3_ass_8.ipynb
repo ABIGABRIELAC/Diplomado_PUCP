{
 "cells": [
  {
   "cell_type": "code",
   "execution_count": 28,
   "id": "3cc97ccf",
   "metadata": {},
   "outputs": [
    {
     "data": {
      "text/html": [
       "\n",
       "<style>\n",
       "    div#notebook-container    { width: 95%; }\n",
       "    div#menubar-container     { width: 65%; }\n",
       "    div#maintoolbar-container { width: 99%; }a\n",
       "</style>\n"
      ],
      "text/plain": [
       "<IPython.core.display.HTML object>"
      ]
     },
     "metadata": {},
     "output_type": "display_data"
    }
   ],
   "source": [
    "from IPython.display import display, HTML\n",
    "\n",
    "display(HTML(data=\"\"\"\n",
    "<style>\n",
    "    div#notebook-container    { width: 95%; }\n",
    "    div#menubar-container     { width: 65%; }\n",
    "    div#maintoolbar-container { width: 99%; }a\n",
    "</style>\n",
    "\"\"\"))"
   ]
  },
  {
   "cell_type": "code",
   "execution_count": 1,
   "id": "5d6b4279",
   "metadata": {},
   "outputs": [],
   "source": [
    "import pandas as pd\n",
    "from pandas import Series, DataFrame\n",
    "import numpy as np\n",
    "import matplotlib.pyplot as plt \n",
    "import chardet"
   ]
  },
  {
   "cell_type": "code",
   "execution_count": 2,
   "id": "834dc33f",
   "metadata": {},
   "outputs": [],
   "source": [
    "import geopandas as gpd\n",
    "from geopandas import GeoSeries\n",
    "from shapely.geometry import Point, LineString\n",
    "import folium \n",
    "from folium import Marker, GeoJson\n",
    "from folium.plugins import MarkerCluster, HeatMap"
   ]
  },
  {
   "cell_type": "markdown",
   "id": "d25fdf99",
   "metadata": {},
   "source": [
    "#### 2. Import the data located at this link. It has information on people infected with dengue at the district level for 2015 to 2021."
   ]
  },
  {
   "cell_type": "code",
   "execution_count": 3,
   "id": "e96aa21a",
   "metadata": {},
   "outputs": [
    {
     "data": {
      "text/plain": [
       "'UTF-8-SIG'"
      ]
     },
     "execution_count": 3,
     "metadata": {},
     "output_type": "execute_result"
    }
   ],
   "source": [
    "base = open(r'../../_data/data_dengue_peru.csv', 'rb').read()\n",
    "det = chardet.detect(base)\n",
    "charenc = det['encoding']\n",
    "charenc"
   ]
  },
  {
   "cell_type": "code",
   "execution_count": 4,
   "id": "102c9561",
   "metadata": {},
   "outputs": [
    {
     "data": {
      "text/html": [
       "<div>\n",
       "<style scoped>\n",
       "    .dataframe tbody tr th:only-of-type {\n",
       "        vertical-align: middle;\n",
       "    }\n",
       "\n",
       "    .dataframe tbody tr th {\n",
       "        vertical-align: top;\n",
       "    }\n",
       "\n",
       "    .dataframe thead th {\n",
       "        text-align: right;\n",
       "    }\n",
       "</style>\n",
       "<table border=\"1\" class=\"dataframe\">\n",
       "  <thead>\n",
       "    <tr style=\"text-align: right;\">\n",
       "      <th></th>\n",
       "      <th>Año</th>\n",
       "      <th>Semana</th>\n",
       "      <th>Eventos o daños</th>\n",
       "      <th>Departamento</th>\n",
       "      <th>Distrito</th>\n",
       "      <th>Provincia</th>\n",
       "      <th>Ubigeo</th>\n",
       "      <th>Casos</th>\n",
       "    </tr>\n",
       "  </thead>\n",
       "  <tbody>\n",
       "    <tr>\n",
       "      <th>0</th>\n",
       "      <td>2020</td>\n",
       "      <td>43</td>\n",
       "      <td>Dengue</td>\n",
       "      <td>CUSCO</td>\n",
       "      <td>MEGANTONI</td>\n",
       "      <td>LA CONVENCION</td>\n",
       "      <td>080914</td>\n",
       "      <td>2.0</td>\n",
       "    </tr>\n",
       "    <tr>\n",
       "      <th>1</th>\n",
       "      <td>2021</td>\n",
       "      <td>41</td>\n",
       "      <td>Dengue</td>\n",
       "      <td>MOQUEGUA</td>\n",
       "      <td>MOQUEGUA</td>\n",
       "      <td>MARISCAL NIETO</td>\n",
       "      <td>180101</td>\n",
       "      <td>NaN</td>\n",
       "    </tr>\n",
       "    <tr>\n",
       "      <th>2</th>\n",
       "      <td>2021</td>\n",
       "      <td>42</td>\n",
       "      <td>Dengue</td>\n",
       "      <td>MOQUEGUA</td>\n",
       "      <td>MOQUEGUA</td>\n",
       "      <td>MARISCAL NIETO</td>\n",
       "      <td>180101</td>\n",
       "      <td>NaN</td>\n",
       "    </tr>\n",
       "    <tr>\n",
       "      <th>3</th>\n",
       "      <td>2020</td>\n",
       "      <td>1</td>\n",
       "      <td>Dengue</td>\n",
       "      <td>CUSCO</td>\n",
       "      <td>MEGANTONI</td>\n",
       "      <td>LA CONVENCION</td>\n",
       "      <td>080914</td>\n",
       "      <td>0.0</td>\n",
       "    </tr>\n",
       "    <tr>\n",
       "      <th>4</th>\n",
       "      <td>2020</td>\n",
       "      <td>53</td>\n",
       "      <td>Dengue</td>\n",
       "      <td>CUSCO</td>\n",
       "      <td>MEGANTONI</td>\n",
       "      <td>LA CONVENCION</td>\n",
       "      <td>080914</td>\n",
       "      <td>2.0</td>\n",
       "    </tr>\n",
       "  </tbody>\n",
       "</table>\n",
       "</div>"
      ],
      "text/plain": [
       "    Año  Semana Eventos o daños Departamento   Distrito       Provincia  \\\n",
       "0  2020      43          Dengue        CUSCO  MEGANTONI   LA CONVENCION   \n",
       "1  2021      41          Dengue     MOQUEGUA   MOQUEGUA  MARISCAL NIETO   \n",
       "2  2021      42          Dengue     MOQUEGUA   MOQUEGUA  MARISCAL NIETO   \n",
       "3  2020       1          Dengue        CUSCO  MEGANTONI   LA CONVENCION   \n",
       "4  2020      53          Dengue        CUSCO  MEGANTONI   LA CONVENCION   \n",
       "\n",
       "   Ubigeo  Casos  \n",
       "0  080914    2.0  \n",
       "1  180101    NaN  \n",
       "2  180101    NaN  \n",
       "3  080914    0.0  \n",
       "4  080914    2.0  "
      ]
     },
     "execution_count": 4,
     "metadata": {},
     "output_type": "execute_result"
    }
   ],
   "source": [
    "dengue = pd.read_csv( r'../../_data/data_dengue_peru.csv', encoding = charenc, thousands = \",\", dtype= {\"Ubigeo\":\"str\"})\n",
    "dengue.head( 5 )"
   ]
  },
  {
   "cell_type": "markdown",
   "id": "8a757b3e",
   "metadata": {},
   "source": [
    "#### 3. Generate ubigeo for Departments and Provinces taking the first two and four numbers."
   ]
  },
  {
   "cell_type": "code",
   "execution_count": 5,
   "id": "eedae621",
   "metadata": {},
   "outputs": [],
   "source": [
    "dengue['Dpt_Ubigeo'] = dengue['Ubigeo'].astype(str).str[0:2]\n",
    "dengue['Prv_Ubigeo'] = dengue['Ubigeo'].astype(str).str[0:4]"
   ]
  },
  {
   "cell_type": "code",
   "execution_count": 6,
   "id": "f5a6d109",
   "metadata": {},
   "outputs": [
    {
     "data": {
      "text/html": [
       "<div>\n",
       "<style scoped>\n",
       "    .dataframe tbody tr th:only-of-type {\n",
       "        vertical-align: middle;\n",
       "    }\n",
       "\n",
       "    .dataframe tbody tr th {\n",
       "        vertical-align: top;\n",
       "    }\n",
       "\n",
       "    .dataframe thead th {\n",
       "        text-align: right;\n",
       "    }\n",
       "</style>\n",
       "<table border=\"1\" class=\"dataframe\">\n",
       "  <thead>\n",
       "    <tr style=\"text-align: right;\">\n",
       "      <th></th>\n",
       "      <th>Año</th>\n",
       "      <th>Semana</th>\n",
       "      <th>Eventos o daños</th>\n",
       "      <th>Departamento</th>\n",
       "      <th>Distrito</th>\n",
       "      <th>Provincia</th>\n",
       "      <th>Ubigeo</th>\n",
       "      <th>Casos</th>\n",
       "      <th>Dpt_Ubigeo</th>\n",
       "      <th>Prv_Ubigeo</th>\n",
       "    </tr>\n",
       "  </thead>\n",
       "  <tbody>\n",
       "    <tr>\n",
       "      <th>0</th>\n",
       "      <td>2020</td>\n",
       "      <td>43</td>\n",
       "      <td>Dengue</td>\n",
       "      <td>CUSCO</td>\n",
       "      <td>MEGANTONI</td>\n",
       "      <td>LA CONVENCION</td>\n",
       "      <td>080914</td>\n",
       "      <td>2.0</td>\n",
       "      <td>08</td>\n",
       "      <td>0809</td>\n",
       "    </tr>\n",
       "    <tr>\n",
       "      <th>1</th>\n",
       "      <td>2021</td>\n",
       "      <td>41</td>\n",
       "      <td>Dengue</td>\n",
       "      <td>MOQUEGUA</td>\n",
       "      <td>MOQUEGUA</td>\n",
       "      <td>MARISCAL NIETO</td>\n",
       "      <td>180101</td>\n",
       "      <td>NaN</td>\n",
       "      <td>18</td>\n",
       "      <td>1801</td>\n",
       "    </tr>\n",
       "    <tr>\n",
       "      <th>2</th>\n",
       "      <td>2021</td>\n",
       "      <td>42</td>\n",
       "      <td>Dengue</td>\n",
       "      <td>MOQUEGUA</td>\n",
       "      <td>MOQUEGUA</td>\n",
       "      <td>MARISCAL NIETO</td>\n",
       "      <td>180101</td>\n",
       "      <td>NaN</td>\n",
       "      <td>18</td>\n",
       "      <td>1801</td>\n",
       "    </tr>\n",
       "  </tbody>\n",
       "</table>\n",
       "</div>"
      ],
      "text/plain": [
       "    Año  Semana Eventos o daños Departamento   Distrito       Provincia  \\\n",
       "0  2020      43          Dengue        CUSCO  MEGANTONI   LA CONVENCION   \n",
       "1  2021      41          Dengue     MOQUEGUA   MOQUEGUA  MARISCAL NIETO   \n",
       "2  2021      42          Dengue     MOQUEGUA   MOQUEGUA  MARISCAL NIETO   \n",
       "\n",
       "   Ubigeo  Casos Dpt_Ubigeo Prv_Ubigeo  \n",
       "0  080914    2.0         08       0809  \n",
       "1  180101    NaN         18       1801  \n",
       "2  180101    NaN         18       1801  "
      ]
     },
     "execution_count": 6,
     "metadata": {},
     "output_type": "execute_result"
    }
   ],
   "source": [
    "dengue.head(3)"
   ]
  },
  {
   "cell_type": "markdown",
   "id": "956216a0",
   "metadata": {},
   "source": [
    "#### 4. Use geopandas to plot the number of cases in 2021 by the district using a continuous legend. Do not forget to indicate the color of NA values. Use this shapefile."
   ]
  },
  {
   "cell_type": "code",
   "execution_count": 7,
   "id": "feb8993b",
   "metadata": {},
   "outputs": [
    {
     "data": {
      "text/html": [
       "<div>\n",
       "<style scoped>\n",
       "    .dataframe tbody tr th:only-of-type {\n",
       "        vertical-align: middle;\n",
       "    }\n",
       "\n",
       "    .dataframe tbody tr th {\n",
       "        vertical-align: top;\n",
       "    }\n",
       "\n",
       "    .dataframe thead th {\n",
       "        text-align: right;\n",
       "    }\n",
       "</style>\n",
       "<table border=\"1\" class=\"dataframe\">\n",
       "  <thead>\n",
       "    <tr style=\"text-align: right;\">\n",
       "      <th></th>\n",
       "      <th>CCDD</th>\n",
       "      <th>NOMBDEP</th>\n",
       "      <th>CCPP</th>\n",
       "      <th>NOMBPROV</th>\n",
       "      <th>CCDI</th>\n",
       "      <th>NOMBDIST</th>\n",
       "      <th>CAPITAL</th>\n",
       "      <th>UBIGEO</th>\n",
       "      <th>IDPROV</th>\n",
       "      <th>CODIGO</th>\n",
       "      <th>CNT_CCPP</th>\n",
       "      <th>DESCRIPCIO</th>\n",
       "      <th>DESCARGAR</th>\n",
       "      <th>WHATSAPP</th>\n",
       "      <th>CONTACTO</th>\n",
       "      <th>geometry</th>\n",
       "    </tr>\n",
       "  </thead>\n",
       "  <tbody>\n",
       "    <tr>\n",
       "      <th>0</th>\n",
       "      <td>06</td>\n",
       "      <td>CAJAMARCA</td>\n",
       "      <td>05</td>\n",
       "      <td>CONTUMAZA</td>\n",
       "      <td>04</td>\n",
       "      <td>GUZMANGO</td>\n",
       "      <td>GUZMANGO</td>\n",
       "      <td>060504</td>\n",
       "      <td>0605</td>\n",
       "      <td>060504</td>\n",
       "      <td>50</td>\n",
       "      <td>GUZMANGO</td>\n",
       "      <td>www.geogpsperu.com</td>\n",
       "      <td>931381206</td>\n",
       "      <td>juan.suyo@geogpsperu.com</td>\n",
       "      <td>POLYGON ((-78.91578 -7.32085, -78.91370 -7.322...</td>\n",
       "    </tr>\n",
       "    <tr>\n",
       "      <th>1</th>\n",
       "      <td>06</td>\n",
       "      <td>CAJAMARCA</td>\n",
       "      <td>11</td>\n",
       "      <td>SAN MIGUEL</td>\n",
       "      <td>05</td>\n",
       "      <td>EL PRADO</td>\n",
       "      <td>EL PRADO</td>\n",
       "      <td>061105</td>\n",
       "      <td>0611</td>\n",
       "      <td>061105</td>\n",
       "      <td>15</td>\n",
       "      <td>EL PRADO</td>\n",
       "      <td>www.geogpsperu.com</td>\n",
       "      <td>931381206</td>\n",
       "      <td>juan.suyo@geogpsperu.com</td>\n",
       "      <td>POLYGON ((-79.01679 -6.96945, -79.01581 -6.969...</td>\n",
       "    </tr>\n",
       "    <tr>\n",
       "      <th>2</th>\n",
       "      <td>06</td>\n",
       "      <td>CAJAMARCA</td>\n",
       "      <td>11</td>\n",
       "      <td>SAN MIGUEL</td>\n",
       "      <td>09</td>\n",
       "      <td>NIEPOS</td>\n",
       "      <td>NIEPOS</td>\n",
       "      <td>061109</td>\n",
       "      <td>0611</td>\n",
       "      <td>061109</td>\n",
       "      <td>41</td>\n",
       "      <td>NIEPOS</td>\n",
       "      <td>www.geogpsperu.com</td>\n",
       "      <td>931381206</td>\n",
       "      <td>juan.suyo@geogpsperu.com</td>\n",
       "      <td>POLYGON ((-79.21691 -6.85171, -79.21576 -6.851...</td>\n",
       "    </tr>\n",
       "  </tbody>\n",
       "</table>\n",
       "</div>"
      ],
      "text/plain": [
       "  CCDD    NOMBDEP CCPP    NOMBPROV CCDI  NOMBDIST   CAPITAL  UBIGEO IDPROV  \\\n",
       "0   06  CAJAMARCA   05   CONTUMAZA   04  GUZMANGO  GUZMANGO  060504   0605   \n",
       "1   06  CAJAMARCA   11  SAN MIGUEL   05  EL PRADO  EL PRADO  061105   0611   \n",
       "2   06  CAJAMARCA   11  SAN MIGUEL   09    NIEPOS    NIEPOS  061109   0611   \n",
       "\n",
       "   CODIGO  CNT_CCPP DESCRIPCIO           DESCARGAR   WHATSAPP  \\\n",
       "0  060504        50   GUZMANGO  www.geogpsperu.com  931381206   \n",
       "1  061105        15   EL PRADO  www.geogpsperu.com  931381206   \n",
       "2  061109        41     NIEPOS  www.geogpsperu.com  931381206   \n",
       "\n",
       "                   CONTACTO                                           geometry  \n",
       "0  juan.suyo@geogpsperu.com  POLYGON ((-78.91578 -7.32085, -78.91370 -7.322...  \n",
       "1  juan.suyo@geogpsperu.com  POLYGON ((-79.01679 -6.96945, -79.01581 -6.969...  \n",
       "2  juan.suyo@geogpsperu.com  POLYGON ((-79.21691 -6.85171, -79.21576 -6.851...  "
      ]
     },
     "execution_count": 7,
     "metadata": {},
     "output_type": "execute_result"
    }
   ],
   "source": [
    "distritos = gpd.read_file(r'../../_data/LIMITE_DISTRITAL_2020_INEI/INEI_LIMITE_DISTRITAL.shp')\n",
    "distritos.head(3)"
   ]
  },
  {
   "cell_type": "code",
   "execution_count": 8,
   "id": "de3d0f11",
   "metadata": {},
   "outputs": [
    {
     "data": {
      "text/html": [
       "<div>\n",
       "<style scoped>\n",
       "    .dataframe tbody tr th:only-of-type {\n",
       "        vertical-align: middle;\n",
       "    }\n",
       "\n",
       "    .dataframe tbody tr th {\n",
       "        vertical-align: top;\n",
       "    }\n",
       "\n",
       "    .dataframe thead th {\n",
       "        text-align: right;\n",
       "    }\n",
       "</style>\n",
       "<table border=\"1\" class=\"dataframe\">\n",
       "  <thead>\n",
       "    <tr style=\"text-align: right;\">\n",
       "      <th></th>\n",
       "      <th>Año</th>\n",
       "      <th>Semana</th>\n",
       "      <th>Eventos o daños</th>\n",
       "      <th>Departamento</th>\n",
       "      <th>Distrito</th>\n",
       "      <th>Provincia</th>\n",
       "      <th>Ubigeo</th>\n",
       "      <th>Casos</th>\n",
       "      <th>Dpt_Ubigeo</th>\n",
       "      <th>Prv_Ubigeo</th>\n",
       "    </tr>\n",
       "  </thead>\n",
       "  <tbody>\n",
       "    <tr>\n",
       "      <th>1</th>\n",
       "      <td>2021</td>\n",
       "      <td>41</td>\n",
       "      <td>Dengue</td>\n",
       "      <td>MOQUEGUA</td>\n",
       "      <td>MOQUEGUA</td>\n",
       "      <td>MARISCAL NIETO</td>\n",
       "      <td>180101</td>\n",
       "      <td>NaN</td>\n",
       "      <td>18</td>\n",
       "      <td>1801</td>\n",
       "    </tr>\n",
       "    <tr>\n",
       "      <th>2</th>\n",
       "      <td>2021</td>\n",
       "      <td>42</td>\n",
       "      <td>Dengue</td>\n",
       "      <td>MOQUEGUA</td>\n",
       "      <td>MOQUEGUA</td>\n",
       "      <td>MARISCAL NIETO</td>\n",
       "      <td>180101</td>\n",
       "      <td>NaN</td>\n",
       "      <td>18</td>\n",
       "      <td>1801</td>\n",
       "    </tr>\n",
       "    <tr>\n",
       "      <th>6</th>\n",
       "      <td>2021</td>\n",
       "      <td>41</td>\n",
       "      <td>Dengue</td>\n",
       "      <td>LIMA</td>\n",
       "      <td>INDEPENDENCIA</td>\n",
       "      <td>LIMA</td>\n",
       "      <td>150112</td>\n",
       "      <td>NaN</td>\n",
       "      <td>15</td>\n",
       "      <td>1501</td>\n",
       "    </tr>\n",
       "  </tbody>\n",
       "</table>\n",
       "</div>"
      ],
      "text/plain": [
       "    Año  Semana Eventos o daños Departamento       Distrito       Provincia  \\\n",
       "1  2021      41          Dengue     MOQUEGUA       MOQUEGUA  MARISCAL NIETO   \n",
       "2  2021      42          Dengue     MOQUEGUA       MOQUEGUA  MARISCAL NIETO   \n",
       "6  2021      41          Dengue         LIMA  INDEPENDENCIA            LIMA   \n",
       "\n",
       "   Ubigeo  Casos Dpt_Ubigeo Prv_Ubigeo  \n",
       "1  180101    NaN         18       1801  \n",
       "2  180101    NaN         18       1801  \n",
       "6  150112    NaN         15       1501  "
      ]
     },
     "execution_count": 8,
     "metadata": {},
     "output_type": "execute_result"
    }
   ],
   "source": [
    "dengue_2021 = dengue[dengue.Año == 2021]\n",
    "dengue_2021.head(3)"
   ]
  },
  {
   "cell_type": "code",
   "execution_count": null,
   "id": "b75a627e",
   "metadata": {},
   "outputs": [],
   "source": []
  },
  {
   "cell_type": "markdown",
   "id": "396bdf3f",
   "metadata": {},
   "source": [
    "#### 5. Use geopandas to plot the number of cases in 2021by the province using a continuous legend. Do not forget to indicate the color of NA values. Use this shapefile. For this task, you will have to aggregate shapefiles at the province level."
   ]
  },
  {
   "cell_type": "markdown",
   "id": "d22fd4e7",
   "metadata": {},
   "source": [
    "#### 6. Use geopandas to plot the number of cases by the department for all the years using subplots. Every subplot for each year. Do not forget to indicate the color of NA values. Use this shapefile. For this task, you will have to aggregate shapefiles at the department level."
   ]
  },
  {
   "cell_type": "code",
   "execution_count": null,
   "id": "a1e32ee9",
   "metadata": {},
   "outputs": [],
   "source": []
  },
  {
   "cell_type": "code",
   "execution_count": null,
   "id": "5c2262ec",
   "metadata": {},
   "outputs": [],
   "source": []
  },
  {
   "cell_type": "code",
   "execution_count": null,
   "id": "76ce0e74",
   "metadata": {},
   "outputs": [],
   "source": []
  }
 ],
 "metadata": {
  "kernelspec": {
   "display_name": "Python 3 (ipykernel)",
   "language": "python",
   "name": "python3"
  },
  "language_info": {
   "codemirror_mode": {
    "name": "ipython",
    "version": 3
   },
   "file_extension": ".py",
   "mimetype": "text/x-python",
   "name": "python",
   "nbconvert_exporter": "python",
   "pygments_lexer": "ipython3",
   "version": "3.9.9"
  }
 },
 "nbformat": 4,
 "nbformat_minor": 5
}
