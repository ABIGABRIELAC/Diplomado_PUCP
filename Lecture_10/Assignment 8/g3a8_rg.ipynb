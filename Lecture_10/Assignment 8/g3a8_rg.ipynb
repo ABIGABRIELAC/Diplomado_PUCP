{
 "cells": [
  {
   "cell_type": "code",
   "execution_count": 1,
   "id": "250a6744",
   "metadata": {},
   "outputs": [],
   "source": [
    "import pandas as pd"
   ]
  },
  {
   "cell_type": "code",
   "execution_count": 51,
   "id": "50f63180",
   "metadata": {},
   "outputs": [],
   "source": [
    "dengue = pd.read_csv( r'../../_data/data_dengue_peru.csv', thousands = ',', dtype = { 'Ubigeo': 'str' } )"
   ]
  },
  {
   "cell_type": "code",
   "execution_count": 56,
   "id": "e94f2d2a",
   "metadata": {},
   "outputs": [
    {
     "data": {
      "text/plain": [
       "Index(['Año', 'Semana', 'Eventos o daños', 'Departamento', 'Distrito',\n",
       "       'Provincia', 'Ubigeo', 'Casos'],\n",
       "      dtype='object')"
      ]
     },
     "execution_count": 56,
     "metadata": {},
     "output_type": "execute_result"
    }
   ],
   "source": [
    "dengue.columns"
   ]
  },
  {
   "cell_type": "code",
   "execution_count": 64,
   "id": "d4058c5d",
   "metadata": {},
   "outputs": [],
   "source": [
    "dengue[ 'dep_id' ] = dengue.apply( lambda row: row[ 'Ubigeo' ][ 0:2 ], axis = 1 )"
   ]
  },
  {
   "cell_type": "code",
   "execution_count": 67,
   "id": "273695c7",
   "metadata": {},
   "outputs": [],
   "source": [
    "dengue[ 'prov_id' ] = dengue.apply( lambda row : row[ 'Ubigeo'][ 0:4 ], axis = 1 )"
   ]
  }
 ],
 "metadata": {
  "kernelspec": {
   "display_name": "Python 3 (ipykernel)",
   "language": "python",
   "name": "python3"
  },
  "language_info": {
   "codemirror_mode": {
    "name": "ipython",
    "version": 3
   },
   "file_extension": ".py",
   "mimetype": "text/x-python",
   "name": "python",
   "nbconvert_exporter": "python",
   "pygments_lexer": "ipython3",
   "version": "3.8.8"
  }
 },
 "nbformat": 4,
 "nbformat_minor": 5
}
