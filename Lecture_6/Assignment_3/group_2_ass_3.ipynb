{
 "cells": [
  {
   "cell_type": "markdown",
   "id": "895c791f",
   "metadata": {},
   "source": [
    "# Assignment 3"
   ]
  },
  {
   "cell_type": "code",
   "execution_count": 1,
   "id": "35a20e43",
   "metadata": {},
   "outputs": [],
   "source": [
    "import pandas as pd\n",
    "import numpy as np\n",
    "import pickle\n",
    "import scipy.stats as stats"
   ]
  },
  {
   "cell_type": "code",
   "execution_count": 2,
   "id": "27a7ef3e",
   "metadata": {},
   "outputs": [],
   "source": [
    "greene = pd.read_csv(r\"../../_data/christensen_greene_f4.csv\")\n",
    "ct = greene.COST.values\n",
    "q = greene.Q.values\n",
    "p1 = greene.PL.values\n",
    "p2 = greene.PF.values\n",
    "p3 = greene.PK.values"
   ]
  },
  {
   "cell_type": "code",
   "execution_count": 3,
   "id": "7114c2d8",
   "metadata": {},
   "outputs": [],
   "source": [
    "file_to_open = open( r'../../_data/data_greene.pkl' , \"rb\" )\n",
    "data = pickle.load( file_to_open )"
   ]
  },
  {
   "cell_type": "code",
   "execution_count": 4,
   "id": "c26950fe",
   "metadata": {},
   "outputs": [],
   "source": [
    "X = data.iloc[ :, 1: ]"
   ]
  },
  {
   "cell_type": "code",
   "execution_count": 5,
   "id": "e963c704",
   "metadata": {},
   "outputs": [],
   "source": [
    "y = data.ln_cost"
   ]
  },
  {
   "cell_type": "code",
   "execution_count": 6,
   "id": "263f54a0",
   "metadata": {},
   "outputs": [
    {
     "data": {
      "text/html": [
       "<div>\n",
       "<style scoped>\n",
       "    .dataframe tbody tr th:only-of-type {\n",
       "        vertical-align: middle;\n",
       "    }\n",
       "\n",
       "    .dataframe tbody tr th {\n",
       "        vertical-align: top;\n",
       "    }\n",
       "\n",
       "    .dataframe thead th {\n",
       "        text-align: right;\n",
       "    }\n",
       "</style>\n",
       "<table border=\"1\" class=\"dataframe\">\n",
       "  <thead>\n",
       "    <tr style=\"text-align: right;\">\n",
       "      <th></th>\n",
       "      <th>Coef.</th>\n",
       "    </tr>\n",
       "  </thead>\n",
       "  <tbody>\n",
       "    <tr>\n",
       "      <th>Intercept</th>\n",
       "      <td>-76.259259</td>\n",
       "    </tr>\n",
       "    <tr>\n",
       "      <th>lnq</th>\n",
       "      <td>-1.080425</td>\n",
       "    </tr>\n",
       "    <tr>\n",
       "      <th>(lnq)^2</th>\n",
       "      <td>0.026489</td>\n",
       "    </tr>\n",
       "    <tr>\n",
       "      <th>(lnq)(lnp1)</th>\n",
       "      <td>0.131041</td>\n",
       "    </tr>\n",
       "    <tr>\n",
       "      <th>(lnq)(lnp2)</th>\n",
       "      <td>0.058652</td>\n",
       "    </tr>\n",
       "    <tr>\n",
       "      <th>(lnq)(lnp3)</th>\n",
       "      <td>0.040144</td>\n",
       "    </tr>\n",
       "    <tr>\n",
       "      <th>lnp1</th>\n",
       "      <td>14.718292</td>\n",
       "    </tr>\n",
       "    <tr>\n",
       "      <th>lnp2</th>\n",
       "      <td>-0.894733</td>\n",
       "    </tr>\n",
       "    <tr>\n",
       "      <th>lnp3</th>\n",
       "      <td>6.380797</td>\n",
       "    </tr>\n",
       "    <tr>\n",
       "      <th>(lnp1)^2</th>\n",
       "      <td>-1.538527</td>\n",
       "    </tr>\n",
       "    <tr>\n",
       "      <th>(lnp2)^2</th>\n",
       "      <td>-0.073506</td>\n",
       "    </tr>\n",
       "    <tr>\n",
       "      <th>(lnp3)^2</th>\n",
       "      <td>-0.327414</td>\n",
       "    </tr>\n",
       "    <tr>\n",
       "      <th>(lnp1)(lnp2)</th>\n",
       "      <td>0.324566</td>\n",
       "    </tr>\n",
       "    <tr>\n",
       "      <th>(lnp1)(lnp3)</th>\n",
       "      <td>-1.144101</td>\n",
       "    </tr>\n",
       "    <tr>\n",
       "      <th>(lnp2)(lnp3)</th>\n",
       "      <td>-0.048049</td>\n",
       "    </tr>\n",
       "  </tbody>\n",
       "</table>\n",
       "</div>"
      ],
      "text/plain": [
       "                  Coef.\n",
       "Intercept    -76.259259\n",
       "lnq           -1.080425\n",
       "(lnq)^2        0.026489\n",
       "(lnq)(lnp1)    0.131041\n",
       "(lnq)(lnp2)    0.058652\n",
       "(lnq)(lnp3)    0.040144\n",
       "lnp1          14.718292\n",
       "lnp2          -0.894733\n",
       "lnp3           6.380797\n",
       "(lnp1)^2      -1.538527\n",
       "(lnp2)^2      -0.073506\n",
       "(lnp3)^2      -0.327414\n",
       "(lnp1)(lnp2)   0.324566\n",
       "(lnp1)(lnp3)  -1.144101\n",
       "(lnp2)(lnp3)  -0.048049"
      ]
     },
     "execution_count": 6,
     "metadata": {},
     "output_type": "execute_result"
    }
   ],
   "source": [
    "file_to_open = open( r'../../_data/beta_OLS_output.pkl' , \"rb\" )\n",
    "beta_OLS_output = pickle.load( file_to_open )\n",
    "beta_OLS_output"
   ]
  },
  {
   "cell_type": "code",
   "execution_count": 7,
   "id": "b61423ee",
   "metadata": {},
   "outputs": [],
   "source": [
    "def calculator(x, y, intercept):\n",
    "    lnp1 = (1/x*x)\n",
    "    lnp2 = x*y\n",
    "    result = lnp1*lnp2\n",
    "    lnp3 = 1/x\n",
    "    lnp4 = y\n",
    "    result2 = lnp3 * lnp4\n",
    "    if (intercept == TRUE):\n",
    "        return result, lnp1, lnp2\n",
    "    elif(intercept == FALSE):\n",
    "        return result2, lnp3, lnp4\n",
    "    else:\n",
    "        print(\"Error, input does not meet the requirements\")"
   ]
  },
  {
   "cell_type": "code",
   "execution_count": null,
   "id": "4d03383d",
   "metadata": {},
   "outputs": [],
   "source": []
  },
  {
   "cell_type": "markdown",
   "id": "9fdaacc1",
   "metadata": {},
   "source": [
    "1. Generate a function named beta_OLS. This function must return the estimated beta using OLS. The inputs of this function should be X, y, and intercept. X (covariables) must be a pd.DataFrame and y (endog) must be a pd.Series and intercept can be True or False, by default True. When intercept is False, the estimated beta does not include intercept. Also, you must specify the type of your function's parameters and output and It must raise an error if the inputs do not meet the requirements. The function's output must be a pd.DataFrame (n, 1) where n is the total number of regressors ( it includes the Intercept when intercept is True). The column should be named as Coef. and the row index should be named as the original name of the columns in X input. Your results should look like beta_OLS_output. Apply your function to find $\\widehat{\\boldsymbol{\\beta}}^{(OLS)}$ of the equation below. Use data. \n",
    "\n"
   ]
  },
  {
   "cell_type": "code",
   "execution_count": 9,
   "id": "6491c84f",
   "metadata": {},
   "outputs": [],
   "source": [
    "#we assume the matrix of covariates its defined at the beggining, and we use them\n",
    "X_n = X.copy() \n",
    "x_names = list(X_n.columns)"
   ]
  },
  {
   "cell_type": "code",
   "execution_count": 10,
   "id": "5e6d41b7",
   "metadata": {},
   "outputs": [
    {
     "ename": "SyntaxError",
     "evalue": "invalid syntax (<ipython-input-10-bf34dd4f7266>, line 1)",
     "output_type": "error",
     "traceback": [
      "\u001b[1;36m  File \u001b[1;32m\"<ipython-input-10-bf34dd4f7266>\"\u001b[1;36m, line \u001b[1;32m1\u001b[0m\n\u001b[1;33m    ef beta_OLS( X:pd.DataFrame,y:pd.Series,intercept:bool = True ) ->pd.DataFrame:\u001b[0m\n\u001b[1;37m              ^\u001b[0m\n\u001b[1;31mSyntaxError\u001b[0m\u001b[1;31m:\u001b[0m invalid syntax\n"
     ]
    }
   ],
   "source": [
    "def beta_OLS( X:pd.DataFrame,y:pd.Series,intercept:bool = True ) ->pd.DataFrame:\n",
    "    \n",
    "    if not isinstance(X, pd.DataFrame):\n",
    "        raise TypeError('X is not a DataFrame')\n",
    "    \n",
    "    if not isinstance(y, pd.Series):\n",
    "        raise TypeError('y is not a Series')\n",
    "    \n",
    "    if not isinstance(intercept, bool):\n",
    "        raise TypeError('intercept is not a boolean')\n",
    "        \n",
    "\n",
    "    if intercept == True:\n",
    "\n",
    "        #Adding columns of ones to x_n matrix\n",
    "        x1 = np.hstack(( np.ones(len(X_n)).reshape(-1, 1 ) , X_n)) #\n",
    "    \n",
    "        #Definition beta multivariate\n",
    "        b = pd.DataFrame(np.linalg.inv(x1.T @ x1) @ x1.T @ y)\n",
    "        \n",
    "        #rename first column\n",
    "        b.rename(columns={ b.columns[0]: \"Coef.\" }, inplace = True)\n",
    "        #df.rename(columns={ df.columns[1]: \"your value\" }, inplace = True)\n",
    "        x_names.insert(0,\"Intercept\")\n",
    "        b['']= x_names\n",
    "        b.set_index('', inplace=True)\n",
    "        \n",
    "       \n",
    "\n",
    "    else:\n",
    "       \n",
    "        b = pd.DataFrame(np.linalg.inv(x1.T @ x1) @ x1.T @ y)\n",
    "        b.rename(columns={ beta_ols.columns[0]: \"Coef.\" }, inplace = True)\n",
    "        b['']= x_names\n",
    "        b.set_index('', inplace=True)\n",
    " \n",
    " \n",
    "    \n",
    "    return b"
   ]
  },
  {
   "cell_type": "code",
   "execution_count": null,
   "id": "29d1f8fb",
   "metadata": {},
   "outputs": [],
   "source": []
  },
  {
   "cell_type": "code",
   "execution_count": null,
   "id": "52cdfef2",
   "metadata": {},
   "outputs": [],
   "source": []
  },
  {
   "cell_type": "code",
   "execution_count": null,
   "id": "8307d834",
   "metadata": {},
   "outputs": [],
   "source": []
  },
  {
   "cell_type": "code",
   "execution_count": null,
   "id": "8cbd0470",
   "metadata": {},
   "outputs": [],
   "source": []
  },
  {
   "cell_type": "code",
   "execution_count": null,
   "id": "21cb02f9",
   "metadata": {},
   "outputs": [],
   "source": []
  },
  {
   "cell_type": "code",
   "execution_count": 8,
   "id": "abe46da5",
   "metadata": {},
   "outputs": [
    {
     "name": "stdout",
     "output_type": "stream",
     "text": [
      "3000\n"
     ]
    }
   ],
   "source": [
    "import sys\n",
    "print(sys.getrecursionlimit())"
   ]
  }
 ],
 "metadata": {
  "kernelspec": {
   "display_name": "Python 3",
   "language": "python",
   "name": "python3"
  },
  "language_info": {
   "codemirror_mode": {
    "name": "ipython",
    "version": 3
   },
   "file_extension": ".py",
   "mimetype": "text/x-python",
   "name": "python",
   "nbconvert_exporter": "python",
   "pygments_lexer": "ipython3",
   "version": "3.7.12"
  }
 },
 "nbformat": 4,
 "nbformat_minor": 5
}
