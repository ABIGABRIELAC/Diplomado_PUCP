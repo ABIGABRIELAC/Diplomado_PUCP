{
 "cells": [
  {
   "cell_type": "markdown",
   "id": "10559eb6",
   "metadata": {},
   "source": [
    "### Assignment 3"
   ]
  },
  {
   "cell_type": "markdown",
   "id": "4ad20bc4",
   "metadata": {},
   "source": [
    "## Question 1"
   ]
  },
  {
   "cell_type": "code",
   "execution_count": 1,
   "id": "160645bc",
   "metadata": {},
   "outputs": [],
   "source": [
    "import pandas as pd\n",
    "import numpy as np\n",
    "greene = pd.read_csv(r\"../../_data/christensen_greene_f4.csv\")"
   ]
  },
  {
   "cell_type": "code",
   "execution_count": 2,
   "id": "c5c775a1",
   "metadata": {},
   "outputs": [],
   "source": [
    "import statsmodels.formula.api as smf"
   ]
  },
  {
   "cell_type": "code",
   "execution_count": 3,
   "id": "4cb3510d",
   "metadata": {},
   "outputs": [],
   "source": [
    "results = smf.ols( 'np.log( COST ) ~ np.log( Q ) + np.log(PL)+ np.log(PF) + np.log(PK)', data = greene)"
   ]
  },
  {
   "cell_type": "code",
   "execution_count": 4,
   "id": "20c1c4c2",
   "metadata": {},
   "outputs": [],
   "source": [
    "X_input = pd.DataFrame(results.exog, columns = results.exog_names).iloc[ : , 1: ]\n",
    "y_input = pd.Series(results.endog , name = results.endog_names )\n",
    "intercept_input = True"
   ]
  },
  {
   "cell_type": "code",
   "execution_count": 5,
   "id": "596f7228",
   "metadata": {},
   "outputs": [
    {
     "data": {
      "text/html": [
       "<div>\n",
       "<style scoped>\n",
       "    .dataframe tbody tr th:only-of-type {\n",
       "        vertical-align: middle;\n",
       "    }\n",
       "\n",
       "    .dataframe tbody tr th {\n",
       "        vertical-align: top;\n",
       "    }\n",
       "\n",
       "    .dataframe thead th {\n",
       "        text-align: right;\n",
       "    }\n",
       "</style>\n",
       "<table border=\"1\" class=\"dataframe\">\n",
       "  <thead>\n",
       "    <tr style=\"text-align: right;\">\n",
       "      <th></th>\n",
       "      <th>Coef.</th>\n",
       "    </tr>\n",
       "  </thead>\n",
       "  <tbody>\n",
       "    <tr>\n",
       "      <th>Intercept</th>\n",
       "      <td>-7.472227</td>\n",
       "    </tr>\n",
       "    <tr>\n",
       "      <th>np.log(Q)</th>\n",
       "      <td>0.838111</td>\n",
       "    </tr>\n",
       "    <tr>\n",
       "      <th>np.log(PL)</th>\n",
       "      <td>0.044258</td>\n",
       "    </tr>\n",
       "    <tr>\n",
       "      <th>np.log(PF)</th>\n",
       "      <td>0.713098</td>\n",
       "    </tr>\n",
       "    <tr>\n",
       "      <th>np.log(PK)</th>\n",
       "      <td>0.188449</td>\n",
       "    </tr>\n",
       "  </tbody>\n",
       "</table>\n",
       "</div>"
      ],
      "text/plain": [
       "               Coef.\n",
       "Intercept  -7.472227\n",
       "np.log(Q)   0.838111\n",
       "np.log(PL)  0.044258\n",
       "np.log(PF)  0.713098\n",
       "np.log(PK)  0.188449"
      ]
     },
     "execution_count": 5,
     "metadata": {},
     "output_type": "execute_result"
    }
   ],
   "source": [
    "beta_OLS_output = results.fit().summary2().tables[1].iloc[ :, [0]]\n",
    "beta_OLS_output"
   ]
  },
  {
   "cell_type": "code",
   "execution_count": 6,
   "id": "c88788b1",
   "metadata": {},
   "outputs": [
    {
     "data": {
      "text/plain": [
       "0     -1.546463\n",
       "1      1.112745\n",
       "2      2.241337\n",
       "3     -0.273648\n",
       "4      0.814789\n",
       "         ...   \n",
       "153    1.921222\n",
       "154    1.324552\n",
       "155    1.381834\n",
       "156    3.407444\n",
       "157    4.217391\n",
       "Name: np.log(COST), Length: 158, dtype: float64"
      ]
     },
     "execution_count": 6,
     "metadata": {},
     "output_type": "execute_result"
    }
   ],
   "source": [
    "y_input"
   ]
  },
  {
   "cell_type": "code",
   "execution_count": 7,
   "id": "e1a27986",
   "metadata": {},
   "outputs": [
    {
     "data": {
      "text/html": [
       "<div>\n",
       "<style scoped>\n",
       "    .dataframe tbody tr th:only-of-type {\n",
       "        vertical-align: middle;\n",
       "    }\n",
       "\n",
       "    .dataframe tbody tr th {\n",
       "        vertical-align: top;\n",
       "    }\n",
       "\n",
       "    .dataframe thead th {\n",
       "        text-align: right;\n",
       "    }\n",
       "</style>\n",
       "<table border=\"1\" class=\"dataframe\">\n",
       "  <thead>\n",
       "    <tr style=\"text-align: right;\">\n",
       "      <th></th>\n",
       "      <th>np.log(Q)</th>\n",
       "      <th>np.log(PL)</th>\n",
       "      <th>np.log(PF)</th>\n",
       "      <th>np.log(PK)</th>\n",
       "    </tr>\n",
       "  </thead>\n",
       "  <tbody>\n",
       "    <tr>\n",
       "      <th>0</th>\n",
       "      <td>2.079442</td>\n",
       "      <td>8.834842</td>\n",
       "      <td>2.890372</td>\n",
       "      <td>4.173541</td>\n",
       "    </tr>\n",
       "    <tr>\n",
       "      <th>1</th>\n",
       "      <td>6.767343</td>\n",
       "      <td>9.032763</td>\n",
       "      <td>3.047708</td>\n",
       "      <td>4.222840</td>\n",
       "    </tr>\n",
       "    <tr>\n",
       "      <th>2</th>\n",
       "      <td>7.252762</td>\n",
       "      <td>8.982297</td>\n",
       "      <td>3.726416</td>\n",
       "      <td>3.706032</td>\n",
       "    </tr>\n",
       "    <tr>\n",
       "      <th>3</th>\n",
       "      <td>4.174387</td>\n",
       "      <td>9.101852</td>\n",
       "      <td>3.351272</td>\n",
       "      <td>3.719481</td>\n",
       "    </tr>\n",
       "    <tr>\n",
       "      <th>4</th>\n",
       "      <td>5.686975</td>\n",
       "      <td>9.014131</td>\n",
       "      <td>3.668677</td>\n",
       "      <td>4.275832</td>\n",
       "    </tr>\n",
       "    <tr>\n",
       "      <th>...</th>\n",
       "      <td>...</td>\n",
       "      <td>...</td>\n",
       "      <td>...</td>\n",
       "      <td>...</td>\n",
       "    </tr>\n",
       "    <tr>\n",
       "      <th>153</th>\n",
       "      <td>6.852877</td>\n",
       "      <td>9.272579</td>\n",
       "      <td>3.940863</td>\n",
       "      <td>3.775057</td>\n",
       "    </tr>\n",
       "    <tr>\n",
       "      <th>154</th>\n",
       "      <td>5.932245</td>\n",
       "      <td>8.913583</td>\n",
       "      <td>3.509633</td>\n",
       "      <td>4.305685</td>\n",
       "    </tr>\n",
       "    <tr>\n",
       "      <th>155</th>\n",
       "      <td>5.968708</td>\n",
       "      <td>8.670093</td>\n",
       "      <td>3.798473</td>\n",
       "      <td>4.360394</td>\n",
       "    </tr>\n",
       "    <tr>\n",
       "      <th>156</th>\n",
       "      <td>8.578665</td>\n",
       "      <td>9.168125</td>\n",
       "      <td>3.733853</td>\n",
       "      <td>4.356811</td>\n",
       "    </tr>\n",
       "    <tr>\n",
       "      <th>157</th>\n",
       "      <td>9.630366</td>\n",
       "      <td>8.851676</td>\n",
       "      <td>3.245011</td>\n",
       "      <td>4.304403</td>\n",
       "    </tr>\n",
       "  </tbody>\n",
       "</table>\n",
       "<p>158 rows × 4 columns</p>\n",
       "</div>"
      ],
      "text/plain": [
       "     np.log(Q)  np.log(PL)  np.log(PF)  np.log(PK)\n",
       "0     2.079442    8.834842    2.890372    4.173541\n",
       "1     6.767343    9.032763    3.047708    4.222840\n",
       "2     7.252762    8.982297    3.726416    3.706032\n",
       "3     4.174387    9.101852    3.351272    3.719481\n",
       "4     5.686975    9.014131    3.668677    4.275832\n",
       "..         ...         ...         ...         ...\n",
       "153   6.852877    9.272579    3.940863    3.775057\n",
       "154   5.932245    8.913583    3.509633    4.305685\n",
       "155   5.968708    8.670093    3.798473    4.360394\n",
       "156   8.578665    9.168125    3.733853    4.356811\n",
       "157   9.630366    8.851676    3.245011    4.304403\n",
       "\n",
       "[158 rows x 4 columns]"
      ]
     },
     "execution_count": 7,
     "metadata": {},
     "output_type": "execute_result"
    }
   ],
   "source": [
    "X_input"
   ]
  },
  {
   "cell_type": "code",
   "execution_count": null,
   "id": "98d29c4a",
   "metadata": {},
   "outputs": [],
   "source": []
  }
 ],
 "metadata": {
  "kernelspec": {
   "display_name": "Python 3",
   "language": "python",
   "name": "python3"
  },
  "language_info": {
   "codemirror_mode": {
    "name": "ipython",
    "version": 3
   },
   "file_extension": ".py",
   "mimetype": "text/x-python",
   "name": "python",
   "nbconvert_exporter": "python",
   "pygments_lexer": "ipython3",
   "version": "3.8.8"
  }
 },
 "nbformat": 4,
 "nbformat_minor": 5
}
