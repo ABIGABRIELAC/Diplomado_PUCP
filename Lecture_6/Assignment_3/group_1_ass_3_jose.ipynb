{
 "cells": [
  {
   "cell_type": "markdown",
   "metadata": {},
   "source": [
    "# 1 Assignment 3"
   ]
  },
  {
   "cell_type": "markdown",
   "metadata": {},
   "source": [
    "1. Generate a function named **beta_OLS**. This function must return the estimated beta using OLS. The inputs of this function should be `X`, `y`, and `intercept`. `X` (covariables) must be a **pd.DataFrame** and `y` (endog) must be a **pd.Series** and `intercept` can be `True` or `False`, by default `True`. When `intercept` is `False`, the estimated beta does not include **intercept**. Also, you must specify the type of your function's parameters and output and It must raise an error if the inputs do not meet the requirements. The function's output must be a **pd.DataFrame** (`n`, 1) where `n` is the total number of regressors ( it includes the **Intercept** when `intercept` is `True`). The column should be named as **Coef.** and the row index should be named as the original name of the columns in `X` input. Your results should look like `output_example` being `X_input`, `y_input` and `intercept_input` your inputs. Apply your function to find $\\widehat{\\boldsymbol{\\beta}}^{(OLS)}$ of the equation below. Use greene data.  **Hint: Use NumPy to generate the OLS beta and check [this link](https://pandas.pydata.org/docs/reference/api/pandas.DataFrame.set_index.html) to change the index name of a pd.Dataframe, [link](https://notebooks.githubusercontent.com/view/ipynb?browser=chrome&color_mode=auto&commit=69c80e1f2c1c268f0480a32932262201785a576c&device=unknown_device&enc_url=68747470733a2f2f7261772e67697468756275736572636f6e74656e742e636f6d2f616c6578616e6465727175697370652f4469706c6f6d61646f5f505543502f363963383065316632633163323638663034383061333239333232363232303137383561353736632f4c6563747572655f352f4c6563747572655f352e6970796e62&logged_in=true&nwo=alexanderquispe%2FDiplomado_PUCP&path=Lecture_5%2FLecture_5.ipynb&platform=windows&repository_id=427747212&repository_type=Repository&version=96##5.1.7.).**"
   ]
  },
  {
   "cell_type": "markdown",
   "metadata": {},
   "source": [
    "$$\n",
    "\\widehat{\\boldsymbol{\\beta}}^{(OLS)} = \\left( \\mathbf{X}^\\top \\mathbf{X}\\right)^{-1} \\mathbf{X}^\\top \\mathbf{Y}\n",
    "$$\n"
   ]
  },
  {
   "cell_type": "markdown",
   "metadata": {},
   "source": [
    "$$\n",
    "\\begin{aligned} \n",
    "lnCT &= \\beta_{0}+\\beta_{q}lnq+ \\beta_{qq}(lnq)^2+\\beta_{q1}lnqlnp_1+\\beta_{q2}lnqlnp_2+ \\beta_{q3}lnqlnp_{3} +\\beta_{1}lnp_1+\\beta_{2}lnp_2+ \\beta_{3}lnp_3 \\\\\n",
    "& + \\beta_{11}(lnp_{1})^2+ \\beta_{22}(lnp_{2})^2+ \\beta_{33}(lnp_{3})^2 + \\beta_{12}lnp_{1}lnp_{2}+ \\beta_{13}lnp_{1}lnp_{3}+\\beta_{23}lnp_{2}lnp_{3} \n",
    "\\end{aligned}\n",
    "$$\n"
   ]
  },
  {
   "cell_type": "code",
   "execution_count": 22,
   "metadata": {},
   "outputs": [],
   "source": [
    "import pandas as pd\n",
    "import numpy as np\n",
    "import pickle\n",
    "import scipy.stats as stats\n"
   ]
  },
  {
   "cell_type": "code",
   "execution_count": 37,
   "metadata": {},
   "outputs": [],
   "source": [
    "greene = pd.read_csv(r\"../../_data/christensen_greene_f4.csv\")"
   ]
  },
  {
   "cell_type": "code",
   "execution_count": 38,
   "metadata": {},
   "outputs": [],
   "source": [
    "ct = greene.COST.values\n",
    "q = greene.Q.values\n",
    "p1 = greene.PL.values\n",
    "p2 = greene.PF.values\n",
    "p3 = greene.PK.values"
   ]
  },
  {
   "cell_type": "code",
   "execution_count": 41,
   "metadata": {},
   "outputs": [
    {
     "ename": "FileNotFoundError",
     "evalue": "[Errno 2] No such file or directory: '../../_data/data_greene.pkl'",
     "output_type": "error",
     "traceback": [
      "\u001b[1;31m---------------------------------------------------------------------------\u001b[0m",
      "\u001b[1;31mFileNotFoundError\u001b[0m                         Traceback (most recent call last)",
      "\u001b[1;32m<ipython-input-41-1d048017b063>\u001b[0m in \u001b[0;36m<module>\u001b[1;34m\u001b[0m\n\u001b[1;32m----> 1\u001b[1;33m \u001b[0mfile_to_open\u001b[0m \u001b[1;33m=\u001b[0m \u001b[0mopen\u001b[0m \u001b[1;33m(\u001b[0m \u001b[1;34mr'../../_data/data_greene.pkl'\u001b[0m \u001b[1;33m,\u001b[0m \u001b[1;34m\"rb\"\u001b[0m\u001b[1;33m)\u001b[0m\u001b[1;33m\u001b[0m\u001b[1;33m\u001b[0m\u001b[0m\n\u001b[0m\u001b[0;32m      2\u001b[0m \u001b[0mdata\u001b[0m \u001b[1;33m=\u001b[0m \u001b[0mpickle\u001b[0m\u001b[1;33m.\u001b[0m\u001b[0mload\u001b[0m\u001b[1;33m(\u001b[0m \u001b[0mfile_to_open\u001b[0m \u001b[1;33m)\u001b[0m\u001b[1;33m\u001b[0m\u001b[1;33m\u001b[0m\u001b[0m\n",
      "\u001b[1;31mFileNotFoundError\u001b[0m: [Errno 2] No such file or directory: '../../_data/data_greene.pkl'"
     ]
    }
   ],
   "source": [
    "file_to_open = open ( r'../../_data/data_greene.pkl' , \"rb\")\n",
    "data = pickle.load( file_to_open )"
   ]
  },
  {
   "cell_type": "code",
   "execution_count": 42,
   "metadata": {},
   "outputs": [
    {
     "ename": "NameError",
     "evalue": "name 'data' is not defined",
     "output_type": "error",
     "traceback": [
      "\u001b[1;31m---------------------------------------------------------------------------\u001b[0m",
      "\u001b[1;31mNameError\u001b[0m                                 Traceback (most recent call last)",
      "\u001b[1;32m<ipython-input-42-187ddde5fff0>\u001b[0m in \u001b[0;36m<module>\u001b[1;34m\u001b[0m\n\u001b[1;32m----> 1\u001b[1;33m \u001b[0mX\u001b[0m \u001b[1;33m=\u001b[0m \u001b[0mdata\u001b[0m\u001b[1;33m.\u001b[0m\u001b[0miloc\u001b[0m\u001b[1;33m[\u001b[0m\u001b[1;33m:\u001b[0m\u001b[1;33m,\u001b[0m \u001b[1;36m1\u001b[0m\u001b[1;33m:\u001b[0m\u001b[1;33m]\u001b[0m\u001b[1;33m\u001b[0m\u001b[1;33m\u001b[0m\u001b[0m\n\u001b[0m",
      "\u001b[1;31mNameError\u001b[0m: name 'data' is not defined"
     ]
    }
   ],
   "source": [
    "X = data.iloc[:, 1:]"
   ]
  },
  {
   "cell_type": "code",
   "execution_count": 43,
   "metadata": {},
   "outputs": [
    {
     "ename": "NameError",
     "evalue": "name 'data' is not defined",
     "output_type": "error",
     "traceback": [
      "\u001b[1;31m---------------------------------------------------------------------------\u001b[0m",
      "\u001b[1;31mNameError\u001b[0m                                 Traceback (most recent call last)",
      "\u001b[1;32m<ipython-input-43-1532c70894c6>\u001b[0m in \u001b[0;36m<module>\u001b[1;34m\u001b[0m\n\u001b[1;32m----> 1\u001b[1;33m \u001b[0my\u001b[0m \u001b[1;33m=\u001b[0m \u001b[0mdata\u001b[0m\u001b[1;33m.\u001b[0m\u001b[0mln_cost\u001b[0m\u001b[1;33m\u001b[0m\u001b[1;33m\u001b[0m\u001b[0m\n\u001b[0m",
      "\u001b[1;31mNameError\u001b[0m: name 'data' is not defined"
     ]
    }
   ],
   "source": [
    "y = data.ln_cost"
   ]
  },
  {
   "cell_type": "code",
   "execution_count": 44,
   "metadata": {},
   "outputs": [
    {
     "ename": "FileNotFoundError",
     "evalue": "[Errno 2] No such file or directory: '../../_data/data_greene.pkl'",
     "output_type": "error",
     "traceback": [
      "\u001b[1;31m---------------------------------------------------------------------------\u001b[0m",
      "\u001b[1;31mFileNotFoundError\u001b[0m                         Traceback (most recent call last)",
      "\u001b[1;32m<ipython-input-44-442d7da9d2ed>\u001b[0m in \u001b[0;36m<module>\u001b[1;34m\u001b[0m\n\u001b[1;32m----> 1\u001b[1;33m \u001b[0mfile_to_open\u001b[0m \u001b[1;33m=\u001b[0m \u001b[0mopen\u001b[0m\u001b[1;33m(\u001b[0m\u001b[1;34mr'../../_data/data_greene.pkl'\u001b[0m \u001b[1;33m,\u001b[0m \u001b[1;34m\"rb\"\u001b[0m\u001b[1;33m)\u001b[0m\u001b[1;33m\u001b[0m\u001b[1;33m\u001b[0m\u001b[0m\n\u001b[0m\u001b[0;32m      2\u001b[0m \u001b[0mbeta_OLS_output\u001b[0m \u001b[1;33m=\u001b[0m \u001b[0mpickle\u001b[0m\u001b[1;33m.\u001b[0m\u001b[0mload\u001b[0m \u001b[1;33m(\u001b[0m \u001b[0mfile_to_open\u001b[0m \u001b[1;33m)\u001b[0m\u001b[1;33m\u001b[0m\u001b[1;33m\u001b[0m\u001b[0m\n\u001b[0;32m      3\u001b[0m \u001b[0mbeta_OLS_output\u001b[0m\u001b[1;33m\u001b[0m\u001b[1;33m\u001b[0m\u001b[0m\n",
      "\u001b[1;31mFileNotFoundError\u001b[0m: [Errno 2] No such file or directory: '../../_data/data_greene.pkl'"
     ]
    }
   ],
   "source": [
    "file_to_open = open(r'../../_data/data_greene.pkl' , \"rb\")\n",
    "beta_OLS_output = pickle.load ( file_to_open )\n",
    "beta_OLS_output"
   ]
  },
  {
   "cell_type": "code",
   "execution_count": 45,
   "metadata": {},
   "outputs": [],
   "source": [
    "def OLS_mat( X : pd.DataFrame, y : pd.Series, intercept = True ):\n",
    "    \n",
    "    X_mat = X.copy()\n",
    "    y_vec = y.copy()\n",
    "    \n",
    "    if intercept == True:\n",
    "        const = np.ones( len( X_mat ) )\n",
    "        X_mat.insert(0, \"Intercept\", const)\n",
    "    \n",
    "    var_names = list( X_mat.columns )\n",
    "    X_mat = X_mat.to_numpy()\n",
    "    y_vec = y_vec.to_numpy()\n",
    "    \n",
    "    xtx_inv = np.linalg.inv( np.dot( np.transpose( X_mat ), X_mat ) )\n",
    "    \n",
    "    return X_mat, y_vec, var_names, xtx_inv"
   ]
  },
  {
   "cell_type": "code",
   "execution_count": 46,
   "metadata": {},
   "outputs": [],
   "source": [
    "def beta_OLS( X : pd.DataFrame, y : pd.Series, intercept = True ) -> pd.DataFrame:\n",
    "    \n",
    "    if not isinstance( X, pd.DataFrame ):\n",
    "        raise TypeError( 'X is not a pd.DataFrame' )\n",
    "    \n",
    "    if not isinstance( y, pd.Series ):\n",
    "        raise TypeError( 'y is not a pd.Series' )\n",
    "    \n",
    "    if not isinstance( intercept, bool ):\n",
    "        raise TypeError( 'intercept is not a bool' )\n",
    "        \n",
    "    if len( X ) != len( y ):\n",
    "        raise ValueError( 'X and y do not have the same number of rows' )\n",
    "    \n",
    "    X_mat, y_vec, var_names, xtx_inv = OLS_mat( X, y, intercept = intercept )\n",
    "    \n",
    "    coefs = np.dot( xtx_inv, np.dot( np.transpose( X_mat ), y_vec ) )\n",
    "    coefs = pd.DataFrame( coefs, index = var_names, columns = [ 'Coef.' ] )\n",
    "    \n",
    "    return coefs"
   ]
  },
  {
   "cell_type": "code",
   "execution_count": 47,
   "metadata": {},
   "outputs": [
    {
     "ename": "NameError",
     "evalue": "name 'X' is not defined",
     "output_type": "error",
     "traceback": [
      "\u001b[1;31m---------------------------------------------------------------------------\u001b[0m",
      "\u001b[1;31mNameError\u001b[0m                                 Traceback (most recent call last)",
      "\u001b[1;32m<ipython-input-47-a2b65cba113c>\u001b[0m in \u001b[0;36m<module>\u001b[1;34m\u001b[0m\n\u001b[1;32m----> 1\u001b[1;33m \u001b[0mbeta_OLS\u001b[0m\u001b[1;33m(\u001b[0m \u001b[0mX\u001b[0m \u001b[1;33m,\u001b[0m \u001b[0my\u001b[0m \u001b[1;33m)\u001b[0m\u001b[1;33m\u001b[0m\u001b[1;33m\u001b[0m\u001b[0m\n\u001b[0m",
      "\u001b[1;31mNameError\u001b[0m: name 'X' is not defined"
     ]
    }
   ],
   "source": [
    "beta_OLS( X , y )"
   ]
  },
  {
   "cell_type": "markdown",
   "metadata": {},
   "source": [
    "2. Generate a new function named **var_OLS**. This function must return the estimated variance for OLS. The inputs of this function should be `X`, `y`, and `intercept`. `X` (covariables) must be a **pd.DataFrame** and `y` (endog) must be a **pd.Series** and `intercept` can be `True` or `False`, by default `True`. When `intercept` is `False`, the estimated variance does not include **intercept** in the `X` regressor. Also, you must specify the type of your function's parameters and output and It must raise an error if the inputs do not meet the requirements. The output of the function should look like `var_ols` where the columns and the index use the name of `X` columns.  Apply your function to find $\\mathbb{V}{\\rm ar} (\\widehat{\\boldsymbol{\\beta}}^{(OLS)})$ of the equation below. Use greene data.  **Hint: Use numpy, `def` function, and `columns` method, [link](https://notebooks.githubusercontent.com/view/ipynb?browser=chrome&color_mode=auto&commit=69c80e1f2c1c268f0480a32932262201785a576c&device=unknown_device&enc_url=68747470733a2f2f7261772e67697468756275736572636f6e74656e742e636f6d2f616c6578616e6465727175697370652f4469706c6f6d61646f5f505543502f363963383065316632633163323638663034383061333239333232363232303137383561353736632f4c6563747572655f352f4c6563747572655f352e6970796e62&logged_in=true&nwo=alexanderquispe%2FDiplomado_PUCP&path=Lecture_5%2FLecture_5.ipynb&platform=windows&repository_id=427747212&repository_type=Repository&version=96##5.1.7.).**"
   ]
  },
  {
   "cell_type": "markdown",
   "metadata": {},
   "source": [
    "\n",
    "$$\n",
    "\\begin{aligned}\n",
    "\\mathbb{V}{\\rm ar} (\\widehat{\\boldsymbol{\\beta}}^{(OLS)}) = \n",
    "\\sigma^2 \\left( \\mathbf{X}^\\top  \\mathbf{X}\\right)^{-1}\n",
    "\\end{aligned}\n",
    "$$"
   ]
  },
  {
   "cell_type": "markdown",
   "metadata": {},
   "source": [
    "$$\n",
    "\\begin{aligned} \n",
    "lnCT &= \\beta_{0}+\\beta_{q}lnq+ \\beta_{qq}(lnq)^2+\\beta_{q1}lnqlnp_1+\\beta_{q2}lnqlnp_2+ \\beta_{q3}lnqlnp_{3} +\\beta_{1}lnp_1+\\beta_{2}lnp_2+ \\beta_{3}lnp_3 \\\\\n",
    "& + \\beta_{11}(lnp_{1})^2+ \\beta_{22}(lnp_{2})^2+ \\beta_{33}(lnp_{3})^2 + \\beta_{12}lnp_{1}lnp_{2}+ \\beta_{13}lnp_{1}lnp_{3}+\\beta_{23}lnp_{2}lnp_{3} \n",
    "\\end{aligned}\n",
    "$$\n"
   ]
  },
  {
   "cell_type": "code",
   "execution_count": 33,
   "metadata": {},
   "outputs": [
    {
     "ename": "FileNotFoundError",
     "evalue": "[Errno 2] No such file or directory: '../../_data/var_OLS_output.pkl'",
     "output_type": "error",
     "traceback": [
      "\u001b[1;31m---------------------------------------------------------------------------\u001b[0m",
      "\u001b[1;31mFileNotFoundError\u001b[0m                         Traceback (most recent call last)",
      "\u001b[1;32m<ipython-input-33-8bd6a76ae208>\u001b[0m in \u001b[0;36m<module>\u001b[1;34m\u001b[0m\n\u001b[1;32m----> 1\u001b[1;33m \u001b[0mfile_to_open\u001b[0m \u001b[1;33m=\u001b[0m \u001b[0mopen\u001b[0m\u001b[1;33m(\u001b[0m \u001b[1;34mr'../../_data/var_OLS_output.pkl'\u001b[0m \u001b[1;33m,\u001b[0m \u001b[1;34m\"rb\"\u001b[0m \u001b[1;33m)\u001b[0m\u001b[1;33m\u001b[0m\u001b[1;33m\u001b[0m\u001b[0m\n\u001b[0m\u001b[0;32m      2\u001b[0m \u001b[0mvar_OLS_output\u001b[0m \u001b[1;33m=\u001b[0m \u001b[0mpickle\u001b[0m\u001b[1;33m.\u001b[0m\u001b[0mload\u001b[0m\u001b[1;33m(\u001b[0m \u001b[0mfile_to_open\u001b[0m \u001b[1;33m)\u001b[0m\u001b[1;33m\u001b[0m\u001b[1;33m\u001b[0m\u001b[0m\n\u001b[0;32m      3\u001b[0m \u001b[0mvar_OLS_output\u001b[0m\u001b[1;33m\u001b[0m\u001b[1;33m\u001b[0m\u001b[0m\n",
      "\u001b[1;31mFileNotFoundError\u001b[0m: [Errno 2] No such file or directory: '../../_data/var_OLS_output.pkl'"
     ]
    }
   ],
   "source": [
    "file_to_open = open( r'../../_data/var_OLS_output.pkl' , \"rb\" )\n",
    "var_OLS_output = pickle.load( file_to_open )\n",
    "var_OLS_output"
   ]
  },
  {
   "cell_type": "code",
   "execution_count": 34,
   "metadata": {},
   "outputs": [],
   "source": [
    "def var_OLS( X : pd.DataFrame, y : pd.Series, intercept = True ) -> pd.DataFrame:\n",
    "    \n",
    "    coefs = beta_OLS( X, y, intercept = intercept ).iloc[ :, 0 ].to_numpy()\n",
    "    X_mat, y_vec, var_names, xtx_inv = OLS_mat( X, y, intercept = intercept )\n",
    "    \n",
    "    y_hat = np.dot( X_mat, coefs )\n",
    "    res_vec = y_vec - y_hat\n",
    "    sigma2 = np.dot( np.transpose( res_vec ), res_vec ) / ( len( y ) - len( coefs ) )\n",
    "    \n",
    "    ols_vcov = xtx_inv * sigma2\n",
    "    ols_vcov = pd.DataFrame( ols_vcov, index = var_names, columns = var_names )\n",
    "    \n",
    "    return ols_vcov"
   ]
  },
  {
   "cell_type": "code",
   "execution_count": 35,
   "metadata": {},
   "outputs": [
    {
     "ename": "NameError",
     "evalue": "name 'X' is not defined",
     "output_type": "error",
     "traceback": [
      "\u001b[1;31m---------------------------------------------------------------------------\u001b[0m",
      "\u001b[1;31mNameError\u001b[0m                                 Traceback (most recent call last)",
      "\u001b[1;32m<ipython-input-35-8cfa30da0afa>\u001b[0m in \u001b[0;36m<module>\u001b[1;34m\u001b[0m\n\u001b[1;32m----> 1\u001b[1;33m \u001b[0mvar_OLS\u001b[0m\u001b[1;33m(\u001b[0m \u001b[0mX\u001b[0m\u001b[1;33m,\u001b[0m \u001b[0my\u001b[0m \u001b[1;33m)\u001b[0m\u001b[1;33m\u001b[0m\u001b[1;33m\u001b[0m\u001b[0m\n\u001b[0m",
      "\u001b[1;31mNameError\u001b[0m: name 'X' is not defined"
     ]
    }
   ],
   "source": [
    "var_OLS( X, y )"
   ]
  },
  {
   "cell_type": "markdown",
   "metadata": {},
   "source": [
    "3. Generate a new function named as `reg_OLS` that uses your previos functions `beta_OLS` and `var_OLS` to return an ouput similar to `reg_OLS_output`. The inputs of this function should be `X`, `y`, and `intercept`. `X` (covariables) must be a **pd.DataFrame** and `y` (endog) must be a **pd.Series** and `intercept` can be `True` or `False`, by default `True`. When `intercept` is `False`, the output does not include **intercept**. Also, you must specify the type of your function's parameters and output and It must raise an error if the inputs do not meet the requirements. Apply your function to the equation below. Use greene data.**Hint: Use numpy, `def` function, and `columns` method, [link](https://notebooks.githubusercontent.com/view/ipynb?browser=chrome&color_mode=auto&commit=69c80e1f2c1c268f0480a32932262201785a576c&device=unknown_device&enc_url=68747470733a2f2f7261772e67697468756275736572636f6e74656e742e636f6d2f616c6578616e6465727175697370652f4469706c6f6d61646f5f505543502f363963383065316632633163323638663034383061333239333232363232303137383561353736632f4c6563747572655f352f4c6563747572655f352e6970796e62&logged_in=true&nwo=alexanderquispe%2FDiplomado_PUCP&path=Lecture_5%2FLecture_5.ipynb&platform=windows&repository_id=427747212&repository_type=Repository&version=96##5.1.7.).**"
   ]
  },
  {
   "cell_type": "markdown",
   "metadata": {},
   "source": [
    "$$\n",
    "\\begin{aligned} \n",
    "lnCT &= \\beta_{0}+\\beta_{q}lnq+ \\beta_{qq}(lnq)^2+\\beta_{q1}lnqlnp_1+\\beta_{q2}lnqlnp_2+ \\beta_{q3}lnqlnp_{3} +\\beta_{1}lnp_1+\\beta_{2}lnp_2+ \\beta_{3}lnp_3 \\\\\n",
    "& + \\beta_{11}(lnp_{1})^2+ \\beta_{22}(lnp_{2})^2+ \\beta_{33}(lnp_{3})^2 + \\beta_{12}lnp_{1}lnp_{2}+ \\beta_{13}lnp_{1}lnp_{3}+\\beta_{23}lnp_{2}lnp_{3} \n",
    "\\end{aligned}\n",
    "$$\n"
   ]
  },
  {
   "cell_type": "code",
   "execution_count": 11,
   "metadata": {
    "scrolled": true
   },
   "outputs": [
    {
     "data": {
      "text/html": [
       "<div>\n",
       "<style scoped>\n",
       "    .dataframe tbody tr th:only-of-type {\n",
       "        vertical-align: middle;\n",
       "    }\n",
       "\n",
       "    .dataframe tbody tr th {\n",
       "        vertical-align: top;\n",
       "    }\n",
       "\n",
       "    .dataframe thead th {\n",
       "        text-align: right;\n",
       "    }\n",
       "</style>\n",
       "<table border=\"1\" class=\"dataframe\">\n",
       "  <thead>\n",
       "    <tr style=\"text-align: right;\">\n",
       "      <th></th>\n",
       "      <th>Coef.</th>\n",
       "      <th>Std.Err.</th>\n",
       "      <th>t</th>\n",
       "      <th>P&gt;|t|</th>\n",
       "      <th>[0.025</th>\n",
       "      <th>0.975]</th>\n",
       "    </tr>\n",
       "  </thead>\n",
       "  <tbody>\n",
       "    <tr>\n",
       "      <th>Intercept</th>\n",
       "      <td>-7.472227</td>\n",
       "      <td>1.063238</td>\n",
       "      <td>-7.027801</td>\n",
       "      <td>6.490901e-11</td>\n",
       "      <td>-9.572750</td>\n",
       "      <td>-5.371704</td>\n",
       "    </tr>\n",
       "    <tr>\n",
       "      <th>np.log(Q)</th>\n",
       "      <td>0.838111</td>\n",
       "      <td>0.009387</td>\n",
       "      <td>89.284492</td>\n",
       "      <td>6.942379e-134</td>\n",
       "      <td>0.819566</td>\n",
       "      <td>0.856656</td>\n",
       "    </tr>\n",
       "    <tr>\n",
       "      <th>np.log(PL)</th>\n",
       "      <td>0.044258</td>\n",
       "      <td>0.105820</td>\n",
       "      <td>0.418238</td>\n",
       "      <td>6.763595e-01</td>\n",
       "      <td>-0.164798</td>\n",
       "      <td>0.253314</td>\n",
       "    </tr>\n",
       "    <tr>\n",
       "      <th>np.log(PF)</th>\n",
       "      <td>0.713098</td>\n",
       "      <td>0.064355</td>\n",
       "      <td>11.080610</td>\n",
       "      <td>2.552882e-21</td>\n",
       "      <td>0.585958</td>\n",
       "      <td>0.840238</td>\n",
       "    </tr>\n",
       "    <tr>\n",
       "      <th>np.log(PK)</th>\n",
       "      <td>0.188449</td>\n",
       "      <td>0.087066</td>\n",
       "      <td>2.164432</td>\n",
       "      <td>3.198211e-02</td>\n",
       "      <td>0.016442</td>\n",
       "      <td>0.360457</td>\n",
       "    </tr>\n",
       "  </tbody>\n",
       "</table>\n",
       "</div>"
      ],
      "text/plain": [
       "               Coef.  Std.Err.          t          P>|t|    [0.025    0.975]\n",
       "Intercept  -7.472227  1.063238  -7.027801   6.490901e-11 -9.572750 -5.371704\n",
       "np.log(Q)   0.838111  0.009387  89.284492  6.942379e-134  0.819566  0.856656\n",
       "np.log(PL)  0.044258  0.105820   0.418238   6.763595e-01 -0.164798  0.253314\n",
       "np.log(PF)  0.713098  0.064355  11.080610   2.552882e-21  0.585958  0.840238\n",
       "np.log(PK)  0.188449  0.087066   2.164432   3.198211e-02  0.016442  0.360457"
      ]
     },
     "execution_count": 11,
     "metadata": {},
     "output_type": "execute_result"
    }
   ],
   "source": [
    "reg_OLS_output = results.fit().summary2().tables[1]\n",
    "reg_OLS_output"
   ]
  },
  {
   "cell_type": "markdown",
   "metadata": {},
   "source": [
    "4. Generate a new function named as `restricted_OLS` that uses your previos functions `beta_OLS` and `var_OLS` to return an ouput similar to `reg_OLS_output`. The inputs of this function should be `X`, `y`,  `L`, `r`, and `intercept`. `X` (covariables) must be a **pd.DataFrame** and `y` (endog) must be a **pd.Series**,  `L` (coef) must be a **np.array**, `r` must be a **np.array**,  and `intercept` can be `True` or `False`.  When `intercept` is `False`, the estimated beta does not include **intercept**. Also, you must specify the type of your function's parameters and output and It must raise an error if the inputs do not meet the requirements. The ouput of this function should look like `reg_OLS_ouput`. Apply your function to the equation below. Use greene data.\n",
    " **Hint: Use numpy, `def` function, and `columns` method, [link](https://notebooks.githubusercontent.com/view/ipynb?browser=chrome&color_mode=auto&commit=69c80e1f2c1c268f0480a32932262201785a576c&device=unknown_device&enc_url=68747470733a2f2f7261772e67697468756275736572636f6e74656e742e636f6d2f616c6578616e6465727175697370652f4469706c6f6d61646f5f505543502f363963383065316632633163323638663034383061333239333232363232303137383561353736632f4c6563747572655f352f4c6563747572655f352e6970796e62&logged_in=true&nwo=alexanderquispe%2FDiplomado_PUCP&path=Lecture_5%2FLecture_5.ipynb&platform=windows&repository_id=427747212&repository_type=Repository&version=96##5.1.7.).**"
   ]
  },
  {
   "cell_type": "markdown",
   "metadata": {},
   "source": [
    "$$\n",
    "\\hat{\\boldsymbol{\\beta}}^{(RLS)} =\\hat{\\boldsymbol{\\beta}}^{(OLS)} - \\left( \\boldsymbol{X}^\\top \\boldsymbol{X} \\right)^{-1} \\boldsymbol{L}^\\top \\left( \\boldsymbol{L}\\left( \\boldsymbol{X}^\\top \\boldsymbol{X} \\right)^{-1} \\boldsymbol{L}^\\top \\right)^{-1} \\left( \\boldsymbol{L}\\widehat{\\boldsymbol{\\beta}}^{(OLS)} - \\boldsymbol{r} \\right)\n",
    "$$"
   ]
  },
  {
   "cell_type": "markdown",
   "metadata": {},
   "source": [
    "$$\n",
    "\\begin{aligned}\n",
    "\\mathbb{V}{\\rm ar} \\left(\\widehat{\\boldsymbol{\\beta}}^{(RLS)} \\right) \n",
    "&= \\sigma^2 \\left( \\mathbf{X}^\\top  \\mathbf{X}\\right)^{-1} - \\sigma^2 \\left( \\mathbf{X}^\\top  \\mathbf{X}\\right)^{-1}  \\mathbf{L}^\\top \\left( \\mathbf{L}\\left( \\mathbf{X}^\\top \\mathbf{X} \\right)^{-1} \\mathbf{L}^\\top \\right)^{-1}  \\mathbf{L} \\left( \\mathbf{X}^\\top  \\mathbf{X}\\right)^{-1}\n",
    "\\end{aligned}\n",
    "$$"
   ]
  },
  {
   "cell_type": "markdown",
   "metadata": {},
   "source": [
    "$$\n",
    "\\begin{aligned} \n",
    "lnCT &= \\beta_{0}+\\beta_{q}lnq+ \\beta_{qq}(lnq)^2+\\beta_{q1}lnqlnp_1+\\beta_{q2}lnqlnp_2+ \\beta_{q3}lnqlnp_{3} +\\beta_{1}lnp_1+\\beta_{2}lnp_2+ \\beta_{3}lnp_3 \\\\\n",
    "& + \\beta_{11}(lnp_{1})^2+ \\beta_{22}(lnp_{2})^2+ \\beta_{33}(lnp_{3})^2 + \\beta_{12}lnp_{1}lnp_{2}+ \\beta_{13}lnp_{1}lnp_{3}+\\beta_{23}lnp_{2}lnp_{3} \n",
    "\\end{aligned}\n",
    "$$\n",
    "\n",
    "ST: \n",
    "\n",
    "<br>\n",
    "$$\n",
    "\\begin{aligned} \n",
    "\\beta_{1} + \\beta_{2} + \\beta_{3} &= 1 \\\\\n",
    "\\beta_{q1} + \\beta_{q2} + \\beta_{q3} &= 0 \\\\\n",
    "\\beta_{11} + \\beta_{12} + \\beta_{13} &= 0 \\\\\n",
    "\\beta_{21} + \\beta_{22} + \\beta_{23} &= 0 \\\\\n",
    "\\beta_{31} + \\beta_{32} + \\beta_{33} &= 0 \\\\\n",
    "\\beta_{ij} = \\beta_{ji}\n",
    "\\end{aligned}\n",
    "$$"
   ]
  },
  {
   "cell_type": "markdown",
   "metadata": {},
   "source": [
    "5. Generate a new class named `RegClass`. The initial attributes of your class must be `X`, `y`, and `intercept`. `X` (covariables) must be a **pd.DataFrame** and `y` (endog) must be a **pd.Series** and `intercept` can be `True` or `False`, by default `True`. Also, you must specify the type of your class' parameters, and output and It must raise an error if the inputs do not meet the requirements.  This class should have two methods: `reg_OLS` and `restricted_OLS` (You can add more if you think it is necessary). These methods should return the same output as the previously defined functions with the same name. The method `reg_OLS` does not need an extra parameter to be executed. After executing the method `reg_OLS`, any user should access the following attributes: `beta_OLS` and `var_OLS`. They should look like `beta_OLS_output` and `var_OLS_output`. The `restricted_OLS` method needs two extra parameters before being executed, `L` and `r`. They refer to the restrictions. After running the method `restricted_OLS`, any user should access the following attributes: `beta_OLS`, `var_OLS`, `rest_beta_OLS`, and `rest_var_OLS`. These attributes refer to the beta and variance estimated using OLS and restricted OLS. They should look like  `beta_OLS_output` and `var_OLS_output`. Fix all the methods and attributes. No user should be able to change them. **Hint: Use [lecture 6](https://notebooks.githubusercontent.com/view/ipynb?browser=chrome&color_mode=auto&commit=69c80e1f2c1c268f0480a32932262201785a576c&device=unknown_device&enc_url=68747470733a2f2f7261772e67697468756275736572636f6e74656e742e636f6d2f616c6578616e6465727175697370652f4469706c6f6d61646f5f505543502f363963383065316632633163323638663034383061333239333232363232303137383561353736632f4c6563747572655f362f4c6563747572655f362e6970796e62&logged_in=true&nwo=alexanderquispe%2FDiplomado_PUCP&path=Lecture_6%2FLecture_6.ipynb&platform=windows&repository_id=427747212&repository_type=Repository&version=96#6.3.).**"
   ]
  },
  {
   "cell_type": "code",
   "execution_count": 12,
   "metadata": {},
   "outputs": [
    {
     "data": {
      "text/html": [
       "<div>\n",
       "<style scoped>\n",
       "    .dataframe tbody tr th:only-of-type {\n",
       "        vertical-align: middle;\n",
       "    }\n",
       "\n",
       "    .dataframe tbody tr th {\n",
       "        vertical-align: top;\n",
       "    }\n",
       "\n",
       "    .dataframe thead th {\n",
       "        text-align: right;\n",
       "    }\n",
       "</style>\n",
       "<table border=\"1\" class=\"dataframe\">\n",
       "  <thead>\n",
       "    <tr style=\"text-align: right;\">\n",
       "      <th></th>\n",
       "      <th>Coef.</th>\n",
       "    </tr>\n",
       "  </thead>\n",
       "  <tbody>\n",
       "    <tr>\n",
       "      <th>Intercept</th>\n",
       "      <td>-7.472227</td>\n",
       "    </tr>\n",
       "    <tr>\n",
       "      <th>np.log(Q)</th>\n",
       "      <td>0.838111</td>\n",
       "    </tr>\n",
       "    <tr>\n",
       "      <th>np.log(PL)</th>\n",
       "      <td>0.044258</td>\n",
       "    </tr>\n",
       "    <tr>\n",
       "      <th>np.log(PF)</th>\n",
       "      <td>0.713098</td>\n",
       "    </tr>\n",
       "    <tr>\n",
       "      <th>np.log(PK)</th>\n",
       "      <td>0.188449</td>\n",
       "    </tr>\n",
       "  </tbody>\n",
       "</table>\n",
       "</div>"
      ],
      "text/plain": [
       "               Coef.\n",
       "Intercept  -7.472227\n",
       "np.log(Q)   0.838111\n",
       "np.log(PL)  0.044258\n",
       "np.log(PF)  0.713098\n",
       "np.log(PK)  0.188449"
      ]
     },
     "execution_count": 12,
     "metadata": {},
     "output_type": "execute_result"
    }
   ],
   "source": [
    "beta_OLS_output"
   ]
  },
  {
   "cell_type": "code",
   "execution_count": 13,
   "metadata": {},
   "outputs": [
    {
     "data": {
      "text/html": [
       "<div>\n",
       "<style scoped>\n",
       "    .dataframe tbody tr th:only-of-type {\n",
       "        vertical-align: middle;\n",
       "    }\n",
       "\n",
       "    .dataframe tbody tr th {\n",
       "        vertical-align: top;\n",
       "    }\n",
       "\n",
       "    .dataframe thead th {\n",
       "        text-align: right;\n",
       "    }\n",
       "</style>\n",
       "<table border=\"1\" class=\"dataframe\">\n",
       "  <thead>\n",
       "    <tr style=\"text-align: right;\">\n",
       "      <th></th>\n",
       "      <th>Intercept</th>\n",
       "      <th>np.log(Q)</th>\n",
       "      <th>np.log(PL)</th>\n",
       "      <th>np.log(PF)</th>\n",
       "      <th>np.log(PK)</th>\n",
       "    </tr>\n",
       "  </thead>\n",
       "  <tbody>\n",
       "    <tr>\n",
       "      <th>Intercept</th>\n",
       "      <td>1.130476</td>\n",
       "      <td>0.001167</td>\n",
       "      <td>-0.104116</td>\n",
       "      <td>0.004928</td>\n",
       "      <td>-0.052305</td>\n",
       "    </tr>\n",
       "    <tr>\n",
       "      <th>np.log(Q)</th>\n",
       "      <td>0.001167</td>\n",
       "      <td>0.000088</td>\n",
       "      <td>-0.000179</td>\n",
       "      <td>0.000055</td>\n",
       "      <td>-0.000111</td>\n",
       "    </tr>\n",
       "    <tr>\n",
       "      <th>np.log(PL)</th>\n",
       "      <td>-0.104116</td>\n",
       "      <td>-0.000179</td>\n",
       "      <td>0.011198</td>\n",
       "      <td>-0.001794</td>\n",
       "      <td>0.002636</td>\n",
       "    </tr>\n",
       "    <tr>\n",
       "      <th>np.log(PF)</th>\n",
       "      <td>0.004928</td>\n",
       "      <td>0.000055</td>\n",
       "      <td>-0.001794</td>\n",
       "      <td>0.004142</td>\n",
       "      <td>-0.000782</td>\n",
       "    </tr>\n",
       "    <tr>\n",
       "      <th>np.log(PK)</th>\n",
       "      <td>-0.052305</td>\n",
       "      <td>-0.000111</td>\n",
       "      <td>0.002636</td>\n",
       "      <td>-0.000782</td>\n",
       "      <td>0.007581</td>\n",
       "    </tr>\n",
       "  </tbody>\n",
       "</table>\n",
       "</div>"
      ],
      "text/plain": [
       "            Intercept  np.log(Q)  np.log(PL)  np.log(PF)  np.log(PK)\n",
       "Intercept    1.130476   0.001167   -0.104116    0.004928   -0.052305\n",
       "np.log(Q)    0.001167   0.000088   -0.000179    0.000055   -0.000111\n",
       "np.log(PL)  -0.104116  -0.000179    0.011198   -0.001794    0.002636\n",
       "np.log(PF)   0.004928   0.000055   -0.001794    0.004142   -0.000782\n",
       "np.log(PK)  -0.052305  -0.000111    0.002636   -0.000782    0.007581"
      ]
     },
     "execution_count": 13,
     "metadata": {},
     "output_type": "execute_result"
    }
   ],
   "source": [
    "var_OLS_output"
   ]
  }
 ],
 "metadata": {
  "hide_input": false,
  "kernelspec": {
   "display_name": "Python 3",
   "language": "python",
   "name": "python3"
  },
  "language_info": {
   "codemirror_mode": {
    "name": "ipython",
    "version": 3
   },
   "file_extension": ".py",
   "mimetype": "text/x-python",
   "name": "python",
   "nbconvert_exporter": "python",
   "pygments_lexer": "ipython3",
   "version": "3.8.8"
  }
 },
 "nbformat": 4,
 "nbformat_minor": 4
}
