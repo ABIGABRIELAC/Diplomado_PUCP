{
 "cells": [
  {
   "cell_type": "code",
   "execution_count": null,
   "id": "2c6e3b1e",
   "metadata": {},
   "outputs": [],
   "source": [
    "# Packages\n",
    "import os\n",
    "import re\n",
    "import time\n",
    "import json\n",
    "import pprint\n",
    "import unidecode\n",
    "import googlemaps\n",
    "import urllib.request, json\n",
    "\n",
    "\n",
    "import pandas as pd\n",
    "import numpy as np\n",
    "import seaborn as sns\n",
    "import datetime as dt\n",
    "import matplotlib.pyplot as plt\n",
    "\n",
    "\n",
    "from pandas import Series, DataFrame"
   ]
  },
  {
   "cell_type": "markdown",
   "id": "37f84add",
   "metadata": {},
   "source": [
    "# Graphs from Google Directions\n",
    "\n",
    "Histograms of time travel"
   ]
  },
  {
   "cell_type": "code",
   "execution_count": null,
   "id": "e5625825",
   "metadata": {},
   "outputs": [],
   "source": [
    "df1_2plot = results[['NOMBPROV','travel_time_best_guess','travel_time_pessimistic','travel_time_optimistic']]\n",
    "df1_2plot.columns = ['PROV','best_guess','pessimistic','optimistic']\n",
    "df1_2plot = df1_2plot.melt(id_vars=[\"PROV\"])\n",
    "df1_2plot"
   ]
  },
  {
   "cell_type": "code",
   "execution_count": null,
   "id": "e847e751",
   "metadata": {},
   "outputs": [],
   "source": [
    "figure1 = sns.FacetGrid(df1_2plot, col=\"PROV\",col_wrap=4)\n",
    "figure1.map(sns.histplot, 'value', hue = df1_2plot.variable)"
   ]
  },
  {
   "cell_type": "markdown",
   "id": "bf9903e1",
   "metadata": {},
   "source": [
    "Histograms of travel distance"
   ]
  },
  {
   "cell_type": "code",
   "execution_count": null,
   "id": "f2cf553d",
   "metadata": {},
   "outputs": [],
   "source": [
    "df2_2plot = results[['NOMBPROV','travel_distance_best_guess','travel_distance_pessimistic','travel_distance_optimistic']]\n",
    "df2_2plot.columns = ['PROV','best_guess','pessimistic','optimistic']\n",
    "df2_2plot = df2_2plot.melt(id_vars=[\"PROV\"])\n",
    "df2_2plot"
   ]
  },
  {
   "cell_type": "code",
   "execution_count": null,
   "id": "2d342703",
   "metadata": {},
   "outputs": [],
   "source": [
    "figure2 = sns.FacetGrid(df2_2plot, col=\"PROV\",col_wrap=4)\n",
    "figure2.map(sns.histplot, 'value', hue = df2_2plot.variable)"
   ]
  },
  {
   "cell_type": "markdown",
   "id": "bcee3453",
   "metadata": {},
   "source": [
    "Data for bar plot mean"
   ]
  },
  {
   "cell_type": "code",
   "execution_count": null,
   "id": "756c9fae",
   "metadata": {},
   "outputs": [],
   "source": [
    "# Sub data from travel time\n",
    "time_2plot    = results.groupby(['NOMBPROV'])[['travel_time_best_guess',\n",
    "                                               'travel_time_pessimistic',\n",
    "                                               'travel_time_optimistic']].mean()\n",
    "time_2plot.columns = ['best_guess','pessimistic','optimistic']\n",
    "time_2plot[\"type\"] = 'travel_time'\n",
    "\n",
    "# Sub data from travel distance\n",
    "distance_2plot = results.groupby(['NOMBPROV'])[['travel_distance_best_guess',\n",
    "                                                'travel_distance_pessimistic',\n",
    "                                                'travel_distance_optimistic']].mean()\n",
    "distance_2plot.columns = ['best_guess','pessimistic','optimistic']\n",
    "distance_2plot[\"type\"] = 'travel_distance'\n",
    "\n",
    "# time and distance\n",
    "time_dist = pd.concat([time_2plot, distance_2plot])\n",
    "time_dist[\"PROV\"] = time_dist.index\n",
    "time_dist.reset_index(drop=True,inplace=True)\n",
    "time_dist_2plot = time_dist.melt(id_vars=[\"type\", \"PROV\"])\n",
    "time_dist_2plot"
   ]
  },
  {
   "cell_type": "code",
   "execution_count": null,
   "id": "700a0bd1",
   "metadata": {},
   "outputs": [],
   "source": [
    "ag = sns.catplot(x = \"PROV\", y = \"value\",\n",
    "                 hue = \"variable\", col = \"type\",\n",
    "                 data = time_dist_2plot,\n",
    "                 kind =\"bar\",height=10, aspect=1);\n",
    "\n",
    "(ag.set_axis_labels(\"API results by province\", \"\").set_xticklabels(rotation=30))"
   ]
  }
 ],
 "metadata": {
  "kernelspec": {
   "display_name": "Python 3",
   "language": "python",
   "name": "python3"
  },
  "language_info": {
   "codemirror_mode": {
    "name": "ipython",
    "version": 3
   },
   "file_extension": ".py",
   "mimetype": "text/x-python",
   "name": "python",
   "nbconvert_exporter": "python",
   "pygments_lexer": "ipython3",
   "version": "3.8.8"
  }
 },
 "nbformat": 4,
 "nbformat_minor": 5
}
