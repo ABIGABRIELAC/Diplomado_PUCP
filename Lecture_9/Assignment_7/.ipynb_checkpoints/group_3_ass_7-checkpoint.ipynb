{
 "cells": [
  {
   "cell_type": "code",
   "execution_count": null,
   "metadata": {},
   "outputs": [],
   "source": [
    "import pandas as pd\n",
    "import unidecode\n",
    "import googlemaps\n",
    "import re\n",
    "from unicodedata import normalize\n",
    "import json, csv\n",
    "import numpy as np\n",
    "import time\n",
    "from tqdm.notebook import tqdm\n",
    "import matplotlib.pyplot as plt\n",
    "import seaborn as sns\n",
    "import requests"
   ]
  },
  {
   "cell_type": "code",
   "execution_count": null,
   "metadata": {},
   "outputs": [],
   "source": [
    "from IPython.display import display, HTML\n",
    "\n",
    "display(HTML(data=\"\"\"\n",
    "<style>\n",
    "    div#notebook-container    { width: 95%; }\n",
    "    div#menubar-container     { width: 65%; }\n",
    "    div#maintoolbar-container { width: 99%; }a\n",
    "</style>\n",
    "\"\"\"))"
   ]
  },
  {
   "cell_type": "code",
   "execution_count": null,
   "metadata": {},
   "outputs": [],
   "source": [
    "data_cajamarca = pd.read_excel(r'../../_data/cajamarca_data_helth_estb.xlsx')"
   ]
  },
  {
   "cell_type": "code",
   "execution_count": null,
   "metadata": {},
   "outputs": [],
   "source": [
    "centroids = pd.read_excel( r'../../_data/peru_districts_centroids.xlsx' )"
   ]
  },
  {
   "cell_type": "code",
   "execution_count": null,
   "metadata": {},
   "outputs": [],
   "source": [
    "cen_caj = centroids[ centroids[ 'NOMBDEP' ] == 'CAJAMARCA' ]"
   ]
  },
  {
   "cell_type": "markdown",
   "metadata": {},
   "source": [
    "### 4. Keep HE closest to centroid of district"
   ]
  },
  {
   "cell_type": "code",
   "execution_count": null,
   "metadata": {},
   "outputs": [],
   "source": []
  },
  {
   "cell_type": "code",
   "execution_count": null,
   "metadata": {},
   "outputs": [],
   "source": [
    "HE = pd.merge( data_cajamarca, cen_caj, on = [ 'NOMBPROV', 'NOMBDIST' ], validate = 'm:1' )"
   ]
  },
  {
   "cell_type": "code",
   "execution_count": null,
   "metadata": {},
   "outputs": [],
   "source": [
    "HE[ 'DISTANCE' ] = HE.apply( lambda row: np.sqrt( ( row[ 'Centroid_Latitude' ] - row[ 'latitud' ] ) ** 2 + ( row[ 'longitud' ] - row[ 'Centroid_Longitude' ] ) ** 2 ), \n",
    "                             axis = 1 )"
   ]
  },
  {
   "cell_type": "markdown",
   "metadata": {},
   "source": [
    "### 5. Use Google API Directions to find the driving travel time and distance from health establishments to district centroids."
   ]
  },
  {
   "cell_type": "code",
   "execution_count": null,
   "metadata": {},
   "outputs": [],
   "source": [
    "def directions(x, lat_origin, lon_origin, lat_destination, lon_destination, key, region, time):\n",
    "    \n",
    "    endpoint= 'https://maps.googleapis.com/maps/api/directions/json?'\n",
    "    traffic_model = ['best_guess', 'pessimistic', 'optimistic']\n",
    "    departure_time= time\n",
    "    mode = 'driving'\n",
    "    \n",
    "    api_key = key\n",
    "    region = region\n",
    "    \n",
    "    origin = '{},{}'.format(str(x[lat_origin]), str(x[lon_origin]))\n",
    "    destination = '{},{}'.format(str(x[lat_destination]), str(x[lon_destination]))\n",
    "    distance = []\n",
    "    duration = []\n",
    "    \n",
    "    for model in tqdm(traffic_model):\n",
    "        nav_request = 'origin={}&destination={}&departure_time={}&traffic_model={}&mode={}&region={}&key={}'.format(origin , \n",
    "                            destination , departure_time , model , mode, region, api_key)\n",
    "\n",
    "        request = endpoint + nav_request\n",
    "        response = requests.get(request)  ##Decided to use requests library because urllib was unable to load most requests (way too many timeout errors)\n",
    "        directions = response.json()\n",
    "        \n",
    "        if directions['status'] == 'ZERO_RESULTS':\n",
    "            distance.append('No results')\n",
    "            duration.append('No results')\n",
    "        else:\n",
    "            legs = directions['routes'][0]['legs'][0]\n",
    "            distance.append(legs['distance']['value'])\n",
    "            duration.append(legs['duration_in_traffic']['value'])\n",
    "    return distance, duration"
   ]
  },
  {
   "cell_type": "code",
   "execution_count": null,
   "metadata": {},
   "outputs": [],
   "source": [
    "departure_time = '1643058000'\n",
    "key = '' # Ran out of credit on my api key"
   ]
  },
  {
   "cell_type": "code",
   "execution_count": null,
   "metadata": {},
   "outputs": [],
   "source": [
    "data_cajamarca['directions'] = data_cajamarca.apply(lambda x: directions(x, 'latitud', 'longitud', 'Centroid_Latitude', 'Centroid_Longitude', key, 'pe', departure_time), axis=1)"
   ]
  },
  {
   "cell_type": "code",
   "execution_count": null,
   "metadata": {},
   "outputs": [],
   "source": [
    "distance, duration = map(list, zip(*data_cajamarca['directions'].tolist()))\n",
    "travel_time_best_guess, travel_time_pessimistic, travel_time_optimistic = map(list, zip(*duration))\n",
    "travel_distance_best_guess, travel_distance_pessimistic, travel_distance_optimistic = map(list, zip(*distance))"
   ]
  },
  {
   "cell_type": "code",
   "execution_count": null,
   "metadata": {},
   "outputs": [],
   "source": [
    "d = {'travel_time_best_guess':travel_time_best_guess, 'travel_time_pessimistic':travel_time_pessimistic, 'travel_time_optimistic':travel_time_optimistic, 'travel_distance_best_guess':travel_distance_best_guess, 'travel_distance_pessimistic':travel_distance_pessimistic, 'travel_distance_optimistic':travel_distance_optimistic}"
   ]
  },
  {
   "cell_type": "code",
   "execution_count": null,
   "metadata": {},
   "outputs": [],
   "source": [
    "df = pd.DataFrame(d, index=data_cajamarca.index)\n",
    "data_cajamarca[['travel_time_best_guess', 'travel_time_pessimistic', 'travel_time_optimistic', 'travel_distance_best_guess', 'travel_distance_pessimistic', 'travel_distance_optimistic']] = df\n",
    "data_cajamarca.pop('directions')\n",
    "data_cajamarca"
   ]
  },
  {
   "cell_type": "markdown",
   "metadata": {},
   "source": [
    "### 6. Graphs"
   ]
  }
 ],
 "metadata": {
  "kernelspec": {
   "display_name": "Python 3 (ipykernel)",
   "language": "python",
   "name": "python3"
  },
  "language_info": {
   "codemirror_mode": {
    "name": "ipython",
    "version": 3
   },
   "file_extension": ".py",
   "mimetype": "text/x-python",
   "name": "python",
   "nbconvert_exporter": "python",
   "pygments_lexer": "ipython3",
   "version": "3.8.8"
  }
 },
 "nbformat": 4,
 "nbformat_minor": 4
}
