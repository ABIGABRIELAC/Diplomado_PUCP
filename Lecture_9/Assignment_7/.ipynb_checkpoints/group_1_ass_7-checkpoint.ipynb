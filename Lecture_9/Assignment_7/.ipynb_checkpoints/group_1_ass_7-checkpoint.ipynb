{
 "cells": [
  {
   "cell_type": "markdown",
   "id": "04ecd14e",
   "metadata": {},
   "source": [
    "### Assignment 7"
   ]
  },
  {
   "cell_type": "markdown",
   "id": "15797cd0",
   "metadata": {},
   "source": [
    "# Import data about geolocated health establishments in Cajamarca"
   ]
  },
  {
   "cell_type": "code",
   "execution_count": null,
   "id": "f974ecfb",
   "metadata": {},
   "outputs": [],
   "source": []
  }
 ],
 "metadata": {
  "kernelspec": {
   "display_name": "Python 3 (ipykernel)",
   "language": "python",
   "name": "python3"
  },
  "language_info": {
   "codemirror_mode": {
    "name": "ipython",
    "version": 3
   },
   "file_extension": ".py",
   "mimetype": "text/x-python",
   "name": "python",
   "nbconvert_exporter": "python",
   "pygments_lexer": "ipython3",
   "version": "3.9.7"
  }
 },
 "nbformat": 4,
 "nbformat_minor": 5
}
