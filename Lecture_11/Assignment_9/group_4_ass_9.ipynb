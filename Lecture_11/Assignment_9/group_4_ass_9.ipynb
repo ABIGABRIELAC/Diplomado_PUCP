{
 "cells": [
  {
   "cell_type": "markdown",
   "id": "d8cb0149",
   "metadata": {},
   "source": [
    "### 2. Import the data located at this link. It has information on Tech Institutes' total vacancies, total applicants, total entrants, and total enrolled. Moreover, the institutes are geolocated."
   ]
  },
  {
   "cell_type": "code",
   "execution_count": null,
   "id": "9aef18a7",
   "metadata": {},
   "outputs": [],
   "source": []
  }
 ],
 "metadata": {
  "kernelspec": {
   "display_name": "Python 3 (ipykernel)",
   "language": "python",
   "name": "python3"
  },
  "language_info": {
   "codemirror_mode": {
    "name": "ipython",
    "version": 3
   },
   "file_extension": ".py",
   "mimetype": "text/x-python",
   "name": "python",
   "nbconvert_exporter": "python",
   "pygments_lexer": "ipython3",
   "version": "3.9.7"
  }
 },
 "nbformat": 4,
 "nbformat_minor": 5
}
