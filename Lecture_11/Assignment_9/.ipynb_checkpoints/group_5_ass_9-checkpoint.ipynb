{
 "cells": [
  {
   "cell_type": "code",
   "execution_count": null,
   "id": "a26304e4",
   "metadata": {},
   "outputs": [],
   "source": [
    "#Packages"
   ]
  },
  {
   "cell_type": "markdown",
   "id": "e14cd12d",
   "metadata": {},
   "source": [
    "# Radio by vacancies - Surplus"
   ]
  },
  {
   "cell_type": "code",
   "execution_count": null,
   "id": "1d4d571e",
   "metadata": {},
   "outputs": [],
   "source": [
    "radio_vac_map_s = fm.Map(location = ubication, zoom_start = 5, control_scale=True)\n",
    "\n",
    "# get superior ratios\n",
    "rads_s = list(up_ratio['ratio_applicants_vacancies'])\n",
    "\n",
    "# Create feature group\n",
    "feature_group = fm.FeatureGroup('Applicant Surplus')\n",
    "\n",
    "for i in range(len(up_coord)):\n",
    "    fm.Circle(up_coord[i], radius = rads_s[i]*10000,color = 'forestgreen').add_to(feature_group)\n",
    "\n",
    "# Agregate feature to map    \n",
    "feature_group.add_to(radio_vac_map_s)\n",
    "\n",
    "# Layer contro\n",
    "fm.LayerControl(collapsed=False).add_to(radio_vac_map_s)\n",
    "\n",
    "radio_vac_map_s.save(r\"./group_5_ass_9_html_maps/radio_vac_map_s.html\")\n",
    "radio_vac_map_s  "
   ]
  },
  {
   "cell_type": "markdown",
   "id": "70eafc3f",
   "metadata": {},
   "source": [
    "# Radio by vacancies - Deficit"
   ]
  },
  {
   "cell_type": "code",
   "execution_count": null,
   "id": "02c747e1",
   "metadata": {},
   "outputs": [],
   "source": [
    "radio_vac_map_d = fm.Map(location = ubication, zoom_start = 5, control_scale=True)\n",
    "\n",
    "# Generate inferior radious\n",
    "rads_d = list(down_ratio['ratio_applicants_vacancies'])\n",
    "\n",
    "# Feature group\n",
    "feature_group = fm.FeatureGroup('Applicant Deficit')\n",
    "\n",
    "for i in range(len(down_coord)):\n",
    "    fm.Circle(down_coord[i], radius = rads_d[i]*10000,color = 'red').add_to(feature_group)\n",
    "    \n",
    "feature_group.add_to(radio_vac_map_d)\n",
    "    \n",
    "fm.LayerControl(collapsed=False).add_to(radio_vac_map_d)\n",
    "\n",
    "radio_vac_map_d.save(r\"./group_5_ass_9_html_maps/radio_vac_map_d.html\")\n",
    "radio_vac_map_d"
   ]
  }
 ],
 "metadata": {
  "kernelspec": {
   "display_name": "Python 3 (ipykernel)",
   "language": "python",
   "name": "python3"
  },
  "language_info": {
   "codemirror_mode": {
    "name": "ipython",
    "version": 3
   },
   "file_extension": ".py",
   "mimetype": "text/x-python",
   "name": "python",
   "nbconvert_exporter": "python",
   "pygments_lexer": "ipython3",
   "version": "3.9.9"
  }
 },
 "nbformat": 4,
 "nbformat_minor": 5
}
