{
 "cells": [
  {
   "cell_type": "markdown",
   "id": "ba192b05",
   "metadata": {},
   "source": [
    "## Packages"
   ]
  },
  {
   "cell_type": "code",
   "execution_count": null,
   "id": "a26304e4",
   "metadata": {},
   "outputs": [],
   "source": [
    "# ! pip install folium\n",
    "# ! pip install shapely\n",
    "\n",
    "import folium as fm\n",
    "import chardet\n",
    "\n",
    "\n",
    "import numpy as np\n",
    "import pandas as pd\n",
    "import geopandas as gpd\n",
    "import matplotlib.pyplot as plt \n",
    "\n",
    "\n",
    "from pandas import Series, DataFrame\n",
    "from folium import Marker, GeoJson\n",
    "from geopandas import GeoSeries\n",
    "from shapely.geometry import Point, LineString\n",
    "from folium.plugins import MarkerCluster, HeatMap\n",
    "\n",
    "import branca as br "
   ]
  },
  {
   "cell_type": "markdown",
   "id": "657b8faf",
   "metadata": {},
   "source": [
    "# Data Processing"
   ]
  },
  {
   "cell_type": "code",
   "execution_count": null,
   "id": "5ca40a18",
   "metadata": {},
   "outputs": [],
   "source": [
    "base = open(r'../../_data/institutos1.csv','rb').read()\n",
    "det = chardet.detect(base)\n",
    "charenc = det['encoding']\n",
    "\n",
    "inst = pd.read_csv(r'../../_data/institutos1.csv', encoding = charenc)\n",
    "\n",
    "inst_geo = gpd.GeoDataFrame(inst, crs = \"EPSG:4326\", \n",
    "                            geometry = gpd.points_from_xy(inst.nlong_ie, inst.nlat_ie))\n",
    "\n",
    "shape = gpd.read_file(r'../../_data/INEI_LIMITE_DEPARTAMENTAL/INEI_LIMITE_DEPARTAMENTAL.shp')\n",
    "\n",
    "intersct_inst_geo = gpd.overlay(inst_geo, shape, how = \"intersection\")\n",
    "\n",
    "intersct_inst_geo"
   ]
  },
  {
   "cell_type": "markdown",
   "id": "d9fa72f1",
   "metadata": {},
   "source": [
    "# Vacancies by department"
   ]
  },
  {
   "cell_type": "code",
   "execution_count": null,
   "id": "d094cde4",
   "metadata": {},
   "outputs": [],
   "source": [
    "vars_sum = ['ltimoden_metaatencion', 'cuentadeid_postulante_procesoadm',\n",
    "            'sumaden_flagingresante',  'sumaden_flagmatriculado']\n",
    "\n",
    "tot_dpt = intersct_inst_geo.groupby(['CCDD'], as_index = False )[vars_sum ].sum()\n",
    "\n",
    "tot_dpt_shp = shape.merge(tot_dpt, on = 'CCDD' )\n",
    "\n",
    "# government palace coordinates\n",
    "\n",
    "lat_palacio = -12.0757538\n",
    "long_palacio = -76.9863174\n",
    "zoom_start = 5\n",
    "\n",
    "z = fm.Map(location = [lat_palacio, long_palacio], tiles='cartodbpositron', zoom_start = zoom_start)\n",
    "\n",
    "# Mandatory: geo_data in GeoJson format\n",
    "# columns: variables from economics indicators data set\n",
    "# Atention !!! key_on: commom variable between geodata and data \"feature.properties.(name of variable)\"\n",
    "\n",
    "fm.Choropleth(\n",
    "    geo_data=tot_dpt_shp,\n",
    "    data=tot_dpt_shp,\n",
    "    columns=['CCDD', 'ltimoden_metaatencion'],\n",
    "    key_on=\"feature.properties.CCDD\",\n",
    "    fill_color=\"YlOrRd\",\n",
    "    fill_opacity=0.8,\n",
    "    line_opacity=0.2,\n",
    "    legend_name=\"Total_vacancies\",\n",
    "    smooth_factor=0,\n",
    "    Highlight= True,\n",
    "    line_color = \"#0000\",\n",
    "    overlay=True,\n",
    "    nan_fill_color = \"White\"  # fill white missing values \n",
    "    ).add_to(z)\n",
    "\n",
    "#fm.LayerControl().add_to(z)\n",
    "\n",
    "# Save in a html format \n",
    "z.save(r\"./group_5_ass_9_html_maps/Total_vacancies.html\")\n",
    "z"
   ]
  },
  {
   "cell_type": "markdown",
   "id": "e14cd12d",
   "metadata": {},
   "source": [
    "# Radio by vacancies - Surplus"
   ]
  },
  {
   "cell_type": "code",
   "execution_count": null,
   "id": "1d4d571e",
   "metadata": {},
   "outputs": [],
   "source": [
    "radio_vac_map_s = fm.Map(location = ubication, zoom_start = 5, control_scale=True)\n",
    "\n",
    "# get superior ratios\n",
    "rads_s = list(up_ratio['ratio_applicants_vacancies'])\n",
    "\n",
    "# Create feature group\n",
    "feature_group = fm.FeatureGroup('Applicant Surplus')\n",
    "\n",
    "for i in range(len(up_coord)):\n",
    "    fm.Circle(up_coord[i], radius = rads_s[i]*10000,color = 'forestgreen').add_to(feature_group)\n",
    "\n",
    "# Agregate feature to map    \n",
    "feature_group.add_to(radio_vac_map_s)\n",
    "\n",
    "# Layer contro\n",
    "fm.LayerControl(collapsed=False).add_to(radio_vac_map_s)\n",
    "\n",
    "radio_vac_map_s.save(r\"./group_5_ass_9_html_maps/radio_vac_map_s.html\")\n",
    "radio_vac_map_s  "
   ]
  },
  {
   "cell_type": "markdown",
   "id": "70eafc3f",
   "metadata": {},
   "source": [
    "# Radio by vacancies - Deficit"
   ]
  },
  {
   "cell_type": "code",
   "execution_count": null,
   "id": "02c747e1",
   "metadata": {},
   "outputs": [],
   "source": [
    "radio_vac_map_d = fm.Map(location = ubication, zoom_start = 5, control_scale=True)\n",
    "\n",
    "# Generate inferior radious\n",
    "rads_d = list(down_ratio['ratio_applicants_vacancies'])\n",
    "\n",
    "# Feature group\n",
    "feature_group = fm.FeatureGroup('Applicant Deficit')\n",
    "\n",
    "for i in range(len(down_coord)):\n",
    "    fm.Circle(down_coord[i], radius = rads_d[i]*10000,color = 'red').add_to(feature_group)\n",
    "    \n",
    "feature_group.add_to(radio_vac_map_d)\n",
    "    \n",
    "fm.LayerControl(collapsed=False).add_to(radio_vac_map_d)\n",
    "\n",
    "radio_vac_map_d.save(r\"./group_5_ass_9_html_maps/radio_vac_map_d.html\")\n",
    "radio_vac_map_d"
   ]
  }
 ],
 "metadata": {
  "kernelspec": {
   "display_name": "Python 3",
   "language": "python",
   "name": "python3"
  },
  "language_info": {
   "codemirror_mode": {
    "name": "ipython",
    "version": 3
   },
   "file_extension": ".py",
   "mimetype": "text/x-python",
   "name": "python",
   "nbconvert_exporter": "python",
   "pygments_lexer": "ipython3",
   "version": "3.8.8"
  }
 },
 "nbformat": 4,
 "nbformat_minor": 5
}
