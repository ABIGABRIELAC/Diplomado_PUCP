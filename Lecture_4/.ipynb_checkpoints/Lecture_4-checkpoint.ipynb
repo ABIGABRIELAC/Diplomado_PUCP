{
 "cells": [
  {
   "cell_type": "code",
   "execution_count": 34,
   "metadata": {},
   "outputs": [],
   "source": [
    "import numpy as np\n",
    "import pandas as pd"
   ]
  },
  {
   "cell_type": "markdown",
   "metadata": {},
   "source": [
    "# 4. If and Loops"
   ]
  },
  {
   "cell_type": "markdown",
   "metadata": {},
   "source": [
    "## 4.1 If condition\n",
    "\n",
    "Function **if** test conditions. \n",
    "- Equals: a == b\n",
    "- Not Equals: a != b\n",
    "- Less than: a < b\n",
    "- Less than or equal to: a <= b\n",
    "- Greater than: a > b\n",
    "- Greater than or equal to: a >= b\n",
    "\n",
    "<img src=\"../_images/if-statement.jpg\" alt=\"image info\" />"
   ]
  },
  {
   "cell_type": "markdown",
   "metadata": {},
   "source": [
    "### 4.1.1 The structure of the code is the following: <br><br>\n",
    "\n",
    "<font size=\"4\">\n",
    "if <font color='green'>test expresion</font>:<br>\n",
    "&nbsp;&nbsp;&nbsp;&nbsp;Code to excute<br>\n",
    "</font>\n",
    "\n",
    "The function **if** tests the veracity of a logic expression. The result of test statement should be a **<font color='red'>boolean</font>**. In other words, the output of the test statemen must be **<font color='red'>True</font>** or **<font color='red'>False</font>**. To sum, any function that its output is **boolean** can be used as a test expression in the **if** function. "
   ]
  },
  {
   "cell_type": "markdown",
   "metadata": {},
   "source": [
    "### Examples"
   ]
  },
  {
   "cell_type": "code",
   "execution_count": 35,
   "metadata": {},
   "outputs": [
    {
     "data": {
      "text/plain": [
       "True"
      ]
     },
     "execution_count": 35,
     "metadata": {},
     "output_type": "execute_result"
    }
   ],
   "source": [
    "A = 30\n",
    "B = 20\n",
    "result = A > B\n",
    "result"
   ]
  },
  {
   "cell_type": "code",
   "execution_count": 36,
   "metadata": {},
   "outputs": [
    {
     "name": "stdout",
     "output_type": "stream",
     "text": [
      " Is A greater than B? \tFalse\n"
     ]
    }
   ],
   "source": [
    "A = 20\n",
    "B = 30\n",
    "\n",
    "result = A == B\n",
    "print( f' Is A greater than B? \\t{result}') # f'' help us to use numeric variables in strings"
   ]
  },
  {
   "cell_type": "code",
   "execution_count": 37,
   "metadata": {},
   "outputs": [
    {
     "name": "stdout",
     "output_type": "stream",
     "text": [
      "A is not equal B\n"
     ]
    }
   ],
   "source": [
    "# A = 20\n",
    "# B = 30\n",
    "\n",
    "if A != B:\n",
    "    print( 'A is not equal B' )"
   ]
  },
  {
   "cell_type": "code",
   "execution_count": 38,
   "metadata": {},
   "outputs": [
    {
     "name": "stdout",
     "output_type": "stream",
     "text": [
      "result A == B \tFalse \n",
      "\n",
      "result A != B \t  True \n",
      "\n",
      "result A > B \t False \n",
      "\n"
     ]
    }
   ],
   "source": [
    "A = 20\n",
    "B = 30\n",
    "\n",
    "result = A == B\n",
    "print( f'result A == B \\t{result} \\n')\n",
    "\n",
    "result = A != B\n",
    "print(f'result A != B \\t  {result} \\n' )\n",
    "\n",
    "result = A > B\n",
    "print(f'result A > B \\t {result} \\n')"
   ]
  },
  {
   "cell_type": "markdown",
   "metadata": {},
   "source": [
    "### 4.1.2 Test more than 1 expression\n",
    "\n",
    "We will use **elif**. This function allows us to add more test expressions.  <br><br>\n",
    "\n",
    "\n",
    "\n",
    "<font size=\"4\">\n",
    "if <font color='green'>test expresion1</font>: <br>\n",
    "&nbsp;&nbsp;&nbsp;&nbsp;Code1<br><br>\n",
    "elif <font color='green'>test expresion2</font>:<br>\n",
    "&nbsp;&nbsp;&nbsp;&nbsp;Code2<br><br>\n",
    "elif <font color='green'>test expresion3</font>:<br>\n",
    "&nbsp;&nbsp;&nbsp;&nbsp;Code3<br><br>\n",
    "elif <font color='green'>test expresion4</font>:<br>\n",
    "&nbsp;&nbsp;&nbsp;&nbsp;Code4<br><br>\n",
    "elif <font color='green'>test expresion5</font>:<br>\n",
    "&nbsp;&nbsp;&nbsp;&nbsp;Code5<br><br>\n",
    "else :<br>\n",
    "&nbsp;&nbsp;&nbsp;&nbsp;Code6<br><br>\n",
    "</font>\n",
    "\n",
    "Python will read the conditions of the test in order. \n",
    "If **Test expression 1** is `True`, the rest of the test expressions will not be evaluated. \n",
    "R execute **Code2** and will not test the next conditions. <br>\n",
    "\n",
    "In case no Test expression is `True`, the **Code6** will be excuted."
   ]
  },
  {
   "cell_type": "code",
   "execution_count": 39,
   "metadata": {},
   "outputs": [
    {
     "name": "stdout",
     "output_type": "stream",
     "text": [
      "Test expresion 4 is True\n"
     ]
    }
   ],
   "source": [
    "A = 20\n",
    "B = 30\n",
    "\n",
    "if A == B:\n",
    "    print( 'Test expresion 1 is True' )\n",
    "    \n",
    "elif A > B:\n",
    "    print( 'Test expresion 2 is True' )\n",
    "\n",
    "elif A >= B:\n",
    "    print( 'Test expresion 3 is True' )\n",
    "    \n",
    "elif A < B:\n",
    "    print( 'Test expresion 4 is True' )\n",
    "    \n",
    "elif A <= B:\n",
    "    print( 'Test expresion 5 is True' )\n",
    "    \n",
    "else:\n",
    "    print( 'Test expresion 6 is True' )"
   ]
  },
  {
   "cell_type": "code",
   "execution_count": 40,
   "metadata": {},
   "outputs": [
    {
     "name": "stdout",
     "output_type": "stream",
     "text": [
      "A is less than B. Condition 4 is true.\n"
     ]
    }
   ],
   "source": [
    "# A = 20\n",
    "# B = 30\n",
    "\n",
    "if A == B:\n",
    "     print ('A is the same as B. Condition 1 is true.')\n",
    "    \n",
    "elif A > B:\n",
    "     print ('A is greater than B. Condition 2 is true.')\n",
    "\n",
    "elif A >= B:\n",
    "     print ('A is greater than or equal to B. Condition 3 is true.')\n",
    "    \n",
    "elif A < B:\n",
    "     print ('A is less than B. Condition 4 is true.')\n",
    "    \n",
    "elif A <= B:\n",
    "     print ('A is less than or equal to B. Condition 5 is true.')\n",
    "    \n",
    "else:\n",
    "     print ('When neither condition is true, this phrase is printed.')"
   ]
  },
  {
   "cell_type": "markdown",
   "metadata": {},
   "source": [
    "### 4.1.3 [Logical Operators](https://www.geeksforgeeks.org/python-logical-operators-with-examples-improvement-needed/)\n",
    "\n",
    "Three key logical operators: **<font color = 'red' >and</font>**, **<font color = 'red' > or</font>**, and **<font color = 'red' > not</font>**."
   ]
  },
  {
   "cell_type": "code",
   "execution_count": 41,
   "metadata": {},
   "outputs": [
    {
     "name": "stdout",
     "output_type": "stream",
     "text": [
      "B is greater than C and greater than A. Condition 3 is true.\n"
     ]
    }
   ],
   "source": [
    "A = 20\n",
    "B = 30\n",
    "C = 25\n",
    "\n",
    "if A == B and A < C:\n",
    "     print ('A is equal to B and less than C. Condition 1 is true.')\n",
    "    \n",
    "elif A > B or A > C:\n",
    "     print ('A is greater than B or greater than C. Condition 2 is true.')\n",
    "\n",
    "elif B > C and B > A:\n",
    "     print ('B is greater than C and greater than A. Condition 3 is true.')\n",
    "    \n",
    "else:\n",
    "     print ('When neither condition is true, this phrase is printed.')"
   ]
  },
  {
   "cell_type": "code",
   "execution_count": 42,
   "metadata": {},
   "outputs": [
    {
     "name": "stdout",
     "output_type": "stream",
     "text": [
      "A is not equal to 27. Condition 1 is true.\n"
     ]
    }
   ],
   "source": [
    "# A = 20\n",
    "# B = 30\n",
    "# C = 25\n",
    "\n",
    "if not (A> 27):\n",
    "     print ('A is not equal to 27. Condition 1 is true.')\n",
    "        \n",
    "else:\n",
    "     print ('When neither condition is true, this phrase is printed.')"
   ]
  },
  {
   "cell_type": "markdown",
   "metadata": {},
   "source": [
    "### 4.1.4 [Python Identity Operators](https://www.w3schools.com/python/gloss_python_identity_operators.asp)\n",
    "\n",
    "These operators help us to compare whether variables refer to the same object.\n",
    "We have **<font color = 'red' >is</font>**, and **<font color = 'red' > is not</font>** as identity operators."
   ]
  },
  {
   "cell_type": "code",
   "execution_count": 43,
   "metadata": {},
   "outputs": [],
   "source": [
    "C = None\n",
    "C"
   ]
  },
  {
   "cell_type": "code",
   "execution_count": 44,
   "metadata": {},
   "outputs": [
    {
     "name": "stdout",
     "output_type": "stream",
     "text": [
      "Ohh C is None :(\n"
     ]
    }
   ],
   "source": [
    "if C is None:\n",
    "    print( 'Ohh C is None :(')"
   ]
  },
  {
   "cell_type": "code",
   "execution_count": 45,
   "metadata": {},
   "outputs": [
    {
     "name": "stdout",
     "output_type": "stream",
     "text": [
      "C is not a float\n"
     ]
    }
   ],
   "source": [
    "if C is not float:\n",
    "    print( 'C is not a float')"
   ]
  },
  {
   "cell_type": "markdown",
   "metadata": {},
   "source": [
    "#### Difference between **<font color = 'red' > ==</font>** and **<font color = 'red' > is</font>** operator in Python\n",
    "\n",
    "1. **<font color = 'red' > ==</font>** operator compares the values of both the operands and checks for value equality.\n",
    "2. **<font color = 'red' > is</font>** operator checks whether both the operands refer to the same object or not (present in the same memory location)."
   ]
  },
  {
   "cell_type": "code",
   "execution_count": 46,
   "metadata": {},
   "outputs": [
    {
     "data": {
      "text/plain": [
       "True"
      ]
     },
     "execution_count": 46,
     "metadata": {},
     "output_type": "execute_result"
    }
   ],
   "source": [
    "a = 5\n",
    "b = 5\n",
    "\n",
    "a is b"
   ]
  },
  {
   "cell_type": "code",
   "execution_count": 47,
   "metadata": {
    "scrolled": true
   },
   "outputs": [
    {
     "data": {
      "text/plain": [
       "array([ True,  True,  True,  True])"
      ]
     },
     "execution_count": 47,
     "metadata": {},
     "output_type": "execute_result"
    }
   ],
   "source": [
    "a = np.arange(0, 4)\n",
    "b = np.array( [0, 1 , 2 , 3 ] )\n",
    "\n",
    "a == b    "
   ]
  },
  {
   "cell_type": "code",
   "execution_count": 48,
   "metadata": {},
   "outputs": [
    {
     "data": {
      "text/plain": [
       "False"
      ]
     },
     "execution_count": 48,
     "metadata": {},
     "output_type": "execute_result"
    }
   ],
   "source": [
    "a is b"
   ]
  },
  {
   "cell_type": "markdown",
   "metadata": {},
   "source": [
    "#### IF condition structure"
   ]
  },
  {
   "cell_type": "markdown",
   "metadata": {},
   "source": [
    "The strict way to run the if conditions is as follows: <br>\n",
    "\n",
    "<font size = \"4\">\n",
    "\n",
    "\n",
    "if <font color = 'green'> condition1 </font>: <font color = 'red'> (Required) </font> <br>\n",
    "&nbsp; &nbsp; &nbsp; &nbsp; &nbsp; &nbsp; code1 <br> <br>\n",
    "elif <font color = 'green'> condition2 </font>:**(Optional)**<br>\n",
    "&nbsp; &nbsp; &nbsp; &nbsp; &nbsp; &nbsp; code2 <br> <br>\n",
    "elif <font color = 'green'> condition3 </font>:**(Optional)**<br>\n",
    "&nbsp; &nbsp; &nbsp; &nbsp; &nbsp; &nbsp; code3 <br> <br>\n",
    "elif <font color = 'green'> condition4 </font>:**(Optional)**<br>\n",
    "&nbsp; &nbsp; &nbsp; &nbsp; &nbsp; &nbsp; code4 <br> <br>\n",
    "else: <font color = 'red'> (Required) </font> <br>\n",
    "&nbsp; &nbsp; &nbsp; &nbsp; &nbsp; &nbsp; code5 <br>\n",
    "<br>\n",
    "</font>"
   ]
  },
  {
   "cell_type": "markdown",
   "metadata": {},
   "source": [
    "### 4.1.5 Python Nested if Statement"
   ]
  },
  {
   "cell_type": "code",
   "execution_count": 49,
   "metadata": {},
   "outputs": [
    {
     "name": "stdout",
     "output_type": "stream",
     "text": [
      "FREE\n"
     ]
    }
   ],
   "source": [
    "total = 100\n",
    "#country = \"PE\"\n",
    "country = \"AR\"\n",
    "if country == \"PE\":\n",
    "    if total <= 50:\n",
    "        print(\"Shipping Cost is  $50\")\n",
    "    elif total <= 100:\n",
    "        print(\"Shipping Cost is $25\")\n",
    "    elif total <= 150:\n",
    "        print(\"Shipping Costs $5\")\n",
    "    else:\n",
    "        print(\"FREE\")\n",
    "        \n",
    "if country == \"AR\": \n",
    "    if total <= 50:\n",
    "        print(\"Shipping Cost is  $100\")\n",
    "    else:\n",
    "        print(\"FREE\")"
   ]
  },
  {
   "cell_type": "markdown",
   "metadata": {},
   "source": [
    "The **if** function is not only useful with logical expressions, but also with functions whose result is a **<font color = 'red' > Boolean </font>** (**True** or **False**).<br>\n",
    "For example, the **isinstance** function evaluates whether a variable is string, bool, int, float and returns a Boolean (True or False) as a result. For more information [here](https://docs.python.org/3/library/functions.html#isinstance). <br>"
   ]
  },
  {
   "cell_type": "code",
   "execution_count": 50,
   "metadata": {
    "scrolled": true
   },
   "outputs": [
    {
     "data": {
      "text/plain": [
       "False"
      ]
     },
     "execution_count": 50,
     "metadata": {},
     "output_type": "execute_result"
    }
   ],
   "source": [
    "# The result of isinstance is a Boolean. Then it can be used as a condition in the if function.\n",
    "isinstance (A, str)"
   ]
  },
  {
   "cell_type": "code",
   "execution_count": 51,
   "metadata": {},
   "outputs": [
    {
     "name": "stdout",
     "output_type": "stream",
     "text": [
      "A is an integer\n"
     ]
    }
   ],
   "source": [
    "A = 20\n",
    "# A = np.array([3, 4, 5])\n",
    "\n",
    "if isinstance( A, str ):\n",
    "    print( 'A is a string' )\n",
    "\n",
    "elif isinstance( A, bool ):\n",
    "    print( 'A is a boolean' )\n",
    "\n",
    "elif isinstance( A, float ):\n",
    "    print( 'A is a float' )\n",
    "\n",
    "elif isinstance( A, int ):\n",
    "    print( 'A is an integer' )\n",
    "\n",
    "elif isinstance( A, complex ):\n",
    "    print( 'A is a complex' )\n",
    "\n",
    "else:\n",
    "    print( 'A is another type of variable')"
   ]
  },
  {
   "cell_type": "markdown",
   "metadata": {},
   "source": [
    "## 4.2 For Loops\n",
    "\n",
    "A for loop is used for iterating over a sequence. It executes a code a definite number of times. It has the following structure:\n",
    "\n",
    "<img src=\"../_images/for_loop.jpg\" alt=\"image info\" />\n",
    "\n"
   ]
  },
  {
   "cell_type": "markdown",
   "metadata": {},
   "source": [
    "### 4.2.1 In numpy"
   ]
  },
  {
   "cell_type": "code",
   "execution_count": 52,
   "metadata": {},
   "outputs": [
    {
     "data": {
      "text/plain": [
       "array([15, 20, 25, 30, 35, 40, 48])"
      ]
     },
     "execution_count": 52,
     "metadata": {},
     "output_type": "execute_result"
    }
   ],
   "source": [
    "sequence = np.array( [15, 20, 25, 30 , 35 , 40 , 48 ] )\n",
    "sequence"
   ]
  },
  {
   "cell_type": "code",
   "execution_count": 53,
   "metadata": {},
   "outputs": [
    {
     "name": "stdout",
     "output_type": "stream",
     "text": [
      "15\n",
      "20\n",
      "25\n",
      "30\n",
      "35\n",
      "40\n",
      "48\n"
     ]
    }
   ],
   "source": [
    "i = 0\n",
    "for element in sequence:\n",
    "    print( element )"
   ]
  },
  {
   "cell_type": "markdown",
   "metadata": {},
   "source": [
    "### 4.2.2 In List"
   ]
  },
  {
   "cell_type": "code",
   "execution_count": 54,
   "metadata": {},
   "outputs": [
    {
     "name": "stdout",
     "output_type": "stream",
     "text": [
      "<class 'list'>\n",
      "<class 'list'>\n",
      "<class 'list'>\n"
     ]
    }
   ],
   "source": [
    "class_age = [ [11, 12, 11] , [15, 16, 16] , [17, 17, 18]]\n",
    "\n",
    "for age in class_age:\n",
    "    print( type(age) )"
   ]
  },
  {
   "cell_type": "code",
   "execution_count": 55,
   "metadata": {},
   "outputs": [
    {
     "name": "stdout",
     "output_type": "stream",
     "text": [
      "<class 'int'>\n",
      "<class 'int'>\n",
      "<class 'int'>\n",
      "<class 'int'>\n",
      "<class 'int'>\n"
     ]
    }
   ],
   "source": [
    "ages = [ 21, 23, 25, 24, 20]\n",
    "\n",
    "for age in ages:\n",
    "    print( type(age) )"
   ]
  },
  {
   "cell_type": "markdown",
   "metadata": {},
   "source": [
    "### 4.2.3 In Dictionary"
   ]
  },
  {
   "cell_type": "code",
   "execution_count": 56,
   "metadata": {},
   "outputs": [],
   "source": [
    "class_1 = {\"students\" : ['Miguel', 'Anthony', 'Paul', 'Rodrigo', 'Jason'] , \"age\" : [20, 18, 15, 20, 22]}"
   ]
  },
  {
   "cell_type": "code",
   "execution_count": 57,
   "metadata": {},
   "outputs": [
    {
     "name": "stdout",
     "output_type": "stream",
     "text": [
      "Miguel\n",
      "Anthony\n",
      "Paul\n",
      "Rodrigo\n",
      "Jason\n",
      "20\n",
      "18\n",
      "15\n",
      "20\n",
      "22\n"
     ]
    }
   ],
   "source": [
    "for key in class_1.keys():\n",
    "    for val in class_1[key]:\n",
    "         print (val)"
   ]
  },
  {
   "cell_type": "code",
   "execution_count": 58,
   "metadata": {},
   "outputs": [
    {
     "name": "stdout",
     "output_type": "stream",
     "text": [
      "students\n",
      "age\n"
     ]
    }
   ],
   "source": [
    "for key in class_1.keys():\n",
    "    print(key)"
   ]
  },
  {
   "cell_type": "code",
   "execution_count": 59,
   "metadata": {},
   "outputs": [
    {
     "name": "stdout",
     "output_type": "stream",
     "text": [
      "['Miguel', 'Anthony', 'Paul', 'Rodrigo', 'Jason']\n",
      "[20, 18, 15, 20, 22]\n"
     ]
    }
   ],
   "source": [
    "for val in class_1.values():\n",
    "    print( val )"
   ]
  },
  {
   "cell_type": "code",
   "execution_count": 60,
   "metadata": {
    "scrolled": true
   },
   "outputs": [
    {
     "name": "stdout",
     "output_type": "stream",
     "text": [
      "students ['Miguel', 'Anthony', 'Paul', 'Rodrigo', 'Jason']\n",
      "age [20, 18, 15, 20, 22]\n"
     ]
    }
   ],
   "source": [
    "for key, val in class_1.items():\n",
    "    print( key, val )"
   ]
  },
  {
   "cell_type": "code",
   "execution_count": 61,
   "metadata": {},
   "outputs": [],
   "source": [
    "dict1 = {}\n",
    "\n",
    "for i in range(5):\n",
    "    dict1[f'random_{i+1}' ] = np.random.rand(3)"
   ]
  },
  {
   "cell_type": "code",
   "execution_count": 62,
   "metadata": {
    "scrolled": true
   },
   "outputs": [
    {
     "data": {
      "text/plain": [
       "{'random_1': array([0.98519227, 0.37494796, 0.24082856]),\n",
       " 'random_2': array([0.15219156, 0.16830113, 0.23418069]),\n",
       " 'random_3': array([0.6019422 , 0.82173513, 0.92078329]),\n",
       " 'random_4': array([0.79327195, 0.89996149, 0.06384876]),\n",
       " 'random_5': array([0.98077795, 0.12473914, 0.33349769])}"
      ]
     },
     "execution_count": 62,
     "metadata": {},
     "output_type": "execute_result"
    }
   ],
   "source": [
    "dict1"
   ]
  },
  {
   "cell_type": "markdown",
   "metadata": {},
   "source": [
    "### 4.2.4 For loop using range"
   ]
  },
  {
   "cell_type": "code",
   "execution_count": 63,
   "metadata": {},
   "outputs": [
    {
     "name": "stdout",
     "output_type": "stream",
     "text": [
      "Miguel is 20 years old.\n",
      "Anthony is 18 years old.\n",
      "Paul is 15 years old.\n",
      "Rodrigo is 20 years old.\n",
      "Jason is 22 years old.\n"
     ]
    }
   ],
   "source": [
    "# Class\n",
    "students = ['Miguel', 'Anthony', 'Paul', 'Rodrigo', 'Jason']\n",
    "\n",
    "# Ages\n",
    "ages = [20, 18, 15, 20, 22]\n",
    "\n",
    "for index in range (0, len (students)):\n",
    "     print (f'{ students[index] } is { ages[index] } years old.')"
   ]
  },
  {
   "cell_type": "markdown",
   "metadata": {},
   "source": [
    "### 4.2.5 Nested For Loop\n",
    "\n",
    "A for loop inside another for loop."
   ]
  },
  {
   "cell_type": "code",
   "execution_count": 64,
   "metadata": {},
   "outputs": [
    {
     "data": {
      "text/plain": [
       "[[11, 12, 11], [15, 16, 16], [17, 17, 18]]"
      ]
     },
     "execution_count": 64,
     "metadata": {},
     "output_type": "execute_result"
    }
   ],
   "source": [
    "age_class = [ [11, 12, 11] , [15, 16, 16] , [17, 17, 18]]\n",
    "age_class"
   ]
  },
  {
   "cell_type": "code",
   "execution_count": 65,
   "metadata": {},
   "outputs": [
    {
     "name": "stdout",
     "output_type": "stream",
     "text": [
      "[11, 12, 11]\n",
      "11\n",
      "12\n",
      "11\n",
      "[15, 16, 16]\n",
      "15\n",
      "16\n",
      "16\n",
      "[17, 17, 18]\n",
      "17\n",
      "17\n",
      "18\n"
     ]
    }
   ],
   "source": [
    "for classs in age_class:\n",
    "    print( classs )\n",
    "    \n",
    "    for age in classs:\n",
    "        print( age )"
   ]
  },
  {
   "cell_type": "code",
   "execution_count": 66,
   "metadata": {},
   "outputs": [
    {
     "name": "stdout",
     "output_type": "stream",
     "text": [
      "Miguel is 20\n",
      "Anthony is 18\n",
      "Paul is 15\n",
      "Rodrigo is 20\n",
      "Jason is 22\n"
     ]
    }
   ],
   "source": [
    "# secuencia\n",
    "students = [ 'Miguel' , 'Anthony', 'Paul', 'Rodrigo', 'Jason' ]\n",
    "\n",
    "# age\n",
    "gr_age = [ 20, 18, 15, 20, 22]\n",
    "\n",
    "# Loops\n",
    "for student, age in zip( students , gr_age ):\n",
    "    print(f'{ student } is { age }')"
   ]
  },
  {
   "cell_type": "code",
   "execution_count": 67,
   "metadata": {},
   "outputs": [
    {
     "name": "stdout",
     "output_type": "stream",
     "text": [
      "Miguel is 20\n",
      "Anthony is 18\n",
      "Paul is 15\n",
      "Rodrigo is 20\n"
     ]
    }
   ],
   "source": [
    "## Diferent dimmensions\n",
    "# secuencia\n",
    "students = [ 'Miguel' , 'Anthony', 'Paul', 'Rodrigo', 'Jason' ]\n",
    "\n",
    "# Edades\n",
    "gr_age = [ 20, 18, 15, 20 ]\n",
    "\n",
    "for student, age in zip( students , gr_age ):\n",
    "    print(f'{ student } is { age }')"
   ]
  },
  {
   "cell_type": "markdown",
   "metadata": {},
   "source": [
    "### 4.2.6 Example"
   ]
  },
  {
   "cell_type": "code",
   "execution_count": 68,
   "metadata": {
    "scrolled": false
   },
   "outputs": [],
   "source": [
    "production_fish = pd.read_csv( r\"..\\_data\\production_fish.csv\" )"
   ]
  },
  {
   "cell_type": "code",
   "execution_count": 69,
   "metadata": {
    "scrolled": true
   },
   "outputs": [
    {
     "data": {
      "text/html": [
       "<div>\n",
       "<style scoped>\n",
       "    .dataframe tbody tr th:only-of-type {\n",
       "        vertical-align: middle;\n",
       "    }\n",
       "\n",
       "    .dataframe tbody tr th {\n",
       "        vertical-align: top;\n",
       "    }\n",
       "\n",
       "    .dataframe thead th {\n",
       "        text-align: right;\n",
       "    }\n",
       "</style>\n",
       "<table border=\"1\" class=\"dataframe\">\n",
       "  <thead>\n",
       "    <tr style=\"text-align: right;\">\n",
       "      <th></th>\n",
       "      <th>year</th>\n",
       "      <th>Consumo Industrial - Anchoveta</th>\n",
       "      <th>Consumo Humano - Congelado - Concha de abanico</th>\n",
       "      <th>Consumo Humano - Congelado - Langostino</th>\n",
       "      <th>Consumo Humano - Congelado - Merluza</th>\n",
       "      <th>Consumo Humano - Congelado - Calamar gigante</th>\n",
       "      <th>Consumo Humano - Conservas - Atún</th>\n",
       "      <th>Consumo Humano - Conservas - Caballa</th>\n",
       "      <th>Consumo Humano - Conservas - Jurel</th>\n",
       "      <th>Consumo Humano - Conservas - Sardina</th>\n",
       "      <th>Consumo Humano - Fresco - Concha de abanico</th>\n",
       "      <th>Consumo Humano - Fresco - Jurel</th>\n",
       "      <th>Consumo Humano - Fresco - Liza</th>\n",
       "      <th>Consumo Humano - Fresco - Tollo</th>\n",
       "      <th>total_production</th>\n",
       "    </tr>\n",
       "  </thead>\n",
       "  <tbody>\n",
       "    <tr>\n",
       "      <th>0</th>\n",
       "      <td>2005</td>\n",
       "      <td>8628.396</td>\n",
       "      <td>13.537</td>\n",
       "      <td>9.021</td>\n",
       "      <td>23.279000</td>\n",
       "      <td>235.630000</td>\n",
       "      <td>9.877000</td>\n",
       "      <td>25.71100</td>\n",
       "      <td>20.481000</td>\n",
       "      <td>0.16500</td>\n",
       "      <td>1.843080</td>\n",
       "      <td>56.167940</td>\n",
       "      <td>5.875600</td>\n",
       "      <td>0.430000</td>\n",
       "      <td>9030.413620</td>\n",
       "    </tr>\n",
       "    <tr>\n",
       "      <th>1</th>\n",
       "      <td>2006</td>\n",
       "      <td>5891.838</td>\n",
       "      <td>14.714</td>\n",
       "      <td>11.295</td>\n",
       "      <td>25.189000</td>\n",
       "      <td>365.729000</td>\n",
       "      <td>11.336000</td>\n",
       "      <td>58.24500</td>\n",
       "      <td>122.904000</td>\n",
       "      <td>0.04800</td>\n",
       "      <td>4.048000</td>\n",
       "      <td>136.827000</td>\n",
       "      <td>3.166000</td>\n",
       "      <td>1.584000</td>\n",
       "      <td>6646.923000</td>\n",
       "    </tr>\n",
       "    <tr>\n",
       "      <th>2</th>\n",
       "      <td>2007</td>\n",
       "      <td>6084.713</td>\n",
       "      <td>19.937</td>\n",
       "      <td>13.548</td>\n",
       "      <td>28.358488</td>\n",
       "      <td>379.556594</td>\n",
       "      <td>3.713293</td>\n",
       "      <td>26.24874</td>\n",
       "      <td>82.910307</td>\n",
       "      <td>0.00102</td>\n",
       "      <td>4.822991</td>\n",
       "      <td>134.887316</td>\n",
       "      <td>9.317622</td>\n",
       "      <td>2.834958</td>\n",
       "      <td>6790.849328</td>\n",
       "    </tr>\n",
       "  </tbody>\n",
       "</table>\n",
       "</div>"
      ],
      "text/plain": [
       "   year  Consumo Industrial - Anchoveta  \\\n",
       "0  2005                        8628.396   \n",
       "1  2006                        5891.838   \n",
       "2  2007                        6084.713   \n",
       "\n",
       "   Consumo Humano - Congelado - Concha de abanico  \\\n",
       "0                                          13.537   \n",
       "1                                          14.714   \n",
       "2                                          19.937   \n",
       "\n",
       "   Consumo Humano - Congelado - Langostino  \\\n",
       "0                                    9.021   \n",
       "1                                   11.295   \n",
       "2                                   13.548   \n",
       "\n",
       "   Consumo Humano - Congelado - Merluza  \\\n",
       "0                             23.279000   \n",
       "1                             25.189000   \n",
       "2                             28.358488   \n",
       "\n",
       "   Consumo Humano - Congelado - Calamar gigante  \\\n",
       "0                                    235.630000   \n",
       "1                                    365.729000   \n",
       "2                                    379.556594   \n",
       "\n",
       "   Consumo Humano - Conservas - Atún  Consumo Humano - Conservas - Caballa  \\\n",
       "0                           9.877000                              25.71100   \n",
       "1                          11.336000                              58.24500   \n",
       "2                           3.713293                              26.24874   \n",
       "\n",
       "   Consumo Humano - Conservas - Jurel  Consumo Humano - Conservas - Sardina  \\\n",
       "0                           20.481000                               0.16500   \n",
       "1                          122.904000                               0.04800   \n",
       "2                           82.910307                               0.00102   \n",
       "\n",
       "   Consumo Humano - Fresco - Concha de abanico  \\\n",
       "0                                     1.843080   \n",
       "1                                     4.048000   \n",
       "2                                     4.822991   \n",
       "\n",
       "   Consumo Humano - Fresco - Jurel  Consumo Humano - Fresco - Liza  \\\n",
       "0                        56.167940                        5.875600   \n",
       "1                       136.827000                        3.166000   \n",
       "2                       134.887316                        9.317622   \n",
       "\n",
       "   Consumo Humano - Fresco - Tollo  total_production  \n",
       "0                         0.430000       9030.413620  \n",
       "1                         1.584000       6646.923000  \n",
       "2                         2.834958       6790.849328  "
      ]
     },
     "execution_count": 69,
     "metadata": {},
     "output_type": "execute_result"
    }
   ],
   "source": [
    "production_fish.head(3)"
   ]
  },
  {
   "cell_type": "code",
   "execution_count": 70,
   "metadata": {},
   "outputs": [],
   "source": [
    "col_names = production_fish.columns.to_list()[ 1:-1 ]"
   ]
  },
  {
   "cell_type": "code",
   "execution_count": 71,
   "metadata": {},
   "outputs": [],
   "source": [
    "for col in col_names:\n",
    "    production_fish[ f'%_{col}' ]  = production_fish[ f'{col}' ] * 100 / production_fish[ 'total_production' ]"
   ]
  },
  {
   "cell_type": "code",
   "execution_count": 72,
   "metadata": {},
   "outputs": [
    {
     "data": {
      "text/html": [
       "<div>\n",
       "<style scoped>\n",
       "    .dataframe tbody tr th:only-of-type {\n",
       "        vertical-align: middle;\n",
       "    }\n",
       "\n",
       "    .dataframe tbody tr th {\n",
       "        vertical-align: top;\n",
       "    }\n",
       "\n",
       "    .dataframe thead th {\n",
       "        text-align: right;\n",
       "    }\n",
       "</style>\n",
       "<table border=\"1\" class=\"dataframe\">\n",
       "  <thead>\n",
       "    <tr style=\"text-align: right;\">\n",
       "      <th></th>\n",
       "      <th>year</th>\n",
       "      <th>Consumo Industrial - Anchoveta</th>\n",
       "      <th>Consumo Humano - Congelado - Concha de abanico</th>\n",
       "      <th>Consumo Humano - Congelado - Langostino</th>\n",
       "      <th>Consumo Humano - Congelado - Merluza</th>\n",
       "      <th>Consumo Humano - Congelado - Calamar gigante</th>\n",
       "      <th>Consumo Humano - Conservas - Atún</th>\n",
       "      <th>Consumo Humano - Conservas - Caballa</th>\n",
       "      <th>Consumo Humano - Conservas - Jurel</th>\n",
       "      <th>Consumo Humano - Conservas - Sardina</th>\n",
       "      <th>...</th>\n",
       "      <th>%_Consumo Humano - Congelado - Merluza</th>\n",
       "      <th>%_Consumo Humano - Congelado - Calamar gigante</th>\n",
       "      <th>%_Consumo Humano - Conservas - Atún</th>\n",
       "      <th>%_Consumo Humano - Conservas - Caballa</th>\n",
       "      <th>%_Consumo Humano - Conservas - Jurel</th>\n",
       "      <th>%_Consumo Humano - Conservas - Sardina</th>\n",
       "      <th>%_Consumo Humano - Fresco - Concha de abanico</th>\n",
       "      <th>%_Consumo Humano - Fresco - Jurel</th>\n",
       "      <th>%_Consumo Humano - Fresco - Liza</th>\n",
       "      <th>%_Consumo Humano - Fresco - Tollo</th>\n",
       "    </tr>\n",
       "  </thead>\n",
       "  <tbody>\n",
       "    <tr>\n",
       "      <th>0</th>\n",
       "      <td>2005</td>\n",
       "      <td>8628.396</td>\n",
       "      <td>13.537000</td>\n",
       "      <td>9.021000</td>\n",
       "      <td>23.279000</td>\n",
       "      <td>235.630000</td>\n",
       "      <td>9.877000</td>\n",
       "      <td>25.711000</td>\n",
       "      <td>20.481000</td>\n",
       "      <td>0.16500</td>\n",
       "      <td>...</td>\n",
       "      <td>0.257784</td>\n",
       "      <td>2.609294</td>\n",
       "      <td>0.109375</td>\n",
       "      <td>0.284716</td>\n",
       "      <td>0.226800</td>\n",
       "      <td>0.001827</td>\n",
       "      <td>0.020410</td>\n",
       "      <td>0.621986</td>\n",
       "      <td>0.065065</td>\n",
       "      <td>0.004762</td>\n",
       "    </tr>\n",
       "    <tr>\n",
       "      <th>1</th>\n",
       "      <td>2006</td>\n",
       "      <td>5891.838</td>\n",
       "      <td>14.714000</td>\n",
       "      <td>11.295000</td>\n",
       "      <td>25.189000</td>\n",
       "      <td>365.729000</td>\n",
       "      <td>11.336000</td>\n",
       "      <td>58.245000</td>\n",
       "      <td>122.904000</td>\n",
       "      <td>0.04800</td>\n",
       "      <td>...</td>\n",
       "      <td>0.378957</td>\n",
       "      <td>5.502230</td>\n",
       "      <td>0.170545</td>\n",
       "      <td>0.876270</td>\n",
       "      <td>1.849036</td>\n",
       "      <td>0.000722</td>\n",
       "      <td>0.060900</td>\n",
       "      <td>2.058501</td>\n",
       "      <td>0.047631</td>\n",
       "      <td>0.023831</td>\n",
       "    </tr>\n",
       "    <tr>\n",
       "      <th>2</th>\n",
       "      <td>2007</td>\n",
       "      <td>6084.713</td>\n",
       "      <td>19.937000</td>\n",
       "      <td>13.548000</td>\n",
       "      <td>28.358488</td>\n",
       "      <td>379.556594</td>\n",
       "      <td>3.713293</td>\n",
       "      <td>26.248740</td>\n",
       "      <td>82.910307</td>\n",
       "      <td>0.00102</td>\n",
       "      <td>...</td>\n",
       "      <td>0.417599</td>\n",
       "      <td>5.589236</td>\n",
       "      <td>0.054681</td>\n",
       "      <td>0.386531</td>\n",
       "      <td>1.220912</td>\n",
       "      <td>0.000015</td>\n",
       "      <td>0.071022</td>\n",
       "      <td>1.986310</td>\n",
       "      <td>0.137208</td>\n",
       "      <td>0.041747</td>\n",
       "    </tr>\n",
       "    <tr>\n",
       "      <th>3</th>\n",
       "      <td>2008</td>\n",
       "      <td>6159.387</td>\n",
       "      <td>18.790000</td>\n",
       "      <td>12.817000</td>\n",
       "      <td>26.348398</td>\n",
       "      <td>484.162082</td>\n",
       "      <td>3.283711</td>\n",
       "      <td>47.694121</td>\n",
       "      <td>58.864202</td>\n",
       "      <td>0.00000</td>\n",
       "      <td>...</td>\n",
       "      <td>0.381324</td>\n",
       "      <td>7.006976</td>\n",
       "      <td>0.047523</td>\n",
       "      <td>0.690247</td>\n",
       "      <td>0.851905</td>\n",
       "      <td>0.000000</td>\n",
       "      <td>0.011986</td>\n",
       "      <td>1.159134</td>\n",
       "      <td>0.210053</td>\n",
       "      <td>0.042453</td>\n",
       "    </tr>\n",
       "    <tr>\n",
       "      <th>4</th>\n",
       "      <td>2009</td>\n",
       "      <td>5828.636</td>\n",
       "      <td>24.634372</td>\n",
       "      <td>11.877399</td>\n",
       "      <td>36.774763</td>\n",
       "      <td>355.106589</td>\n",
       "      <td>2.017061</td>\n",
       "      <td>51.355908</td>\n",
       "      <td>14.289041</td>\n",
       "      <td>0.00000</td>\n",
       "      <td>...</td>\n",
       "      <td>0.575057</td>\n",
       "      <td>5.552894</td>\n",
       "      <td>0.031541</td>\n",
       "      <td>0.803066</td>\n",
       "      <td>0.223441</td>\n",
       "      <td>0.000000</td>\n",
       "      <td>0.028821</td>\n",
       "      <td>0.736189</td>\n",
       "      <td>0.270702</td>\n",
       "      <td>0.063454</td>\n",
       "    </tr>\n",
       "  </tbody>\n",
       "</table>\n",
       "<p>5 rows × 28 columns</p>\n",
       "</div>"
      ],
      "text/plain": [
       "   year  Consumo Industrial - Anchoveta  \\\n",
       "0  2005                        8628.396   \n",
       "1  2006                        5891.838   \n",
       "2  2007                        6084.713   \n",
       "3  2008                        6159.387   \n",
       "4  2009                        5828.636   \n",
       "\n",
       "   Consumo Humano - Congelado - Concha de abanico  \\\n",
       "0                                       13.537000   \n",
       "1                                       14.714000   \n",
       "2                                       19.937000   \n",
       "3                                       18.790000   \n",
       "4                                       24.634372   \n",
       "\n",
       "   Consumo Humano - Congelado - Langostino  \\\n",
       "0                                 9.021000   \n",
       "1                                11.295000   \n",
       "2                                13.548000   \n",
       "3                                12.817000   \n",
       "4                                11.877399   \n",
       "\n",
       "   Consumo Humano - Congelado - Merluza  \\\n",
       "0                             23.279000   \n",
       "1                             25.189000   \n",
       "2                             28.358488   \n",
       "3                             26.348398   \n",
       "4                             36.774763   \n",
       "\n",
       "   Consumo Humano - Congelado - Calamar gigante  \\\n",
       "0                                    235.630000   \n",
       "1                                    365.729000   \n",
       "2                                    379.556594   \n",
       "3                                    484.162082   \n",
       "4                                    355.106589   \n",
       "\n",
       "   Consumo Humano - Conservas - Atún  Consumo Humano - Conservas - Caballa  \\\n",
       "0                           9.877000                             25.711000   \n",
       "1                          11.336000                             58.245000   \n",
       "2                           3.713293                             26.248740   \n",
       "3                           3.283711                             47.694121   \n",
       "4                           2.017061                             51.355908   \n",
       "\n",
       "   Consumo Humano - Conservas - Jurel  Consumo Humano - Conservas - Sardina  \\\n",
       "0                           20.481000                               0.16500   \n",
       "1                          122.904000                               0.04800   \n",
       "2                           82.910307                               0.00102   \n",
       "3                           58.864202                               0.00000   \n",
       "4                           14.289041                               0.00000   \n",
       "\n",
       "   ...  %_Consumo Humano - Congelado - Merluza  \\\n",
       "0  ...                                0.257784   \n",
       "1  ...                                0.378957   \n",
       "2  ...                                0.417599   \n",
       "3  ...                                0.381324   \n",
       "4  ...                                0.575057   \n",
       "\n",
       "   %_Consumo Humano - Congelado - Calamar gigante  \\\n",
       "0                                        2.609294   \n",
       "1                                        5.502230   \n",
       "2                                        5.589236   \n",
       "3                                        7.006976   \n",
       "4                                        5.552894   \n",
       "\n",
       "   %_Consumo Humano - Conservas - Atún  \\\n",
       "0                             0.109375   \n",
       "1                             0.170545   \n",
       "2                             0.054681   \n",
       "3                             0.047523   \n",
       "4                             0.031541   \n",
       "\n",
       "   %_Consumo Humano - Conservas - Caballa  \\\n",
       "0                                0.284716   \n",
       "1                                0.876270   \n",
       "2                                0.386531   \n",
       "3                                0.690247   \n",
       "4                                0.803066   \n",
       "\n",
       "   %_Consumo Humano - Conservas - Jurel  \\\n",
       "0                              0.226800   \n",
       "1                              1.849036   \n",
       "2                              1.220912   \n",
       "3                              0.851905   \n",
       "4                              0.223441   \n",
       "\n",
       "   %_Consumo Humano - Conservas - Sardina  \\\n",
       "0                                0.001827   \n",
       "1                                0.000722   \n",
       "2                                0.000015   \n",
       "3                                0.000000   \n",
       "4                                0.000000   \n",
       "\n",
       "   %_Consumo Humano - Fresco - Concha de abanico  \\\n",
       "0                                       0.020410   \n",
       "1                                       0.060900   \n",
       "2                                       0.071022   \n",
       "3                                       0.011986   \n",
       "4                                       0.028821   \n",
       "\n",
       "   %_Consumo Humano - Fresco - Jurel  %_Consumo Humano - Fresco - Liza  \\\n",
       "0                           0.621986                          0.065065   \n",
       "1                           2.058501                          0.047631   \n",
       "2                           1.986310                          0.137208   \n",
       "3                           1.159134                          0.210053   \n",
       "4                           0.736189                          0.270702   \n",
       "\n",
       "   %_Consumo Humano - Fresco - Tollo  \n",
       "0                           0.004762  \n",
       "1                           0.023831  \n",
       "2                           0.041747  \n",
       "3                           0.042453  \n",
       "4                           0.063454  \n",
       "\n",
       "[5 rows x 28 columns]"
      ]
     },
     "execution_count": 72,
     "metadata": {},
     "output_type": "execute_result"
    }
   ],
   "source": [
    "production_fish.head()"
   ]
  },
  {
   "cell_type": "code",
   "execution_count": 73,
   "metadata": {},
   "outputs": [
    {
     "data": {
      "text/html": [
       "<div>\n",
       "<style scoped>\n",
       "    .dataframe tbody tr th:only-of-type {\n",
       "        vertical-align: middle;\n",
       "    }\n",
       "\n",
       "    .dataframe tbody tr th {\n",
       "        vertical-align: top;\n",
       "    }\n",
       "\n",
       "    .dataframe thead th {\n",
       "        text-align: right;\n",
       "    }\n",
       "</style>\n",
       "<table border=\"1\" class=\"dataframe\">\n",
       "  <thead>\n",
       "    <tr style=\"text-align: right;\">\n",
       "      <th></th>\n",
       "      <th>Consumo Industrial - Anchoveta</th>\n",
       "      <th>Consumo Humano - Congelado - Concha de abanico</th>\n",
       "      <th>Consumo Humano - Congelado - Langostino</th>\n",
       "      <th>Consumo Humano - Congelado - Merluza</th>\n",
       "      <th>Consumo Humano - Congelado - Calamar gigante</th>\n",
       "      <th>Consumo Humano - Conservas - Atún</th>\n",
       "      <th>Consumo Humano - Conservas - Caballa</th>\n",
       "      <th>Consumo Humano - Conservas - Jurel</th>\n",
       "      <th>Consumo Humano - Conservas - Sardina</th>\n",
       "      <th>Consumo Humano - Fresco - Concha de abanico</th>\n",
       "      <th>Consumo Humano - Fresco - Jurel</th>\n",
       "      <th>Consumo Humano - Fresco - Liza</th>\n",
       "      <th>Consumo Humano - Fresco - Tollo</th>\n",
       "    </tr>\n",
       "  </thead>\n",
       "  <tbody>\n",
       "    <tr>\n",
       "      <th>0</th>\n",
       "      <td>8628.40</td>\n",
       "      <td>13.54</td>\n",
       "      <td>9.02</td>\n",
       "      <td>23.28</td>\n",
       "      <td>235.63</td>\n",
       "      <td>9.88</td>\n",
       "      <td>25.71</td>\n",
       "      <td>20.48</td>\n",
       "      <td>0.16</td>\n",
       "      <td>1.84</td>\n",
       "      <td>56.17</td>\n",
       "      <td>5.88</td>\n",
       "      <td>0.43</td>\n",
       "    </tr>\n",
       "    <tr>\n",
       "      <th>1</th>\n",
       "      <td>5891.84</td>\n",
       "      <td>14.71</td>\n",
       "      <td>11.30</td>\n",
       "      <td>25.19</td>\n",
       "      <td>365.73</td>\n",
       "      <td>11.34</td>\n",
       "      <td>58.24</td>\n",
       "      <td>122.90</td>\n",
       "      <td>0.05</td>\n",
       "      <td>4.05</td>\n",
       "      <td>136.83</td>\n",
       "      <td>3.17</td>\n",
       "      <td>1.58</td>\n",
       "    </tr>\n",
       "    <tr>\n",
       "      <th>2</th>\n",
       "      <td>6084.71</td>\n",
       "      <td>19.94</td>\n",
       "      <td>13.55</td>\n",
       "      <td>28.36</td>\n",
       "      <td>379.56</td>\n",
       "      <td>3.71</td>\n",
       "      <td>26.25</td>\n",
       "      <td>82.91</td>\n",
       "      <td>0.00</td>\n",
       "      <td>4.82</td>\n",
       "      <td>134.89</td>\n",
       "      <td>9.32</td>\n",
       "      <td>2.83</td>\n",
       "    </tr>\n",
       "    <tr>\n",
       "      <th>3</th>\n",
       "      <td>6159.39</td>\n",
       "      <td>18.79</td>\n",
       "      <td>12.82</td>\n",
       "      <td>26.35</td>\n",
       "      <td>484.16</td>\n",
       "      <td>3.28</td>\n",
       "      <td>47.69</td>\n",
       "      <td>58.86</td>\n",
       "      <td>0.00</td>\n",
       "      <td>0.83</td>\n",
       "      <td>80.09</td>\n",
       "      <td>14.51</td>\n",
       "      <td>2.93</td>\n",
       "    </tr>\n",
       "    <tr>\n",
       "      <th>4</th>\n",
       "      <td>5828.64</td>\n",
       "      <td>24.63</td>\n",
       "      <td>11.88</td>\n",
       "      <td>36.77</td>\n",
       "      <td>355.11</td>\n",
       "      <td>2.02</td>\n",
       "      <td>51.36</td>\n",
       "      <td>14.29</td>\n",
       "      <td>0.00</td>\n",
       "      <td>1.84</td>\n",
       "      <td>47.08</td>\n",
       "      <td>17.31</td>\n",
       "      <td>4.06</td>\n",
       "    </tr>\n",
       "  </tbody>\n",
       "</table>\n",
       "</div>"
      ],
      "text/plain": [
       "   Consumo Industrial - Anchoveta  \\\n",
       "0                         8628.40   \n",
       "1                         5891.84   \n",
       "2                         6084.71   \n",
       "3                         6159.39   \n",
       "4                         5828.64   \n",
       "\n",
       "   Consumo Humano - Congelado - Concha de abanico  \\\n",
       "0                                           13.54   \n",
       "1                                           14.71   \n",
       "2                                           19.94   \n",
       "3                                           18.79   \n",
       "4                                           24.63   \n",
       "\n",
       "   Consumo Humano - Congelado - Langostino  \\\n",
       "0                                     9.02   \n",
       "1                                    11.30   \n",
       "2                                    13.55   \n",
       "3                                    12.82   \n",
       "4                                    11.88   \n",
       "\n",
       "   Consumo Humano - Congelado - Merluza  \\\n",
       "0                                 23.28   \n",
       "1                                 25.19   \n",
       "2                                 28.36   \n",
       "3                                 26.35   \n",
       "4                                 36.77   \n",
       "\n",
       "   Consumo Humano - Congelado - Calamar gigante  \\\n",
       "0                                        235.63   \n",
       "1                                        365.73   \n",
       "2                                        379.56   \n",
       "3                                        484.16   \n",
       "4                                        355.11   \n",
       "\n",
       "   Consumo Humano - Conservas - Atún  Consumo Humano - Conservas - Caballa  \\\n",
       "0                               9.88                                 25.71   \n",
       "1                              11.34                                 58.24   \n",
       "2                               3.71                                 26.25   \n",
       "3                               3.28                                 47.69   \n",
       "4                               2.02                                 51.36   \n",
       "\n",
       "   Consumo Humano - Conservas - Jurel  Consumo Humano - Conservas - Sardina  \\\n",
       "0                               20.48                                  0.16   \n",
       "1                              122.90                                  0.05   \n",
       "2                               82.91                                  0.00   \n",
       "3                               58.86                                  0.00   \n",
       "4                               14.29                                  0.00   \n",
       "\n",
       "   Consumo Humano - Fresco - Concha de abanico  \\\n",
       "0                                         1.84   \n",
       "1                                         4.05   \n",
       "2                                         4.82   \n",
       "3                                         0.83   \n",
       "4                                         1.84   \n",
       "\n",
       "   Consumo Humano - Fresco - Jurel  Consumo Humano - Fresco - Liza  \\\n",
       "0                            56.17                            5.88   \n",
       "1                           136.83                            3.17   \n",
       "2                           134.89                            9.32   \n",
       "3                            80.09                           14.51   \n",
       "4                            47.08                           17.31   \n",
       "\n",
       "   Consumo Humano - Fresco - Tollo  \n",
       "0                             0.43  \n",
       "1                             1.58  \n",
       "2                             2.83  \n",
       "3                             2.93  \n",
       "4                             4.06  "
      ]
     },
     "execution_count": 73,
     "metadata": {},
     "output_type": "execute_result"
    }
   ],
   "source": [
    "production_fish.loc[:, col_names ].round( 2 ).head()"
   ]
  },
  {
   "cell_type": "markdown",
   "metadata": {},
   "source": [
    "## 4.3 Pass, Continue, Break, Try\n",
    "\n",
    "1. `Pass`: Allows you to handle the condition without the loop being impacted in any way\n",
    "2. `Continue`: The current iteration of the loop will be disrupted, but the program will return to the top of the loop\n",
    "3. `Break`: The while–loop will exit\n",
    "4. `Try`: This command lets you test a block of code for errors."
   ]
  },
  {
   "cell_type": "markdown",
   "metadata": {},
   "source": [
    "### 4.3.1 Pass"
   ]
  },
  {
   "cell_type": "code",
   "execution_count": 74,
   "metadata": {},
   "outputs": [
    {
     "name": "stdout",
     "output_type": "stream",
     "text": [
      "Number is 0\n",
      "Number is 1\n",
      "Number is 2\n",
      "Number is 3\n",
      "Number is 4\n",
      "Number is 5\n",
      "Number is 6\n",
      "Number is 7\n",
      "Number is 8\n",
      "Number is 9\n"
     ]
    }
   ],
   "source": [
    "for number in range(10):\n",
    "\n",
    "    print('Number is ' + str(number))\n"
   ]
  },
  {
   "cell_type": "code",
   "execution_count": 75,
   "metadata": {},
   "outputs": [],
   "source": [
    "a = 2\n",
    "if a == 1:\n",
    "    print(a)"
   ]
  },
  {
   "cell_type": "code",
   "execution_count": 76,
   "metadata": {},
   "outputs": [],
   "source": [
    "prime = [2 , 3, 5, 7]"
   ]
  },
  {
   "cell_type": "code",
   "execution_count": 77,
   "metadata": {},
   "outputs": [
    {
     "name": "stdout",
     "output_type": "stream",
     "text": [
      "Different number\n",
      "Number is 0 \n",
      "\n",
      "Different number\n",
      "Number is 1 \n",
      "\n",
      "Number is 2 \n",
      "\n",
      "Number is 3 \n",
      "\n",
      "Different number\n",
      "Number is 4 \n",
      "\n",
      "Number is 5 \n",
      "\n",
      "Different number\n",
      "Number is 6 \n",
      "\n",
      "Number is 7 \n",
      "\n",
      "Different number\n",
      "Number is 8 \n",
      "\n",
      "Different number\n",
      "Number is 9 \n",
      "\n",
      "Out of loop\n"
     ]
    }
   ],
   "source": [
    "for number in range(10):\n",
    "    \n",
    "    if (number in prime):\n",
    "        # comment\n",
    "        pass\n",
    "\n",
    "    elif number == 3:\n",
    "        #number = number + 1\n",
    "        print( f'This number is {number}' )\n",
    "\n",
    "    else:\n",
    "        #number = number + 2\n",
    "        print('Different number')\n",
    "\n",
    "    print('Number is ' + str(number), '\\n')\n",
    "\n",
    "print('Out of loop')"
   ]
  },
  {
   "cell_type": "markdown",
   "metadata": {},
   "source": [
    "### 4.3.2 Continue"
   ]
  },
  {
   "cell_type": "code",
   "execution_count": 78,
   "metadata": {},
   "outputs": [
    {
     "name": "stdout",
     "output_type": "stream",
     "text": [
      "Different number\n",
      "Number is 0 \n",
      "\n",
      "Different number\n",
      "Number is 1 \n",
      "\n",
      "Different number\n",
      "Number is 2 \n",
      "\n",
      "This number is 3\n",
      "Number is 3 \n",
      "\n",
      "Different number\n",
      "Number is 4 \n",
      "\n",
      "Different number\n",
      "Number is 6 \n",
      "\n",
      "Different number\n",
      "Number is 7 \n",
      "\n",
      "Different number\n",
      "Number is 8 \n",
      "\n",
      "Different number\n",
      "Number is 9 \n",
      "\n",
      "Out of loop\n"
     ]
    }
   ],
   "source": [
    "for number in range(10):\n",
    "    if number == 5:\n",
    "        # comment\n",
    "        continue\n",
    "\n",
    "    elif number == 3:\n",
    "        #number = number + 1\n",
    "        print( f'This number is {number}' )\n",
    "\n",
    "    else:\n",
    "        #number = number + 2\n",
    "        print('Different number')\n",
    "    \n",
    "    print('Number is ' + str(number), '\\n')\n",
    "\n",
    "print('Out of loop')"
   ]
  },
  {
   "cell_type": "markdown",
   "metadata": {},
   "source": [
    "### 4.3.3 Break"
   ]
  },
  {
   "cell_type": "code",
   "execution_count": 79,
   "metadata": {},
   "outputs": [
    {
     "name": "stdout",
     "output_type": "stream",
     "text": [
      "Different number\n",
      "Number is 0\n",
      "Different number\n",
      "Number is 1\n",
      "Different number\n",
      "Number is 2\n",
      "This number is 3\n",
      "Number is 3\n",
      "Different number\n",
      "Number is 4\n"
     ]
    },
    {
     "ename": "Exception",
     "evalue": "This is the output of exception.",
     "output_type": "error",
     "traceback": [
      "\u001b[1;31m---------------------------------------------------------------------------\u001b[0m",
      "\u001b[1;31mException\u001b[0m                                 Traceback (most recent call last)",
      "\u001b[1;32m<ipython-input-79-a891118470e7>\u001b[0m in \u001b[0;36m<module>\u001b[1;34m\u001b[0m\n\u001b[0;32m      2\u001b[0m     \u001b[1;32mif\u001b[0m \u001b[0mnumber\u001b[0m \u001b[1;33m==\u001b[0m \u001b[1;36m5\u001b[0m\u001b[1;33m:\u001b[0m\u001b[1;33m\u001b[0m\u001b[1;33m\u001b[0m\u001b[0m\n\u001b[0;32m      3\u001b[0m         \u001b[1;31m# comment\u001b[0m\u001b[1;33m\u001b[0m\u001b[1;33m\u001b[0m\u001b[1;33m\u001b[0m\u001b[0m\n\u001b[1;32m----> 4\u001b[1;33m         \u001b[1;32mraise\u001b[0m \u001b[0mException\u001b[0m\u001b[1;33m(\u001b[0m\u001b[1;34m'This is the output of exception.'\u001b[0m\u001b[1;33m)\u001b[0m\u001b[1;33m\u001b[0m\u001b[1;33m\u001b[0m\u001b[0m\n\u001b[0m\u001b[0;32m      5\u001b[0m \u001b[1;33m\u001b[0m\u001b[0m\n\u001b[0;32m      6\u001b[0m     \u001b[1;32melif\u001b[0m \u001b[0mnumber\u001b[0m \u001b[1;33m==\u001b[0m \u001b[1;36m3\u001b[0m\u001b[1;33m:\u001b[0m\u001b[1;33m\u001b[0m\u001b[1;33m\u001b[0m\u001b[0m\n",
      "\u001b[1;31mException\u001b[0m: This is the output of exception."
     ]
    }
   ],
   "source": [
    "for number in range(10):\n",
    "    if number == 5:\n",
    "        # comment\n",
    "        raise Exception('This is the output of exception.')\n",
    "\n",
    "    elif number == 3:\n",
    "        #number = number + 1\n",
    "        print( f'This number is {number}' )\n",
    "\n",
    "    else:\n",
    "        #number = number + 2\n",
    "        print('Different number')\n",
    "\n",
    "    print('Number is ' + str(number))\n",
    "\n",
    "print('Out of loop')"
   ]
  },
  {
   "cell_type": "markdown",
   "metadata": {},
   "source": [
    "### 4.3.4 Try"
   ]
  },
  {
   "cell_type": "markdown",
   "metadata": {},
   "source": [
    "`except`: Run a code if an error occurs."
   ]
  },
  {
   "cell_type": "code",
   "execution_count": null,
   "metadata": {},
   "outputs": [],
   "source": [
    "x = 'jola'"
   ]
  },
  {
   "cell_type": "code",
   "execution_count": null,
   "metadata": {},
   "outputs": [],
   "source": [
    "print(x + 4)"
   ]
  },
  {
   "cell_type": "code",
   "execution_count": null,
   "metadata": {},
   "outputs": [],
   "source": [
    "try:\n",
    "    print(x + 4)\n",
    "except TypeError:\n",
    "    print(\"An error tipo TypeError\")\n",
    "except NameError:\n",
    "    print(\"Variable x is not defined\")\n",
    "except:\n",
    "    print(\"Something else went wrong\")"
   ]
  },
  {
   "cell_type": "markdown",
   "metadata": {},
   "source": [
    "`else`: The code will be executed whether there is no error."
   ]
  },
  {
   "cell_type": "code",
   "execution_count": null,
   "metadata": {},
   "outputs": [],
   "source": [
    "x = 6"
   ]
  },
  {
   "cell_type": "code",
   "execution_count": null,
   "metadata": {},
   "outputs": [],
   "source": [
    "try:\n",
    "    print(x + 4)\n",
    "except:\n",
    "    print(\"Something went wrong\")\n",
    "    #print( 5 + 4)\n",
    "else:\n",
    "    print(\"Nothing went wrong\")\n",
    "    \n",
    "    try:\n",
    "        print( x + \"2\")    \n",
    "    except:\n",
    "        print(\"error 2\")"
   ]
  },
  {
   "cell_type": "markdown",
   "metadata": {},
   "source": [
    "`finally`: The code will be executed does no matter whether or not the try raises an exception."
   ]
  },
  {
   "cell_type": "code",
   "execution_count": null,
   "metadata": {},
   "outputs": [],
   "source": [
    "x = 6"
   ]
  },
  {
   "cell_type": "code",
   "execution_count": null,
   "metadata": {},
   "outputs": [],
   "source": [
    "try:\n",
    "    print(x + 4)\n",
    "except:\n",
    "    print(\"Something went wrong\")\n",
    "finally:\n",
    "    print( f'el elemento {x} ya paso por este filtro')"
   ]
  },
  {
   "cell_type": "code",
   "execution_count": null,
   "metadata": {},
   "outputs": [],
   "source": [
    "s"
   ]
  },
  {
   "cell_type": "code",
   "execution_count": null,
   "metadata": {},
   "outputs": [],
   "source": [
    "s = 16\n",
    "if s:\n",
    "    print(s)"
   ]
  },
  {
   "cell_type": "markdown",
   "metadata": {},
   "source": [
    "## 4.4 While Loop\n",
    "While loop is used to repeat code as long as the condition is true. When the logical expression is false, the code will finish executing. [More Info](https://python101.pythonlibrary.org/chapter5_loops.html)\n",
    "<img src=\"../_images\\while_loop.jpg\">"
   ]
  },
  {
   "cell_type": "markdown",
   "metadata": {},
   "source": [
    "See the structure: <br>\n",
    "\n",
    "while <font color='green'>condition</font>: <br>\n",
    "&nbsp;&nbsp;&nbsp;&nbsp;&nbsp;&nbsp;code 1<br><br>\n",
    "&nbsp;&nbsp;&nbsp;&nbsp;&nbsp;&nbsp;<font color='red'>break code</font><br><br>\n",
    "\n",
    "The break code is an expression that allows the logical condition to be false at some point, because if not, the code will continue to execute infinitely."
   ]
  },
  {
   "cell_type": "code",
   "execution_count": null,
   "metadata": {},
   "outputs": [],
   "source": [
    "i = 1\n",
    "\n",
    "# condition  \"i < 6\"\n",
    "while i < 6:\n",
    "    \n",
    "    print(i)\n",
    "    \n",
    "    # break code, \n",
    "    i += 1 \n",
    "    # ==> i = i + 1"
   ]
  },
  {
   "cell_type": "markdown",
   "metadata": {},
   "source": [
    "### 4.4.1 Training\n",
    "1. Print $2^n$, but the result is less than 10,000."
   ]
  },
  {
   "cell_type": "code",
   "execution_count": null,
   "metadata": {},
   "outputs": [],
   "source": [
    "x = 2\n",
    "while x < 10000:\n",
    "    print(x)\n",
    "    \n",
    "    #break code\n",
    "    x = 2*x"
   ]
  },
  {
   "cell_type": "markdown",
   "metadata": {},
   "source": [
    "2. A teacher has 100 apples for his entire class. The first student took four apples, and the next student always took more apples than the previous one. How many children have apples?"
   ]
  },
  {
   "cell_type": "code",
   "execution_count": null,
   "metadata": {},
   "outputs": [],
   "source": [
    "apples = 100\n",
    "last_st = 4\n",
    "i = 1\n",
    "while apples > last_st:\n",
    "    \n",
    "    # Code\n",
    "    apples = apples - last_st\n",
    "    last_st += 1\n",
    "\n",
    "    # Break code\n",
    "    i += 1\n",
    "    # What is the format function for\n",
    "    print ('{} children have apples'.format (i))\n",
    "\n",
    "# print ('{} children have apples'.format (i))"
   ]
  },
  {
   "cell_type": "code",
   "execution_count": null,
   "metadata": {},
   "outputs": [],
   "source": [
    "next_st"
   ]
  },
  {
   "cell_type": "markdown",
   "metadata": {},
   "source": [
    "3. Print all elements of an array."
   ]
  },
  {
   "cell_type": "code",
   "execution_count": null,
   "metadata": {},
   "outputs": [],
   "source": [
    "import numpy as np\n",
    "\n",
    "edad = np.array([ 3, 6, 7, 10, 15, 17, 18, 31, 26, 88 , 100, 120, 110])\n",
    "i = 0\n",
    "\n",
    "while i < edad.size:\n",
    "    \n",
    "    print(edad[i])\n",
    "    i += 1"
   ]
  },
  {
   "cell_type": "markdown",
   "metadata": {},
   "source": [
    "### 4.4.2 Excersice"
   ]
  },
  {
   "cell_type": "code",
   "execution_count": null,
   "metadata": {},
   "outputs": [],
   "source": [
    "quarantine_days = 1\n",
    "stress_level = 2\n",
    "\n",
    "\n",
    "while quarantine_days <= 40:\n",
    "    \n",
    "    print ( f'Quarantine day n° {quarantine_days}. ')\n",
    "    \n",
    "    if stress_level> 100:\n",
    "        print (f'Her family let Maria out on the day {quarantine_days}.')\n",
    "        stress_level = 1\n",
    "        break\n",
    "     \n",
    "    elif quarantine_days <15:\n",
    "        \n",
    "        print (\"Maria looks at the peaky blinders and Love alarm\")\n",
    "    \n",
    "    elif (quarantine_days >= 15) & (quarantine_days <20):\n",
    "        \n",
    "        print (\"Maria reads THE WORLD OF SOFIA and Cronicas de una muerte anunciada\")\n",
    "    \n",
    "    elif (quarantine_days >= 20) & (quarantine_days <40):\n",
    "        print ('Maria builds her Foundation of Analysis I class')\n",
    "        \n",
    "    else:\n",
    "        print (\"The lady works out\")\n",
    "    \n",
    "    print (f'The day number {quarantine_days} of quarantine is over. \\n ')\n",
    "    \n",
    "    # Days increase\n",
    "    quarantine_days = quarantine_days + 1\n",
    "    stress_level = stress_level * 2\n",
    "\n",
    "print (\"Quarantine is over.\")"
   ]
  },
  {
   "cell_type": "code",
   "execution_count": null,
   "metadata": {},
   "outputs": [],
   "source": [
    "import pandas as pd\n",
    "data1 = {'names': ['Martins', 'Raul', 'Estremadoyro', \"Kante\", 'Tigo', 'Betson', 'Finado', 'Alex', 'Miracles', 'Bambi'], \n",
    "     'age': [23, 25, 36, 78, 90, 32, 200, 24, 12, 18]}\n",
    "people = pd.DataFrame( data = data1)"
   ]
  },
  {
   "cell_type": "code",
   "execution_count": null,
   "metadata": {
    "scrolled": true
   },
   "outputs": [],
   "source": [
    "people"
   ]
  },
  {
   "cell_type": "code",
   "execution_count": null,
   "metadata": {},
   "outputs": [],
   "source": [
    "i = 0\n",
    "# row by row\n",
    "nrows = people.age.count()\n",
    "while i < nrows:\n",
    "  \n",
    "    if people['age'][i] > 150:\n",
    "        print('Ohhh no a phantom')\n",
    "        break\n",
    "    \n",
    "    elif people['age'][i] < 18:\n",
    "        # Hemos creado una nueva columna y la estamos rellenando\n",
    "        people.loc[[i], [\"pass\"]] = \"No pass\"\n",
    "    \n",
    "    else:\n",
    "        people.loc[[i], [\"pass\"]] = \"Pass\"\n",
    "        \n",
    "    i += 1"
   ]
  },
  {
   "cell_type": "markdown",
   "metadata": {},
   "source": [
    "## 4.5 References\n",
    "\n",
    "1. [DataCamp](https://www.datacamp.com/community/tutorials/python-if-elif-else?utm_source=adwords_ppc&utm_medium=cpc&utm_campaignid=1455363063&utm_adgroupid=65083631748&utm_device=c&utm_keyword=&utm_matchtype=b&utm_network=g&utm_adpostion=&utm_creative=332602034358&utm_targetid=dsa-429603003980&utm_loc_interest_ms=&utm_loc_physical_ms=9060932&gclid=CjwKCAiA7dKMBhBCEiwAO_crFCArGqe0fxSaO2q6eTaTtigeALef5CcM1hRWgNI8hMEoVCg-uOwFDhoCu1kQAvD_BwE)\n",
    "2. https://www.programiz.com/python-programming/if-elif-else\n",
    "3. https://www.guru99.com/if-loop-python-conditional-structures.html\n",
    "4. https://www.w3schools.com/python/python_for_loops.asp\n",
    "5. https://www.programiz.com/python-programming/for-loop\n",
    "6. https://www.geeksforgeeks.org/loops-in-python/\n",
    "7. https://www.w3schools.com/python/python_while_loops.asp\n",
    "8. https://www.programiz.com/python-programming/while-loop\n",
    "9. https://www.tutorialspoint.com/python/python_while_loop.htm"
   ]
  }
 ],
 "metadata": {
  "hide_input": false,
  "kernelspec": {
   "display_name": "Python 3",
   "language": "python",
   "name": "python3"
  },
  "language_info": {
   "codemirror_mode": {
    "name": "ipython",
    "version": 3
   },
   "file_extension": ".py",
   "mimetype": "text/x-python",
   "name": "python",
   "nbconvert_exporter": "python",
   "pygments_lexer": "ipython3",
   "version": "3.8.6"
  }
 },
 "nbformat": 4,
 "nbformat_minor": 4
}
