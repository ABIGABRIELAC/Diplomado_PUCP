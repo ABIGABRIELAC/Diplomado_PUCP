{
 "cells": [
  {
   "cell_type": "markdown",
   "metadata": {},
   "source": [
    "# 1 Assignment 2"
   ]
  },
  {
   "cell_type": "code",
   "execution_count": 114,
   "metadata": {},
   "outputs": [],
   "source": [
    "import os\n",
    "import os\n",
    "import pickle\n",
    "import pandas as pd\n",
    "import numpy as np\n",
    "import urllib.request"
   ]
  },
  {
   "cell_type": "markdown",
   "metadata": {},
   "source": [
    "1. Import the `REC0111.sav`, `RE223132.sav` and `RE516171.sav` files and their variables and values labels from this path `\"../../_data/endes/2019\"`. The name of imported files should be named as `rec_1`, `rec_2` and `rec_3` for files `REC0111.sav`, `RE223132.sav` and `RE516171.sav` respectively. The name of the variable and value labels should be `var_labels1` and `value_labels1` for `rec1`, `var_labels2` and `value_labels2` for `rec2`, and `var_labels3` and `value_labels3` for `rec3`. **Hint: See the section 3.3.4 of [the lecture 3](https://github.com/alexanderquispe/Diplomado_PUCP/blob/main/Lecture_3/Lecture_3.ipynb)**"
   ]
  },
  {
   "cell_type": "code",
   "execution_count": 66,
   "metadata": {},
   "outputs": [],
   "source": [
    "#pip install pyreadstat"
   ]
  },
  {
   "cell_type": "code",
   "execution_count": 40,
   "metadata": {},
   "outputs": [
    {
     "name": "stdout",
     "output_type": "stream",
     "text": [
      "Requirement already satisfied: savReaderWriter in c:\\users\\lenovo\\anaconda3\\lib\\site-packages (3.4.2)\n",
      "Note: you may need to restart the kernel to use updated packages.\n"
     ]
    }
   ],
   "source": [
    "#pip install savReaderWriter"
   ]
  },
  {
   "cell_type": "code",
   "execution_count": 115,
   "metadata": {},
   "outputs": [],
   "source": [
    "rec_1 = pd.read_spss(r\"../../_data/endes/2019/REC0111.sav\")"
   ]
  },
  {
   "cell_type": "code",
   "execution_count": 116,
   "metadata": {},
   "outputs": [],
   "source": [
    "import savReaderWriter as sav\n",
    "with sav.SavHeaderReader(r\"../../_data/endes/2019/REC0111.sav\", ioUtf8=True) as header:\n",
    "    metadata1 = header.all()\n",
    "    value_labels1 = metadata1.valueLabels\n",
    "    var_labels1 = metadata1.varLabels"
   ]
  },
  {
   "cell_type": "code",
   "execution_count": 122,
   "metadata": {},
   "outputs": [],
   "source": [
    "rec_1.attrs['value_labels'] = value_labels1\n",
    "rec_1.attrs['var_labels'] = var_labels1"
   ]
  },
  {
   "cell_type": "code",
   "execution_count": 127,
   "metadata": {},
   "outputs": [
    {
     "name": "stdout",
     "output_type": "stream",
     "text": [
      "Etnicidad\n"
     ]
    },
    {
     "data": {
      "text/plain": [
       "{1.0: 'Quechua',\n",
       " 2.0: 'Aimara',\n",
       " 3.0: 'Ashaninka',\n",
       " 4.0: 'Awajún/Aguaruna',\n",
       " 5.0: 'Shipibo/Konibo',\n",
       " 6.0: 'Shawi/Chayahuita',\n",
       " 7.0: 'Matsigenka/ Machiguenga',\n",
       " 8.0: 'Achuar',\n",
       " 9.0: 'Otra lengua nativa u originaria',\n",
       " 10.0: 'Castellano',\n",
       " 11.0: 'Portugués',\n",
       " 12.0: 'Otra lengua extranjera'}"
      ]
     },
     "execution_count": 127,
     "metadata": {},
     "output_type": "execute_result"
    }
   ],
   "source": [
    "print(var_labels1[\"V131\"])\n",
    "value_labels1[\"V131\"]"
   ]
  },
  {
   "cell_type": "code",
   "execution_count": 128,
   "metadata": {},
   "outputs": [],
   "source": [
    "rec_2 = pd.read_spss(r\"../../_data/endes/2019/RE223132.sav\")"
   ]
  },
  {
   "cell_type": "code",
   "execution_count": 129,
   "metadata": {},
   "outputs": [],
   "source": [
    "with sav.SavHeaderReader(r\"../../_data/endes/2019/RE223132.sav\", ioUtf8=True) as header:\n",
    "    metadata2 = header.all()\n",
    "    value_labels2 = metadata2.valueLabels\n",
    "    var_labels2 = metadata2.varLabels"
   ]
  },
  {
   "cell_type": "code",
   "execution_count": 130,
   "metadata": {},
   "outputs": [],
   "source": [
    "rec_2.attrs['value_labels'] = value_labels2\n",
    "rec_2.attrs['var_labels'] = var_labels2"
   ]
  },
  {
   "cell_type": "code",
   "execution_count": 133,
   "metadata": {},
   "outputs": [
    {
     "name": "stdout",
     "output_type": "stream",
     "text": [
      "Actualmente embarazada\n"
     ]
    },
    {
     "data": {
      "text/plain": [
       "{0.0: 'No o no está segura', 1.0: 'Sí'}"
      ]
     },
     "execution_count": 133,
     "metadata": {},
     "output_type": "execute_result"
    }
   ],
   "source": [
    "print(var_labels2['V213'])\n",
    "value_labels2['V213']"
   ]
  },
  {
   "cell_type": "code",
   "execution_count": 134,
   "metadata": {},
   "outputs": [],
   "source": [
    "rec_3 = pd.read_spss(r\"../../_data/endes/2019/RE516171.sav\")"
   ]
  },
  {
   "cell_type": "code",
   "execution_count": 135,
   "metadata": {},
   "outputs": [],
   "source": [
    "with sav.SavHeaderReader(r\"../../_data/endes/2019/RE516171.sav\", ioUtf8=True) as header:\n",
    "    metadata3 = header.all()\n",
    "    value_labels3 = metadata3.valueLabels\n",
    "    var_labels3 = metadata3.varLabels"
   ]
  },
  {
   "cell_type": "code",
   "execution_count": 136,
   "metadata": {},
   "outputs": [],
   "source": [
    "rec_3.attrs['value_labels'] = value_labels3\n",
    "rec_3.attrs['var_labels'] = var_labels3"
   ]
  },
  {
   "cell_type": "code",
   "execution_count": 138,
   "metadata": {},
   "outputs": [
    {
     "name": "stdout",
     "output_type": "stream",
     "text": [
      "Estado civil actual\n",
      "{0.0: 'Nunca casada', 1.0: 'Casado', 2.0: 'Viviendo juntos', 3.0: 'Viuda', 4.0: 'Divorciada', 5.0: 'No viven juntos'}\n",
      "Edad en la primera relación sexual\n",
      "{0.0: 'Nunca tuvo relaciones sexuales', 96.0: 'En la primera union'}\n"
     ]
    }
   ],
   "source": [
    "print(var_labels3['V501'])\n",
    "print(value_labels3['V501'])\n",
    "print(var_labels3['V525'])\n",
    "print(value_labels3['V525'])"
   ]
  },
  {
   "cell_type": "markdown",
   "metadata": {},
   "source": [
    "2. Select the following columns for each data set:\n",
    "|Data|Columns|\n",
    "|---|---|\n",
    "|rec1| CASEID, V000, V001, V002, V003, V004, V007, V008, V009, V010, V011, V012, V024, V102, V120, V121, V122, V123, V124, V125, V127, V133 |\n",
    "|rec2| CASEID, V201, V218, V301, V302, V323, V323A, V325A, V326, V327, V337, V359, V360, V361, V362, V363, V364, V367, V372, V372A, V375A, V376, V376A, V379, V380 |\n",
    "|rec3| CASEID, V501, V502, V503, V504, V505, V506, V507, V508, V509, V510, V511, V512, V513, V525, V613, V714, V715 |\n",
    "\n",
    "\n",
    "Additioanlly, you should update the variables and value labels objects. They must have information only for the selected columns. The new dataframes should be name as `rec1_1`, `rec2_1`, and `rec3_1`. The new varible labels objects should be named as `new_var_labels1`, `new_var_labels2`, and `new_var_labels3`. The new value labels objects should be named as `new_value_labels1`, `new_value_labels2`, and `new_value_labels3` **Hint: Use the `loc` and column names to filter, `for loop`,   and [this link](https://stackoverflow.com/questions/3420122/filter-dict-to-contain-only-certain-keys) to update the var and value dictionary.**"
   ]
  },
  {
   "cell_type": "code",
   "execution_count": 86,
   "metadata": {},
   "outputs": [
    {
     "data": {
      "text/plain": [
       "dict_keys(['ID1', 'HHID', 'CASEID', 'V001', 'V002', 'V003', 'V004', 'V007', 'V008', 'V009', 'V010', 'V011', 'V012', 'V013', 'V014', 'V015', 'V017', 'V018', 'V019', 'V019A', 'V020', 'V021', 'V023', 'V024', 'V025', 'V026', 'V027', 'V028', 'V029', 'V030', 'V031', 'V032', 'V033', 'V034', 'V040', 'V042', 'V043', 'V044', 'V000', 'Q105DD', 'V101', 'V102', 'V103', 'V104', 'V105', 'V106', 'V107', 'V113', 'V115', 'V116', 'V119', 'V120', 'V121', 'V122', 'V123', 'V124', 'V125', 'V127', 'V128', 'V129', 'V130', 'V131', 'V133', 'V134', 'V135', 'V136', 'V137', 'V138', 'V139', 'V140', 'V141', 'V149', 'V150', 'V151', 'V152', 'V153', 'AWFACTT', 'AWFACTU', 'AWFACTR', 'AWFACTE', 'AWFACTW', 'V155', 'V156', 'V157', 'V158', 'V159', 'V160', 'V161', 'V166', 'V167', 'V168', 'ML101', 'QD333_1', 'QD333_2', 'QD333_3', 'QD333_4', 'QD333_5', 'QD333_6', 'UBIGEO', 'V022', 'V005', 'V190', 'V191', 'mujeres12a49', 'NCONGLOME'])"
      ]
     },
     "execution_count": 86,
     "metadata": {},
     "output_type": "execute_result"
    }
   ],
   "source": [
    "var_labels1.keys()"
   ]
  },
  {
   "cell_type": "code",
   "execution_count": 115,
   "metadata": {},
   "outputs": [],
   "source": [
    "rec1_1 = rec_1.filter( items = ['CASEID', 'V000', 'V001', 'V002', 'V003', 'V004', 'V007', 'V008', 'V009', 'V010', 'V011', 'V012',\n",
    "                       'V024', 'V102', 'V120', 'V121', 'V122', 'V123', 'V124', 'V125', 'V127', 'V133'  ])"
   ]
  },
  {
   "cell_type": "code",
   "execution_count": 151,
   "metadata": {},
   "outputs": [
    {
     "data": {
      "text/plain": [
       "(38335, 22)"
      ]
     },
     "execution_count": 151,
     "metadata": {},
     "output_type": "execute_result"
    }
   ],
   "source": [
    "rec1_1.shape"
   ]
  },
  {
   "cell_type": "code",
   "execution_count": 118,
   "metadata": {},
   "outputs": [
    {
     "data": {
      "text/plain": [
       "dict_keys(['ID1', 'CASEID', 'V201', 'V202', 'V203', 'V204', 'V205', 'V206', 'V207', 'V208', 'V209', 'V210', 'V211', 'V212', 'V213', 'V214', 'V215', 'V216', 'V217', 'V218', 'V219', 'V220', 'V221', 'V222', 'V223', 'V224', 'V225', 'V226', 'V227', 'V228', 'V229', 'V230', 'V231', 'V232', 'V233', 'V234', 'V235', 'V237', 'V238', 'V239', 'V240', 'V241', 'V242', 'V243', 'V301', 'V302', 'V310', 'V311', 'V312', 'V313', 'V315', 'V316', 'V317', 'V318', 'V319', 'V320', 'V321', 'V322', 'V323', 'V323A', 'V325A', 'V326', 'V327', 'V337', 'V359', 'V360', 'V361', 'V362', 'V363', 'V364', 'V367', 'V372', 'V372A', 'V375A', 'V376', 'V376A', 'V379', 'V380', 'V384A', 'V384B', 'V384C', 'V393', 'V394', 'V395', 'V3A00A', 'V3A00B', 'V3A00C', 'V3A00D', 'V3A00E', 'V3A00F', 'V3A00G', 'V3A00H', 'V3A00I', 'V3A00J', 'V3A00K', 'V3A00L', 'V3A00M', 'V3A00N', 'V3A00O', 'V3A00P', 'V3A00Q', 'V3A00R', 'V3A00S', 'V3A00T', 'V3A00U', 'V3A00V', 'V3A00W', 'V3A00X', 'V3A00Y', 'V3A00Z', 'V3A01', 'V3A02', 'V3A03', 'V3A04', 'V3A05', 'V3A06', 'V3A07', 'V3A08A', 'V3A08B', 'V3A08C', 'V3A08D', 'V3A08E', 'V3A08F', 'V3A08G', 'V3A08H', 'V3A08I', 'V3A08J', 'V3A08K', 'V3A08L', 'V3A08M', 'V3A08N', 'V3A08O', 'V3A08P', 'V3A08Q', 'V3A08R', 'V3A08S', 'V3A08T', 'V3A08U', 'V3A08V', 'V3A08W', 'V3A08X', 'V3A08Z', 'V3A09A', 'V3A09B', 'V305_01', 'V305_02', 'V305_03', 'V305_05', 'V305_06', 'V305_07', 'V305_08', 'V305_09', 'V305_10', 'V305_11', 'V305_13', 'V305_14', 'V305_15', 'V305_16', 'V307_01', 'V307_02', 'V307_03', 'V307_04', 'V307_05', 'V307_06', 'V307_07', 'V307_08', 'V307_09', 'V307_10', 'V307_11', 'V307_12', 'V307_13', 'V307_14', 'V307_15', 'V307_16', 'QI302_05A', 'QI302_05B'])"
      ]
     },
     "execution_count": 118,
     "metadata": {},
     "output_type": "execute_result"
    }
   ],
   "source": [
    "var_labels2.keys()\n"
   ]
  },
  {
   "cell_type": "code",
   "execution_count": 155,
   "metadata": {},
   "outputs": [
    {
     "data": {
      "text/plain": [
       "(36922, 25)"
      ]
     },
     "execution_count": 155,
     "metadata": {},
     "output_type": "execute_result"
    }
   ],
   "source": [
    "rec2_1 = rec_2.filter( items = ['CASEID', 'V201', 'V218', 'V301', 'V302', 'V323', 'V323A', 'V325A', 'V326', 'V327', 'V337', 'V359',\n",
    "                       'V360', 'V361', 'V362', 'V363', 'V364', 'V367', 'V372', 'V372A', 'V375A', 'V376', 'V376A', 'V379', 'V380'  ])\n",
    "rec2_1.shape"
   ]
  },
  {
   "cell_type": "code",
   "execution_count": 153,
   "metadata": {},
   "outputs": [
    {
     "data": {
      "text/plain": [
       "Index(['ID1', 'CASEID', 'V501', 'V502', 'V503', 'V504', 'V505', 'V506', 'V507',\n",
       "       'V508', 'V509', 'V510', 'V511', 'V512', 'V513', 'V525', 'V527', 'V528',\n",
       "       'V529', 'V530', 'V531', 'V532', 'V535', 'V536', 'V537', 'V538', 'V539',\n",
       "       'V540', 'V541', 'V602', 'V603', 'V604', 'V605', 'V613', 'V614', 'V616',\n",
       "       'V621', 'V623', 'V624', 'V625', 'V626', 'V627', 'V628', 'V629', 'V631',\n",
       "       'V632', 'V633A', 'V633B', 'V633C', 'V633D', 'V633E', 'V633F', 'V633G',\n",
       "       'V634', 'V701', 'V702', 'V704', 'V705', 'V714', 'V714A', 'V715', 'V716',\n",
       "       'V717', 'V719', 'V721', 'V729', 'V730', 'V731', 'V732', 'V739', 'V740',\n",
       "       'V741', 'V743A', 'V743B', 'V743C', 'V743D', 'V743E', 'V743F', 'V744A',\n",
       "       'V744B', 'V744C', 'V744D', 'V744E', 'V746'],\n",
       "      dtype='object')"
      ]
     },
     "execution_count": 153,
     "metadata": {},
     "output_type": "execute_result"
    }
   ],
   "source": [
    "rec_3.columns"
   ]
  },
  {
   "cell_type": "code",
   "execution_count": 154,
   "metadata": {},
   "outputs": [
    {
     "data": {
      "text/plain": [
       "(33311, 18)"
      ]
     },
     "execution_count": 154,
     "metadata": {},
     "output_type": "execute_result"
    }
   ],
   "source": [
    "rec3_1 = rec_3.loc[ : , ['CASEID', 'V501', 'V502', 'V503', 'V504', 'V505', 'V506', 'V507',\n",
    "       'V508', 'V509', 'V510', 'V511', 'V512', 'V513', 'V525', 'V613', 'V714', 'V715']]\n",
    "rec3_1.shape"
   ]
  },
  {
   "cell_type": "code",
   "execution_count": 156,
   "metadata": {},
   "outputs": [],
   "source": [
    "selected_cols_rec1_1 = rec1_1.columns\n",
    "new_var_labels1={ col: var_labels1[ col ] for col in selected_cols_rec1_1 }"
   ]
  },
  {
   "cell_type": "code",
   "execution_count": 157,
   "metadata": {},
   "outputs": [],
   "source": [
    "new_value_labels1 = { key: value_labels1[ key ] for key in selected_cols_rec1_1 if key in value_labels1.keys() }"
   ]
  },
  {
   "cell_type": "code",
   "execution_count": 158,
   "metadata": {},
   "outputs": [],
   "source": [
    "selected_cols_rec2_1 = rec2_1.columns\n",
    "new_var_labels2={ col: var_labels2[ col ] for col in selected_cols_rec2_1 }"
   ]
  },
  {
   "cell_type": "code",
   "execution_count": 160,
   "metadata": {},
   "outputs": [],
   "source": [
    "new_value_labels2 = { key: value_labels2[ key ] for key in selected_cols_rec2_1 if key in value_labels2.keys() }\n"
   ]
  },
  {
   "cell_type": "code",
   "execution_count": 161,
   "metadata": {},
   "outputs": [
    {
     "data": {
      "text/plain": [
       "{'CASEID': 'Identificación Cuestionario Individual',\n",
       " 'V501': 'Estado civil actual',\n",
       " 'V502': 'Actualmente, antes o nunca sacada',\n",
       " 'V503': 'Usted ha estado casada o conviviendo solo una vez, más de una vez',\n",
       " 'V504': 'Su esposo/compañer vive en el hogar o vive en otro lugar',\n",
       " 'V505': 'Número de otras esposas',\n",
       " 'V506': 'Número de rango de la esposa',\n",
       " 'V507': 'Mes - Primer matrimonio',\n",
       " 'V508': 'Año - Primer matrimonio',\n",
       " 'V509': 'Fecha del primer matrimonio (CMC)',\n",
       " 'V510': 'Integridad de la información para la fecha de inicio del primer matrimonio o unión',\n",
       " 'V511': 'Edad al primer matrimonio',\n",
       " 'V512': 'Años desde el primer matrimonio',\n",
       " 'V513': 'Duración del matrimonio (agrupado)',\n",
       " 'V525': 'Edad en la primera relación sexual',\n",
       " 'V613': 'Número ideal de niños',\n",
       " 'V714': 'Actualmente se encuentra trabajando',\n",
       " 'V715': 'Educación en años individuales del esposo/compañero'}"
      ]
     },
     "execution_count": 161,
     "metadata": {},
     "output_type": "execute_result"
    }
   ],
   "source": [
    "selected_cols_rec3_1 = rec3_1.columns\n",
    "new_var_labels3={ col: var_labels3[ col ] for col in selected_cols_rec3_1 }\n",
    "new_var_labels3"
   ]
  },
  {
   "cell_type": "code",
   "execution_count": 162,
   "metadata": {},
   "outputs": [],
   "source": [
    "new_value_labels3 = { key: value_labels3[ key ] for key in selected_cols_rec3_1 if key in value_labels3.keys() }"
   ]
  },
  {
   "cell_type": "markdown",
   "metadata": {},
   "source": [
    "3. Generate a new column for `rec1_1` named as `year`. It should be equal to `2019`. Also, you must update this new variable for the `var_labels` dictionary. Generate a new key for `new_var_labels1` and the value for this key should be **\"Year of the survey\"** **Hint: Use `loc` and `update` method.**"
   ]
  },
  {
   "cell_type": "code",
   "execution_count": 129,
   "metadata": {},
   "outputs": [
    {
     "data": {
      "text/html": [
       "<div>\n",
       "<style scoped>\n",
       "    .dataframe tbody tr th:only-of-type {\n",
       "        vertical-align: middle;\n",
       "    }\n",
       "\n",
       "    .dataframe tbody tr th {\n",
       "        vertical-align: top;\n",
       "    }\n",
       "\n",
       "    .dataframe thead th {\n",
       "        text-align: right;\n",
       "    }\n",
       "</style>\n",
       "<table border=\"1\" class=\"dataframe\">\n",
       "  <thead>\n",
       "    <tr style=\"text-align: right;\">\n",
       "      <th></th>\n",
       "      <th>CASEID</th>\n",
       "      <th>V000</th>\n",
       "      <th>V001</th>\n",
       "      <th>V002</th>\n",
       "      <th>V003</th>\n",
       "      <th>V004</th>\n",
       "      <th>V007</th>\n",
       "      <th>V008</th>\n",
       "      <th>V009</th>\n",
       "      <th>V010</th>\n",
       "      <th>...</th>\n",
       "      <th>V102</th>\n",
       "      <th>V120</th>\n",
       "      <th>V121</th>\n",
       "      <th>V122</th>\n",
       "      <th>V123</th>\n",
       "      <th>V124</th>\n",
       "      <th>V125</th>\n",
       "      <th>V127</th>\n",
       "      <th>V133</th>\n",
       "      <th>year</th>\n",
       "    </tr>\n",
       "  </thead>\n",
       "  <tbody>\n",
       "    <tr>\n",
       "      <th>0</th>\n",
       "      <td>000100201  2</td>\n",
       "      <td>PE6</td>\n",
       "      <td>1.0</td>\n",
       "      <td>2.0</td>\n",
       "      <td>2.0</td>\n",
       "      <td>1.0</td>\n",
       "      <td>2019.0</td>\n",
       "      <td>1434.0</td>\n",
       "      <td>4.0</td>\n",
       "      <td>1986.0</td>\n",
       "      <td>...</td>\n",
       "      <td>Urbano</td>\n",
       "      <td>Si</td>\n",
       "      <td>Si</td>\n",
       "      <td>Si</td>\n",
       "      <td>No</td>\n",
       "      <td>No</td>\n",
       "      <td>No</td>\n",
       "      <td>Losetas, terrazos o similares</td>\n",
       "      <td>16.0</td>\n",
       "      <td>2019</td>\n",
       "    </tr>\n",
       "    <tr>\n",
       "      <th>1</th>\n",
       "      <td>000100201  3</td>\n",
       "      <td>PE6</td>\n",
       "      <td>1.0</td>\n",
       "      <td>2.0</td>\n",
       "      <td>3.0</td>\n",
       "      <td>1.0</td>\n",
       "      <td>2019.0</td>\n",
       "      <td>1434.0</td>\n",
       "      <td>1.0</td>\n",
       "      <td>2007.0</td>\n",
       "      <td>...</td>\n",
       "      <td>Urbano</td>\n",
       "      <td>Si</td>\n",
       "      <td>Si</td>\n",
       "      <td>Si</td>\n",
       "      <td>No</td>\n",
       "      <td>No</td>\n",
       "      <td>No</td>\n",
       "      <td>Losetas, terrazos o similares</td>\n",
       "      <td>6.0</td>\n",
       "      <td>2019</td>\n",
       "    </tr>\n",
       "    <tr>\n",
       "      <th>2</th>\n",
       "      <td>000102801  2</td>\n",
       "      <td>PE6</td>\n",
       "      <td>1.0</td>\n",
       "      <td>28.0</td>\n",
       "      <td>2.0</td>\n",
       "      <td>1.0</td>\n",
       "      <td>2019.0</td>\n",
       "      <td>1434.0</td>\n",
       "      <td>6.0</td>\n",
       "      <td>1983.0</td>\n",
       "      <td>...</td>\n",
       "      <td>Urbano</td>\n",
       "      <td>Si</td>\n",
       "      <td>Si</td>\n",
       "      <td>Si</td>\n",
       "      <td>Si</td>\n",
       "      <td>Si</td>\n",
       "      <td>Si</td>\n",
       "      <td>Losetas, terrazos o similares</td>\n",
       "      <td>16.0</td>\n",
       "      <td>2019</td>\n",
       "    </tr>\n",
       "    <tr>\n",
       "      <th>3</th>\n",
       "      <td>000102801  6</td>\n",
       "      <td>PE6</td>\n",
       "      <td>1.0</td>\n",
       "      <td>28.0</td>\n",
       "      <td>6.0</td>\n",
       "      <td>1.0</td>\n",
       "      <td>2019.0</td>\n",
       "      <td>1434.0</td>\n",
       "      <td>3.0</td>\n",
       "      <td>1970.0</td>\n",
       "      <td>...</td>\n",
       "      <td>Urbano</td>\n",
       "      <td>Si</td>\n",
       "      <td>Si</td>\n",
       "      <td>Si</td>\n",
       "      <td>Si</td>\n",
       "      <td>Si</td>\n",
       "      <td>Si</td>\n",
       "      <td>Losetas, terrazos o similares</td>\n",
       "      <td>4.0</td>\n",
       "      <td>2019</td>\n",
       "    </tr>\n",
       "    <tr>\n",
       "      <th>4</th>\n",
       "      <td>000104801  2</td>\n",
       "      <td>PE6</td>\n",
       "      <td>1.0</td>\n",
       "      <td>48.0</td>\n",
       "      <td>2.0</td>\n",
       "      <td>1.0</td>\n",
       "      <td>2019.0</td>\n",
       "      <td>1434.0</td>\n",
       "      <td>5.0</td>\n",
       "      <td>1991.0</td>\n",
       "      <td>...</td>\n",
       "      <td>Urbano</td>\n",
       "      <td>No</td>\n",
       "      <td>No</td>\n",
       "      <td>No</td>\n",
       "      <td>No</td>\n",
       "      <td>No</td>\n",
       "      <td>No</td>\n",
       "      <td>Cemento/ladrillo</td>\n",
       "      <td>1.0</td>\n",
       "      <td>2019</td>\n",
       "    </tr>\n",
       "    <tr>\n",
       "      <th>...</th>\n",
       "      <td>...</td>\n",
       "      <td>...</td>\n",
       "      <td>...</td>\n",
       "      <td>...</td>\n",
       "      <td>...</td>\n",
       "      <td>...</td>\n",
       "      <td>...</td>\n",
       "      <td>...</td>\n",
       "      <td>...</td>\n",
       "      <td>...</td>\n",
       "      <td>...</td>\n",
       "      <td>...</td>\n",
       "      <td>...</td>\n",
       "      <td>...</td>\n",
       "      <td>...</td>\n",
       "      <td>...</td>\n",
       "      <td>...</td>\n",
       "      <td>...</td>\n",
       "      <td>...</td>\n",
       "      <td>...</td>\n",
       "      <td>...</td>\n",
       "    </tr>\n",
       "    <tr>\n",
       "      <th>38330</th>\n",
       "      <td>325406201  2</td>\n",
       "      <td>PE6</td>\n",
       "      <td>3254.0</td>\n",
       "      <td>62.0</td>\n",
       "      <td>2.0</td>\n",
       "      <td>3254.0</td>\n",
       "      <td>2019.0</td>\n",
       "      <td>1440.0</td>\n",
       "      <td>12.0</td>\n",
       "      <td>1971.0</td>\n",
       "      <td>...</td>\n",
       "      <td>Rural</td>\n",
       "      <td>No</td>\n",
       "      <td>No</td>\n",
       "      <td>No</td>\n",
       "      <td>No</td>\n",
       "      <td>No</td>\n",
       "      <td>No</td>\n",
       "      <td>Pona</td>\n",
       "      <td>4.0</td>\n",
       "      <td>2019</td>\n",
       "    </tr>\n",
       "    <tr>\n",
       "      <th>38331</th>\n",
       "      <td>325406301  2</td>\n",
       "      <td>PE6</td>\n",
       "      <td>3254.0</td>\n",
       "      <td>63.0</td>\n",
       "      <td>2.0</td>\n",
       "      <td>3254.0</td>\n",
       "      <td>2019.0</td>\n",
       "      <td>1440.0</td>\n",
       "      <td>6.0</td>\n",
       "      <td>1988.0</td>\n",
       "      <td>...</td>\n",
       "      <td>Rural</td>\n",
       "      <td>No</td>\n",
       "      <td>No</td>\n",
       "      <td>No</td>\n",
       "      <td>No</td>\n",
       "      <td>No</td>\n",
       "      <td>No</td>\n",
       "      <td>Pona</td>\n",
       "      <td>6.0</td>\n",
       "      <td>2019</td>\n",
       "    </tr>\n",
       "    <tr>\n",
       "      <th>38332</th>\n",
       "      <td>325407001  2</td>\n",
       "      <td>PE6</td>\n",
       "      <td>3254.0</td>\n",
       "      <td>70.0</td>\n",
       "      <td>2.0</td>\n",
       "      <td>3254.0</td>\n",
       "      <td>2019.0</td>\n",
       "      <td>1440.0</td>\n",
       "      <td>7.0</td>\n",
       "      <td>1973.0</td>\n",
       "      <td>...</td>\n",
       "      <td>Rural</td>\n",
       "      <td>No</td>\n",
       "      <td>No</td>\n",
       "      <td>No</td>\n",
       "      <td>No</td>\n",
       "      <td>No</td>\n",
       "      <td>No</td>\n",
       "      <td>Pona</td>\n",
       "      <td>3.0</td>\n",
       "      <td>2019</td>\n",
       "    </tr>\n",
       "    <tr>\n",
       "      <th>38333</th>\n",
       "      <td>325407201  2</td>\n",
       "      <td>PE6</td>\n",
       "      <td>3254.0</td>\n",
       "      <td>72.0</td>\n",
       "      <td>2.0</td>\n",
       "      <td>3254.0</td>\n",
       "      <td>2019.0</td>\n",
       "      <td>1440.0</td>\n",
       "      <td>12.0</td>\n",
       "      <td>1994.0</td>\n",
       "      <td>...</td>\n",
       "      <td>Rural</td>\n",
       "      <td>No</td>\n",
       "      <td>No</td>\n",
       "      <td>No</td>\n",
       "      <td>No</td>\n",
       "      <td>No</td>\n",
       "      <td>No</td>\n",
       "      <td>Pona</td>\n",
       "      <td>9.0</td>\n",
       "      <td>2019</td>\n",
       "    </tr>\n",
       "    <tr>\n",
       "      <th>38334</th>\n",
       "      <td>325407401  2</td>\n",
       "      <td>PE6</td>\n",
       "      <td>3254.0</td>\n",
       "      <td>74.0</td>\n",
       "      <td>2.0</td>\n",
       "      <td>3254.0</td>\n",
       "      <td>2019.0</td>\n",
       "      <td>1440.0</td>\n",
       "      <td>10.0</td>\n",
       "      <td>1996.0</td>\n",
       "      <td>...</td>\n",
       "      <td>Rural</td>\n",
       "      <td>No</td>\n",
       "      <td>No</td>\n",
       "      <td>No</td>\n",
       "      <td>No</td>\n",
       "      <td>No</td>\n",
       "      <td>No</td>\n",
       "      <td>Pona</td>\n",
       "      <td>9.0</td>\n",
       "      <td>2019</td>\n",
       "    </tr>\n",
       "  </tbody>\n",
       "</table>\n",
       "<p>38335 rows × 23 columns</p>\n",
       "</div>"
      ],
      "text/plain": [
       "                   CASEID V000    V001  V002  V003    V004    V007    V008  \\\n",
       "0            000100201  2  PE6     1.0   2.0   2.0     1.0  2019.0  1434.0   \n",
       "1            000100201  3  PE6     1.0   2.0   3.0     1.0  2019.0  1434.0   \n",
       "2            000102801  2  PE6     1.0  28.0   2.0     1.0  2019.0  1434.0   \n",
       "3            000102801  6  PE6     1.0  28.0   6.0     1.0  2019.0  1434.0   \n",
       "4            000104801  2  PE6     1.0  48.0   2.0     1.0  2019.0  1434.0   \n",
       "...                   ...  ...     ...   ...   ...     ...     ...     ...   \n",
       "38330        325406201  2  PE6  3254.0  62.0   2.0  3254.0  2019.0  1440.0   \n",
       "38331        325406301  2  PE6  3254.0  63.0   2.0  3254.0  2019.0  1440.0   \n",
       "38332        325407001  2  PE6  3254.0  70.0   2.0  3254.0  2019.0  1440.0   \n",
       "38333        325407201  2  PE6  3254.0  72.0   2.0  3254.0  2019.0  1440.0   \n",
       "38334        325407401  2  PE6  3254.0  74.0   2.0  3254.0  2019.0  1440.0   \n",
       "\n",
       "       V009    V010  ...    V102  V120 V121 V122 V123 V124 V125  \\\n",
       "0       4.0  1986.0  ...  Urbano    Si   Si   Si   No   No   No   \n",
       "1       1.0  2007.0  ...  Urbano    Si   Si   Si   No   No   No   \n",
       "2       6.0  1983.0  ...  Urbano    Si   Si   Si   Si   Si   Si   \n",
       "3       3.0  1970.0  ...  Urbano    Si   Si   Si   Si   Si   Si   \n",
       "4       5.0  1991.0  ...  Urbano    No   No   No   No   No   No   \n",
       "...     ...     ...  ...     ...   ...  ...  ...  ...  ...  ...   \n",
       "38330  12.0  1971.0  ...   Rural    No   No   No   No   No   No   \n",
       "38331   6.0  1988.0  ...   Rural    No   No   No   No   No   No   \n",
       "38332   7.0  1973.0  ...   Rural    No   No   No   No   No   No   \n",
       "38333  12.0  1994.0  ...   Rural    No   No   No   No   No   No   \n",
       "38334  10.0  1996.0  ...   Rural    No   No   No   No   No   No   \n",
       "\n",
       "                                V127  V133  year  \n",
       "0      Losetas, terrazos o similares  16.0  2019  \n",
       "1      Losetas, terrazos o similares   6.0  2019  \n",
       "2      Losetas, terrazos o similares  16.0  2019  \n",
       "3      Losetas, terrazos o similares   4.0  2019  \n",
       "4                   Cemento/ladrillo   1.0  2019  \n",
       "...                              ...   ...   ...  \n",
       "38330                           Pona   4.0  2019  \n",
       "38331                           Pona   6.0  2019  \n",
       "38332                           Pona   3.0  2019  \n",
       "38333                           Pona   9.0  2019  \n",
       "38334                           Pona   9.0  2019  \n",
       "\n",
       "[38335 rows x 23 columns]"
      ]
     },
     "execution_count": 129,
     "metadata": {},
     "output_type": "execute_result"
    }
   ],
   "source": [
    "# creating a new column with df.assign\n",
    "rec1_1.assign(year = 2019)\n",
    "\n"
   ]
  },
  {
   "cell_type": "code",
   "execution_count": 165,
   "metadata": {},
   "outputs": [
    {
     "data": {
      "text/plain": [
       "'Year of the survey'"
      ]
     },
     "execution_count": 165,
     "metadata": {},
     "output_type": "execute_result"
    }
   ],
   "source": [
    "# updating the new variable in the new_var_labels1 dictionary\n",
    "new_var_labels1.update({\"Year\": \"Year of the survey\"})\n",
    "new_var_labels1.get('Year')"
   ]
  },
  {
   "cell_type": "markdown",
   "metadata": {},
   "source": [
    "4. Merge `rec1_1`, `rec2_1`, and `rec3_1` using **CASEID**. Name this new object as `endes_2019`. **Hint: Use [this link](https://stackoverflow.com/questions/53645882/pandas-merging-101)**"
   ]
  },
  {
   "cell_type": "code",
   "execution_count": 167,
   "metadata": {},
   "outputs": [
    {
     "name": "stdout",
     "output_type": "stream",
     "text": [
      "(38335, 22)\n"
     ]
    },
    {
     "data": {
      "text/plain": [
       "(36922, 25)"
      ]
     },
     "execution_count": 167,
     "metadata": {},
     "output_type": "execute_result"
    }
   ],
   "source": [
    "print(rec1_1.shape)\n",
    "rec2_1.shape"
   ]
  },
  {
   "cell_type": "code",
   "execution_count": 168,
   "metadata": {},
   "outputs": [
    {
     "data": {
      "text/plain": [
       "(38335, 46)"
      ]
     },
     "execution_count": 168,
     "metadata": {},
     "output_type": "execute_result"
    }
   ],
   "source": [
    "rec12_merge = rec1_1.merge(rec2_1 , on = [ 'CASEID'] , how = \"left\" , validate = \"m:1\" )\n",
    "rec12_merge.shape"
   ]
  },
  {
   "cell_type": "code",
   "execution_count": 195,
   "metadata": {},
   "outputs": [
    {
     "data": {
      "text/plain": [
       "(38335, 63)"
      ]
     },
     "execution_count": 195,
     "metadata": {},
     "output_type": "execute_result"
    }
   ],
   "source": [
    "endes_2019 = rec12_merge.merge(rec3_1 , on = [ 'CASEID'] , how = \"left\" , validate = \"m:1\" )\n",
    "endes_2019.shape"
   ]
  },
  {
   "cell_type": "markdown",
   "metadata": {},
   "source": [
    "5. Unify all the `new_var_labels` in one object and `new_value_labels` in another one object. Name these two objects as `var_labels` and `value_labels`. Use them to generate new attributes for `endes_2019`. These attributes should be named as `var_labels` and `value_labels`. Your final output should be equal to `endes_2019_ta` object **Hint: Use `update` method.**"
   ]
  },
  {
   "cell_type": "code",
   "execution_count": 178,
   "metadata": {},
   "outputs": [],
   "source": [
    "output = urllib.request.urlopen(r'https://www.dropbox.com/s/gwcssinb1j9zr6s/endes_2019_ta.pkl?dl=1')\n",
    "endes_2019_ta = pickle.load( output )"
   ]
  },
  {
   "cell_type": "code",
   "execution_count": 193,
   "metadata": {},
   "outputs": [],
   "source": [
    "# Unifying all the new_var_labels\n",
    "new_var_labels1.update(new_var_labels2)\n",
    "new_var_labels1.update(new_var_labels3)\n",
    "# naming it var_labels\n",
    "var_labels = new_var_labels1"
   ]
  },
  {
   "cell_type": "code",
   "execution_count": 191,
   "metadata": {},
   "outputs": [],
   "source": [
    "# Unifying all the new_var_labels\n",
    "new_value_labels1.update(new_value_labels2)\n",
    "new_value_labels1.update(new_value_labels3)\n",
    "# naming it var_labels\n",
    "value_labels = new_value_labels1"
   ]
  },
  {
   "cell_type": "markdown",
   "metadata": {},
   "source": [
    "6. Now, replicate your code of the prevoius sections but for years **2019, 2018, 2017, 2016, 2015**. Import the `REC0111.sav`, `RE223132.sav` and `RE516171.sav` files and their **variables and values labels** from this path `\"../../_data/endes/\"`. For this excersie you must use a for loop. This loop must iterate over **2019, 2018, 2017, 2016, 2015 folders** and import these files. All the files have the same name. You must store these files and their labels in a nested dictionary named as `all_data`. The keys of the dictionary should be named as `year_2019`, for example, and the keys of the nested dictionary should be `data`, `var_labels`, and `value_labels`. The output of this exercise should be equal to the `all_data_ta` object. **Hint: Use [this link](https://notebooks.githubusercontent.com/view/ipynb?browser=chrome&color_mode=auto&commit=4d6de78e00e7001f16bf6473c2eb7ce24fb611cd&device=unknown_device&enc_url=68747470733a2f2f7261772e67697468756275736572636f6e74656e742e636f6d2f616c6578616e6465727175697370652f4469706c6f6d61646f5f505543502f346436646537386530306537303031663136626636343733633265623763653234666236313163642f4c6563747572655f342f4c6563747572655f342e6970796e62&logged_in=true&nwo=alexanderquispe%2FDiplomado_PUCP&path=Lecture_4%2FLecture_4.ipynb&platform=windows&repository_id=427747212&repository_type=Repository&version=95#4.2.)**"
   ]
  },
  {
   "cell_type": "code",
   "execution_count": 197,
   "metadata": {},
   "outputs": [],
   "source": [
    "output = urllib.request.urlopen(r'https://www.dropbox.com/s/dqv1d9of2uo6hul/all_data_ta.pkl?dl=1')\n",
    "all_data_ta = pickle.load( output )"
   ]
  },
  {
   "cell_type": "code",
   "execution_count": 200,
   "metadata": {},
   "outputs": [
    {
     "name": "stdout",
     "output_type": "stream",
     "text": [
      "{'year_2015': {'data':                    CASEID V000    V001  V002  V003    V004    V008  V009  \\\n",
      "0            000102701  1  PE6     1.0  27.0   1.0     1.0  1386.0   7.0   \n",
      "1            000104301  1  PE6     1.0  43.0   1.0     1.0  1386.0   4.0   \n",
      "2            000104801  2  PE6     1.0  48.0   2.0     1.0  1386.0   1.0   \n",
      "3            000104801  3  PE6     1.0  48.0   3.0     1.0  1386.0  11.0   \n",
      "4            000105001  3  PE6     1.0  50.0   3.0     1.0  1386.0   8.0   \n",
      "...                   ...  ...     ...   ...   ...     ...     ...   ...   \n",
      "36650        317503501  2  PE6  3175.0  35.0   2.0  3175.0  1389.0   1.0   \n",
      "36651        317503701  2  PE6  3175.0  37.0   2.0  3175.0  1389.0  12.0   \n",
      "36652        317507601  1  PE6  3175.0  76.0   1.0  3175.0  1389.0  10.0   \n",
      "36653        317507801  2  PE6  3175.0  78.0   2.0  3175.0  1389.0   4.0   \n",
      "36654        317508001  2  PE6  3175.0  80.0   2.0  3175.0  1389.0   7.0   \n",
      "\n",
      "         V010    V011  ...    V508    V509            V510  V511  V512  \\\n",
      "0      1985.0  1027.0  ...  2001.0  1220.0  Month and year  16.0  13.0   \n",
      "1      1974.0   892.0  ...  2007.0  1290.0  Month and year  33.0   8.0   \n",
      "2      1980.0   961.0  ...  1998.0  1177.0  Month and year  18.0  17.0   \n",
      "3      1999.0  1199.0  ...     NaN     NaN             NaN   NaN   NaN   \n",
      "4      1993.0  1124.0  ...     NaN     NaN             NaN   NaN   NaN   \n",
      "...       ...     ...  ...     ...     ...             ...   ...   ...   \n",
      "36650  1989.0  1069.0  ...  2008.0  1303.0  Month and year  19.0   7.0   \n",
      "36651  1970.0   852.0  ...  1991.0  1098.0  Month and year  20.0  24.0   \n",
      "36652  1972.0   874.0  ...  1993.0  1118.0  Month and year  20.0  22.0   \n",
      "36653  2000.0  1204.0  ...     NaN     NaN             NaN   NaN   NaN   \n",
      "36654  1984.0  1015.0  ...  2004.0  1250.0  Month and year  19.0  11.0   \n",
      "\n",
      "                V513                 V525 V613 V714  V715  \n",
      "0              10-14                 15.0  4.0  Yes   3.0  \n",
      "1                5-9                 26.0  2.0   No   9.0  \n",
      "2              15-19                 18.0  1.0  Yes  11.0  \n",
      "3      Never married  Not had intercourse  0.0  Yes   NaN  \n",
      "4      Never married                 21.0  2.0   No   NaN  \n",
      "...              ...                  ...  ...  ...   ...  \n",
      "36650            5-9                 15.0  1.0  Yes  11.0  \n",
      "36651          20-24                 14.0  3.0  Yes   0.0  \n",
      "36652          20-24                 12.0  3.0  Yes   3.0  \n",
      "36653  Never married  Not had intercourse  2.0   No   NaN  \n",
      "36654          10-14                 18.0  2.0   No  11.0  \n",
      "\n",
      "[36655 rows x 63 columns], 'var_labels': {'CASEID': 'Case Identification', 'V000': 'Country code and phase', 'V001': 'Cluster number', 'V002': 'Household number', 'V003': \"Respondent's line number\", 'V004': 'Ultimate area unit', 'V008': 'Date of interview (CMC)', 'V009': \"Respondent's month of birth\", 'V010': \"Respondent's year of birth\", 'V011': 'Date of birth (CMC)', 'V012': 'Current age - respondent', 'V024': 'Region', 'V102': 'Type of place of residence', 'V120': 'Has radio', 'V121': 'Has television', 'V122': 'Has refrigerator', 'V123': 'Has bicycle', 'V124': 'Has motorcycle/scooter', 'V125': 'Has car/truck', 'V127': 'Main floor material', 'V133': 'Education in single years', 'year': 'Year of the survey', 'V201': 'Total children ever born', 'V218': 'Number of living children', 'V301': 'Knowledge of any method', 'V302': 'Ever use of any method', 'V323': 'Brand of pill used', 'V323A': 'Brand of condom used', 'V325A': 'Cost of current method', 'V326': 'Last source for current users', 'V327': 'Last source for users by type', 'V337': 'Months of use of current method', 'V359': 'Last method disc. last 5 years', 'V360': 'Reason of last discontinuation', 'V361': 'Pattern of use', 'V362': 'Intention to use', 'V363': 'Preferred future method', 'V364': 'Contraceptive use & intention', 'V367': 'Wanted last child', 'V372': 'Shown pill package', 'V372A': 'Shown condom package', 'V375A': 'Main reason not using a method', 'V376': 'Main reason not to use a meth.', 'V376A': 'Would ever use method if marr.', 'V379': 'Source known for any method', 'V380': 'Source known for any method', 'V501': 'Current marital status', 'V502': 'Currently/formerly/never marr.', 'V503': 'Number of unions', 'V504': 'Husband lives in house', 'V505': 'Number of other wives', 'V506': 'Wife rank number', 'V507': 'Month of first marriage', 'V508': 'Year of first marriage', 'V509': 'Date of first marriage (CMC)', 'V510': 'Completeness of date inform.', 'V511': 'Age at first marriage', 'V512': 'Years since first marriage', 'V513': 'Marital duration (grouped)', 'V525': 'Age at first intercourse', 'V613': 'Ideal number of children', 'V714': 'Respondent currently working', 'V715': 'Husbands education-single yrs'}, 'value_labels': {'V024': {1.0: 'Amazonas', 2.0: 'Ancash', 3.0: 'Apurimac', 4.0: 'Arequipa', 5.0: 'Ayacucho', 6.0: 'Cajamarca', 7.0: 'Callao', 8.0: 'Cusco', 9.0: 'Huancavelica', 10.0: 'Huanuco', 11.0: 'Ica', 12.0: 'Junin', 13.0: 'La Libertad', 14.0: 'Lambayeque', 15.0: 'Lima', 16.0: 'Loreto', 17.0: 'Madre de Dios', 18.0: 'Moquegua', 19.0: 'Pasco', 20.0: 'Piura', 21.0: 'Puno', 22.0: 'San Martin', 23.0: 'Tacna', 24.0: 'Tumbes', 25.0: 'Ucayali'}, 'V102': {1.0: 'Urban', 2.0: 'Rural'}, 'V120': {0.0: 'No', 1.0: 'Yes', 7.0: 'Not dejure resident'}, 'V121': {0.0: 'No', 1.0: 'Yes', 7.0: 'Not dejure resident'}, 'V122': {0.0: 'No', 1.0: 'Yes', 7.0: 'Not dejure resident'}, 'V123': {0.0: 'No', 1.0: 'Yes', 7.0: 'Not dejure resident'}, 'V124': {0.0: 'No', 1.0: 'Yes', 7.0: 'Not dejure resident'}, 'V125': {0.0: 'No', 1.0: 'Yes', 7.0: 'Not dejure resident'}, 'V127': {10.0: 'NATURAL', 11.0: 'Earth/sand', 20.0: 'RUDIMENTARY', 21.0: 'Wood', 30.0: 'FINISHED', 31.0: 'Parket', 32.0: 'Asphlat tiles/vynil', 33.0: 'Granite, ceramic tiles', 34.0: 'Cement/brick', 96.0: 'OTHER', 97.0: 'Not dejure resident'}, 'V133': {97.0: 'Inconsistent'}, 'V301': {0.0: 'Knows no method', 1.0: 'Knows only folkloric', 2.0: 'Knows only trad. mth', 3.0: 'Knows modern method'}, 'V302': {0.0: 'Never used', 1.0: 'Used only folkloric', 2.0: 'Used only trad. meth', 3.0: 'Used modern method'}, 'V323': {1.0: 'Microginon', 2.0: 'Nordet', 3.0: 'Lofemenal', 4.0: 'Gynera', 5.0: 'Ciclomex', 6.0: 'Triciclomex', 7.0: 'Femiane', 8.0: 'Mercilon', 9.0: 'Marvelon', 10.0: 'Lindiol-e', 11.0: 'Dione 35', 12.0: 'Cilest', 13.0: 'Triquilar', 14.0: 'Trinordiol', 15.0: 'Minigynon', 16.0: 'Exluton', 17.0: 'Ovrette', 18.0: 'Ovral', 19.0: 'Mirelle', 20.0: 'Yasmin Drospyperona', 21.0: 'Peldura', 22.0: 'Anuletyc', 23.0: 'Rigevidon', 24.0: 'Oral Con-F', 25.0: 'Canesa', 26.0: 'Belara', 27.0: 'Tri_Regol', 93.0: 'No brand (H. FF.AA., FF.PP)', 94.0: 'No brand(ESSALUD)', 95.0: 'No brand(MINSA)', 96.0: 'Other', 98.0: \"Don't know\"}, 'V323A': {1.0: 'OK', 2.0: 'Piel', 3.0: 'Royal', 4.0: 'Jontex', 5.0: 'Contempo', 6.0: 'Gens', 7.0: 'LifeStyle', 8.0: 'Sultan', 9.0: 'Durex', 10.0: 'Preventor', 11.0: 'Hanson plans', 12.0: 'Sensitive', 13.0: 'Play boy', 14.0: 'Lubritec', 15.0: 'Pantera', 16.0: 'Tex', 17.0: 'Seohung', 18.0: 'Aladan corporation', 19.0: 'Vladi', 20.0: 'Stalion', 21.0: 'Latex', 22.0: 'Pussy Cat', 23.0: 'Sensación', 24.0: 'Karex', 25.0: 'Do it Loverly', 26.0: 'Nonoxinol - 9', 27.0: 'Famila 28', 93.0: 'No brand (H. FF.AA., FF.PP)', 94.0: 'No brand(MINSA)', 95.0: 'No brand(ESSALUD)', 96.0: 'Other', 98.0: \"Don't know\"}, 'V325A': {9999995.0: 'Free', 9999998.0: \"Don't know\"}, 'V326': {11.0: 'Hospital MINSA', 12.0: 'Health center MINSA', 13.0: 'Health post MINSA', 14.0: 'Health worker MINSA', 15.0: 'Hospital ESSALUD', 16.0: 'Center/Post ESSALUD', 17.0: 'Hospital/Other FFAA & PNP', 18.0: 'Hospital/Other Local Govern.', 19.0: 'Other governemnt', 21.0: 'Private clinic', 22.0: 'Pharmacy', 23.0: 'Private doctor', 24.0: 'Clinic/FP post NGO', 25.0: 'Health worker NGO', 31.0: 'Shop/supermarket', 32.0: 'Church', 33.0: 'Friends/relatives', 95.0: 'Automedication', 96.0: 'OTHER', 98.0: 'DK'}, 'V327': {1.0: 'Govt Clinical/Pharm', 2.0: 'Govt Home/Comm deliv', 3.0: 'NGO', 4.0: 'Private Clin/Deliv', 5.0: 'Private Pharmacy', 6.0: 'Shop, church, friend', 7.0: 'Other', 8.0: \"Don't know\"}, 'V337': {95.0: 'All cal. {A core}', 96.0: '96+ {B core}', 997.0: 'Inconsistent', 998.0: \"Don't know\"}, 'V359': {1.0: 'Pill', 2.0: 'IUD', 3.0: 'Injections', 4.0: 'Diaphragm', 5.0: 'Condom', 6.0: 'Female Sterilization', 7.0: 'Male Sterilization', 8.0: 'Periodic Abstinence', 9.0: 'Withdrawal', 10.0: 'Other', 11.0: 'Norplant', 12.0: 'Abstinence', 13.0: 'Lactational amenorrhea', 14.0: 'Female condom', 15.0: 'Foam or jelly', 16.0: 'Emergency contraception', 17.0: 'Collar cycle', 18.0: 'Specific method 2', 19.0: 'Specific method 3', 20.0: 'Specific method 4'}, 'V360': {1.0: 'Became pregnant', 2.0: 'Wanted to become prg', 3.0: 'Husband disapproved', 4.0: 'Side effects', 5.0: 'Health concerns', 6.0: 'Access, availability', 7.0: 'Wanted more eff.meth', 8.0: 'Inconvenient to use', 9.0: 'Infreq.sex,husb away', 10.0: 'Cost', 11.0: 'Fatalistic', 12.0: 'Diff.preg.,menopause', 13.0: 'Marital dissolution', 14.0: 'Other', 98.0: \"Don't know\"}, 'V361': {1.0: 'Currently using', 2.0: 'Used since last birth', 3.0: 'Used before last birth', 4.0: 'Never used'}, 'V362': {1.0: 'In next 12 months', 2.0: 'Use later', 3.0: 'Unsure about timing', 4.0: 'Unsure about use', 5.0: 'Does not intend', 6.0: 'Never had sex'}, 'V363': {1.0: 'Pill', 2.0: 'IUD', 3.0: 'Injections', 4.0: 'Diaphragm', 5.0: 'Condom', 6.0: 'Female Sterilization', 7.0: 'Male Sterilization', 8.0: 'Periodic Abstinence', 9.0: 'Withdrawal', 10.0: 'Other', 11.0: 'Norplant', 12.0: 'Abstinence', 13.0: 'Lactational amenorrhea', 14.0: 'Female condom', 15.0: 'Foam or jelly', 16.0: 'Emergency contraception', 17.0: 'Cycle collar', 98.0: \"Don't know\"}, 'V364': {1.0: 'Using modern method', 2.0: 'Using traditional method', 3.0: 'Non-user intend to', 4.0: 'Does not intend to', 5.0: 'Never had sex'}, 'V367': {1.0: 'Wanted then', 2.0: 'Wanted later', 3.0: 'Wanted no more'}, 'V372': {0.0: 'Package not seen', 1.0: 'Package seen'}, 'V372A': {0.0: 'Package not seen', 1.0: 'Package seen'}, 'V375A': {11.0: 'Not married', 20.0: 'FERTILITY-RELATED', 21.0: 'Not having sex', 22.0: 'Infrequent sex', 23.0: 'Menopausal', 24.0: 'Subfecund, infecund', 25.0: 'Postpartum, breastf.', 26.0: 'Wants more children', 27.0: 'Pregnant', 28.0: 'Histerctomized', 30.0: 'OPPOSITION TO USE', 31.0: 'Respondent opposed', 32.0: 'Husband opposed', 33.0: 'Others opposed', 34.0: 'Religious prohibit.', 40.0: 'LACK OF KNOWLEDGE', 41.0: 'Knows no method', 42.0: 'Knows no source', 50.0: 'METHOD-RELATED', 51.0: 'Health concerns', 52.0: 'Fear side effects', 53.0: 'Lack of access', 54.0: 'Cost too much', 55.0: 'Inconvenient to use', 56.0: 'Interfere with body', 96.0: 'Other', 98.0: 'DK'}, 'V376': {11.0: 'Not married', 20.0: 'FERTILITY-RELATED', 22.0: 'Infrequent sex', 23.0: 'Menopausal, hyster.', 24.0: 'Subfecund, infecund', 25.0: 'Male infecund', 26.0: 'Wants more children', 30.0: 'OPPOSITION TO USE', 31.0: 'Respondent opposed', 32.0: 'Husband opposed', 33.0: 'Others opposed', 34.0: 'Religious prohibit.', 40.0: 'LACK OF KNOWLEDGE', 41.0: 'Knows no method', 42.0: 'Knows no source', 50.0: 'METHOD-RELATED', 51.0: 'Health concerns', 52.0: 'Fear side effects', 53.0: 'Lack of access', 54.0: 'Cost too much', 55.0: 'Inconvenient to use', 56.0: 'Interfere with body', 96.0: 'Other', 98.0: 'DK'}, 'V376A': {0.0: 'No', 1.0: 'Yes', 8.0: 'DK'}, 'V379': {11.0: 'Hospital MINSA', 12.0: 'Health center MINSA', 13.0: 'Health post MINSA', 14.0: 'Health worker MINSA', 15.0: 'Hospital ESSALUD', 16.0: 'Center/Post ESSALUD', 17.0: 'Campaign/fair', 18.0: 'Other governemnt', 21.0: 'Private clinic', 22.0: 'Pharmacy', 23.0: 'Private doctor', 24.0: 'Clinic/FP post NGO', 25.0: 'Health worker NGO', 31.0: 'Shop/supermarket', 32.0: 'Church', 33.0: 'Friends/relatives', 95.0: 'Automedication', 96.0: 'OTHER', 98.0: 'DK'}, 'V380': {1.0: 'Govt Clinical/Pharm', 2.0: 'Govt Home/Comm deliv', 3.0: 'NGO', 4.0: 'Private Clin/Deliv', 5.0: 'Private Pharmacy', 6.0: 'Shop, church, friend', 7.0: 'Other', 8.0: \"Don't know\"}, 'V501': {0.0: 'Never married', 1.0: 'Married', 2.0: 'Living together', 3.0: 'Widowed', 4.0: 'Divorced', 5.0: 'Not living together'}, 'V502': {0.0: 'Never married', 1.0: 'Currently married', 2.0: 'Formerly married'}, 'V503': {1.0: 'Once', 2.0: 'More than once'}, 'V504': {1.0: 'Living with her', 2.0: 'Staying elsewhere'}, 'V505': {0.0: 'No other wives', 98.0: \"Don't know\"}, 'V506': {98.0: \"Don't know\"}, 'V510': {1.0: 'Month and year', 2.0: 'Month and age -y imp', 3.0: 'Year and age - m imp', 4.0: '', 5.0: 'Year - a, m imp', 6.0: 'Age - y, m imp', 7.0: 'Month - a, y imp', 8.0: 'None - all imp'}, 'V513': {0.0: 'Never married', 1.0: '0-4', 2.0: '5-9', 3.0: '10-14', 4.0: '15-19', 5.0: '20-24', 6.0: '25-29', 7.0: '30+'}, 'V525': {0.0: 'Not had intercourse', 96.0: 'At first union', 97.0: 'Inconsistent', 98.0: \"Don't know\"}, 'V613': {96.0: 'Non-numeric response', 98.0: 'DK'}, 'V714': {0.0: 'No', 1.0: 'Yes'}, 'V715': {97.0: 'Inconsistent', 98.0: \"Don't know\"}}}, 'year_2016': {'data':                    CASEID V000    V001  V002  V003    V004    V008  V009  \\\n",
      "0            000100301  2  PE6     1.0   3.0   2.0     1.0  1398.0  11.0   \n",
      "1            000102801  1  PE6     1.0  28.0   1.0     1.0  1398.0  10.0   \n",
      "2            000102801  2  PE6     1.0  28.0   2.0     1.0  1398.0   6.0   \n",
      "3            000106101  2  PE6     1.0  61.0   2.0     1.0  1398.0   4.0   \n",
      "4            000106801  2  PE6     1.0  68.0   2.0     1.0  1398.0   6.0   \n",
      "...                   ...  ...     ...   ...   ...     ...     ...   ...   \n",
      "34126        317500701  2  PE6  3175.0   7.0   2.0  3175.0  1401.0   4.0   \n",
      "34127        317501001  2  PE6  3175.0  10.0   2.0  3175.0  1401.0   3.0   \n",
      "34128        317501101  2  PE6  3175.0  11.0   2.0  3175.0  1401.0   2.0   \n",
      "34129        317501601  2  PE6  3175.0  16.0   2.0  3175.0  1401.0   3.0   \n",
      "34130        317501801  2  PE6  3175.0  18.0   2.0  3175.0  1401.0   5.0   \n",
      "\n",
      "         V010    V011  ...    V508    V509             V510  V511  V512  \\\n",
      "0      1982.0   995.0  ...  2012.0  1352.0   Month and year  29.0   3.0   \n",
      "1      1979.0   958.0  ...  1993.0  1123.0  Year - a, m imp  13.0  22.0   \n",
      "2      1998.0  1182.0  ...     NaN     NaN              NaN   NaN   NaN   \n",
      "3      1990.0  1084.0  ...  2013.0  1366.0   Month and year  23.0   2.0   \n",
      "4      1973.0   882.0  ...  1992.0  1105.0   Month and year  18.0  24.0   \n",
      "...       ...     ...  ...     ...     ...              ...   ...   ...   \n",
      "34126  1995.0  1144.0  ...  2013.0  1365.0   Month and year  18.0   3.0   \n",
      "34127  1978.0   939.0  ...  1990.0  1083.0   Month and year  12.0  26.0   \n",
      "34128  2001.0  1214.0  ...  2015.0  1389.0   Month and year  14.0   1.0   \n",
      "34129  1987.0  1047.0  ...  2004.0  1249.0   Month and year  16.0  12.0   \n",
      "34130  1971.0   857.0  ...  1989.0  1078.0   Month and year  18.0  26.0   \n",
      "\n",
      "                V513  V525 V613 V714  V715  \n",
      "0                0-4  19.0  2.0   No   9.0  \n",
      "1              20-24  13.0  5.0  Yes   6.0  \n",
      "2      Never married  16.0  1.0  Yes   NaN  \n",
      "3                0-4  20.0  4.0   No  16.0  \n",
      "4              20-24  18.0  2.0  Yes   8.0  \n",
      "...              ...   ...  ...  ...   ...  \n",
      "34126            0-4  13.0  2.0   No   9.0  \n",
      "34127          25-29  12.0  1.0  Yes   5.0  \n",
      "34128            0-4  14.0  2.0  Yes   6.0  \n",
      "34129          10-14  15.0  3.0   No   9.0  \n",
      "34130          25-29  13.0  2.0  Yes  11.0  \n",
      "\n",
      "[34131 rows x 63 columns], 'var_labels': {'CASEID': 'Case Identification', 'V000': 'Country code and phase', 'V001': 'Cluster number', 'V002': 'Household number', 'V003': \"Respondent's line number\", 'V004': 'Ultimate area unit', 'V008': 'Date of interview (CMC)', 'V009': \"Respondent's month of birth\", 'V010': \"Respondent's year of birth\", 'V011': 'Date of birth (CMC)', 'V012': 'Current age - respondent', 'V024': 'Region', 'V102': 'Type of place of residence', 'V120': 'Has radio', 'V121': 'Has television', 'V122': 'Has refrigerator', 'V123': 'Has bicycle', 'V124': 'Has motorcycle/scooter', 'V125': 'Has car/truck', 'V127': 'Main floor material', 'V133': 'Education in single years', 'year': 'Year of the survey', 'V201': 'Total children ever born', 'V218': 'Number of living children', 'V301': 'Knowledge of any method', 'V302': 'Ever use of any method', 'V323': 'Brand of pill used', 'V323A': 'Brand of condom used', 'V325A': 'Cost of current method', 'V326': 'Last source for current users', 'V327': 'Last source for users by type', 'V337': 'Months of use of current method', 'V359': 'Last method disc. last 5 years', 'V360': 'Reason of last discontinuation', 'V361': 'Pattern of use', 'V362': 'Intention to use', 'V363': 'Preferred future method', 'V364': 'Contraceptive use & intention', 'V367': 'Wanted last child', 'V372': 'Shown pill package', 'V372A': 'Shown condom package', 'V375A': 'Main reason not using a method', 'V376': 'Main reason not to use a meth.', 'V376A': 'Would ever use method if marr.', 'V379': 'Source known for any method', 'V380': 'Source known for any method', 'V501': 'Current marital status', 'V502': 'Currently/formerly/never marr.', 'V503': 'Number of unions', 'V504': 'Husband lives in house', 'V505': 'Number of other wives', 'V506': 'Wife rank number', 'V507': 'Month of first marriage', 'V508': 'Year of first marriage', 'V509': 'Date of first marriage (CMC)', 'V510': 'Completeness of date inform.', 'V511': 'Age at first marriage', 'V512': 'Years since first marriage', 'V513': 'Marital duration (grouped)', 'V525': 'Age at first intercourse', 'V613': 'Ideal number of children', 'V714': 'Respondent currently working', 'V715': 'Husbands education-single yrs'}, 'value_labels': {'V024': {1.0: 'Amazonas', 2.0: 'Ancash', 3.0: 'Apurimac', 4.0: 'Arequipa', 5.0: 'Ayacucho', 6.0: 'Cajamarca', 7.0: 'Callao', 8.0: 'Cusco', 9.0: 'Huancavelica', 10.0: 'Huanuco', 11.0: 'Ica', 12.0: 'Junin', 13.0: 'La Libertad', 14.0: 'Lambayeque', 15.0: 'Lima', 16.0: 'Loreto', 17.0: 'Madre de Dios', 18.0: 'Moquegua', 19.0: 'Pasco', 20.0: 'Piura', 21.0: 'Puno', 22.0: 'San Martin', 23.0: 'Tacna', 24.0: 'Tumbes', 25.0: 'Ucayali'}, 'V102': {1.0: 'Urban', 2.0: 'Rural'}, 'V120': {0.0: 'No', 1.0: 'Yes', 7.0: 'Not dejure resident'}, 'V121': {0.0: 'No', 1.0: 'Yes', 7.0: 'Not dejure resident'}, 'V122': {0.0: 'No', 1.0: 'Yes', 7.0: 'Not dejure resident'}, 'V123': {0.0: 'No', 1.0: 'Yes', 7.0: 'Not dejure resident'}, 'V124': {0.0: 'No', 1.0: 'Yes', 7.0: 'Not dejure resident'}, 'V125': {0.0: 'No', 1.0: 'Yes', 7.0: 'Not dejure resident'}, 'V127': {10.0: 'NATURAL', 11.0: 'Earth/sand', 20.0: 'RUDIMENTARY', 21.0: 'Wood', 30.0: 'FINISHED', 31.0: 'Parket', 32.0: 'Asphlat tiles/vynil', 33.0: 'Granite, ceramic tiles', 34.0: 'Cement/brick', 96.0: 'OTHER', 97.0: 'Not dejure resident'}, 'V133': {97.0: 'Inconsistent'}, 'V301': {0.0: 'Knows no method', 1.0: 'Knows only folkloric', 2.0: 'Knows only trad. mth', 3.0: 'Knows modern method'}, 'V302': {0.0: 'Never used', 1.0: 'Used only folkloric', 2.0: 'Used only trad. meth', 3.0: 'Used modern method'}, 'V323': {1.0: 'Microginon', 2.0: 'Nordet', 3.0: 'Lofemenal', 4.0: 'Gynera', 5.0: 'Ciclomex', 6.0: 'Triciclomex', 7.0: 'Femiane', 8.0: 'Mercilon', 9.0: 'Marvelon', 10.0: 'Lindiol-e', 11.0: 'Dione 35', 12.0: 'Cilest', 13.0: 'Triquilar', 14.0: 'Trinordiol', 15.0: 'Minigynon', 16.0: 'Exluton', 17.0: 'Ovrette', 18.0: 'Ovral', 19.0: 'Mirelle', 20.0: 'Yasmin Drospyperona', 21.0: 'Peldura', 22.0: 'Anuletyc', 23.0: 'Rigevidon', 24.0: 'Oral Con-F', 25.0: 'Canesa', 26.0: 'Belara', 27.0: 'Tri_Regol', 93.0: 'No brand (H. FF.AA., FF.PP)', 94.0: 'No brand(ESSALUD)', 95.0: 'No brand(MINSA)', 96.0: 'Other', 98.0: \"Don't know\"}, 'V323A': {1.0: 'OK', 2.0: 'Piel', 3.0: 'Royal', 4.0: 'Jontex', 5.0: 'Contempo', 6.0: 'Gens', 7.0: 'LifeStyle', 8.0: 'Sultan', 9.0: 'Durex', 10.0: 'Preventor', 11.0: 'Hanson plans', 12.0: 'Sensitive', 13.0: 'Play boy', 14.0: 'Lubritec', 15.0: 'Pantera', 16.0: 'Tex', 17.0: 'Seohung', 18.0: 'Aladan corporation', 19.0: 'Vladi', 20.0: 'Stalion', 21.0: 'Latex', 22.0: 'Pussy Cat', 23.0: 'Sensación', 24.0: 'Karex', 25.0: 'Do it Loverly', 26.0: 'Nonoxinol - 9', 27.0: 'Famila 28', 93.0: 'No brand (H. FF.AA., FF.PP)', 94.0: 'No brand(MINSA)', 95.0: 'No brand(ESSALUD)', 96.0: 'Other', 98.0: \"Don't know\"}, 'V325A': {9999995.0: 'Free', 9999998.0: \"Don't know\"}, 'V326': {11.0: 'Hospital MINSA', 12.0: 'Health center MINSA', 13.0: 'Health post MINSA', 14.0: 'Health worker MINSA', 15.0: 'Hospital ESSALUD', 16.0: 'Center/Post ESSALUD', 17.0: 'Hospital/Other FFAA & PNP', 18.0: 'Hospital/Other Local Govern.', 19.0: 'Other governemnt', 21.0: 'Private clinic', 22.0: 'Pharmacy', 23.0: 'Private doctor', 24.0: 'Clinic/FP post NGO', 25.0: 'Health worker NGO', 31.0: 'Shop/supermarket', 32.0: 'Church', 33.0: 'Friends/relatives', 95.0: 'Automedication', 96.0: 'OTHER', 98.0: 'DK'}, 'V327': {1.0: 'Govt Clinical/Pharm', 2.0: 'Govt Home/Comm deliv', 3.0: 'NGO', 4.0: 'Private Clin/Deliv', 5.0: 'Private Pharmacy', 6.0: 'Shop, church, friend', 7.0: 'Other', 8.0: \"Don't know\"}, 'V337': {95.0: 'All cal. {A core}', 96.0: '96+ {B core}', 997.0: 'Inconsistent', 998.0: \"Don't know\"}, 'V359': {1.0: 'Pill', 2.0: 'IUD', 3.0: 'Injections', 4.0: 'Diaphragm', 5.0: 'Condom', 6.0: 'Female Sterilization', 7.0: 'Male Sterilization', 8.0: 'Periodic Abstinence', 9.0: 'Withdrawal', 10.0: 'Other', 11.0: 'Norplant', 12.0: 'Abstinence', 13.0: 'Lactational amenorrhea', 14.0: 'Female condom', 15.0: 'Foam or jelly', 16.0: 'Emergency contraception', 17.0: 'Collar cycle', 18.0: 'Specific method 2', 19.0: 'Specific method 3', 20.0: 'Specific method 4'}, 'V360': {1.0: 'Became pregnant', 2.0: 'Wanted to become prg', 3.0: 'Husband disapproved', 4.0: 'Side effects', 5.0: 'Health concerns', 6.0: 'Access, availability', 7.0: 'Wanted more eff.meth', 8.0: 'Inconvenient to use', 9.0: 'Infreq.sex,husb away', 10.0: 'Cost', 11.0: 'Fatalistic', 12.0: 'Diff.preg.,menopause', 13.0: 'Marital dissolution', 14.0: 'Other', 98.0: \"Don't know\"}, 'V361': {1.0: 'Currently using', 2.0: 'Used since last birth', 3.0: 'Used before last birth', 4.0: 'Never used'}, 'V362': {1.0: 'In next 12 months', 2.0: 'Use later', 3.0: 'Unsure about timing', 4.0: 'Unsure about use', 5.0: 'Does not intend', 6.0: 'Never had sex'}, 'V363': {1.0: 'Pill', 2.0: 'IUD', 3.0: 'Injections', 4.0: 'Diaphragm', 5.0: 'Condom', 6.0: 'Female Sterilization', 7.0: 'Male Sterilization', 8.0: 'Periodic Abstinence', 9.0: 'Withdrawal', 10.0: 'Other', 11.0: 'Norplant', 12.0: 'Abstinence', 13.0: 'Lactational amenorrhea', 14.0: 'Female condom', 15.0: 'Foam or jelly', 16.0: 'Emergency contraception', 17.0: 'Cycle collar', 98.0: \"Don't know\"}, 'V364': {1.0: 'Using modern method', 2.0: 'Using traditional method', 3.0: 'Non-user intend to', 4.0: 'Does not intend to', 5.0: 'Never had sex'}, 'V367': {1.0: 'Wanted then', 2.0: 'Wanted later', 3.0: 'Wanted no more'}, 'V372': {0.0: 'Package not seen', 1.0: 'Package seen'}, 'V372A': {0.0: 'Package not seen', 1.0: 'Package seen'}, 'V375A': {11.0: 'Not married', 20.0: 'FERTILITY-RELATED', 21.0: 'Not having sex', 22.0: 'Infrequent sex', 23.0: 'Menopausal', 24.0: 'Subfecund, infecund', 25.0: 'Postpartum, breastf.', 26.0: 'Wants more children', 27.0: 'Pregnant', 28.0: 'Histerctomized', 30.0: 'OPPOSITION TO USE', 31.0: 'Respondent opposed', 32.0: 'Husband opposed', 33.0: 'Others opposed', 34.0: 'Religious prohibit.', 40.0: 'LACK OF KNOWLEDGE', 41.0: 'Knows no method', 42.0: 'Knows no source', 50.0: 'METHOD-RELATED', 51.0: 'Health concerns', 52.0: 'Fear side effects', 53.0: 'Lack of access', 54.0: 'Cost too much', 55.0: 'Inconvenient to use', 56.0: 'Interfere with body', 96.0: 'Other', 98.0: 'DK'}, 'V376': {11.0: 'Not married', 20.0: 'FERTILITY-RELATED', 22.0: 'Infrequent sex', 23.0: 'Menopausal, hyster.', 24.0: 'Subfecund, infecund', 25.0: 'Male infecund', 26.0: 'Wants more children', 30.0: 'OPPOSITION TO USE', 31.0: 'Respondent opposed', 32.0: 'Husband opposed', 33.0: 'Others opposed', 34.0: 'Religious prohibit.', 40.0: 'LACK OF KNOWLEDGE', 41.0: 'Knows no method', 42.0: 'Knows no source', 50.0: 'METHOD-RELATED', 51.0: 'Health concerns', 52.0: 'Fear side effects', 53.0: 'Lack of access', 54.0: 'Cost too much', 55.0: 'Inconvenient to use', 56.0: 'Interfere with body', 96.0: 'Other', 98.0: 'DK'}, 'V376A': {0.0: 'No', 1.0: 'Yes', 8.0: 'DK'}, 'V379': {11.0: 'Hospital MINSA', 12.0: 'Health center MINSA', 13.0: 'Health post MINSA', 14.0: 'Health worker MINSA', 15.0: 'Hospital ESSALUD', 16.0: 'Center/Post ESSALUD', 17.0: 'Campaign/fair', 18.0: 'Other governemnt', 21.0: 'Private clinic', 22.0: 'Pharmacy', 23.0: 'Private doctor', 24.0: 'Clinic/FP post NGO', 25.0: 'Health worker NGO', 31.0: 'Shop/supermarket', 32.0: 'Church', 33.0: 'Friends/relatives', 95.0: 'Automedication', 96.0: 'OTHER', 98.0: 'DK'}, 'V380': {1.0: 'Govt Clinical/Pharm', 2.0: 'Govt Home/Comm deliv', 3.0: 'NGO', 4.0: 'Private Clin/Deliv', 5.0: 'Private Pharmacy', 6.0: 'Shop, church, friend', 7.0: 'Other', 8.0: \"Don't know\"}, 'V501': {0.0: 'Never married', 1.0: 'Married', 2.0: 'Living together', 3.0: 'Widowed', 4.0: 'Divorced', 5.0: 'Not living together'}, 'V502': {0.0: 'Never married', 1.0: 'Currently married', 2.0: 'Formerly married'}, 'V503': {1.0: 'Once', 2.0: 'More than once'}, 'V504': {1.0: 'Living with her', 2.0: 'Staying elsewhere'}, 'V505': {0.0: 'No other wives', 98.0: \"Don't know\"}, 'V506': {98.0: \"Don't know\"}, 'V510': {1.0: 'Month and year', 2.0: 'Month and age -y imp', 3.0: 'Year and age - m imp', 4.0: '', 5.0: 'Year - a, m imp', 6.0: 'Age - y, m imp', 7.0: 'Month - a, y imp', 8.0: 'None - all imp'}, 'V513': {0.0: 'Never married', 1.0: '0-4', 2.0: '5-9', 3.0: '10-14', 4.0: '15-19', 5.0: '20-24', 6.0: '25-29', 7.0: '30+'}, 'V525': {0.0: 'Not had intercourse', 96.0: 'At first union', 97.0: 'Inconsistent', 98.0: \"Don't know\"}, 'V613': {96.0: 'Non-numeric response', 98.0: 'DK'}, 'V714': {0.0: 'No', 1.0: 'Yes'}, 'V715': {97.0: 'Inconsistent', 98.0: \"Don't know\"}}}, 'year_2017': {'data':                    CASEID V000    V001   V002  V003    V004    V008  V009  \\\n",
      "0            000102501  2  PE6     1.0   25.0   2.0     1.0  1409.0   3.0   \n",
      "1            000103201  2  PE6     1.0   32.0   2.0     1.0  1409.0   2.0   \n",
      "2            000103601  2  PE6     1.0   36.0   2.0     1.0  1409.0   5.0   \n",
      "3            000104501  2  PE6     1.0   45.0   2.0     1.0  1409.0   4.0   \n",
      "4            000105201  2  PE6     1.0   52.0   2.0     1.0  1409.0   4.0   \n",
      "...                   ...  ...     ...    ...   ...     ...     ...   ...   \n",
      "33997        317510001  2  PE6  3175.0  100.0   2.0  3175.0  1413.0  11.0   \n",
      "33998        317510101  2  PE6  3175.0  101.0   2.0  3175.0  1413.0   5.0   \n",
      "33999        317510301  2  PE6  3175.0  103.0   2.0  3175.0  1413.0   5.0   \n",
      "34000        317510601  2  PE6  3175.0  106.0   2.0  3175.0  1413.0   5.0   \n",
      "34001        317510701  2  PE6  3175.0  107.0   2.0  3175.0  1413.0   2.0   \n",
      "\n",
      "         V010    V011  ...    V508    V509             V510  V511  V512  \\\n",
      "0      1978.0   939.0  ...  1994.0  1136.0  Year - a, m imp  16.0  22.0   \n",
      "1      1995.0  1142.0  ...  2011.0  1344.0   Month and year  16.0   5.0   \n",
      "2      1998.0  1181.0  ...  2013.0  1368.0   Month and year  15.0   3.0   \n",
      "3      1984.0  1013.0  ...  2000.0  1211.0   Month and year  16.0  16.0   \n",
      "4      1984.0  1012.0  ...  2015.0  1386.0   Month and year  31.0   1.0   \n",
      "...       ...     ...  ...     ...     ...              ...   ...   ...   \n",
      "33997  1982.0   996.0  ...  1999.0  1196.0   Month and year  16.0  18.0   \n",
      "33998  1975.0   906.0  ...  2005.0  1267.0   Month and year  30.0  12.0   \n",
      "33999  1986.0  1037.0  ...  2000.0  1205.0   Month and year  14.0  17.0   \n",
      "34000  1992.0  1110.0  ...  2008.0  1298.0   Month and year  15.0   9.0   \n",
      "34001  1988.0  1059.0  ...  2010.0  1321.0   Month and year  21.0   7.0   \n",
      "\n",
      "        V513  V525                  V613 V714        V715  \n",
      "0      20-24  16.0                   2.0  Yes         6.0  \n",
      "1        5-9  16.0                   2.0   No        11.0  \n",
      "2        0-4  15.0                   0.0  Yes        11.0  \n",
      "3      15-19  14.0  Non-numeric response   No         6.0  \n",
      "4        0-4  17.0                   2.0   No  Don't know  \n",
      "...      ...   ...                   ...  ...         ...  \n",
      "33997  15-19  14.0                   2.0  Yes         3.0  \n",
      "33998  10-14  27.0                  10.0  Yes         3.0  \n",
      "33999  15-19  13.0                   3.0  Yes         1.0  \n",
      "34000    5-9  15.0  Non-numeric response   No         3.0  \n",
      "34001    5-9  21.0                   5.0  Yes         5.0  \n",
      "\n",
      "[34002 rows x 63 columns], 'var_labels': {'CASEID': 'Case Identification', 'V000': 'Country code and phase', 'V001': 'Cluster number', 'V002': 'Household number', 'V003': \"Respondent's line number\", 'V004': 'Ultimate area unit', 'V008': 'Date of interview (CMC)', 'V009': \"Respondent's month of birth\", 'V010': \"Respondent's year of birth\", 'V011': 'Date of birth (CMC)', 'V012': 'Current age - respondent', 'V024': 'Region', 'V102': 'Type of place of residence', 'V120': 'Has radio', 'V121': 'Has television', 'V122': 'Has refrigerator', 'V123': 'Has bicycle', 'V124': 'Has motorcycle/scooter', 'V125': 'Has car/truck', 'V127': 'Main floor material', 'V133': 'Education in single years', 'year': 'Year of the survey', 'V201': 'Total children ever born', 'V218': 'Number of living children', 'V301': 'Knowledge of any method', 'V302': 'Ever use of any method', 'V323': 'Brand of pill used', 'V323A': 'Brand of condom used', 'V325A': 'Cost of current method', 'V326': 'Last source for current users', 'V327': 'Last source for users by type', 'V337': 'Months of use of current method', 'V359': 'Last method disc. last 5 years', 'V360': 'Reason of last discontinuation', 'V361': 'Pattern of use', 'V362': 'Intention to use', 'V363': 'Preferred future method', 'V364': 'Contraceptive use & intention', 'V367': 'Wanted last child', 'V372': 'Shown pill package', 'V372A': 'Shown condom package', 'V375A': 'Main reason not using a method', 'V376': 'Main reason not to use a meth.', 'V376A': 'Would ever use method if marr.', 'V379': 'Source known for any method', 'V380': 'Source known for any method', 'V501': 'Current marital status', 'V502': 'Currently/formerly/never marr.', 'V503': 'Number of unions', 'V504': 'Husband lives in house', 'V505': 'Number of other wives', 'V506': 'Wife rank number', 'V507': 'Month of first marriage', 'V508': 'Year of first marriage', 'V509': 'Date of first marriage (CMC)', 'V510': 'Completeness of date inform.', 'V511': 'Age at first marriage', 'V512': 'Years since first marriage', 'V513': 'Marital duration (grouped)', 'V525': 'Age at first intercourse', 'V613': 'Ideal number of children', 'V714': 'Respondent currently working', 'V715': 'Husbands education-single yrs'}, 'value_labels': {'V009': {98.0: ''}, 'V010': {9998.0: ''}, 'V024': {1.0: 'Amazonas', 2.0: 'Ancash', 3.0: 'Apurimac', 4.0: 'Arequipa', 5.0: 'Ayacucho', 6.0: 'Cajamarca', 7.0: 'Callao', 8.0: 'Cusco', 9.0: 'Huancavelica', 10.0: 'Huanuco', 11.0: 'Ica', 12.0: 'Junin', 13.0: 'La Libertad', 14.0: 'Lambayeque', 15.0: 'Lima', 16.0: 'Loreto', 17.0: 'Madre de Dios', 18.0: 'Moquegua', 19.0: 'Pasco', 20.0: 'Piura', 21.0: 'Puno', 22.0: 'San Martin', 23.0: 'Tacna', 24.0: 'Tumbes', 25.0: 'Ucayali'}, 'V102': {1.0: 'Urban', 2.0: 'Rural'}, 'V120': {0.0: 'No', 1.0: 'Yes', 7.0: 'Not dejure resident'}, 'V121': {0.0: 'No', 1.0: 'Yes', 7.0: 'Not dejure resident'}, 'V122': {0.0: 'No', 1.0: 'Yes', 7.0: 'Not dejure resident'}, 'V123': {0.0: 'No', 1.0: 'Yes', 7.0: 'Not dejure resident'}, 'V124': {0.0: 'No', 1.0: 'Yes', 7.0: 'Not dejure resident'}, 'V125': {0.0: 'No', 1.0: 'Yes', 7.0: 'Not dejure resident'}, 'V127': {10.0: 'NATURAL', 11.0: 'Earth/sand', 20.0: 'RUDIMENTARY', 21.0: 'Wood', 30.0: 'FINISHED', 31.0: 'Parket', 32.0: 'Asphlat tiles/vynil', 33.0: 'Granite, ceramic tiles', 34.0: 'Cement/brick', 96.0: 'OTHER', 97.0: 'Not dejure resident'}, 'V133': {97.0: 'Inconsistent'}, 'V301': {0.0: 'Knows no method', 1.0: 'Knows only folkloric', 2.0: 'Knows only trad. mth', 3.0: 'Knows modern method'}, 'V302': {0.0: 'Never used', 1.0: 'Used only folkloric', 2.0: 'Used only trad. meth', 3.0: 'Used modern method'}, 'V323': {1.0: 'Microginon', 2.0: 'Nordet', 3.0: 'Lofemenal', 4.0: 'Gynera', 5.0: 'Ciclomex', 6.0: 'Triciclomex', 7.0: 'Femiane', 8.0: 'Mercilon', 9.0: 'Marvelon', 10.0: 'Lindiol-e', 11.0: 'Dione 35', 12.0: 'Cilest', 13.0: 'Triquilar', 14.0: 'Trinordiol', 15.0: 'Minigynon', 16.0: 'Exluton', 17.0: 'Ovrette', 18.0: 'Ovral', 19.0: 'Mirelle', 20.0: 'Yasmin Drospyperona', 21.0: 'Peldura', 22.0: 'Anuletyc', 23.0: 'Rigevidon', 24.0: 'Oral Con-F', 25.0: 'Canesa', 26.0: 'Belara', 27.0: 'Tri_Regol', 93.0: 'No brand (H. FF.AA., FF.PP)', 94.0: 'No brand(ESSALUD)', 95.0: 'No brand(MINSA)', 96.0: 'Other', 98.0: \"Don't know\"}, 'V323A': {1.0: 'OK', 2.0: 'Piel', 3.0: 'Royal', 4.0: 'Jontex', 5.0: 'Contempo', 6.0: 'Gens', 7.0: 'LifeStyle', 8.0: 'Sultan', 9.0: 'Durex', 10.0: 'Preventor', 11.0: 'Hanson plans', 12.0: 'Sensitive', 13.0: 'Play boy', 14.0: 'Lubritec', 15.0: 'Pantera', 16.0: 'Tex', 17.0: 'Seohung', 18.0: 'Aladan corporation', 19.0: 'Vladi', 20.0: 'Stalion', 21.0: 'Latex', 22.0: 'Pussy Cat', 23.0: 'Sensación', 24.0: 'Karex', 25.0: 'Do it Loverly', 26.0: 'Nonoxinol - 9', 27.0: 'Famila 28', 93.0: 'No brand (H. FF.AA., FF.PP)', 94.0: 'No brand(MINSA)', 95.0: 'No brand(ESSALUD)', 96.0: 'Other', 98.0: \"Don't know\"}, 'V325A': {9999995.0: 'Free', 9999998.0: \"Don't know\"}, 'V326': {11.0: 'Hospital MINSA', 12.0: 'Health center MINSA', 13.0: 'Health post MINSA', 14.0: 'Health worker MINSA', 15.0: 'Hospital ESSALUD', 16.0: 'Center/Post ESSALUD', 17.0: 'Hospital/Other FFAA & PNP', 18.0: 'Hospital/Other Local Govern.', 19.0: 'Other governemnt', 21.0: 'Private clinic', 22.0: 'Pharmacy', 23.0: 'Private doctor', 24.0: 'Clinic/FP post NGO', 25.0: 'Health worker NGO', 31.0: 'Shop/supermarket', 32.0: 'Church', 33.0: 'Friends/relatives', 95.0: 'Automedication', 96.0: 'OTHER', 98.0: 'DK'}, 'V327': {1.0: 'Govt Clinical/Pharm', 2.0: 'Govt Home/Comm deliv', 3.0: 'NGO', 4.0: 'Private Clin/Deliv', 5.0: 'Private Pharmacy', 6.0: 'Shop, church, friend', 7.0: 'Other', 8.0: \"Don't know\"}, 'V337': {95.0: 'All cal. {A core}', 96.0: '96+ {B core}', 997.0: 'Inconsistent', 998.0: \"Don't know\"}, 'V359': {1.0: 'Pill', 2.0: 'IUD', 3.0: 'Injections', 4.0: 'Diaphragm', 5.0: 'Condom', 6.0: 'Female Sterilization', 7.0: 'Male Sterilization', 8.0: 'Periodic Abstinence', 9.0: 'Withdrawal', 10.0: 'Other', 11.0: 'Norplant', 12.0: 'Abstinence', 13.0: 'Lactational amenorrhea', 14.0: 'Female condom', 15.0: 'Foam or jelly', 16.0: 'Emergency contraception', 17.0: 'Collar cycle', 18.0: 'Specific method 2', 19.0: 'Specific method 3', 20.0: 'Specific method 4'}, 'V360': {1.0: 'Became pregnant', 2.0: 'Wanted to become prg', 3.0: 'Husband disapproved', 4.0: 'Side effects', 5.0: 'Health concerns', 6.0: 'Access, availability', 7.0: 'Wanted more eff.meth', 8.0: 'Inconvenient to use', 9.0: 'Infreq.sex,husb away', 10.0: 'Cost', 11.0: 'Fatalistic', 12.0: 'Diff.preg.,menopause', 13.0: 'Marital dissolution', 14.0: 'Other', 98.0: \"Don't know\"}, 'V361': {1.0: 'Currently using', 2.0: 'Used since last birth', 3.0: 'Used before last birth', 4.0: 'Never used'}, 'V362': {1.0: 'In next 12 months', 2.0: 'Use later', 3.0: 'Unsure about timing', 4.0: 'Unsure about use', 5.0: 'Does not intend', 6.0: 'Never had sex'}, 'V363': {1.0: 'Pill', 2.0: 'IUD', 3.0: 'Injections', 4.0: 'Diaphragm', 5.0: 'Condom', 6.0: 'Female Sterilization', 7.0: 'Male Sterilization', 8.0: 'Periodic Abstinence', 9.0: 'Withdrawal', 10.0: 'Other', 11.0: 'Norplant', 12.0: 'Abstinence', 13.0: 'Lactational amenorrhea', 14.0: 'Female condom', 15.0: 'Foam or jelly', 16.0: 'Emergency contraception', 17.0: 'Cycle collar', 98.0: \"Don't know\"}, 'V364': {1.0: 'Using modern method', 2.0: 'Using traditional method', 3.0: 'Non-user intend to', 4.0: 'Does not intend to', 5.0: 'Never had sex'}, 'V367': {1.0: 'Wanted then', 2.0: 'Wanted later', 3.0: 'Wanted no more'}, 'V372': {0.0: 'Package not seen', 1.0: 'Package seen'}, 'V372A': {0.0: 'Package not seen', 1.0: 'Package seen'}, 'V375A': {11.0: 'Not married', 20.0: 'FERTILITY-RELATED', 21.0: 'Not having sex', 22.0: 'Infrequent sex', 23.0: 'Menopausal', 24.0: 'Subfecund, infecund', 25.0: 'Postpartum, breastf.', 26.0: 'Wants more children', 27.0: 'Pregnant', 28.0: 'Histerctomized', 30.0: 'OPPOSITION TO USE', 31.0: 'Respondent opposed', 32.0: 'Husband opposed', 33.0: 'Others opposed', 34.0: 'Religious prohibit.', 40.0: 'LACK OF KNOWLEDGE', 41.0: 'Knows no method', 42.0: 'Knows no source', 50.0: 'METHOD-RELATED', 51.0: 'Health concerns', 52.0: 'Fear side effects', 53.0: 'Lack of access', 54.0: 'Cost too much', 55.0: 'Inconvenient to use', 56.0: 'Interfere with body', 96.0: 'Other', 98.0: 'DK'}, 'V376': {11.0: 'Not married', 20.0: 'FERTILITY-RELATED', 22.0: 'Infrequent sex', 23.0: 'Menopausal, hyster.', 24.0: 'Subfecund, infecund', 25.0: 'Male infecund', 26.0: 'Wants more children', 30.0: 'OPPOSITION TO USE', 31.0: 'Respondent opposed', 32.0: 'Husband opposed', 33.0: 'Others opposed', 34.0: 'Religious prohibit.', 40.0: 'LACK OF KNOWLEDGE', 41.0: 'Knows no method', 42.0: 'Knows no source', 50.0: 'METHOD-RELATED', 51.0: 'Health concerns', 52.0: 'Fear side effects', 53.0: 'Lack of access', 54.0: 'Cost too much', 55.0: 'Inconvenient to use', 56.0: 'Interfere with body', 96.0: 'Other', 98.0: 'DK'}, 'V376A': {0.0: 'No', 1.0: 'Yes', 8.0: 'DK'}, 'V379': {11.0: 'Hospital MINSA', 12.0: 'Health center MINSA', 13.0: 'Health post MINSA', 14.0: 'Health worker MINSA', 15.0: 'Hospital ESSALUD', 16.0: 'Center/Post ESSALUD', 17.0: 'Campaign/fair', 18.0: 'Other governemnt', 21.0: 'Private clinic', 22.0: 'Pharmacy', 23.0: 'Private doctor', 24.0: 'Clinic/FP post NGO', 25.0: 'Health worker NGO', 31.0: 'Shop/supermarket', 32.0: 'Church', 33.0: 'Friends/relatives', 95.0: 'Automedication', 96.0: 'OTHER', 98.0: 'DK'}, 'V380': {1.0: 'Govt Clinical/Pharm', 2.0: 'Govt Home/Comm deliv', 3.0: 'NGO', 4.0: 'Private Clin/Deliv', 5.0: 'Private Pharmacy', 6.0: 'Shop, church, friend', 7.0: 'Other', 8.0: \"Don't know\"}, 'V501': {0.0: 'Never married', 1.0: 'Married', 2.0: 'Living together', 3.0: 'Widowed', 4.0: 'Divorced', 5.0: 'Not living together'}, 'V502': {0.0: 'Never married', 1.0: 'Currently married', 2.0: 'Formerly married'}, 'V503': {1.0: 'Once', 2.0: 'More than once'}, 'V504': {1.0: 'Living with her', 2.0: 'Staying elsewhere'}, 'V505': {0.0: 'No other wives', 98.0: \"Don't know\"}, 'V506': {98.0: \"Don't know\"}, 'V510': {1.0: 'Month and year', 2.0: 'Month and age -y imp', 3.0: 'Year and age - m imp', 4.0: '', 5.0: 'Year - a, m imp', 6.0: 'Age - y, m imp', 7.0: 'Month - a, y imp', 8.0: 'None - all imp'}, 'V513': {0.0: 'Never married', 1.0: '0-4', 2.0: '5-9', 3.0: '10-14', 4.0: '15-19', 5.0: '20-24', 6.0: '25-29', 7.0: '30+'}, 'V525': {0.0: 'Not had intercourse', 96.0: 'At first union', 97.0: 'Inconsistent', 98.0: \"Don't know\"}, 'V613': {96.0: 'Non-numeric response', 98.0: 'DK'}, 'V714': {0.0: 'No', 1.0: 'Yes'}, 'V715': {97.0: 'Inconsistent', 98.0: \"Don't know\"}}}, 'year_2018': {'data':                    CASEID V000    V001  V002  V003    V004    V008  V009  \\\n",
      "0            000100701  2  PE6     1.0   7.0   2.0     1.0  1422.0   8.0   \n",
      "1            000100701  3  PE6     1.0   7.0   3.0     1.0  1422.0   2.0   \n",
      "2            000101401  2  PE6     1.0  14.0   2.0     1.0  1422.0   6.0   \n",
      "3            000103501  4  PE6     1.0  35.0   4.0     1.0  1422.0   6.0   \n",
      "4            000103501  5  PE6     1.0  35.0   5.0     1.0  1422.0   5.0   \n",
      "...                   ...  ...     ...   ...   ...     ...     ...   ...   \n",
      "39740        325405401  4  PE6  3254.0  54.0   4.0  3254.0  1426.0   7.0   \n",
      "39741        325405701  2  PE6  3254.0  57.0   2.0  3254.0  1426.0   9.0   \n",
      "39742        325405801  3  PE6  3254.0  58.0   3.0  3254.0  1426.0  11.0   \n",
      "39743        325405901  2  PE6  3254.0  59.0   2.0  3254.0  1426.0  10.0   \n",
      "39744        325406101  2  PE6  3254.0  61.0   2.0  3254.0  1426.0   9.0   \n",
      "\n",
      "         V010    V011  ...    V508    V509                  V510  V511  V512  \\\n",
      "0      1975.0   909.0  ...  1995.0  1141.0  Edad - a, m imputado  19.0  23.0   \n",
      "1      2002.0  1227.0  ...     NaN     NaN                   NaN   NaN   NaN   \n",
      "2      1997.0  1171.0  ...  2016.0  1399.0             Mes y año  19.0   1.0   \n",
      "3      2001.0  1219.0  ...     NaN     NaN                   NaN   NaN   NaN   \n",
      "4      2006.0  1278.0  ...     NaN     NaN                   NaN   NaN   NaN   \n",
      "...       ...     ...  ...     ...     ...                   ...   ...   ...   \n",
      "39740  2004.0  1255.0  ...     NaN     NaN                   NaN   NaN   NaN   \n",
      "39741  1977.0   933.0  ...  1996.0  1161.0             Mes y año  19.0  22.0   \n",
      "39742  2004.0  1260.0  ...     NaN     NaN                   NaN   NaN   NaN   \n",
      "39743  2000.0  1210.0  ...  2012.0  1355.0             Mes y año  12.0   5.0   \n",
      "39744  1988.0  1066.0  ...  2003.0  1243.0             Mes y año  14.0  15.0   \n",
      "\n",
      "               V513                          V525 V613 V714  V715  \n",
      "0             20-24                          18.0  2.0   Si   6.0  \n",
      "1      Nunca casada  No ha tenido relación sexual  2.0   No   NaN  \n",
      "2               0-4                          17.0  2.0   No  11.0  \n",
      "3      Nunca casada                          16.0  2.0   No   NaN  \n",
      "4               NaN                           NaN  NaN  NaN   NaN  \n",
      "...             ...                           ...  ...  ...   ...  \n",
      "39740           NaN                           NaN  NaN  NaN   NaN  \n",
      "39741         20-24                          16.0  3.0   No   8.0  \n",
      "39742           NaN                           NaN  NaN  NaN   NaN  \n",
      "39743           5-9                          12.0  2.0   No  10.0  \n",
      "39744         15-19                          14.0  4.0   No   7.0  \n",
      "\n",
      "[39745 rows x 63 columns], 'var_labels': {'CASEID': 'Identificación Cuestionario Individual', 'V000': 'Código del país', 'V001': 'Número de conglomerado', 'V002': 'Número de hogar', 'V003': 'Número de línea de entrevistada', 'V004': 'Ultima unidad de área', 'V008': 'Fecha de entrevista (CMC)', 'V009': 'Mes de nacimiento de la entrevistada', 'V010': 'Año de nacimiento de la entrevistada', 'V011': 'Fecha de nacimiento (CMC)', 'V012': 'Edad actual - entrevistada', 'V024': 'Región', 'V102': 'Tipo de lugar de residencia', 'V120': 'Tiene radio', 'V121': 'Tiene televisión', 'V122': 'Tiene refrigerador', 'V123': 'Tiene bicicleta', 'V124': 'Tiene motocicleta / scooter', 'V125': 'Tiene carro o camión', 'V127': 'Material principal del piso', 'V133': 'Educación en años simples', 'year': 'Year of the survey', 'V201': 'Total de niños que alguna vez nacieron', 'V218': 'Número de niños con vida', 'V301': 'Conocimiento de algún método', 'V302': 'Alguna vez usó algún método', 'V323': 'Marca de píldora', 'V323A': 'Marca de condón usado', 'V325A': 'Costo del método actual', 'V326': 'Ultima fuente para usuarios actuales', 'V327': 'Ultima fuente para usuarios por tipo', 'V337': 'Mes de uso del método actual', 'V359': 'Ultimo método suspendido en los últimos 5 años', 'V360': 'Motivo de la última suspensión', 'V361': 'Patrón de uso', 'V362': 'Intención de uso', 'V363': 'Método preferido para el futuro', 'V364': 'Uso e intención de anticoncepción', 'V367': 'Quería último hijo', 'V372': 'Empaque píldora visto', 'V372A': 'Empaque de condón visto', 'V375A': 'Razón principal por la que no usa método', 'V376': 'Razón principal por la que no usaría método', 'V376A': 'Usaría método si se casa', 'V379': 'Fuente conocida para cualquier método', 'V380': 'Fuente conocida para cualquier método', 'V501': 'Estado conyugal actual', 'V502': 'Actualmente/anteriormente/nunca casada', 'V503': 'Número de uniones', 'V504': 'Esposo vive en casa', 'V505': 'Número de otras esposas', 'V506': 'Número de clasificación de esposa', 'V507': 'Mes de primer matrimonio', 'V508': 'Año de primer matrimonio', 'V509': 'Fecha de primer matrimonio (CMC)', 'V510': 'Fecha de información completa', 'V511': 'Edad en el primer matrimonio', 'V512': 'Años desde el primer matrimonio', 'V513': 'Duración de matrimonio (grupos)', 'V525': 'Edad en la primera relación sexual', 'V613': 'Número ideal de hijos', 'V714': 'Entrevistada actualmente trabaja', 'V715': 'Años simples de educación del esposo'}, 'value_labels': {'V024': {1.0: 'Amazonas', 2.0: 'Áncash', 3.0: 'Apurímac', 4.0: 'Arequipa', 5.0: 'Ayacucho', 6.0: 'Cajamarca', 7.0: 'Callao', 8.0: 'Cusco', 9.0: 'Huancavelica', 10.0: 'Huánuco', 11.0: 'Ica', 12.0: 'Junín', 13.0: 'La Libertad', 14.0: 'Lambayeque', 15.0: 'Lima', 16.0: 'Loreto', 17.0: 'Madre de Dios', 18.0: 'Moquegua', 19.0: 'Pasco', 20.0: 'Piura', 21.0: 'Puno', 22.0: 'San Martín', 23.0: 'Tacna', 24.0: 'Tumbes', 25.0: 'Ucayali'}, 'V102': {1.0: 'Urbana', 2.0: 'Rural'}, 'V120': {0.0: 'No', 1.0: 'Si', 7.0: 'No residente de jure'}, 'V121': {0.0: 'No', 1.0: 'Si', 7.0: 'No residente de jure'}, 'V122': {0.0: 'No', 1.0: 'Si', 7.0: 'No residente de jure'}, 'V123': {0.0: 'No', 1.0: 'Si', 7.0: 'No residente de jure'}, 'V124': {0.0: 'No', 1.0: 'Si', 7.0: 'No residente de jure'}, 'V125': {0.0: 'No', 1.0: 'Si', 7.0: 'No residente de jure'}, 'V127': {10.0: 'NATURAL', 11.0: 'tierra o arena', 20.0: 'RÚSTICO', 21.0: 'Madera', 30.0: 'ACABADO', 31.0: 'Parquet', 32.0: 'Lámina asfáltica o vinílico', 33.0: 'Granito, lamina cerámica', 34.0: 'Cemento o bloque', 96.0: 'OTRO', 97.0: 'No residente de jure'}, 'V133': {97.0: 'Inconsistente'}, 'V301': {0.0: 'No conoce método', 1.0: 'Solo conoce folklórico', 2.0: 'Solo conoce método tradicional', 3.0: 'Conoce método moderno'}, 'V302': {0.0: 'Nunca uso', 1.0: 'Uso solo folklórico', 2.0: 'Uso solo método tradicional', 3.0: 'Uso método moderno'}, 'V323': {1.0: 'Microginon', 2.0: 'Nordet', 3.0: 'Lofemenal', 4.0: 'Gynera', 5.0: 'Ciclomex', 6.0: 'Triciclomex', 7.0: 'Femiane', 8.0: 'Mercilon', 9.0: 'Marvelon', 10.0: 'Lindiol-e', 11.0: 'Dione 35', 12.0: 'Cilest', 13.0: 'Triquilar', 14.0: 'Trinordiol', 15.0: 'Minigynon', 16.0: 'Exluton', 17.0: 'Ovrette', 18.0: 'Ovral', 19.0: 'Mirelle', 20.0: 'Yasmin Drospyperona', 21.0: 'Peldura', 22.0: 'Anuletyc', 23.0: 'Rigevidon', 24.0: 'Oral Con-F', 25.0: 'Canesa', 26.0: 'Belara', 27.0: 'Tri_Regol', 93.0: 'Sin marca (H. FF.AA., FF.PP)', 94.0: 'Sin marca (ESSALUD)', 95.0: 'Sin marca (MINSA)', 96.0: 'Otro', 98.0: 'No sabe'}, 'V323A': {1.0: 'OK', 2.0: 'Piel', 3.0: 'Royal', 4.0: 'Jontex', 5.0: 'Contempo', 6.0: 'Gens', 7.0: 'LifeStyle', 8.0: 'Sultan', 9.0: 'Durex', 10.0: 'Preventor', 11.0: 'Hanson plans', 12.0: 'Sensitive', 13.0: 'Play boy', 14.0: 'Lubritec', 15.0: 'Pantera', 16.0: 'Tex', 17.0: 'Seohung', 18.0: 'Aladan corporation', 19.0: 'Vladi', 20.0: 'Stalion', 21.0: 'Latex', 22.0: 'Pussy Cat', 23.0: 'Sensación', 24.0: 'Karex', 25.0: 'Do it Loverly', 26.0: 'Nonoxinol - 9', 27.0: 'Famila 28', 93.0: 'Sin marca (H. FF.AA., FF.PP)', 94.0: 'Sin marca (ESSALUD)', 95.0: 'Sin marca (MINSA)', 96.0: 'Otro', 98.0: 'No sabe'}, 'V325A': {9999995.0: 'Gratis', 9999998.0: 'No sabe'}, 'V326': {11.0: 'Hospital MINSA', 12.0: 'Centro de salud MINSA', 13.0: 'Puesto de salud MINSA', 14.0: 'Promotor de salud MINSA', 15.0: 'Hospital ESSALUD', 16.0: 'Centro,Posta ESSALUD', 17.0: 'Hospital/otro de la FFAA & PNP', 18.0: 'Hospital/otro local de la municipalidad', 19.0: 'Otro gobierno', 21.0: 'Clínica privada', 22.0: 'Farmacia', 23.0: 'Médico privado', 24.0: 'Clínica, FP posta ONG', 25.0: 'Promotor de salud ONG', 31.0: 'Tienda, supermercado', 32.0: 'Iglesia', 33.0: 'Amigos, parientes', 95.0: 'Automedicación', 96.0: 'OTRO', 98.0: 'No Sabe'}, 'V327': {1.0: 'Clínica, Farmacia Gob', 2.0: 'Hogar, Com part Gob', 3.0: 'ONG', 4.0: 'Clínica privada part', 5.0: 'Farmacia privada', 6.0: 'Tienda, iglesia, amigo', 7.0: 'Otro', 8.0: 'No sabe'}, 'V337': {95.0: 'Todas cal {A core}', 96.0: '96+ {B core}', 997.0: 'Inconsistente', 998.0: 'No sabe'}, 'V359': {1.0: 'Píldora', 2.0: 'DIU', 3.0: 'Inyección', 4.0: 'Diafragma', 5.0: 'Condón', 6.0: 'Esterilización femenina', 7.0: 'Esterilización masculina', 8.0: 'Abstinencia periódica', 9.0: 'Retiro', 10.0: 'Otro', 11.0: 'Norplant', 12.0: 'Abstinencia', 13.0: 'Lactancia exclusiva -MELA', 14.0: 'Condón femenino', 15.0: 'Espumas o jaleas', 16.0: 'Anticoncepción de emergencia', 17.0: 'Collar del ciclo', 18.0: 'Método específico 2', 19.0: 'Método específico 3', 20.0: 'Método específico 4'}, 'V360': {1.0: 'Quedó embarazada', 2.0: 'Quería quedar embarazada', 3.0: 'Desaprobación del esposo', 4.0: 'Efectos secundarios', 5.0: 'Preocupación de salud', 6.0: 'Acceso, disponibilidad', 7.0: 'Quería más efectividad del método', 8.0: 'Inconveniente para usar', 9.0: 'Relaciones sexuales no frecuente, esposo se fue', 10.0: 'Costo', 11.0: 'Fatalista', 12.0: 'Difícil preg, menopausia', 13.0: 'Disolución de matrimonio', 14.0: 'Otro', 98.0: 'No sabe'}, 'V361': {1.0: 'Usando actualmente', 2.0: 'Usa desde último nacimiento', 3.0: 'Usaba antes de último nacimiento', 4.0: 'Nunca usó'}, 'V362': {1.0: 'En los próximos 12 meses', 2.0: 'Uso posterior', 3.0: 'Dudas sobre el periodo', 4.0: 'Inseguro sobre el uso', 5.0: 'No intentará', 6.0: 'Nunca tuvo relaciones sexuales'}, 'V363': {1.0: 'Píldora', 2.0: 'DIU', 3.0: 'Inyección', 4.0: 'Diafragma', 5.0: 'Condón', 6.0: 'Esterilización femenina', 7.0: 'Esterilización masculina', 8.0: 'Abstinencia periódica', 9.0: 'Retiro', 10.0: 'Otro', 11.0: 'Norplant', 12.0: 'Abstinencia', 13.0: 'Lactancia exclusiva-MELA', 14.0: 'Condón femenino', 15.0: 'Espumas o jaleas', 16.0: 'Emergency contraception', 17.0: 'Anticoncepción de emergencia', 98.0: 'No sabe'}, 'V364': {1.0: 'Usando método moderno', 2.0: 'Usando método tradicional', 3.0: 'No usa intenta hacerlo', 4.0: 'No intenta hacerlo', 5.0: 'Nunca tuvo relaciones sexuales'}, 'V367': {1.0: 'Lo quería', 2.0: 'Lo quiso luego', 3.0: 'Nunca lo quiso'}, 'V372': {0.0: 'Empaque no visto', 1.0: 'Empaque visto'}, 'V372A': {0.0: 'Empaque no visto', 1.0: 'Empaque visto'}, 'V375A': {11.0: 'No en unión', 20.0: 'RELACIONADO  CON FECUNDIDAD', 21.0: 'No tiene relaciones sexuales', 22.0: 'Sexo poco frecuente', 23.0: 'Menopausia', 24.0: 'Subfecundidad, infertilidad', 25.0: 'Posparto, lactancia', 26.0: 'Quiere más hijos', 27.0: 'Embarazada', 28.0: 'Histerectomía', 30.0: 'OPOSICIÓN A USAR', 31.0: 'Entrevistada se opone', 32.0: 'Marido se opone', 33.0: 'Otros se oponen', 34.0: 'Prohibición religiosa', 40.0: 'FALTA DE CONOCIMIENTO', 41.0: 'No conoce método', 42.0: 'No conoce fuente', 50.0: 'RELACIONADO CON EL MÉTODO', 51.0: 'Problemas de salud', 52.0: 'Miedo a efectos secundarios', 53.0: 'Falta de acceso', 54.0: 'Muy costoso', 55.0: 'Uso inconveniente', 56.0: 'Interfiere con cuerpo', 96.0: 'Otro', 98.0: 'No Sabe'}, 'V376': {11.0: 'No en unión', 20.0: 'RELACIONADO  CON FECUNDIDAD', 22.0: 'Sexo poco frecuente', 23.0: 'Menopáusica, Histerectomizada', 24.0: 'Subfecunda, infecunda', 25.0: 'Infecundidad del Hombre', 26.0: 'Desea más hijos', 30.0: 'OPOSICIÓN A USAR', 31.0: 'Entrevistada se opone', 32.0: 'Marido se opone', 33.0: 'Otros se oponen', 34.0: 'Prohibición religiosa', 40.0: 'FALTA DE CONOCIMIENTO', 41.0: 'No conoce método', 42.0: 'No conoce fuente', 50.0: 'RELACIONADO CON EL MÉTODO', 51.0: 'Problemas de salud', 52.0: 'Miedo a efectos secundarios', 53.0: 'Falta de acceso', 54.0: 'Muy costoso', 55.0: 'Uso inconveniente', 56.0: 'Interfiere con cuerpo', 96.0: 'Otro', 98.0: 'No Sabe'}, 'V376A': {0.0: 'No', 1.0: 'Si', 8.0: 'NS'}, 'V379': {11.0: 'Hospital MINSA', 12.0: 'Centro de salud MINSA', 13.0: 'Puesto de salud MINSA', 14.0: 'Promotor de salud MINSA', 15.0: 'Hospital ESSALUD', 16.0: 'Centro, Posta ESSALUD', 17.0: 'Campaña, feria', 18.0: 'Otro gobierno', 21.0: 'Clínica privada', 22.0: 'Farmacia', 23.0: 'Médico privado', 24.0: 'Clínica, FP posta ONG', 25.0: 'Promotor de salud ONG', 31.0: 'Tienda, supermercado', 32.0: 'Iglesia', 33.0: 'Amigos, parientes', 95.0: 'Automedicación', 96.0: 'OTRO', 98.0: 'NS'}, 'V380': {1.0: 'Clínica, Farmacia Gob', 2.0: 'Hogar, Comm part Gob', 3.0: 'ONG', 4.0: 'Clínica privada, part', 5.0: 'Farmacia privada', 6.0: 'Tienda, iglesia, amigo', 7.0: 'Otro', 8.0: 'No sabe'}, 'V501': {0.0: 'Nunca se caso', 1.0: 'Casada', 2.0: 'Conviviente', 3.0: 'Viuda', 4.0: 'Divorciada', 5.0: 'No viviendo juntos'}, 'V502': {0.0: 'Nunca casada', 1.0: 'Actualmente casada', 2.0: 'Anteriormente casada'}, 'V503': {1.0: 'Una vez', 2.0: 'Más de una vez'}, 'V504': {1.0: 'Vive con ella', 2.0: 'Vive en otro lado'}, 'V505': {0.0: 'No otras esposas', 98.0: 'No sabe'}, 'V506': {98.0: 'No sabe'}, 'V510': {1.0: 'Mes y año', 2.0: 'Mes y edad - a imputado', 3.0: 'Año y edad - m imputado', 5.0: 'Año - e,m imputado', 6.0: 'Edad - a, m imputado', 7.0: 'Mes - e, a imputado', 8.0: 'Ninguno - todo imputado'}, 'V513': {0.0: 'Nunca casada', 1.0: '0-4', 2.0: '5-9', 3.0: '10-14', 4.0: '15-19', 5.0: '20-24', 6.0: '25-29', 7.0: '30+'}, 'V525': {0.0: 'No ha tenido relación sexual', 96.0: 'En la primera unión', 97.0: 'Inconsistente', 98.0: 'No sabe'}, 'V613': {96.0: 'Respuesta no numérica', 98.0: 'No sabe'}, 'V714': {0.0: 'No', 1.0: 'Si'}, 'V715': {97.0: 'Inconsistente', 98.0: 'No sabe'}}}, 'year_2019': {'data':                    CASEID V000    V001  V002  V003    V004    V008  V009  \\\n",
      "0            000100201  2  PE6     1.0   2.0   2.0     1.0  1434.0   4.0   \n",
      "1            000100201  3  PE6     1.0   2.0   3.0     1.0  1434.0   1.0   \n",
      "2            000102801  2  PE6     1.0  28.0   2.0     1.0  1434.0   6.0   \n",
      "3            000102801  6  PE6     1.0  28.0   6.0     1.0  1434.0   3.0   \n",
      "4            000104801  2  PE6     1.0  48.0   2.0     1.0  1434.0   5.0   \n",
      "...                   ...  ...     ...   ...   ...     ...     ...   ...   \n",
      "38330        325406201  2  PE6  3254.0  62.0   2.0  3254.0  1440.0  12.0   \n",
      "38331        325406301  2  PE6  3254.0  63.0   2.0  3254.0  1440.0   6.0   \n",
      "38332        325407001  2  PE6  3254.0  70.0   2.0  3254.0  1440.0   7.0   \n",
      "38333        325407201  2  PE6  3254.0  72.0   2.0  3254.0  1440.0  12.0   \n",
      "38334        325407401  2  PE6  3254.0  74.0   2.0  3254.0  1440.0  10.0   \n",
      "\n",
      "         V010    V011  ...    V508    V509                    V510  V511  \\\n",
      "0      1986.0  1036.0  ...  2008.0  1297.0         Tiene mes y año  21.0   \n",
      "1      2007.0  1285.0  ...     NaN     NaN                     NaN   NaN   \n",
      "2      1983.0  1002.0  ...  2011.0  1344.0         Tiene mes y año  28.0   \n",
      "3      1970.0   843.0  ...  1984.0  1016.0  Tiene año - imputa mes  14.0   \n",
      "4      1991.0  1097.0  ...  2009.0  1320.0         Tiene mes y año  18.0   \n",
      "...       ...     ...  ...     ...     ...                     ...   ...   \n",
      "38330  1971.0   864.0  ...  1985.0  1032.0         Tiene mes y año  14.0   \n",
      "38331  1988.0  1063.0  ...  2002.0  1236.0         Tiene mes y año  14.0   \n",
      "38332  1973.0   883.0  ...  1986.0  1043.0         Tiene mes y año  13.0   \n",
      "38333  1994.0  1140.0  ...  2008.0  1301.0         Tiene mes y año  13.0   \n",
      "38334  1996.0  1163.0  ...  2013.0  1362.0         Tiene mes y año  16.0   \n",
      "\n",
      "       V512              V513  V525 V613 V714  V715  \n",
      "0      11.0   De 10 a 14 años  17.0  2.0   Sí  11.0  \n",
      "1       NaN               NaN   NaN  NaN  NaN   NaN  \n",
      "2       7.0     De 5 a 9 años  18.0  3.0   Sí  14.0  \n",
      "3      34.0  De 30 a más años  14.0  0.0   No   6.0  \n",
      "4       9.0     De 5 a 9 años  15.0  2.0   No   6.0  \n",
      "...     ...               ...   ...  ...  ...   ...  \n",
      "38330  34.0  De 30 a más años  12.0  3.0   No   5.0  \n",
      "38331  17.0   De 15 a 19 años  12.0  3.0   No   7.0  \n",
      "38332  33.0  De 30 a más años  12.0  4.0   No   5.0  \n",
      "38333  11.0   De 10 a 14 años  13.0  2.0   No  11.0  \n",
      "38334   6.0     De 5 a 9 años  15.0  2.0   No  11.0  \n",
      "\n",
      "[38335 rows x 63 columns], 'var_labels': {'CASEID': 'Identificación Cuestionario Individual', 'V000': 'Código y fase del país', 'V001': 'Conglomerado', 'V002': 'Número de vivienda', 'V003': 'Número de línea de entrevistada', 'V004': 'Unidad de área final', 'V008': 'Fecha de la entrevista, Codificación centenaria de meses (CMC)', 'V009': 'Mes de nacimiento de la entrevistada', 'V010': 'Año de nacimiento de la entrevistada', 'V011': 'Fecha de nacimiento, Codificación centenaria de meses (CMC)', 'V012': 'Edad actual - entrevistada', 'V024': 'Región', 'V102': 'Tipo de lugar de residencia', 'V120': 'En su hogar tiene: radio', 'V121': 'En su hogar tiene: televisión', 'V122': 'En su hogar tiene: refrigerador', 'V123': 'En su hogar tiene: bicicleta', 'V124': 'En su hogar tiene: motocicleta/motocar', 'V125': 'En su hogar tiene: coche/camión', 'V127': 'Material predominante del piso de la vivienda', 'V133': 'Educación en años simples', 'year': 'Year of the survey', 'V201': 'Total de niños nacidos', 'V218': 'Número de niños vivos', 'V301': 'Conocimiento de cualquier método', 'V302': 'Alguna vez usó cualquier método', 'V323': 'Marca de la píldora usada', 'V323A': 'Marca del preservativo utilizado', 'V325A': 'Costo del método actual', 'V326': 'Fuente para obtener el actual método anticonceptivo', 'V327': 'Fuente para obtener el actual método anticonceptivo (Grupos)', 'V337': 'Meses de uso del método actual', 'V359': 'Última discontinuidad del método los últimos 5 años', 'V360': 'Motivo de la última discontinuidad', 'V361': 'Patrón de uso', 'V362': 'Intención de uso', 'V363': 'Método futuro preferido', 'V364': 'Uso e intención de anticonceptivos', 'V367': 'Quería quedar embarazada:', 'V372': 'Se muestra el paquete de pastillas', 'V372A': 'Se muestra el paquete de Condónes', 'V375A': 'La razón principal para no utilizar un método', 'V376': 'La razón principal por la que no piensa usar ningún método en el futuro', 'V376A': 'Alguna vez usaría algún método', 'V379': 'Fuente conocida por cualquier método', 'V380': 'Fuente conocida por cualquier método (Grupos)', 'V501': 'Estado civil actual', 'V502': 'Actualmente, antes o nunca sacada', 'V503': 'Usted ha estado casada o conviviendo solo una vez, más de una vez', 'V504': 'Su esposo/compañer vive en el hogar o vive en otro lugar', 'V505': 'Número de otras esposas', 'V506': 'Número de rango de la esposa', 'V507': 'Mes - Primer matrimonio', 'V508': 'Año - Primer matrimonio', 'V509': 'Fecha del primer matrimonio (CMC)', 'V510': 'Integridad de la información para la fecha de inicio del primer matrimonio o unión', 'V511': 'Edad al primer matrimonio', 'V512': 'Años desde el primer matrimonio', 'V513': 'Duración del matrimonio (agrupado)', 'V525': 'Edad en la primera relación sexual', 'V613': 'Número ideal de niños', 'V714': 'Actualmente se encuentra trabajando', 'V715': 'Educación en años individuales del esposo/compañero'}, 'value_labels': {'V024': {1.0: 'Amazonas', 2.0: 'Ancash', 3.0: 'Apurimac', 4.0: 'Arequipa', 5.0: 'Ayacucho', 6.0: 'Cajamarca', 7.0: 'Callao', 8.0: 'Cusco', 9.0: 'Huancavelica', 10.0: ' Huanuco', 11.0: ' Ica', 12.0: ' Junin', 13.0: ' La Libertad', 14.0: ' Lambayeque', 15.0: ' Lima', 16.0: ' Loreto', 17.0: ' Madre de Dios', 18.0: ' Moquegua', 19.0: ' Pasco', 20.0: ' Piura', 21.0: ' Puno', 22.0: ' San Martin', 23.0: ' Tacna', 24.0: ' Tumbes', 25.0: ' Ucayali'}, 'V102': {1.0: 'Urbano', 2.0: 'Rural'}, 'V120': {0.0: 'No', 1.0: 'Si', 7.0: 'No es residente habitual'}, 'V121': {0.0: 'No', 1.0: 'Si', 7.0: 'No es residente habitual'}, 'V122': {0.0: 'No', 1.0: 'Si', 7.0: 'No es residente habitual'}, 'V123': {0.0: 'No', 1.0: 'Si', 7.0: 'No es residente habitual'}, 'V124': {0.0: 'No', 1.0: 'Si', 7.0: 'No es residente habitual'}, 'V125': {0.0: 'No', 1.0: 'Si', 7.0: 'No es residente habitual'}, 'V127': {11.0: 'Tierra/arena', 21.0: 'Madera (entablados)', 31.0: 'Parquet o madera pulida', 32.0: 'Làminas asfálticas, vinílicos o similares', 33.0: 'Losetas, terrazos o similares', 34.0: 'Cemento/ladrillo', 96.0: 'Pona', 97.0: 'Otro(pona)'}, 'V133': {97.0: 'Inconsistente'}, 'V301': {0.0: 'No conoce ningún método', 1.0: 'Sabe sólo folklórico', 2.0: 'Sólo sabe trad. mes', 3.0: 'Conoce el método moderno'}, 'V302': {0.0: 'Nunca usado', 1.0: 'Otros metodos', 2.0: 'Metodos tradicionales', 3.0: 'Metodos modernos'}, 'V323': {1.0: 'Microginon', 2.0: 'Nordet', 3.0: 'Lofemenal', 4.0: 'Gynera', 5.0: 'Ciclomex', 6.0: 'Triciclomex', 7.0: 'Femiane', 8.0: 'Mercilon', 9.0: 'Marvelon', 10.0: 'Lindiol-e', 11.0: 'Dione 35', 12.0: 'Cilest', 13.0: 'Triquilar', 14.0: 'Trinordiol', 15.0: 'Minigynon', 16.0: 'Exluton', 17.0: 'Ovrette', 18.0: 'Ovral', 19.0: 'Mirelle', 20.0: 'Yasmin Drospyperona', 21.0: 'Peldura', 22.0: 'Anuletyc', 23.0: 'Rigevidon', 24.0: 'Oral Con-F', 25.0: 'Canesa', 26.0: 'Belara', 27.0: 'Tri_Regol', 93.0: 'Sin marca (H. FF.AA., FF.PP)', 94.0: 'Sin marca (ESSALUD)', 95.0: 'Sin marca (MINSA)', 96.0: 'Otro', 98.0: 'No sabe'}, 'V323A': {1.0: 'OK', 2.0: 'Piel', 3.0: 'Royal', 4.0: 'Jontex', 5.0: 'Contempo', 6.0: 'Gens', 7.0: 'LifeStyle', 8.0: 'Sultan', 9.0: 'Durex', 10.0: 'Preventor', 11.0: 'Hanson plans', 12.0: 'Sensitive', 13.0: 'Play boy', 14.0: 'Lubritec', 15.0: 'Pantera', 16.0: 'Tex', 17.0: 'Seohung', 18.0: 'Aladan corporation', 19.0: 'Vladi', 20.0: 'Stalion', 21.0: 'Latex', 22.0: 'Pussy Cat', 23.0: 'Sensación', 24.0: 'Karex', 25.0: 'Do it Loverly', 26.0: 'Nonoxinol - 9', 27.0: 'Famila 28', 93.0: 'Sin marca (H. FF.AA., FF.PP)', 94.0: 'Sin marca (ESSALUD)', 95.0: 'Sin marca (MINSA)', 96.0: 'Otro', 98.0: 'No sabe'}, 'V325A': {9999995.0: 'Gratis', 9999998.0: 'No sabe'}, 'V326': {11.0: 'Hospital MINSA', 12.0: 'Centro de salud MINSA', 13.0: 'Puesto de salud MINSA', 14.0: 'Promotor de salud MINSA ', 15.0: 'Hospital ESSALUD', 16.0: 'Policlìnico/Centro/Posta ESSALUD', 17.0: 'Hospital/Otros de las FFAA & PNP', 18.0: 'Hospital/Otro de la Municipalidad', 19.0: 'Otro gobierno', 21.0: 'Clínica particular', 22.0: 'Farmacia/botica', 23.0: 'Consultorio médico particular', 24.0: 'Clínica/Posta de ONG', 25.0: 'Promotor de ONG ', 31.0: 'Tienda/supermercado/hostal', 32.0: 'Hospital/Otro de la Iglesia', 33.0: 'Amigos/parientes', 95.0: 'Automedicación', 96.0: 'Otro', 98.0: 'No sabe'}, 'V327': {1.0: 'Hospital, Centro de Salud, Puesto de Salud, Policlínico del Gobierno', 2.0: 'Promotor de Salud', 3.0: 'Clínica/Posta/ Promotor ONG', 4.0: 'Clínica/Consultorio médico particular', 5.0: 'Farmacia/botica', 6.0: 'Tienda, iglesia, amigo', 7.0: 'Automedicación/Otro', 8.0: 'No sabe', 9.0: 'Otro gobierno'}, 'V337': {95.0: 'Todas cal {A core}', 96.0: '96+ {B core}', 997.0: 'Inconsistente', 998.0: 'No sabe'}, 'V359': {1.0: 'Píldora', 2.0: 'DIU', 3.0: 'Inyecciones', 4.0: 'Diafragma', 5.0: 'Condón', 6.0: 'Esterilización femenina', 7.0: 'Esterilización masculina', 8.0: 'Abstinencia periódica', 9.0: 'Retiro', 10.0: 'Otro', 11.0: 'Norplant/Implantes', 12.0: 'Abstinencia', 13.0: 'Amenorrea por lactancia (MELA)', 14.0: 'Condón femenino', 15.0: 'Espuma, jalea, óvulos (vaginales)', 16.0: 'Anticoncepción oral de emergencia', 17.0: 'Método específico 1', 18.0: 'Método específico 2', 19.0: 'Método específico 3', 20.0: 'Método específico 4'}, 'V360': {1.0: 'Quedó embarazada', 2.0: 'Quería quedar embarazada', 3.0: 'Marido desaprobó', 4.0: 'Efectos secundarios', 5.0: 'Motivos de salud', 6.0: 'Acceso, disponibilidad', 7.0: 'Deseaba método más efectivo', 8.0: 'Uso inconveniente', 9.0: 'Sexo poco frecuente/Marido ausente', 10.0: 'Costo', 11.0: 'Fatalista', 12.0: 'Dificil quedar embarazda/menopausia', 13.0: 'Disolución matrimonial', 14.0: 'Otro', 98.0: 'No sabe'}, 'V361': {1.0: 'Actualmente usando', 2.0: 'Usado desde el último nacimiento', 3.0: 'Usado antes del último nacimiento', 4.0: 'Nunca usado'}, 'V362': {1.0: 'En los próximos 12 meses', 2.0: 'Usar más tarde', 3.0: 'No está seguro sobre el momento', 4.0: 'No está seguro sobre el uso', 5.0: 'No tiene la intención', 6.0: 'Nunca tuve relaciones sexuales'}, 'V363': {1.0: 'Píldora', 2.0: 'DIU', 3.0: 'Inyección', 4.0: 'Diafragma', 5.0: 'Condón', 6.0: 'Esterilización femenina', 7.0: 'Esterilización masculina', 8.0: 'Abstinencia periódica', 9.0: 'Retiro', 10.0: 'Otro', 11.0: 'Norplant/Implantes', 12.0: 'Abstinencia', 13.0: 'Amenorrea por lactancia (MELA)', 14.0: 'Condón femenino', 15.0: 'Espuma, jalea, óvulos (vaginales)', 16.0: 'Anticoncepción oral de emergencia', 98.0: 'No sabe'}, 'V364': {1.0: 'Usando el método moderno', 2.0: 'Usando el método tradicional', 3.0: 'No-usuario tiene la intención de', 4.0: 'No tiene la intención de', 5.0: 'Nunca tuve relaciones sexuales'}, 'V367': {1.0: 'Entonces', 2.0: 'Esperar más', 3.0: 'No quería más'}, 'V372': {0.0: 'Paquete no visto', 1.0: 'Paquete visto'}, 'V372A': {0.0: 'Paquete no visto', 1.0: 'Paquete visto'}, 'V375A': {11.0: 'No casado', 21.0: 'No tiene relaciones sexuales', 22.0: 'Sexo poco frecuente', 23.0: 'Menopausia', 24.0: 'Infertilidad/Subfecundidad', 25.0: 'Postparto/Lactancia', 26.0: 'Quiere más hijas(os)', 27.0: 'Embarazada', 28.0: 'Histerectomìa', 31.0: 'Entrevistada se opone', 32.0: 'Esposo/compañero se opuso', 33.0: 'Otros se oponen', 34.0: 'Prohibición religiosa', 41.0: 'No conoce ningún método', 42.0: 'No conoce ninguna fuente', 51.0: 'Problemas de salud', 52.0: 'Miedo a efectos secundarios', 53.0: 'Falta de acceso', 54.0: 'Muy costoso', 55.0: 'Uso inconveniente', 56.0: 'Interfiere con procesos normales del cuerpo', 96.0: 'Otro', 98.0: 'No sabe'}, 'V376': {11.0: 'No casado', 22.0: 'Sexo poco frecuente', 23.0: 'Menopáusica/histerectomizada', 24.0: 'Infertilidad mujer', 25.0: 'Infertilidad hombre', 26.0: 'Quiere más hijas(os)', 31.0: 'Entrevistada se opone', 32.0: 'Esposo/compañero se opuso', 33.0: 'Otros se oponen', 34.0: 'Prohibición religiosa', 41.0: 'No conoce ningún método', 42.0: 'No conoce ninguna fuente', 51.0: 'Problemas de salud', 52.0: 'Miedo a efectos secundarios', 53.0: 'Falta de acceso', 54.0: 'Muy costoso', 55.0: 'Uso inconveniente', 56.0: 'Interfiere con procesos normales del cuerpo', 96.0: 'Otro', 98.0: 'No sabe'}, 'V376A': {0.0: 'No', 1.0: 'Si', 8.0: 'No sabe'}, 'V379': {11.0: 'Hospital MINSA', 12.0: 'Centro de salud MINSA', 13.0: 'Puesto de salud MINSA', 14.0: 'Trabajadora sanitaria MINSA', 15.0: 'Hospital ESSALUD', 16.0: 'Centro/Correo ESSALUD', 17.0: 'Campaña/feria', 18.0: 'Otro gobierno', 21.0: 'Clínica privada', 22.0: 'Farmacia', 23.0: 'Médico privado', 24.0: 'Clínica/FP post ONG', 25.0: 'ONG de trabajadores de la salud', 31.0: 'Tienda/supermercado', 32.0: 'Iglesia', 33.0: 'Amigos/parientes', 95.0: 'Automedicación', 96.0: 'Otro', 98.0: 'No sabe'}, 'V380': {1.0: 'Govt Clinical/Pharm', 2.0: 'Casa de Gobierno/Comm liv', 3.0: 'ONG', 4.0: 'Private Clin/Deliv', 5.0: 'Farmacia Privada', 6.0: 'Tienda, iglesia, amigo', 7.0: 'Otro', 8.0: 'No sabe'}, 'V501': {0.0: 'Nunca casada', 1.0: 'Casado', 2.0: 'Viviendo juntos', 3.0: 'Viuda', 4.0: 'Divorciada', 5.0: 'No viven juntos'}, 'V502': {0.0: 'Nunca casada', 1.0: 'Actualmente casada', 2.0: 'Anteriormente casada'}, 'V503': {1.0: 'Una vez', 2.0: 'Mas de una vez'}, 'V504': {1.0: 'Vive con ella', 2.0: 'Vive en otro sitio'}, 'V505': {0.0: 'No otras esposas', 98.0: 'No sabe'}, 'V506': {98.0: 'No sabe'}, 'V510': {1.0: 'Tiene mes y año', 2.0: 'Tiene mes y edad - imputa año', 3.0: 'Tiene año y edad - imputa mes', 5.0: 'Tiene año - imputa mes', 6.0: 'Tiene edad - imputa mes año', 7.0: 'Tiene mes - imputa año', 8.0: 'Ninguno - imputa todo'}, 'V513': {0.0: 'Nunca casada', 1.0: 'De 0 a 4 años', 2.0: 'De 5 a 9 años', 3.0: 'De 10 a 14 años', 4.0: 'De 15 a 19 años', 5.0: 'De 20 a 24 años', 6.0: 'De 25 a 29 años', 7.0: 'De 30 a más años'}, 'V525': {0.0: 'Nunca tuvo relaciones sexuales', 96.0: 'En la primera union'}, 'V613': {96.0: 'Respuesta no numérica'}, 'V714': {0.0: 'No', 1.0: 'Sí'}, 'V715': {98.0: 'No sabe'}}}}\n"
     ]
    }
   ],
   "source": [
    "print(all_data_ta)"
   ]
  },
  {
   "cell_type": "code",
   "execution_count": null,
   "metadata": {},
   "outputs": [],
   "source": [
    "# crear super loop\n",
    "all_data = {}"
   ]
  },
  {
   "cell_type": "markdown",
   "metadata": {},
   "source": [
    "7. Use `all_data` to append all the data sets. Store all data sets in a list using `for loop`. Then, use `pd.concat` to append all the data sets. Also, you must reset the index to have a good-looking data. This new object should be named as `endes_data_2015_2019`. **Hint: Use [this code](https://stackoverflow.com/questions/32444138/concatenate-a-list-of-pandas-dataframes-together)**"
   ]
  },
  {
   "cell_type": "markdown",
   "metadata": {},
   "source": [
    "8. Store all the `var_labels` and `value_labels` in a dictionary named as `all_var_labels` and `all_value_labels`. The first keys should be the year for both dictionaries.Then, use them to generate new attributes for `endes_data_2015_2019`. These attributes should be named as `var_labels` and `value_labels`. Your final output should be equal to `endes_data_2015_2019_ta` object. **Hint: Use [this link](https://notebooks.githubusercontent.com/view/ipynb?browser=chrome&color_mode=auto&commit=4d6de78e00e7001f16bf6473c2eb7ce24fb611cd&device=unknown_device&enc_url=68747470733a2f2f7261772e67697468756275736572636f6e74656e742e636f6d2f616c6578616e6465727175697370652f4469706c6f6d61646f5f505543502f346436646537386530306537303031663136626636343733633265623763653234666236313163642f4c6563747572655f342f4c6563747572655f342e6970796e62&logged_in=true&nwo=alexanderquispe%2FDiplomado_PUCP&path=Lecture_4%2FLecture_4.ipynb&platform=windows&repository_id=427747212&repository_type=Repository&version=95#4.2.3.)**"
   ]
  },
  {
   "cell_type": "code",
   "execution_count": 201,
   "metadata": {},
   "outputs": [],
   "source": [
    "output = urllib.request.urlopen( r'https://www.dropbox.com/s/oifvyjrr7s0e1md/endes_data_2015_2019_ta.pkl?dl=1')\n",
    "endes_data_2015_2019_ta = pickle.load( output )"
   ]
  },
  {
   "cell_type": "markdown",
   "metadata": {},
   "source": [
    "9. Use `endes_data_2015_2019` data to generate a new object named `mean_key_vars` to find the mean of **total children ever born (V201)**, **Ideal number of children (V613)**, **Husbands education-single yrs (V715)**, and **Age at first marriage (V511)** by year and department **(V024)**. Name these columns as **mean_total_children, mean_ideal_children, mean_hb_yr_educ and mean_first_marriage**, respectively. **Hint: Use groupby and [this link](https://stackoverflow.com/questions/40901770/is-there-a-simple-way-to-change-a-column-of-yes-no-to-1-0-in-a-pandas-dataframe).**"
   ]
  },
  {
   "cell_type": "code",
   "execution_count": null,
   "metadata": {},
   "outputs": [],
   "source": [
    "#'V201', 'V613', 'V715', 'V511'"
   ]
  },
  {
   "cell_type": "code",
   "execution_count": 225,
   "metadata": {},
   "outputs": [],
   "source": [
    "key_vars = endes_data_2015_2019_ta.loc[:, ['CASEID', 'year', 'V024', 'V201', 'V613', 'V715', 'V511'] ].groupby( ['year', 'V024'])"
   ]
  },
  {
   "cell_type": "code",
   "execution_count": 227,
   "metadata": {},
   "outputs": [
    {
     "data": {
      "text/html": [
       "<div>\n",
       "<style scoped>\n",
       "    .dataframe tbody tr th:only-of-type {\n",
       "        vertical-align: middle;\n",
       "    }\n",
       "\n",
       "    .dataframe tbody tr th {\n",
       "        vertical-align: top;\n",
       "    }\n",
       "\n",
       "    .dataframe thead th {\n",
       "        text-align: right;\n",
       "    }\n",
       "</style>\n",
       "<table border=\"1\" class=\"dataframe\">\n",
       "  <thead>\n",
       "    <tr style=\"text-align: right;\">\n",
       "      <th></th>\n",
       "      <th></th>\n",
       "      <th>V201</th>\n",
       "      <th>V511</th>\n",
       "    </tr>\n",
       "    <tr>\n",
       "      <th>year</th>\n",
       "      <th>V024</th>\n",
       "      <th></th>\n",
       "      <th></th>\n",
       "    </tr>\n",
       "  </thead>\n",
       "  <tbody>\n",
       "    <tr>\n",
       "      <th rowspan=\"5\" valign=\"top\">2015</th>\n",
       "      <th>Amazonas</th>\n",
       "      <td>2.445515</td>\n",
       "      <td>19.014493</td>\n",
       "    </tr>\n",
       "    <tr>\n",
       "      <th>Ancash</th>\n",
       "      <td>2.028594</td>\n",
       "      <td>20.587935</td>\n",
       "    </tr>\n",
       "    <tr>\n",
       "      <th>Apurimac</th>\n",
       "      <td>2.415771</td>\n",
       "      <td>19.641466</td>\n",
       "    </tr>\n",
       "    <tr>\n",
       "      <th>Arequipa</th>\n",
       "      <td>1.711661</td>\n",
       "      <td>22.038043</td>\n",
       "    </tr>\n",
       "    <tr>\n",
       "      <th>Ayacucho</th>\n",
       "      <td>2.493585</td>\n",
       "      <td>20.037555</td>\n",
       "    </tr>\n",
       "    <tr>\n",
       "      <th>...</th>\n",
       "      <th>...</th>\n",
       "      <td>...</td>\n",
       "      <td>...</td>\n",
       "    </tr>\n",
       "    <tr>\n",
       "      <th rowspan=\"5\" valign=\"top\">2019</th>\n",
       "      <th>Ayacucho</th>\n",
       "      <td>1.848787</td>\n",
       "      <td>20.340228</td>\n",
       "    </tr>\n",
       "    <tr>\n",
       "      <th>Cajamarca</th>\n",
       "      <td>1.931559</td>\n",
       "      <td>19.610695</td>\n",
       "    </tr>\n",
       "    <tr>\n",
       "      <th>Callao</th>\n",
       "      <td>1.567164</td>\n",
       "      <td>21.517241</td>\n",
       "    </tr>\n",
       "    <tr>\n",
       "      <th>Cusco</th>\n",
       "      <td>1.894415</td>\n",
       "      <td>20.283154</td>\n",
       "    </tr>\n",
       "    <tr>\n",
       "      <th>Huancavelica</th>\n",
       "      <td>2.083969</td>\n",
       "      <td>19.780769</td>\n",
       "    </tr>\n",
       "  </tbody>\n",
       "</table>\n",
       "<p>125 rows × 2 columns</p>\n",
       "</div>"
      ],
      "text/plain": [
       "                       V201       V511\n",
       "year V024                             \n",
       "2015 Amazonas      2.445515  19.014493\n",
       "     Ancash        2.028594  20.587935\n",
       "     Apurimac      2.415771  19.641466\n",
       "     Arequipa      1.711661  22.038043\n",
       "     Ayacucho      2.493585  20.037555\n",
       "...                     ...        ...\n",
       "2019 Ayacucho      1.848787  20.340228\n",
       "     Cajamarca     1.931559  19.610695\n",
       "     Callao        1.567164  21.517241\n",
       "     Cusco         1.894415  20.283154\n",
       "     Huancavelica  2.083969  19.780769\n",
       "\n",
       "[125 rows x 2 columns]"
      ]
     },
     "execution_count": 227,
     "metadata": {},
     "output_type": "execute_result"
    }
   ],
   "source": [
    "key_vars.agg('mean')"
   ]
  },
  {
   "cell_type": "code",
   "execution_count": 219,
   "metadata": {},
   "outputs": [],
   "source": [
    "# hacemos groupby por year y departamento\n",
    "year_dpt = endes_data_2015_2019_ta.groupby( ['year', 'V024'])"
   ]
  },
  {
   "cell_type": "code",
   "execution_count": 222,
   "metadata": {},
   "outputs": [
    {
     "data": {
      "text/html": [
       "<div>\n",
       "<style scoped>\n",
       "    .dataframe tbody tr th:only-of-type {\n",
       "        vertical-align: middle;\n",
       "    }\n",
       "\n",
       "    .dataframe tbody tr th {\n",
       "        vertical-align: top;\n",
       "    }\n",
       "\n",
       "    .dataframe thead th {\n",
       "        text-align: right;\n",
       "    }\n",
       "</style>\n",
       "<table border=\"1\" class=\"dataframe\">\n",
       "  <thead>\n",
       "    <tr style=\"text-align: right;\">\n",
       "      <th></th>\n",
       "      <th></th>\n",
       "      <th>V201</th>\n",
       "    </tr>\n",
       "    <tr>\n",
       "      <th>year</th>\n",
       "      <th>V024</th>\n",
       "      <th></th>\n",
       "    </tr>\n",
       "  </thead>\n",
       "  <tbody>\n",
       "    <tr>\n",
       "      <th rowspan=\"5\" valign=\"top\">2015</th>\n",
       "      <th>Amazonas</th>\n",
       "      <td>2.445515</td>\n",
       "    </tr>\n",
       "    <tr>\n",
       "      <th>Ancash</th>\n",
       "      <td>2.028594</td>\n",
       "    </tr>\n",
       "    <tr>\n",
       "      <th>Apurimac</th>\n",
       "      <td>2.415771</td>\n",
       "    </tr>\n",
       "    <tr>\n",
       "      <th>Arequipa</th>\n",
       "      <td>1.711661</td>\n",
       "    </tr>\n",
       "    <tr>\n",
       "      <th>Ayacucho</th>\n",
       "      <td>2.493585</td>\n",
       "    </tr>\n",
       "    <tr>\n",
       "      <th>...</th>\n",
       "      <th>...</th>\n",
       "      <td>...</td>\n",
       "    </tr>\n",
       "    <tr>\n",
       "      <th rowspan=\"5\" valign=\"top\">2019</th>\n",
       "      <th>Ayacucho</th>\n",
       "      <td>1.848787</td>\n",
       "    </tr>\n",
       "    <tr>\n",
       "      <th>Cajamarca</th>\n",
       "      <td>1.931559</td>\n",
       "    </tr>\n",
       "    <tr>\n",
       "      <th>Callao</th>\n",
       "      <td>1.567164</td>\n",
       "    </tr>\n",
       "    <tr>\n",
       "      <th>Cusco</th>\n",
       "      <td>1.894415</td>\n",
       "    </tr>\n",
       "    <tr>\n",
       "      <th>Huancavelica</th>\n",
       "      <td>2.083969</td>\n",
       "    </tr>\n",
       "  </tbody>\n",
       "</table>\n",
       "<p>125 rows × 1 columns</p>\n",
       "</div>"
      ],
      "text/plain": [
       "                       V201\n",
       "year V024                  \n",
       "2015 Amazonas      2.445515\n",
       "     Ancash        2.028594\n",
       "     Apurimac      2.415771\n",
       "     Arequipa      1.711661\n",
       "     Ayacucho      2.493585\n",
       "...                     ...\n",
       "2019 Ayacucho      1.848787\n",
       "     Cajamarca     1.931559\n",
       "     Callao        1.567164\n",
       "     Cusco         1.894415\n",
       "     Huancavelica  2.083969\n",
       "\n",
       "[125 rows x 1 columns]"
      ]
     },
     "execution_count": 222,
     "metadata": {},
     "output_type": "execute_result"
    }
   ],
   "source": [
    "# mean_total_children for total children ever born (V201)\n",
    "year_dpt.agg( {\"V201\": \"mean\"})"
   ]
  },
  {
   "cell_type": "code",
   "execution_count": 228,
   "metadata": {},
   "outputs": [
    {
     "data": {
      "text/html": [
       "<div>\n",
       "<style scoped>\n",
       "    .dataframe tbody tr th:only-of-type {\n",
       "        vertical-align: middle;\n",
       "    }\n",
       "\n",
       "    .dataframe tbody tr th {\n",
       "        vertical-align: top;\n",
       "    }\n",
       "\n",
       "    .dataframe thead th {\n",
       "        text-align: right;\n",
       "    }\n",
       "</style>\n",
       "<table border=\"1\" class=\"dataframe\">\n",
       "  <thead>\n",
       "    <tr style=\"text-align: right;\">\n",
       "      <th></th>\n",
       "      <th>CASEID</th>\n",
       "      <th>year</th>\n",
       "      <th>V024</th>\n",
       "      <th>V201</th>\n",
       "      <th>V613</th>\n",
       "      <th>V715</th>\n",
       "      <th>V511</th>\n",
       "    </tr>\n",
       "  </thead>\n",
       "  <tbody>\n",
       "    <tr>\n",
       "      <th>0</th>\n",
       "      <td>000102701  1</td>\n",
       "      <td>2015</td>\n",
       "      <td>Amazonas</td>\n",
       "      <td>3.0</td>\n",
       "      <td>4.0</td>\n",
       "      <td>3.0</td>\n",
       "      <td>16.0</td>\n",
       "    </tr>\n",
       "    <tr>\n",
       "      <th>1</th>\n",
       "      <td>000104301  1</td>\n",
       "      <td>2015</td>\n",
       "      <td>Amazonas</td>\n",
       "      <td>2.0</td>\n",
       "      <td>2.0</td>\n",
       "      <td>9.0</td>\n",
       "      <td>33.0</td>\n",
       "    </tr>\n",
       "    <tr>\n",
       "      <th>2</th>\n",
       "      <td>000104801  2</td>\n",
       "      <td>2015</td>\n",
       "      <td>Amazonas</td>\n",
       "      <td>2.0</td>\n",
       "      <td>1.0</td>\n",
       "      <td>11.0</td>\n",
       "      <td>18.0</td>\n",
       "    </tr>\n",
       "    <tr>\n",
       "      <th>3</th>\n",
       "      <td>000104801  3</td>\n",
       "      <td>2015</td>\n",
       "      <td>Amazonas</td>\n",
       "      <td>0.0</td>\n",
       "      <td>0.0</td>\n",
       "      <td>NaN</td>\n",
       "      <td>NaN</td>\n",
       "    </tr>\n",
       "    <tr>\n",
       "      <th>4</th>\n",
       "      <td>000105001  3</td>\n",
       "      <td>2015</td>\n",
       "      <td>Amazonas</td>\n",
       "      <td>0.0</td>\n",
       "      <td>2.0</td>\n",
       "      <td>NaN</td>\n",
       "      <td>NaN</td>\n",
       "    </tr>\n",
       "    <tr>\n",
       "      <th>...</th>\n",
       "      <td>...</td>\n",
       "      <td>...</td>\n",
       "      <td>...</td>\n",
       "      <td>...</td>\n",
       "      <td>...</td>\n",
       "      <td>...</td>\n",
       "      <td>...</td>\n",
       "    </tr>\n",
       "    <tr>\n",
       "      <th>182863</th>\n",
       "      <td>325406201  2</td>\n",
       "      <td>2019</td>\n",
       "      <td>Ucayali</td>\n",
       "      <td>5.0</td>\n",
       "      <td>3.0</td>\n",
       "      <td>5.0</td>\n",
       "      <td>14.0</td>\n",
       "    </tr>\n",
       "    <tr>\n",
       "      <th>182864</th>\n",
       "      <td>325406301  2</td>\n",
       "      <td>2019</td>\n",
       "      <td>Ucayali</td>\n",
       "      <td>5.0</td>\n",
       "      <td>3.0</td>\n",
       "      <td>7.0</td>\n",
       "      <td>14.0</td>\n",
       "    </tr>\n",
       "    <tr>\n",
       "      <th>182865</th>\n",
       "      <td>325407001  2</td>\n",
       "      <td>2019</td>\n",
       "      <td>Ucayali</td>\n",
       "      <td>8.0</td>\n",
       "      <td>4.0</td>\n",
       "      <td>5.0</td>\n",
       "      <td>13.0</td>\n",
       "    </tr>\n",
       "    <tr>\n",
       "      <th>182866</th>\n",
       "      <td>325407201  2</td>\n",
       "      <td>2019</td>\n",
       "      <td>Ucayali</td>\n",
       "      <td>2.0</td>\n",
       "      <td>2.0</td>\n",
       "      <td>11.0</td>\n",
       "      <td>13.0</td>\n",
       "    </tr>\n",
       "    <tr>\n",
       "      <th>182867</th>\n",
       "      <td>325407401  2</td>\n",
       "      <td>2019</td>\n",
       "      <td>Ucayali</td>\n",
       "      <td>1.0</td>\n",
       "      <td>2.0</td>\n",
       "      <td>11.0</td>\n",
       "      <td>16.0</td>\n",
       "    </tr>\n",
       "  </tbody>\n",
       "</table>\n",
       "<p>182868 rows × 7 columns</p>\n",
       "</div>"
      ],
      "text/plain": [
       "                    CASEID  year      V024  V201 V613  V715  V511\n",
       "0             000102701  1  2015  Amazonas   3.0  4.0   3.0  16.0\n",
       "1             000104301  1  2015  Amazonas   2.0  2.0   9.0  33.0\n",
       "2             000104801  2  2015  Amazonas   2.0  1.0  11.0  18.0\n",
       "3             000104801  3  2015  Amazonas   0.0  0.0   NaN   NaN\n",
       "4             000105001  3  2015  Amazonas   0.0  2.0   NaN   NaN\n",
       "...                    ...   ...       ...   ...  ...   ...   ...\n",
       "182863        325406201  2  2019   Ucayali   5.0  3.0   5.0  14.0\n",
       "182864        325406301  2  2019   Ucayali   5.0  3.0   7.0  14.0\n",
       "182865        325407001  2  2019   Ucayali   8.0  4.0   5.0  13.0\n",
       "182866        325407201  2  2019   Ucayali   2.0  2.0  11.0  13.0\n",
       "182867        325407401  2  2019   Ucayali   1.0  2.0  11.0  16.0\n",
       "\n",
       "[182868 rows x 7 columns]"
      ]
     },
     "execution_count": 228,
     "metadata": {},
     "output_type": "execute_result"
    }
   ],
   "source": [
    "#hay que eliminar los NaN para poder sacar el promedio de cada una de las variables\n",
    "endes_data_2015_2019_ta.loc[:, ['CASEID', 'year', 'V024', 'V201', 'V613', 'V715', 'V511'] ]"
   ]
  },
  {
   "cell_type": "code",
   "execution_count": null,
   "metadata": {},
   "outputs": [],
   "source": []
  },
  {
   "cell_type": "markdown",
   "metadata": {},
   "source": [
    "10. Merge `mean_key_vars` with `endes_data_2015_2019`. Name this object `final_result`. Your ouput should be equal to `final_result_ta`. **Hint: Use merge.**"
   ]
  },
  {
   "cell_type": "code",
   "execution_count": 10,
   "metadata": {},
   "outputs": [],
   "source": [
    "output = urllib.request.urlopen( r'https://www.dropbox.com/s/ntor3jbpdxpj9u1/final_result_ta.pkl?dl=1' )\n",
    "final_result_ta = pickle.load( output )"
   ]
  }
 ],
 "metadata": {
  "hide_input": false,
  "kernelspec": {
   "display_name": "Python 3",
   "language": "python",
   "name": "python3"
  },
  "language_info": {
   "codemirror_mode": {
    "name": "ipython",
    "version": 3
   },
   "file_extension": ".py",
   "mimetype": "text/x-python",
   "name": "python",
   "nbconvert_exporter": "python",
   "pygments_lexer": "ipython3",
   "version": "3.8.8"
  }
 },
 "nbformat": 4,
 "nbformat_minor": 4
}
