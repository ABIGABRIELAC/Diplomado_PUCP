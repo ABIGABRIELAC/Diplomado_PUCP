{
 "cells": [
  {
   "cell_type": "markdown",
   "metadata": {},
   "source": [
    "# 1 Assignment 2"
   ]
  },
  {
   "cell_type": "code",
   "execution_count": 1,
   "metadata": {},
   "outputs": [
    {
     "name": "stdout",
     "output_type": "stream",
     "text": [
      "Requirement already satisfied: pyreadstat in c:\\users\\nitro 5\\anaconda3\\lib\\site-packages (1.1.3)\n",
      "Requirement already satisfied: pandas>0.24.0 in c:\\users\\nitro 5\\anaconda3\\lib\\site-packages (from pyreadstat) (1.2.4)\n",
      "Requirement already satisfied: pytz>=2017.3 in c:\\users\\nitro 5\\anaconda3\\lib\\site-packages (from pandas>0.24.0->pyreadstat) (2021.1)\n",
      "Requirement already satisfied: numpy>=1.16.5 in c:\\users\\nitro 5\\anaconda3\\lib\\site-packages (from pandas>0.24.0->pyreadstat) (1.20.1)\n",
      "Requirement already satisfied: python-dateutil>=2.7.3 in c:\\users\\nitro 5\\anaconda3\\lib\\site-packages (from pandas>0.24.0->pyreadstat) (2.8.1)\n",
      "Requirement already satisfied: six>=1.5 in c:\\users\\nitro 5\\anaconda3\\lib\\site-packages (from python-dateutil>=2.7.3->pandas>0.24.0->pyreadstat) (1.15.0)\n",
      "Requirement already satisfied: savReaderWriter in c:\\users\\nitro 5\\anaconda3\\lib\\site-packages (3.4.2)\n"
     ]
    }
   ],
   "source": [
    "!pip install pyreadstat\n",
    "!pip install savReaderWriter\n",
    "import os\n",
    "import pickle\n",
    "import pandas as pd\n",
    "import numpy as np\n",
    "import urllib.request\n",
    "import savReaderWriter as sav"
   ]
  },
  {
   "cell_type": "markdown",
   "metadata": {},
   "source": [
    "1. Import the `REC0111.sav`, `RE223132.sav` and `RE516171.sav` files and their variables and values labels from this path `\"../../_data/endes/2019\"`. The name of imported files should be named as `rec_1`, `rec_2` and `rec_3` for files `REC0111.sav`, `RE223132.sav` and `RE516171.sav` respectively. The name of the variable and value labels should be `var_labels1` and `value_labels1` for `rec1`, `var_labels2` and `value_labels2` for `rec2`, and `var_labels3` and `value_labels3` for `rec3`. **Hint: See the section 3.3.4 of [the lecture 3](https://github.com/alexanderquispe/Diplomado_PUCP/blob/main/Lecture_3/Lecture_3.ipynb)**"
   ]
  },
  {
   "cell_type": "code",
   "execution_count": 2,
   "metadata": {},
   "outputs": [],
   "source": [
    "rec_1 = pd.read_spss( r\"../../_data/endes/2019/REC0111.sav\" )\n",
    "rec_2 = pd.read_spss( r\"../../_data/endes/2019/RE223132.sav\" )\n",
    "rec_3 = pd.read_spss( r\"../../_data/endes/2019/RE516171.sav\" )"
   ]
  },
  {
   "cell_type": "code",
   "execution_count": 3,
   "metadata": {},
   "outputs": [],
   "source": [
    "with sav.SavHeaderReader( r\"../../_data/endes/2019/REC0111.sav\", ioUtf8=True ) as header:\n",
    "    metadata = header.all()\n",
    "    value_labels1 = metadata.valueLabels\n",
    "    var_labels1 = metadata.varLabels\n",
    "\n",
    "with sav.SavHeaderReader( r\"../../_data/endes/2019/RE223132.sav\", ioUtf8=True ) as header:\n",
    "    metadata = header.all()\n",
    "    value_labels2 = metadata.valueLabels\n",
    "    var_labels2 = metadata.varLabels\n",
    "\n",
    "with sav.SavHeaderReader( r\"../../_data/endes/2019/RE516171.sav\", ioUtf8=True ) as header:\n",
    "    metadata = header.all()\n",
    "    value_labels3 = metadata.valueLabels\n",
    "    var_labels3 = metadata.varLabels"
   ]
  },
  {
   "cell_type": "markdown",
   "metadata": {},
   "source": [
    "2. Select the following columns for each data set:\n",
    "|Data|Columns|\n",
    "|---|---|\n",
    "|rec1| CASEID, V000, V001, V002, V003, V004, V007, V008, V009, V010, V011, V012, V024, V102, V120, V121, V122, V123, V124, V125, V127, V133 |\n",
    "|rec2| CASEID, V201, V2018, V301, V302, ..., V323, V323A, V325A, V326, V327, V337, V359, V360, V361, V362, V363, V364, V367, V372, V372A, V375A, V376, V376A, V379, V380 |\n",
    "|rec3| CASEID, V501, V502, V503, V504, V505, V506, V507, V508, V509, V510, V511, V512, V513, V525, V613, V714, V715 |\n",
    "\n",
    "\n",
    "Additioanlly, you should update the variables and value labels objects. They must have information only for the selected columns. The new dataframes should be name as `rec1_1`, `rec2_1`, and `rec3_1`. The new varible labels objects should be named as `new_var_labels1`, `new_var_labels2`, and `new_var_labels3`. The new value labels objects should be named as `new_value_labels1`, `new_value_labels2`, and `new_value_labels3` **Hint: Use the `loc` and column names to filter, `for loop`,   and [this link](https://stackoverflow.com/questions/3420122/filter-dict-to-contain-only-certain-keys) to update the var and value dictionary.**"
   ]
  },
  {
   "cell_type": "code",
   "execution_count": 7,
   "metadata": {},
   "outputs": [],
   "source": [
    "sel_vars1 = \"CASEID, V000, V001, V002, V003, V004, V007, V008, V009, V010, V011, V012, V024, V102, V120, V121, V122, V123, V124, V125, V127, V133\".split( ', ' )\n",
    "sel_vars2 = \"CASEID, V201, V218, V301, V302, V310, V311, V312, V313, V315, V316, V317, V318, V319, V320, V321, V322, V323, V323A, V325A, V326, V327, V337, V359, V360, V361, V362, V363, V364, V367, V372, V372A, V375A, V376, V376A, V379, V380\".split(', ')\n",
    "sel_vars3 = \"CASEID, V501, V502, V503, V504, V505, V506, V507, V508, V509, V510, V511, V512, V513, V525, V613, V714, V715\".split(', ')"
   ]
  },
  {
   "cell_type": "code",
   "execution_count": 8,
   "metadata": {},
   "outputs": [],
   "source": [
    "rec1_1 = rec_1.loc[ :, sel_vars1 ]\n",
    "rec2_1 = rec_2.loc[ :, sel_vars2 ]\n",
    "rec3_1 = rec_3.loc[ :, sel_vars3 ]"
   ]
  },
  {
   "cell_type": "code",
   "execution_count": 9,
   "metadata": {},
   "outputs": [],
   "source": [
    "new_value_labels1 = { new_key: value_labels1[ new_key ] for new_key in sel_vars1 if new_key in value_labels1.keys() }\n",
    "new_var_labels1 = { new_key: var_labels1[ new_key ] for new_key in sel_vars1 }\n",
    "new_value_labels2 = { new_key: value_labels2[ new_key ] for new_key in sel_vars2 if new_key in value_labels2.keys() }\n",
    "new_var_labels2 = { new_key: var_labels2[ new_key ] for new_key in sel_vars2 }\n",
    "new_value_labels3 = { new_key: value_labels3[ new_key ] for new_key in sel_vars3 if new_key in value_labels3.keys() }\n",
    "new_var_labels3 = { new_key: var_labels3[ new_key ] for new_key in sel_vars3 }"
   ]
  },
  {
   "cell_type": "markdown",
   "metadata": {},
   "source": [
    "3. Generate a new column for `rec1_1` named as `year`. It should be equal to `2019`. Also, you must update this new variable for the `var_labels` dictionary. Generate a new key for `new_var_labels1` and the value for this key should be **\"Year of the survey\"** **Hint: Use `loc` and `update` method.**"
   ]
  },
  {
   "cell_type": "code",
   "execution_count": 11,
   "metadata": {},
   "outputs": [],
   "source": [
    "rec1_1.loc[ :, \"year\" ] = np.array( [ 2019 ] * len( rec1_1 ) )\n",
    "new_var_labels1.update( { 'year': \"Year of the survey\" } )"
   ]
  },
  {
   "cell_type": "markdown",
   "metadata": {},
   "source": [
    "4. Merge `rec1_1`, `rec2_1`, and `rec3_1` using **CASEID**. Name this new object as `endes_2019`. **Hint: Use [this link](https://stackoverflow.com/questions/53645882/pandas-merging-101)**"
   ]
  },
  {
   "cell_type": "code",
   "execution_count": 12,
   "metadata": {},
   "outputs": [],
   "source": [
    "# endes_20191 = rec1_1.merge( rec2_1, on = 'CASEID' ).merge( rec3_1, on = 'CASEID' )\n",
    "# endes_20192 = rec1_1.merge( rec2_1, on = 'CASEID', how = 'outer' ).merge( rec3_1, on = 'CASEID', how = 'outer' )\n",
    "# endes_2019.shape == endes_20192.shape <- # Output is True\n",
    "\n",
    "endes_2019 = rec1_1.merge( rec2_1, on = 'CASEID' ).merge( rec3_1, on = 'CASEID' )"
   ]
  },
  {
   "cell_type": "markdown",
   "metadata": {},
   "source": [
    "5. Unify all the `new_var_labels` in one object and `new_value_labels` in another one object. Name these two objects as `var_labels` and `value_labels`. Use them to generate new attributes for `endes_2019`. These attributes should be named as `var_labels` and `value_labels`. Your final output should be equal to `endes_2019_ta` object **Hint: Use `update` method.**"
   ]
  },
  {
   "cell_type": "code",
   "execution_count": 13,
   "metadata": {},
   "outputs": [],
   "source": [
    "output = urllib.request.urlopen( r'https://www.dropbox.com/s/gwcssinb1j9zr6s/endes_2019_ta.pkl?dl=1' )\n",
    "endes_2019_ta = pickle.load( output )"
   ]
  },
  {
   "cell_type": "code",
   "execution_count": 14,
   "metadata": {},
   "outputs": [],
   "source": [
    "var_labels = {}\n",
    "var_labels.update(new_var_labels1)\n",
    "var_labels.update(new_var_labels2)\n",
    "var_labels.update(new_var_labels3)\n",
    "\n",
    "value_labels = {}\n",
    "value_labels.update(new_value_labels1)\n",
    "value_labels.update(new_value_labels2)\n",
    "value_labels.update(new_value_labels3)"
   ]
  },
  {
   "cell_type": "code",
   "execution_count": 15,
   "metadata": {},
   "outputs": [],
   "source": [
    "endes_2019.attrs[ 'var_labels' ] = var_labels\n",
    "endes_2019.attrs[ 'value_labels' ] = value_labels"
   ]
  },
  {
   "cell_type": "code",
   "execution_count": 12,
   "metadata": {},
   "outputs": [],
   "source": [
    "# endes_2019_ta == endes_2019\n",
    "# set1 = set( endes_2019.attrs[ 'var_labels' ] )\n",
    "# set2 = set( endes_2019_ta.attrs[ 'var_labels' ] )\n",
    "# set1 ^ set2\n",
    "# endes_2019.attrs[ 'var_labels' ] == endes_2019_ta.attrs[ 'var_labels' ]\n",
    "# endes_2019.attrs[ 'value_labels' ] == endes_2019_ta.attrs[ 'value_labels' ]"
   ]
  },
  {
   "cell_type": "markdown",
   "metadata": {},
   "source": [
    "6. Now, replicate your code of the prevoius sections but for years **2019, 2018, 2017, 2016, 2015**. Import the `REC0111.sav`, `RE223132.sav` and `RE516171.sav` files and their **variables and values labels** from this path `\"../../_data/endes/\"`. For this excersie you must use a for loop. This loop must iterate over **2019, 2018, 2017, 2016, 2015 folders** and import these files. All the files have the same name. You must store these files and their labels in a nested dictionary named as `all_data`. The keys of the dictionary should be named as `year_2019`, for example, and the keys of the nested dictionary should be `data`, `var_labels`, and `value_labels`. The output of this exercise should be equal to the `all_data_ta` object. **Hint: Use [this link](https://notebooks.githubusercontent.com/view/ipynb?browser=chrome&color_mode=auto&commit=4d6de78e00e7001f16bf6473c2eb7ce24fb611cd&device=unknown_device&enc_url=68747470733a2f2f7261772e67697468756275736572636f6e74656e742e636f6d2f616c6578616e6465727175697370652f4469706c6f6d61646f5f505543502f346436646537386530306537303031663136626636343733633265623763653234666236313163642f4c6563747572655f342f4c6563747572655f342e6970796e62&logged_in=true&nwo=alexanderquispe%2FDiplomado_PUCP&path=Lecture_4%2FLecture_4.ipynb&platform=windows&repository_id=427747212&repository_type=Repository&version=95#4.2.)**"
   ]
  },
  {
   "cell_type": "code",
   "execution_count": 117,
   "metadata": {},
   "outputs": [],
   "source": [
    "sel_vars1 = \"CASEID, V000, V001, V002, V003, V004, V008, V009, V010, V011, V012, V024, V102, V120, V121, V122, V123, V124, V125, V127, V133\".split( ', ' )\n",
    "years = [ '2015', '2016', '2017', '2018', '2019' ]\n",
    "all_data = {}\n",
    "\n",
    "for year in years:\n",
    "    \n",
    "    data_1 = pd.read_spss( f\"../../_data/endes/{year}/REC0111.sav\" )\n",
    "    data_2 = pd.read_spss( f\"../../_data/endes/{year}/RE223132.sav\" )\n",
    "    data_3 = pd.read_spss( f\"../../_data/endes/{year}/RE516171.sav\" )\n",
    "    \n",
    "    with sav.SavHeaderReader( f\"../../_data/endes/{year}/REC0111.sav\", ioUtf8=True ) as header:\n",
    "        metadata = header.all()\n",
    "        value_labels1 = metadata.valueLabels\n",
    "        var_labels1 = metadata.varLabels\n",
    "\n",
    "    with sav.SavHeaderReader( f\"../../_data/endes/{year}/RE223132.sav\", ioUtf8=True ) as header:\n",
    "        metadata = header.all()\n",
    "        value_labels2 = metadata.valueLabels\n",
    "        var_labels2 = metadata.varLabels\n",
    "\n",
    "    with sav.SavHeaderReader( f\"../../_data/endes/{year}/RE516171.sav\", ioUtf8=True ) as header:\n",
    "        metadata = header.all()\n",
    "        value_labels3 = metadata.valueLabels\n",
    "        var_labels3 = metadata.varLabels\n",
    "    \n",
    "    data1_1 = data_1.loc[ :, sel_vars1 ]\n",
    "    data2_1 = data_2.loc[ :, sel_vars2 ]\n",
    "    data3_1 = data_3.loc[ :, sel_vars3 ]\n",
    "    \n",
    "    new_value_labels1 = { new_key: value_labels1[ new_key ] for new_key in sel_vars1 if new_key in value_labels1.keys() }\n",
    "    new_var_labels1 = { new_key: var_labels1[ new_key ] for new_key in sel_vars1 }\n",
    "    new_value_labels2 = { new_key: value_labels2[ new_key ] for new_key in sel_vars2 if new_key in value_labels2.keys() }\n",
    "    new_var_labels2 = { new_key: var_labels2[ new_key ] for new_key in sel_vars2 }\n",
    "    new_value_labels3 = { new_key: value_labels3[ new_key ] for new_key in sel_vars3 if new_key in value_labels3.keys() }\n",
    "    new_var_labels3 = { new_key: var_labels3[ new_key ] for new_key in sel_vars3 }\n",
    "    \n",
    "    data1_1.loc[ :, \"year\" ] = np.array( [ int( year ) ] * len( data1_1 ) )\n",
    "    new_var_labels1.update( { 'year': \"Year of the survey\" } )\n",
    "    \n",
    "    data = data1_1.merge( data2_1, on = 'CASEID' ).merge( data3_1, on = 'CASEID' )\n",
    "    \n",
    "    var_labels = {}\n",
    "    var_labels.update( new_var_labels1 )\n",
    "    var_labels.update( new_var_labels2 )\n",
    "    var_labels.update( new_var_labels3 )\n",
    "\n",
    "    value_labels = {}\n",
    "    value_labels.update( new_value_labels1 )\n",
    "    value_labels.update( new_value_labels2 )\n",
    "    value_labels.update( new_value_labels3 )\n",
    "    \n",
    "    \n",
    "    \n",
    "    all_data.update( { f'year_{ year }': { 'data': data, 'var_labels': var_labels, 'value_labels': value_labels } } )\n",
    "    \n",
    "    data.attrs[ 'var_labels' ] = all_data\n",
    "    data.attrs[ 'value_labels' ] = all_data\n"
   ]
  },
  {
   "cell_type": "code",
   "execution_count": 17,
   "metadata": {},
   "outputs": [],
   "source": [
    "output = urllib.request.urlopen(r'https://www.dropbox.com/s/dqv1d9of2uo6hul/all_data_ta.pkl?dl=1')\n",
    "all_data_ta = pickle.load( output )"
   ]
  },
  {
   "cell_type": "markdown",
   "metadata": {},
   "source": [
    "7. Use `all_data` to append all the data sets. Store all data sets in a list using `for loop`. Then, use `pd.concat` to append all the data sets. Also, you must reset the index to have a good-looking data. This new object should be named as `endes_data_2015_2019`. **Hint: Use [this code](https://stackoverflow.com/questions/32444138/concatenate-a-list-of-pandas-dataframes-together)**"
   ]
  },
  {
   "cell_type": "code",
   "execution_count": 118,
   "metadata": {},
   "outputs": [
    {
     "name": "stdout",
     "output_type": "stream",
     "text": [
      "<class 'dict'>\n"
     ]
    }
   ],
   "source": [
    "list_year=[]\n",
    "for year in years:\n",
    "    data_to_concatenate['lst_%s' % year]= all_data.get(f'year_{ year }').get('data')\n",
    "print(type(data_to_concatenate))"
   ]
  },
  {
   "cell_type": "code",
   "execution_count": 119,
   "metadata": {},
   "outputs": [],
   "source": [
    "endes_data_2015_2019=pd.DataFrame()\n",
    "for year in years:\n",
    "    endes_data_2015_2019=pd.concat([endes_data_2015_2019,data_to_concatenate['lst_%s' % year]])\n",
    "endes_data_2015_2019 = endes_data_2015_2019.reset_index( drop = True )"
   ]
  },
  {
   "cell_type": "markdown",
   "metadata": {},
   "source": [
    "8. Store all the `var_labels` and `value_labels` in a dictionary named as `all_var_labels` and `all_value_labels`. The first keys should be the year for both dictionaries.Then, use them to generate new attributes for `endes_data_2015_2019`. These attributes should be named as `var_labels` and `value_labels`. Your final output should be equal to `endes_data_2015_2019_ta` object. **Hint: Use [this link](https://notebooks.githubusercontent.com/view/ipynb?browser=chrome&color_mode=auto&commit=4d6de78e00e7001f16bf6473c2eb7ce24fb611cd&device=unknown_device&enc_url=68747470733a2f2f7261772e67697468756275736572636f6e74656e742e636f6d2f616c6578616e6465727175697370652f4469706c6f6d61646f5f505543502f346436646537386530306537303031663136626636343733633265623763653234666236313163642f4c6563747572655f342f4c6563747572655f342e6970796e62&logged_in=true&nwo=alexanderquispe%2FDiplomado_PUCP&path=Lecture_4%2FLecture_4.ipynb&platform=windows&repository_id=427747212&repository_type=Repository&version=95#4.2.3.)**"
   ]
  },
  {
   "cell_type": "code",
   "execution_count": 123,
   "metadata": {},
   "outputs": [],
   "source": [
    "all_var_labels = {}\n",
    "for year in years:\n",
    "    all_var_labels = { f'year_{ year }':all_data.get(f'year_{ year }').get('var_labels') }"
   ]
  },
  {
   "cell_type": "code",
   "execution_count": 124,
   "metadata": {},
   "outputs": [
    {
     "data": {
      "text/plain": [
       "{'year_2019': {'CASEID': 'Identificación Cuestionario Individual',\n",
       "  'V000': 'Código y fase del país',\n",
       "  'V001': 'Conglomerado',\n",
       "  'V002': 'Número de vivienda',\n",
       "  'V003': 'Número de línea de entrevistada',\n",
       "  'V004': 'Unidad de área final',\n",
       "  'V008': 'Fecha de la entrevista, Codificación centenaria de meses (CMC)',\n",
       "  'V009': 'Mes de nacimiento de la entrevistada',\n",
       "  'V010': 'Año de nacimiento de la entrevistada',\n",
       "  'V011': 'Fecha de nacimiento, Codificación centenaria de meses (CMC)',\n",
       "  'V012': 'Edad actual - entrevistada',\n",
       "  'V024': 'Región',\n",
       "  'V102': 'Tipo de lugar de residencia',\n",
       "  'V120': 'En su hogar tiene: radio',\n",
       "  'V121': 'En su hogar tiene: televisión',\n",
       "  'V122': 'En su hogar tiene: refrigerador',\n",
       "  'V123': 'En su hogar tiene: bicicleta',\n",
       "  'V124': 'En su hogar tiene: motocicleta/motocar',\n",
       "  'V125': 'En su hogar tiene: coche/camión',\n",
       "  'V127': 'Material predominante del piso de la vivienda',\n",
       "  'V133': 'Educación en años simples',\n",
       "  'year': 'Year of the survey',\n",
       "  'V201': 'Total de niños nacidos',\n",
       "  'V218': 'Número de niños vivos',\n",
       "  'V301': 'Conocimiento de cualquier método',\n",
       "  'V302': 'Alguna vez usó cualquier método',\n",
       "  'V310': 'Cuantas hijas e hijos tenía cuando empezó a usar el primer método para no quedar embarazada',\n",
       "  'V311': 'Cuantas hijas e hijos tenía cuando empezó a usar el primer método (Grupos)',\n",
       "  'V312': 'Método anticonceptivo actual',\n",
       "  'V313': 'Uso actual por tipo de método',\n",
       "  'V315': 'Mes de inicio del uso del método',\n",
       "  'V316': 'Año de inicio del uso del método',\n",
       "  'V317': 'Fecha de inicio del uso del método, Codificación centenaria de meses (CMC)',\n",
       "  'V318': 'Integridad de la información para la fecha de la esterilización',\n",
       "  'V319': 'Años desde la esterilización',\n",
       "  'V320': 'Edad en la esterilización',\n",
       "  'V321': 'Duración conyugal en la esterilización',\n",
       "  'V322': 'Número de niños en la esterilización',\n",
       "  'V323': 'Marca de la píldora usada',\n",
       "  'V323A': 'Marca del preservativo utilizado',\n",
       "  'V325A': 'Costo del método actual',\n",
       "  'V326': 'Fuente para obtener el actual método anticonceptivo',\n",
       "  'V327': 'Fuente para obtener el actual método anticonceptivo (Grupos)',\n",
       "  'V337': 'Meses de uso del método actual',\n",
       "  'V359': 'Última discontinuidad del método los últimos 5 años',\n",
       "  'V360': 'Motivo de la última discontinuidad',\n",
       "  'V361': 'Patrón de uso',\n",
       "  'V362': 'Intención de uso',\n",
       "  'V363': 'Método futuro preferido',\n",
       "  'V364': 'Uso e intención de anticonceptivos',\n",
       "  'V367': 'Quería quedar embarazada:',\n",
       "  'V372': 'Se muestra el paquete de pastillas',\n",
       "  'V372A': 'Se muestra el paquete de Condónes',\n",
       "  'V375A': 'La razón principal para no utilizar un método',\n",
       "  'V376': 'La razón principal por la que no piensa usar ningún método en el futuro',\n",
       "  'V376A': 'Alguna vez usaría algún método',\n",
       "  'V379': 'Fuente conocida por cualquier método',\n",
       "  'V380': 'Fuente conocida por cualquier método (Grupos)',\n",
       "  'V501': 'Estado civil actual',\n",
       "  'V502': 'Actualmente, antes o nunca sacada',\n",
       "  'V503': 'Usted ha estado casada o conviviendo solo una vez, más de una vez',\n",
       "  'V504': 'Su esposo/compañer vive en el hogar o vive en otro lugar',\n",
       "  'V505': 'Número de otras esposas',\n",
       "  'V506': 'Número de rango de la esposa',\n",
       "  'V507': 'Mes - Primer matrimonio',\n",
       "  'V508': 'Año - Primer matrimonio',\n",
       "  'V509': 'Fecha del primer matrimonio (CMC)',\n",
       "  'V510': 'Integridad de la información para la fecha de inicio del primer matrimonio o unión',\n",
       "  'V511': 'Edad al primer matrimonio',\n",
       "  'V512': 'Años desde el primer matrimonio',\n",
       "  'V513': 'Duración del matrimonio (agrupado)',\n",
       "  'V525': 'Edad en la primera relación sexual',\n",
       "  'V613': 'Número ideal de niños',\n",
       "  'V714': 'Actualmente se encuentra trabajando',\n",
       "  'V715': 'Educación en años individuales del esposo/compañero'}}"
      ]
     },
     "execution_count": 124,
     "metadata": {},
     "output_type": "execute_result"
    }
   ],
   "source": [
    "all_var_labels"
   ]
  },
  {
   "cell_type": "code",
   "execution_count": null,
   "metadata": {},
   "outputs": [],
   "source": [
    "output = urllib.request.urlopen( r'https://www.dropbox.com/s/oifvyjrr7s0e1md/endes_data_2015_2019_ta.pkl?dl=1')\n",
    "endes_data_2015_2019_ta = pickle.load( output )"
   ]
  },
  {
   "cell_type": "markdown",
   "metadata": {},
   "source": [
    "9. Use `endes_data_2015_2019` data to generate a new object named `mean_key_vars` to find the mean of **total children ever born (V201)**, **Ideal number of children (V613)**, **Husbands education-single yrs (V715)**, and **Age at first marriage (V511)** by year and department **(V024)**. Name these columns as **mean_total_children, mean_ideal_children, mean_hb_yr_educ and mean_first_marriage**, respectively. **Hint: Use groupby and [this link](https://stackoverflow.com/questions/40901770/is-there-a-simple-way-to-change-a-column-of-yes-no-to-1-0-in-a-pandas-dataframe).**"
   ]
  },
  {
   "cell_type": "markdown",
   "metadata": {},
   "source": [
    "10. Merge `mean_key_vars` with `endes_data_2015_2019`. Name this object `final_result`. Your ouput should be equal to `final_result_ta`. **Hint: Use merge.**"
   ]
  },
  {
   "cell_type": "code",
   "execution_count": null,
   "metadata": {},
   "outputs": [],
   "source": [
    "output = urllib.request.urlopen( r'https://www.dropbox.com/s/ntor3jbpdxpj9u1/final_result_ta.pkl?dl=1' )\n",
    "final_result_ta = pickle.load( output )"
   ]
  }
 ],
 "metadata": {
  "hide_input": false,
  "kernelspec": {
   "display_name": "Python 3",
   "language": "python",
   "name": "python3"
  },
  "language_info": {
   "codemirror_mode": {
    "name": "ipython",
    "version": 3
   },
   "file_extension": ".py",
   "mimetype": "text/x-python",
   "name": "python",
   "nbconvert_exporter": "python",
   "pygments_lexer": "ipython3",
   "version": "3.8.8"
  }
 },
 "nbformat": 4,
 "nbformat_minor": 4
}
