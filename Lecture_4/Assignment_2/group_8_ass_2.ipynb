{
 "cells": [
  {
   "cell_type": "markdown",
   "id": "7322ff5a",
   "metadata": {},
   "source": [
    "# Assignment 2"
   ]
  },
  {
   "cell_type": "code",
   "execution_count": 7,
   "id": "6de903c7",
   "metadata": {},
   "outputs": [],
   "source": [
    "import os\n",
    "import os\n",
    "import pickle\n",
    "import pandas as pd\n",
    "import numpy as np\n",
    "import urllib.request"
   ]
  },
  {
   "cell_type": "markdown",
   "id": "227d2496",
   "metadata": {},
   "source": [
    "### Question 1: "
   ]
  },
  {
   "cell_type": "code",
   "execution_count": null,
   "id": "8fb59690",
   "metadata": {},
   "outputs": [],
   "source": [
    "#!pip install pyreadstat"
   ]
  },
  {
   "cell_type": "code",
   "execution_count": 5,
   "id": "b110cfa8",
   "metadata": {},
   "outputs": [],
   "source": [
    "import pyreadstat"
   ]
  },
  {
   "cell_type": "code",
   "execution_count": 11,
   "id": "303527a5",
   "metadata": {},
   "outputs": [],
   "source": [
    "rec_1 = pd.read_spss(\"../../_data/endes/2019/REC0111.sav\")\n",
    "rec_2 = pd.read_spss(\"../../_data/endes/2019/RE223132.sav\")\n",
    "rec_3 = pd.read_spss(\"../../_data/endes/2019/RE516171.sav\")"
   ]
  },
  {
   "cell_type": "code",
   "execution_count": 18,
   "id": "7477dc15",
   "metadata": {},
   "outputs": [
    {
     "name": "stdout",
     "output_type": "stream",
     "text": [
      "Collecting savReaderWriter\n",
      "  Downloading savReaderWriter-3.4.2.tar.gz (50.9 MB)Note: you may need to restart the kernel to use updated packages.\n",
      "\n",
      "Building wheels for collected packages: savReaderWriter\n",
      "  Building wheel for savReaderWriter (setup.py): started\n",
      "  Building wheel for savReaderWriter (setup.py): finished with status 'done'\n",
      "  Created wheel for savReaderWriter: filename=savReaderWriter-3.4.2-py3-none-any.whl size=51142027 sha256=11fb4a729bcc58c2f5fce4634c59633f7f95d10db901954c8fbe8a49ba11b7f8\n",
      "  Stored in directory: c:\\users\\a-pal\\appdata\\local\\pip\\cache\\wheels\\da\\4b\\be\\7d3f512ed6ed438b2a72c00a0e568b37930b461f29c0e59e09\n",
      "Successfully built savReaderWriter\n",
      "Installing collected packages: savReaderWriter\n",
      "Successfully installed savReaderWriter-3.4.2\n"
     ]
    }
   ],
   "source": [
    "#pip install savReaderWriter"
   ]
  },
  {
   "cell_type": "code",
   "execution_count": 20,
   "id": "89386a48",
   "metadata": {},
   "outputs": [],
   "source": [
    "import savReaderWriter as sav\n",
    "with sav.SavHeaderReader( r\"../../_data/endes/2019/REC0111.sav\", ioUtf8=True) as header:\n",
    "    metadata = header.all()\n",
    "    value_labels_1 = metadata.valueLabels"
   ]
  },
  {
   "cell_type": "code",
   "execution_count": 27,
   "id": "8b295ec6",
   "metadata": {},
   "outputs": [],
   "source": [
    "value_labels1 = rec_1.attrs[ 'value_labels' ] = value_labels_1\n",
    "var_labels1 = rec_1.attrs[ 'var_labels' ] = metadata.varLabels"
   ]
  },
  {
   "cell_type": "code",
   "execution_count": 30,
   "id": "bfb2853e",
   "metadata": {},
   "outputs": [],
   "source": [
    "with sav.SavHeaderReader( r\"../../_data/endes/2019/RE223132.sav\", ioUtf8=True) as header:\n",
    "    metadata = header.all()\n",
    "    value_labels_2 = metadata.valueLabels"
   ]
  },
  {
   "cell_type": "code",
   "execution_count": 31,
   "id": "a13e3e1c",
   "metadata": {},
   "outputs": [],
   "source": [
    "value_labels2 = rec_2.attrs[ 'value_labels' ] = value_labels_2\n",
    "var_labels2 = rec_2.attrs[ 'var_labels' ] = metadata.varLabels"
   ]
  },
  {
   "cell_type": "code",
   "execution_count": 36,
   "id": "909a76ee",
   "metadata": {},
   "outputs": [],
   "source": [
    "with sav.SavHeaderReader( r\"../../_data/endes/2019/RE516171.sav\", ioUtf8=True) as header:\n",
    "    metadata = header.all()\n",
    "    value_labels_3 = metadata.valueLabels"
   ]
  },
  {
   "cell_type": "code",
   "execution_count": 37,
   "id": "3ffaa2eb",
   "metadata": {},
   "outputs": [],
   "source": [
    "value_labels3 = rec_3.attrs[ 'value_labels' ] = value_labels_3\n",
    "var_labels3 = rec_3.attrs[ 'var_labels' ] = metadata.varLabels"
   ]
  },
  {
   "cell_type": "markdown",
   "id": "78a2af35",
   "metadata": {},
   "source": [
    "### Question 2"
   ]
  },
  {
   "cell_type": "code",
   "execution_count": null,
   "id": "ab0b5aec",
   "metadata": {},
   "outputs": [],
   "source": []
  }
 ],
 "metadata": {
  "kernelspec": {
   "display_name": "Python 3",
   "language": "python",
   "name": "python3"
  },
  "language_info": {
   "codemirror_mode": {
    "name": "ipython",
    "version": 3
   },
   "file_extension": ".py",
   "mimetype": "text/x-python",
   "name": "python",
   "nbconvert_exporter": "python",
   "pygments_lexer": "ipython3",
   "version": "3.8.8"
  }
 },
 "nbformat": 4,
 "nbformat_minor": 5
}
