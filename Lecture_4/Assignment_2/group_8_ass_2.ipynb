{
 "cells": [
  {
   "cell_type": "markdown",
   "id": "7322ff5a",
   "metadata": {},
   "source": [
    "# Assignment 2"
   ]
  },
  {
   "cell_type": "code",
   "execution_count": 1,
   "id": "6de903c7",
   "metadata": {},
   "outputs": [],
   "source": [
    "import os\n",
    "import os\n",
    "import pickle\n",
    "import pandas as pd\n",
    "import numpy as np\n",
    "import urllib.request"
   ]
  },
  {
   "cell_type": "markdown",
   "id": "227d2496",
   "metadata": {},
   "source": [
    "### Question 1: "
   ]
  },
  {
   "cell_type": "code",
   "execution_count": null,
   "id": "e86bdd18",
   "metadata": {},
   "outputs": [],
   "source": [
    "#!pip install pyreadstat"
   ]
  },
  {
   "cell_type": "code",
   "execution_count": 2,
   "id": "4059d2cb",
   "metadata": {},
   "outputs": [],
   "source": [
    "import pyreadstat"
   ]
  },
  {
   "cell_type": "code",
   "execution_count": 25,
   "id": "303527a5",
   "metadata": {},
   "outputs": [],
   "source": [
    "rec_1 = pd.read_spss(\"../../_data/endes/2019/REC0111.sav\")\n",
    "rec_2 = pd.read_spss(\"../../_data/endes/2019/RE223132.sav\")\n",
    "rec_3 = pd.read_spss(\"../../_data/endes/2019/RE516171.sav\")"
   ]
  },
  {
   "cell_type": "code",
   "execution_count": 26,
   "id": "0373dbe9",
   "metadata": {},
   "outputs": [],
   "source": [
    "#pip install savReaderWriter"
   ]
  },
  {
   "cell_type": "code",
   "execution_count": 30,
   "id": "cce50651",
   "metadata": {},
   "outputs": [],
   "source": [
    "import savReaderWriter as sav\n",
    "with sav.SavHeaderReader( r\"../../_data/endes/2019/REC0111.sav\", ioUtf8=True) as header:\n",
    "    metadata = header.all()\n",
    "    value_labels_1 = metadata.valueLabels"
   ]
  },
  {
   "cell_type": "code",
   "execution_count": 31,
   "id": "e4443189",
   "metadata": {},
   "outputs": [],
   "source": [
    "value_labels1 = rec_1.attrs[ 'value_labels' ] = value_labels_1\n",
    "var_labels1 = rec_1.attrs[ 'var_labels' ] = metadata.varLabels"
   ]
  },
  {
   "cell_type": "code",
   "execution_count": 32,
   "id": "b86c996a",
   "metadata": {},
   "outputs": [],
   "source": [
    "with sav.SavHeaderReader( r\"../../_data/endes/2019/RE223132.sav\", ioUtf8=True) as header:\n",
    "    metadata = header.all()\n",
    "    value_labels_2 = metadata.valueLabels"
   ]
  },
  {
   "cell_type": "code",
   "execution_count": 33,
   "id": "915cbbde",
   "metadata": {},
   "outputs": [],
   "source": [
    "value_labels2 = rec_2.attrs[ 'value_labels' ] = value_labels_2\n",
    "var_labels2 = rec_2.attrs[ 'var_labels' ] = metadata.varLabels"
   ]
  },
  {
   "cell_type": "code",
   "execution_count": 34,
   "id": "8d0063e6",
   "metadata": {},
   "outputs": [],
   "source": [
    "with sav.SavHeaderReader( r\"../../_data/endes/2019/RE516171.sav\", ioUtf8=True) as header:\n",
    "    metadata = header.all()\n",
    "    value_labels_3 = metadata.valueLabels"
   ]
  },
  {
   "cell_type": "code",
   "execution_count": 35,
   "id": "3a46ca87",
   "metadata": {},
   "outputs": [],
   "source": [
    "value_labels3 = rec_3.attrs[ 'value_labels' ] = value_labels_3\n",
    "var_labels3 = rec_3.attrs[ 'var_labels' ] = metadata.varLabels"
   ]
  },
  {
   "cell_type": "markdown",
   "id": "bd3cbc51",
   "metadata": {},
   "source": [
    "### Question 2"
   ]
  },
  {
   "cell_type": "code",
   "execution_count": 36,
   "id": "6763a970",
   "metadata": {},
   "outputs": [],
   "source": [
    "#nuevos data frames\n",
    "rec1_1 = rec_1.loc[ : , [\"CASEID\",\"V000\",\"V001\",\"V002\",\"V003\",\"V004\",\"V007\",\"V008\",\"V009\",\"V010\",\"V011\",\"V012\",\"V024\",\"V102\",\n",
    "                         \"V120\",\"V121\",\"V122\",\"V123\",\"V124\",\"V125\",\"V127\",\"V133\"]]\n",
    "rec2_1 = rec_2.loc[ : , [\"CASEID\",\"V201\",\"V218\",\"V301\",\"V302\",\"V323\",\"V323A\",\"V325A\",\"V326\",\"V327\",\"V337\",\"V359\",\"V360\",\"V361\",\n",
    "                         \"V362\",\"V363\",\"V364\",\"V367\",\"V372\",\"V372A\",\"V375A\",\"V376\",\"V376A\",\"V379\",\"V380\"]]\n",
    "rec3_1 = rec_3.loc[ : , [\"CASEID\",\"V501\",\"V502\",\"V503\",\"V504\",\"V505\",\"V506\",\"V507\",\"V508\",\"V509\",\"V510\",\"V511\",\"V512\",\"V513\",\n",
    "                         \"V525\",\"V613\",\"V714\",\"V715\"]]"
   ]
  },
  {
   "cell_type": "code",
   "execution_count": 46,
   "id": "35c35e7a",
   "metadata": {},
   "outputs": [
    {
     "data": {
      "text/plain": [
       "{'CASEID': 'Identificación Cuestionario Individual',\n",
       " 'V000': 'Código y fase del país',\n",
       " 'V001': 'Conglomerado',\n",
       " 'V002': 'Número de vivienda',\n",
       " 'V003': 'Número de línea de entrevistada',\n",
       " 'V004': 'Unidad de área final',\n",
       " 'V007': 'Año de la entrevista',\n",
       " 'V008': 'Fecha de la entrevista, Codificación centenaria de meses (CMC)',\n",
       " 'V009': 'Mes de nacimiento de la entrevistada',\n",
       " 'V010': 'Año de nacimiento de la entrevistada',\n",
       " 'V011': 'Fecha de nacimiento, Codificación centenaria de meses (CMC)',\n",
       " 'V012': 'Edad actual - entrevistada',\n",
       " 'V024': 'Región',\n",
       " 'V102': 'Tipo de lugar de residencia',\n",
       " 'V120': 'En su hogar tiene: radio',\n",
       " 'V121': 'En su hogar tiene: televisión',\n",
       " 'V122': 'En su hogar tiene: refrigerador',\n",
       " 'V123': 'En su hogar tiene: bicicleta',\n",
       " 'V124': 'En su hogar tiene: motocicleta/motocar',\n",
       " 'V125': 'En su hogar tiene: coche/camión',\n",
       " 'V127': 'Material predominante del piso de la vivienda',\n",
       " 'V133': 'Educación en años simples'}"
      ]
     },
     "execution_count": 46,
     "metadata": {},
     "output_type": "execute_result"
    }
   ],
   "source": [
    "new_var_labels1 = { key: var_labels1[key] \n",
    "                   for key in rec1_1.keys() }\n",
    "new_var_labels1"
   ]
  },
  {
   "cell_type": "code",
   "execution_count": 38,
   "id": "1d15fe5c",
   "metadata": {},
   "outputs": [],
   "source": [
    "#selected_cols_rec1_1 = rec1_1.columns\n",
    "#{ col: var_labels1[ col ] for col in selected_cols_rec1_1 }"
   ]
  },
  {
   "cell_type": "code",
   "execution_count": 45,
   "id": "169dc32f",
   "metadata": {},
   "outputs": [
    {
     "data": {
      "text/plain": [
       "{'CASEID': 'Identificación Cuestionario Individual',\n",
       " 'V201': 'Total de niños nacidos',\n",
       " 'V218': 'Número de niños vivos',\n",
       " 'V301': 'Conocimiento de cualquier método',\n",
       " 'V302': 'Alguna vez usó cualquier método',\n",
       " 'V323': 'Marca de la píldora usada',\n",
       " 'V323A': 'Marca del preservativo utilizado',\n",
       " 'V325A': 'Costo del método actual',\n",
       " 'V326': 'Fuente para obtener el actual método anticonceptivo',\n",
       " 'V327': 'Fuente para obtener el actual método anticonceptivo (Grupos)',\n",
       " 'V337': 'Meses de uso del método actual',\n",
       " 'V359': 'Última discontinuidad del método los últimos 5 años',\n",
       " 'V360': 'Motivo de la última discontinuidad',\n",
       " 'V361': 'Patrón de uso',\n",
       " 'V362': 'Intención de uso',\n",
       " 'V363': 'Método futuro preferido',\n",
       " 'V364': 'Uso e intención de anticonceptivos',\n",
       " 'V367': 'Quería quedar embarazada:',\n",
       " 'V372': 'Se muestra el paquete de pastillas',\n",
       " 'V372A': 'Se muestra el paquete de Condónes',\n",
       " 'V375A': 'La razón principal para no utilizar un método',\n",
       " 'V376': 'La razón principal por la que no piensa usar ningún método en el futuro',\n",
       " 'V376A': 'Alguna vez usaría algún método',\n",
       " 'V379': 'Fuente conocida por cualquier método',\n",
       " 'V380': 'Fuente conocida por cualquier método (Grupos)'}"
      ]
     },
     "execution_count": 45,
     "metadata": {},
     "output_type": "execute_result"
    }
   ],
   "source": [
    "new_var_labels2 = { key: var_labels2[key] \n",
    "                   for key in rec2_1.keys() }\n",
    "new_var_labels2"
   ]
  },
  {
   "cell_type": "code",
   "execution_count": 48,
   "id": "6164cea6",
   "metadata": {},
   "outputs": [],
   "source": [
    "#selected_cols_rec2_1 = rec2_1.columns\n",
    "#{ col: var_labels2[ col ] for col in selected_cols_rec2_1 }"
   ]
  },
  {
   "cell_type": "code",
   "execution_count": 47,
   "id": "e27ead70",
   "metadata": {},
   "outputs": [
    {
     "data": {
      "text/plain": [
       "{'CASEID': 'Identificación Cuestionario Individual',\n",
       " 'V501': 'Estado civil actual',\n",
       " 'V502': 'Actualmente, antes o nunca sacada',\n",
       " 'V503': 'Usted ha estado casada o conviviendo solo una vez, más de una vez',\n",
       " 'V504': 'Su esposo/compañer vive en el hogar o vive en otro lugar',\n",
       " 'V505': 'Número de otras esposas',\n",
       " 'V506': 'Número de rango de la esposa',\n",
       " 'V507': 'Mes - Primer matrimonio',\n",
       " 'V508': 'Año - Primer matrimonio',\n",
       " 'V509': 'Fecha del primer matrimonio (CMC)',\n",
       " 'V510': 'Integridad de la información para la fecha de inicio del primer matrimonio o unión',\n",
       " 'V511': 'Edad al primer matrimonio',\n",
       " 'V512': 'Años desde el primer matrimonio',\n",
       " 'V513': 'Duración del matrimonio (agrupado)',\n",
       " 'V525': 'Edad en la primera relación sexual',\n",
       " 'V613': 'Número ideal de niños',\n",
       " 'V714': 'Actualmente se encuentra trabajando',\n",
       " 'V715': 'Educación en años individuales del esposo/compañero'}"
      ]
     },
     "execution_count": 47,
     "metadata": {},
     "output_type": "execute_result"
    }
   ],
   "source": [
    "new_var_labels3 = { key: var_labels3[key] \n",
    "                   for key in rec3_1.keys() }\n",
    "new_var_labels3"
   ]
  },
  {
   "cell_type": "code",
   "execution_count": 42,
   "id": "3104da21",
   "metadata": {},
   "outputs": [
    {
     "data": {
      "text/plain": [
       "{'CASEID': 'Identificación Cuestionario Individual',\n",
       " 'V501': 'Estado civil actual',\n",
       " 'V502': 'Actualmente, antes o nunca sacada',\n",
       " 'V503': 'Usted ha estado casada o conviviendo solo una vez, más de una vez',\n",
       " 'V504': 'Su esposo/compañer vive en el hogar o vive en otro lugar',\n",
       " 'V505': 'Número de otras esposas',\n",
       " 'V506': 'Número de rango de la esposa',\n",
       " 'V507': 'Mes - Primer matrimonio',\n",
       " 'V508': 'Año - Primer matrimonio',\n",
       " 'V509': 'Fecha del primer matrimonio (CMC)',\n",
       " 'V510': 'Integridad de la información para la fecha de inicio del primer matrimonio o unión',\n",
       " 'V511': 'Edad al primer matrimonio',\n",
       " 'V512': 'Años desde el primer matrimonio',\n",
       " 'V513': 'Duración del matrimonio (agrupado)',\n",
       " 'V525': 'Edad en la primera relación sexual',\n",
       " 'V613': 'Número ideal de niños',\n",
       " 'V714': 'Actualmente se encuentra trabajando',\n",
       " 'V715': 'Educación en años individuales del esposo/compañero'}"
      ]
     },
     "execution_count": 42,
     "metadata": {},
     "output_type": "execute_result"
    }
   ],
   "source": [
    "selected_cols_rec3_1 = rec3_1.columns\n",
    "{ col: var_labels3[ col ] for col in selected_cols_rec3_1 }"
   ]
  },
  {
   "cell_type": "code",
   "execution_count": null,
   "id": "a67e9724",
   "metadata": {},
   "outputs": [],
   "source": []
  },
  {
   "cell_type": "code",
   "execution_count": null,
   "id": "80f11f3a",
   "metadata": {},
   "outputs": [],
   "source": []
  },
  {
   "cell_type": "code",
   "execution_count": null,
   "id": "f115cdb9",
   "metadata": {},
   "outputs": [],
   "source": []
  }
 ],
 "metadata": {
  "kernelspec": {
   "display_name": "Python 3",
   "language": "python",
   "name": "python3"
  },
  "language_info": {
   "codemirror_mode": {
    "name": "ipython",
    "version": 3
   },
   "file_extension": ".py",
   "mimetype": "text/x-python",
   "name": "python",
   "nbconvert_exporter": "python",
   "pygments_lexer": "ipython3",
   "version": "3.8.8"
  }
 },
 "nbformat": 4,
 "nbformat_minor": 5
}
