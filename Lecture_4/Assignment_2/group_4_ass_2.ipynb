{
 "cells": [
  {
   "cell_type": "code",
   "execution_count": null,
   "id": "4f265785",
   "metadata": {},
   "outputs": [],
   "source": [
    "# pip install pyreadstat\n",
    "# pip install savReaderWriter"
   ]
  },
  {
   "cell_type": "code",
   "execution_count": 1,
   "id": "d66ea68d",
   "metadata": {},
   "outputs": [],
   "source": [
    "import os\n",
    "import os\n",
    "import pickle\n",
    "import pandas as pd\n",
    "import numpy as np\n",
    "import urllib.request\n",
    "import pyreadstat\n",
    "import savReaderWriter as sav"
   ]
  },
  {
   "cell_type": "code",
   "execution_count": 2,
   "id": "4744ad98",
   "metadata": {},
   "outputs": [],
   "source": [
    "#Base REC0111\n",
    "rec_1 = pd.read_spss ( r\"..\\..\\_data\\endes\\2019\\REC0111.sav\", usecols=None, convert_categoricals=True )\n",
    "rec_1\n",
    "\n",
    "with sav.SavHeaderReader( r\"..\\..\\_data\\endes\\2019\\REC0111.sav\", ioUtf8=True) as header:\n",
    "    metadata = header.all()\n",
    "    value_labels1 = metadata.valueLabels\n",
    "    var_labels1 = metadata.varLabels"
   ]
  },
  {
   "cell_type": "code",
   "execution_count": 3,
   "id": "c842ba1f",
   "metadata": {},
   "outputs": [],
   "source": [
    "#Base REC0111 - Adding values an var lables\n",
    "rec_1.attrs[ 'value_labels1' ] = metadata.valueLabels\n",
    "rec_1.attrs[ 'var_labels1' ] = metadata.varLabels"
   ]
  },
  {
   "cell_type": "code",
   "execution_count": 4,
   "id": "7b908183",
   "metadata": {},
   "outputs": [],
   "source": [
    "#Base RE223132\n",
    "rec_2 = pd.read_spss ( r\"..\\..\\_data\\endes\\2019\\RE223132.sav\", usecols=None, convert_categoricals=True )\n",
    "rec_2\n",
    "\n",
    "with sav.SavHeaderReader( r\"..\\..\\_data\\endes\\2019\\RE223132.sav\", ioUtf8=True) as header:\n",
    "    metadata = header.all()\n",
    "    value_labels2 = metadata.valueLabels\n",
    "    var_labels2 = metadata.varLabels"
   ]
  },
  {
   "cell_type": "code",
   "execution_count": 5,
   "id": "431afeef",
   "metadata": {},
   "outputs": [],
   "source": [
    "#Base RE223132- Adding values an var lables\n",
    "rec_2.attrs[ 'value_labels2' ] = metadata.valueLabels\n",
    "rec_2.attrs[ 'var_labels2' ] = metadata.varLabels"
   ]
  },
  {
   "cell_type": "code",
   "execution_count": 6,
   "id": "77ac4c22",
   "metadata": {},
   "outputs": [],
   "source": [
    "#Base RE516171\n",
    "rec_3 = pd.read_spss ( r\"..\\..\\_data\\endes\\2019\\RE516171.sav\", usecols=None, convert_categoricals=True )\n",
    "rec_3\n",
    "\n",
    "with sav.SavHeaderReader( r\"..\\..\\_data\\endes\\2019\\RE516171.sav\", ioUtf8=True) as header:\n",
    "    metadata = header.all()\n",
    "    value_labels3 = metadata.valueLabels\n",
    "    var_labels3 = metadata.varLabels"
   ]
  },
  {
   "cell_type": "code",
   "execution_count": 7,
   "id": "91e7e813",
   "metadata": {},
   "outputs": [],
   "source": [
    "#Base RE516171 - Adding values an var lables\n",
    "rec_3.attrs[ 'value_labels3' ] = metadata.valueLabels\n",
    "rec_3.attrs[ 'var_labels3' ] = metadata.varLabels"
   ]
  },
  {
   "cell_type": "code",
   "execution_count": 8,
   "id": "ab7ea70b",
   "metadata": {},
   "outputs": [],
   "source": [
    "#Select columns and update values: rec1_1\n",
    "b1 = ('CASEID', 'V000', 'V001', 'V002', 'V003', 'V004', 'V007', 'V008', 'V009', 'V010', 'V011', 'V012', \n",
    "      'V024','V102', 'V120', 'V121', 'V122', 'V123', 'V124', 'V125', 'V127', 'V133')\n",
    "rec1_1 = rec_1.loc [ :, b1 ]\n",
    "rec1_1\n",
    "\n",
    "new_value_labels1 = { key: value_labels1 [ key ] for key in b1 if key in value_labels1.keys() }\n",
    "new_var_labels1 = { key: var_labels1 [ key ] for key in b1 }"
   ]
  },
  {
   "cell_type": "code",
   "execution_count": 9,
   "id": "34c332b7",
   "metadata": {},
   "outputs": [],
   "source": [
    "#Select columns and update values: rec2_1\n",
    "b2 = ('CASEID', 'V201', 'V218', 'V301', 'V302', 'V323', 'V323A', 'V325A', 'V326', 'V327', 'V337', 'V359', 'V360', \n",
    "                 'V361', 'V362', 'V363', 'V364', 'V367', 'V372', 'V372A', 'V375A', 'V376', 'V376A', 'V379', 'V380')\n",
    "rec2_1 = rec_2.loc [ :, b2 ]\n",
    "rec2_1\n",
    "\n",
    "new_value_labels2 = { key: value_labels2 [ key ] for key in b2 if key in value_labels2.keys() }\n",
    "new_var_labels2 = { key: var_labels2 [ key ] for key in b2 }"
   ]
  },
  {
   "cell_type": "code",
   "execution_count": 10,
   "id": "3e0d93ec",
   "metadata": {},
   "outputs": [],
   "source": [
    "#Select columns and update values: rec3_1\n",
    "b3= ('CASEID', 'V501', 'V502', 'V503', 'V504', 'V505', 'V506', 'V507', 'V508', 'V509', 'V510', \n",
    "                 'V511', 'V512', 'V513', 'V525', 'V613', 'V714', 'V715')\n",
    "rec3_1 = rec_3.loc [ :, b3 ]\n",
    "rec3_1\n",
    "\n",
    "new_value_labels3 = { key: value_labels3 [ key ] for key in b3 if key in value_labels3.keys() }\n",
    "new_var_labels3 = { key: var_labels3 [ key ] for key in b3 }"
   ]
  },
  {
   "cell_type": "code",
   "execution_count": null,
   "id": "37442abd",
   "metadata": {},
   "outputs": [],
   "source": []
  }
 ],
 "metadata": {
  "kernelspec": {
   "display_name": "Python 3",
   "language": "python",
   "name": "python3"
  },
  "language_info": {
   "codemirror_mode": {
    "name": "ipython",
    "version": 3
   },
   "file_extension": ".py",
   "mimetype": "text/x-python",
   "name": "python",
   "nbconvert_exporter": "python",
   "pygments_lexer": "ipython3",
   "version": "3.8.8"
  }
 },
 "nbformat": 4,
 "nbformat_minor": 5
}
