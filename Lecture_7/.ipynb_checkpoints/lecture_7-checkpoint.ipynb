{
 "cells": [
  {
   "cell_type": "markdown",
   "metadata": {},
   "source": [
    "# 7. Web Scraping"
   ]
  },
  {
   "cell_type": "markdown",
   "metadata": {},
   "source": [
    "Web  scraping  is  the  practice  of  gathering  data  through  any  means  otherthan a program interacting with an API (or, obviously, through a human using a webbrowser).  This  is  most  commonly  accomplished  by  writing  an  automated  programthat queries a web server, requests data (usually in the form of the HTML and otherfiles  that  comprise  web  pages),  and  then  parses  that  data  to  extract  needed  information."
   ]
  },
  {
   "cell_type": "markdown",
   "metadata": {},
   "source": [
    "## 7.1 Selenium\n",
    "Selenium automates browsers. That's it! <br>\n",
    "Selenium is a Python library and tool used for automating web browsers to do a number of tasks. One of such is web-scraping to extract useful data and information that may be otherwise unavailable. <br>\n",
    "**For this course, we use Chrome.**"
   ]
  },
  {
   "cell_type": "markdown",
   "metadata": {},
   "source": [
    "### 7.1 Installing Libraries\n",
    "We need to install these two libraries"
   ]
  },
  {
   "cell_type": "code",
   "execution_count": null,
   "metadata": {},
   "outputs": [],
   "source": [
    "!pip install selenium\n",
    "!pip install webdriver-manager"
   ]
  },
  {
   "cell_type": "markdown",
   "metadata": {},
   "source": [
    "### 7.2 Calling Libraries"
   ]
  },
  {
   "cell_type": "code",
   "execution_count": 2,
   "metadata": {},
   "outputs": [],
   "source": [
    "# this library is to manipulate browser\n",
    "from selenium import webdriver\n",
    "\n",
    "# it allows you to work with differen versions of drivers\n",
    "# We call ChromeDriver\n",
    "from webdriver_manager.chrome import ChromeDriverManager"
   ]
  },
  {
   "cell_type": "markdown",
   "metadata": {},
   "source": [
    "### 7.3 Launch Driver\n",
    "This code opens a Chrome Driver. We are going to use it to go navigate on the web."
   ]
  },
  {
   "cell_type": "code",
   "execution_count": 24,
   "metadata": {},
   "outputs": [
    {
     "name": "stderr",
     "output_type": "stream",
     "text": [
      "\n",
      "\n",
      "====== WebDriver manager ======\n",
      "Current google-chrome version is 96.0.4664\n",
      "Get LATEST chromedriver version for 96.0.4664 google-chrome\n",
      "Driver [C:\\Users\\Anzony\\.wdm\\drivers\\chromedriver\\win32\\96.0.4664.45\\chromedriver.exe] found in cache\n"
     ]
    }
   ],
   "source": [
    "driver = webdriver.Chrome( ChromeDriverManager().install() )"
   ]
  },
  {
   "cell_type": "code",
   "execution_count": 25,
   "metadata": {},
   "outputs": [
    {
     "data": {
      "text/plain": [
       "selenium.webdriver.chrome.webdriver.WebDriver"
      ]
     },
     "execution_count": 25,
     "metadata": {},
     "output_type": "execute_result"
    }
   ],
   "source": [
    "type( driver )"
   ]
  },
  {
   "cell_type": "markdown",
   "metadata": {},
   "source": [
    "`driver` is an `selenium.webdriver.chrome.webdriver.WebDriver` object. This object has some attributes that will help us to navigate on the web."
   ]
  },
  {
   "cell_type": "code",
   "execution_count": 26,
   "metadata": {},
   "outputs": [],
   "source": [
    "# we open a page using the link\n",
    "driver.get( \"https://www.convocatoriascas.com/\" )"
   ]
  },
  {
   "cell_type": "markdown",
   "metadata": {},
   "source": [
    "Now, you can see in the driver that we are in [this link](https://www.convocatoriascas.com/)."
   ]
  },
  {
   "cell_type": "markdown",
   "metadata": {},
   "source": [
    "**Best Practices before working**"
   ]
  },
  {
   "cell_type": "markdown",
   "metadata": {},
   "source": [
    "1. Maximize the browser"
   ]
  },
  {
   "cell_type": "code",
   "execution_count": 27,
   "metadata": {},
   "outputs": [],
   "source": [
    "driver.maximize_window()"
   ]
  },
  {
   "cell_type": "markdown",
   "metadata": {},
   "source": [
    "2. Set the Browser Zoom Level to 100 percent"
   ]
  },
  {
   "cell_type": "code",
   "execution_count": 33,
   "metadata": {},
   "outputs": [],
   "source": [
    "driver.execute_script(\"document.body.style.zoom='100%'\")"
   ]
  },
  {
   "cell_type": "markdown",
   "metadata": {},
   "source": [
    "### 7.4. Identifying elements in a web page\n",
    "\n",
    "To identify elements of a webpage, we need to inspect the webpage. Open the driver and press `Ctrl`+ `Shift` + `I`."
   ]
  },
  {
   "cell_type": "markdown",
   "metadata": {},
   "source": [
    "#### One Element\n",
    "|Method|Description|\n",
    "|---|---|\n",
    "|find_element_by_id| Use id.|\n",
    "|find_element_by_name| Use name.|\n",
    "|find_element_by_xpath| Use Xpath.|\n",
    "|find_element_by_tag_name| Use HTML tag.|\n",
    "|find_element_by_class_name| Use class name.|\n",
    "|find_element_by_css_selector| Use css selector.|"
   ]
  },
  {
   "cell_type": "markdown",
   "metadata": {},
   "source": [
    "#### Multiple  elements\n",
    "|Method|Description|\n",
    "|---|---|\n",
    "|find_elements_by_id| Use id.|\n",
    "|find_elements_by_name| Use name.|\n",
    "|find_elements_by_xpath| Use Xpath.|\n",
    "|find_elements_by_tag_name| Use HTML tag.|\n",
    "|find_elements_by_class_name| Use class name.|\n",
    "|find_elements_by_css_selector| Use css selector.|"
   ]
  },
  {
   "cell_type": "markdown",
   "metadata": {},
   "source": [
    "### 7.4.1. Xpath\n",
    "XPath in Selenium is an XML path used for navigation through the HTML structure of the page. It is a syntax or language for finding any element on a web page using XML path expression.\n",
    "\n",
    "The basic format of XPath in selenium is explained below with screen shot.\n",
    "<img src=\"../_images/x_path.png\">"
   ]
  },
  {
   "cell_type": "markdown",
   "metadata": {},
   "source": [
    "**DO NOT COMPLICATE!**\n",
    "Finding the XPath of a element:\n",
    "1. Go to the element\n",
    "2. Right click\n",
    "3. Inspect - You may have to do it twice.\n",
    "4. Go to the selected line\n",
    "5. Right click\n",
    "7. Copy \n",
    "8. Copy Full Xpath"
   ]
  },
  {
   "cell_type": "markdown",
   "metadata": {},
   "source": [
    "**Example**\n",
    "\n",
    "We are going to select `Economistas` option and make a click. Use `find_element_by_xpath` and click."
   ]
  },
  {
   "cell_type": "code",
   "execution_count": 40,
   "metadata": {},
   "outputs": [],
   "source": [
    "economistas_option = driver.find_element_by_xpath( '/html/body/div[2]/div/ul[7]/li[2]/a' )"
   ]
  },
  {
   "cell_type": "code",
   "execution_count": null,
   "metadata": {},
   "outputs": [],
   "source": [
    "# See the object\n",
    "print(economistas_option)"
   ]
  },
  {
   "cell_type": "code",
   "execution_count": 45,
   "metadata": {},
   "outputs": [
    {
     "name": "stdout",
     "output_type": "stream",
     "text": [
      "ECONOMISTAS\n"
     ]
    }
   ],
   "source": [
    "# get the text\n",
    "print( economistas_option.text )"
   ]
  },
  {
   "cell_type": "code",
   "execution_count": 46,
   "metadata": {},
   "outputs": [],
   "source": [
    "# make a click\n",
    "economistas_option.click()"
   ]
  },
  {
   "cell_type": "markdown",
   "metadata": {},
   "source": [
    "### 7.4.1. HTML\n",
    "HTML stands for HyperText Markup Language. You can deduce that it’s a language for creating web pages. It’s not a programming language like Python or Java, but it’s a markup language. It describes the elements of a page through tags characterized by angle brackets.\n",
    "\n",
    "1. The document always begins and ends using `<html>` and `</html>`.\n",
    "2. `<body></body>` constitutes the visible part of HTML document.\n",
    "3. `<h1>` to `<h3>` tags are defined for the headings."
   ]
  },
  {
   "cell_type": "markdown",
   "metadata": {},
   "source": [
    "#### 7.4.1.1. HTML Headings\n",
    "HTML headings are defined with the `<h1>` to `<h6>` tags.\n",
    "`<h1>` defines the most important heading. `<h6>` defines the least important heading.\n",
    "\n",
    "We can use text cells since markdown reads html tags."
   ]
  },
  {
   "cell_type": "markdown",
   "metadata": {},
   "source": [
    "<h1>This is heading 1</h1>\n",
    "<h2>This is heading 2</h2>\n",
    "<h3>This is heading 3</h3>"
   ]
  },
  {
   "cell_type": "markdown",
   "metadata": {},
   "source": [
    "#### 7.4.1.2. HTML Paragraphs\n",
    "HTML paragraphs are defined with the `<p>` tag.\n",
    "`<br>` tag is similar to `\"\\n\"`."
   ]
  },
  {
   "cell_type": "markdown",
   "metadata": {},
   "source": [
    "<br>\n",
    "<p>My first paragraph.</p> <br>\n",
    "<p>This is another paragraph for this text cell.</p>"
   ]
  },
  {
   "cell_type": "markdown",
   "metadata": {},
   "source": [
    "#### 7.4.1.3. HTML Links\n",
    "HTML links are defined with the <a> tag:"
   ]
  },
  {
   "cell_type": "markdown",
   "metadata": {},
   "source": [
    "<a href=\"http://bayes.cs.ucla.edu/jp_home.html\">This is a link for Judea Pearl Website</a>"
   ]
  },
  {
   "cell_type": "markdown",
   "metadata": {},
   "source": [
    "#### 7.4.1.3. Unordered HTML List\n",
    "An unordered list starts with the `<ul>` tag. Each list item starts with the `<li>` tag."
   ]
  },
  {
   "cell_type": "markdown",
   "metadata": {},
   "source": [
    "<ul>\n",
    "  <li>Coffee</li>\n",
    "  <li>Tea</li>\n",
    "  <li>Milk</li>\n",
    "</ul>"
   ]
  },
  {
   "cell_type": "markdown",
   "metadata": {},
   "source": [
    "#### 7.4.1.4. Ordered HTML List\n",
    "An ordered list starts with the `<ol>` tag. Each list item starts with the `<li>` tag."
   ]
  },
  {
   "cell_type": "markdown",
   "metadata": {},
   "source": [
    "<ol>\n",
    "  <li>Coffee</li>\n",
    "  <li>Tea</li>\n",
    "  <li>Milk</li>\n",
    "</ol>"
   ]
  },
  {
   "cell_type": "markdown",
   "metadata": {},
   "source": [
    "#### 7.4.1.4. HTML Tables\n",
    "\n",
    "A table in HTML consists of table cells inside rows and columns. Each table cell is defined by a `<td>` and a `</td>` tag. Each table row starts with a `<tr>` and end with a `</tr>` tag."
   ]
  },
  {
   "cell_type": "markdown",
   "metadata": {},
   "source": [
    "<table>\n",
    "  <tr>\n",
    "    <th>Manager</th>\n",
    "    <th>Club</th>\n",
    "    <th>Nationality</th>\n",
    "  </tr>\n",
    "  <tr>\n",
    "    <td>Mikel Arteta</td>\n",
    "    <td>Arsenal</td>\n",
    "    <td>Spain</td>\n",
    "  </tr>\n",
    "  <tr>\n",
    "    <td>Thomas Tuchel</td>\n",
    "    <td>Chelsea</td>\n",
    "    <td>Germany</td>\n",
    "  </tr>\n",
    "</table>"
   ]
  },
  {
   "cell_type": "markdown",
   "metadata": {},
   "source": [
    "#### 7.4.1.5. HTML Iframes\n",
    "\n",
    "An HTML iframe is used to display a web page within a web page."
   ]
  },
  {
   "cell_type": "markdown",
   "metadata": {},
   "source": [
    "\n",
    "<!DOCTYPE html>\n",
    "<html>\n",
    "  \n",
    "<head>\n",
    "    <title>HTML iframe src Attribute</title>\n",
    "</head>\n",
    "  \n",
    "<body style=\"text-align: center\">\n",
    "    <h1>Diploma</h1>\n",
    "    <h2>HTML iframe</h2>\n",
    "    <iframe>\n",
    "          \n",
    "        <!DOCTYPE html>\n",
    "        <html>\n",
    "\n",
    "        <head>\n",
    "            <title>New html</title>\n",
    "        </head>\n",
    "\n",
    "        <body style=\"text-align: center\">\n",
    "            <h1>Diploma2</h1>\n",
    "            <h2>HTML iframe</h2>\n",
    "            <iframe>\n",
    "\n",
    "            </iframe>\n",
    "        </body>\n",
    "\n",
    "        </html>\n",
    "    </iframe>\n",
    "</body>\n",
    "  \n",
    "</html>"
   ]
  },
  {
   "cell_type": "markdown",
   "metadata": {},
   "source": [
    "#### 7.4.1.6. HTML Tags - Key"
   ]
  },
  {
   "cell_type": "markdown",
   "metadata": {},
   "source": [
    "|Tag|Description|\n",
    "|---|---|\n",
    "|`<h1>` to `<h6>`|\tDefines HTML headings|\n",
    "|`<ul>`|\tDefines an unordered list|\n",
    "|`<ol>`|\tDefines an ordered list|\n",
    "|`<p>`|\tDefines a paragraph|\n",
    "|`<a>`|\tIt is termed as anchor tag and it creates a hyperlink or link.|\n",
    "|`<div>`|\tIt defines a division or section within HTML document.|\n",
    "|`<strong>`|\tIt is used to define important text.|\n",
    "|`<table>`|\tIt is used to present data in tabular form or to create a table within HTML document.|\n",
    "|`<td>`|\tIt is used to define cells of an HTML table which contains table data|\n",
    "|`<iframe>`|\tDefines an inline frame|"
   ]
  },
  {
   "cell_type": "markdown",
   "metadata": {},
   "source": [
    "**Recomendation** <br>\n",
    "We do not recomend to use `tag` at first time since most web pages use nested tags and it is difficult to define a element using HTML tag. However, it is great to find elements that is inside another located element in the web. Let's see the example."
   ]
  },
  {
   "cell_type": "markdown",
   "metadata": {},
   "source": [
    "Select the first block and take it using Xpath."
   ]
  },
  {
   "cell_type": "code",
   "execution_count": 47,
   "metadata": {},
   "outputs": [],
   "source": [
    "block1 = driver.find_element_by_xpath( \"/html/body/section/section[1]/article[1]/div[2]\" )"
   ]
  },
  {
   "cell_type": "markdown",
   "metadata": {},
   "source": [
    "From this block, we select the `h2` tag and all the `p` tags. We need to use `find_element_by_tag_name`. <br>\n",
    "We are selecting the unique `h2` inside the already selected `block1`."
   ]
  },
  {
   "cell_type": "code",
   "execution_count": 51,
   "metadata": {},
   "outputs": [],
   "source": [
    "# select tag\n",
    "h2_tag = block1.find_element_by_tag_name( 'h2' )"
   ]
  },
  {
   "cell_type": "code",
   "execution_count": 52,
   "metadata": {},
   "outputs": [
    {
     "data": {
      "text/plain": [
       "'CONVOCATORIA DEVIDA [SERVICIO CIVIL]: 1 Plaza - Economía, Administración, Derecho, Sociología, Antropología, Otros'"
      ]
     },
     "execution_count": 52,
     "metadata": {},
     "output_type": "execute_result"
    }
   ],
   "source": [
    "# print text\n",
    "h2_tag.text"
   ]
  },
  {
   "cell_type": "code",
   "execution_count": 55,
   "metadata": {},
   "outputs": [
    {
     "data": {
      "text/plain": [
       "3"
      ]
     },
     "execution_count": 55,
     "metadata": {},
     "output_type": "execute_result"
    }
   ],
   "source": [
    "# select all p tags in block1\n",
    "p_tags = block1.find_elements_by_tag_name( 'p' )\n",
    "len( p_tags )\n",
    "# There are three `p` tags in block1"
   ]
  },
  {
   "cell_type": "code",
   "execution_count": 57,
   "metadata": {},
   "outputs": [],
   "source": [
    "# store all `p` tags\n",
    "p_tags_text = []\n",
    "for p in p_tags:\n",
    "    p_tags_text.append( p.text )"
   ]
  },
  {
   "cell_type": "code",
   "execution_count": 58,
   "metadata": {},
   "outputs": [
    {
     "data": {
      "text/plain": [
       "['Entidad: DEVIDA',\n",
       " 'Departamentos: Cusco',\n",
       " 'Remuneración: S/. 12,214.29 Soles']"
      ]
     },
     "execution_count": 58,
     "metadata": {},
     "output_type": "execute_result"
    }
   ],
   "source": [
    "p_tags_text"
   ]
  },
  {
   "cell_type": "markdown",
   "metadata": {},
   "source": [
    "## 7.5 Cleaning Results - Regex\n",
    "A RegEx, or Regular Expression, is a sequence of characters that forms a search pattern. We suggest you to use [this link](https://regex101.com/r/yzMkTg/1). It can help you te get the right regex pattern.\n",
    "\n",
    "|Method|\tDescription|\n",
    "|---|---|\n",
    "|findall|\tReturns a list containing all matches|\n",
    "|search|\tReturns a Match object if there is a match anywhere in the string|\n",
    "|split|\tReturns a list where the string has been split at each match|\n",
    "|sub|\tReplaces one or many matches with a string|\n",
    "|match|Python will search the regular expression pattern and return the first occurrence. |"
   ]
  },
  {
   "cell_type": "markdown",
   "metadata": {},
   "source": [
    "\n",
    "|Character|Description|\n",
    "|---|---|\n",
    "|[]|\tA set of characters|\n",
    "|\\\t|Signals a special sequence (can also be used to escape special characters)|\n",
    "|.\t|Any character (except newline character)|\n",
    "|^\t|Starts with|\n",
    "|$\t|Ends with\t|\n",
    "|*\t|Zero or more occurrences|\n",
    "|+\t|One or more occurrences\t|\n",
    "|?\t|Zero or one occurrences\t|\n",
    "|{}|\tExactly the specified number of occurrences|\n",
    "||\t|Either or\t|\n",
    "|()|\tCapture and group|"
   ]
  },
  {
   "cell_type": "markdown",
   "metadata": {},
   "source": [
    "**Examples**\n",
    "\n",
    "We want to get text before and after `:`."
   ]
  },
  {
   "cell_type": "code",
   "execution_count": 71,
   "metadata": {},
   "outputs": [],
   "source": [
    "import re"
   ]
  },
  {
   "cell_type": "code",
   "execution_count": 95,
   "metadata": {},
   "outputs": [],
   "source": [
    "string1 = p_tags_text[0]"
   ]
  },
  {
   "cell_type": "markdown",
   "metadata": {},
   "source": [
    "**Look ahead**"
   ]
  },
  {
   "cell_type": "code",
   "execution_count": 96,
   "metadata": {},
   "outputs": [],
   "source": [
    "# find elements after :\n",
    "ahead = re.search( \"(?<=:).+\", string1 )"
   ]
  },
  {
   "cell_type": "code",
   "execution_count": 99,
   "metadata": {},
   "outputs": [
    {
     "data": {
      "text/plain": [
       "' DEVIDA'"
      ]
     },
     "execution_count": 99,
     "metadata": {},
     "output_type": "execute_result"
    }
   ],
   "source": [
    "# we want to find the string after :\n",
    "ahead.group(0)"
   ]
  },
  {
   "cell_type": "markdown",
   "metadata": {},
   "source": [
    "**Look behind**"
   ]
  },
  {
   "cell_type": "code",
   "execution_count": 100,
   "metadata": {},
   "outputs": [],
   "source": [
    "# find elements after :\n",
    "behind = re.search( \".+(?=:)\", string1 )"
   ]
  },
  {
   "cell_type": "code",
   "execution_count": 102,
   "metadata": {},
   "outputs": [
    {
     "data": {
      "text/plain": [
       "'Entidad'"
      ]
     },
     "execution_count": 102,
     "metadata": {},
     "output_type": "execute_result"
    }
   ],
   "source": [
    "behind.group(0)"
   ]
  },
  {
   "cell_type": "markdown",
   "metadata": {},
   "source": [
    "**Split**"
   ]
  },
  {
   "cell_type": "code",
   "execution_count": 103,
   "metadata": {},
   "outputs": [
    {
     "data": {
      "text/plain": [
       "['Entidad', ' DEVIDA']"
      ]
     },
     "execution_count": 103,
     "metadata": {},
     "output_type": "execute_result"
    }
   ],
   "source": [
    "re.split( \":\", string1 )"
   ]
  },
  {
   "cell_type": "markdown",
   "metadata": {},
   "source": [
    "**Get all numbers**"
   ]
  },
  {
   "cell_type": "code",
   "execution_count": 104,
   "metadata": {},
   "outputs": [
    {
     "data": {
      "text/plain": [
       "'Remuneración: S/. 12,214.29 Soles'"
      ]
     },
     "execution_count": 104,
     "metadata": {},
     "output_type": "execute_result"
    }
   ],
   "source": [
    "string2 = p_tags_text[ -1 ]\n",
    "string2"
   ]
  },
  {
   "cell_type": "code",
   "execution_count": 117,
   "metadata": {},
   "outputs": [
    {
     "data": {
      "text/plain": [
       "['12', '214', '29']"
      ]
     },
     "execution_count": 117,
     "metadata": {},
     "output_type": "execute_result"
    }
   ],
   "source": [
    "# we get all numbers, but not in the right form\n",
    "re.findall( \"[0-9]+\", string2 )"
   ]
  },
  {
   "cell_type": "markdown",
   "metadata": {},
   "source": [
    "**Getting salary with decimals**"
   ]
  },
  {
   "cell_type": "code",
   "execution_count": 122,
   "metadata": {},
   "outputs": [
    {
     "data": {
      "text/plain": [
       "'12214.29'"
      ]
     },
     "execution_count": 122,
     "metadata": {},
     "output_type": "execute_result"
    }
   ],
   "source": [
    "salary = \"\".join( re.findall( \"(\\d+(?:\\.\\d+)?)\" , string2 ) )\n",
    "salary"
   ]
  },
  {
   "cell_type": "markdown",
   "metadata": {},
   "source": [
    "**Cleaning strings**"
   ]
  },
  {
   "cell_type": "code",
   "execution_count": 186,
   "metadata": {},
   "outputs": [
    {
     "data": {
      "text/plain": [
       "'Nanuua'"
      ]
     },
     "execution_count": 186,
     "metadata": {},
     "output_type": "execute_result"
    }
   ],
   "source": [
    "import unidecode\n",
    "string_spanish = \"Ñañúüá\"\n",
    "unaccented_string = unidecode.unidecode(string_spanish)\n",
    "unaccented_string"
   ]
  },
  {
   "cell_type": "markdown",
   "metadata": {},
   "source": [
    "## 7.6 Practice\n",
    "We are going to get all job posts for economists."
   ]
  },
  {
   "cell_type": "markdown",
   "metadata": {},
   "source": [
    "### 7.6.1. First Option - Using Loop"
   ]
  },
  {
   "cell_type": "code",
   "execution_count": 150,
   "metadata": {},
   "outputs": [
    {
     "name": "stderr",
     "output_type": "stream",
     "text": [
      "\n",
      "\n",
      "====== WebDriver manager ======\n",
      "Current google-chrome version is 96.0.4664\n",
      "Get LATEST chromedriver version for 96.0.4664 google-chrome\n",
      "Driver [C:\\Users\\Anzony\\.wdm\\drivers\\chromedriver\\win32\\96.0.4664.45\\chromedriver.exe] found in cache\n",
      "<ipython-input-150-cb22c38eca63>:7: DeprecationWarning: use options instead of chrome_options\n",
      "  driver = webdriver.Chrome( ChromeDriverManager().install(),chrome_options=option )\n"
     ]
    }
   ],
   "source": [
    "from selenium.webdriver.chrome.options import Options\n",
    "\n",
    "option = Options()\n",
    "option.add_argument(\"--disable-infobars\")\n",
    "\n",
    "# open driver\n",
    "driver = webdriver.Chrome( ChromeDriverManager().install(),chrome_options=option )\n",
    "\n",
    "# we open our page\n",
    "driver.get(\"https://www.convocatoriascas.com/\")\n",
    "\n",
    "# good practices\n",
    "driver.maximize_window()\n",
    "driver.execute_script(\"document.body.style.zoom='100%'\")\n",
    "\n",
    "# Click on economics\n",
    "driver.find_element_by_xpath('//*[@id=\"superior_cont\"]/ul[7]/li[2]/a').click()"
   ]
  },
  {
   "cell_type": "markdown",
   "metadata": {},
   "source": [
    "Dealing with advertisement. "
   ]
  },
  {
   "cell_type": "markdown",
   "metadata": {},
   "source": [
    "Sometimes, we deal with iframe html advertisements. The advertisement does not always pop up. We use try."
   ]
  },
  {
   "cell_type": "code",
   "execution_count": 154,
   "metadata": {},
   "outputs": [
    {
     "name": "stdout",
     "output_type": "stream",
     "text": [
      "No advertisement\n"
     ]
    }
   ],
   "source": [
    "try:\n",
    "    # id of selected ifram\n",
    "    iframe = driver.find_element_by_id('aswift_5')\n",
    "    # click on iframe\n",
    "    driver.switch_to.frame(iframe)\n",
    "    # click on close button\n",
    "    driver.find_element_by_id( \"dismiss-button\" ).click()\n",
    "    # siwtch to default html\n",
    "    driver.switch_to.default_content()\n",
    "except:\n",
    "    print(\"No advertisement\")"
   ]
  },
  {
   "cell_type": "code",
   "execution_count": 152,
   "metadata": {},
   "outputs": [],
   "source": [
    "# click on economists\n",
    "driver.find_element_by_xpath('//*[@id=\"superior_cont\"]/ul[7]/li[2]/a').click()"
   ]
  },
  {
   "cell_type": "code",
   "execution_count": 155,
   "metadata": {},
   "outputs": [],
   "source": [
    "# getting one two job posting\n",
    "first_post = driver.find_element_by_xpath( \"/html/body/section/section[1]/article[1]/div[2]\" )"
   ]
  },
  {
   "cell_type": "code",
   "execution_count": 159,
   "metadata": {},
   "outputs": [],
   "source": [
    "# get post information\n",
    "p_tags = first_post.find_elements_by_tag_name( 'p' )\n"
   ]
  },
  {
   "cell_type": "code",
   "execution_count": 167,
   "metadata": {},
   "outputs": [
    {
     "data": {
      "text/plain": [
       "'Entidad: DEVIDA'"
      ]
     },
     "execution_count": 167,
     "metadata": {},
     "output_type": "execute_result"
    }
   ],
   "source": [
    "#Storing information\n",
    "string1 =  p_tags[0].text\n",
    "string1"
   ]
  },
  {
   "cell_type": "code",
   "execution_count": 166,
   "metadata": {},
   "outputs": [
    {
     "data": {
      "text/plain": [
       "'Entidad'"
      ]
     },
     "execution_count": 166,
     "metadata": {},
     "output_type": "execute_result"
    }
   ],
   "source": [
    "# Getting behind :\n",
    "behind = re.search( \".+(?=:)\", string1 )\n",
    "behind.group( 0 )"
   ]
  },
  {
   "cell_type": "code",
   "execution_count": 175,
   "metadata": {},
   "outputs": [
    {
     "data": {
      "text/plain": [
       "'DEVIDA'"
      ]
     },
     "execution_count": 175,
     "metadata": {},
     "output_type": "execute_result"
    }
   ],
   "source": [
    "# Getting ahead :\n",
    "ahead = re.search( \"(?<=:).+\", string1 )\n",
    "clean_ahead = ahead.group( 0 ).lstrip()\n",
    "clean_ahead"
   ]
  },
  {
   "cell_type": "code",
   "execution_count": 189,
   "metadata": {},
   "outputs": [],
   "source": [
    "# Loop over all p storing in dictionary\n",
    "post_info = {}\n",
    "for p in p_tags:\n",
    "    string1 = p.text\n",
    "    \n",
    "    # Getting behind :\n",
    "    behind = re.search( \".+(?=:)\", string1 )\n",
    "    key = behind.group( 0 ).lower()\n",
    "    key = unidecode.unidecode( key )\n",
    "    \n",
    "    # Getting ahead :\n",
    "    ahead = re.search( \"(?<=:).+\", string1 )\n",
    "    clean_ahead = ahead.group( 0 ).lstrip().lower()\n",
    "    value = clean_ahead\n",
    "    value = unidecode.unidecode( value )\n",
    "    \n",
    "    # clean salary\n",
    "    \n",
    "    # storing in dictionary\n",
    "    post_info[ key ] = value"
   ]
  },
  {
   "cell_type": "markdown",
   "metadata": {},
   "source": [
    "Loop over all job posts\n",
    "\n",
    "We see the following common format for each job post.\n",
    "\n",
    "`/html/body/section/section[1]/article[3]/div[2]`\n",
    "`/html/body/section/section[1]/article[4]/div[2]`\n",
    "`/html/body/section/section[1]/article[5]/div[2]`\n",
    "\n",
    "We loop over all articles. We do not know how many articles we will find. We are going to use a while loop."
   ]
  },
  {
   "cell_type": "code",
   "execution_count": 191,
   "metadata": {},
   "outputs": [],
   "source": [
    "# iterator\n",
    "i = 3\n",
    "# we will iterate in the number of articles\n",
    "\n",
    "# dfining while loop\n",
    "box = \"there is an article\"\n",
    "\n",
    "# List to store all job post information\n",
    "job_publication = []\n",
    "while box != 0:\n",
    "    try:\n",
    "        # get job post\n",
    "        job_post = driver.find_element_by_xpath( f\"/html/body/section/section[1]/article[{i}]/div[2]\" )\n",
    "        \n",
    "        # get post information\n",
    "        p_tags = job_post.find_elements_by_tag_name( 'p' )\n",
    "        \n",
    "        # Loop over all p storing in dictionary\n",
    "        post_info = {}\n",
    "        for p in p_tags:\n",
    "            string1 = p.text\n",
    "\n",
    "            # Getting behind :\n",
    "            behind = re.search( \".+(?=:)\", string1 )\n",
    "            key = behind.group( 0 ).lower()\n",
    "            key = unidecode.unidecode( key )\n",
    "\n",
    "            # Getting ahead :\n",
    "            ahead = re.search( \"(?<=:).+\", string1 )\n",
    "            clean_ahead = ahead.group( 0 ).lstrip().lower()\n",
    "            value = clean_ahead\n",
    "            value = unidecode.unidecode( value )\n",
    "\n",
    "            # storing in dictionary\n",
    "            post_info[ key ] = value\n",
    "        \n",
    "        # store job post\n",
    "        job_publication.append( post_info )\n",
    "    except:\n",
    "        # break code\n",
    "        box = 0 \n",
    "        \n",
    "    # add value to iteration \n",
    "    # go to the next article\n",
    "    i = i + 1 "
   ]
  },
  {
   "cell_type": "code",
   "execution_count": 192,
   "metadata": {},
   "outputs": [
    {
     "data": {
      "text/plain": [
       "[{'entidad': 'autoridad portuaria(apn)',\n",
       "  'departamentos': 'callao',\n",
       "  'remuneracion': 's/. 7000 soles'},\n",
       " {'entidad': 'osce',\n",
       "  'departamentos': 'lima',\n",
       "  'remuneracion': 's/. 5500 soles'},\n",
       " {'entidad': 'onp',\n",
       "  'departamentos': 'arequipa, ica, junin, la libertad, lambayeque, lima, piura',\n",
       "  'remuneracion': 'entre s/. 1,885.71 y s/. 7,778.57 soles'},\n",
       " {'entidad': 'universidad nacional de frontera de sullana',\n",
       "  'departamentos': 'piura',\n",
       "  'remuneracion': 'entre s/. 3658 y s/. 7557,32 soles'},\n",
       " {'entidad': 'unsaac',\n",
       "  'departamentos': 'cusco',\n",
       "  'remuneracion': 'no especifica'},\n",
       " {'entidad': 'onp',\n",
       "  'departamentos': 'lima, pasco',\n",
       "  'remuneracion': 'entre s/. 3,407.14 y s/. 10,517.86 soles'},\n",
       " {'entidad': 'defensoria del pueblo',\n",
       "  'departamentos': 'lima',\n",
       "  'remuneracion': 's/. 7000 soles'},\n",
       " {'entidad': 'essalud',\n",
       "  'departamentos': 'ancash, arequipa, ayacucho, cajamarca, lima, moquegua, pasco',\n",
       "  'remuneracion': 'entre s/. 2276 y s/. 6240 soles'},\n",
       " {'entidad': 'superintendencia mercado valores(smv)',\n",
       "  'departamentos': 'lima',\n",
       "  'remuneracion': 's/. 6342 soles'},\n",
       " {'entidad': 'sis',\n",
       "  'departamentos': 'ayacucho, huanuco, lima, loreto, moquegua, piura, san martin, tacna',\n",
       "  'remuneracion': 'entre s/. 2000 y s/. 5400 soles'},\n",
       " {'entidad': 'poder judicial del peru',\n",
       "  'departamentos': 'arequipa',\n",
       "  'remuneracion': 'entre s/. 1300 y s/. 3722 soles'},\n",
       " {'entidad': 'senace',\n",
       "  'departamentos': 'lima',\n",
       "  'remuneracion': 's/. 9000 soles'},\n",
       " {'entidad': 'provias descentralizado',\n",
       "  'departamentos': 'lima',\n",
       "  'remuneracion': 's/. 3800 y s/. 6300 soles'},\n",
       " {'entidad': 'sunarp',\n",
       "  'departamentos': 'quillabamba - cusco',\n",
       "  'remuneracion': 's/. 3400 soles'},\n",
       " {'entidad': 'onpe',\n",
       "  'departamentos': 'lima',\n",
       "  'remuneracion': 'entre s/. 6150 y s/. 10750 soles'},\n",
       " {'entidad': 'banco agropecuario - agrobanco',\n",
       "  'departamentos': 'lima',\n",
       "  'remuneracion': 'no especifica'},\n",
       " {'entidad': 'universidad nacional de trujillo',\n",
       "  'departamentos': 'trujillo - la libertad',\n",
       "  'remuneracion': 'entre s/. 914.50 y s/. 7,557.32 soles'}]"
      ]
     },
     "execution_count": 192,
     "metadata": {},
     "output_type": "execute_result"
    }
   ],
   "source": [
    "job_publication"
   ]
  },
  {
   "cell_type": "code",
   "execution_count": 196,
   "metadata": {},
   "outputs": [],
   "source": [
    "# checking all posts have the same information\n",
    "# look at the keys of all dictionaries\n",
    "expected_keys = {'departamentos', 'entidad', 'remuneracion'}"
   ]
  },
  {
   "cell_type": "code",
   "execution_count": 197,
   "metadata": {},
   "outputs": [
    {
     "name": "stdout",
     "output_type": "stream",
     "text": [
      "Post 0 have the expected keys : True\n",
      "Post 1 have the expected keys : True\n",
      "Post 2 have the expected keys : True\n",
      "Post 3 have the expected keys : True\n",
      "Post 4 have the expected keys : True\n",
      "Post 5 have the expected keys : True\n",
      "Post 6 have the expected keys : True\n",
      "Post 7 have the expected keys : True\n",
      "Post 8 have the expected keys : True\n",
      "Post 9 have the expected keys : True\n",
      "Post 10 have the expected keys : True\n",
      "Post 11 have the expected keys : True\n",
      "Post 12 have the expected keys : True\n",
      "Post 13 have the expected keys : True\n",
      "Post 14 have the expected keys : True\n",
      "Post 15 have the expected keys : True\n",
      "Post 16 have the expected keys : True\n"
     ]
    }
   ],
   "source": [
    "# compare with information collected\n",
    "total_posts = len( job_publication )\n",
    "for i in range( total_posts ):\n",
    "    \n",
    "    #dict informtion\n",
    "    dict_info = job_publication[ i ]\n",
    "    \n",
    "    # get boolean value\n",
    "    value = expected_keys == set( dict_info.keys() )\n",
    "    \n",
    "    # print value\n",
    "    print( f\"Post { i } have the expected keys : { value }\")\n",
    "    "
   ]
  },
  {
   "cell_type": "code",
   "execution_count": 199,
   "metadata": {},
   "outputs": [],
   "source": [
    "# we have check all posts have the same information\n",
    "# store in a pd.DataFrame\n",
    "data_dict = { \n",
    "                'Departament' : [],\n",
    "                \"Entity\" : [] ,\n",
    "                \"Salary\" : []\n",
    "            }\n",
    "\n",
    "for i in range( total_posts ):\n",
    "    \n",
    "    #dict informtion\n",
    "    dict_info = job_publication[ i ]\n",
    "    \n",
    "    dpt = dict_info['departamentos']\n",
    "    entity = dict_info['entidad']\n",
    "    salary = dict_info['remuneracion']\n",
    "    \n",
    "    # get boolean value\n",
    "    data_dict[ 'Departament' ].append( dpt )\n",
    "    data_dict[ 'Entity' ].append( entity )\n",
    "    data_dict[ 'Salary' ].append( salary )"
   ]
  },
  {
   "cell_type": "code",
   "execution_count": 207,
   "metadata": {},
   "outputs": [
    {
     "data": {
      "text/html": [
       "<div>\n",
       "<style scoped>\n",
       "    .dataframe tbody tr th:only-of-type {\n",
       "        vertical-align: middle;\n",
       "    }\n",
       "\n",
       "    .dataframe tbody tr th {\n",
       "        vertical-align: top;\n",
       "    }\n",
       "\n",
       "    .dataframe thead th {\n",
       "        text-align: right;\n",
       "    }\n",
       "</style>\n",
       "<table border=\"1\" class=\"dataframe\">\n",
       "  <thead>\n",
       "    <tr style=\"text-align: right;\">\n",
       "      <th></th>\n",
       "      <th>Departament</th>\n",
       "      <th>Entity</th>\n",
       "      <th>Salary</th>\n",
       "    </tr>\n",
       "  </thead>\n",
       "  <tbody>\n",
       "    <tr>\n",
       "      <th>0</th>\n",
       "      <td>callao</td>\n",
       "      <td>autoridad portuaria(apn)</td>\n",
       "      <td>s/. 7000 soles</td>\n",
       "    </tr>\n",
       "    <tr>\n",
       "      <th>1</th>\n",
       "      <td>lima</td>\n",
       "      <td>osce</td>\n",
       "      <td>s/. 5500 soles</td>\n",
       "    </tr>\n",
       "    <tr>\n",
       "      <th>2</th>\n",
       "      <td>arequipa, ica, junin, la libertad, lambayeque,...</td>\n",
       "      <td>onp</td>\n",
       "      <td>entre s/. 1,885.71 y s/. 7,778.57 soles</td>\n",
       "    </tr>\n",
       "    <tr>\n",
       "      <th>3</th>\n",
       "      <td>piura</td>\n",
       "      <td>universidad nacional de frontera de sullana</td>\n",
       "      <td>entre s/. 3658 y s/. 7557,32 soles</td>\n",
       "    </tr>\n",
       "    <tr>\n",
       "      <th>4</th>\n",
       "      <td>cusco</td>\n",
       "      <td>unsaac</td>\n",
       "      <td>no especifica</td>\n",
       "    </tr>\n",
       "    <tr>\n",
       "      <th>5</th>\n",
       "      <td>lima, pasco</td>\n",
       "      <td>onp</td>\n",
       "      <td>entre s/. 3,407.14 y s/. 10,517.86 soles</td>\n",
       "    </tr>\n",
       "    <tr>\n",
       "      <th>6</th>\n",
       "      <td>lima</td>\n",
       "      <td>defensoria del pueblo</td>\n",
       "      <td>s/. 7000 soles</td>\n",
       "    </tr>\n",
       "    <tr>\n",
       "      <th>7</th>\n",
       "      <td>ancash, arequipa, ayacucho, cajamarca, lima, m...</td>\n",
       "      <td>essalud</td>\n",
       "      <td>entre s/. 2276 y s/. 6240 soles</td>\n",
       "    </tr>\n",
       "    <tr>\n",
       "      <th>8</th>\n",
       "      <td>lima</td>\n",
       "      <td>superintendencia mercado valores(smv)</td>\n",
       "      <td>s/. 6342 soles</td>\n",
       "    </tr>\n",
       "    <tr>\n",
       "      <th>9</th>\n",
       "      <td>ayacucho, huanuco, lima, loreto, moquegua, piu...</td>\n",
       "      <td>sis</td>\n",
       "      <td>entre s/. 2000 y s/. 5400 soles</td>\n",
       "    </tr>\n",
       "    <tr>\n",
       "      <th>10</th>\n",
       "      <td>arequipa</td>\n",
       "      <td>poder judicial del peru</td>\n",
       "      <td>entre s/. 1300 y s/. 3722 soles</td>\n",
       "    </tr>\n",
       "    <tr>\n",
       "      <th>11</th>\n",
       "      <td>lima</td>\n",
       "      <td>senace</td>\n",
       "      <td>s/. 9000 soles</td>\n",
       "    </tr>\n",
       "    <tr>\n",
       "      <th>12</th>\n",
       "      <td>lima</td>\n",
       "      <td>provias descentralizado</td>\n",
       "      <td>s/. 3800 y s/. 6300 soles</td>\n",
       "    </tr>\n",
       "    <tr>\n",
       "      <th>13</th>\n",
       "      <td>quillabamba - cusco</td>\n",
       "      <td>sunarp</td>\n",
       "      <td>s/. 3400 soles</td>\n",
       "    </tr>\n",
       "    <tr>\n",
       "      <th>14</th>\n",
       "      <td>lima</td>\n",
       "      <td>onpe</td>\n",
       "      <td>entre s/. 6150 y s/. 10750 soles</td>\n",
       "    </tr>\n",
       "    <tr>\n",
       "      <th>15</th>\n",
       "      <td>lima</td>\n",
       "      <td>banco agropecuario - agrobanco</td>\n",
       "      <td>no especifica</td>\n",
       "    </tr>\n",
       "    <tr>\n",
       "      <th>16</th>\n",
       "      <td>trujillo - la libertad</td>\n",
       "      <td>universidad nacional de trujillo</td>\n",
       "      <td>entre s/. 914.50 y s/. 7,557.32 soles</td>\n",
       "    </tr>\n",
       "  </tbody>\n",
       "</table>\n",
       "</div>"
      ],
      "text/plain": [
       "                                          Departament  \\\n",
       "0                                              callao   \n",
       "1                                                lima   \n",
       "2   arequipa, ica, junin, la libertad, lambayeque,...   \n",
       "3                                               piura   \n",
       "4                                               cusco   \n",
       "5                                         lima, pasco   \n",
       "6                                                lima   \n",
       "7   ancash, arequipa, ayacucho, cajamarca, lima, m...   \n",
       "8                                                lima   \n",
       "9   ayacucho, huanuco, lima, loreto, moquegua, piu...   \n",
       "10                                           arequipa   \n",
       "11                                               lima   \n",
       "12                                               lima   \n",
       "13                                quillabamba - cusco   \n",
       "14                                               lima   \n",
       "15                                               lima   \n",
       "16                             trujillo - la libertad   \n",
       "\n",
       "                                         Entity  \\\n",
       "0                      autoridad portuaria(apn)   \n",
       "1                                          osce   \n",
       "2                                           onp   \n",
       "3   universidad nacional de frontera de sullana   \n",
       "4                                        unsaac   \n",
       "5                                           onp   \n",
       "6                         defensoria del pueblo   \n",
       "7                                       essalud   \n",
       "8         superintendencia mercado valores(smv)   \n",
       "9                                           sis   \n",
       "10                      poder judicial del peru   \n",
       "11                                       senace   \n",
       "12                      provias descentralizado   \n",
       "13                                       sunarp   \n",
       "14                                         onpe   \n",
       "15               banco agropecuario - agrobanco   \n",
       "16             universidad nacional de trujillo   \n",
       "\n",
       "                                      Salary  \n",
       "0                             s/. 7000 soles  \n",
       "1                             s/. 5500 soles  \n",
       "2    entre s/. 1,885.71 y s/. 7,778.57 soles  \n",
       "3         entre s/. 3658 y s/. 7557,32 soles  \n",
       "4                              no especifica  \n",
       "5   entre s/. 3,407.14 y s/. 10,517.86 soles  \n",
       "6                             s/. 7000 soles  \n",
       "7            entre s/. 2276 y s/. 6240 soles  \n",
       "8                             s/. 6342 soles  \n",
       "9            entre s/. 2000 y s/. 5400 soles  \n",
       "10           entre s/. 1300 y s/. 3722 soles  \n",
       "11                            s/. 9000 soles  \n",
       "12                 s/. 3800 y s/. 6300 soles  \n",
       "13                            s/. 3400 soles  \n",
       "14          entre s/. 6150 y s/. 10750 soles  \n",
       "15                             no especifica  \n",
       "16     entre s/. 914.50 y s/. 7,557.32 soles  "
      ]
     },
     "execution_count": 207,
     "metadata": {},
     "output_type": "execute_result"
    }
   ],
   "source": [
    "import pandas as pd\n",
    "\n",
    "job_posts_economists = pd.DataFrame( data_dict )\n",
    "\n",
    "job_posts_economists"
   ]
  },
  {
   "cell_type": "code",
   "execution_count": 206,
   "metadata": {},
   "outputs": [],
   "source": [
    "# save in a excel file\n",
    "job_posts_economists.to_excel( r'../_data/job_posts_result.xlsx' )"
   ]
  },
  {
   "cell_type": "markdown",
   "metadata": {},
   "source": [
    "### 7.6.2. First Option - Using Article"
   ]
  },
  {
   "cell_type": "code",
   "execution_count": 208,
   "metadata": {},
   "outputs": [
    {
     "name": "stderr",
     "output_type": "stream",
     "text": [
      "\n",
      "\n",
      "====== WebDriver manager ======\n",
      "Current google-chrome version is 96.0.4664\n",
      "Get LATEST chromedriver version for 96.0.4664 google-chrome\n",
      "Driver [C:\\Users\\Anzony\\.wdm\\drivers\\chromedriver\\win32\\96.0.4664.45\\chromedriver.exe] found in cache\n",
      "<ipython-input-208-cb22c38eca63>:7: DeprecationWarning: use options instead of chrome_options\n",
      "  driver = webdriver.Chrome( ChromeDriverManager().install(),chrome_options=option )\n"
     ]
    }
   ],
   "source": [
    "from selenium.webdriver.chrome.options import Options\n",
    "\n",
    "option = Options()\n",
    "option.add_argument(\"--disable-infobars\")\n",
    "\n",
    "# open driver\n",
    "driver = webdriver.Chrome( ChromeDriverManager().install(),chrome_options=option )\n",
    "\n",
    "# we open our page\n",
    "driver.get(\"https://www.convocatoriascas.com/\")\n",
    "\n",
    "# good practices\n",
    "driver.maximize_window()\n",
    "driver.execute_script(\"document.body.style.zoom='100%'\")\n",
    "\n",
    "# Click on economics\n",
    "driver.find_element_by_xpath('//*[@id=\"superior_cont\"]/ul[7]/li[2]/a').click()"
   ]
  },
  {
   "cell_type": "markdown",
   "metadata": {},
   "source": [
    "Dealing with advertisement. "
   ]
  },
  {
   "cell_type": "markdown",
   "metadata": {},
   "source": [
    "Sometimes, we deal with iframe html advertisements. The advertisement does not always pop up. We use try."
   ]
  },
  {
   "cell_type": "code",
   "execution_count": 209,
   "metadata": {},
   "outputs": [],
   "source": [
    "try:\n",
    "    # id of selected ifram\n",
    "    iframe = driver.find_element_by_id('aswift_5')\n",
    "    # click on iframe\n",
    "    driver.switch_to.frame(iframe)\n",
    "    # click on close button\n",
    "    driver.find_element_by_id( \"dismiss-button\" ).click()\n",
    "    # siwtch to default html\n",
    "    driver.switch_to.default_content()\n",
    "except:\n",
    "    print(\"No advertisement\")"
   ]
  },
  {
   "cell_type": "code",
   "execution_count": 210,
   "metadata": {},
   "outputs": [],
   "source": [
    "# go to section where posts are located\n",
    "post_sections = driver.find_element_by_xpath( \"/html/body/section/section[1]\" )"
   ]
  },
  {
   "cell_type": "code",
   "execution_count": 212,
   "metadata": {},
   "outputs": [],
   "source": [
    "# find all articles\n",
    "articles = post_sections.find_elements_by_tag_name( 'article' )"
   ]
  },
  {
   "cell_type": "code",
   "execution_count": 214,
   "metadata": {
    "scrolled": true
   },
   "outputs": [],
   "source": [
    "job_publication = []\n",
    "for art in articles:\n",
    "    # get post information\n",
    "    p_tags = art.find_elements_by_tag_name( 'p' )\n",
    "    \n",
    "    # Loop over all p storing in dictionary\n",
    "    post_info = {}\n",
    "    for p in p_tags:\n",
    "        string1 = p.text\n",
    "\n",
    "        # Getting behind :\n",
    "        behind = re.search( \".+(?=:)\", string1 )\n",
    "        key = behind.group( 0 ).lower()\n",
    "        key = unidecode.unidecode( key )\n",
    "\n",
    "        # Getting ahead :\n",
    "        ahead = re.search( \"(?<=:).+\", string1 )\n",
    "        clean_ahead = ahead.group( 0 ).lstrip().lower()\n",
    "        value = clean_ahead\n",
    "        value = unidecode.unidecode( value )\n",
    "\n",
    "        # clean salary\n",
    "\n",
    "        # storing in dictionary\n",
    "        post_info[ key ] = value\n",
    "    \n",
    "    job_publication.append( post_info )"
   ]
  },
  {
   "cell_type": "code",
   "execution_count": 215,
   "metadata": {},
   "outputs": [
    {
     "data": {
      "text/plain": [
       "[{'entidad': 'devida',\n",
       "  'departamentos': 'cusco',\n",
       "  'remuneracion': 's/. 12,214.29 soles'},\n",
       " {'entidad': 'instituto investigaciones amazonia',\n",
       "  'departamentos': 'loreto',\n",
       "  'remuneracion': 's/. 2,058.29 soles'},\n",
       " {'entidad': 'autoridad portuaria(apn)',\n",
       "  'departamentos': 'callao',\n",
       "  'remuneracion': 's/. 7000 soles'},\n",
       " {'entidad': 'osce',\n",
       "  'departamentos': 'lima',\n",
       "  'remuneracion': 's/. 5500 soles'},\n",
       " {'entidad': 'onp',\n",
       "  'departamentos': 'arequipa, ica, junin, la libertad, lambayeque, lima, piura',\n",
       "  'remuneracion': 'entre s/. 1,885.71 y s/. 7,778.57 soles'},\n",
       " {'entidad': 'universidad nacional de frontera de sullana',\n",
       "  'departamentos': 'piura',\n",
       "  'remuneracion': 'entre s/. 3658 y s/. 7557,32 soles'},\n",
       " {'entidad': 'unsaac',\n",
       "  'departamentos': 'cusco',\n",
       "  'remuneracion': 'no especifica'},\n",
       " {'entidad': 'onp',\n",
       "  'departamentos': 'lima, pasco',\n",
       "  'remuneracion': 'entre s/. 3,407.14 y s/. 10,517.86 soles'},\n",
       " {'entidad': 'defensoria del pueblo',\n",
       "  'departamentos': 'lima',\n",
       "  'remuneracion': 's/. 7000 soles'},\n",
       " {'entidad': 'essalud',\n",
       "  'departamentos': 'ancash, arequipa, ayacucho, cajamarca, lima, moquegua, pasco',\n",
       "  'remuneracion': 'entre s/. 2276 y s/. 6240 soles'},\n",
       " {'entidad': 'superintendencia mercado valores(smv)',\n",
       "  'departamentos': 'lima',\n",
       "  'remuneracion': 's/. 6342 soles'},\n",
       " {'entidad': 'sis',\n",
       "  'departamentos': 'ayacucho, huanuco, lima, loreto, moquegua, piura, san martin, tacna',\n",
       "  'remuneracion': 'entre s/. 2000 y s/. 5400 soles'},\n",
       " {'entidad': 'poder judicial del peru',\n",
       "  'departamentos': 'arequipa',\n",
       "  'remuneracion': 'entre s/. 1300 y s/. 3722 soles'},\n",
       " {'entidad': 'senace',\n",
       "  'departamentos': 'lima',\n",
       "  'remuneracion': 's/. 9000 soles'},\n",
       " {'entidad': 'provias descentralizado',\n",
       "  'departamentos': 'lima',\n",
       "  'remuneracion': 's/. 3800 y s/. 6300 soles'},\n",
       " {'entidad': 'sunarp',\n",
       "  'departamentos': 'quillabamba - cusco',\n",
       "  'remuneracion': 's/. 3400 soles'},\n",
       " {'entidad': 'onpe',\n",
       "  'departamentos': 'lima',\n",
       "  'remuneracion': 'entre s/. 6150 y s/. 10750 soles'},\n",
       " {'entidad': 'banco agropecuario - agrobanco',\n",
       "  'departamentos': 'lima',\n",
       "  'remuneracion': 'no especifica'},\n",
       " {'entidad': 'universidad nacional de trujillo',\n",
       "  'departamentos': 'trujillo - la libertad',\n",
       "  'remuneracion': 'entre s/. 914.50 y s/. 7,557.32 soles'}]"
      ]
     },
     "execution_count": 215,
     "metadata": {},
     "output_type": "execute_result"
    }
   ],
   "source": [
    "job_publication"
   ]
  },
  {
   "cell_type": "code",
   "execution_count": 216,
   "metadata": {},
   "outputs": [],
   "source": [
    "# checking all posts have the same information\n",
    "# look at the keys of all dictionaries\n",
    "expected_keys = {'departamentos', 'entidad', 'remuneracion'}"
   ]
  },
  {
   "cell_type": "code",
   "execution_count": 217,
   "metadata": {},
   "outputs": [
    {
     "name": "stdout",
     "output_type": "stream",
     "text": [
      "Post 0 have the expected keys : True\n",
      "Post 1 have the expected keys : True\n",
      "Post 2 have the expected keys : True\n",
      "Post 3 have the expected keys : True\n",
      "Post 4 have the expected keys : True\n",
      "Post 5 have the expected keys : True\n",
      "Post 6 have the expected keys : True\n",
      "Post 7 have the expected keys : True\n",
      "Post 8 have the expected keys : True\n",
      "Post 9 have the expected keys : True\n",
      "Post 10 have the expected keys : True\n",
      "Post 11 have the expected keys : True\n",
      "Post 12 have the expected keys : True\n",
      "Post 13 have the expected keys : True\n",
      "Post 14 have the expected keys : True\n",
      "Post 15 have the expected keys : True\n",
      "Post 16 have the expected keys : True\n",
      "Post 17 have the expected keys : True\n",
      "Post 18 have the expected keys : True\n"
     ]
    }
   ],
   "source": [
    "# compare with information collected\n",
    "total_posts = len( job_publication )\n",
    "for i in range( total_posts ):\n",
    "    \n",
    "    #dict informtion\n",
    "    dict_info = job_publication[ i ]\n",
    "    \n",
    "    # get boolean value\n",
    "    value = expected_keys == set( dict_info.keys() )\n",
    "    \n",
    "    # print value\n",
    "    print( f\"Post { i } have the expected keys : { value }\")\n",
    "    "
   ]
  },
  {
   "cell_type": "code",
   "execution_count": 218,
   "metadata": {},
   "outputs": [],
   "source": [
    "# we have check all posts have the same information\n",
    "# store in a pd.DataFrame\n",
    "data_dict = { \n",
    "                'Departament' : [],\n",
    "                \"Entity\" : [] ,\n",
    "                \"Salary\" : []\n",
    "            }\n",
    "\n",
    "for i in range( total_posts ):\n",
    "    \n",
    "    #dict informtion\n",
    "    dict_info = job_publication[ i ]\n",
    "    \n",
    "    dpt = dict_info['departamentos']\n",
    "    entity = dict_info['entidad']\n",
    "    salary = dict_info['remuneracion']\n",
    "    \n",
    "    # get boolean value\n",
    "    data_dict[ 'Departament' ].append( dpt )\n",
    "    data_dict[ 'Entity' ].append( entity )\n",
    "    data_dict[ 'Salary' ].append( salary )"
   ]
  },
  {
   "cell_type": "code",
   "execution_count": 219,
   "metadata": {},
   "outputs": [
    {
     "data": {
      "text/html": [
       "<div>\n",
       "<style scoped>\n",
       "    .dataframe tbody tr th:only-of-type {\n",
       "        vertical-align: middle;\n",
       "    }\n",
       "\n",
       "    .dataframe tbody tr th {\n",
       "        vertical-align: top;\n",
       "    }\n",
       "\n",
       "    .dataframe thead th {\n",
       "        text-align: right;\n",
       "    }\n",
       "</style>\n",
       "<table border=\"1\" class=\"dataframe\">\n",
       "  <thead>\n",
       "    <tr style=\"text-align: right;\">\n",
       "      <th></th>\n",
       "      <th>Departament</th>\n",
       "      <th>Entity</th>\n",
       "      <th>Salary</th>\n",
       "    </tr>\n",
       "  </thead>\n",
       "  <tbody>\n",
       "    <tr>\n",
       "      <th>0</th>\n",
       "      <td>cusco</td>\n",
       "      <td>devida</td>\n",
       "      <td>s/. 12,214.29 soles</td>\n",
       "    </tr>\n",
       "    <tr>\n",
       "      <th>1</th>\n",
       "      <td>loreto</td>\n",
       "      <td>instituto investigaciones amazonia</td>\n",
       "      <td>s/. 2,058.29 soles</td>\n",
       "    </tr>\n",
       "    <tr>\n",
       "      <th>2</th>\n",
       "      <td>callao</td>\n",
       "      <td>autoridad portuaria(apn)</td>\n",
       "      <td>s/. 7000 soles</td>\n",
       "    </tr>\n",
       "    <tr>\n",
       "      <th>3</th>\n",
       "      <td>lima</td>\n",
       "      <td>osce</td>\n",
       "      <td>s/. 5500 soles</td>\n",
       "    </tr>\n",
       "    <tr>\n",
       "      <th>4</th>\n",
       "      <td>arequipa, ica, junin, la libertad, lambayeque,...</td>\n",
       "      <td>onp</td>\n",
       "      <td>entre s/. 1,885.71 y s/. 7,778.57 soles</td>\n",
       "    </tr>\n",
       "    <tr>\n",
       "      <th>5</th>\n",
       "      <td>piura</td>\n",
       "      <td>universidad nacional de frontera de sullana</td>\n",
       "      <td>entre s/. 3658 y s/. 7557,32 soles</td>\n",
       "    </tr>\n",
       "    <tr>\n",
       "      <th>6</th>\n",
       "      <td>cusco</td>\n",
       "      <td>unsaac</td>\n",
       "      <td>no especifica</td>\n",
       "    </tr>\n",
       "    <tr>\n",
       "      <th>7</th>\n",
       "      <td>lima, pasco</td>\n",
       "      <td>onp</td>\n",
       "      <td>entre s/. 3,407.14 y s/. 10,517.86 soles</td>\n",
       "    </tr>\n",
       "    <tr>\n",
       "      <th>8</th>\n",
       "      <td>lima</td>\n",
       "      <td>defensoria del pueblo</td>\n",
       "      <td>s/. 7000 soles</td>\n",
       "    </tr>\n",
       "    <tr>\n",
       "      <th>9</th>\n",
       "      <td>ancash, arequipa, ayacucho, cajamarca, lima, m...</td>\n",
       "      <td>essalud</td>\n",
       "      <td>entre s/. 2276 y s/. 6240 soles</td>\n",
       "    </tr>\n",
       "    <tr>\n",
       "      <th>10</th>\n",
       "      <td>lima</td>\n",
       "      <td>superintendencia mercado valores(smv)</td>\n",
       "      <td>s/. 6342 soles</td>\n",
       "    </tr>\n",
       "    <tr>\n",
       "      <th>11</th>\n",
       "      <td>ayacucho, huanuco, lima, loreto, moquegua, piu...</td>\n",
       "      <td>sis</td>\n",
       "      <td>entre s/. 2000 y s/. 5400 soles</td>\n",
       "    </tr>\n",
       "    <tr>\n",
       "      <th>12</th>\n",
       "      <td>arequipa</td>\n",
       "      <td>poder judicial del peru</td>\n",
       "      <td>entre s/. 1300 y s/. 3722 soles</td>\n",
       "    </tr>\n",
       "    <tr>\n",
       "      <th>13</th>\n",
       "      <td>lima</td>\n",
       "      <td>senace</td>\n",
       "      <td>s/. 9000 soles</td>\n",
       "    </tr>\n",
       "    <tr>\n",
       "      <th>14</th>\n",
       "      <td>lima</td>\n",
       "      <td>provias descentralizado</td>\n",
       "      <td>s/. 3800 y s/. 6300 soles</td>\n",
       "    </tr>\n",
       "    <tr>\n",
       "      <th>15</th>\n",
       "      <td>quillabamba - cusco</td>\n",
       "      <td>sunarp</td>\n",
       "      <td>s/. 3400 soles</td>\n",
       "    </tr>\n",
       "    <tr>\n",
       "      <th>16</th>\n",
       "      <td>lima</td>\n",
       "      <td>onpe</td>\n",
       "      <td>entre s/. 6150 y s/. 10750 soles</td>\n",
       "    </tr>\n",
       "    <tr>\n",
       "      <th>17</th>\n",
       "      <td>lima</td>\n",
       "      <td>banco agropecuario - agrobanco</td>\n",
       "      <td>no especifica</td>\n",
       "    </tr>\n",
       "    <tr>\n",
       "      <th>18</th>\n",
       "      <td>trujillo - la libertad</td>\n",
       "      <td>universidad nacional de trujillo</td>\n",
       "      <td>entre s/. 914.50 y s/. 7,557.32 soles</td>\n",
       "    </tr>\n",
       "  </tbody>\n",
       "</table>\n",
       "</div>"
      ],
      "text/plain": [
       "                                          Departament  \\\n",
       "0                                               cusco   \n",
       "1                                              loreto   \n",
       "2                                              callao   \n",
       "3                                                lima   \n",
       "4   arequipa, ica, junin, la libertad, lambayeque,...   \n",
       "5                                               piura   \n",
       "6                                               cusco   \n",
       "7                                         lima, pasco   \n",
       "8                                                lima   \n",
       "9   ancash, arequipa, ayacucho, cajamarca, lima, m...   \n",
       "10                                               lima   \n",
       "11  ayacucho, huanuco, lima, loreto, moquegua, piu...   \n",
       "12                                           arequipa   \n",
       "13                                               lima   \n",
       "14                                               lima   \n",
       "15                                quillabamba - cusco   \n",
       "16                                               lima   \n",
       "17                                               lima   \n",
       "18                             trujillo - la libertad   \n",
       "\n",
       "                                         Entity  \\\n",
       "0                                        devida   \n",
       "1            instituto investigaciones amazonia   \n",
       "2                      autoridad portuaria(apn)   \n",
       "3                                          osce   \n",
       "4                                           onp   \n",
       "5   universidad nacional de frontera de sullana   \n",
       "6                                        unsaac   \n",
       "7                                           onp   \n",
       "8                         defensoria del pueblo   \n",
       "9                                       essalud   \n",
       "10        superintendencia mercado valores(smv)   \n",
       "11                                          sis   \n",
       "12                      poder judicial del peru   \n",
       "13                                       senace   \n",
       "14                      provias descentralizado   \n",
       "15                                       sunarp   \n",
       "16                                         onpe   \n",
       "17               banco agropecuario - agrobanco   \n",
       "18             universidad nacional de trujillo   \n",
       "\n",
       "                                      Salary  \n",
       "0                        s/. 12,214.29 soles  \n",
       "1                         s/. 2,058.29 soles  \n",
       "2                             s/. 7000 soles  \n",
       "3                             s/. 5500 soles  \n",
       "4    entre s/. 1,885.71 y s/. 7,778.57 soles  \n",
       "5         entre s/. 3658 y s/. 7557,32 soles  \n",
       "6                              no especifica  \n",
       "7   entre s/. 3,407.14 y s/. 10,517.86 soles  \n",
       "8                             s/. 7000 soles  \n",
       "9            entre s/. 2276 y s/. 6240 soles  \n",
       "10                            s/. 6342 soles  \n",
       "11           entre s/. 2000 y s/. 5400 soles  \n",
       "12           entre s/. 1300 y s/. 3722 soles  \n",
       "13                            s/. 9000 soles  \n",
       "14                 s/. 3800 y s/. 6300 soles  \n",
       "15                            s/. 3400 soles  \n",
       "16          entre s/. 6150 y s/. 10750 soles  \n",
       "17                             no especifica  \n",
       "18     entre s/. 914.50 y s/. 7,557.32 soles  "
      ]
     },
     "execution_count": 219,
     "metadata": {},
     "output_type": "execute_result"
    }
   ],
   "source": [
    "import pandas as pd\n",
    "\n",
    "job_posts_economists = pd.DataFrame( data_dict )\n",
    "\n",
    "job_posts_economists"
   ]
  },
  {
   "cell_type": "code",
   "execution_count": 220,
   "metadata": {},
   "outputs": [],
   "source": [
    "# save in a excel file\n",
    "job_posts_economists.to_excel( r'../_data/job_posts_result.xlsx' )"
   ]
  },
  {
   "cell_type": "markdown",
   "metadata": {},
   "source": [
    "https://www.amazon.com/Web-Scraping-Python-Collecting-Modern/dp/1491985577/ref=asc_df_1491985577/?tag=hyprod-20&linkCode=df0&hvadid=312045876164&hvpos=&hvnetw=g&hvrand=12104913302684462183&hvpone=&hvptwo=&hvqmt=&hvdev=c&hvdvcmdl=&hvlocint=&hvlocphy=9031928&hvtargid=pla-428806391172&psc=1\n",
    "\n"
   ]
  }
 ],
 "metadata": {
  "hide_input": false,
  "kernelspec": {
   "display_name": "Python 3",
   "language": "python",
   "name": "python3"
  },
  "language_info": {
   "codemirror_mode": {
    "name": "ipython",
    "version": 3
   },
   "file_extension": ".py",
   "mimetype": "text/x-python",
   "name": "python",
   "nbconvert_exporter": "python",
   "pygments_lexer": "ipython3",
   "version": "3.8.6"
  }
 },
 "nbformat": 4,
 "nbformat_minor": 4
}
