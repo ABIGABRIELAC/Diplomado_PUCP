{
 "cells": [
  {
   "cell_type": "markdown",
   "id": "9b66b85f",
   "metadata": {},
   "source": [
    "# Assigment 4"
   ]
  },
  {
   "cell_type": "code",
   "execution_count": 39,
   "id": "9b3fd287",
   "metadata": {},
   "outputs": [],
   "source": [
    "from selenium import webdriver\n",
    "from selenium.webdriver.common.keys import Keys\n",
    "from selenium.common.exceptions import NoSuchElementException\n",
    "from selenium.webdriver import ActionChains\n",
    "import pandas as pd\n",
    "import numpy as np\n",
    "import os\n",
    "import time\n",
    "import re\n",
    "import unidecode\n",
    "import time \n",
    "from selenium.webdriver.support.ui import Select\n",
    "from webdriver_manager.chrome import ChromeDriverManager"
   ]
  },
  {
   "cell_type": "code",
   "execution_count": 40,
   "id": "6c76adea",
   "metadata": {},
   "outputs": [
    {
     "data": {
      "text/plain": [
       "'C:\\\\Users\\\\jecas\\\\Documents\\\\GitHub\\\\Diplomado_PUCP\\\\Lecture_7\\\\Assignment_4'"
      ]
     },
     "execution_count": 40,
     "metadata": {},
     "output_type": "execute_result"
    }
   ],
   "source": [
    "pwd"
   ]
  },
  {
   "cell_type": "code",
   "execution_count": 41,
   "id": "cc143b88",
   "metadata": {},
   "outputs": [
    {
     "name": "stderr",
     "output_type": "stream",
     "text": [
      "\n",
      "\n",
      "====== WebDriver manager ======\n",
      "Current google-chrome version is 96.0.4664\n",
      "Get LATEST chromedriver version for 96.0.4664 google-chrome\n",
      "Driver [C:\\Users\\jecas\\.wdm\\drivers\\chromedriver\\win32\\96.0.4664.45\\chromedriver.exe] found in cache\n",
      "C:\\Users\\jecas\\AppData\\Local\\Temp/ipykernel_17732/1277203837.py:1: DeprecationWarning: executable_path has been deprecated, please pass in a Service object\n",
      "  driver = webdriver.Chrome( ChromeDriverManager().install() )\n"
     ]
    }
   ],
   "source": [
    "driver = webdriver.Chrome( ChromeDriverManager().install() )\n",
    "# go to the link\n",
    "driver.get( 'https://resultadoshistorico.onpe.gob.pe/EG2021/EleccionesPresidenciales/RePres/E' )\n",
    "# Maximize window\n",
    "driver.maximize_window()\n",
    "time.sleep(5)"
   ]
  },
  {
   "cell_type": "code",
   "execution_count": 42,
   "id": "e3ef4c31",
   "metadata": {},
   "outputs": [
    {
     "name": "stderr",
     "output_type": "stream",
     "text": [
      "C:\\Users\\jecas\\AppData\\Local\\Temp/ipykernel_17732/465381906.py:2: DeprecationWarning: find_element_by_* commands are deprecated. Please use find_element() instead\n",
      "  continentes = driver.find_element_by_xpath('/html/body/onpe-root/onpe-layout-container/onpe-onpe-epres-re/div[1]/div[3]/div[1]/div[1]/div/div/div[2]/select')\n"
     ]
    }
   ],
   "source": [
    "## Select elements in \"Continente\" list:\n",
    "continentes = driver.find_element_by_xpath('/html/body/onpe-root/onpe-layout-container/onpe-onpe-epres-re/div[1]/div[3]/div[1]/div[1]/div/div/div[2]/select')\n",
    "continentes_options = continentes.find_element_by_tag_name(\"option\")\n",
    "\n",
    "todosloscontinentes = Select(continentes)"
   ]
  },
  {
   "cell_type": "code",
   "execution_count": 43,
   "id": "59ee882e",
   "metadata": {},
   "outputs": [
    {
     "data": {
      "text/plain": [
       "'AFRICA'"
      ]
     },
     "execution_count": 43,
     "metadata": {},
     "output_type": "execute_result"
    }
   ],
   "source": [
    "todosloscontinentes.options[1].text"
   ]
  },
  {
   "cell_type": "code",
   "execution_count": 44,
   "id": "b7120cbd",
   "metadata": {},
   "outputs": [
    {
     "data": {
      "text/plain": [
       "6"
      ]
     },
     "execution_count": 44,
     "metadata": {},
     "output_type": "execute_result"
    }
   ],
   "source": [
    "num_continentes = len( todosloscontinentes.options )\n",
    "num_continentes"
   ]
  },
  {
   "cell_type": "markdown",
   "id": "4de345fb",
   "metadata": {},
   "source": [
    "## Iteraciones"
   ]
  },
  {
   "cell_type": "code",
   "execution_count": 45,
   "id": "a89845e3",
   "metadata": {},
   "outputs": [
    {
     "name": "stderr",
     "output_type": "stream",
     "text": [
      "C:\\Users\\jecas\\AppData\\Local\\Temp/ipykernel_17732/2353251766.py:2: DeprecationWarning: find_element_by_* commands are deprecated. Please use find_element() instead\n",
      "  cntnt = Select( driver.find_element_by_id('select_continent'))\n"
     ]
    },
    {
     "name": "stdout",
     "output_type": "stream",
     "text": [
      "--TODOS--\n",
      "AFRICA\n",
      "AMERICA\n",
      "ASIA\n",
      "EUROPA\n",
      "OCEANIA\n"
     ]
    }
   ],
   "source": [
    "for continente in range (num_continentes):\n",
    "    cntnt = Select( driver.find_element_by_id('select_continent'))\n",
    "    continente = cntnt.options[ continente ]\n",
    "    print(continente.text)"
   ]
  },
  {
   "cell_type": "code",
   "execution_count": 46,
   "id": "b4203c49",
   "metadata": {},
   "outputs": [],
   "source": [
    "continentes_nombres = continente.text\n",
    "if continentes_nombres != \"--TODOS--\" :\n",
    "    continente.click()"
   ]
  },
  {
   "cell_type": "markdown",
   "id": "84801d9a",
   "metadata": {},
   "source": [
    "### Países"
   ]
  },
  {
   "cell_type": "code",
   "execution_count": 51,
   "id": "0f8ebb8a",
   "metadata": {},
   "outputs": [
    {
     "name": "stderr",
     "output_type": "stream",
     "text": [
      "C:\\Users\\jecas\\AppData\\Local\\Temp/ipykernel_17732/2971671615.py:1: DeprecationWarning: find_element_by_* commands are deprecated. Please use find_element() instead\n",
      "  paises = Select( driver.find_element_by_id('select_pais') )\n"
     ]
    }
   ],
   "source": [
    "paises = Select( driver.find_element_by_id('select_pais') )\n",
    "num_paises_opciones = len( paises.options )"
   ]
  },
  {
   "cell_type": "code",
   "execution_count": 52,
   "id": "e41232d4",
   "metadata": {},
   "outputs": [
    {
     "data": {
      "text/plain": [
       "3"
      ]
     },
     "execution_count": 52,
     "metadata": {},
     "output_type": "execute_result"
    }
   ],
   "source": [
    "len( paises.options )"
   ]
  }
 ],
 "metadata": {
  "kernelspec": {
   "display_name": "Python 3 (ipykernel)",
   "language": "python",
   "name": "python3"
  },
  "language_info": {
   "codemirror_mode": {
    "name": "ipython",
    "version": 3
   },
   "file_extension": ".py",
   "mimetype": "text/x-python",
   "name": "python",
   "nbconvert_exporter": "python",
   "pygments_lexer": "ipython3",
   "version": "3.9.7"
  }
 },
 "nbformat": 4,
 "nbformat_minor": 5
}
