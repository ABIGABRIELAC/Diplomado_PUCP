{
 "cells": [
  {
   "cell_type": "markdown",
   "id": "9b66b85f",
   "metadata": {},
   "source": [
    "# Assigment 4"
   ]
  },
  {
   "cell_type": "code",
   "execution_count": 38,
   "id": "9b3fd287",
   "metadata": {},
   "outputs": [],
   "source": [
    "from selenium import webdriver\n",
    "from selenium.webdriver.common.keys import Keys\n",
    "from selenium.common.exceptions import NoSuchElementException\n",
    "from selenium.webdriver import ActionChains\n",
    "import pandas as pd\n",
    "import numpy as np\n",
    "import os\n",
    "import time\n",
    "import re\n",
    "import unidecode\n",
    "import time \n",
    "from bs4 import BeautifulSoup\n",
    "from selenium.webdriver.support.ui import Select\n",
    "from webdriver_manager.chrome import ChromeDriverManager"
   ]
  },
  {
   "cell_type": "code",
   "execution_count": 39,
   "id": "6c76adea",
   "metadata": {},
   "outputs": [
    {
     "data": {
      "text/plain": [
       "'C:\\\\Users\\\\jecas\\\\Documents\\\\GitHub\\\\Diplomado_PUCP\\\\Lecture_7\\\\Assignment_4'"
      ]
     },
     "execution_count": 39,
     "metadata": {},
     "output_type": "execute_result"
    }
   ],
   "source": [
    "pwd"
   ]
  },
  {
   "cell_type": "markdown",
   "id": "74a7c613",
   "metadata": {},
   "source": [
    "# Clickear en todos los Continentes, países y estados"
   ]
  },
  {
   "cell_type": "code",
   "execution_count": 40,
   "id": "1d30bd9a",
   "metadata": {
    "scrolled": true
   },
   "outputs": [
    {
     "name": "stderr",
     "output_type": "stream",
     "text": [
      "\n",
      "\n",
      "====== WebDriver manager ======\n",
      "Current google-chrome version is 96.0.4664\n",
      "Get LATEST chromedriver version for 96.0.4664 google-chrome\n",
      "Driver [C:\\Users\\jecas\\.wdm\\drivers\\chromedriver\\win32\\96.0.4664.45\\chromedriver.exe] found in cache\n",
      "C:\\Users\\jecas\\AppData\\Local\\Temp/ipykernel_20472/3453440664.py:1: DeprecationWarning: executable_path has been deprecated, please pass in a Service object\n",
      "  driver = webdriver.Chrome( ChromeDriverManager().install() )\n",
      "C:\\Users\\jecas\\AppData\\Local\\Temp/ipykernel_20472/3453440664.py:11: DeprecationWarning: find_element_by_* commands are deprecated. Please use find_element() instead\n",
      "  cont = Select( driver.find_element_by_xpath( \"/html/body/onpe-root/onpe-layout-container/onpe-onpe-epres-re/div[1]/div[3]/div[1]/div[1]/div/div/div[2]/select\" ) )\n",
      "C:\\Users\\jecas\\AppData\\Local\\Temp/ipykernel_20472/3453440664.py:20: DeprecationWarning: find_element_by_* commands are deprecated. Please use find_element() instead\n",
      "  cont = Select( driver.find_element_by_xpath( \"/html/body/onpe-root/onpe-layout-container/onpe-onpe-epres-re/div[1]/div[3]/div[1]/div[1]/div/div/div[2]/select\" ) )\n",
      "C:\\Users\\jecas\\AppData\\Local\\Temp/ipykernel_20472/3453440664.py:32: DeprecationWarning: find_element_by_* commands are deprecated. Please use find_element() instead\n",
      "  pais= Select( driver.find_element_by_xpath( \"/html/body/onpe-root/onpe-layout-container/onpe-onpe-epres-re/div[1]/div[3]/div[1]/div[1]/div/div/div[3]/select\" ) )\n",
      "C:\\Users\\jecas\\AppData\\Local\\Temp/ipykernel_20472/3453440664.py:39: DeprecationWarning: find_element_by_* commands are deprecated. Please use find_element() instead\n",
      "  pais = Select( driver.find_element_by_xpath( \"/html/body/onpe-root/onpe-layout-container/onpe-onpe-epres-re/div[1]/div[3]/div[1]/div[1]/div/div/div[3]/select\" ) )\n",
      "C:\\Users\\jecas\\AppData\\Local\\Temp/ipykernel_20472/3453440664.py:51: DeprecationWarning: find_element_by_* commands are deprecated. Please use find_element() instead\n",
      "  est = Select( driver.find_element_by_xpath( \"/html/body/onpe-root/onpe-layout-container/onpe-onpe-epres-re/div[1]/div[3]/div[1]/div[1]/div/div/div[4]/select\" ) )\n",
      "C:\\Users\\jecas\\AppData\\Local\\Temp/ipykernel_20472/3453440664.py:58: DeprecationWarning: find_element_by_* commands are deprecated. Please use find_element() instead\n",
      "  est = Select( driver.find_element_by_xpath( \"/html/body/onpe-root/onpe-layout-container/onpe-onpe-epres-re/div[1]/div[3]/div[1]/div[1]/div/div/div[4]/select\" ) )\n"
     ]
    }
   ],
   "source": [
    "driver = webdriver.Chrome( ChromeDriverManager().install() )\n",
    "# go to the link\n",
    "driver.get( 'https://resultadoshistorico.onpe.gob.pe/EG2021/EleccionesPresidenciales/RePres/E' )\n",
    "# Maximize window\n",
    "driver.maximize_window()\n",
    "time.sleep(5)   \n",
    "\n",
    "# Store all_tables\n",
    "all_tables = {}\n",
    "# All selenium objects in CONTINENTES select\n",
    "cont = Select( driver.find_element_by_xpath( \"/html/body/onpe-root/onpe-layout-container/onpe-onpe-epres-re/div[1]/div[3]/div[1]/div[1]/div/div/div[2]/select\" ) )\n",
    "# Get number of total options\n",
    "num_cont_options = len( cont.options )\n",
    "\n",
    "for cont_idx in range( num_cont_options ):\n",
    "    \n",
    "    # Get again all CONTINENTES since HTML is refreshing\n",
    "    # all elements\n",
    "    \n",
    "    cont = Select( driver.find_element_by_xpath( \"/html/body/onpe-root/onpe-layout-container/onpe-onpe-epres-re/div[1]/div[3]/div[1]/div[1]/div/div/div[2]/select\" ) )\n",
    "    continente = cont.options[ cont_idx ]\n",
    "    \n",
    "    # Get CONTINENTE name\n",
    "    cont_name = continente.text\n",
    "    \n",
    "    if cont_name != \"--TODOS--\" :\n",
    "        \n",
    "        # click on CONTINENTE\n",
    "        continente.click()\n",
    "        \n",
    "        # Get all elements of PAÍS\n",
    "        pais= Select( driver.find_element_by_xpath( \"/html/body/onpe-root/onpe-layout-container/onpe-onpe-epres-re/div[1]/div[3]/div[1]/div[1]/div/div/div[3]/select\" ) )\n",
    "        num_pais_options = len( pais.options )\n",
    "        \n",
    "        for pais_idx in range( num_pais_options ):\n",
    "            \n",
    "            # Get again all PAISES since HTML is refreshing\n",
    "            # all elements\n",
    "            pais = Select( driver.find_element_by_xpath( \"/html/body/onpe-root/onpe-layout-container/onpe-onpe-epres-re/div[1]/div[3]/div[1]/div[1]/div/div/div[3]/select\" ) )\n",
    "            paises = pais.options[ pais_idx ]\n",
    "                \n",
    "            # Get PAISES name\n",
    "            pais_name = paises.text\n",
    "            \n",
    "            if pais_name != \"--TODOS--\" :\n",
    "                \n",
    "                # click on PAISES\n",
    "                paises.click()\n",
    "                \n",
    "                # Get all elements from ESTADO\n",
    "                est = Select( driver.find_element_by_xpath( \"/html/body/onpe-root/onpe-layout-container/onpe-onpe-epres-re/div[1]/div[3]/div[1]/div[1]/div/div/div[4]/select\" ) )\n",
    "                num_est_options = len( est.options )\n",
    "                \n",
    "                for est_idx in range( num_est_options ):\n",
    "                    \n",
    "                    # Get again all ESTADO since HTML is refreshing\n",
    "                    # all elements\n",
    "                    est = Select( driver.find_element_by_xpath( \"/html/body/onpe-root/onpe-layout-container/onpe-onpe-epres-re/div[1]/div[3]/div[1]/div[1]/div/div/div[4]/select\" ) )\n",
    "                    estados = est.options[ est_idx ]\n",
    "                    \n",
    "                    # Get ESTADO name\n",
    "                    est_name = estados.text\n",
    "                    \n",
    "                    if est_name != \"-- TODOS --\" :\n",
    "                        \n",
    "                        # click on ESTADO\n",
    "                        estados.click()"
   ]
  }
 ],
 "metadata": {
  "kernelspec": {
   "display_name": "Python 3 (ipykernel)",
   "language": "python",
   "name": "python3"
  },
  "language_info": {
   "codemirror_mode": {
    "name": "ipython",
    "version": 3
   },
   "file_extension": ".py",
   "mimetype": "text/x-python",
   "name": "python",
   "nbconvert_exporter": "python",
   "pygments_lexer": "ipython3",
   "version": "3.9.7"
  }
 },
 "nbformat": 4,
 "nbformat_minor": 5
}
