{
 "cells": [
  {
   "cell_type": "markdown",
   "id": "9b66b85f",
   "metadata": {},
   "source": [
    "# Assigment 4"
   ]
  },
  {
   "cell_type": "code",
   "execution_count": 19,
   "id": "9b3fd287",
   "metadata": {},
   "outputs": [],
   "source": [
    "from selenium import webdriver\n",
    "from selenium.webdriver.common.keys import Keys\n",
    "from selenium.common.exceptions import NoSuchElementException\n",
    "from selenium.webdriver import ActionChains\n",
    "import pandas as pd\n",
    "import numpy as np\n",
    "import os\n",
    "import time\n",
    "import re\n",
    "import unidecode\n",
    "import time \n",
    "from selenium.webdriver.support.ui import Select\n",
    "from webdriver_manager.chrome import ChromeDriverManager"
   ]
  },
  {
   "cell_type": "code",
   "execution_count": 20,
   "id": "6c76adea",
   "metadata": {},
   "outputs": [
    {
     "data": {
      "text/plain": [
       "'C:\\\\Users\\\\jecas\\\\Documents\\\\GitHub\\\\Diplomado_PUCP\\\\Lecture_7\\\\Assignment_4'"
      ]
     },
     "execution_count": 20,
     "metadata": {},
     "output_type": "execute_result"
    }
   ],
   "source": [
    "pwd"
   ]
  },
  {
   "cell_type": "code",
   "execution_count": 21,
   "id": "cc143b88",
   "metadata": {},
   "outputs": [
    {
     "name": "stderr",
     "output_type": "stream",
     "text": [
      "\n",
      "\n",
      "====== WebDriver manager ======\n",
      "Current google-chrome version is 96.0.4664\n",
      "Get LATEST chromedriver version for 96.0.4664 google-chrome\n",
      "Driver [C:\\Users\\jecas\\.wdm\\drivers\\chromedriver\\win32\\96.0.4664.45\\chromedriver.exe] found in cache\n",
      "C:\\Users\\jecas\\AppData\\Local\\Temp/ipykernel_20472/1277203837.py:1: DeprecationWarning: executable_path has been deprecated, please pass in a Service object\n",
      "  driver = webdriver.Chrome( ChromeDriverManager().install() )\n"
     ]
    }
   ],
   "source": [
    "driver = webdriver.Chrome( ChromeDriverManager().install() )\n",
    "# go to the link\n",
    "driver.get( 'https://resultadoshistorico.onpe.gob.pe/EG2021/EleccionesPresidenciales/RePres/E' )\n",
    "# Maximize window\n",
    "driver.maximize_window()\n",
    "time.sleep(5)"
   ]
  },
  {
   "cell_type": "code",
   "execution_count": 22,
   "id": "e3ef4c31",
   "metadata": {},
   "outputs": [
    {
     "name": "stderr",
     "output_type": "stream",
     "text": [
      "C:\\Users\\jecas\\AppData\\Local\\Temp/ipykernel_20472/465381906.py:2: DeprecationWarning: find_element_by_* commands are deprecated. Please use find_element() instead\n",
      "  continentes = driver.find_element_by_xpath('/html/body/onpe-root/onpe-layout-container/onpe-onpe-epres-re/div[1]/div[3]/div[1]/div[1]/div/div/div[2]/select')\n"
     ]
    }
   ],
   "source": [
    "## Select elements in \"Continente\" list:\n",
    "continentes = driver.find_element_by_xpath('/html/body/onpe-root/onpe-layout-container/onpe-onpe-epres-re/div[1]/div[3]/div[1]/div[1]/div/div/div[2]/select')\n",
    "continentes_options = continentes.find_element_by_tag_name(\"option\")\n",
    "\n",
    "todosloscontinentes = Select(continentes)\n",
    "continentes.click()"
   ]
  },
  {
   "cell_type": "code",
   "execution_count": 28,
   "id": "59ee882e",
   "metadata": {},
   "outputs": [
    {
     "data": {
      "text/plain": [
       "'OCEANIA'"
      ]
     },
     "execution_count": 28,
     "metadata": {},
     "output_type": "execute_result"
    }
   ],
   "source": [
    "todosloscontinentes.options[5].text"
   ]
  },
  {
   "cell_type": "code",
   "execution_count": 24,
   "id": "b7120cbd",
   "metadata": {},
   "outputs": [
    {
     "data": {
      "text/plain": [
       "6"
      ]
     },
     "execution_count": 24,
     "metadata": {},
     "output_type": "execute_result"
    }
   ],
   "source": [
    "num_continentes = len( todosloscontinentes.options )\n",
    "num_continentes"
   ]
  },
  {
   "cell_type": "markdown",
   "id": "4de345fb",
   "metadata": {},
   "source": [
    "## Iteraciones"
   ]
  },
  {
   "cell_type": "code",
   "execution_count": null,
   "id": "fd67c3b2",
   "metadata": {},
   "outputs": [],
   "source": [
    "# All selenium objects in continentes\n",
    "todosloscontinentes_options = [ x for x in continentes.find_elements_by_tag_name(\"option\") ]\n",
    "dict_continentes_options = { option.text : option for option in todosloscontinentes_options }\n",
    "\n",
    "dict_continentes_options.click()"
   ]
  },
  {
   "cell_type": "code",
   "execution_count": 25,
   "id": "a89845e3",
   "metadata": {
    "scrolled": true
   },
   "outputs": [
    {
     "name": "stderr",
     "output_type": "stream",
     "text": [
      "C:\\Users\\jecas\\AppData\\Local\\Temp/ipykernel_20472/2353251766.py:2: DeprecationWarning: find_element_by_* commands are deprecated. Please use find_element() instead\n",
      "  cntnt = Select( driver.find_element_by_id('select_continent'))\n"
     ]
    },
    {
     "name": "stdout",
     "output_type": "stream",
     "text": [
      "--TODOS--\n",
      "AFRICA\n",
      "AMERICA\n",
      "ASIA\n",
      "EUROPA\n",
      "OCEANIA\n"
     ]
    }
   ],
   "source": [
    "for continente in range (num_continentes):\n",
    "    cntnt = Select( driver.find_element_by_id('select_continent'))\n",
    "    continente = cntnt.options[ continente ]\n",
    "    print(continente.text)"
   ]
  },
  {
   "cell_type": "code",
   "execution_count": null,
   "id": "128f1464",
   "metadata": {},
   "outputs": [],
   "source": [
    "# Store all_tables\n",
    "all_tables = {}\n",
    "# All selenium objects in department select\n",
    "continentes01 = Select( driver.find_element_by_xpath( \"/html/body/onpe-root/onpe-layout-container/onpe-onpe-epres-re/div[1]/div[3]/div[1]/div[1]/div/div/div[2]/select\" ) )\n",
    "\n",
    "for continentes_idx in range( num_continentes_options ):\n",
    "    \n",
    "    # Get again all continents since HTML is refreshing\n",
    "    # all elements\n",
    "    \n",
    "continentes01 = Select( driver.find_element_by_xpath( \"/html/body/onpe-root/onpe-layout-container/onpe-onpe-epres-re/div[1]/div[3]/div[1]/div[1]/div/div/div[2]/select\" ) )\n",
    "   continente = continentes01.options[ dpt_idx ]\n",
    "    \n",
    "    # Get continent name\n",
    "    continentes01_name = continente.text\n",
    "    \n",
    "    if continentes01_name != \"--TODOS--\" :\n",
    "        \n",
    "        # click on continent\n",
    "        continente.click()\n",
    "        \n",
    "        # Get all elements of country\n",
    "        pais = Select( driver.find_element_by_xpath( \"/html/body/onpe-root/onpe-layout-container/onpe-onpe-epres-re/div[1]/div[3]/div[1]/div[1]/div/div/div[3]/select\" ) )\n",
    "        num_paises_options = len( pais.options )\n",
    "        \n",
    "        for prov_idx in range( num_prov_options ):\n",
    "            \n",
    "            # Get again all districts since HTML is refreshing\n",
    "            # all elements\n",
    "            prov = Select( driver.find_element_by_xpath( \"/html/body/onpe-root/onpe-layout-container/onpe-onpe-epres-re/div[1]/div[3]/div[1]/div[1]/div/div/div[3]/select\" ) )\n",
    "            province = prov.options[ prov_idx ]\n",
    "                \n",
    "            # Get province name\n",
    "            prov_name = province.text\n",
    "            \n",
    "            if prov_name != \"--TODOS--\" :\n",
    "                \n",
    "                # click on province\n",
    "                province.click()\n",
    "                \n",
    "                # Get all elements from district\n",
    "                dist = Select( driver.find_element_by_xpath( \"/html/body/onpe-root/onpe-layout-container/onpe-onpe-epres-re/div[1]/div[3]/div[1]/div[1]/div/div/div[4]/select\" ) )\n",
    "                num_dist_options = len( dist.options )\n",
    "                \n",
    "                for dist_idx in range( num_dist_options ):\n",
    "                    \n",
    "                    # Get again all districts since HTML is refreshing\n",
    "                    # all elements\n",
    "                    dist = Select( driver.find_element_by_xpath( \"/html/body/onpe-root/onpe-layout-container/onpe-onpe-epres-re/div[1]/div[3]/div[1]/div[1]/div/div/div[4]/select\" ) )\n",
    "                    district = dist.options[ dist_idx ]\n",
    "                    \n",
    "                    # Get district name\n",
    "                    dist_name = district.text\n",
    "                    \n",
    "                    if dist_name != \"-- SELECCIONE --\" :\n",
    "                        \n",
    "                        # click on district\n",
    "                        district.click()\n",
    "                        \n",
    "                        # Get UBIGEO\n",
    "                        ubigeo = driver.current_url.split(\"/\")[ -1 ]\n",
    "                        \n",
    "                        ## Get table of presidential votes\n",
    "                        # Get html at this point\n",
    "                        html = driver.page_source\n",
    "                        soup = BeautifulSoup( html, 'html.parser' )\n",
    "\n",
    "                        # Read the table using pandas\n",
    "                        table_selector = soup.select_one( \"#table1\" )\n",
    "                        table = pd.read_html( str( table_selector ) )\n",
    "                        \n",
    "                        # Cleaning tables\n",
    "                        row_new_columns = table[ 0 ].iloc[ 0 , 2: ]\n",
    "                        clean_columns = row_new_columns \\\n",
    "                                              .str.replace( \" \", \"_\") \\\n",
    "                                              .str.lower().str.replace( \"%\", \"share_\") \\\n",
    "                                              .apply( lambda x : unidecode.unidecode( x ) ) \\\n",
    "                                              .tolist()\n",
    "                        \n",
    "                        # Selecting specific columns\n",
    "                        table_clean = table[0].iloc[ 1:, 2: ].copy()\n",
    "                        \n",
    "                        # rename columns\n",
    "                        table_clean.columns = clean_columns\n",
    "                        \n",
    "                        # New values to columns \n",
    "                        table_clean[ 'department' ] = dpt_name\n",
    "                        table_clean[ 'province' ]   = prov_name\n",
    "                        table_clean[ 'district' ]   = dist_name\n",
    "                        table_clean[ 'ubigeo' ]     = ubigeo\n",
    "                        \n",
    "                        # store tables\n",
    "                        all_tables[ ubigeo ] = table_clean"
   ]
  }
 ],
 "metadata": {
  "kernelspec": {
   "display_name": "Python 3 (ipykernel)",
   "language": "python",
   "name": "python3"
  },
  "language_info": {
   "codemirror_mode": {
    "name": "ipython",
    "version": 3
   },
   "file_extension": ".py",
   "mimetype": "text/x-python",
   "name": "python",
   "nbconvert_exporter": "python",
   "pygments_lexer": "ipython3",
   "version": "3.9.7"
  }
 },
 "nbformat": 4,
 "nbformat_minor": 5
}
