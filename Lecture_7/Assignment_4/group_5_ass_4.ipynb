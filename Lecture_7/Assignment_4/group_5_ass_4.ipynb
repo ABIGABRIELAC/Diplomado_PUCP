{
 "cells": [
  {
   "cell_type": "markdown",
   "id": "a6656ec2",
   "metadata": {},
   "source": [
    "In this task you have to scrape all the results from \"Extranjero\". [Here is link](https://resultadoshistorico.onpe.gob.pe/EG2021/EleccionesPresidenciales/RePres/E). \n",
    "You have to **follow the steps as we did in Lecture 7** and get information from all tabs in \"Continente\", \"País\" and \"Estado\".   "
   ]
  },
  {
   "cell_type": "markdown",
   "id": "0db8d94d",
   "metadata": {},
   "source": [
    "1. Take the data table TOTAL DE VOTOS. "
   ]
  },
  {
   "cell_type": "markdown",
   "id": "b541c8b9",
   "metadata": {},
   "source": [
    "2. Store the four columns ORGANIZACIONES POLÍTICAS, TOTAL, %VÁLIDOS and %EMITIDOS. Rename these columns to political_parties, total, share_valid, share_emitied, respectively. "
   ]
  },
  {
   "cell_type": "markdown",
   "id": "bc5211ad",
   "metadata": {},
   "source": [
    "3. Add the columns continent, country, state, ubigeo, and link. These last two items you can extract from the url. "
   ]
  },
  {
   "cell_type": "markdown",
   "id": "faa36061",
   "metadata": {},
   "source": [
    "4. Append  the tables in just one DataFrame and export an excel file and save it in the folder [\\_data\\_results](https://github.com/alexanderquispe/Diplomado_PUCP/tree/main/Lecture_7/_data_results). "
   ]
  },
  {
   "cell_type": "markdown",
   "id": "ce5c6a7b",
   "metadata": {},
   "source": [
    "5. The name of your Excel file should be the same as the name of your branches. "
   ]
  },
  {
   "cell_type": "code",
   "execution_count": null,
   "id": "05da2b50",
   "metadata": {},
   "outputs": [],
   "source": [
    "#Install packages\n",
    "!pip install selenium\n",
    "!pip install webdriver-manager"
   ]
  },
  {
   "cell_type": "code",
   "execution_count": null,
   "id": "73a2b339",
   "metadata": {},
   "outputs": [],
   "source": [
    "#Load and import packages\n",
    "from selenium import webdriver\n",
    "from webdriver_manager.chrome import ChromeDriverManager\n",
    "import re\n",
    "import time "
   ]
  }
 ],
 "metadata": {
  "kernelspec": {
   "display_name": "Python 3 (ipykernel)",
   "language": "python",
   "name": "python3"
  },
  "language_info": {
   "codemirror_mode": {
    "name": "ipython",
    "version": 3
   },
   "file_extension": ".py",
   "mimetype": "text/x-python",
   "name": "python",
   "nbconvert_exporter": "python",
   "pygments_lexer": "ipython3",
   "version": "3.9.7"
  }
 },
 "nbformat": 4,
 "nbformat_minor": 5
}
