{
 "cells": [
  {
   "cell_type": "markdown",
   "id": "a6656ec2",
   "metadata": {},
   "source": [
    "# Assignment 4\n",
    "In this task you have to scrape all the results from \"Extranjero\". [Here is link](https://resultadoshistorico.onpe.gob.pe/EG2021/EleccionesPresidenciales/RePres/E). \n",
    "You have to **follow the steps as we did in Lecture 7** and get information from all tabs in \"Continente\", \"País\" and \"Estado\".\n",
    "\n",
    "1. Take the data table TOTAL DE VOTOS.\n",
    "2. Store the four columns ORGANIZACIONES POLÍTICAS, TOTAL, %VÁLIDOS and %EMITIDOS. Rename these columns to political_parties, total, share_valid, share_emitied, respectively. \n",
    "3. Add the columns continent, country, state, ubigeo, and link. These last two items you can extract from the url. \n",
    "4. Append  the tables in just one DataFrame and export an excel file and save it in the folder [\\_data\\_results](https://github.com/alexanderquispe/Diplomado_PUCP/tree/main/Lecture_7/_data_results).\n",
    "5. The name of your Excel file should be the same as the name of your branches. "
   ]
  },
  {
   "cell_type": "markdown",
   "id": "0db8d94d",
   "metadata": {},
   "source": [
    "# <a id='outline'> Assignment 4 - Outline </a>\n",
    "- <a href='#1_Lib'> 1. Libraries required </a>\n",
    "- <a href='#2_web_page'> 2. Webpage </a>\n",
    "- <a href='#3_scope'> 3. Scope </a>\n",
    "- <a href='#4_set_up'> 4. Set Up before loop </a>\n",
    "- <a href='#5_loop'> 5. Loop for webscraping </a>\n",
    "- <a href='#6_final_data'> 6. Data processing and storing </a>"
   ]
  },
  {
   "cell_type": "markdown",
   "id": "23461dc6",
   "metadata": {},
   "source": [
    "## <a id='1_Lib'> 1. Libraries required </a>"
   ]
  },
  {
   "cell_type": "code",
   "execution_count": 1,
   "id": "6d721d80",
   "metadata": {},
   "outputs": [],
   "source": [
    "#!pip install lxml\n",
    "#!pip install lxmunidecodel\n",
    "#!pip install unidecode\n",
    "\n",
    "\n",
    "import os\n",
    "import time\n",
    "import re\n",
    "import unidecode\n",
    "import time \n",
    "import progressbar\n",
    "\n",
    "\n",
    "import pandas as pd\n",
    "import numpy as np\n",
    "\n",
    "\n",
    "from selenium import webdriver\n",
    "from selenium.webdriver import ActionChains\n",
    "from selenium.webdriver.support.ui import Select\n",
    "from selenium.webdriver.common.keys import Keys\n",
    "from selenium.common.exceptions import NoSuchElementException\n",
    "from webdriver_manager.chrome import ChromeDriverManager"
   ]
  },
  {
   "cell_type": "markdown",
   "id": "0e70436d",
   "metadata": {},
   "source": [
    "## <a id='2_web_page'> 2. Webpage </a>\n",
    "\n",
    "One option direct link (does not work every time)"
   ]
  },
  {
   "cell_type": "code",
   "execution_count": null,
   "id": "bdd9f1a8",
   "metadata": {},
   "outputs": [],
   "source": [
    "#ChromeDriverManager\n",
    "#driver = webdriver.Chrome( ChromeDriverManager().install() )\n",
    "#driver.maximize_window()\n",
    "#url = 'https://resultadoshistorico.onpe.gob.pe/EG2021/EleccionesPresidenciales/RePres/E'\n",
    "#driver.get( url )\n",
    "#driver.execute_script( \"document.body.style.zoom='100%'\" )"
   ]
  },
  {
   "cell_type": "markdown",
   "id": "83632850",
   "metadata": {},
   "source": [
    "Second options, \"ONPE Resultado Historico\" link and access with clicks. May require time sleep of 10 or more seconds"
   ]
  },
  {
   "cell_type": "code",
   "execution_count": 2,
   "id": "09edb17c",
   "metadata": {},
   "outputs": [
    {
     "name": "stderr",
     "output_type": "stream",
     "text": [
      "\n",
      "\n",
      "====== WebDriver manager ======\n",
      "Current google-chrome version is 96.0.4664\n",
      "Get LATEST chromedriver version for 96.0.4664 google-chrome\n",
      "Driver [C:\\Users\\josed\\.wdm\\drivers\\chromedriver\\win32\\96.0.4664.45\\chromedriver.exe] found in cache\n"
     ]
    }
   ],
   "source": [
    "ChromeDriverManager\n",
    "driver = webdriver.Chrome( ChromeDriverManager().install() )\n",
    "driver.maximize_window()\n",
    "url = 'https://resultadoshistorico.onpe.gob.pe/EG2021/'\n",
    "driver.get( url )\n",
    "driver.execute_script( \"document.body.style.zoom='100%'\" )\n",
    "\n",
    "presi = driver.find_element_by_xpath('/html/body/onpe-root/onpe-home-onpe/div[1]/div/div/div/div[2]/div[2]/div/div/a/div[2]')\n",
    "presi.click()\n",
    "time.sleep(10)"
   ]
  },
  {
   "cell_type": "markdown",
   "id": "1459b7fa",
   "metadata": {},
   "source": [
    "## <a id='3_scope'> 3. Scope </a>\n",
    "\n",
    "In the part we get all the element from the scope and select our element of interest (i.e. Extranjero)"
   ]
  },
  {
   "cell_type": "code",
   "execution_count": 3,
   "id": "8cc21da7",
   "metadata": {},
   "outputs": [],
   "source": [
    "# Get the socpe by element_id\n",
    "#scope = driver.find_element_by_id( \"select_ambito\" )\n",
    "scope = driver.find_element_by_xpath('/html/body/onpe-root/onpe-layout-container/onpe-onpe-epres-re/div[1]/div[3]/div[1]/div[1]/div/div/div/select')\n",
    "\n",
    "# All selenium objects in scope\n",
    "scope_options = [ x for x in scope.find_elements_by_tag_name(\"option\") ]\n",
    "dict_scope_options = { option.text : option for option in scope_options }\n",
    "\n",
    "# We click on Extranjero\n",
    "dict_scope_options['EXTRANJERO'].click()"
   ]
  },
  {
   "cell_type": "markdown",
   "id": "6996a435",
   "metadata": {},
   "source": [
    "## <a id='4_set_up'> 4. Set Up before loop </a>"
   ]
  },
  {
   "cell_type": "code",
   "execution_count": 4,
   "id": "00d86af8",
   "metadata": {},
   "outputs": [],
   "source": [
    "# Store all_tables\n",
    "all_tables = {}\n",
    "\n",
    "# All selenium objects in continen selection\n",
    "cnt = Select( driver.find_element_by_xpath( \"/html/body/onpe-root/onpe-layout-container/onpe-onpe-epres-re/div[1]/div[3]/div[1]/div[1]/div/div/div[2]/select\" ) )\n",
    "\n",
    "# Get number of total options\n",
    "num_cont = len( cnt.options )"
   ]
  },
  {
   "cell_type": "markdown",
   "id": "c81ee951",
   "metadata": {},
   "source": [
    "## <a id='5_loop'> 5. Loop for webscraping </a>"
   ]
  },
  {
   "cell_type": "code",
   "execution_count": null,
   "id": "20066d8f",
   "metadata": {},
   "outputs": [],
   "source": [
    "#Continent"
   ]
  },
  {
   "cell_type": "markdown",
   "id": "4e23ee68",
   "metadata": {},
   "source": [
    "## <a id='6_final_data'> 6. Data processing and storing </a>"
   ]
  },
  {
   "cell_type": "code",
   "execution_count": null,
   "id": "7dd374b7",
   "metadata": {},
   "outputs": [],
   "source": [
    "final_data = pd.concat( all_tables.values() ).reset_index( drop = True )\n",
    "final_data = final_data.rename( columns={'organizaciones_politicas': ' political_parties',\n",
    "                                         'share_validos': 'share_valid',\n",
    "                                         'share_emitidos': 'share_emitied'})\n",
    "final_data.to_excel( r'../_data_results/group_5_ass_4.xlsx' , index = False )\n",
    "final_data"
   ]
  }
 ],
 "metadata": {
  "kernelspec": {
   "display_name": "Python 3",
   "language": "python",
   "name": "python3"
  },
  "language_info": {
   "codemirror_mode": {
    "name": "ipython",
    "version": 3
   },
   "file_extension": ".py",
   "mimetype": "text/x-python",
   "name": "python",
   "nbconvert_exporter": "python",
   "pygments_lexer": "ipython3",
   "version": "3.8.8"
  }
 },
 "nbformat": 4,
 "nbformat_minor": 5
}
