{
 "cells": [
  {
   "cell_type": "markdown",
   "id": "c37a555b",
   "metadata": {},
   "source": [
    "# Assignment 4\n",
    "In this task you have to scrape all the results from \"Extranjero\". [Here is link](https://resultadoshistorico.onpe.gob.pe/EG2021/EleccionesPresidenciales/RePres/E). \n",
    "You have to **follow the steps as we did in Lecture 7** and get information from all tabs in \"Continente\", \"País\" and \"Estado\".\n",
    "\n",
    "1. Take the data table TOTAL DE VOTOS.\n",
    "2. Store the four columns ORGANIZACIONES POLÍTICAS, TOTAL, %VÁLIDOS and %EMITIDOS. Rename these columns to political_parties, total, share_valid, share_emitied, respectively. \n",
    "3. Add the columns continent, country, state, ubigeo, and link. These last two items you can extract from the url. \n",
    "4. Append  the tables in just one DataFrame and export an excel file and save it in the folder [\\_data\\_results](https://github.com/alexanderquispe/Diplomado_PUCP/tree/main/Lecture_7/_data_results).\n",
    "5. The name of your Excel file should be the same as the name of your branches. "
   ]
  },
  {
   "cell_type": "markdown",
   "id": "e2bdf0ff",
   "metadata": {},
   "source": [
    "# <a id='outline'> Assignment 4 - Outline </a>\n",
    "- <a href='#1_Lib'> 1. Libraries required </a>\n",
    "- <a href='#2_web_page'> 2. Webpage </a>\n",
    "- <a href='#3_scope'> 3. Scope </a>\n",
    "- <a href='#4_set_up'> 4. Set Up before loop </a>\n",
    "- <a href='#5_loop'> 5. Loop for webscraping </a>\n",
    "- <a href='#6_final_data'> 6. Data processing and storing </a>"
   ]
  },
  {
   "cell_type": "markdown",
   "id": "84822015",
   "metadata": {},
   "source": [
    "## <a id='1_Lib'> 1. Libraries required </a>"
   ]
  },
  {
   "cell_type": "code",
   "execution_count": 2,
   "id": "e2ce934b",
   "metadata": {},
   "outputs": [
    {
     "ename": "ModuleNotFoundError",
     "evalue": "No module named 'unidecode'",
     "output_type": "error",
     "traceback": [
      "\u001b[1;31m---------------------------------------------------------------------------\u001b[0m",
      "\u001b[1;31mModuleNotFoundError\u001b[0m                       Traceback (most recent call last)",
      "\u001b[1;32m<ipython-input-2-5935afa252b0>\u001b[0m in \u001b[0;36m<module>\u001b[1;34m\u001b[0m\n\u001b[0;32m      7\u001b[0m \u001b[1;32mimport\u001b[0m \u001b[0mtime\u001b[0m\u001b[1;33m\u001b[0m\u001b[1;33m\u001b[0m\u001b[0m\n\u001b[0;32m      8\u001b[0m \u001b[1;32mimport\u001b[0m \u001b[0mre\u001b[0m\u001b[1;33m\u001b[0m\u001b[1;33m\u001b[0m\u001b[0m\n\u001b[1;32m----> 9\u001b[1;33m \u001b[1;32mimport\u001b[0m \u001b[0munidecode\u001b[0m\u001b[1;33m\u001b[0m\u001b[1;33m\u001b[0m\u001b[0m\n\u001b[0m\u001b[0;32m     10\u001b[0m \u001b[1;32mimport\u001b[0m \u001b[0mtime\u001b[0m\u001b[1;33m\u001b[0m\u001b[1;33m\u001b[0m\u001b[0m\n\u001b[0;32m     11\u001b[0m \u001b[1;32mimport\u001b[0m \u001b[0mprogressbar\u001b[0m\u001b[1;33m\u001b[0m\u001b[1;33m\u001b[0m\u001b[0m\n",
      "\u001b[1;31mModuleNotFoundError\u001b[0m: No module named 'unidecode'"
     ]
    }
   ],
   "source": [
    "#!pip install lxml\n",
    "#!pip install lxmunidecodel\n",
    "#!pip install unidecode\n",
    "\n",
    "\n",
    "import os\n",
    "import time\n",
    "import re\n",
    "import unidecode\n",
    "import time \n",
    "import progressbar\n",
    "\n",
    "\n",
    "import pandas as pd\n",
    "import numpy as np\n",
    "\n",
    "\n",
    "from selenium import webdriver\n",
    "from selenium.webdriver import ActionChains\n",
    "from selenium.webdriver.support.ui import Select\n",
    "from selenium.webdriver.common.keys import Keys\n",
    "from selenium.common.exceptions import NoSuchElementException\n",
    "from webdriver_manager.chrome import ChromeDriverManager"
   ]
  },
  {
   "cell_type": "markdown",
   "id": "ac30e515",
   "metadata": {},
   "source": [
    "## <a id='2_web_page'> 2. Webpage </a>\n",
    "\n",
    "One option direct link (does not work every time)"
   ]
  },
  {
   "cell_type": "code",
   "execution_count": null,
   "id": "d25c12fd",
   "metadata": {},
   "outputs": [],
   "source": [
    "#ChromeDriverManager\n",
    "#driver = webdriver.Chrome( ChromeDriverManager().install() )\n",
    "#driver.maximize_window()\n",
    "#url = 'https://resultadoshistorico.onpe.gob.pe/EG2021/EleccionesPresidenciales/RePres/E'\n",
    "#driver.get( url )\n",
    "#driver.execute_script( \"document.body.style.zoom='100%'\" )"
   ]
  },
  {
   "cell_type": "markdown",
   "id": "29e54a4b",
   "metadata": {},
   "source": [
    "Second options, \"ONPE Resultado Historico\" link and access with clicks. May require time sleep of 10 or more seconds"
   ]
  },
  {
   "cell_type": "code",
   "execution_count": 2,
   "id": "4ce1ed4a",
   "metadata": {},
   "outputs": [
    {
     "name": "stderr",
     "output_type": "stream",
     "text": [
      "\n",
      "\n",
      "====== WebDriver manager ======\n",
      "Current google-chrome version is 96.0.4664\n",
      "Get LATEST chromedriver version for 96.0.4664 google-chrome\n",
      "Driver [C:\\Users\\josed\\.wdm\\drivers\\chromedriver\\win32\\96.0.4664.45\\chromedriver.exe] found in cache\n"
     ]
    }
   ],
   "source": [
    "ChromeDriverManager\n",
    "driver = webdriver.Chrome( ChromeDriverManager().install() )\n",
    "driver.maximize_window()\n",
    "url = 'https://resultadoshistorico.onpe.gob.pe/EG2021/'\n",
    "driver.get( url )\n",
    "driver.execute_script( \"document.body.style.zoom='100%'\" )\n",
    "\n",
    "presi = driver.find_element_by_xpath('/html/body/onpe-root/onpe-home-onpe/div[1]/div/div/div/div[2]/div[2]/div/div/a/div[2]')\n",
    "presi.click()\n",
    "time.sleep(10)"
   ]
  },
  {
   "cell_type": "markdown",
   "id": "6d083bc5",
   "metadata": {},
   "source": [
    "## <a id='3_scope'> 3. Scope </a>\n",
    "\n",
    "In the part we get all the element from the scope and select our element of interest (i.e. Extranjero)"
   ]
  },
  {
   "cell_type": "code",
   "execution_count": 3,
   "id": "3769c3e1",
   "metadata": {},
   "outputs": [],
   "source": [
    "# Get the socpe by element_id\n",
    "#scope = driver.find_element_by_id( \"select_ambito\" )\n",
    "scope = driver.find_element_by_xpath('/html/body/onpe-root/onpe-layout-container/onpe-onpe-epres-re/div[1]/div[3]/div[1]/div[1]/div/div/div/select')\n",
    "\n",
    "# All selenium objects in scope\n",
    "scope_options = [ x for x in scope.find_elements_by_tag_name(\"option\") ]\n",
    "dict_scope_options = { option.text : option for option in scope_options }\n",
    "\n",
    "# We click on Extranjero\n",
    "dict_scope_options['EXTRANJERO'].click()"
   ]
  },
  {
   "cell_type": "markdown",
   "id": "7148b648",
   "metadata": {},
   "source": [
    "## <a id='4_set_up'> 4. Set Up before loop </a>"
   ]
  },
  {
   "cell_type": "code",
   "execution_count": 4,
   "id": "91b3775f",
   "metadata": {},
   "outputs": [],
   "source": [
    "# Store all_tables\n",
    "all_tables = {}\n",
    "\n",
    "# All selenium objects in continen selection\n",
    "cnt = Select( driver.find_element_by_xpath( \"/html/body/onpe-root/onpe-layout-container/onpe-onpe-epres-re/div[1]/div[3]/div[1]/div[1]/div/div/div[2]/select\" ) )\n",
    "\n",
    "# Get number of total options\n",
    "num_cont = len( cnt.options )"
   ]
  },
  {
   "cell_type": "markdown",
   "id": "bbb77623",
   "metadata": {},
   "source": [
    "## <a id='5_loop'> 5. Loop for webscraping </a>"
   ]
  },
  {
   "cell_type": "code",
   "execution_count": 1,
   "id": "a3ec859d",
   "metadata": {},
   "outputs": [
    {
     "ename": "NameError",
     "evalue": "name 'tqdm' is not defined",
     "output_type": "error",
     "traceback": [
      "\u001b[1;31m---------------------------------------------------------------------------\u001b[0m",
      "\u001b[1;31mNameError\u001b[0m                                 Traceback (most recent call last)",
      "\u001b[1;32m<ipython-input-1-dc9df71a2654>\u001b[0m in \u001b[0;36m<module>\u001b[1;34m\u001b[0m\n\u001b[0;32m      1\u001b[0m \u001b[1;31m######## PARTE CONTINENTES ########\u001b[0m\u001b[1;33m\u001b[0m\u001b[1;33m\u001b[0m\u001b[1;33m\u001b[0m\u001b[0m\n\u001b[1;32m----> 2\u001b[1;33m \u001b[1;32mfor\u001b[0m \u001b[0mcnt_idx\u001b[0m \u001b[1;32min\u001b[0m \u001b[0mtqdm\u001b[0m\u001b[1;33m(\u001b[0m\u001b[0mrange\u001b[0m\u001b[1;33m(\u001b[0m \u001b[0mnum_cnt_options\u001b[0m \u001b[1;33m)\u001b[0m\u001b[1;33m)\u001b[0m\u001b[1;33m:\u001b[0m\u001b[1;33m\u001b[0m\u001b[1;33m\u001b[0m\u001b[0m\n\u001b[0m\u001b[0;32m      3\u001b[0m \u001b[1;33m\u001b[0m\u001b[0m\n\u001b[0;32m      4\u001b[0m     \u001b[1;31m# Get again all continents since HTML is refreshing\u001b[0m\u001b[1;33m\u001b[0m\u001b[1;33m\u001b[0m\u001b[1;33m\u001b[0m\u001b[0m\n\u001b[0;32m      5\u001b[0m     \u001b[1;31m# all elements\u001b[0m\u001b[1;33m\u001b[0m\u001b[1;33m\u001b[0m\u001b[1;33m\u001b[0m\u001b[0m\n",
      "\u001b[1;31mNameError\u001b[0m: name 'tqdm' is not defined"
     ]
    }
   ],
   "source": [
    "######## PARTE CONTINENTES ########\n",
    "for cnt_idx in tqdm(range( num_cnt_options )):\n",
    "    \n",
    "    # Get again all continents since HTML is refreshing\n",
    "    # all elements\n",
    "    # Click on one specific continent\n",
    "    cnt = Select( driver.find_element_by_id( \"select_continent\" ) )\n",
    "    continent = cnt.options[ cnt_idx ]\n",
    "    \n",
    "    # Get continent name\n",
    "    cnt_name = continent.text\n",
    "    \n",
    "    # We select a different continent name\n",
    "    if cnt_name != \"--TODOS--\" :\n",
    "        \n",
    "        # click on continent\n",
    "        continent.click()\n",
    "        \n",
    "######## PARTE PAIS ########\n",
    "\n",
    "     # Get all elements of country\n",
    "        pais = Select( driver.find_element_by_xpath(\"/html/body/onpe-root/onpe-layout-container/onpe-onpe-epres-re/div[1]/div[3]/div[1]/div[1]/div/div/div[3]/select\"))\n",
    "        num_pais = len( pais.options )   \n",
    "       \n",
    "        for pais_idx in range( num_pais ):\n",
    "            pais = Select( driver.find_element_by_xpath(\"/html/body/onpe-root/onpe-layout-container/onpe-onpe-epres-re/div[1]/div[3]/div[1]/div[1]/div/div/div[3]/select\" ) )\n",
    "            country = pais.options[ pais_idx ]\n",
    "        \n",
    "        \n",
    "        # Get country name\n",
    "            pais_name = country.text\n",
    "            if pais_name != \"--TODOS--\" :\n",
    "                          \n",
    "                # click on country\n",
    "                country.click()\n",
    "\n",
    "######## PARTE ESTADOS ########\n",
    "\n",
    "                \n",
    "                # Get all elements from estado\n",
    "                est = Select( driver.find_element_by_xpath(\"/html/body/onpe-root/onpe-layout-container/onpe-onpe-epres-re/div[1]/div[3]/div[1]/div[1]/div/div/div[4]/select\" ) )\n",
    "                num_est = len( est.options )\n",
    "                \n",
    "                for est_idx in range( num_est ):\n",
    "                    \n",
    "                    # Get again all states \n",
    "                    est = Select( driver.find_element_by_xpath(\"/html/body/onpe-root/onpe-layout-container/onpe-onpe-epres-re/div[1]/div[3]/div[1]/div[1]/div/div/div[4]/select\") )\n",
    "                    state = est.options[ est_idx ]\n",
    "                    \n",
    "                    # Get states name\n",
    "                    est_name = state.text\n",
    "                    print(est_name)\n",
    "                    if est_name != \"--TODOS--\" :\n",
    "                        \n",
    "                        # click on state\n",
    "                        state.click()\n",
    "                        \n",
    "######## PARTE CONSOLIDAR ########\n",
    "                        \n",
    "                        # Get UBIGEO\n",
    "                        ubigeo = driver.current_url.split(\"/\")[ -1 ]\n",
    "                        \n",
    "                        ## Get table of presidential votes\n",
    "                        # Get html at this point\n",
    "                        # No id for the table wrap, so full xpath \n",
    "                        # is used instead\n",
    "                        table_path = driver.find_element_by_xpath( \"/html/body/onpe-root/onpe-layout-container/onpe-onpe-epres-re/div[1]/div[4]/div[1]/div[3]/div\" )\n",
    "                        table_html = table_path.get_attribute( 'innerHTML' )\n",
    "                        # Read the table using pandas\n",
    "                        table = pd.read_html( table_html )\n",
    "                        \n",
    "                        # Cleaning tables\n",
    "                        row_new_columns = table[ 0 ].iloc[ 0 , 2: ]\n",
    "                        clean_columns = row_new_columns \\\n",
    "                                              .str.replace( \" \", \"_\") \\\n",
    "                                              .str.lower().str.replace( \"%\", \"share_\") \\\n",
    "                                              .apply( lambda x : unidecode.unidecode( x ) ) \\\n",
    "                                              .tolist()\n",
    "                        \n",
    "                        # Selecting specific columns\n",
    "                        table_clean = table[0].iloc[ 1:, 2: ].copy()\n",
    "                        \n",
    "                        # rename columns\n",
    "                        table_clean.columns = clean_columns\n",
    "                        \n",
    "                        # New values to columns \n",
    "                        table_clean[ 'continent' ] = cont_name\n",
    "                        table_clean[ 'country' ]   = pais_name\n",
    "                        table_clean[ 'estate' ]    = est_name\n",
    "                        table_clean[ 'ubigeo' ]    = ubigeo\n",
    "                        table_clean[ 'link' ]      = driver.current_url\n",
    "                        \n",
    "                        # store tables\n",
    "                        all_tables[ ubigeo ] = table_clean                       "
   ]
  },
  {
   "cell_type": "markdown",
   "id": "fce0a9f2",
   "metadata": {},
   "source": [
    "## <a id='6_final_data'> 6. Data processing and storing </a>"
   ]
  },
  {
   "cell_type": "code",
   "execution_count": null,
   "id": "31015485",
   "metadata": {},
   "outputs": [],
   "source": [
    "final_data = pd.concat( all_tables.values() ).reset_index( drop = True )\n",
    "final_data = final_data.rename( columns={'organizaciones_politicas': ' political_parties',\n",
    "                                         'share_validos': 'share_valid',\n",
    "                                         'share_emitidos': 'share_emitied'})\n",
    "final_data.to_excel( r'../_data_results/group_5_ass_4.xlsx' , index = False )\n",
    "final_data"
   ]
  }
 ],
 "metadata": {
  "kernelspec": {
   "display_name": "Python 3",
   "language": "python",
   "name": "python3"
  },
  "language_info": {
   "codemirror_mode": {
    "name": "ipython",
    "version": 3
   },
   "file_extension": ".py",
   "mimetype": "text/x-python",
   "name": "python",
   "nbconvert_exporter": "python",
   "pygments_lexer": "ipython3",
   "version": "3.8.8"
  }
 },
 "nbformat": 4,
 "nbformat_minor": 5
}
