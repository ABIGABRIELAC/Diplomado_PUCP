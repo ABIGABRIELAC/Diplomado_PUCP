{
 "cells": [
  {
   "cell_type": "code",
   "execution_count": null,
   "metadata": {},
   "outputs": [],
   "source": [
    "from selenium import webdriver\n",
    "from selenium.webdriver.common.keys import Keys\n",
    "from selenium.webdriver.support.ui import WebDriverWait\n",
    "from selenium.webdriver.common.by import By\n",
    "from selenium.webdriver.support import expected_conditions as EC\n",
    "import pandas as pd\n",
    "from bs4 import BeautifulSoup\n",
    "import time\n",
    "from webdriver_manager.chrome import ChromeDriverManager\n",
    "from selenium.webdriver.support.ui import Select\n",
    "import unidecode"
   ]
  },
  {
   "cell_type": "code",
   "execution_count": null,
   "metadata": {},
   "outputs": [],
   "source": [
    "VOTES = pd.DataFrame(columns=['political_parties', 'total', 'share_valid', 'share_emited', 'Continent', 'Country', 'Estate', 'Ubigeo', 'Link'])"
   ]
  },
  {
   "cell_type": "code",
   "execution_count": null,
   "metadata": {},
   "outputs": [],
   "source": [
    "driver = webdriver.Chrome(ChromeDriverManager().install())\n",
    "URL =  'https://resultadoshistorico.onpe.gob.pe/EG2021/EleccionesPresidenciales/RePres/E'"
   ]
  },
  {
   "cell_type": "code",
   "execution_count": null,
   "metadata": {},
   "outputs": [],
   "source": [
    "def continente(driver):\n",
    "    global VOTES\n",
    "\n",
    "    continent = Select(driver.find_element_by_xpath('/html/body/onpe-root/onpe-layout-container/onpe-onpe-epres-re/div[1]/div[3]/div[1]/div[1]/div/div/div[2]/select'))\n",
    "    for continent_idx in range(len(continent.options)):\n",
    "        continent = Select(driver.find_element_by_xpath('/html/body/onpe-root/onpe-layout-container/onpe-onpe-epres-re/div[1]/div[3]/div[1]/div[1]/div/div/div[2]/select')).options[continent_idx]\n",
    "        continent_name = continent.text\n",
    "\n",
    "        if continent_name != \"--TODOS--\":\n",
    "            continent.click()\n",
    "            country = Select(driver.find_element_by_xpath('/html/body/onpe-root/onpe-layout-container/onpe-onpe-epres-re/div[1]/div[3]/div[1]/div[1]/div/div/div[3]/select'))\n",
    "            \n",
    "            for country_idx in range( len(country.options) ):\n",
    "                country = Select( driver.find_element_by_xpath( \"/html/body/onpe-root/onpe-layout-container/onpe-onpe-epres-re/div[1]/div[3]/div[1]/div[1]/div/div/div[3]/select\" ) )\n",
    "                country =  country.options[ country_idx ]\n",
    "                \n",
    "                country_name = country.text\n",
    "            \n",
    "                if country_name != \"--TODOS--\" :\n",
    "                    country.click()\n",
    "                    state = Select( driver.find_element_by_xpath( '/html/body/onpe-root/onpe-layout-container/onpe-onpe-epres-re/div[1]/div[3]/div[1]/div[1]/div/div/div[4]/select' ) )\n",
    "\n",
    "                    for state_idx in range( len( state.options ) ):\n",
    "                        state = Select( driver.find_element_by_xpath( '/html/body/onpe-root/onpe-layout-container/onpe-onpe-epres-re/div[1]/div[3]/div[1]/div[1]/div/div/div[4]/select' ) )\n",
    "                        state = state.options[ state_idx ]\n",
    "                        \n",
    "                        state_name = state.text\n",
    "                        \n",
    "                        if state_name != \"--TODOS--\":\n",
    "                            state.click()\n",
    "                            \n",
    "                             ubigeo = driver.current_url.split(\"/\")[-1]\n",
    "                            # obtener tablas\n",
    "                            table_path = driver.find_element_by_xpath('/html/body/onpe-root/onpe-layout-container/onpe-onpe-epres-re/div[1]/div[4]/div[1]/div[4]')\n",
    "                            table_html = table_path.get_attribute('innerHTML')\n",
    "                            # read table using pandas\n",
    "                            table = pd.read_html(table_html)\n",
    "                            table_clean = table[0].iloc[ 1:, 2: ].copy()\n",
    "                            # new columns name\n",
    "                            new_columns = table[0].iloc[0, 2:]\n",
    "                            new_columns[0] = 'political_parties'\n",
    "                            new_columns[1] = 'total'\n",
    "                            new_columns[2] = 'share_valid'\n",
    "                            new_columns[3] = 'share_emited'\n",
    "                            # cleaning table\n",
    "                            table_clean = table[0].iloc[ 1:, 2: ].copy()\n",
    "                            # rename columns\n",
    "                            table_clean.columns = new_columns\n",
    "                            \n",
    "                            # new values to columns\n",
    "                            table_clean[ 'continent' ] = continent_name\n",
    "                            table_clean[ 'country' ] = country_name\n",
    "                            table_clean[ 'state' ] = state_name\n",
    "                            table_clean[ 'ubigeo' ] = ubigeo\n",
    "                            table_clean[ 'link' ] = driver.current_url\n",
    "                            \n",
    "                            # store tables\n",
    "                            all_tables[ ubigeo ] = table_clean\n",
    "                            \n",
    "                            "
   ]
  },
  {
   "cell_type": "code",
   "execution_count": null,
   "metadata": {},
   "outputs": [],
   "source": [
    "driver.get(URL)\n",
    "continente(driver)"
   ]
  }
 ],
 "metadata": {
  "kernelspec": {
   "display_name": "Python 3",
   "language": "python",
   "name": "python3"
  },
  "language_info": {
   "codemirror_mode": {
    "name": "ipython",
    "version": 3
   },
   "file_extension": ".py",
   "mimetype": "text/x-python",
   "name": "python",
   "nbconvert_exporter": "python",
   "pygments_lexer": "ipython3",
   "version": "3.8.8"
  }
 },
 "nbformat": 4,
 "nbformat_minor": 4
}
