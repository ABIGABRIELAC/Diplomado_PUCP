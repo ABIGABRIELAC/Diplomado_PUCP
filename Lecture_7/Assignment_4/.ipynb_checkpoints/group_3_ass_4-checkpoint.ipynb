{
 "cells": [
  {
   "cell_type": "code",
   "execution_count": 1,
   "metadata": {},
   "outputs": [],
   "source": [
    "from selenium import webdriver\n",
    "from selenium.webdriver.common.keys import Keys\n",
    "from selenium.webdriver.support.ui import WebDriverWait\n",
    "from selenium.webdriver.common.by import By\n",
    "from selenium.webdriver.support import expected_conditions as EC\n",
    "import pandas as pd\n",
    "from bs4 import BeautifulSoup\n",
    "import time\n",
    "from webdriver_manager.chrome import ChromeDriverManager\n",
    "from selenium.webdriver.support.ui import Select\n",
    "import unidecode"
   ]
  },
  {
   "cell_type": "code",
   "execution_count": 2,
   "metadata": {},
   "outputs": [
    {
     "name": "stderr",
     "output_type": "stream",
     "text": [
      "\n",
      "\n",
      "====== WebDriver manager ======\n",
      "Current google-chrome version is 96.0.4664\n",
      "Get LATEST chromedriver version for 96.0.4664 google-chrome\n",
      "Driver [C:\\Users\\Usuario\\.wdm\\drivers\\chromedriver\\win32\\96.0.4664.45\\chromedriver.exe] found in cache\n"
     ]
    }
   ],
   "source": [
    "driver = webdriver.Chrome(ChromeDriverManager().install())\n",
    "URL =  'https://www.onpe.gob.pe/elecciones/historico-elecciones/'\n",
    "driver.get( URL )\n",
    "driver.maximize_window()"
   ]
  },
  {
   "cell_type": "code",
   "execution_count": 3,
   "metadata": {},
   "outputs": [
    {
     "name": "stdout",
     "output_type": "stream",
     "text": [
      "Histórico de Elecciones\n",
      "https://www.onpe.gob.pe/elecciones/historico-elecciones/\n"
     ]
    }
   ],
   "source": [
    "# confirmando que estoy en la página indicada\n",
    "print(driver.title)\n",
    "print(driver.current_url)"
   ]
  },
  {
   "cell_type": "code",
   "execution_count": 4,
   "metadata": {},
   "outputs": [],
   "source": [
    "all_tables = {}"
   ]
  },
  {
   "cell_type": "code",
   "execution_count": 5,
   "metadata": {},
   "outputs": [],
   "source": [
    "driver.find_element_by_xpath( \"/html/body/div/div/div/section[2]/div/div[2]/div/div/div[2]/div/div[2]/a\").click()\n",
    "# See all tabs\n",
    "driver.window_handles\n",
    "# Go to the second tab\n",
    "driver.switch_to.window(driver.window_handles[1])\n",
    "# Click on Results\n",
    "driver.find_element_by_xpath( \"/html/body/onpe-root/onpe-home-onpe/div[1]/div/div/div/div[2]/div[2]/div/div/a\" ).click()\n",
    "\n",
    "# Give time to the page to refresh\n",
    "time.sleep( 4 )\n",
    "\n",
    "# Go to Extranjeros\n",
    "scope = Select(driver.find_element_by_id( \"select_ambito\" ))\n",
    "dict_scope_options = { option.text : option for option in scope.options }\n",
    "dict_scope_options['EXTRANJERO'].click()\n",
    "\n",
    "continent = Select(driver.find_element_by_xpath('/html/body/onpe-root/onpe-layout-container/onpe-onpe-epres-re/div[1]/div[3]/div[1]/div[1]/div/div/div[2]/select'))\n",
    "for continent_idx in range(len(continent.options)):\n",
    "    continent = Select(driver.find_element_by_xpath('/html/body/onpe-root/onpe-layout-container/onpe-onpe-epres-re/div[1]/div[3]/div[1]/div[1]/div/div/div[2]/select')).options[continent_idx]\n",
    "    continent_name = continent.text\n",
    "\n",
    "    if continent_name != \"--TODOS--\":\n",
    "        continent.click()\n",
    "        country = Select(driver.find_element_by_xpath('/html/body/onpe-root/onpe-layout-container/onpe-onpe-epres-re/div[1]/div[3]/div[1]/div[1]/div/div/div[3]/select'))\n",
    "\n",
    "        for country_idx in range( len(country.options) ):\n",
    "            country = Select( driver.find_element_by_xpath( \"/html/body/onpe-root/onpe-layout-container/onpe-onpe-epres-re/div[1]/div[3]/div[1]/div[1]/div/div/div[3]/select\" ) )\n",
    "            country =  country.options[ country_idx ]\n",
    "\n",
    "            country_name = country.text\n",
    "\n",
    "            if country_name != \"--TODOS--\" :\n",
    "                country.click()\n",
    "                state = Select( driver.find_element_by_xpath( '/html/body/onpe-root/onpe-layout-container/onpe-onpe-epres-re/div[1]/div[3]/div[1]/div[1]/div/div/div[4]/select' ) )\n",
    "\n",
    "                for state_idx in range( len( state.options ) ):\n",
    "                    state = Select( driver.find_element_by_xpath( '/html/body/onpe-root/onpe-layout-container/onpe-onpe-epres-re/div[1]/div[3]/div[1]/div[1]/div/div/div[4]/select' ) )\n",
    "                    state = state.options[ state_idx ]\n",
    "\n",
    "                    state_name = state.text\n",
    "\n",
    "                    if state_name != \"--TODOS--\":\n",
    "                        state.click()\n",
    "\n",
    "                        ubigeo = driver.current_url.split(\"/\")[-1]\n",
    "                        # obtener tablas\n",
    "                        table_path = driver.find_element_by_xpath('/html/body/onpe-root/onpe-layout-container/onpe-onpe-epres-re/div[1]/div[4]/div[1]/div[4]')\n",
    "                        table_html = table_path.get_attribute('innerHTML')\n",
    "                        # read table using pandas\n",
    "                        table = pd.read_html(table_html)\n",
    "                        table_clean = table[0].iloc[ 1:, 2: ].copy()\n",
    "                        # new columns name\n",
    "                        new_columns = table[0].iloc[0, 2:]\n",
    "                        new_columns[0] = 'political_parties'\n",
    "                        new_columns[1] = 'total'\n",
    "                        new_columns[2] = 'share_valid'\n",
    "                        new_columns[3] = 'share_emited'\n",
    "                        # cleaning table\n",
    "                        table_clean = table[0].iloc[ 1:, 2: ].copy()\n",
    "                        # rename columns\n",
    "                        table_clean.columns = new_columns\n",
    "\n",
    "                        # new values to columns\n",
    "                        table_clean[ 'continent' ] = continent_name\n",
    "                        table_clean[ 'country' ] = country_name\n",
    "                        table_clean[ 'state' ] = state_name\n",
    "                        table_clean[ 'ubigeo' ] = ubigeo\n",
    "                        table_clean[ 'link' ] = driver.current_url\n",
    "\n",
    "                        # store tables\n",
    "                        all_tables[ ubigeo ] = table_clean"
   ]
  },
  {
   "cell_type": "code",
   "execution_count": 6,
   "metadata": {},
   "outputs": [],
   "source": [
    "final_data = pd.concat( all_tables.values() ).reset_index( drop = True )"
   ]
  },
  {
   "cell_type": "code",
   "execution_count": 7,
   "metadata": {},
   "outputs": [],
   "source": [
    "final_data.to_excel(  r'../_data_results/group_3_ass_4.xlsx' , index = False )"
   ]
  }
 ],
 "metadata": {
  "kernelspec": {
   "display_name": "Python 3",
   "language": "python",
   "name": "python3"
  },
  "language_info": {
   "codemirror_mode": {
    "name": "ipython",
    "version": 3
   },
   "file_extension": ".py",
   "mimetype": "text/x-python",
   "name": "python",
   "nbconvert_exporter": "python",
   "pygments_lexer": "ipython3",
   "version": "3.8.3"
  }
 },
 "nbformat": 4,
 "nbformat_minor": 4
}
