{
 "cells": [
  {
   "cell_type": "markdown",
   "metadata": {},
   "source": [
    "# Assignment 4\n"
   ]
  },
  {
   "cell_type": "markdown",
   "metadata": {},
   "source": [
    "1. Web Scrape [this link](https://resultadoshistorico.onpe.gob.pe/EG2021/EleccionesPresidenciales/RePres/E). Take the data table TOTAL DE VOTOS. Store the four columns ORGANIZACIONES POLÍTICAS, TOTAL, %VÁLIDOS and \n",
    " %EMITIDOS. Rename these columns to political_parties, total, share_valid, share_emitied, respectively. Add the column continent, country, state, ubigeo, and link. These last two items you can take from the url. Append all the tables in just one DataFrame and export an excel file and save it in the folder `\\_data\\_results`. The name of your Excel file should be the same as the name of your branches. **Hint: Everything you need is in the lecture.**"
   ]
  }
 ],
 "metadata": {
  "hide_input": false,
  "kernelspec": {
   "display_name": "Python 3",
   "language": "python",
   "name": "python3"
  },
  "language_info": {
   "codemirror_mode": {
    "name": "ipython",
    "version": 3
   },
   "file_extension": ".py",
   "mimetype": "text/x-python",
   "name": "python",
   "nbconvert_exporter": "python",
   "pygments_lexer": "ipython3",
   "version": "3.8.6"
  }
 },
 "nbformat": 4,
 "nbformat_minor": 4
}
