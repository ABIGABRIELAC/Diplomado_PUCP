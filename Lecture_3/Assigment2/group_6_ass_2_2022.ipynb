{
 "cells": [
  {
   "cell_type": "markdown",
   "metadata": {},
   "source": [
    "# 1 Assignment\n",
    "\n",
    "It is totally prohibited to use any kind of loop. You can use stackoverflow. If you copy codes from previous answers, explain each step. No explanation is `0 points`."
   ]
  },
  {
   "cell_type": "markdown",
   "metadata": {},
   "source": [
    "## 1.1 Dictionaries\n"
   ]
  },
  {
   "cell_type": "markdown",
   "metadata": {},
   "source": [
    "1. Create a dictionary with two keys: `even_numbers` and `odd_numbers`. The first key should have all the even numbers in this range `[0, 2000]`, and the second key must have all the odd numbers in this range `[9000, 19000]`. The values should be stored in a `list`. **Hint: Use the `np.arange`, `zip`, and `np.tolist()` functions.** <br><br>\n",
    "2. Print the value of `brand` key of `car` dictionary. **Hint: Use the `get` method.** <br><br>\n",
    "3. Print all the the values of `brand` key of `car` dictionary. **Hint: Use the `values` method.** <br><br>\n",
    "4. Print the max value  of `friday` in `january` of `hr_sleep` dictionary. **Hint: [Indexing in nested dictioanries](https://stackoverflow.com/questions/25836376/how-to-get-the-inner-indexes-of-a-nested-dictionary-in-python).** <br><br>"
   ]
  },
  {
   "cell_type": "code",
   "execution_count": 92,
   "metadata": {},
   "outputs": [],
   "source": [
    "car = {\n",
    "  \"brand\": \"Ford\",\n",
    "  \"model\": \"Mustang\",\n",
    "  \"year\": 1964\n",
    "}"
   ]
  },
  {
   "cell_type": "markdown",
   "metadata": {},
   "source": [
    "5. Add `march` key to the `hr_sleep` dictionary using `week1` and `values2` Python lists. **Hint: Use `zip` function adn [this link](https://stackoverflow.com/questions/1024847/how-can-i-add-new-keys-to-a-dictionary).** <br><br>"
   ]
  },
  {
   "cell_type": "code",
   "execution_count": 93,
   "metadata": {},
   "outputs": [],
   "source": [
    "week1 = ['monday', 'sunday']\n",
    "values2 = [ [2, 3, 4 ] , 8, ]"
   ]
  },
  {
   "cell_type": "code",
   "execution_count": 94,
   "metadata": {},
   "outputs": [],
   "source": [
    "hr_sleep = {\"january\": {\"wednesday\": 7,\n",
    "                      \"thursday\": 8,\n",
    "                      \"friday\": [2, 2, 1, 2]},\n",
    "          \"february\": {\"saturday\": 5,\n",
    "                       \"sunday\": 10,\n",
    "                       \"monday\": 8\n",
    "          }\n",
    "}"
   ]
  },
  {
   "cell_type": "code",
   "execution_count": 95,
   "metadata": {},
   "outputs": [],
   "source": [
    "#From lists to dictionary. Assign keys and values\n",
    "keys = week1 \n",
    "values = values2 "
   ]
  },
  {
   "cell_type": "code",
   "execution_count": 96,
   "metadata": {},
   "outputs": [
    {
     "data": {
      "text/plain": [
       "2"
      ]
     },
     "execution_count": 96,
     "metadata": {},
     "output_type": "execute_result"
    }
   ],
   "source": [
    "#check that they are the same length\n",
    "len(keys)"
   ]
  },
  {
   "cell_type": "code",
   "execution_count": 97,
   "metadata": {},
   "outputs": [
    {
     "data": {
      "text/plain": [
       "2"
      ]
     },
     "execution_count": 97,
     "metadata": {},
     "output_type": "execute_result"
    }
   ],
   "source": [
    "len(values)"
   ]
  },
  {
   "cell_type": "code",
   "execution_count": 98,
   "metadata": {},
   "outputs": [
    {
     "data": {
      "text/plain": [
       "{'monday': [2, 3, 4], 'sunday': 8}"
      ]
     },
     "execution_count": 98,
     "metadata": {},
     "output_type": "execute_result"
    }
   ],
   "source": [
    "# Return a dictionary\n",
    "march = dict( zip( keys , values ) )\n",
    "march"
   ]
  },
  {
   "cell_type": "code",
   "execution_count": 99,
   "metadata": {},
   "outputs": [
    {
     "data": {
      "text/plain": [
       "{'january': {'wednesday': 7, 'thursday': 8, 'friday': [2, 2, 1, 2]},\n",
       " 'february': {'saturday': 5, 'sunday': 10, 'monday': 8},\n",
       " 'March': {'monday': [2, 3, 4], 'sunday': 8}}"
      ]
     },
     "execution_count": 99,
     "metadata": {},
     "output_type": "execute_result"
    }
   ],
   "source": [
    "#Add march key to the hr_sleep dictionary\n",
    "hr_sleep[\"March\"] = march\n",
    "hr_sleep"
   ]
  },
  {
   "cell_type": "markdown",
   "metadata": {},
   "source": [
    "## 1.2 Numpy"
   ]
  },
  {
   "cell_type": "code",
   "execution_count": 100,
   "metadata": {},
   "outputs": [],
   "source": [
    "import numpy as np\n",
    "np1 = np.arange( 200, 750)\n",
    "np2 = np.random.normal( 50 , 4, 300)"
   ]
  },
  {
   "cell_type": "markdown",
   "metadata": {},
   "source": [
    "1. Replace all the `even_numbers` in `np1` with 100. **Hint: Use `indexing` in arrys and [this filer](https://stackoverflow.com/questions/41638751/filtering-even-numbers-in-python).** <br><br>"
   ]
  },
  {
   "cell_type": "code",
   "execution_count": 101,
   "metadata": {},
   "outputs": [
    {
     "name": "stdout",
     "output_type": "stream",
     "text": [
      "[200 201 202 203 204 205 206 207 208 209 210 211 212 213 214 215 216 217\n",
      " 218 219 220 221 222 223 224 225 226 227 228 229 230 231 232 233 234 235\n",
      " 236 237 238 239 240 241 242 243 244 245 246 247 248 249 250 251 252 253\n",
      " 254 255 256 257 258 259 260 261 262 263 264 265 266 267 268 269 270 271\n",
      " 272 273 274 275 276 277 278 279 280 281 282 283 284 285 286 287 288 289\n",
      " 290 291 292 293 294 295 296 297 298 299 300 301 302 303 304 305 306 307\n",
      " 308 309 310 311 312 313 314 315 316 317 318 319 320 321 322 323 324 325\n",
      " 326 327 328 329 330 331 332 333 334 335 336 337 338 339 340 341 342 343\n",
      " 344 345 346 347 348 349 350 351 352 353 354 355 356 357 358 359 360 361\n",
      " 362 363 364 365 366 367 368 369 370 371 372 373 374 375 376 377 378 379\n",
      " 380 381 382 383 384 385 386 387 388 389 390 391 392 393 394 395 396 397\n",
      " 398 399 400 401 402 403 404 405 406 407 408 409 410 411 412 413 414 415\n",
      " 416 417 418 419 420 421 422 423 424 425 426 427 428 429 430 431 432 433\n",
      " 434 435 436 437 438 439 440 441 442 443 444 445 446 447 448 449 450 451\n",
      " 452 453 454 455 456 457 458 459 460 461 462 463 464 465 466 467 468 469\n",
      " 470 471 472 473 474 475 476 477 478 479 480 481 482 483 484 485 486 487\n",
      " 488 489 490 491 492 493 494 495 496 497 498 499 500 501 502 503 504 505\n",
      " 506 507 508 509 510 511 512 513 514 515 516 517 518 519 520 521 522 523\n",
      " 524 525 526 527 528 529 530 531 532 533 534 535 536 537 538 539 540 541\n",
      " 542 543 544 545 546 547 548 549 550 551 552 553 554 555 556 557 558 559\n",
      " 560 561 562 563 564 565 566 567 568 569 570 571 572 573 574 575 576 577\n",
      " 578 579 580 581 582 583 584 585 586 587 588 589 590 591 592 593 594 595\n",
      " 596 597 598 599 600 601 602 603 604 605 606 607 608 609 610 611 612 613\n",
      " 614 615 616 617 618 619 620 621 622 623 624 625 626 627 628 629 630 631\n",
      " 632 633 634 635 636 637 638 639 640 641 642 643 644 645 646 647 648 649\n",
      " 650 651 652 653 654 655 656 657 658 659 660 661 662 663 664 665 666 667\n",
      " 668 669 670 671 672 673 674 675 676 677 678 679 680 681 682 683 684 685\n",
      " 686 687 688 689 690 691 692 693 694 695 696 697 698 699 700 701 702 703\n",
      " 704 705 706 707 708 709 710 711 712 713 714 715 716 717 718 719 720 721\n",
      " 722 723 724 725 726 727 728 729 730 731 732 733 734 735 736 737 738 739\n",
      " 740 741 742 743 744 745 746 747 748 749]\n"
     ]
    }
   ],
   "source": [
    "#We see that the array np1 is composed of values from 200 to 749 incremented by 1\n",
    "print(np1)"
   ]
  },
  {
   "cell_type": "code",
   "execution_count": 102,
   "metadata": {},
   "outputs": [],
   "source": [
    "#We filter even numbers: numbers that have a remainder of 0 when divided by 2. \n",
    "np1 [np1%2 == 0] = 100"
   ]
  },
  {
   "cell_type": "code",
   "execution_count": 103,
   "metadata": {},
   "outputs": [
    {
     "name": "stdout",
     "output_type": "stream",
     "text": [
      "[100 201 100 203 100 205 100 207 100 209 100 211 100 213 100 215 100 217\n",
      " 100 219 100 221 100 223 100 225 100 227 100 229 100 231 100 233 100 235\n",
      " 100 237 100 239 100 241 100 243 100 245 100 247 100 249 100 251 100 253\n",
      " 100 255 100 257 100 259 100 261 100 263 100 265 100 267 100 269 100 271\n",
      " 100 273 100 275 100 277 100 279 100 281 100 283 100 285 100 287 100 289\n",
      " 100 291 100 293 100 295 100 297 100 299 100 301 100 303 100 305 100 307\n",
      " 100 309 100 311 100 313 100 315 100 317 100 319 100 321 100 323 100 325\n",
      " 100 327 100 329 100 331 100 333 100 335 100 337 100 339 100 341 100 343\n",
      " 100 345 100 347 100 349 100 351 100 353 100 355 100 357 100 359 100 361\n",
      " 100 363 100 365 100 367 100 369 100 371 100 373 100 375 100 377 100 379\n",
      " 100 381 100 383 100 385 100 387 100 389 100 391 100 393 100 395 100 397\n",
      " 100 399 100 401 100 403 100 405 100 407 100 409 100 411 100 413 100 415\n",
      " 100 417 100 419 100 421 100 423 100 425 100 427 100 429 100 431 100 433\n",
      " 100 435 100 437 100 439 100 441 100 443 100 445 100 447 100 449 100 451\n",
      " 100 453 100 455 100 457 100 459 100 461 100 463 100 465 100 467 100 469\n",
      " 100 471 100 473 100 475 100 477 100 479 100 481 100 483 100 485 100 487\n",
      " 100 489 100 491 100 493 100 495 100 497 100 499 100 501 100 503 100 505\n",
      " 100 507 100 509 100 511 100 513 100 515 100 517 100 519 100 521 100 523\n",
      " 100 525 100 527 100 529 100 531 100 533 100 535 100 537 100 539 100 541\n",
      " 100 543 100 545 100 547 100 549 100 551 100 553 100 555 100 557 100 559\n",
      " 100 561 100 563 100 565 100 567 100 569 100 571 100 573 100 575 100 577\n",
      " 100 579 100 581 100 583 100 585 100 587 100 589 100 591 100 593 100 595\n",
      " 100 597 100 599 100 601 100 603 100 605 100 607 100 609 100 611 100 613\n",
      " 100 615 100 617 100 619 100 621 100 623 100 625 100 627 100 629 100 631\n",
      " 100 633 100 635 100 637 100 639 100 641 100 643 100 645 100 647 100 649\n",
      " 100 651 100 653 100 655 100 657 100 659 100 661 100 663 100 665 100 667\n",
      " 100 669 100 671 100 673 100 675 100 677 100 679 100 681 100 683 100 685\n",
      " 100 687 100 689 100 691 100 693 100 695 100 697 100 699 100 701 100 703\n",
      " 100 705 100 707 100 709 100 711 100 713 100 715 100 717 100 719 100 721\n",
      " 100 723 100 725 100 727 100 729 100 731 100 733 100 735 100 737 100 739\n",
      " 100 741 100 743 100 745 100 747 100 749]\n"
     ]
    }
   ],
   "source": [
    "#We print the array again and see that all even number have been replaced with 100.\n",
    "print(np1)"
   ]
  },
  {
   "cell_type": "markdown",
   "metadata": {},
   "source": [
    "2. Create a 3x3 matrix with values ranging from 0 to 8. **Hint: Use `np.arange` and `np.reshape` method.** <br><br>"
   ]
  },
  {
   "cell_type": "code",
   "execution_count": 104,
   "metadata": {},
   "outputs": [
    {
     "name": "stdout",
     "output_type": "stream",
     "text": [
      "[0 1 2 3 4 5 6 7 8]\n"
     ]
    }
   ],
   "source": [
    "# Create a 1D NumPy array with values from 0 to 8 incremented by 1:\n",
    "array = np.arange( 0, 9, 1 ) \n",
    "print(array)"
   ]
  },
  {
   "cell_type": "code",
   "execution_count": 105,
   "metadata": {
    "scrolled": true
   },
   "outputs": [
    {
     "name": "stdout",
     "output_type": "stream",
     "text": [
      "[[0 1 2]\n",
      " [3 4 5]\n",
      " [6 7 8]]\n"
     ]
    }
   ],
   "source": [
    "#Convert the 1-D array with 9 elements into a 3x3 matrix using the n.p reshape method\n",
    "matrix = array.reshape(3,3)\n",
    "print(matrix)"
   ]
  },
  {
   "cell_type": "markdown",
   "metadata": {},
   "source": [
    "3. Consider an array `Z = [1,2,3,4,5,6,7,8,9,10]`, generate an array `R = [ [ 1, 2, 3, 4], [ 2, 3, 4, 5 ], [ 3, 4, 5, 6 ], ..., [ 7, 8, 9, 10 ] ]`?.**Hint: Use `np.arange` and `np.concatenate`** <br><br>"
   ]
  },
  {
   "cell_type": "markdown",
   "metadata": {},
   "source": [
    "FORM 1"
   ]
  },
  {
   "cell_type": "code",
   "execution_count": 106,
   "metadata": {},
   "outputs": [
    {
     "name": "stdout",
     "output_type": "stream",
     "text": [
      "[ 1  2  3  4  5  6  7  8  9 10]\n"
     ]
    }
   ],
   "source": [
    "# 1D array Z\n",
    "Z = np.array( [1, 2, 3, 4, 5, 6, 7, 8, 9, 10] )\n",
    "print(Z)"
   ]
  },
  {
   "cell_type": "code",
   "execution_count": 52,
   "metadata": {},
   "outputs": [
    {
     "name": "stdout",
     "output_type": "stream",
     "text": [
      "[1 2 3 4]\n",
      "[2 3 4 5]\n",
      "[3 4 5 6]\n",
      "[4 5 6 7]\n",
      "[5 6 7 8]\n",
      "[6 7 8 9]\n",
      "[ 7  8  9 10]\n"
     ]
    }
   ],
   "source": [
    "# Create each individual vector using np.arrange\n",
    "a = np.arange ( 1, 5)\n",
    "print(a)\n",
    "b = np.arange( 2, 6)\n",
    "print(b) \n",
    "c = np.arange( 3, 7)\n",
    "print(c)\n",
    "d = np.arange( 4, 8)\n",
    "print(d)\n",
    "e = np.arange( 5, 9)\n",
    "print(e)\n",
    "f = np.arange( 6, 10)\n",
    "print(f)\n",
    "g = np.arange( 7, 11)\n",
    "print(g)"
   ]
  },
  {
   "cell_type": "code",
   "execution_count": 71,
   "metadata": {
    "scrolled": true
   },
   "outputs": [
    {
     "name": "stdout",
     "output_type": "stream",
     "text": [
      "[ 1  2  3  4  2  3  4  5  3  4  5  6  4  5  6  7  5  6  7  8  6  7  8  9\n",
      "  7  8  9 10]\n"
     ]
    }
   ],
   "source": [
    "#Generating an array R using np.concatenate to join the individual vectors into one.\n",
    "R = np.concatenate((a, b, c, d, e, f, g), axis=0) \n",
    "print(R)"
   ]
  },
  {
   "cell_type": "markdown",
   "metadata": {},
   "source": [
    "FORM 2"
   ]
  },
  {
   "cell_type": "code",
   "execution_count": 73,
   "metadata": {},
   "outputs": [
    {
     "name": "stdout",
     "output_type": "stream",
     "text": [
      "[[ 1  2  3  4]\n",
      " [ 2  3  4  5]\n",
      " [ 3  4  5  6]\n",
      " [ 4  5  6  7]\n",
      " [ 5  6  7  8]\n",
      " [ 6  7  8  9]\n",
      " [ 7  8  9 10]]\n"
     ]
    }
   ],
   "source": [
    "z= np.arange(1,11) #We create the array Z\n",
    "R = np.concatenate(([z[0:4]], [z[1:5]], [z[2:6]], [z[3:7]],[z[4:8]],[z[5:9]],[z[6:10]])) #We concatenate the array by selecting the indicated values \n",
    "print(R)"
   ]
  },
  {
   "cell_type": "markdown",
   "metadata": {},
   "source": [
    "4. Create a 3x3x3 array with random values. **Hint: Use [`np.random.random`](https://docs.scipy.org/doc/numpy-1.15.0/reference/generated/numpy.random.random.html).** <br><br>"
   ]
  },
  {
   "cell_type": "code",
   "execution_count": 109,
   "metadata": {},
   "outputs": [
    {
     "data": {
      "text/plain": [
       "array([[[0.24814784, 0.4394413 , 0.46425967],\n",
       "        [0.66422865, 0.20511917, 0.66136323],\n",
       "        [0.75677067, 0.3314973 , 0.65508102]],\n",
       "\n",
       "       [[0.78037258, 0.12913994, 0.25095822],\n",
       "        [0.5479428 , 0.56791197, 0.96897832],\n",
       "        [0.58595676, 0.35508587, 0.96160249]],\n",
       "\n",
       "       [[0.94507955, 0.98522773, 0.3324286 ],\n",
       "        [0.69883843, 0.9943248 , 0.91307325],\n",
       "        [0.92912548, 0.24798511, 0.93928786]]])"
      ]
     },
     "execution_count": 109,
     "metadata": {},
     "output_type": "execute_result"
    }
   ],
   "source": [
    "np.random.random( (3,3,3) )  #It's a funtion that returns an array with 3 sub arrays of random floats of shape size (3x3). \n",
    "#The first sub argument is to create the number of subarrays, the second one to rows and finally, the third one is to the columns. "
   ]
  },
  {
   "cell_type": "markdown",
   "metadata": {},
   "source": [
    "5. Comment why this expression `np.nan == np.nan` is False. **Hint: Use stackoverflow.** <br><br>\n"
   ]
  },
  {
   "cell_type": "markdown",
   "metadata": {},
   "source": [
    "In principle, np.nan are not numbers, but are undefined values that are substitutes for the empty spaces of an array, in this case, since we are working with numpys. So, it does not make much mathematical sense to compare two undefined values. "
   ]
  },
  {
   "cell_type": "markdown",
   "metadata": {},
   "source": [
    "6. Print the `mean` and `standard deviation` of `np2`. **Hint: Use `f-string`, `np.mean`, and `np.var` methods.**"
   ]
  },
  {
   "cell_type": "code",
   "execution_count": 110,
   "metadata": {},
   "outputs": [],
   "source": [
    "mean =  round( np.mean(np2) ) #we use the function np.mean to calculate the mean of the array. Then we round the number. \n",
    "sd = round( np.sqrt ( np.var (np2) ) ) #we use the function np.var to calculate the var of the array. Then then we calculate the square root of that number and thus obtain the sd.\n"
   ]
  },
  {
   "cell_type": "code",
   "execution_count": 111,
   "metadata": {},
   "outputs": [
    {
     "name": "stdout",
     "output_type": "stream",
     "text": [
      "The mean is 50 and its standard deviation is 4\n"
     ]
    }
   ],
   "source": [
    " print( f'The mean is {mean} and its standard deviation is {sd}') #we print "
   ]
  },
  {
   "cell_type": "markdown",
   "metadata": {},
   "source": [
    "## Restricted Least Squares\n",
    "\n",
    "Given the following equation:\n",
    "\n",
    "\n",
    "$$\n",
    "\\begin{aligned} \n",
    "lnCT &= \\beta_{0}+\\beta_{q}lnq+ \\frac{1}{2}\\beta_{qq} lnq^2+\\beta_{q1}lnqlnp_1+\\beta_{q2}lnqlnp_2+ \\beta_{q3}lnqlnp_{3} +\\beta_{1}lnp_1+\\beta_{2}lnp_2+ \\beta_{3}lnp_3 \\\\\n",
    "& + \\frac{1}{2}\\beta_{11}ln^{2}p_1+ \\frac{1}{2}\\beta_{22}ln^{2}p_{2}+ \\frac{1}{2}\\beta_{33}ln^{2}p_{3} + \\frac{1}{2}\\beta_{12}lnp_{1}lnp_{2}+ \\frac{1}{2}\\beta_{13}lnp_{1}lnp_{3}+\\frac{1}{2}\\beta_{23}lnp_{2}lnp_{3} \n",
    "\\end{aligned}\n",
    "$$\n",
    "\n",
    "\n",
    "ST: \n",
    "\n",
    "<br>\n",
    "$$\n",
    "\\begin{aligned} \n",
    "\\beta_{1} + \\beta_{2} + \\beta_{3} &= 1 \\\\\n",
    "\\beta_{q1} + \\beta_{q2} + \\beta_{q3} &= 0 \\\\\n",
    "\\beta_{11} + \\beta_{12} + \\beta_{13} &= 0 \\\\\n",
    "\\beta_{21} + \\beta_{22} + \\beta_{23} &= 0 \\\\\n",
    "\\beta_{31} + \\beta_{32} + \\beta_{33} &= 0 \\\\\n",
    "\\beta_{ij} = \\beta_{ji}\n",
    "\\end{aligned}\n",
    "$$"
   ]
  },
  {
   "cell_type": "code",
   "execution_count": 124,
   "metadata": {},
   "outputs": [],
   "source": [
    "import pandas as pd\n",
    "greene = pd.read_csv(r\"../../_data/christensen_greene_f4.csv\")"
   ]
  },
  {
   "cell_type": "code",
   "execution_count": 125,
   "metadata": {},
   "outputs": [],
   "source": [
    "ct = greene.COST.values\n",
    "q = greene.Q.values\n",
    "p1 = greene.PL.values\n",
    "p2 = greene.PF.values\n",
    "p3 = greene.PK.values"
   ]
  },
  {
   "cell_type": "markdown",
   "metadata": {},
   "source": [
    "1. Get $\\widehat{\\boldsymbol{\\beta}}^{(RLS)}$ vector from the equation bellow. Use the `q`, `p1`, `p2`, `p3`, `CT` numpies. <br><br>"
   ]
  },
  {
   "cell_type": "code",
   "execution_count": 123,
   "metadata": {
    "scrolled": true
   },
   "outputs": [
    {
     "data": {
      "text/html": [
       "<div>\n",
       "<style scoped>\n",
       "    .dataframe tbody tr th:only-of-type {\n",
       "        vertical-align: middle;\n",
       "    }\n",
       "\n",
       "    .dataframe tbody tr th {\n",
       "        vertical-align: top;\n",
       "    }\n",
       "\n",
       "    .dataframe thead th {\n",
       "        text-align: right;\n",
       "    }\n",
       "</style>\n",
       "<table border=\"1\" class=\"dataframe\">\n",
       "  <thead>\n",
       "    <tr style=\"text-align: right;\">\n",
       "      <th></th>\n",
       "      <th>id</th>\n",
       "      <th>YEAR</th>\n",
       "      <th>COST</th>\n",
       "      <th>Q</th>\n",
       "      <th>PL</th>\n",
       "      <th>SL</th>\n",
       "      <th>PK</th>\n",
       "      <th>SK</th>\n",
       "      <th>PF</th>\n",
       "      <th>SF</th>\n",
       "    </tr>\n",
       "  </thead>\n",
       "  <tbody>\n",
       "    <tr>\n",
       "      <th>0</th>\n",
       "      <td>1</td>\n",
       "      <td>1970</td>\n",
       "      <td>0.2130</td>\n",
       "      <td>8.0</td>\n",
       "      <td>6869.47</td>\n",
       "      <td>0.3291</td>\n",
       "      <td>64.945</td>\n",
       "      <td>0.4197</td>\n",
       "      <td>18.000</td>\n",
       "      <td>0.2512</td>\n",
       "    </tr>\n",
       "    <tr>\n",
       "      <th>1</th>\n",
       "      <td>4</td>\n",
       "      <td>1970</td>\n",
       "      <td>3.0427</td>\n",
       "      <td>869.0</td>\n",
       "      <td>8372.96</td>\n",
       "      <td>0.1030</td>\n",
       "      <td>68.227</td>\n",
       "      <td>0.2913</td>\n",
       "      <td>21.067</td>\n",
       "      <td>0.6057</td>\n",
       "    </tr>\n",
       "    <tr>\n",
       "      <th>2</th>\n",
       "      <td>5</td>\n",
       "      <td>1970</td>\n",
       "      <td>9.4059</td>\n",
       "      <td>1412.0</td>\n",
       "      <td>7960.90</td>\n",
       "      <td>0.0891</td>\n",
       "      <td>40.692</td>\n",
       "      <td>0.1567</td>\n",
       "      <td>41.530</td>\n",
       "      <td>0.7542</td>\n",
       "    </tr>\n",
       "    <tr>\n",
       "      <th>3</th>\n",
       "      <td>14</td>\n",
       "      <td>1970</td>\n",
       "      <td>0.7606</td>\n",
       "      <td>65.0</td>\n",
       "      <td>8971.89</td>\n",
       "      <td>0.2802</td>\n",
       "      <td>41.243</td>\n",
       "      <td>0.1282</td>\n",
       "      <td>28.539</td>\n",
       "      <td>0.5916</td>\n",
       "    </tr>\n",
       "    <tr>\n",
       "      <th>4</th>\n",
       "      <td>15</td>\n",
       "      <td>1970</td>\n",
       "      <td>2.2587</td>\n",
       "      <td>295.0</td>\n",
       "      <td>8218.40</td>\n",
       "      <td>0.1772</td>\n",
       "      <td>71.940</td>\n",
       "      <td>0.1623</td>\n",
       "      <td>39.200</td>\n",
       "      <td>0.6606</td>\n",
       "    </tr>\n",
       "    <tr>\n",
       "      <th>...</th>\n",
       "      <td>...</td>\n",
       "      <td>...</td>\n",
       "      <td>...</td>\n",
       "      <td>...</td>\n",
       "      <td>...</td>\n",
       "      <td>...</td>\n",
       "      <td>...</td>\n",
       "      <td>...</td>\n",
       "      <td>...</td>\n",
       "      <td>...</td>\n",
       "    </tr>\n",
       "    <tr>\n",
       "      <th>153</th>\n",
       "      <td>214</td>\n",
       "      <td>1970</td>\n",
       "      <td>6.8293</td>\n",
       "      <td>946.6</td>\n",
       "      <td>10642.16</td>\n",
       "      <td>0.0883</td>\n",
       "      <td>43.600</td>\n",
       "      <td>0.1914</td>\n",
       "      <td>51.463</td>\n",
       "      <td>0.7203</td>\n",
       "    </tr>\n",
       "    <tr>\n",
       "      <th>154</th>\n",
       "      <td>215</td>\n",
       "      <td>1970</td>\n",
       "      <td>3.7605</td>\n",
       "      <td>377.0</td>\n",
       "      <td>7432.24</td>\n",
       "      <td>0.2117</td>\n",
       "      <td>74.120</td>\n",
       "      <td>0.2274</td>\n",
       "      <td>33.436</td>\n",
       "      <td>0.5609</td>\n",
       "    </tr>\n",
       "    <tr>\n",
       "      <th>155</th>\n",
       "      <td>216</td>\n",
       "      <td>1970</td>\n",
       "      <td>3.9822</td>\n",
       "      <td>391.0</td>\n",
       "      <td>5826.04</td>\n",
       "      <td>0.1926</td>\n",
       "      <td>78.288</td>\n",
       "      <td>0.0924</td>\n",
       "      <td>44.633</td>\n",
       "      <td>0.7151</td>\n",
       "    </tr>\n",
       "    <tr>\n",
       "      <th>156</th>\n",
       "      <td>217</td>\n",
       "      <td>1970</td>\n",
       "      <td>30.1880</td>\n",
       "      <td>5317.0</td>\n",
       "      <td>9586.63</td>\n",
       "      <td>0.0845</td>\n",
       "      <td>78.008</td>\n",
       "      <td>0.2009</td>\n",
       "      <td>41.840</td>\n",
       "      <td>0.7147</td>\n",
       "    </tr>\n",
       "    <tr>\n",
       "      <th>157</th>\n",
       "      <td>218</td>\n",
       "      <td>1970</td>\n",
       "      <td>67.8562</td>\n",
       "      <td>15220.0</td>\n",
       "      <td>6986.09</td>\n",
       "      <td>0.1451</td>\n",
       "      <td>74.025</td>\n",
       "      <td>0.2596</td>\n",
       "      <td>25.662</td>\n",
       "      <td>0.5945</td>\n",
       "    </tr>\n",
       "  </tbody>\n",
       "</table>\n",
       "<p>158 rows × 10 columns</p>\n",
       "</div>"
      ],
      "text/plain": [
       "      id  YEAR     COST        Q        PL      SL      PK      SK      PF  \\\n",
       "0      1  1970   0.2130      8.0   6869.47  0.3291  64.945  0.4197  18.000   \n",
       "1      4  1970   3.0427    869.0   8372.96  0.1030  68.227  0.2913  21.067   \n",
       "2      5  1970   9.4059   1412.0   7960.90  0.0891  40.692  0.1567  41.530   \n",
       "3     14  1970   0.7606     65.0   8971.89  0.2802  41.243  0.1282  28.539   \n",
       "4     15  1970   2.2587    295.0   8218.40  0.1772  71.940  0.1623  39.200   \n",
       "..   ...   ...      ...      ...       ...     ...     ...     ...     ...   \n",
       "153  214  1970   6.8293    946.6  10642.16  0.0883  43.600  0.1914  51.463   \n",
       "154  215  1970   3.7605    377.0   7432.24  0.2117  74.120  0.2274  33.436   \n",
       "155  216  1970   3.9822    391.0   5826.04  0.1926  78.288  0.0924  44.633   \n",
       "156  217  1970  30.1880   5317.0   9586.63  0.0845  78.008  0.2009  41.840   \n",
       "157  218  1970  67.8562  15220.0   6986.09  0.1451  74.025  0.2596  25.662   \n",
       "\n",
       "        SF   \n",
       "0    0.2512  \n",
       "1    0.6057  \n",
       "2    0.7542  \n",
       "3    0.5916  \n",
       "4    0.6606  \n",
       "..      ...  \n",
       "153  0.7203  \n",
       "154  0.5609  \n",
       "155  0.7151  \n",
       "156  0.7147  \n",
       "157  0.5945  \n",
       "\n",
       "[158 rows x 10 columns]"
      ]
     },
     "execution_count": 123,
     "metadata": {},
     "output_type": "execute_result"
    }
   ],
   "source": [
    "import numpy as np\n",
    "greene"
   ]
  },
  {
   "cell_type": "markdown",
   "metadata": {},
   "source": [
    "$$\n",
    "\\begin{aligned} \n",
    "lnCT &= \\beta_{0}+\\beta_{q}lnq+ \\frac{1}{2}\\beta_{qq} lnq^2+\\beta_{q1}lnqlnp_1+\\beta_{q2}lnqlnp_2+ \\beta_{q3}lnqlnp_{3} +\\beta_{1}lnp_1+\\beta_{2}lnp_2+ \\beta_{3}lnp_3 \\\\\n",
    "& + \\frac{1}{2}\\beta_{11}ln^{2}p_1+ \\frac{1}{2}\\beta_{22}ln^{2}p_{2}+ \\frac{1}{2}\\beta_{33}ln^{2}p_{3} + \\frac{1}{2}\\beta_{12}lnp_{1}lnp_{2}+ \\frac{1}{2}\\beta_{13}lnp_{1}lnp_{3}+\\frac{1}{2}\\beta_{23}lnp_{2}lnp_{3} \n",
    "\\end{aligned}\n",
    "$$\n",
    "\n"
   ]
  },
  {
   "cell_type": "code",
   "execution_count": 139,
   "metadata": {
    "scrolled": true
   },
   "outputs": [],
   "source": [
    "#First, we construct the variables \n",
    "lnCT =np.log(ct).reshape(-1,1)\n",
    "\n",
    "x0 = np.ones( len(greene) )  #we create a vector of 1's. \n",
    "x1=np.log(q)\n",
    "x2= (1/2)*np.log(np.sqrt(q))\n",
    "x3=np.log(q)*np.log(p1)\n",
    "x4=np.log(q)*np.log(p2)\n",
    "x5=np.log(q)*np.log(p3)\n",
    "x6=np.log(p1)\n",
    "x7=np.log(p2)\n",
    "x8=np.log(p3)\n",
    "x9=0.5*np.log(p1)**(2)\n",
    "x10=0.5*np.log(p2)**(2)\n",
    "x11=0.5*np.log(p3)**(2)\n",
    "x12=0.5*np.log(p1)*np.log(p2)\n",
    "x13=0.5*np.log(p1)*np.log(p3)\n",
    "x14=0.5*np.log(p2)*np.log(p3)\n",
    "\n"
   ]
  },
  {
   "cell_type": "code",
   "execution_count": 127,
   "metadata": {},
   "outputs": [
    {
     "data": {
      "text/plain": [
       "(158, 15)"
      ]
     },
     "execution_count": 127,
     "metadata": {},
     "output_type": "execute_result"
    }
   ],
   "source": [
    "#Create the matrix X\n",
    "X = np.hstack(( x0.reshape(-1, 1 ) , x1.reshape(-1, 1 ), x2.reshape(-1, 1 ), x3.reshape(-1, 1 ), x4.reshape(-1, 1 )\n",
    "              , x5.reshape(-1, 1 ), x6.reshape(-1, 1 ), x7.reshape(-1, 1 ), x8.reshape(-1, 1 ), x9.reshape(-1, 1 )\n",
    "              , x10.reshape(-1, 1 ), x11.reshape(-1, 1 ), x12.reshape(-1, 1 ), x13.reshape(-1, 1 ), x14.reshape(-1, 1 )))\n",
    "X.shape"
   ]
  },
  {
   "cell_type": "code",
   "execution_count": 132,
   "metadata": {},
   "outputs": [
    {
     "data": {
      "text/plain": [
       "array([[0, 0, 0, 0, 0, 0, 1, 1, 1, 0, 0, 0, 0, 0, 0],\n",
       "       [0, 0, 0, 1, 1, 1, 0, 0, 0, 0, 0, 0, 0, 0, 0],\n",
       "       [0, 0, 0, 0, 0, 0, 0, 0, 0, 1, 0, 0, 1, 1, 0],\n",
       "       [0, 0, 0, 0, 0, 0, 0, 0, 0, 0, 1, 0, 1, 0, 1],\n",
       "       [0, 0, 0, 0, 0, 0, 0, 0, 0, 0, 0, 1, 0, 1, 1]])"
      ]
     },
     "execution_count": 132,
     "metadata": {},
     "output_type": "execute_result"
    }
   ],
   "source": [
    "#We create the matrix of restrictions L*beta = r\n",
    "L_1 = np.array([0,0,0,0,0,0,1,1,1,0,0,0,0,0,0])\n",
    "L_2 = np.array([0,0,0,1,1,1,0,0,0,0,0,0,0,0,0])\n",
    "L_3 = np.array([0,0,0,0,0,0,0,0,0,1,0,0,1,1,0])\n",
    "L_4 = np.array([0,0,0,0,0,0,0,0,0,0,1,0,1,0,1])\n",
    "L_5 = np.array([0,0,0,0,0,0,0,0,0,0,0,1,0,1,1])\n",
    "\n",
    "L = np.vstack(( L_1, L_2, L_3, L_4, L_5 ))\n",
    "L.shape\n",
    "L\n"
   ]
  },
  {
   "cell_type": "code",
   "execution_count": 140,
   "metadata": {},
   "outputs": [
    {
     "data": {
      "text/plain": [
       "(158, 1)"
      ]
     },
     "execution_count": 140,
     "metadata": {},
     "output_type": "execute_result"
    }
   ],
   "source": [
    "r = np.array([1,0,0,0,0]).reshape(-1, 1 )\n",
    "r.shape\n",
    "lnCT.shape"
   ]
  },
  {
   "cell_type": "markdown",
   "metadata": {},
   "source": [
    "We calculate the following according to this [`page`](http://web.vu.lt/mif/a.buteikis/wp-content/uploads/PE_Book/4-4-Multiple-RLS.html).\n",
    "\n",
    "$$\n",
    "\\widehat{\\beta }^{\\left( RLS\\right) } = \\widehat{\\beta }^{\\left( OLS\\right) } - \\left[\n",
    " X^{T}X\\right] ^{-1}L^{T}\\left( L\\left(\n",
    "X^{T}X\\right) ^{-1}L^{T}\\right) ^{-1}\\left( L\\widehat{\\beta }^{\\left( OLS\\right) }-r\\right) \n",
    "$$\n"
   ]
  },
  {
   "cell_type": "code",
   "execution_count": 141,
   "metadata": {},
   "outputs": [
    {
     "data": {
      "text/plain": [
       "array([[-1.81364785e+01],\n",
       "       [-7.75794873e+02],\n",
       "       [ 3.09174577e+03],\n",
       "       [ 3.03500392e-01],\n",
       "       [ 8.39207720e-02],\n",
       "       [ 9.24993121e-02],\n",
       "       [ 7.60494052e+00],\n",
       "       [-5.91269457e+00],\n",
       "       [ 2.27111177e+00],\n",
       "       [-1.12847196e+00],\n",
       "       [-1.98222478e-01],\n",
       "       [ 2.43326855e-01],\n",
       "       [ 1.26826593e+00],\n",
       "       [-1.00949995e+00],\n",
       "       [ 4.12353351e-01]])"
      ]
     },
     "execution_count": 141,
     "metadata": {},
     "output_type": "execute_result"
    }
   ],
   "source": [
    "#First, we calculate the beta OLS\n",
    "beta_ols = np.linalg.inv(X.T @ X) @ X.T @ lnCT\n",
    "beta_ols"
   ]
  },
  {
   "cell_type": "code",
   "execution_count": 163,
   "metadata": {
    "scrolled": true
   },
   "outputs": [
    {
     "data": {
      "text/plain": [
       "array([[-5.39482863e+00],\n",
       "       [-7.58734616e+02],\n",
       "       [ 3.03637703e+03],\n",
       "       [ 4.44106970e-02],\n",
       "       [ 4.39271042e-02],\n",
       "       [-8.83378011e-02],\n",
       "       [ 3.27955314e-01],\n",
       "       [-4.46628425e-02],\n",
       "       [ 7.16707528e-01],\n",
       "       [-8.31067347e-02],\n",
       "       [-1.78254950e-01],\n",
       "       [ 2.72618619e-01],\n",
       "       [ 2.66990152e-01],\n",
       "       [-1.83883417e-01],\n",
       "       [-8.87352022e-02]])"
      ]
     },
     "execution_count": 163,
     "metadata": {},
     "output_type": "execute_result"
    }
   ],
   "source": [
    "#Calculate the beta RLS\n",
    "beta_rls = beta_ols - np.linalg.inv(X.T @ X)  @ L.T @ np.linalg.inv(L @ np.linalg.inv(X.T @ X) @ L.T) @ (L@ beta_ols - r)\n",
    "beta_rls\n"
   ]
  },
  {
   "cell_type": "markdown",
   "metadata": {},
   "source": [
    "2. Get the `covariance matrix` $\\mathbb{V}{\\rm ar} \\left(\\widehat{\\boldsymbol{\\beta}}^{(RLS)} \\right)$. <br><br>\n",
    "**Hint: For more information about Restricted Least Squares [click here](http://web.vu.lt/mif/a.buteikis/wp-content/uploads/PE_Book/4-4-Multiple-RLS.html).**<br>"
   ]
  },
  {
   "cell_type": "markdown",
   "metadata": {},
   "source": [
    "$$\n",
    "Var\\left( \\widehat{\\beta }^{\\left( RLS\\right) }\\right) =\\sigma ^{2}\\left[\n",
    "X^{T}X\\right] ^{-1}-\\sigma ^{2}\\left[ X^{T}X\\right] ^{-1}L^{T}\\left( L\\left(\n",
    "X^{T}X\\right) ^{-1}L^{T}\\right) ^{-1}L\\left( X^{T}X\\right) ^{-1}\n",
    "$$"
   ]
  },
  {
   "cell_type": "code",
   "execution_count": 161,
   "metadata": {},
   "outputs": [
    {
     "data": {
      "text/plain": [
       "array([[0.63198512]])"
      ]
     },
     "execution_count": 161,
     "metadata": {},
     "output_type": "execute_result"
    }
   ],
   "source": [
    "#We calculate the Y_pred\n",
    "y_pred = X @ beta_ols\n",
    "\n",
    "# We calculate the standard error of the regression\n",
    "sigma2 = ( (1 / (len(greene) - X.shape[1]+1-L.shape[0])) * (y_pred - lnCT).T  @ (y_pred - lnCT))\n",
    "sigma = np.sqrt(var)\n",
    "sigma "
   ]
  },
  {
   "cell_type": "code",
   "execution_count": 162,
   "metadata": {},
   "outputs": [
    {
     "data": {
      "text/plain": [
       "array([[ 2.78451305e+02,  2.05956190e+02, -8.36354305e+02,\n",
       "         5.20021101e-01, -7.24676295e-01,  2.04655194e-01,\n",
       "        -1.00109601e+02,  5.29086417e+01,  4.72009588e+01,\n",
       "         1.30059814e+01, -3.03811608e+00, -2.69516470e+01,\n",
       "        -1.84597562e+01,  5.45377476e+00,  2.14978723e+01],\n",
       "       [ 2.06870738e+02,  3.47437496e+11, -1.38974998e+12,\n",
       "        -1.84198172e-01, -6.46037109e-02,  2.48801883e-01,\n",
       "        -7.87141062e+01,  4.47830640e+01,  3.39310421e+01,\n",
       "         1.06391211e+01,  3.67076638e+00, -2.71215020e+01,\n",
       "        -2.07156947e+01,  1.00765736e+01,  1.70449284e+01],\n",
       "       [-8.40013823e+02, -1.38974998e+12,  5.55899994e+12,\n",
       "         3.47028731e-01,  5.55298713e-01, -9.02327444e-01,\n",
       "         3.16439987e+02, -1.80998947e+02, -1.35441040e+02,\n",
       "        -4.23359386e+01, -1.50382532e+01,  1.08269186e+02,\n",
       "         8.28216890e+01, -4.04857504e+01, -6.77834358e+01],\n",
       "       [ 5.20021101e-01, -1.83514457e-01,  3.44293874e-01,\n",
       "         1.87621606e-02, -1.19907973e-02, -6.77136335e-03,\n",
       "        -4.62065790e-02,  5.98513425e-02, -1.36447635e-02,\n",
       "        -1.50773057e-02,  2.00781171e-02,  1.62660022e-02,\n",
       "         5.63259539e-03,  9.44471029e-03, -2.57107125e-02],\n",
       "       [-7.24676295e-01, -6.17475178e-02,  5.43873941e-01,\n",
       "        -1.19907973e-02,  2.14698667e-02, -9.47906939e-03,\n",
       "         1.67201482e-01, -2.00297776e-01,  3.30962945e-02,\n",
       "        -1.08277567e-02,  2.12338524e-03,  1.47396783e-02,\n",
       "         1.17220249e-02, -8.94268194e-04, -1.38454101e-02],\n",
       "       [ 2.04655194e-01,  2.45261975e-01, -8.88167815e-01,\n",
       "        -6.77136335e-03, -9.47906939e-03,  1.62504327e-02,\n",
       "        -1.20994903e-01,  1.40446434e-01, -1.94515310e-02,\n",
       "         2.59050624e-02, -2.22015023e-02, -3.10056805e-02,\n",
       "        -1.73546203e-02, -8.55044210e-03,  3.95561226e-02],\n",
       "       [-1.00109601e+02, -7.82449069e+01,  3.14563191e+02,\n",
       "        -4.62065790e-02,  1.67201482e-01, -1.20994903e-01,\n",
       "         3.77939477e+01, -1.93436140e+01, -1.84503337e+01,\n",
       "        -5.13376594e+00,  1.50031171e+00,  1.01582234e+01,\n",
       "         6.89583884e+00, -1.76207290e+00, -8.39615055e+00],\n",
       "       [ 5.29086417e+01,  4.45982822e+01, -1.80259820e+02,\n",
       "         5.98513425e-02, -2.00297776e-01,  1.40446434e-01,\n",
       "        -1.93436140e+01,  1.12252030e+01,  8.11841108e+00,\n",
       "         2.55532581e+00, -9.86641264e-02, -5.59617445e+00,\n",
       "        -4.02641807e+00,  1.47109226e+00,  4.12508219e+00],\n",
       "       [ 4.72009588e+01,  3.36466248e+01, -1.34303370e+02,\n",
       "        -1.36447635e-02,  3.30962945e-02, -1.94515310e-02,\n",
       "        -1.84503337e+01,  8.11841108e+00,  1.03319226e+01,\n",
       "         2.57844013e+00, -1.40164758e+00, -4.56204900e+00,\n",
       "        -2.86942077e+00,  2.90980642e-01,  4.27106836e+00],\n",
       "       [ 1.30059814e+01,  1.05655793e+01, -4.20417712e+01,\n",
       "        -1.50773057e-02, -1.08277567e-02,  2.59050624e-02,\n",
       "        -5.13376594e+00,  2.55532581e+00,  2.57844013e+00,\n",
       "         7.27667619e-01, -2.73441782e-01, -1.37296727e+00,\n",
       "        -9.13596551e-01,  1.85928932e-01,  1.18703833e+00],\n",
       "       [-3.03811608e+00,  3.69164328e+00, -1.51217608e+01,\n",
       "         2.00781171e-02,  2.12338524e-03, -2.22015023e-02,\n",
       "         1.50031171e+00, -9.86641264e-02, -1.40164758e+00,\n",
       "        -2.73441782e-01,  9.36549629e-01, -1.98722857e-01,\n",
       "        -4.30915352e-01,  7.04357134e-01, -5.05634277e-01],\n",
       "       [-2.69516470e+01, -2.69573720e+01,  1.07612666e+02,\n",
       "         1.62660022e-02,  1.47396783e-02, -3.10056805e-02,\n",
       "         1.01582234e+01, -5.59617445e+00, -4.56204900e+00,\n",
       "        -1.37296727e+00, -1.98722857e-01,  3.29226333e+00,\n",
       "         2.43197673e+00, -1.05900946e+00, -2.23325387e+00],\n",
       "       [-1.84597562e+01, -2.06072973e+01,  8.23880991e+01,\n",
       "         5.63259539e-03,  1.17220249e-02, -1.73546203e-02,\n",
       "         6.89583884e+00, -4.02641807e+00, -2.86942077e+00,\n",
       "        -9.13596551e-01, -4.30915352e-01,  2.43197673e+00,\n",
       "         1.88824432e+00, -9.74647765e-01, -1.45732896e+00],\n",
       "       [ 5.45377476e+00,  1.00417180e+01, -4.03463279e+01,\n",
       "         9.44471029e-03, -8.94268194e-04, -8.55044210e-03,\n",
       "        -1.76207290e+00,  1.47109226e+00,  2.90980642e-01,\n",
       "         1.85928932e-01,  7.04357134e-01, -1.05900946e+00,\n",
       "        -9.74647765e-01,  7.88718833e-01,  2.70290630e-01],\n",
       "       [ 2.14978723e+01,  1.69156540e+01, -6.72663383e+01,\n",
       "        -2.57107125e-02, -1.38454101e-02,  3.95561226e-02,\n",
       "        -8.39615055e+00,  4.12508219e+00,  4.27106836e+00,\n",
       "         1.18703833e+00, -5.05634277e-01, -2.23325387e+00,\n",
       "        -1.45732896e+00,  2.70290630e-01,  1.96296324e+00]])"
      ]
     },
     "execution_count": 162,
     "metadata": {},
     "output_type": "execute_result"
    }
   ],
   "source": [
    "#\n",
    "Cov_Var_RLS=sigma*(np.linalg.inv(X.T@X))-sigma*(np.linalg.inv(X.T@X)@L.T@np.linalg.inv(L@np.linalg.inv(X.T@X)@L.T)@L@np.linalg.inv(X.T@X))\n",
    "Cov_Var_RLS"
   ]
  },
  {
   "cell_type": "markdown",
   "metadata": {},
   "source": [
    "# Pandas"
   ]
  },
  {
   "cell_type": "markdown",
   "metadata": {},
   "source": [
    "Run the code bellow uncomment the second line to install savReaderWriter library. The `dict_varlabels` has the labels of the columns of rec1.\n"
   ]
  },
  {
   "cell_type": "code",
   "execution_count": 4,
   "metadata": {},
   "outputs": [
    {
     "name": "stdout",
     "output_type": "stream",
     "text": [
      "Requirement already satisfied: savReaderWriter in c:\\users\\valer\\anaconda3\\lib\\site-packages (3.4.2)\n",
      "Requirement already satisfied: pyreadstat in c:\\users\\valer\\anaconda3\\lib\\site-packages (1.2.0)\n",
      "Requirement already satisfied: pandas>=1.2.0 in c:\\users\\valer\\anaconda3\\lib\\site-packages (from pyreadstat) (1.4.4)\n",
      "Requirement already satisfied: numpy>=1.18.5 in c:\\users\\valer\\anaconda3\\lib\\site-packages (from pandas>=1.2.0->pyreadstat) (1.21.5)\n",
      "Requirement already satisfied: pytz>=2020.1 in c:\\users\\valer\\anaconda3\\lib\\site-packages (from pandas>=1.2.0->pyreadstat) (2022.1)\n",
      "Requirement already satisfied: python-dateutil>=2.8.1 in c:\\users\\valer\\anaconda3\\lib\\site-packages (from pandas>=1.2.0->pyreadstat) (2.8.2)\n",
      "Requirement already satisfied: six>=1.5 in c:\\users\\valer\\anaconda3\\lib\\site-packages (from python-dateutil>=2.8.1->pandas>=1.2.0->pyreadstat) (1.16.0)\n"
     ]
    }
   ],
   "source": [
    "# read REC0111 data\n",
    "#!pip install savReaderWriter\n",
    "# install pyreadstat\n",
    "#!pip install pyreadstat "
   ]
  },
  {
   "cell_type": "code",
   "execution_count": 5,
   "metadata": {},
   "outputs": [],
   "source": [
    "import pandas as pd ## Import pandas library \n",
    "import numpy as np ## Import numpy library "
   ]
  },
  {
   "cell_type": "code",
   "execution_count": 6,
   "metadata": {},
   "outputs": [],
   "source": [
    "import savReaderWriter as sav\n",
    "rec1 = pd.read_spss( fr\"../../_data/endes/2019/REC0111.sav\" )\n",
    "\n",
    "# Get labels from sav file\n",
    "with sav.SavHeaderReader( fr\"../../_data/endes/2019/REC0111.sav\", ioUtf8=True) as header:\n",
    "    metadata = header.all()\n",
    "\n",
    "dict_varlabels = metadata[3]\n"
   ]
  },
  {
   "cell_type": "code",
   "execution_count": 7,
   "metadata": {},
   "outputs": [
    {
     "data": {
      "text/plain": [
       "{'ID1': 'Año',\n",
       " 'HHID': 'Identificación Cuestionario del Hogar',\n",
       " 'CASEID': 'Identificación Cuestionario Individual',\n",
       " 'V001': 'Conglomerado',\n",
       " 'V002': 'Número de vivienda',\n",
       " 'V003': 'Número de línea de entrevistada',\n",
       " 'V004': 'Unidad de área final',\n",
       " 'V007': 'Año de la entrevista',\n",
       " 'V008': 'Fecha de la entrevista, Codificación centenaria de meses (CMC)',\n",
       " 'V009': 'Mes de nacimiento de la entrevistada',\n",
       " 'V010': 'Año de nacimiento de la entrevistada',\n",
       " 'V011': 'Fecha de nacimiento, Codificación centenaria de meses (CMC)',\n",
       " 'V012': 'Edad actual - entrevistada',\n",
       " 'V013': 'Edad actual por grupos de 5 años',\n",
       " 'V014': 'Integridad de la información para la fecha de nacimiento ',\n",
       " 'V015': 'Resultado entrevista individual',\n",
       " 'V017': 'Inicio del calendario, Codificación centenaria de mesesl CMC',\n",
       " 'V018': 'Columna del mes de la entrevista',\n",
       " 'V019': 'Duración del calendario',\n",
       " 'V019A': 'Número de columnas de calendario',\n",
       " 'V020': 'Muestra alguna vez casada',\n",
       " 'V021': 'Unidad de muestreo primario - conglomerado',\n",
       " 'V023': 'Dominio de ejemplo - Departamento',\n",
       " 'V024': 'Región',\n",
       " 'V025': 'Tipo de lugar de residencia',\n",
       " 'V026': 'El lugar de residencia en el que se entrevistó - De Facto',\n",
       " 'V027': 'Número de visitas',\n",
       " 'V028': 'Identificación del entrevistador',\n",
       " 'V029': 'Identificador del digitador',\n",
       " 'V030': 'Supervisor de campo',\n",
       " 'V031': 'Editor de campo',\n",
       " 'V032': 'Editor de la oficina',\n",
       " 'V033': 'Selección final del área de probabilidad',\n",
       " 'V034': 'Número de orden del esposo',\n",
       " 'V040': 'Altitud del conglomerado en metros',\n",
       " 'V042': 'Selección de hogar para hemoglobina',\n",
       " 'V043': 'Selección para módulo de estatus de mujeres',\n",
       " 'V044': 'Selección para módulo de violencia domestica',\n",
       " 'V000': 'Código y fase del país',\n",
       " 'Q105DD': 'Dia de nacimeinto de la entrevistada',\n",
       " 'V101': 'Región',\n",
       " 'V102': 'Tipo de lugar de residencia',\n",
       " 'V103': 'Lugar de residencia de la infancia',\n",
       " 'V104': 'Cuanto tiempo tiene viviendo continuamente en el lugar de residencia actual',\n",
       " 'V105': 'Tipo de lugar de residencia anteriormente',\n",
       " 'V106': 'Nivel educativo más alto',\n",
       " 'V107': 'Año/grado de educación más alto aprobado',\n",
       " 'V113': 'Fuente principal de abasteciemiento de agua potable que utilizan en su hogar para tomar o beber',\n",
       " 'V115': 'Tiempo para llegar a la fuente de agua',\n",
       " 'V116': 'Tipo de instalación sanitaria',\n",
       " 'V119': 'En su hogar tiene: electricidad',\n",
       " 'V120': 'En su hogar tiene: radio',\n",
       " 'V121': 'En su hogar tiene: televisión',\n",
       " 'V122': 'En su hogar tiene: refrigerador',\n",
       " 'V123': 'En su hogar tiene: bicicleta',\n",
       " 'V124': 'En su hogar tiene: motocicleta/motocar',\n",
       " 'V125': 'En su hogar tiene: coche/camión',\n",
       " 'V127': 'Material predominante del piso de la vivienda',\n",
       " 'V128': 'Material predominante de las paredes exteriores de la vivienda',\n",
       " 'V129': 'Material predominante del techo de la vivienda',\n",
       " 'V130': 'Religión',\n",
       " 'V131': 'Etnicidad',\n",
       " 'V133': 'Educación en años simples',\n",
       " 'V134': 'El lugar en el que se realizó la entrevista  De-facto',\n",
       " 'V135': 'Residente habitual o visitante',\n",
       " 'V136': 'Número de miembros del hogar',\n",
       " 'V137': 'Número de niños de 6 años de edad ',\n",
       " 'V138': 'Número de mujeres de 15 a 49 años de edad elegibles en el hogar ',\n",
       " 'V139': 'Región, residencia habitual De-jure',\n",
       " 'V140': 'Tipo de área de residencia De-jure',\n",
       " 'V141': 'Lugar de residencia De-jure',\n",
       " 'V149': 'Logro educativo',\n",
       " 'V150': 'Relación con el jefe del hogar',\n",
       " 'V151': 'Sexo del Jefe del Hogar',\n",
       " 'V152': 'Edad del jefe del hogar',\n",
       " 'V153': 'En su hogar tiene: teléfono',\n",
       " 'AWFACTT': 'Factor todas las mujeres - total',\n",
       " 'AWFACTU': 'Factor todas las mujeres - urbano/rural',\n",
       " 'AWFACTR': 'Factor todas las mujeres - regional',\n",
       " 'AWFACTE': 'Factor todas las mujeres - educación',\n",
       " 'AWFACTW': 'Factor todas las mujeres - índice de riqueza',\n",
       " 'V155': 'Alfabetización',\n",
       " 'V156': 'Alguna vez participó en un programa de alfabetización (no incluyendo la escuela primaria)',\n",
       " 'V157': 'Frecuencia de lectura de un periódico o revista',\n",
       " 'V158': 'Frecuencia de escuchar radio',\n",
       " 'V159': 'Frecuencia de ver televisión',\n",
       " 'V160': 'Baño compartido con otros hogares',\n",
       " 'V161': 'Tipo de combustible para cocinar',\n",
       " 'V166': 'Resultados de la prueba del yodo en la sal',\n",
       " 'V167': 'Número de viajes en los últimos 12 meses',\n",
       " 'V168': 'Afuera más de un mes en los últimos 12 meses',\n",
       " 'ML101': 'Tipo de mosquitero que utilizo para dormir última noche',\n",
       " 'QD333_1': 'Alguna dificultad o limitación permanente para ver, aún usando anteojos',\n",
       " 'QD333_2': 'Alguna dificultad o limitación permanente para oir, aún usando audífonos',\n",
       " 'QD333_3': 'Alguna dificultad o limitación permanente para hablar o comunicarse, aún usando la lengua de señas u otro',\n",
       " 'QD333_4': 'Alguna dificultad o limitación permanente para moverse o caminar para usar brazos y/o piernas',\n",
       " 'QD333_5': 'Alguna dificultad o limitación permanente para entender o aprender (concentrarse y recordarse)',\n",
       " 'QD333_6': 'Alguna dificultad o limitación permanente para relacionarse con los demás, por sus pensamientos, sentimientos, emociones o conductas',\n",
       " 'UBIGEO': 'Código de Ubicación Gegráfica',\n",
       " 'V022': 'Estratos',\n",
       " 'V005': 'Factor de ponderacion',\n",
       " 'V190': 'Índice de riqueza',\n",
       " 'V191': 'Factor de puntuación del índice de riqueza (5 decimales)',\n",
       " 'mujeres12a49': 'Mujeres de 12 a 49 años de edad',\n",
       " 'NCONGLOME': 'Número de Conglomerado (proveniente del marco)'}"
      ]
     },
     "execution_count": 7,
     "metadata": {},
     "output_type": "execute_result"
    }
   ],
   "source": [
    "dict_varlabels"
   ]
  },
  {
   "cell_type": "markdown",
   "metadata": {},
   "source": [
    "1. Check if CASEID identifies each observation uniquely. Hint: Use is_unique method."
   ]
  },
  {
   "cell_type": "code",
   "execution_count": 8,
   "metadata": {},
   "outputs": [
    {
     "data": {
      "text/plain": [
       "True"
      ]
     },
     "execution_count": 8,
     "metadata": {},
     "output_type": "execute_result"
    }
   ],
   "source": [
    "rec1['CASEID'].is_unique ## TRUE, each ID is unique"
   ]
  },
  {
   "cell_type": "markdown",
   "metadata": {},
   "source": [
    "2. Make the CASEID column the index of your data set. Hint: Use set_index."
   ]
  },
  {
   "cell_type": "code",
   "execution_count": 9,
   "metadata": {},
   "outputs": [
    {
     "data": {
      "text/plain": [
       "Index(['ID1', 'HHID', 'CASEID', 'V001', 'V002', 'V003', 'V004', 'V007', 'V008',\n",
       "       'V009',\n",
       "       ...\n",
       "       'QD333_4', 'QD333_5', 'QD333_6', 'UBIGEO', 'V022', 'V005', 'V190',\n",
       "       'V191', 'mujeres12a49', 'NCONGLOME'],\n",
       "      dtype='object', length=105)"
      ]
     },
     "execution_count": 9,
     "metadata": {},
     "output_type": "execute_result"
    }
   ],
   "source": [
    "rec1.columns ## Show columns names from base rec1"
   ]
  },
  {
   "cell_type": "code",
   "execution_count": 10,
   "metadata": {},
   "outputs": [
    {
     "data": {
      "text/html": [
       "<div>\n",
       "<style scoped>\n",
       "    .dataframe tbody tr th:only-of-type {\n",
       "        vertical-align: middle;\n",
       "    }\n",
       "\n",
       "    .dataframe tbody tr th {\n",
       "        vertical-align: top;\n",
       "    }\n",
       "\n",
       "    .dataframe thead th {\n",
       "        text-align: right;\n",
       "    }\n",
       "</style>\n",
       "<table border=\"1\" class=\"dataframe\">\n",
       "  <thead>\n",
       "    <tr style=\"text-align: right;\">\n",
       "      <th></th>\n",
       "      <th>ID1</th>\n",
       "      <th>HHID</th>\n",
       "      <th>V001</th>\n",
       "      <th>V002</th>\n",
       "      <th>V003</th>\n",
       "      <th>V004</th>\n",
       "      <th>V007</th>\n",
       "      <th>V008</th>\n",
       "      <th>V009</th>\n",
       "      <th>V010</th>\n",
       "      <th>...</th>\n",
       "      <th>QD333_4</th>\n",
       "      <th>QD333_5</th>\n",
       "      <th>QD333_6</th>\n",
       "      <th>UBIGEO</th>\n",
       "      <th>V022</th>\n",
       "      <th>V005</th>\n",
       "      <th>V190</th>\n",
       "      <th>V191</th>\n",
       "      <th>mujeres12a49</th>\n",
       "      <th>NCONGLOME</th>\n",
       "    </tr>\n",
       "    <tr>\n",
       "      <th>CASEID</th>\n",
       "      <th></th>\n",
       "      <th></th>\n",
       "      <th></th>\n",
       "      <th></th>\n",
       "      <th></th>\n",
       "      <th></th>\n",
       "      <th></th>\n",
       "      <th></th>\n",
       "      <th></th>\n",
       "      <th></th>\n",
       "      <th></th>\n",
       "      <th></th>\n",
       "      <th></th>\n",
       "      <th></th>\n",
       "      <th></th>\n",
       "      <th></th>\n",
       "      <th></th>\n",
       "      <th></th>\n",
       "      <th></th>\n",
       "      <th></th>\n",
       "      <th></th>\n",
       "    </tr>\n",
       "  </thead>\n",
       "  <tbody>\n",
       "    <tr>\n",
       "      <th>000100201  2</th>\n",
       "      <td>2019.0</td>\n",
       "      <td>000100201</td>\n",
       "      <td>1.0</td>\n",
       "      <td>2.0</td>\n",
       "      <td>2.0</td>\n",
       "      <td>1.0</td>\n",
       "      <td>2019.0</td>\n",
       "      <td>1434.0</td>\n",
       "      <td>4.0</td>\n",
       "      <td>1986.0</td>\n",
       "      <td>...</td>\n",
       "      <td>No</td>\n",
       "      <td>No</td>\n",
       "      <td>No</td>\n",
       "      <td>010101</td>\n",
       "      <td>3.0</td>\n",
       "      <td>154803.0</td>\n",
       "      <td>Rico</td>\n",
       "      <td>1.234450</td>\n",
       "      <td>Mujeres de 15 a 49 años de edad</td>\n",
       "      <td>7065.0</td>\n",
       "    </tr>\n",
       "    <tr>\n",
       "      <th>000100201  3</th>\n",
       "      <td>2019.0</td>\n",
       "      <td>000100201</td>\n",
       "      <td>1.0</td>\n",
       "      <td>2.0</td>\n",
       "      <td>3.0</td>\n",
       "      <td>1.0</td>\n",
       "      <td>2019.0</td>\n",
       "      <td>1434.0</td>\n",
       "      <td>1.0</td>\n",
       "      <td>2007.0</td>\n",
       "      <td>...</td>\n",
       "      <td>No</td>\n",
       "      <td>No</td>\n",
       "      <td>No</td>\n",
       "      <td>010101</td>\n",
       "      <td>3.0</td>\n",
       "      <td>154803.0</td>\n",
       "      <td>Rico</td>\n",
       "      <td>1.234450</td>\n",
       "      <td>Mujeres de 12 a 14 de edad, nunca embarazadas</td>\n",
       "      <td>7065.0</td>\n",
       "    </tr>\n",
       "    <tr>\n",
       "      <th>000102801  2</th>\n",
       "      <td>2019.0</td>\n",
       "      <td>000102801</td>\n",
       "      <td>1.0</td>\n",
       "      <td>28.0</td>\n",
       "      <td>2.0</td>\n",
       "      <td>1.0</td>\n",
       "      <td>2019.0</td>\n",
       "      <td>1434.0</td>\n",
       "      <td>6.0</td>\n",
       "      <td>1983.0</td>\n",
       "      <td>...</td>\n",
       "      <td>No</td>\n",
       "      <td>No</td>\n",
       "      <td>No</td>\n",
       "      <td>010101</td>\n",
       "      <td>3.0</td>\n",
       "      <td>154803.0</td>\n",
       "      <td>Rico</td>\n",
       "      <td>1.295611</td>\n",
       "      <td>Mujeres de 15 a 49 años de edad</td>\n",
       "      <td>7065.0</td>\n",
       "    </tr>\n",
       "    <tr>\n",
       "      <th>000102801  6</th>\n",
       "      <td>2019.0</td>\n",
       "      <td>000102801</td>\n",
       "      <td>1.0</td>\n",
       "      <td>28.0</td>\n",
       "      <td>6.0</td>\n",
       "      <td>1.0</td>\n",
       "      <td>2019.0</td>\n",
       "      <td>1434.0</td>\n",
       "      <td>3.0</td>\n",
       "      <td>1970.0</td>\n",
       "      <td>...</td>\n",
       "      <td>No</td>\n",
       "      <td>No</td>\n",
       "      <td>No</td>\n",
       "      <td>010101</td>\n",
       "      <td>3.0</td>\n",
       "      <td>154803.0</td>\n",
       "      <td>Rico</td>\n",
       "      <td>1.295611</td>\n",
       "      <td>Mujeres de 15 a 49 años de edad</td>\n",
       "      <td>7065.0</td>\n",
       "    </tr>\n",
       "    <tr>\n",
       "      <th>000104801  2</th>\n",
       "      <td>2019.0</td>\n",
       "      <td>000104801</td>\n",
       "      <td>1.0</td>\n",
       "      <td>48.0</td>\n",
       "      <td>2.0</td>\n",
       "      <td>1.0</td>\n",
       "      <td>2019.0</td>\n",
       "      <td>1434.0</td>\n",
       "      <td>5.0</td>\n",
       "      <td>1991.0</td>\n",
       "      <td>...</td>\n",
       "      <td>No</td>\n",
       "      <td>No</td>\n",
       "      <td>No</td>\n",
       "      <td>010101</td>\n",
       "      <td>3.0</td>\n",
       "      <td>154803.0</td>\n",
       "      <td>Pobrer</td>\n",
       "      <td>-0.256431</td>\n",
       "      <td>Mujeres de 15 a 49 años de edad</td>\n",
       "      <td>7065.0</td>\n",
       "    </tr>\n",
       "    <tr>\n",
       "      <th>...</th>\n",
       "      <td>...</td>\n",
       "      <td>...</td>\n",
       "      <td>...</td>\n",
       "      <td>...</td>\n",
       "      <td>...</td>\n",
       "      <td>...</td>\n",
       "      <td>...</td>\n",
       "      <td>...</td>\n",
       "      <td>...</td>\n",
       "      <td>...</td>\n",
       "      <td>...</td>\n",
       "      <td>...</td>\n",
       "      <td>...</td>\n",
       "      <td>...</td>\n",
       "      <td>...</td>\n",
       "      <td>...</td>\n",
       "      <td>...</td>\n",
       "      <td>...</td>\n",
       "      <td>...</td>\n",
       "      <td>...</td>\n",
       "      <td>...</td>\n",
       "    </tr>\n",
       "    <tr>\n",
       "      <th>325406201  2</th>\n",
       "      <td>2019.0</td>\n",
       "      <td>325406201</td>\n",
       "      <td>3254.0</td>\n",
       "      <td>62.0</td>\n",
       "      <td>2.0</td>\n",
       "      <td>3254.0</td>\n",
       "      <td>2019.0</td>\n",
       "      <td>1440.0</td>\n",
       "      <td>12.0</td>\n",
       "      <td>1971.0</td>\n",
       "      <td>...</td>\n",
       "      <td>No</td>\n",
       "      <td>No</td>\n",
       "      <td>No</td>\n",
       "      <td>250401</td>\n",
       "      <td>249.0</td>\n",
       "      <td>244995.0</td>\n",
       "      <td>El más pobre</td>\n",
       "      <td>-1.750187</td>\n",
       "      <td>Mujeres de 15 a 49 años de edad</td>\n",
       "      <td>15783.0</td>\n",
       "    </tr>\n",
       "    <tr>\n",
       "      <th>325406301  2</th>\n",
       "      <td>2019.0</td>\n",
       "      <td>325406301</td>\n",
       "      <td>3254.0</td>\n",
       "      <td>63.0</td>\n",
       "      <td>2.0</td>\n",
       "      <td>3254.0</td>\n",
       "      <td>2019.0</td>\n",
       "      <td>1440.0</td>\n",
       "      <td>6.0</td>\n",
       "      <td>1988.0</td>\n",
       "      <td>...</td>\n",
       "      <td>No</td>\n",
       "      <td>No</td>\n",
       "      <td>No</td>\n",
       "      <td>250401</td>\n",
       "      <td>249.0</td>\n",
       "      <td>244995.0</td>\n",
       "      <td>El más pobre</td>\n",
       "      <td>-1.676861</td>\n",
       "      <td>Mujeres de 15 a 49 años de edad</td>\n",
       "      <td>15783.0</td>\n",
       "    </tr>\n",
       "    <tr>\n",
       "      <th>325407001  2</th>\n",
       "      <td>2019.0</td>\n",
       "      <td>325407001</td>\n",
       "      <td>3254.0</td>\n",
       "      <td>70.0</td>\n",
       "      <td>2.0</td>\n",
       "      <td>3254.0</td>\n",
       "      <td>2019.0</td>\n",
       "      <td>1440.0</td>\n",
       "      <td>7.0</td>\n",
       "      <td>1973.0</td>\n",
       "      <td>...</td>\n",
       "      <td>No</td>\n",
       "      <td>No</td>\n",
       "      <td>No</td>\n",
       "      <td>250401</td>\n",
       "      <td>249.0</td>\n",
       "      <td>459792.0</td>\n",
       "      <td>El más pobre</td>\n",
       "      <td>-1.585333</td>\n",
       "      <td>Mujeres de 15 a 49 años de edad</td>\n",
       "      <td>15783.0</td>\n",
       "    </tr>\n",
       "    <tr>\n",
       "      <th>325407201  2</th>\n",
       "      <td>2019.0</td>\n",
       "      <td>325407201</td>\n",
       "      <td>3254.0</td>\n",
       "      <td>72.0</td>\n",
       "      <td>2.0</td>\n",
       "      <td>3254.0</td>\n",
       "      <td>2019.0</td>\n",
       "      <td>1440.0</td>\n",
       "      <td>12.0</td>\n",
       "      <td>1994.0</td>\n",
       "      <td>...</td>\n",
       "      <td>No</td>\n",
       "      <td>No</td>\n",
       "      <td>No</td>\n",
       "      <td>250401</td>\n",
       "      <td>249.0</td>\n",
       "      <td>459792.0</td>\n",
       "      <td>El más pobre</td>\n",
       "      <td>-1.650159</td>\n",
       "      <td>Mujeres de 15 a 49 años de edad</td>\n",
       "      <td>15783.0</td>\n",
       "    </tr>\n",
       "    <tr>\n",
       "      <th>325407401  2</th>\n",
       "      <td>2019.0</td>\n",
       "      <td>325407401</td>\n",
       "      <td>3254.0</td>\n",
       "      <td>74.0</td>\n",
       "      <td>2.0</td>\n",
       "      <td>3254.0</td>\n",
       "      <td>2019.0</td>\n",
       "      <td>1440.0</td>\n",
       "      <td>10.0</td>\n",
       "      <td>1996.0</td>\n",
       "      <td>...</td>\n",
       "      <td>No</td>\n",
       "      <td>No</td>\n",
       "      <td>No</td>\n",
       "      <td>250401</td>\n",
       "      <td>249.0</td>\n",
       "      <td>244995.0</td>\n",
       "      <td>El más pobre</td>\n",
       "      <td>-1.644720</td>\n",
       "      <td>Mujeres de 15 a 49 años de edad</td>\n",
       "      <td>15783.0</td>\n",
       "    </tr>\n",
       "  </tbody>\n",
       "</table>\n",
       "<p>38335 rows × 104 columns</p>\n",
       "</div>"
      ],
      "text/plain": [
       "                       ID1             HHID    V001  V002  V003    V004  \\\n",
       "CASEID                                                                    \n",
       "      000100201  2  2019.0        000100201     1.0   2.0   2.0     1.0   \n",
       "      000100201  3  2019.0        000100201     1.0   2.0   3.0     1.0   \n",
       "      000102801  2  2019.0        000102801     1.0  28.0   2.0     1.0   \n",
       "      000102801  6  2019.0        000102801     1.0  28.0   6.0     1.0   \n",
       "      000104801  2  2019.0        000104801     1.0  48.0   2.0     1.0   \n",
       "...                    ...              ...     ...   ...   ...     ...   \n",
       "      325406201  2  2019.0        325406201  3254.0  62.0   2.0  3254.0   \n",
       "      325406301  2  2019.0        325406301  3254.0  63.0   2.0  3254.0   \n",
       "      325407001  2  2019.0        325407001  3254.0  70.0   2.0  3254.0   \n",
       "      325407201  2  2019.0        325407201  3254.0  72.0   2.0  3254.0   \n",
       "      325407401  2  2019.0        325407401  3254.0  74.0   2.0  3254.0   \n",
       "\n",
       "                      V007    V008  V009    V010  ...  QD333_4  QD333_5  \\\n",
       "CASEID                                            ...                     \n",
       "      000100201  2  2019.0  1434.0   4.0  1986.0  ...       No       No   \n",
       "      000100201  3  2019.0  1434.0   1.0  2007.0  ...       No       No   \n",
       "      000102801  2  2019.0  1434.0   6.0  1983.0  ...       No       No   \n",
       "      000102801  6  2019.0  1434.0   3.0  1970.0  ...       No       No   \n",
       "      000104801  2  2019.0  1434.0   5.0  1991.0  ...       No       No   \n",
       "...                    ...     ...   ...     ...  ...      ...      ...   \n",
       "      325406201  2  2019.0  1440.0  12.0  1971.0  ...       No       No   \n",
       "      325406301  2  2019.0  1440.0   6.0  1988.0  ...       No       No   \n",
       "      325407001  2  2019.0  1440.0   7.0  1973.0  ...       No       No   \n",
       "      325407201  2  2019.0  1440.0  12.0  1994.0  ...       No       No   \n",
       "      325407401  2  2019.0  1440.0  10.0  1996.0  ...       No       No   \n",
       "\n",
       "                   QD333_6  UBIGEO   V022      V005          V190      V191  \\\n",
       "CASEID                                                                        \n",
       "      000100201  2      No  010101    3.0  154803.0          Rico  1.234450   \n",
       "      000100201  3      No  010101    3.0  154803.0          Rico  1.234450   \n",
       "      000102801  2      No  010101    3.0  154803.0          Rico  1.295611   \n",
       "      000102801  6      No  010101    3.0  154803.0          Rico  1.295611   \n",
       "      000104801  2      No  010101    3.0  154803.0        Pobrer -0.256431   \n",
       "...                    ...     ...    ...       ...           ...       ...   \n",
       "      325406201  2      No  250401  249.0  244995.0  El más pobre -1.750187   \n",
       "      325406301  2      No  250401  249.0  244995.0  El más pobre -1.676861   \n",
       "      325407001  2      No  250401  249.0  459792.0  El más pobre -1.585333   \n",
       "      325407201  2      No  250401  249.0  459792.0  El más pobre -1.650159   \n",
       "      325407401  2      No  250401  249.0  244995.0  El más pobre -1.644720   \n",
       "\n",
       "                                                     mujeres12a49 NCONGLOME  \n",
       "CASEID                                                                       \n",
       "      000100201  2                Mujeres de 15 a 49 años de edad    7065.0  \n",
       "      000100201  3  Mujeres de 12 a 14 de edad, nunca embarazadas    7065.0  \n",
       "      000102801  2                Mujeres de 15 a 49 años de edad    7065.0  \n",
       "      000102801  6                Mujeres de 15 a 49 años de edad    7065.0  \n",
       "      000104801  2                Mujeres de 15 a 49 años de edad    7065.0  \n",
       "...                                                           ...       ...  \n",
       "      325406201  2                Mujeres de 15 a 49 años de edad   15783.0  \n",
       "      325406301  2                Mujeres de 15 a 49 años de edad   15783.0  \n",
       "      325407001  2                Mujeres de 15 a 49 años de edad   15783.0  \n",
       "      325407201  2                Mujeres de 15 a 49 años de edad   15783.0  \n",
       "      325407401  2                Mujeres de 15 a 49 años de edad   15783.0  \n",
       "\n",
       "[38335 rows x 104 columns]"
      ]
     },
     "execution_count": 10,
     "metadata": {},
     "output_type": "execute_result"
    }
   ],
   "source": [
    "rec1.set_index('CASEID', drop=True, inplace=True) ## use set_index on data rec1 to convert CASEID to the index of the data\n",
    "rec1"
   ]
  },
  {
   "cell_type": "markdown",
   "metadata": {},
   "source": [
    "3. Keep women who are 15-30 years old and live in Urban areas. Hint: Use query."
   ]
  },
  {
   "cell_type": "code",
   "execution_count": 11,
   "metadata": {},
   "outputs": [
    {
     "data": {
      "text/plain": [
       "CASEID\n",
       "      000100201  2    1986.0\n",
       "      000100201  3    2007.0\n",
       "      000102801  2    1983.0\n",
       "      000102801  6    1970.0\n",
       "      000104801  2    1991.0\n",
       "                       ...  \n",
       "      325406201  2    1971.0\n",
       "      325406301  2    1988.0\n",
       "      325407001  2    1973.0\n",
       "      325407201  2    1994.0\n",
       "      325407401  2    1996.0\n",
       "Name: V010, Length: 38335, dtype: float64"
      ]
     },
     "execution_count": 11,
     "metadata": {},
     "output_type": "execute_result"
    }
   ],
   "source": [
    "rec1.V010 ## indicates values of  V010 'Año de nacimiento de la entrevistada'"
   ]
  },
  {
   "cell_type": "code",
   "execution_count": 12,
   "metadata": {},
   "outputs": [],
   "source": [
    "#first step --> Urban areas\n",
    "rec1 = rec1[rec1['V102'] == 'Urbano'] ## filter observations of Urban areas "
   ]
  },
  {
   "cell_type": "code",
   "execution_count": 13,
   "metadata": {},
   "outputs": [
    {
     "data": {
      "text/plain": [
       "1969.0"
      ]
     },
     "execution_count": 13,
     "metadata": {},
     "output_type": "execute_result"
    }
   ],
   "source": [
    "#second step -->  women who are 15-30 years old\n",
    "rec1['V010'].min() ## shows the minimun value of V010"
   ]
  },
  {
   "cell_type": "code",
   "execution_count": 14,
   "metadata": {},
   "outputs": [
    {
     "data": {
      "text/plain": [
       "2007.0"
      ]
     },
     "execution_count": 14,
     "metadata": {},
     "output_type": "execute_result"
    }
   ],
   "source": [
    "rec1['V010'].max() ## shows the maximum value of V010"
   ]
  },
  {
   "cell_type": "code",
   "execution_count": 15,
   "metadata": {},
   "outputs": [
    {
     "data": {
      "text/plain": [
       "(26133, 104)"
      ]
     },
     "execution_count": 15,
     "metadata": {},
     "output_type": "execute_result"
    }
   ],
   "source": [
    "rec1.shape ## verifica tamaño base de datos filte"
   ]
  },
  {
   "cell_type": "code",
   "execution_count": 16,
   "metadata": {},
   "outputs": [
    {
     "data": {
      "text/plain": [
       "2004"
      ]
     },
     "execution_count": 16,
     "metadata": {},
     "output_type": "execute_result"
    }
   ],
   "source": [
    "2019-15 ## from the year of the survey, subtract  15 years "
   ]
  },
  {
   "cell_type": "code",
   "execution_count": 17,
   "metadata": {},
   "outputs": [
    {
     "data": {
      "text/plain": [
       "1989"
      ]
     },
     "execution_count": 17,
     "metadata": {},
     "output_type": "execute_result"
    }
   ],
   "source": [
    "2019-30 ## from the year of the survey, subtract  30 years"
   ]
  },
  {
   "cell_type": "code",
   "execution_count": 18,
   "metadata": {},
   "outputs": [],
   "source": [
    "rec1 = rec1.query('  V010  >= 1989  &  V010  <= 2004') ## filter observations of women who are 15-30 years old based on years of her birth"
   ]
  },
  {
   "cell_type": "code",
   "execution_count": 19,
   "metadata": {},
   "outputs": [
    {
     "data": {
      "text/plain": [
       "(12127, 104)"
      ]
     },
     "execution_count": 19,
     "metadata": {},
     "output_type": "execute_result"
    }
   ],
   "source": [
    "rec1.shape ## check new database size "
   ]
  },
  {
   "cell_type": "code",
   "execution_count": 20,
   "metadata": {},
   "outputs": [
    {
     "data": {
      "text/plain": [
       "1989.0"
      ]
     },
     "execution_count": 20,
     "metadata": {},
     "output_type": "execute_result"
    }
   ],
   "source": [
    "rec1['V010'].min() ## check new minimun value of V010"
   ]
  },
  {
   "cell_type": "code",
   "execution_count": 21,
   "metadata": {},
   "outputs": [
    {
     "data": {
      "text/plain": [
       "2004.0"
      ]
     },
     "execution_count": 21,
     "metadata": {},
     "output_type": "execute_result"
    }
   ],
   "source": [
    "rec1['V010'].max()  ## check new maximum value of V010"
   ]
  },
  {
   "cell_type": "markdown",
   "metadata": {},
   "source": [
    "4. Generate a new column with the month of born. Just use the first three letters. Use the English names of the months."
   ]
  },
  {
   "cell_type": "code",
   "execution_count": 22,
   "metadata": {},
   "outputs": [
    {
     "data": {
      "text/plain": [
       "CASEID\n",
       "      000104801  2     5.0\n",
       "      000116701  1     6.0\n",
       "      000119101  1     9.0\n",
       "      000203001  2     5.0\n",
       "      000204001  3     9.0\n",
       "                      ... \n",
       "      324202401  2     2.0\n",
       "      324202501  3     5.0\n",
       "      324203901  1     8.0\n",
       "      324204501  2     5.0\n",
       "      324206901  3    10.0\n",
       "Name: V009, Length: 12127, dtype: float64"
      ]
     },
     "execution_count": 22,
     "metadata": {},
     "output_type": "execute_result"
    }
   ],
   "source": [
    "rec1.V009 ## ## indicates values of  V009 'Mes de nacimiento de la entrevistada'\n"
   ]
  },
  {
   "cell_type": "code",
   "execution_count": 23,
   "metadata": {},
   "outputs": [],
   "source": [
    "def conditions(x):  ## Function that names months based on month number\n",
    "    if   x == 1 :   return \"jan\" \n",
    "    elif x == 2 :   return \"feb\"\n",
    "    elif x == 3 :   return \"mar\"\n",
    "    elif x == 4 :   return \"apr\"\n",
    "    elif x == 5 :   return \"may\"\n",
    "    elif x == 6 :   return \"jun\"\n",
    "    elif x == 7 :   return \"jul\"\n",
    "    elif x == 8 :   return \"aug\"\n",
    "    elif x == 9 :   return \"sep\"\n",
    "    elif x == 10 :   return \"oct\"\n",
    "    elif x == 11 :   return \"nov\"\n",
    "    else:   return \"dec\""
   ]
  },
  {
   "cell_type": "code",
   "execution_count": 24,
   "metadata": {},
   "outputs": [],
   "source": [
    "func         = np.vectorize(conditions) ## vectorizes the results of the conditions function\n",
    "rec1['month'] = func(rec1['V009']) ## applies the function to the variable V009 and creates the new column 'month' "
   ]
  },
  {
   "cell_type": "code",
   "execution_count": 25,
   "metadata": {},
   "outputs": [
    {
     "data": {
      "text/plain": [
       "CASEID\n",
       "      000104801  2    may\n",
       "      000116701  1    jun\n",
       "      000119101  1    sep\n",
       "      000203001  2    may\n",
       "      000204001  3    sep\n",
       "                     ... \n",
       "      324202401  2    feb\n",
       "      324202501  3    may\n",
       "      324203901  1    aug\n",
       "      324204501  2    may\n",
       "      324206901  3    oct\n",
       "Name: month, Length: 12127, dtype: object"
      ]
     },
     "execution_count": 25,
     "metadata": {},
     "output_type": "execute_result"
    }
   ],
   "source": [
    "rec1.month ## display the new column in the same base rec1"
   ]
  }
 ],
 "metadata": {
  "hide_input": false,
  "kernelspec": {
   "display_name": "Python 3 (ipykernel)",
   "language": "python",
   "name": "python3"
  },
  "language_info": {
   "codemirror_mode": {
    "name": "ipython",
    "version": 3
   },
   "file_extension": ".py",
   "mimetype": "text/x-python",
   "name": "python",
   "nbconvert_exporter": "python",
   "pygments_lexer": "ipython3",
   "version": "3.9.7"
  },
  "toc": {
   "base_numbering": 1,
   "nav_menu": {},
   "number_sections": true,
   "sideBar": true,
   "skip_h1_title": false,
   "title_cell": "Table of Contents",
   "title_sidebar": "Contents",
   "toc_cell": false,
   "toc_position": {},
   "toc_section_display": true,
   "toc_window_display": false
  }
 },
 "nbformat": 4,
 "nbformat_minor": 4
}
