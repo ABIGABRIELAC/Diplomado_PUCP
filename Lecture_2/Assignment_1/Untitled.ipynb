{
 "cells": [
  {
   "cell_type": "code",
   "execution_count": 1,
   "id": "4b143075",
   "metadata": {},
   "outputs": [],
   "source": [
    "import numpy as np\n",
    "import pandas as pd\n",
    "import statsmodels.api as sm\n",
    "#\n",
    "np.random.seed(123)\n",
    "#\n",
    "N = 1000\n",
    "beta_vec = [-5, 2, 3, 2, -6, 0]\n",
    "#\n",
    "x1 = np.random.normal(loc = 5, scale = 2, size = N)\n",
    "x2 = np.random.choice(list(range(1, 51)), size = N, replace = True)\n",
    "x3 = np.linspace(start = 0, stop = 10, num = N)\n",
    "x4 = np.random.normal(loc = 10, scale = 3, size = N)\n",
    "x5 = np.random.normal(loc = -2, scale = 3, size = N)\n",
    "#\n",
    "x_mat = np.column_stack([x1, x2, x3, x4, x5])\n",
    "#\n",
    "e  = np.random.normal(loc = 0, scale = 3, size = N)\n",
    "#\n",
    "y = np.dot(sm.add_constant(x_mat), beta_vec) + e\n",
    "#\n",
    "data_smpl = pd.DataFrame(np.column_stack([y, x_mat]), \n",
    "                         columns = [\"y\", \"x1\", \"x2\", \"x3\", \"x4\", \"x5\"])"
   ]
  },
  {
   "cell_type": "code",
   "execution_count": 2,
   "id": "126df850",
   "metadata": {},
   "outputs": [
    {
     "name": "stdout",
     "output_type": "stream",
     "text": [
      "==============================================================================\n",
      "                 coef    std err          t      P>|t|      [0.025      0.975]\n",
      "------------------------------------------------------------------------------\n",
      "Intercept     -4.3625      0.481     -9.066      0.000      -5.307      -3.418\n",
      "x1             2.0135      0.048     42.292      0.000       1.920       2.107\n",
      "x2             2.9994      0.007    450.490      0.000       2.986       3.012\n",
      "x3             2.0157      0.033     61.061      0.000       1.951       2.080\n",
      "x4            -6.0537      0.032   -186.394      0.000      -6.117      -5.990\n",
      "x5             0.0129      0.032      0.403      0.687      -0.050       0.076\n",
      "==============================================================================\n"
     ]
    }
   ],
   "source": [
    "y_mdl = sm.OLS.from_formula(\"y ~ x1 + x2 + x3 + x4 + x5\", data = data_smpl)\n",
    "y_mdl_fit = y_mdl.fit()\n",
    "print(y_mdl_fit.summary().tables[1])"
   ]
  },
  {
   "cell_type": "code",
   "execution_count": 3,
   "id": "c15af867",
   "metadata": {},
   "outputs": [
    {
     "name": "stdout",
     "output_type": "stream",
     "text": [
      "<F test: F=array([[0.85748152]]), p=0.4627001422411767, df_denom=994, df_num=3>\n"
     ]
    }
   ],
   "source": [
    "print(y_mdl_fit.f_test(\"x1 - x3 = 0, 2*x2 + x4 = 0, x5 = 0\"))\n"
   ]
  },
  {
   "cell_type": "code",
   "execution_count": 4,
   "id": "3a62478e",
   "metadata": {},
   "outputs": [
    {
     "name": "stdout",
     "output_type": "stream",
     "text": [
      "<F test: F=array([[0.85748152]]), p=0.4627001422411767, df_denom=994, df_num=3>\n"
     ]
    }
   ],
   "source": [
    "L = np.array(([0,1,0,-1,0,0],\n",
    "              [0,0,2,0,1,0],\n",
    "              [0,0,0,0,0,1]))\n",
    "rr = [0, 0, 0] \n",
    "print(y_mdl_fit.f_test((L, rr)))"
   ]
  },
  {
   "cell_type": "code",
   "execution_count": 5,
   "id": "586927ee",
   "metadata": {},
   "outputs": [
    {
     "name": "stdout",
     "output_type": "stream",
     "text": [
      "==============================================================================\n",
      "                 coef    std err          z      P>|z|      [0.025      0.975]\n",
      "------------------------------------------------------------------------------\n",
      "Intercept     -4.3625      0.481     -9.066      0.000      -5.306      -3.419\n",
      "x1             2.0135      0.048     42.292      0.000       1.920       2.107\n",
      "x2             2.9994      0.007    450.490      0.000       2.986       3.012\n",
      "x3             2.0157      0.033     61.061      0.000       1.951       2.080\n",
      "x4            -6.0537      0.032   -186.394      0.000      -6.117      -5.990\n",
      "x5             0.0129      0.032      0.403      0.687      -0.050       0.076\n",
      "==============================================================================\n"
     ]
    }
   ],
   "source": [
    "mdl_glm = sm.GLM.from_formula(formula = y_mdl.formula, data = data_smpl)\n",
    "mdl_glm_fit = mdl_glm.fit()\n",
    "print(mdl_glm_fit.summary().tables[1])"
   ]
  },
  {
   "cell_type": "code",
   "execution_count": 6,
   "id": "f1447a36",
   "metadata": {},
   "outputs": [
    {
     "name": "stdout",
     "output_type": "stream",
     "text": [
      "==============================================================================\n",
      "                 coef    std err          z      P>|z|      [0.025      0.975]\n",
      "------------------------------------------------------------------------------\n",
      "Intercept     -4.9523      0.291    -17.047      0.000      -5.522      -4.383\n",
      "x1             2.0138      0.027     73.299      0.000       1.960       2.068\n",
      "x2             3.0035      0.006    489.058      0.000       2.991       3.016\n",
      "x3             2.0138      0.027     73.299      0.000       1.960       2.068\n",
      "x4            -6.0070      0.012   -489.058      0.000      -6.031      -5.983\n",
      "x5                  0          0        nan        nan           0           0\n",
      "==============================================================================\n"
     ]
    }
   ],
   "source": [
    "mdl_rls = mdl_glm.fit_constrained(\"x1 - x3 = 0, 2*x2 + x4 = 0, x5 = 0\")\n",
    "print(mdl_rls.summary().tables[1])"
   ]
  },
  {
   "cell_type": "code",
   "execution_count": 7,
   "id": "0e950eec",
   "metadata": {},
   "outputs": [
    {
     "name": "stdout",
     "output_type": "stream",
     "text": [
      "==============================================================================\n",
      "                 coef    std err          z      P>|z|      [0.025      0.975]\n",
      "------------------------------------------------------------------------------\n",
      "Intercept     -4.9523      0.291    -17.047      0.000      -5.522      -4.383\n",
      "x1             2.0138      0.027     73.299      0.000       1.960       2.068\n",
      "x2             3.0035      0.006    489.058      0.000       2.991       3.016\n",
      "x3             2.0138      0.027     73.299      0.000       1.960       2.068\n",
      "x4            -6.0070      0.012   -489.058      0.000      -6.031      -5.983\n",
      "x5                  0          0        nan        nan           0           0\n",
      "==============================================================================\n"
     ]
    }
   ],
   "source": [
    "L = np.array(([0,1,0,-1,0,0],\n",
    "              [0,0,2,0,1,0],\n",
    "              [0,0,0,0,0,1]))\n",
    "rr = [0, 0, 0]\n",
    "#\n",
    "mdl_rls = mdl_glm.fit_constrained((L, rr))\n",
    "print(mdl_rls.summary().tables[1])"
   ]
  },
  {
   "cell_type": "code",
   "execution_count": null,
   "id": "2aa2ef18",
   "metadata": {},
   "outputs": [],
   "source": []
  }
 ],
 "metadata": {
  "kernelspec": {
   "display_name": "Python 3",
   "language": "python",
   "name": "python3"
  },
  "language_info": {
   "codemirror_mode": {
    "name": "ipython",
    "version": 3
   },
   "file_extension": ".py",
   "mimetype": "text/x-python",
   "name": "python",
   "nbconvert_exporter": "python",
   "pygments_lexer": "ipython3",
   "version": "3.8.8"
  }
 },
 "nbformat": 4,
 "nbformat_minor": 5
}
