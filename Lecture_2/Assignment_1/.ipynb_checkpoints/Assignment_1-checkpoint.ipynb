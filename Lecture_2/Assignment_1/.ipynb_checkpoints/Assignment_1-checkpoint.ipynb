{
 "cells": [
  {
   "cell_type": "markdown",
   "metadata": {},
   "source": [
    "# 1 Assignment"
   ]
  },
  {
   "cell_type": "markdown",
   "metadata": {},
   "source": [
    "## Excersice 1: Tuple"
   ]
  },
  {
   "cell_type": "code",
   "execution_count": 1,
   "metadata": {},
   "outputs": [],
   "source": [
    "tuple1 = (\"apple\", \"banana\", \"cherry\", \"orange\", \"kiwi\", \"melon\", \"mango\")\n",
    "tuple2 = (10, 20, 30, 40, 50)"
   ]
  },
  {
   "cell_type": "markdown",
   "metadata": {},
   "source": [
    "1. Print the first item of the `tuple1` object."
   ]
  },
  {
   "cell_type": "code",
   "execution_count": 4,
   "metadata": {},
   "outputs": [
    {
     "name": "stdout",
     "output_type": "stream",
     "text": [
      "tuple1[0] = apple\n"
     ]
    }
   ],
   "source": [
    "print ( \"tuple1[0] =\", tuple1 [0] )"
   ]
  },
  {
   "cell_type": "markdown",
   "metadata": {},
   "source": [
    "2. Print the last item of the `tuple1`"
   ]
  },
  {
   "cell_type": "code",
   "execution_count": 5,
   "metadata": {},
   "outputs": [
    {
     "name": "stdout",
     "output_type": "stream",
     "text": [
      "tuple1[-1] = mango\n"
     ]
    }
   ],
   "source": [
    "print ( \"tuple1[-1] =\", tuple1 [-1] )"
   ]
  },
  {
   "cell_type": "markdown",
   "metadata": {},
   "source": [
    "3. Change the value \"orange\" for \"pink grapefruit\". Comment the output."
   ]
  },
  {
   "cell_type": "code",
   "execution_count": 2,
   "metadata": {},
   "outputs": [
    {
     "name": "stdout",
     "output_type": "stream",
     "text": [
      "['apple', 'banana', 'cherry', 'pink grapefruit', 'kiwi', 'melon', 'mango']\n"
     ]
    }
   ],
   "source": [
    "tuple1_list = list(tuple1)\n",
    "tuple1_list[3] = \"pink grapefruit\"\n",
    "tuple1 = tuple1_list\n",
    "print(tuple1)"
   ]
  },
  {
   "cell_type": "markdown",
   "metadata": {},
   "source": [
    "4. Print the length of `tuple1`. "
   ]
  },
  {
   "cell_type": "code",
   "execution_count": 3,
   "metadata": {},
   "outputs": [
    {
     "name": "stdout",
     "output_type": "stream",
     "text": [
      "tuple1[len] = 7\n"
     ]
    }
   ],
   "source": [
    "print ( \"tuple1[len] =\", len (tuple1) )"
   ]
  },
  {
   "cell_type": "markdown",
   "metadata": {},
   "source": [
    "5. Sort `tuple2` in descending order."
   ]
  },
  {
   "cell_type": "code",
   "execution_count": 4,
   "metadata": {},
   "outputs": [
    {
     "data": {
      "text/plain": [
       "[50, 40, 30, 20, 10]"
      ]
     },
     "execution_count": 4,
     "metadata": {},
     "output_type": "execute_result"
    }
   ],
   "source": [
    "sorted ( tuple2 , reverse = True )"
   ]
  },
  {
   "cell_type": "markdown",
   "metadata": {},
   "source": [
    "6. Generate a new tuple object named as `tuple3` with the half values of `tuple2`."
   ]
  },
  {
   "cell_type": "code",
   "execution_count": 5,
   "metadata": {},
   "outputs": [
    {
     "name": "stdout",
     "output_type": "stream",
     "text": [
      "(5.0, 10.0, 15.0, 20.0, 25.0)\n"
     ]
    }
   ],
   "source": [
    "tuple3 = tuple (tuple2i/2 for tuple2i in tuple2)\n",
    "print ( tuple3 )"
   ]
  },
  {
   "cell_type": "markdown",
   "metadata": {},
   "source": [
    "## Excersice 2: Lists"
   ]
  },
  {
   "cell_type": "markdown",
   "metadata": {},
   "source": [
    "1. Show the indices of the np.nan values in the f_list list. We want to see this output: The indices 0, 1, 4, 7 have np.nan values. Hint: Use print function and f-strings to insert the indices values."
   ]
  },
  {
   "cell_type": "code",
   "execution_count": 6,
   "metadata": {},
   "outputs": [],
   "source": [
    "import numpy as np"
   ]
  },
  {
   "cell_type": "code",
   "execution_count": 7,
   "metadata": {},
   "outputs": [],
   "source": [
    "f_list = [\"Europe\", np.nan , \"America\", \"India\", np.nan, \"Pakistan\", \"np.nan\"]"
   ]
  },
  {
   "cell_type": "code",
   "execution_count": 8,
   "metadata": {},
   "outputs": [],
   "source": [
    "f2_list = [np.nan , np.nan, \"Austria\", \"Germany\", np.nan, \"Pakistan\", \"np.nan\", np.nan ]"
   ]
  },
  {
   "cell_type": "code",
   "execution_count": 9,
   "metadata": {},
   "outputs": [
    {
     "name": "stdout",
     "output_type": "stream",
     "text": [
      "The indices [1, 4] have np.nan values\n"
     ]
    }
   ],
   "source": [
    "ind=[]\n",
    "for i in range(0,len(f_list)):\n",
    "    if f_list[i] is np.nan:\n",
    "        ind.append(i)\n",
    "print(\"The indices\", ind, \"have np.nan values\")"
   ]
  },
  {
   "cell_type": "code",
   "execution_count": 10,
   "metadata": {},
   "outputs": [
    {
     "name": "stdout",
     "output_type": "stream",
     "text": [
      "The indices [0, 1, 4, 7] have np.nan values\n"
     ]
    }
   ],
   "source": [
    "ind=[]\n",
    "for i in range(0,len(f2_list)):\n",
    "    if f2_list[i] is np.nan:\n",
    "        ind.append(i)\n",
    "print(\"The indices\", ind, \"have np.nan values\")"
   ]
  },
  {
   "cell_type": "markdown",
   "metadata": {},
   "source": [
    "2. Replicate 4 times the values of the list `p2_list`. <br>\n",
    "We expect an ouput like this <br>\n",
    "`[ 2 , 3, 4, 5, 2 , 3, 4, 5, 2 , 3, 4, 5, 2 , 3, 4, 5]`"
   ]
  },
  {
   "cell_type": "code",
   "execution_count": 11,
   "metadata": {},
   "outputs": [],
   "source": [
    "p2_list = [ 2 , 3, 4, 5]"
   ]
  },
  {
   "cell_type": "code",
   "execution_count": 12,
   "metadata": {},
   "outputs": [],
   "source": [
    "p2_list.extend(p2_list)\n",
    "p2_list.extend(p2_list)"
   ]
  },
  {
   "cell_type": "code",
   "execution_count": 13,
   "metadata": {},
   "outputs": [
    {
     "data": {
      "text/plain": [
       "[2, 3, 4, 5, 2, 3, 4, 5, 2, 3, 4, 5, 2, 3, 4, 5]"
      ]
     },
     "execution_count": 13,
     "metadata": {},
     "output_type": "execute_result"
    }
   ],
   "source": [
    "p2_list"
   ]
  },
  {
   "cell_type": "markdown",
   "metadata": {},
   "source": [
    "3. Print the length of f_list. Hint: Length function"
   ]
  },
  {
   "cell_type": "code",
   "execution_count": 14,
   "metadata": {},
   "outputs": [
    {
     "name": "stdout",
     "output_type": "stream",
     "text": [
      "7\n"
     ]
    }
   ],
   "source": [
    "print(len(f_list))"
   ]
  },
  {
   "cell_type": "markdown",
   "metadata": {},
   "source": [
    "4. Print My teacher assistant is so boring. using text1 list. Hint: Use the join function\n"
   ]
  },
  {
   "cell_type": "code",
   "execution_count": 45,
   "metadata": {},
   "outputs": [],
   "source": [
    "text1 = ['My', 'teacher', 'assistant', 'is', 'so', 'boring.']"
   ]
  },
  {
   "cell_type": "code",
   "execution_count": 50,
   "metadata": {},
   "outputs": [
    {
     "data": {
      "text/plain": [
       "'My teacher assistant is so boring.'"
      ]
     },
     "execution_count": 50,
     "metadata": {},
     "output_type": "execute_result"
    }
   ],
   "source": [
    "' '.join(text1)"
   ]
  },
  {
   "cell_type": "markdown",
   "metadata": {},
   "source": [
    "5. Print My TA is so boring, but is very funny. using text1 list.Hint: Use the join function, and extend method."
   ]
  },
  {
   "cell_type": "code",
   "execution_count": 53,
   "metadata": {},
   "outputs": [
    {
     "data": {
      "text/plain": [
       "'My TA is so boring, but is very funny.'"
      ]
     },
     "execution_count": 53,
     "metadata": {},
     "output_type": "execute_result"
    }
   ],
   "source": [
    "text1 = ['My', 'TA', 'is', 'so', 'boring,']\n",
    "text2 = ['but', 'is', 'very', 'funny.']\n",
    "text1.extend(text2)\n",
    "' '.join(text1)"
   ]
  },
  {
   "cell_type": "markdown",
   "metadata": {},
   "source": [
    "6. Print\n",
    "The max value of values1 is 86 and is located in the 0 index.\n",
    "The min value of values1 is 0 and is located in the 7 index.\n",
    "Hint: Use the f-string, min, and max functions."
   ]
  },
  {
   "cell_type": "code",
   "execution_count": 59,
   "metadata": {},
   "outputs": [],
   "source": [
    "values1 = [ 86, 86, 85, 85, 85, 83, 23, 0, 84, 1 ] "
   ]
  },
  {
   "cell_type": "code",
   "execution_count": 79,
   "metadata": {},
   "outputs": [],
   "source": [
    "max_value = max(values1)\n",
    "index_max = values1.index(max(values1))\n",
    "min_value = min(values1)\n",
    "index_min = values1.index(min(values1))"
   ]
  },
  {
   "cell_type": "code",
   "execution_count": 91,
   "metadata": {},
   "outputs": [
    {
     "name": "stdout",
     "output_type": "stream",
     "text": [
      "The max value of values1 is 86 and is located in the 0 index.  \n",
      "\n",
      "The min value of values1 is 0 and is located in the 7 index. \n",
      "\n"
     ]
    }
   ],
   "source": [
    "message1 = ( f\"The max value of values1 is {max_value} and is located in the {index_max} index. \")\n",
    "message2 = ( f\"The min value of values1 is {min_value} and is located in the {index_min} index.\")\n",
    "print(message1, \"\\n\")\n",
    "print(message2, \"\\n\")"
   ]
  },
  {
   "cell_type": "markdown",
   "metadata": {},
   "source": [
    "## Excersice 3: Dictionaries\n",
    "\n",
    "1. Create a dictionary with two keys: `even_numbers` and `odd_numbers`. The first key should have all the even numbers in this range `[0, 2000]` and the second key must have all the odd numbers in this range `[9000, 19000]`. The values should be store in a `list`."
   ]
  },
  {
   "cell_type": "code",
   "execution_count": 1,
   "metadata": {},
   "outputs": [
    {
     "name": "stdout",
     "output_type": "stream",
     "text": [
      "{'even_numbers': [array([   0,    2,    4, ..., 1996, 1998, 2000])], 'odd_numbers': [array([ 9001,  9003,  9005, ..., 18995, 18997, 18999])]}\n"
     ]
    }
   ],
   "source": [
    "import numpy as np\n",
    "# Dict: Numbers\n",
    "# Keys\n",
    "Num = ['even_numbers','odd_numbers']\n",
    "# Values\n",
    "Range = [[np.arange(0,2002,2)], [np.arange(9001,19000,2)]]\n",
    "\n",
    "# Return a dict:\n",
    "Numbers = dict( zip( Num , Range ) )\n",
    "print( Numbers )"
   ]
  },
  {
   "cell_type": "markdown",
   "metadata": {},
   "source": [
    "2. Check if `TA` is a key of your object created in exercise."
   ]
  },
  {
   "cell_type": "code",
   "execution_count": 2,
   "metadata": {},
   "outputs": [
    {
     "name": "stdout",
     "output_type": "stream",
     "text": [
      "dict_keys(['even_numbers', 'odd_numbers'])\n",
      "False\n",
      "True\n"
     ]
    }
   ],
   "source": [
    "# New objetct:\n",
    "Numb2 = Numbers.keys()\n",
    "print( Numb2 )\n",
    "\n",
    "# Check: TA is part of \n",
    "print( \"TA\" in Numb2 ) \n",
    "print( \"even_numbers\" in Numb2 )"
   ]
  },
  {
   "cell_type": "markdown",
   "metadata": {},
   "source": [
    "3. Print the value of `brand` key of `car` dictionary."
   ]
  },
  {
   "cell_type": "code",
   "execution_count": 3,
   "metadata": {},
   "outputs": [
    {
     "data": {
      "text/plain": [
       "'Ford'"
      ]
     },
     "execution_count": 3,
     "metadata": {},
     "output_type": "execute_result"
    }
   ],
   "source": [
    "# Dict:\n",
    "car = {\"brand\": \"Ford\", \"model\": \"Mustang\", \"year\": 1964}\n",
    "\n",
    "# Return the value of brand key:\n",
    "car.get(\"brand\")"
   ]
  },
  {
   "cell_type": "markdown",
   "metadata": {},
   "source": [
    "4. Print all the the values of `brand` key of `car` dictionary."
   ]
  },
  {
   "cell_type": "code",
   "execution_count": 4,
   "metadata": {},
   "outputs": [
    {
     "data": {
      "text/plain": [
       "dict_values(['Ford', 'Mustang', 1964])"
      ]
     },
     "execution_count": 4,
     "metadata": {},
     "output_type": "execute_result"
    }
   ],
   "source": [
    "# All the values of car dictionary:\n",
    "car.values()"
   ]
  },
  {
   "cell_type": "markdown",
   "metadata": {},
   "source": [
    "5. Print the max value of `friday` in `january` of `hr_sleep` dictionary."
   ]
  },
  {
   "cell_type": "code",
   "execution_count": 5,
   "metadata": {},
   "outputs": [
    {
     "name": "stdout",
     "output_type": "stream",
     "text": [
      "2\n"
     ]
    }
   ],
   "source": [
    "# hr_sleep dict:\n",
    "hr_sleep = {\"january\": {\"wednesday\": 7,\n",
    "                        \"thursday\": 8,\n",
    "                        \"friday\": [2, 2, 1, 2]},\n",
    "            \"february\": {\"saturday\": 5,\n",
    "                         \"sunday\": 10,\n",
    "                         \"monday\": 8} }\n",
    "\n",
    "# Return max value:\n",
    "Hr_sleep1 = hr_sleep[\"january\"][\"friday\"] \n",
    "Hr_sleep2 = max(Hr_sleep1)\n",
    "print(Hr_sleep2)"
   ]
  },
  {
   "cell_type": "markdown",
   "metadata": {},
   "source": [
    "6. Add `march` key to the `hr_sleep` dictionary using `week1` and `values2` Python lists."
   ]
  },
  {
   "cell_type": "code",
   "execution_count": 6,
   "metadata": {},
   "outputs": [
    {
     "name": "stdout",
     "output_type": "stream",
     "text": [
      "{'january': {'wednesday': 7, 'thursday': 8, 'friday': [2, 2, 1, 2]}, 'february': {'saturday': 5, 'sunday': 10, 'monday': 8}, 'march': {'monday': [2, 3, 4], 'sunday': 8}}\n"
     ]
    }
   ],
   "source": [
    "# hr_sleep dict:\n",
    "hr_sleep = {\"january\": {\"wednesday\": 7,\n",
    "                        \"thursday\": 8,\n",
    "                        \"friday\": [2, 2, 1, 2]},\n",
    "            \"february\": {\"saturday\": 5,\n",
    "                         \"sunday\": 10,\n",
    "                         \"monday\": 8} }\n",
    "\n",
    "# New key \"march\"\n",
    "week1 = ['monday', 'sunday']\n",
    "values2 = [ [2, 3, 4 ] , 8, ]\n",
    "\n",
    "# Return dict with \"march\" key:\n",
    "hr_sleep.update(march = dict(zip (week1 , values2) ))\n",
    "print(hr_sleep)\n"
   ]
  },
  {
   "cell_type": "markdown",
   "metadata": {},
   "source": [
    "## Excersice 4: Numpy\n",
    "\n",
    "1. Replace all the `even_numbers` in `np1` with 100."
   ]
  },
  {
   "cell_type": "code",
   "execution_count": 109,
   "metadata": {},
   "outputs": [],
   "source": [
    "np1 = np.arange( 200, 750)"
   ]
  },
  {
   "cell_type": "code",
   "execution_count": 111,
   "metadata": {},
   "outputs": [
    {
     "name": "stdout",
     "output_type": "stream",
     "text": [
      "[100, 201, 100, 203, 100, 205, 100, 207, 100, 209, 100, 211, 100, 213, 100, 215, 100, 217, 100, 219, 100, 221, 100, 223, 100, 225, 100, 227, 100, 229, 100, 231, 100, 233, 100, 235, 100, 237, 100, 239, 100, 241, 100, 243, 100, 245, 100, 247, 100, 249, 100, 251, 100, 253, 100, 255, 100, 257, 100, 259, 100, 261, 100, 263, 100, 265, 100, 267, 100, 269, 100, 271, 100, 273, 100, 275, 100, 277, 100, 279, 100, 281, 100, 283, 100, 285, 100, 287, 100, 289, 100, 291, 100, 293, 100, 295, 100, 297, 100, 299, 100, 301, 100, 303, 100, 305, 100, 307, 100, 309, 100, 311, 100, 313, 100, 315, 100, 317, 100, 319, 100, 321, 100, 323, 100, 325, 100, 327, 100, 329, 100, 331, 100, 333, 100, 335, 100, 337, 100, 339, 100, 341, 100, 343, 100, 345, 100, 347, 100, 349, 100, 351, 100, 353, 100, 355, 100, 357, 100, 359, 100, 361, 100, 363, 100, 365, 100, 367, 100, 369, 100, 371, 100, 373, 100, 375, 100, 377, 100, 379, 100, 381, 100, 383, 100, 385, 100, 387, 100, 389, 100, 391, 100, 393, 100, 395, 100, 397, 100, 399, 100, 401, 100, 403, 100, 405, 100, 407, 100, 409, 100, 411, 100, 413, 100, 415, 100, 417, 100, 419, 100, 421, 100, 423, 100, 425, 100, 427, 100, 429, 100, 431, 100, 433, 100, 435, 100, 437, 100, 439, 100, 441, 100, 443, 100, 445, 100, 447, 100, 449, 100, 451, 100, 453, 100, 455, 100, 457, 100, 459, 100, 461, 100, 463, 100, 465, 100, 467, 100, 469, 100, 471, 100, 473, 100, 475, 100, 477, 100, 479, 100, 481, 100, 483, 100, 485, 100, 487, 100, 489, 100, 491, 100, 493, 100, 495, 100, 497, 100, 499, 100, 501, 100, 503, 100, 505, 100, 507, 100, 509, 100, 511, 100, 513, 100, 515, 100, 517, 100, 519, 100, 521, 100, 523, 100, 525, 100, 527, 100, 529, 100, 531, 100, 533, 100, 535, 100, 537, 100, 539, 100, 541, 100, 543, 100, 545, 100, 547, 100, 549, 100, 551, 100, 553, 100, 555, 100, 557, 100, 559, 100, 561, 100, 563, 100, 565, 100, 567, 100, 569, 100, 571, 100, 573, 100, 575, 100, 577, 100, 579, 100, 581, 100, 583, 100, 585, 100, 587, 100, 589, 100, 591, 100, 593, 100, 595, 100, 597, 100, 599, 100, 601, 100, 603, 100, 605, 100, 607, 100, 609, 100, 611, 100, 613, 100, 615, 100, 617, 100, 619, 100, 621, 100, 623, 100, 625, 100, 627, 100, 629, 100, 631, 100, 633, 100, 635, 100, 637, 100, 639, 100, 641, 100, 643, 100, 645, 100, 647, 100, 649, 100, 651, 100, 653, 100, 655, 100, 657, 100, 659, 100, 661, 100, 663, 100, 665, 100, 667, 100, 669, 100, 671, 100, 673, 100, 675, 100, 677, 100, 679, 100, 681, 100, 683, 100, 685, 100, 687, 100, 689, 100, 691, 100, 693, 100, 695, 100, 697, 100, 699, 100, 701, 100, 703, 100, 705, 100, 707, 100, 709, 100, 711, 100, 713, 100, 715, 100, 717, 100, 719, 100, 721, 100, 723, 100, 725, 100, 727, 100, 729, 100, 731, 100, 733, 100, 735, 100, 737, 100, 739, 100, 741, 100, 743, 100, 745, 100, 747, 100, 749]\n"
     ]
    }
   ],
   "source": [
    "print([x if x % 2 != 0 else 100 for x in np1])"
   ]
  },
  {
   "cell_type": "markdown",
   "metadata": {},
   "source": [
    "## Excersice 5: Restricted Least Squares\n",
    "\n",
    "Get $\\hat{\\beta}$ vector from the equation bellow. Use the `q`, `p1`, `p2`, `p3`, `CT` numpies. <br>\n",
    "For more information about restricted OLS [click here](http://web.vu.lt/mif/a.buteikis/wp-content/uploads/PE_Book/4-4-Multiple-RLS.html).<br>\n",
    "\n",
    "\n",
    "$$\n",
    "\\begin{aligned} \n",
    "lnCT &= \\beta_{0}+\\beta_{q}lnq+ \\frac{1}{2}\\beta_qq lnq^2+\\beta_{q1}lnqlnp_1+\\beta_{q2}lnqlnp_2+ \\beta_{q1}lnqlnp_{3} +\\beta_{1}lnp_1+\\beta_{2}lnp_2+ \\beta_{3}lnp_3 \\\\\n",
    "& + \\frac{1}{2}\\beta_{11}ln^{2}p_1+ \\frac{1}{2}\\beta_{22}ln^{2}p_{2}+ \\frac{1}{2}\\beta_{33}ln^{2}p_{3} + \\frac{1}{2}\\beta_{12}lnp_{1}lnp_{2}+ \\frac{1}{2}\\beta_{13}lnp_{1}lnp_{3}+\\frac{1}{2}\\beta_{23}lnp_{2}lnp_{3} \n",
    "\\end{aligned}\n",
    "$$\n",
    "\n",
    "\n",
    "ST: \n",
    "\n",
    "<br>\n",
    "$$\n",
    "\\begin{aligned} \n",
    "\\beta_{1} + \\beta_{2} + \\beta_{3} &= 1 \\\\\n",
    "\\beta_{q1} + \\beta_{q2} + \\beta_{q3} &= 0 \\\\\n",
    "\\beta_{11} + \\beta_{12} + \\beta_{13} &= 0 \\\\\n",
    "\\beta_{21} + \\beta_{22} + \\beta_{23} &= 0 \\\\\n",
    "\\beta_{31} + \\beta_{32} + \\beta_{33} &= 0 \\\\\n",
    "\\beta_{ij} = \\beta_{ji}\n",
    "\\end{aligned}\n",
    "$$"
   ]
  },
  {
   "cell_type": "code",
   "execution_count": 6,
   "metadata": {},
   "outputs": [],
   "source": [
    "import pandas as pd\n",
    "greene = pd.read_csv(r\"../../_data/christensen_greene_f4.csv\")"
   ]
  },
  {
   "cell_type": "code",
   "execution_count": 7,
   "metadata": {},
   "outputs": [],
   "source": [
    "ct = greene.COST.values\n",
    "q = greene.Q.values\n",
    "p1 = greene.PL.values\n",
    "p2 = greene.PF.values\n",
    "p3 = greene.PK.values"
   ]
  }
 ],
 "metadata": {
  "hide_input": false,
  "kernelspec": {
   "display_name": "Python 3",
   "language": "python",
   "name": "python3"
  },
  "language_info": {
   "codemirror_mode": {
    "name": "ipython",
    "version": 3
   },
   "file_extension": ".py",
   "mimetype": "text/x-python",
   "name": "python",
   "nbconvert_exporter": "python",
   "pygments_lexer": "ipython3",
   "version": "3.8.8"
  }
 },
 "nbformat": 4,
 "nbformat_minor": 4
}
