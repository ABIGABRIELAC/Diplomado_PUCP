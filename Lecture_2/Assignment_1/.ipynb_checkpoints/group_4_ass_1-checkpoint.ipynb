{
 "cells": [
  {
   "cell_type": "code",
   "execution_count": 1,
   "metadata": {},
   "outputs": [],
   "source": [
    "#Create a tuple\n",
    "tuple1 = (\"apple\", \"banana\", \"cherry\", \"orange\", \"kiwi\", \"melon\", \"mango\")"
   ]
  },
  {
   "cell_type": "code",
   "execution_count": null,
   "metadata": {},
   "outputs": [],
   "source": [
    "##1.1 Tuple##\n",
    "\n",
    "#1.Print the first item of the tuple1 object\n",
    "print (tuple1 [0])\n",
    "index1 = tuple1.index( \"apple\" )\n",
    "print('The index of \"apple\" is:', index1)"
   ]
  },
  {
   "cell_type": "code",
   "execution_count": 13,
   "metadata": {},
   "outputs": [
    {
     "name": "stdout",
     "output_type": "stream",
     "text": [
      "mango\n",
      "The index of \"mango\" is: 6\n"
     ]
    }
   ],
   "source": [
    "#2. Print the last item of the tuple1 object\n",
    "print (tuple1 [6])\n",
    "index2 = tuple1.index( \"mango\" )\n",
    "print('The index of \"mango\" is:', index2)"
   ]
  },
  {
   "cell_type": "code",
   "execution_count": null,
   "metadata": {},
   "outputs": [],
   "source": [
    "#3. Change the value \"orange\" for \"pink grapefruit\"\n",
    "tuple1[\"orange\"] = \"pink grapefruit\"\n",
    "#It's not possible because, you can't modify a tuple"
   ]
  },
  {
   "cell_type": "code",
   "execution_count": 16,
   "metadata": {},
   "outputs": [
    {
     "name": "stdout",
     "output_type": "stream",
     "text": [
      "The length of the tuple1 is: 7\n"
     ]
    }
   ],
   "source": [
    "#4. Print the length of tuple1\n",
    "print('The length of the tuple1 is:', len(tuple1))"
   ]
  },
  {
   "cell_type": "code",
   "execution_count": 19,
   "metadata": {},
   "outputs": [
    {
     "name": "stdout",
     "output_type": "stream",
     "text": [
      "(50, 40, 30, 20, 10)\n"
     ]
    }
   ],
   "source": [
    "#5. Sort tuple2 in descending order\n",
    "tuple2 = (10, 20, 30, 40, 50)\n",
    "tuple2_r = tuple(sorted(tuple2, reverse=True))\n",
    "print(tuple2_r)"
   ]
  },
  {
   "cell_type": "code",
   "execution_count": 21,
   "metadata": {},
   "outputs": [
    {
     "name": "stdout",
     "output_type": "stream",
     "text": [
      "(5.0, 10.0, 15.0, 20.0, 25.0)\n"
     ]
    }
   ],
   "source": [
    "#6. Generate a new tuple object named as tuple3 with the half values of tuple2\n",
    "tuple2 = (10, 20, 30, 40, 50)\n",
    "tuple3 = tuple(tuple2i/2 for tuple2i in tuple2)\n",
    "print( tuple3 )"
   ]
  },
  {
   "cell_type": "code",
   "execution_count": 5,
   "metadata": {},
   "outputs": [],
   "source": [
    "## 1.2 Lists ##\n",
    "\n",
    "import numpy as np\n",
    "f_list = [np.nan , np.nan, \"Austria\", \"Germany\", np.nan, \"Pakistan\", \"np.nan\", np.nan ]"
   ]
  },
  {
   "cell_type": "code",
   "execution_count": 49,
   "metadata": {},
   "outputs": [],
   "source": [
    "#1. Show the indices of the np.nan values in the f_list list. We want to see this output: The indices 0, 1, 4, 7 have np.nan values. \n",
    "\n",
    "ind = [i for i, v in enumerate(f_list) if v is np.nan]\n",
    "\n",
    "ind2 = str(ind)[1:-1] "
   ]
  },
  {
   "cell_type": "code",
   "execution_count": 50,
   "metadata": {},
   "outputs": [
    {
     "name": "stdout",
     "output_type": "stream",
     "text": [
      "The indices 0, 1, 4, 7 have np.nan values\n"
     ]
    }
   ],
   "source": [
    "print('The indices', ind2 ,\"have np.nan values\")"
   ]
  },
  {
   "cell_type": "code",
   "execution_count": 67,
   "metadata": {},
   "outputs": [],
   "source": [
    "#2. Replicate 4 times the values of the list p2_list. We expect an ouput like this: [ 2 , 3, 4, 5, 2 , 3, 4, 5, 2 , 3, 4, 5, 2 , 3, 4, 5]. Hint: Use multiplication function in listsand see the output.\n",
    "\n",
    "p2_list = [2 ,3, 4, 5]\n",
    "\n",
    "output = p2_list *4"
   ]
  },
  {
   "cell_type": "code",
   "execution_count": 68,
   "metadata": {},
   "outputs": [
    {
     "name": "stdout",
     "output_type": "stream",
     "text": [
      "[2, 3, 4, 5, 2, 3, 4, 5, 2, 3, 4, 5, 2, 3, 4, 5]\n"
     ]
    }
   ],
   "source": [
    "print(output)"
   ]
  },
  {
   "cell_type": "code",
   "execution_count": 69,
   "metadata": {},
   "outputs": [
    {
     "data": {
      "text/plain": [
       "8"
      ]
     },
     "execution_count": 69,
     "metadata": {},
     "output_type": "execute_result"
    }
   ],
   "source": [
    "#3. Print the length of f_list. Hint: Length function\n",
    "\n",
    "len(f_list)"
   ]
  },
  {
   "cell_type": "code",
   "execution_count": 91,
   "metadata": {},
   "outputs": [],
   "source": [
    "#4. Print My teacher assistant is so boring. using text1 list. Hint: Use the join function\n",
    "\n",
    "text1 = ['My', 'teacher', 'assistant', 'is', 'so', 'boring.']"
   ]
  },
  {
   "cell_type": "code",
   "execution_count": 94,
   "metadata": {},
   "outputs": [
    {
     "name": "stdout",
     "output_type": "stream",
     "text": [
      "My teacher assistant is so boring.\n"
     ]
    }
   ],
   "source": [
    "print(*text1, sep=\" \") "
   ]
  },
  {
   "cell_type": "code",
   "execution_count": 74,
   "metadata": {},
   "outputs": [
    {
     "name": "stdout",
     "output_type": "stream",
     "text": [
      "My teacher assistant is so boring.\n"
     ]
    }
   ],
   "source": [
    "#or\n",
    "print(' '.join(text1))"
   ]
  },
  {
   "cell_type": "code",
   "execution_count": 114,
   "metadata": {},
   "outputs": [
    {
     "name": "stdout",
     "output_type": "stream",
     "text": [
      "My teacher assistant is so boring , but is very funny.\n"
     ]
    }
   ],
   "source": [
    "#5. Print My TA is so boring, but is very funny. using text1 list.Hint: Use the join function, and extend method.\n",
    "\n",
    "text1 = ['My', 'teacher', 'assistant', 'is', 'so', 'boring']\n",
    "text2 = [',','but', 'is', 'very', 'funny.']\n",
    "text1.extend(text2)\n",
    "\n",
    "print(' '.join(text1))"
   ]
  },
  {
   "cell_type": "code",
   "execution_count": 85,
   "metadata": {},
   "outputs": [],
   "source": [
    "values1 = [ 86, 86, 85, 85, 85, 83, 23, 0, 84, 1 ] "
   ]
  },
  {
   "cell_type": "code",
   "execution_count": 103,
   "metadata": {},
   "outputs": [
    {
     "data": {
      "text/plain": [
       "'The max value of values 1 is 86 and is located in 0'"
      ]
     },
     "execution_count": 103,
     "metadata": {},
     "output_type": "execute_result"
    }
   ],
   "source": [
    "maxmin = \"max\"\n",
    "valores =  max(values1)\n",
    "ubicacion = values1.index(max(values1))\n",
    "\n",
    "f\"The {maxmin} value of values 1 is {valores} and is located in {ubicacion}.\"\n",
    "\n",
    "# No sé si está bien!"
   ]
  },
  {
   "cell_type": "code",
   "execution_count": 102,
   "metadata": {},
   "outputs": [
    {
     "name": "stdout",
     "output_type": "stream",
     "text": [
      "The max value of values 1 is 86 and is located in 0\n"
     ]
    }
   ],
   "source": [
    "print(\"The max value of values 1 is\", max(values1), \"and is located in\", values1.index(max(values1)))"
   ]
  },
  {
   "cell_type": "code",
   "execution_count": 121,
   "metadata": {},
   "outputs": [
    {
     "name": "stdout",
     "output_type": "stream",
     "text": [
      "The max value of values1 is 86 and is located in the 0 index.\n",
      " The min value of values1 is 0 and is located in the 7 index.\n"
     ]
    }
   ],
   "source": [
    "# Creo que esta es!\n",
    "max1 = 'max'\n",
    "valor1 =  max(values1)\n",
    "ubicacion1 = values1.index(max(values1))\n",
    "\n",
    "min1 = 'min'\n",
    "valor2 =  min(values1)\n",
    "ubicacion2 = values1.index(min(values1))\n",
    "\n",
    "print(f'The {max1} value of values1 is {valor1} and is located in the {ubicacion1} index.\\n',\n",
    "    f'The {min1} value of values1 is {valor2} and is located in the {ubicacion2} index.')"
   ]
  },
  {
   "cell_type": "code",
   "execution_count": 11,
   "metadata": {},
   "outputs": [
    {
     "name": "stdout",
     "output_type": "stream",
     "text": [
      "[200 100 202 100 204 100 206 100 208 100 210 100 212 100 214 100 216 100\n",
      " 218 100 220 100 222 100 224 100 226 100 228 100 230 100 232 100 234 100\n",
      " 236 100 238 100 240 100 242 100 244 100 246 100 248 100 250 100 252 100\n",
      " 254 100 256 100 258 100 260 100 262 100 264 100 266 100 268 100 270 100\n",
      " 272 100 274 100 276 100 278 100 280 100 282 100 284 100 286 100 288 100\n",
      " 290 100 292 100 294 100 296 100 298 100 300 100 302 100 304 100 306 100\n",
      " 308 100 310 100 312 100 314 100 316 100 318 100 320 100 322 100 324 100\n",
      " 326 100 328 100 330 100 332 100 334 100 336 100 338 100 340 100 342 100\n",
      " 344 100 346 100 348 100 350 100 352 100 354 100 356 100 358 100 360 100\n",
      " 362 100 364 100 366 100 368 100 370 100 372 100 374 100 376 100 378 100\n",
      " 380 100 382 100 384 100 386 100 388 100 390 100 392 100 394 100 396 100\n",
      " 398 100 400 100 402 100 404 100 406 100 408 100 410 100 412 100 414 100\n",
      " 416 100 418 100 420 100 422 100 424 100 426 100 428 100 430 100 432 100\n",
      " 434 100 436 100 438 100 440 100 442 100 444 100 446 100 448 100 450 100\n",
      " 452 100 454 100 456 100 458 100 460 100 462 100 464 100 466 100 468 100\n",
      " 470 100 472 100 474 100 476 100 478 100 480 100 482 100 484 100 486 100\n",
      " 488 100 490 100 492 100 494 100 496 100 498 100 500 100 502 100 504 100\n",
      " 506 100 508 100 510 100 512 100 514 100 516 100 518 100 520 100 522 100\n",
      " 524 100 526 100 528 100 530 100 532 100 534 100 536 100 538 100 540 100\n",
      " 542 100 544 100 546 100 548 100 550 100 552 100 554 100 556 100 558 100\n",
      " 560 100 562 100 564 100 566 100 568 100 570 100 572 100 574 100 576 100\n",
      " 578 100 580 100 582 100 584 100 586 100 588 100 590 100 592 100 594 100\n",
      " 596 100 598 100 600 100 602 100 604 100 606 100 608 100 610 100 612 100\n",
      " 614 100 616 100 618 100 620 100 622 100 624 100 626 100 628 100 630 100\n",
      " 632 100 634 100 636 100 638 100 640 100 642 100 644 100 646 100 648 100\n",
      " 650 100 652 100 654 100 656 100 658 100 660 100 662 100 664 100 666 100\n",
      " 668 100 670 100 672 100 674 100 676 100 678 100 680 100 682 100 684 100\n",
      " 686 100 688 100 690 100 692 100 694 100 696 100 698 100 700 100 702 100\n",
      " 704 100 706 100 708 100 710 100 712 100 714 100 716 100 718 100 720 100\n",
      " 722 100 724 100 726 100 728 100 730 100 732 100 734 100 736 100 738 100\n",
      " 740 100 742 100 744 100 746 100 748 100]\n"
     ]
    }
   ],
   "source": [
    "## 1.4 Numpy ##\n",
    "\n",
    "#1. Replace all the even_numbers in np1 with 100.\n",
    "import numpy as np\n",
    "np1 = np.arange(200, 750)\n",
    "np1[np1%2 == 1] = 100\n",
    "print( np1 )"
   ]
  },
  {
   "cell_type": "code",
   "execution_count": 29,
   "metadata": {},
   "outputs": [
    {
     "name": "stdout",
     "output_type": "stream",
     "text": [
      "[[0 1 2]\n",
      " [3 4 5]\n",
      " [6 7 8]]\n"
     ]
    }
   ],
   "source": [
    "#2. Create a 3x3 matrix with values ranging from 0 to 8\n",
    "matrix1 =  np.arange(0, 9).reshape(3,3)\n",
    "print(matrix1)"
   ]
  },
  {
   "cell_type": "code",
   "execution_count": 42,
   "metadata": {},
   "outputs": [],
   "source": [
    "#3. Generate an array: R = [ [ 1, 2, 3, 4], [ 2, 3, 4, 5 ], [ 3, 4, 5, 6 ], ..., [ 7, 8, 9, 10 ] ]\n",
    "z = np.array([1, 2, 3, 4, 5, 6, 7, 8, 9, 10]) "
   ]
  },
  {
   "cell_type": "code",
   "execution_count": 50,
   "metadata": {},
   "outputs": [
    {
     "data": {
      "text/plain": [
       "array([[0.50413416, 0.49938274, 0.15962205],\n",
       "       [0.89067293, 0.45387265, 0.46178381],\n",
       "       [0.80157793, 0.95923691, 0.93297814]])"
      ]
     },
     "execution_count": 50,
     "metadata": {},
     "output_type": "execute_result"
    }
   ],
   "source": [
    "#4. Create a 3x3x3 array with random values\n",
    "np.random.random((3, 3))"
   ]
  },
  {
   "cell_type": "code",
   "execution_count": null,
   "metadata": {},
   "outputs": [],
   "source": [
    "#5. Comment why this expression np.nan == np.nan\n",
    "#Because equivalence between missing or invalid values is not well defined"
   ]
  },
  {
   "cell_type": "code",
   "execution_count": 57,
   "metadata": {},
   "outputs": [
    {
     "data": {
      "text/plain": [
       "50.06907437131031"
      ]
     },
     "execution_count": 57,
     "metadata": {},
     "output_type": "execute_result"
    }
   ],
   "source": [
    "#6. Print the mean and standard deviation of np2\n",
    "np2 = np.random.normal( 50, 4, 300)\n",
    "np.mean( np2 )"
   ]
  },
  {
   "cell_type": "code",
   "execution_count": 58,
   "metadata": {},
   "outputs": [
    {
     "data": {
      "text/plain": [
       "16.821373172492"
      ]
     },
     "execution_count": 58,
     "metadata": {},
     "output_type": "execute_result"
    }
   ],
   "source": [
    "np.var( np2 )"
   ]
  },
  {
   "cell_type": "code",
   "execution_count": null,
   "metadata": {},
   "outputs": [],
   "source": []
  }
 ],
 "metadata": {
  "kernelspec": {
   "display_name": "Python 3",
   "language": "python",
   "name": "python3"
  },
  "language_info": {
   "codemirror_mode": {
    "name": "ipython",
    "version": 3
   },
   "file_extension": ".py",
   "mimetype": "text/x-python",
   "name": "python",
   "nbconvert_exporter": "python",
   "pygments_lexer": "ipython3",
   "version": "3.8.5"
  }
 },
 "nbformat": 4,
 "nbformat_minor": 5
}
