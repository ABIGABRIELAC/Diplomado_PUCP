{
 "cells": [
  {
   "cell_type": "code",
   "execution_count": 1,
   "id": "c1ba0fa6",
   "metadata": {},
   "outputs": [],
   "source": [
    "#Create a tuple\n",
    "tuple1 = (\"apple\", \"banana\", \"cherry\", \"orange\", \"kiwi\", \"melon\", \"mango\")"
   ]
  },
  {
   "cell_type": "code",
   "execution_count": null,
   "id": "48ff9074",
   "metadata": {},
   "outputs": [],
   "source": [
    "##1.1 Tuple##\n",
    "\n",
    "#1.Print the first item of the tuple1 object\n",
    "print (tuple1 [0])\n",
    "index1 = tuple1.index( \"apple\" )\n",
    "print('The index of \"apple\" is:', index1)"
   ]
  },
  {
   "cell_type": "code",
   "execution_count": 13,
   "id": "c4bfc76b",
   "metadata": {},
   "outputs": [
    {
     "name": "stdout",
     "output_type": "stream",
     "text": [
      "mango\n",
      "The index of \"mango\" is: 6\n"
     ]
    }
   ],
   "source": [
    "#2. Print the last item of the tuple1 object\n",
    "print (tuple1 [6])\n",
    "index2 = tuple1.index( \"mango\" )\n",
    "print('The index of \"mango\" is:', index2)"
   ]
  },
  {
   "cell_type": "code",
   "execution_count": null,
   "id": "ea44b9ac",
   "metadata": {},
   "outputs": [],
   "source": [
    "#3. Change the value \"orange\" for \"pink grapefruit\"\n",
    "tuple1[\"orange\"] = \"pink grapefruit\"\n",
    "#It's not possible because, you can't modify a tuple"
   ]
  },
  {
   "cell_type": "code",
   "execution_count": 16,
   "id": "a6ed5396",
   "metadata": {},
   "outputs": [
    {
     "name": "stdout",
     "output_type": "stream",
     "text": [
      "The length of the tuple1 is: 7\n"
     ]
    }
   ],
   "source": [
    "#4. Print the length of tuple1\n",
    "print('The length of the tuple1 is:', len(tuple1))"
   ]
  },
  {
   "cell_type": "code",
   "execution_count": 19,
   "id": "09746ae5",
   "metadata": {},
   "outputs": [
    {
     "name": "stdout",
     "output_type": "stream",
     "text": [
      "(50, 40, 30, 20, 10)\n"
     ]
    }
   ],
   "source": [
    "#5. Sort tuple2 in descending order\n",
    "tuple2 = (10, 20, 30, 40, 50)\n",
    "tuple2_r = tuple(sorted(tuple2, reverse=True))\n",
    "print(tuple2_r)"
   ]
  },
  {
   "cell_type": "code",
   "execution_count": 21,
   "id": "3f154a2b",
   "metadata": {},
   "outputs": [
    {
     "name": "stdout",
     "output_type": "stream",
     "text": [
      "(5.0, 10.0, 15.0, 20.0, 25.0)\n"
     ]
    }
   ],
   "source": [
    "#6. Generate a new tuple object named as tuple3 with the half values of tuple2\n",
    "tuple2 = (10, 20, 30, 40, 50)\n",
    "tuple3 = tuple(tuple2i/2 for tuple2i in tuple2)\n",
    "print( tuple3 )"
   ]
  },
  {
   "cell_type": "code",
   "execution_count": 28,
   "id": "91de11b1",
   "metadata": {},
   "outputs": [
    {
     "name": "stdout",
     "output_type": "stream",
     "text": [
      "[200 100 202 100 204 100 206 100 208 100 210 100 212 100 214 100 216 100\n",
      " 218 100 220 100 222 100 224 100 226 100 228 100 230 100 232 100 234 100\n",
      " 236 100 238 100 240 100 242 100 244 100 246 100 248 100]\n"
     ]
    }
   ],
   "source": [
    "## 1.4 Numpy ##\n",
    "\n",
    "#1. Replace all the even_numbers in np1 with 100.\n",
    "import numpy as np\n",
    "np1 = np.arange(200, 750)\n",
    "np1[np1%2 == 1] = 100\n",
    "print( np1 )"
   ]
  },
  {
   "cell_type": "code",
   "execution_count": 29,
   "id": "3d2d3174",
   "metadata": {},
   "outputs": [
    {
     "name": "stdout",
     "output_type": "stream",
     "text": [
      "[[0 1 2]\n",
      " [3 4 5]\n",
      " [6 7 8]]\n"
     ]
    }
   ],
   "source": [
    "#2. Create a 3x3 matrix with values ranging from 0 to 8\n",
    "matrix1 =  np.arange(0, 9).reshape(3,3)\n",
    "print(matrix1)"
   ]
  },
  {
   "cell_type": "code",
   "execution_count": 42,
   "id": "e28a876c",
   "metadata": {},
   "outputs": [],
   "source": [
    "#3. Generate an array: R = [ [ 1, 2, 3, 4], [ 2, 3, 4, 5 ], [ 3, 4, 5, 6 ], ..., [ 7, 8, 9, 10 ] ]\n",
    "z = np.array([1, 2, 3, 4, 5, 6, 7, 8, 9, 10]) "
   ]
  },
  {
   "cell_type": "code",
   "execution_count": 50,
   "id": "2270ae19",
   "metadata": {},
   "outputs": [
    {
     "data": {
      "text/plain": [
       "array([[0.50413416, 0.49938274, 0.15962205],\n",
       "       [0.89067293, 0.45387265, 0.46178381],\n",
       "       [0.80157793, 0.95923691, 0.93297814]])"
      ]
     },
     "execution_count": 50,
     "metadata": {},
     "output_type": "execute_result"
    }
   ],
   "source": [
    "#4. Create a 3x3x3 array with random values\n",
    "np.random.random((3, 3))"
   ]
  },
  {
   "cell_type": "code",
   "execution_count": null,
   "id": "8422eb81",
   "metadata": {},
   "outputs": [],
   "source": [
    "#5. Comment why this expression np.nan == np.nan\n",
    "#Because equivalence between missing or invalid values is not well defined"
   ]
  },
  {
   "cell_type": "code",
   "execution_count": 57,
   "id": "8edadc77",
   "metadata": {},
   "outputs": [
    {
     "data": {
      "text/plain": [
       "50.06907437131031"
      ]
     },
     "execution_count": 57,
     "metadata": {},
     "output_type": "execute_result"
    }
   ],
   "source": [
    "#6. Print the mean and standard deviation of np2\n",
    "np2 = np.random.normal( 50, 4, 300)\n",
    "np.mean( np2 )"
   ]
  },
  {
   "cell_type": "code",
   "execution_count": 58,
   "id": "e91c0637",
   "metadata": {},
   "outputs": [
    {
     "data": {
      "text/plain": [
       "16.821373172492"
      ]
     },
     "execution_count": 58,
     "metadata": {},
     "output_type": "execute_result"
    }
   ],
   "source": [
    "np.var( np2 )"
   ]
  },
  {
   "cell_type": "code",
   "execution_count": null,
   "id": "548a6281",
   "metadata": {},
   "outputs": [],
   "source": []
  }
 ],
 "metadata": {
  "kernelspec": {
   "display_name": "Python 3",
   "language": "python",
   "name": "python3"
  },
  "language_info": {
   "codemirror_mode": {
    "name": "ipython",
    "version": 3
   },
   "file_extension": ".py",
   "mimetype": "text/x-python",
   "name": "python",
   "nbconvert_exporter": "python",
   "pygments_lexer": "ipython3",
   "version": "3.8.8"
  }
 },
 "nbformat": 4,
 "nbformat_minor": 5
}
