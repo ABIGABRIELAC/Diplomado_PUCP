{
 "cells": [
  {
   "cell_type": "code",
   "execution_count": 10,
   "metadata": {},
   "outputs": [],
   "source": [
    "import pandas as pd \n",
    "import numpy as np"
   ]
  },
  {
   "cell_type": "markdown",
   "metadata": {},
   "source": [
    "## 1 Tuples"
   ]
  },
  {
   "cell_type": "code",
   "execution_count": 2,
   "metadata": {},
   "outputs": [],
   "source": [
    "tuple1 = (\"apple\", \"banana\", \"cherry\", \"orange\", \"kiwi\", \"melon\", \"mango\")\n",
    "tuple2 = (10, 20, 30, 40, 50)"
   ]
  },
  {
   "cell_type": "code",
   "execution_count": 3,
   "metadata": {},
   "outputs": [
    {
     "data": {
      "text/plain": [
       "'apple'"
      ]
     },
     "execution_count": 3,
     "metadata": {},
     "output_type": "execute_result"
    }
   ],
   "source": [
    "tuple1[0]"
   ]
  },
  {
   "cell_type": "code",
   "execution_count": 4,
   "metadata": {},
   "outputs": [
    {
     "data": {
      "text/plain": [
       "'mango'"
      ]
     },
     "execution_count": 4,
     "metadata": {},
     "output_type": "execute_result"
    }
   ],
   "source": [
    "tuple1[-1]"
   ]
  },
  {
   "cell_type": "code",
   "execution_count": 5,
   "metadata": {},
   "outputs": [
    {
     "ename": "TypeError",
     "evalue": "'tuple' object does not support item assignment",
     "output_type": "error",
     "traceback": [
      "\u001b[1;31m---------------------------------------------------------------------------\u001b[0m",
      "\u001b[1;31mTypeError\u001b[0m                                 Traceback (most recent call last)",
      "\u001b[1;32m<ipython-input-5-340b026ee345>\u001b[0m in \u001b[0;36m<module>\u001b[1;34m\u001b[0m\n\u001b[1;32m----> 1\u001b[1;33m \u001b[0mtuple1\u001b[0m\u001b[1;33m[\u001b[0m\u001b[1;36m3\u001b[0m\u001b[1;33m]\u001b[0m \u001b[1;33m=\u001b[0m \u001b[1;34m'pink grapeftuit'\u001b[0m\u001b[1;33m\u001b[0m\u001b[1;33m\u001b[0m\u001b[0m\n\u001b[0m\u001b[0;32m      2\u001b[0m \u001b[1;31m# It isn't possible to change the item values of a tuple\u001b[0m\u001b[1;33m\u001b[0m\u001b[1;33m\u001b[0m\u001b[1;33m\u001b[0m\u001b[0m\n",
      "\u001b[1;31mTypeError\u001b[0m: 'tuple' object does not support item assignment"
     ]
    }
   ],
   "source": [
    "tuple1[3] = 'pink grapeftuit'\n",
    "# It isn't possible to change the item values of a tuple"
   ]
  },
  {
   "cell_type": "code",
   "execution_count": 6,
   "metadata": {},
   "outputs": [
    {
     "data": {
      "text/plain": [
       "7"
      ]
     },
     "execution_count": 6,
     "metadata": {},
     "output_type": "execute_result"
    }
   ],
   "source": [
    "len(tuple1)"
   ]
  },
  {
   "cell_type": "code",
   "execution_count": 7,
   "metadata": {},
   "outputs": [
    {
     "data": {
      "text/plain": [
       "(50, 40, 30, 20, 10)"
      ]
     },
     "execution_count": 7,
     "metadata": {},
     "output_type": "execute_result"
    }
   ],
   "source": [
    "tuple2 = tuple2[::-1]\n",
    "tuple2"
   ]
  },
  {
   "cell_type": "code",
   "execution_count": 8,
   "metadata": {},
   "outputs": [
    {
     "data": {
      "text/plain": [
       "(25, 20, 15, 10, 5)"
      ]
     },
     "execution_count": 8,
     "metadata": {},
     "output_type": "execute_result"
    }
   ],
   "source": [
    "list2 = list(tuple2)\n",
    "tuple3 = tuple([int(i/2) for i in list2])\n",
    "tuple3"
   ]
  },
  {
   "cell_type": "markdown",
   "metadata": {},
   "source": [
    "## Lists"
   ]
  },
  {
   "cell_type": "code",
   "execution_count": 15,
   "metadata": {},
   "outputs": [],
   "source": [
    "f_list = [np.nan , np.nan, \"Austria\", \"Germany\", np.nan, \"Pakistan\", \"np.nan\", np.nan ]"
   ]
  },
  {
   "cell_type": "code",
   "execution_count": 53,
   "metadata": {},
   "outputs": [],
   "source": [
    "def get_index_positions(list_of_elems, element):\n",
    "    index_pos_list = []\n",
    "    index_pos = 0\n",
    "    while True:\n",
    "        try:\n",
    "            index_pos = list_of_elems.index(element, index_pos)\n",
    "            index_pos_list.append(index_pos)\n",
    "            index_pos += 1\n",
    "        except ValueError as e:\n",
    "            break\n",
    "    return index_pos_list\n",
    "\n",
    "nans = get_index_positions(f_list, np.nan)"
   ]
  },
  {
   "cell_type": "code",
   "execution_count": 64,
   "metadata": {},
   "outputs": [
    {
     "name": "stdout",
     "output_type": "stream",
     "text": [
      "The indices 0,1,4,7 have np.nan values\n"
     ]
    }
   ],
   "source": [
    "print('The indices {},{},{},{} have np.nan values'.format(*nans))"
   ]
  },
  {
   "cell_type": "code",
   "execution_count": 65,
   "metadata": {},
   "outputs": [
    {
     "data": {
      "text/plain": [
       "[2, 3, 4, 5, 2, 3, 4, 5, 2, 3, 4, 5, 2, 3, 4, 5]"
      ]
     },
     "execution_count": 65,
     "metadata": {},
     "output_type": "execute_result"
    }
   ],
   "source": [
    "p2_list = [2,3,4,5]\n",
    "p2_list*4"
   ]
  },
  {
   "cell_type": "code",
   "execution_count": 66,
   "metadata": {},
   "outputs": [
    {
     "data": {
      "text/plain": [
       "8"
      ]
     },
     "execution_count": 66,
     "metadata": {},
     "output_type": "execute_result"
    }
   ],
   "source": [
    "len(f_list)"
   ]
  },
  {
   "cell_type": "code",
   "execution_count": 72,
   "metadata": {},
   "outputs": [
    {
     "data": {
      "text/plain": [
       "'My teacher assistant is so boring.'"
      ]
     },
     "execution_count": 72,
     "metadata": {},
     "output_type": "execute_result"
    }
   ],
   "source": [
    "text1 = ['My', 'teacher', 'assistant', 'is', 'so', 'boring.']\n",
    "' '.join(text1)"
   ]
  },
  {
   "cell_type": "code",
   "execution_count": 73,
   "metadata": {},
   "outputs": [],
   "source": [
    "text1.extend(['but is very funny'])"
   ]
  },
  {
   "cell_type": "code",
   "execution_count": 82,
   "metadata": {},
   "outputs": [
    {
     "data": {
      "text/plain": [
       "'My TA is so boring, but is very funny'"
      ]
     },
     "execution_count": 82,
     "metadata": {},
     "output_type": "execute_result"
    }
   ],
   "source": [
    "text1\n",
    "t = ' '.join(text1).replace('teacher assistant', 'TA').replace('boring.', 'boring,')\n",
    "t"
   ]
  },
  {
   "cell_type": "code",
   "execution_count": 91,
   "metadata": {},
   "outputs": [
    {
     "name": "stdout",
     "output_type": "stream",
     "text": [
      "The max value of values1 is 86 and is located in the 0 index.\n",
      "The min value of values1 is 0 and is located in the 7 index.\n"
     ]
    }
   ],
   "source": [
    "values1 = [ 86, 86, 85, 85, 85, 83, 23, 0, 84, 1 ] \n",
    "print('The max value of values1 is {} and is located in the {} index.'.format(max(values1), values1.index(max(values1))))\n",
    "print('The min value of values1 is {} and is located in the {} index.'.format(min(values1), values1.index(min(values1))))"
   ]
  },
  {
   "cell_type": "markdown",
   "metadata": {},
   "source": [
    "## 1.3. Dictionaries"
   ]
  },
  {
   "cell_type": "markdown",
   "metadata": {},
   "source": [
    "### 1.3.1. Create dictionary from two lists: even numbers and odd numbers"
   ]
  },
  {
   "cell_type": "code",
   "execution_count": 9,
   "metadata": {},
   "outputs": [
    {
     "name": "stdout",
     "output_type": "stream",
     "text": [
      "{0: 9001, 2: 9003, 4: 9005, 6: 9007, 8: 9009, 10: 9011, 12: 9013, 14: 9015, 16: 9017, 18: 9019, 20: 9021, 22: 9023, 24: 9025, 26: 9027, 28: 9029, 30: 9031, 32: 9033, 34: 9035, 36: 9037, 38: 9039, 40: 9041, 42: 9043, 44: 9045, 46: 9047, 48: 9049, 50: 9051, 52: 9053, 54: 9055, 56: 9057, 58: 9059, 60: 9061, 62: 9063, 64: 9065, 66: 9067, 68: 9069, 70: 9071, 72: 9073, 74: 9075, 76: 9077, 78: 9079, 80: 9081, 82: 9083, 84: 9085, 86: 9087, 88: 9089, 90: 9091, 92: 9093, 94: 9095, 96: 9097, 98: 9099, 100: 9101, 102: 9103, 104: 9105, 106: 9107, 108: 9109, 110: 9111, 112: 9113, 114: 9115, 116: 9117, 118: 9119, 120: 9121, 122: 9123, 124: 9125, 126: 9127, 128: 9129, 130: 9131, 132: 9133, 134: 9135, 136: 9137, 138: 9139, 140: 9141, 142: 9143, 144: 9145, 146: 9147, 148: 9149, 150: 9151, 152: 9153, 154: 9155, 156: 9157, 158: 9159, 160: 9161, 162: 9163, 164: 9165, 166: 9167, 168: 9169, 170: 9171, 172: 9173, 174: 9175, 176: 9177, 178: 9179, 180: 9181, 182: 9183, 184: 9185, 186: 9187, 188: 9189, 190: 9191, 192: 9193, 194: 9195, 196: 9197, 198: 9199, 200: 9201, 202: 9203, 204: 9205, 206: 9207, 208: 9209, 210: 9211, 212: 9213, 214: 9215, 216: 9217, 218: 9219, 220: 9221, 222: 9223, 224: 9225, 226: 9227, 228: 9229, 230: 9231, 232: 9233, 234: 9235, 236: 9237, 238: 9239, 240: 9241, 242: 9243, 244: 9245, 246: 9247, 248: 9249, 250: 9251, 252: 9253, 254: 9255, 256: 9257, 258: 9259, 260: 9261, 262: 9263, 264: 9265, 266: 9267, 268: 9269, 270: 9271, 272: 9273, 274: 9275, 276: 9277, 278: 9279, 280: 9281, 282: 9283, 284: 9285, 286: 9287, 288: 9289, 290: 9291, 292: 9293, 294: 9295, 296: 9297, 298: 9299, 300: 9301, 302: 9303, 304: 9305, 306: 9307, 308: 9309, 310: 9311, 312: 9313, 314: 9315, 316: 9317, 318: 9319, 320: 9321, 322: 9323, 324: 9325, 326: 9327, 328: 9329, 330: 9331, 332: 9333, 334: 9335, 336: 9337, 338: 9339, 340: 9341, 342: 9343, 344: 9345, 346: 9347, 348: 9349, 350: 9351, 352: 9353, 354: 9355, 356: 9357, 358: 9359, 360: 9361, 362: 9363, 364: 9365, 366: 9367, 368: 9369, 370: 9371, 372: 9373, 374: 9375, 376: 9377, 378: 9379, 380: 9381, 382: 9383, 384: 9385, 386: 9387, 388: 9389, 390: 9391, 392: 9393, 394: 9395, 396: 9397, 398: 9399, 400: 9401, 402: 9403, 404: 9405, 406: 9407, 408: 9409, 410: 9411, 412: 9413, 414: 9415, 416: 9417, 418: 9419, 420: 9421, 422: 9423, 424: 9425, 426: 9427, 428: 9429, 430: 9431, 432: 9433, 434: 9435, 436: 9437, 438: 9439, 440: 9441, 442: 9443, 444: 9445, 446: 9447, 448: 9449, 450: 9451, 452: 9453, 454: 9455, 456: 9457, 458: 9459, 460: 9461, 462: 9463, 464: 9465, 466: 9467, 468: 9469, 470: 9471, 472: 9473, 474: 9475, 476: 9477, 478: 9479, 480: 9481, 482: 9483, 484: 9485, 486: 9487, 488: 9489, 490: 9491, 492: 9493, 494: 9495, 496: 9497, 498: 9499, 500: 9501, 502: 9503, 504: 9505, 506: 9507, 508: 9509, 510: 9511, 512: 9513, 514: 9515, 516: 9517, 518: 9519, 520: 9521, 522: 9523, 524: 9525, 526: 9527, 528: 9529, 530: 9531, 532: 9533, 534: 9535, 536: 9537, 538: 9539, 540: 9541, 542: 9543, 544: 9545, 546: 9547, 548: 9549, 550: 9551, 552: 9553, 554: 9555, 556: 9557, 558: 9559, 560: 9561, 562: 9563, 564: 9565, 566: 9567, 568: 9569, 570: 9571, 572: 9573, 574: 9575, 576: 9577, 578: 9579, 580: 9581, 582: 9583, 584: 9585, 586: 9587, 588: 9589, 590: 9591, 592: 9593, 594: 9595, 596: 9597, 598: 9599, 600: 9601, 602: 9603, 604: 9605, 606: 9607, 608: 9609, 610: 9611, 612: 9613, 614: 9615, 616: 9617, 618: 9619, 620: 9621, 622: 9623, 624: 9625, 626: 9627, 628: 9629, 630: 9631, 632: 9633, 634: 9635, 636: 9637, 638: 9639, 640: 9641, 642: 9643, 644: 9645, 646: 9647, 648: 9649, 650: 9651, 652: 9653, 654: 9655, 656: 9657, 658: 9659, 660: 9661, 662: 9663, 664: 9665, 666: 9667, 668: 9669, 670: 9671, 672: 9673, 674: 9675, 676: 9677, 678: 9679, 680: 9681, 682: 9683, 684: 9685, 686: 9687, 688: 9689, 690: 9691, 692: 9693, 694: 9695, 696: 9697, 698: 9699, 700: 9701, 702: 9703, 704: 9705, 706: 9707, 708: 9709, 710: 9711, 712: 9713, 714: 9715, 716: 9717, 718: 9719, 720: 9721, 722: 9723, 724: 9725, 726: 9727, 728: 9729, 730: 9731, 732: 9733, 734: 9735, 736: 9737, 738: 9739, 740: 9741, 742: 9743, 744: 9745, 746: 9747, 748: 9749, 750: 9751, 752: 9753, 754: 9755, 756: 9757, 758: 9759, 760: 9761, 762: 9763, 764: 9765, 766: 9767, 768: 9769, 770: 9771, 772: 9773, 774: 9775, 776: 9777, 778: 9779, 780: 9781, 782: 9783, 784: 9785, 786: 9787, 788: 9789, 790: 9791, 792: 9793, 794: 9795, 796: 9797, 798: 9799, 800: 9801, 802: 9803, 804: 9805, 806: 9807, 808: 9809, 810: 9811, 812: 9813, 814: 9815, 816: 9817, 818: 9819, 820: 9821, 822: 9823, 824: 9825, 826: 9827, 828: 9829, 830: 9831, 832: 9833, 834: 9835, 836: 9837, 838: 9839, 840: 9841, 842: 9843, 844: 9845, 846: 9847, 848: 9849, 850: 9851, 852: 9853, 854: 9855, 856: 9857, 858: 9859, 860: 9861, 862: 9863, 864: 9865, 866: 9867, 868: 9869, 870: 9871, 872: 9873, 874: 9875, 876: 9877, 878: 9879, 880: 9881, 882: 9883, 884: 9885, 886: 9887, 888: 9889, 890: 9891, 892: 9893, 894: 9895, 896: 9897, 898: 9899, 900: 9901, 902: 9903, 904: 9905, 906: 9907, 908: 9909, 910: 9911, 912: 9913, 914: 9915, 916: 9917, 918: 9919, 920: 9921, 922: 9923, 924: 9925, 926: 9927, 928: 9929, 930: 9931, 932: 9933, 934: 9935, 936: 9937, 938: 9939, 940: 9941, 942: 9943, 944: 9945, 946: 9947, 948: 9949, 950: 9951, 952: 9953, 954: 9955, 956: 9957, 958: 9959, 960: 9961, 962: 9963, 964: 9965, 966: 9967, 968: 9969, 970: 9971, 972: 9973, 974: 9975, 976: 9977, 978: 9979, 980: 9981, 982: 9983, 984: 9985, 986: 9987, 988: 9989, 990: 9991, 992: 9993, 994: 9995, 996: 9997, 998: 9999, 1000: 10001, 1002: 10003, 1004: 10005, 1006: 10007, 1008: 10009, 1010: 10011, 1012: 10013, 1014: 10015, 1016: 10017, 1018: 10019, 1020: 10021, 1022: 10023, 1024: 10025, 1026: 10027, 1028: 10029, 1030: 10031, 1032: 10033, 1034: 10035, 1036: 10037, 1038: 10039, 1040: 10041, 1042: 10043, 1044: 10045, 1046: 10047, 1048: 10049, 1050: 10051, 1052: 10053, 1054: 10055, 1056: 10057, 1058: 10059, 1060: 10061, 1062: 10063, 1064: 10065, 1066: 10067, 1068: 10069, 1070: 10071, 1072: 10073, 1074: 10075, 1076: 10077, 1078: 10079, 1080: 10081, 1082: 10083, 1084: 10085, 1086: 10087, 1088: 10089, 1090: 10091, 1092: 10093, 1094: 10095, 1096: 10097, 1098: 10099, 1100: 10101, 1102: 10103, 1104: 10105, 1106: 10107, 1108: 10109, 1110: 10111, 1112: 10113, 1114: 10115, 1116: 10117, 1118: 10119, 1120: 10121, 1122: 10123, 1124: 10125, 1126: 10127, 1128: 10129, 1130: 10131, 1132: 10133, 1134: 10135, 1136: 10137, 1138: 10139, 1140: 10141, 1142: 10143, 1144: 10145, 1146: 10147, 1148: 10149, 1150: 10151, 1152: 10153, 1154: 10155, 1156: 10157, 1158: 10159, 1160: 10161, 1162: 10163, 1164: 10165, 1166: 10167, 1168: 10169, 1170: 10171, 1172: 10173, 1174: 10175, 1176: 10177, 1178: 10179, 1180: 10181, 1182: 10183, 1184: 10185, 1186: 10187, 1188: 10189, 1190: 10191, 1192: 10193, 1194: 10195, 1196: 10197, 1198: 10199, 1200: 10201, 1202: 10203, 1204: 10205, 1206: 10207, 1208: 10209, 1210: 10211, 1212: 10213, 1214: 10215, 1216: 10217, 1218: 10219, 1220: 10221, 1222: 10223, 1224: 10225, 1226: 10227, 1228: 10229, 1230: 10231, 1232: 10233, 1234: 10235, 1236: 10237, 1238: 10239, 1240: 10241, 1242: 10243, 1244: 10245, 1246: 10247, 1248: 10249, 1250: 10251, 1252: 10253, 1254: 10255, 1256: 10257, 1258: 10259, 1260: 10261, 1262: 10263, 1264: 10265, 1266: 10267, 1268: 10269, 1270: 10271, 1272: 10273, 1274: 10275, 1276: 10277, 1278: 10279, 1280: 10281, 1282: 10283, 1284: 10285, 1286: 10287, 1288: 10289, 1290: 10291, 1292: 10293, 1294: 10295, 1296: 10297, 1298: 10299, 1300: 10301, 1302: 10303, 1304: 10305, 1306: 10307, 1308: 10309, 1310: 10311, 1312: 10313, 1314: 10315, 1316: 10317, 1318: 10319, 1320: 10321, 1322: 10323, 1324: 10325, 1326: 10327, 1328: 10329, 1330: 10331, 1332: 10333, 1334: 10335, 1336: 10337, 1338: 10339, 1340: 10341, 1342: 10343, 1344: 10345, 1346: 10347, 1348: 10349, 1350: 10351, 1352: 10353, 1354: 10355, 1356: 10357, 1358: 10359, 1360: 10361, 1362: 10363, 1364: 10365, 1366: 10367, 1368: 10369, 1370: 10371, 1372: 10373, 1374: 10375, 1376: 10377, 1378: 10379, 1380: 10381, 1382: 10383, 1384: 10385, 1386: 10387, 1388: 10389, 1390: 10391, 1392: 10393, 1394: 10395, 1396: 10397, 1398: 10399, 1400: 10401, 1402: 10403, 1404: 10405, 1406: 10407, 1408: 10409, 1410: 10411, 1412: 10413, 1414: 10415, 1416: 10417, 1418: 10419, 1420: 10421, 1422: 10423, 1424: 10425, 1426: 10427, 1428: 10429, 1430: 10431, 1432: 10433, 1434: 10435, 1436: 10437, 1438: 10439, 1440: 10441, 1442: 10443, 1444: 10445, 1446: 10447, 1448: 10449, 1450: 10451, 1452: 10453, 1454: 10455, 1456: 10457, 1458: 10459, 1460: 10461, 1462: 10463, 1464: 10465, 1466: 10467, 1468: 10469, 1470: 10471, 1472: 10473, 1474: 10475, 1476: 10477, 1478: 10479, 1480: 10481, 1482: 10483, 1484: 10485, 1486: 10487, 1488: 10489, 1490: 10491, 1492: 10493, 1494: 10495, 1496: 10497, 1498: 10499, 1500: 10501, 1502: 10503, 1504: 10505, 1506: 10507, 1508: 10509, 1510: 10511, 1512: 10513, 1514: 10515, 1516: 10517, 1518: 10519, 1520: 10521, 1522: 10523, 1524: 10525, 1526: 10527, 1528: 10529, 1530: 10531, 1532: 10533, 1534: 10535, 1536: 10537, 1538: 10539, 1540: 10541, 1542: 10543, 1544: 10545, 1546: 10547, 1548: 10549, 1550: 10551, 1552: 10553, 1554: 10555, 1556: 10557, 1558: 10559, 1560: 10561, 1562: 10563, 1564: 10565, 1566: 10567, 1568: 10569, 1570: 10571, 1572: 10573, 1574: 10575, 1576: 10577, 1578: 10579, 1580: 10581, 1582: 10583, 1584: 10585, 1586: 10587, 1588: 10589, 1590: 10591, 1592: 10593, 1594: 10595, 1596: 10597, 1598: 10599, 1600: 10601, 1602: 10603, 1604: 10605, 1606: 10607, 1608: 10609, 1610: 10611, 1612: 10613, 1614: 10615, 1616: 10617, 1618: 10619, 1620: 10621, 1622: 10623, 1624: 10625, 1626: 10627, 1628: 10629, 1630: 10631, 1632: 10633, 1634: 10635, 1636: 10637, 1638: 10639, 1640: 10641, 1642: 10643, 1644: 10645, 1646: 10647, 1648: 10649, 1650: 10651, 1652: 10653, 1654: 10655, 1656: 10657, 1658: 10659, 1660: 10661, 1662: 10663, 1664: 10665, 1666: 10667, 1668: 10669, 1670: 10671, 1672: 10673, 1674: 10675, 1676: 10677, 1678: 10679, 1680: 10681, 1682: 10683, 1684: 10685, 1686: 10687, 1688: 10689, 1690: 10691, 1692: 10693, 1694: 10695, 1696: 10697, 1698: 10699, 1700: 10701, 1702: 10703, 1704: 10705, 1706: 10707, 1708: 10709, 1710: 10711, 1712: 10713, 1714: 10715, 1716: 10717, 1718: 10719, 1720: 10721, 1722: 10723, 1724: 10725, 1726: 10727, 1728: 10729, 1730: 10731, 1732: 10733, 1734: 10735, 1736: 10737, 1738: 10739, 1740: 10741, 1742: 10743, 1744: 10745, 1746: 10747, 1748: 10749, 1750: 10751, 1752: 10753, 1754: 10755, 1756: 10757, 1758: 10759, 1760: 10761, 1762: 10763, 1764: 10765, 1766: 10767, 1768: 10769, 1770: 10771, 1772: 10773, 1774: 10775, 1776: 10777, 1778: 10779, 1780: 10781, 1782: 10783, 1784: 10785, 1786: 10787, 1788: 10789, 1790: 10791, 1792: 10793, 1794: 10795, 1796: 10797, 1798: 10799, 1800: 10801, 1802: 10803, 1804: 10805, 1806: 10807, 1808: 10809, 1810: 10811, 1812: 10813, 1814: 10815, 1816: 10817, 1818: 10819, 1820: 10821, 1822: 10823, 1824: 10825, 1826: 10827, 1828: 10829, 1830: 10831, 1832: 10833, 1834: 10835, 1836: 10837, 1838: 10839, 1840: 10841, 1842: 10843, 1844: 10845, 1846: 10847, 1848: 10849, 1850: 10851, 1852: 10853, 1854: 10855, 1856: 10857, 1858: 10859, 1860: 10861, 1862: 10863, 1864: 10865, 1866: 10867, 1868: 10869, 1870: 10871, 1872: 10873, 1874: 10875, 1876: 10877, 1878: 10879, 1880: 10881, 1882: 10883, 1884: 10885, 1886: 10887, 1888: 10889, 1890: 10891, 1892: 10893, 1894: 10895, 1896: 10897, 1898: 10899, 1900: 10901, 1902: 10903, 1904: 10905, 1906: 10907, 1908: 10909, 1910: 10911, 1912: 10913, 1914: 10915, 1916: 10917, 1918: 10919, 1920: 10921, 1922: 10923, 1924: 10925, 1926: 10927, 1928: 10929, 1930: 10931, 1932: 10933, 1934: 10935, 1936: 10937, 1938: 10939, 1940: 10941, 1942: 10943, 1944: 10945, 1946: 10947, 1948: 10949, 1950: 10951, 1952: 10953, 1954: 10955, 1956: 10957, 1958: 10959, 1960: 10961, 1962: 10963, 1964: 10965, 1966: 10967, 1968: 10969, 1970: 10971, 1972: 10973, 1974: 10975, 1976: 10977, 1978: 10979, 1980: 10981, 1982: 10983, 1984: 10985, 1986: 10987, 1988: 10989, 1990: 10991, 1992: 10993, 1994: 10995, 1996: 10997, 1998: 10999, 2000: 11001}\n"
     ]
    }
   ],
   "source": [
    "#First create a list for even numbers and another for odd numbers\n",
    "even_numbers=[*range(0,2001,2)]\n",
    "odd_numbers=[*range(9001,19000,2)]\n",
    "\n",
    "#convert the two lists into a dictionary\n",
    "dict_even_odd = dict( zip( even_numbers , odd_numbers ) )\n",
    "print( dict_even_odd )"
   ]
  },
  {
   "cell_type": "markdown",
   "metadata": {},
   "source": [
    "### 1.3.2. Check if TA is a key of the previous dictionary"
   ]
  },
  {
   "cell_type": "code",
   "execution_count": 15,
   "metadata": {},
   "outputs": [
    {
     "data": {
      "text/plain": [
       "False"
      ]
     },
     "execution_count": 15,
     "metadata": {},
     "output_type": "execute_result"
    }
   ],
   "source": [
    "\"TA\" in dict_even_odd.keys()\n",
    "#TA is not part of keys"
   ]
  },
  {
   "cell_type": "markdown",
   "metadata": {},
   "source": [
    "### 1.3.3. Print the value of brand key of car dictionary"
   ]
  },
  {
   "cell_type": "code",
   "execution_count": 16,
   "metadata": {},
   "outputs": [],
   "source": [
    "car = {\n",
    "  \"brand\": \"Ford\",\n",
    "  \"model\": \"Mustang\",\n",
    "  \"year\": 1964\n",
    "}\n",
    "\n",
    "hr_sleep = {\"january\": {\"wednesday\": 7,\n",
    "                      \"thursday\": 8,\n",
    "                      \"friday\": [2, 2, 1, 2]},\n",
    "          \"february\": {\"saturday\": 5,\n",
    "                       \"sunday\": 10,\n",
    "                       \"monday\": 8\n",
    "          }\n",
    "}"
   ]
  },
  {
   "cell_type": "code",
   "execution_count": 17,
   "metadata": {},
   "outputs": [
    {
     "data": {
      "text/plain": [
       "'Ford'"
      ]
     },
     "execution_count": 17,
     "metadata": {},
     "output_type": "execute_result"
    }
   ],
   "source": [
    "car.get('brand') #the value for the key 'brand' is 'Ford'"
   ]
  },
  {
   "cell_type": "markdown",
   "metadata": {},
   "source": [
    "### 1.3.4. Print all the values of brand key of car dictionary"
   ]
  },
  {
   "cell_type": "code",
   "execution_count": 27,
   "metadata": {},
   "outputs": [
    {
     "name": "stdout",
     "output_type": "stream",
     "text": [
      "Ford\n"
     ]
    },
    {
     "data": {
      "text/plain": [
       "dict_values(['Ford', 'Mustang', 1964])"
      ]
     },
     "execution_count": 27,
     "metadata": {},
     "output_type": "execute_result"
    }
   ],
   "source": [
    "print(car['brand']) #only values for 'brand'\n",
    "\n",
    "#to get all the values of car dictionary, I will use 'values' method\n",
    "car.values()"
   ]
  },
  {
   "cell_type": "markdown",
   "metadata": {},
   "source": [
    "### 1.3.5. Print the max value of friday in january of hr_sleep dictionary"
   ]
  },
  {
   "cell_type": "code",
   "execution_count": 31,
   "metadata": {},
   "outputs": [
    {
     "name": "stdout",
     "output_type": "stream",
     "text": [
      "2\n"
     ]
    }
   ],
   "source": [
    "print(max(hr_sleep[\"january\"][\"friday\"]))"
   ]
  },
  {
   "cell_type": "markdown",
   "metadata": {},
   "source": [
    "### 1.3.6. Add march key to the hr_sleep dictionary using week1 and values2 Python lists"
   ]
  },
  {
   "cell_type": "code",
   "execution_count": 32,
   "metadata": {},
   "outputs": [],
   "source": [
    "week1 = ['monday', 'sunday']\n",
    "values2 = [ [2, 3, 4 ] , 8, ]"
   ]
  },
  {
   "cell_type": "code",
   "execution_count": 36,
   "metadata": {},
   "outputs": [
    {
     "name": "stdout",
     "output_type": "stream",
     "text": [
      "{'january': {'wednesday': 7, 'thursday': 8, 'friday': [2, 2, 1, 2]}, 'february': {'saturday': 5, 'sunday': 10, 'monday': 8}, 'march': {'monday': [2, 3, 4], 'sunday': 8}}\n"
     ]
    },
    {
     "data": {
      "text/plain": [
       "dict"
      ]
     },
     "execution_count": 36,
     "metadata": {},
     "output_type": "execute_result"
    }
   ],
   "source": [
    "# first, convert lists into dictionary\n",
    "new_add= dict( zip( week1 , values2 ) )\n",
    "\n",
    "# then add the dictionary into hr_sleep with a new key\n",
    "hr_sleep['march']=new_add\n",
    "\n",
    "print(hr_sleep)"
   ]
  },
  {
   "cell_type": "markdown",
   "metadata": {},
   "source": [
    "## 1.4 Numpy "
   ]
  },
  {
   "cell_type": "markdown",
   "metadata": {},
   "source": [
    "### Restricted Least Squares"
   ]
  },
  {
   "cell_type": "markdown",
   "metadata": {},
   "source": [
    "### 1. Get  𝜷ˆ(𝑅𝐿𝑆)  vector from the equation bellow. Use the q, p1, p2, p3, CT numpies."
   ]
  },
  {
   "cell_type": "code",
   "execution_count": 18,
   "metadata": {},
   "outputs": [],
   "source": [
    "import pandas as pd\n",
    "greene = pd.read_csv(r\"../../_data/christensen_greene_f4.csv\")"
   ]
  },
  {
   "cell_type": "code",
   "execution_count": 19,
   "metadata": {},
   "outputs": [
    {
     "data": {
      "text/html": [
       "<div>\n",
       "<style scoped>\n",
       "    .dataframe tbody tr th:only-of-type {\n",
       "        vertical-align: middle;\n",
       "    }\n",
       "\n",
       "    .dataframe tbody tr th {\n",
       "        vertical-align: top;\n",
       "    }\n",
       "\n",
       "    .dataframe thead th {\n",
       "        text-align: right;\n",
       "    }\n",
       "</style>\n",
       "<table border=\"1\" class=\"dataframe\">\n",
       "  <thead>\n",
       "    <tr style=\"text-align: right;\">\n",
       "      <th></th>\n",
       "      <th>id</th>\n",
       "      <th>YEAR</th>\n",
       "      <th>COST</th>\n",
       "      <th>Q</th>\n",
       "      <th>PL</th>\n",
       "      <th>SL</th>\n",
       "      <th>PK</th>\n",
       "      <th>SK</th>\n",
       "      <th>PF</th>\n",
       "      <th>SF</th>\n",
       "    </tr>\n",
       "  </thead>\n",
       "  <tbody>\n",
       "    <tr>\n",
       "      <th>0</th>\n",
       "      <td>1</td>\n",
       "      <td>1970</td>\n",
       "      <td>0.2130</td>\n",
       "      <td>8.0</td>\n",
       "      <td>6869.47</td>\n",
       "      <td>0.3291</td>\n",
       "      <td>64.945</td>\n",
       "      <td>0.4197</td>\n",
       "      <td>18.000</td>\n",
       "      <td>0.2512</td>\n",
       "    </tr>\n",
       "    <tr>\n",
       "      <th>1</th>\n",
       "      <td>4</td>\n",
       "      <td>1970</td>\n",
       "      <td>3.0427</td>\n",
       "      <td>869.0</td>\n",
       "      <td>8372.96</td>\n",
       "      <td>0.1030</td>\n",
       "      <td>68.227</td>\n",
       "      <td>0.2913</td>\n",
       "      <td>21.067</td>\n",
       "      <td>0.6057</td>\n",
       "    </tr>\n",
       "    <tr>\n",
       "      <th>2</th>\n",
       "      <td>5</td>\n",
       "      <td>1970</td>\n",
       "      <td>9.4059</td>\n",
       "      <td>1412.0</td>\n",
       "      <td>7960.90</td>\n",
       "      <td>0.0891</td>\n",
       "      <td>40.692</td>\n",
       "      <td>0.1567</td>\n",
       "      <td>41.530</td>\n",
       "      <td>0.7542</td>\n",
       "    </tr>\n",
       "    <tr>\n",
       "      <th>3</th>\n",
       "      <td>14</td>\n",
       "      <td>1970</td>\n",
       "      <td>0.7606</td>\n",
       "      <td>65.0</td>\n",
       "      <td>8971.89</td>\n",
       "      <td>0.2802</td>\n",
       "      <td>41.243</td>\n",
       "      <td>0.1282</td>\n",
       "      <td>28.539</td>\n",
       "      <td>0.5916</td>\n",
       "    </tr>\n",
       "    <tr>\n",
       "      <th>4</th>\n",
       "      <td>15</td>\n",
       "      <td>1970</td>\n",
       "      <td>2.2587</td>\n",
       "      <td>295.0</td>\n",
       "      <td>8218.40</td>\n",
       "      <td>0.1772</td>\n",
       "      <td>71.940</td>\n",
       "      <td>0.1623</td>\n",
       "      <td>39.200</td>\n",
       "      <td>0.6606</td>\n",
       "    </tr>\n",
       "    <tr>\n",
       "      <th>...</th>\n",
       "      <td>...</td>\n",
       "      <td>...</td>\n",
       "      <td>...</td>\n",
       "      <td>...</td>\n",
       "      <td>...</td>\n",
       "      <td>...</td>\n",
       "      <td>...</td>\n",
       "      <td>...</td>\n",
       "      <td>...</td>\n",
       "      <td>...</td>\n",
       "    </tr>\n",
       "    <tr>\n",
       "      <th>153</th>\n",
       "      <td>214</td>\n",
       "      <td>1970</td>\n",
       "      <td>6.8293</td>\n",
       "      <td>946.6</td>\n",
       "      <td>10642.16</td>\n",
       "      <td>0.0883</td>\n",
       "      <td>43.600</td>\n",
       "      <td>0.1914</td>\n",
       "      <td>51.463</td>\n",
       "      <td>0.7203</td>\n",
       "    </tr>\n",
       "    <tr>\n",
       "      <th>154</th>\n",
       "      <td>215</td>\n",
       "      <td>1970</td>\n",
       "      <td>3.7605</td>\n",
       "      <td>377.0</td>\n",
       "      <td>7432.24</td>\n",
       "      <td>0.2117</td>\n",
       "      <td>74.120</td>\n",
       "      <td>0.2274</td>\n",
       "      <td>33.436</td>\n",
       "      <td>0.5609</td>\n",
       "    </tr>\n",
       "    <tr>\n",
       "      <th>155</th>\n",
       "      <td>216</td>\n",
       "      <td>1970</td>\n",
       "      <td>3.9822</td>\n",
       "      <td>391.0</td>\n",
       "      <td>5826.04</td>\n",
       "      <td>0.1926</td>\n",
       "      <td>78.288</td>\n",
       "      <td>0.0924</td>\n",
       "      <td>44.633</td>\n",
       "      <td>0.7151</td>\n",
       "    </tr>\n",
       "    <tr>\n",
       "      <th>156</th>\n",
       "      <td>217</td>\n",
       "      <td>1970</td>\n",
       "      <td>30.1880</td>\n",
       "      <td>5317.0</td>\n",
       "      <td>9586.63</td>\n",
       "      <td>0.0845</td>\n",
       "      <td>78.008</td>\n",
       "      <td>0.2009</td>\n",
       "      <td>41.840</td>\n",
       "      <td>0.7147</td>\n",
       "    </tr>\n",
       "    <tr>\n",
       "      <th>157</th>\n",
       "      <td>218</td>\n",
       "      <td>1970</td>\n",
       "      <td>67.8562</td>\n",
       "      <td>15220.0</td>\n",
       "      <td>6986.09</td>\n",
       "      <td>0.1451</td>\n",
       "      <td>74.025</td>\n",
       "      <td>0.2596</td>\n",
       "      <td>25.662</td>\n",
       "      <td>0.5945</td>\n",
       "    </tr>\n",
       "  </tbody>\n",
       "</table>\n",
       "<p>158 rows × 10 columns</p>\n",
       "</div>"
      ],
      "text/plain": [
       "      id  YEAR     COST        Q        PL      SL      PK      SK      PF  \\\n",
       "0      1  1970   0.2130      8.0   6869.47  0.3291  64.945  0.4197  18.000   \n",
       "1      4  1970   3.0427    869.0   8372.96  0.1030  68.227  0.2913  21.067   \n",
       "2      5  1970   9.4059   1412.0   7960.90  0.0891  40.692  0.1567  41.530   \n",
       "3     14  1970   0.7606     65.0   8971.89  0.2802  41.243  0.1282  28.539   \n",
       "4     15  1970   2.2587    295.0   8218.40  0.1772  71.940  0.1623  39.200   \n",
       "..   ...   ...      ...      ...       ...     ...     ...     ...     ...   \n",
       "153  214  1970   6.8293    946.6  10642.16  0.0883  43.600  0.1914  51.463   \n",
       "154  215  1970   3.7605    377.0   7432.24  0.2117  74.120  0.2274  33.436   \n",
       "155  216  1970   3.9822    391.0   5826.04  0.1926  78.288  0.0924  44.633   \n",
       "156  217  1970  30.1880   5317.0   9586.63  0.0845  78.008  0.2009  41.840   \n",
       "157  218  1970  67.8562  15220.0   6986.09  0.1451  74.025  0.2596  25.662   \n",
       "\n",
       "        SF   \n",
       "0    0.2512  \n",
       "1    0.6057  \n",
       "2    0.7542  \n",
       "3    0.5916  \n",
       "4    0.6606  \n",
       "..      ...  \n",
       "153  0.7203  \n",
       "154  0.5609  \n",
       "155  0.7151  \n",
       "156  0.7147  \n",
       "157  0.5945  \n",
       "\n",
       "[158 rows x 10 columns]"
      ]
     },
     "execution_count": 19,
     "metadata": {},
     "output_type": "execute_result"
    }
   ],
   "source": [
    "greene"
   ]
  },
  {
   "cell_type": "code",
   "execution_count": 20,
   "metadata": {},
   "outputs": [],
   "source": [
    "ct = greene.COST.values\n",
    "q = greene.Q.values\n",
    "p1 = greene.PL.values\n",
    "p2 = greene.PF.values\n",
    "p3 = greene.PK.values"
   ]
  },
  {
   "cell_type": "code",
   "execution_count": 21,
   "metadata": {},
   "outputs": [],
   "source": [
    "import statsmodels.api as sm\n",
    "import numpy as np"
   ]
  },
  {
   "cell_type": "code",
   "execution_count": 23,
   "metadata": {},
   "outputs": [],
   "source": [
    "lnct = np.log(ct)\n",
    "lnq = np.log(q)\n",
    "lnp1 = np.log(p1)\n",
    "lnp2 = np.log(p2)\n",
    "lnp3 = np.log(p3)"
   ]
  },
  {
   "cell_type": "code",
   "execution_count": 49,
   "metadata": {},
   "outputs": [],
   "source": [
    "ln2p1 = np.multiply(lnp1,lnp1)\n",
    "ln2p2 = np.multiply(lnp2,lnp2)\n",
    "ln2p3 = np.multiply(lnp3,lnp3)"
   ]
  },
  {
   "cell_type": "code",
   "execution_count": 87,
   "metadata": {},
   "outputs": [],
   "source": [
    "ln2p1_2 = np.multiply(ln2p1,0.5)\n",
    "ln2p2_2 = np.multiply(ln2p2,0.5)\n",
    "ln2p3_2 = np.multiply(ln2p3,0.5)"
   ]
  },
  {
   "cell_type": "code",
   "execution_count": 42,
   "metadata": {},
   "outputs": [],
   "source": [
    "lnq2=np.multiply(lnq,2)\n",
    "lnq2_2=np.multiply(lnq2,0.5)"
   ]
  },
  {
   "cell_type": "code",
   "execution_count": 55,
   "metadata": {},
   "outputs": [],
   "source": [
    "lnqlnp1=np.multiply(lnq,lnp1)\n",
    "lnqlnp2=np.multiply(lnq,lnp2)\n",
    "lnqlnp3=np.multiply(lnq,lnp3)"
   ]
  },
  {
   "cell_type": "code",
   "execution_count": 62,
   "metadata": {},
   "outputs": [],
   "source": [
    "lnp1lnp2 = np.multiply (lnp1,lnp2)\n",
    "lnp1lnp3 = np.multiply (lnp1,lnp3)\n",
    "lnp2lnp3 = np.multiply (lnp2,lnp3)"
   ]
  },
  {
   "cell_type": "code",
   "execution_count": 66,
   "metadata": {},
   "outputs": [],
   "source": [
    "lnp1lnp2_2 = np.multiply (lnp1lnp2,0.5)\n",
    "lnp1lnp3_2 = np.multiply (lnp1lnp3,0.5)\n",
    "lnp2lnp3_2 = np.multiply (lnp2lnp3,0.5)"
   ]
  },
  {
   "cell_type": "code",
   "execution_count": 88,
   "metadata": {},
   "outputs": [],
   "source": [
    "x0 = np.ones(158)\n",
    "X = np.hstack(( x0.reshape(-1, 1 ) , lnq.reshape(-1, 1 ), lnq2_2.reshape(-1,1) , lnqlnp1.reshape(-1,1) , lnqlnp2.reshape(-1,1) ,\n",
    "              lnqlnp3.reshape(-1,1), lnp1.reshape(-1,1), lnp2.reshape(-1,1), lnp3.reshape(-1,1), ln2p1_2.reshape(-1,1),\n",
    "              ln2p2_2.reshape(-1,1), ln2p3_2.reshape(-1,1), lnp1lnp2.reshape(-1,1), lnp1lnp3.reshape(-1,1), lnp2lnp3_2.reshape(-1,1)))"
   ]
  },
  {
   "cell_type": "code",
   "execution_count": 92,
   "metadata": {},
   "outputs": [
    {
     "ename": "LinAlgError",
     "evalue": "Singular matrix",
     "output_type": "error",
     "traceback": [
      "\u001b[1;31m---------------------------------------------------------------------------\u001b[0m",
      "\u001b[1;31mLinAlgError\u001b[0m                               Traceback (most recent call last)",
      "\u001b[1;32m<ipython-input-92-57af41a368af>\u001b[0m in \u001b[0;36m<module>\u001b[1;34m\u001b[0m\n\u001b[0;32m      1\u001b[0m \u001b[0mlnct_mat\u001b[0m \u001b[1;33m=\u001b[0m \u001b[0mlnct\u001b[0m\u001b[1;33m.\u001b[0m\u001b[0mreshape\u001b[0m\u001b[1;33m(\u001b[0m\u001b[1;33m-\u001b[0m\u001b[1;36m1\u001b[0m\u001b[1;33m,\u001b[0m\u001b[1;36m1\u001b[0m\u001b[1;33m)\u001b[0m\u001b[1;33m\u001b[0m\u001b[1;33m\u001b[0m\u001b[0m\n\u001b[1;32m----> 2\u001b[1;33m \u001b[0mbeta_estimated\u001b[0m \u001b[1;33m=\u001b[0m \u001b[0mnp\u001b[0m\u001b[1;33m.\u001b[0m\u001b[0mlinalg\u001b[0m\u001b[1;33m.\u001b[0m\u001b[0minv\u001b[0m\u001b[1;33m(\u001b[0m\u001b[0mX\u001b[0m\u001b[1;33m.\u001b[0m\u001b[0mT\u001b[0m \u001b[1;33m@\u001b[0m \u001b[0mX\u001b[0m\u001b[1;33m)\u001b[0m \u001b[1;33m@\u001b[0m \u001b[0mX\u001b[0m\u001b[1;33m.\u001b[0m\u001b[0mT\u001b[0m \u001b[1;33m@\u001b[0m \u001b[0mlnct\u001b[0m\u001b[1;33m\u001b[0m\u001b[1;33m\u001b[0m\u001b[0m\n\u001b[0m",
      "\u001b[1;32m<__array_function__ internals>\u001b[0m in \u001b[0;36minv\u001b[1;34m(*args, **kwargs)\u001b[0m\n",
      "\u001b[1;32m~\\anaconda3\\lib\\site-packages\\numpy\\linalg\\linalg.py\u001b[0m in \u001b[0;36minv\u001b[1;34m(a)\u001b[0m\n\u001b[0;32m    543\u001b[0m     \u001b[0msignature\u001b[0m \u001b[1;33m=\u001b[0m \u001b[1;34m'D->D'\u001b[0m \u001b[1;32mif\u001b[0m \u001b[0misComplexType\u001b[0m\u001b[1;33m(\u001b[0m\u001b[0mt\u001b[0m\u001b[1;33m)\u001b[0m \u001b[1;32melse\u001b[0m \u001b[1;34m'd->d'\u001b[0m\u001b[1;33m\u001b[0m\u001b[1;33m\u001b[0m\u001b[0m\n\u001b[0;32m    544\u001b[0m     \u001b[0mextobj\u001b[0m \u001b[1;33m=\u001b[0m \u001b[0mget_linalg_error_extobj\u001b[0m\u001b[1;33m(\u001b[0m\u001b[0m_raise_linalgerror_singular\u001b[0m\u001b[1;33m)\u001b[0m\u001b[1;33m\u001b[0m\u001b[1;33m\u001b[0m\u001b[0m\n\u001b[1;32m--> 545\u001b[1;33m     \u001b[0mainv\u001b[0m \u001b[1;33m=\u001b[0m \u001b[0m_umath_linalg\u001b[0m\u001b[1;33m.\u001b[0m\u001b[0minv\u001b[0m\u001b[1;33m(\u001b[0m\u001b[0ma\u001b[0m\u001b[1;33m,\u001b[0m \u001b[0msignature\u001b[0m\u001b[1;33m=\u001b[0m\u001b[0msignature\u001b[0m\u001b[1;33m,\u001b[0m \u001b[0mextobj\u001b[0m\u001b[1;33m=\u001b[0m\u001b[0mextobj\u001b[0m\u001b[1;33m)\u001b[0m\u001b[1;33m\u001b[0m\u001b[1;33m\u001b[0m\u001b[0m\n\u001b[0m\u001b[0;32m    546\u001b[0m     \u001b[1;32mreturn\u001b[0m \u001b[0mwrap\u001b[0m\u001b[1;33m(\u001b[0m\u001b[0mainv\u001b[0m\u001b[1;33m.\u001b[0m\u001b[0mastype\u001b[0m\u001b[1;33m(\u001b[0m\u001b[0mresult_t\u001b[0m\u001b[1;33m,\u001b[0m \u001b[0mcopy\u001b[0m\u001b[1;33m=\u001b[0m\u001b[1;32mFalse\u001b[0m\u001b[1;33m)\u001b[0m\u001b[1;33m)\u001b[0m\u001b[1;33m\u001b[0m\u001b[1;33m\u001b[0m\u001b[0m\n\u001b[0;32m    547\u001b[0m \u001b[1;33m\u001b[0m\u001b[0m\n",
      "\u001b[1;32m~\\anaconda3\\lib\\site-packages\\numpy\\linalg\\linalg.py\u001b[0m in \u001b[0;36m_raise_linalgerror_singular\u001b[1;34m(err, flag)\u001b[0m\n\u001b[0;32m     86\u001b[0m \u001b[1;33m\u001b[0m\u001b[0m\n\u001b[0;32m     87\u001b[0m \u001b[1;32mdef\u001b[0m \u001b[0m_raise_linalgerror_singular\u001b[0m\u001b[1;33m(\u001b[0m\u001b[0merr\u001b[0m\u001b[1;33m,\u001b[0m \u001b[0mflag\u001b[0m\u001b[1;33m)\u001b[0m\u001b[1;33m:\u001b[0m\u001b[1;33m\u001b[0m\u001b[1;33m\u001b[0m\u001b[0m\n\u001b[1;32m---> 88\u001b[1;33m     \u001b[1;32mraise\u001b[0m \u001b[0mLinAlgError\u001b[0m\u001b[1;33m(\u001b[0m\u001b[1;34m\"Singular matrix\"\u001b[0m\u001b[1;33m)\u001b[0m\u001b[1;33m\u001b[0m\u001b[1;33m\u001b[0m\u001b[0m\n\u001b[0m\u001b[0;32m     89\u001b[0m \u001b[1;33m\u001b[0m\u001b[0m\n\u001b[0;32m     90\u001b[0m \u001b[1;32mdef\u001b[0m \u001b[0m_raise_linalgerror_nonposdef\u001b[0m\u001b[1;33m(\u001b[0m\u001b[0merr\u001b[0m\u001b[1;33m,\u001b[0m \u001b[0mflag\u001b[0m\u001b[1;33m)\u001b[0m\u001b[1;33m:\u001b[0m\u001b[1;33m\u001b[0m\u001b[1;33m\u001b[0m\u001b[0m\n",
      "\u001b[1;31mLinAlgError\u001b[0m: Singular matrix"
     ]
    }
   ],
   "source": [
    "lnct_mat = lnct.reshape(-1,1)\n",
    "beta_estimated = np.linalg.inv(X.T @ X) @ X.T @ lnct"
   ]
  },
  {
   "cell_type": "markdown",
   "metadata": {},
   "source": [
    "### 2.Get the covariance matrix  𝕍ar(𝜷ˆ(𝑅𝐿𝑆)) ."
   ]
  },
  {
   "cell_type": "code",
   "execution_count": null,
   "metadata": {},
   "outputs": [],
   "source": []
  },
  {
   "cell_type": "code",
   "execution_count": null,
   "metadata": {},
   "outputs": [],
   "source": []
  },
  {
   "cell_type": "code",
   "execution_count": null,
   "metadata": {},
   "outputs": [],
   "source": []
  },
  {
   "cell_type": "code",
   "execution_count": null,
   "metadata": {},
   "outputs": [],
   "source": []
  },
  {
   "cell_type": "code",
   "execution_count": null,
   "metadata": {},
   "outputs": [],
   "source": []
  },
  {
   "cell_type": "code",
   "execution_count": null,
   "metadata": {},
   "outputs": [],
   "source": []
  }
 ],
 "metadata": {
  "kernelspec": {
   "display_name": "Python 3",
   "language": "python",
   "name": "python3"
  },
  "language_info": {
   "codemirror_mode": {
    "name": "ipython",
    "version": 3
   },
   "file_extension": ".py",
   "mimetype": "text/x-python",
   "name": "python",
   "nbconvert_exporter": "python",
   "pygments_lexer": "ipython3",
   "version": "3.8.8"
  }
 },
 "nbformat": 4,
 "nbformat_minor": 4
}
