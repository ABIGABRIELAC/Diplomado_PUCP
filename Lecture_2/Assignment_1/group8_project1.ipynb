{
 "cells": [
  {
   "cell_type": "markdown",
   "id": "a70bc33a-92aa-4dfd-815d-aa817c79b577",
   "metadata": {},
   "source": [
    "# 1 Assignment\n",
    "\n",
    "It is totally prohibited to use any kind of loop. You can use stackoverflow. If you copy codes from previous answers, explain each step. No explanation is `0 points`."
   ]
  },
  {
   "cell_type": "code",
   "execution_count": 2,
   "id": "fd4fc121-3175-4b12-945b-30a7bc297481",
   "metadata": {
    "tags": []
   },
   "outputs": [],
   "source": [
    "tuple1 = (\"Orange\", [10, 20, 30], (5, 15, 25))\n",
    "tuple2 = ([7, 8], [9, 1], [10, 7])"
   ]
  },
  {
   "cell_type": "markdown",
   "id": "35e4803d-3193-4da0-bb3a-9307fd4e0664",
   "metadata": {
    "tags": []
   },
   "source": [
    "## 1.1 Tuple"
   ]
  },
  {
   "cell_type": "markdown",
   "id": "f88ca74b-901f-4e62-9159-1cd81fe5c0f4",
   "metadata": {},
   "source": [
    "1. Print the first item of the second item of `tuple1` object. **Hint: Use indexing**"
   ]
  },
  {
   "cell_type": "code",
   "execution_count": 3,
   "id": "024e5e74-ba90-44dd-b5c6-8a64959d1f55",
   "metadata": {},
   "outputs": [
    {
     "data": {
      "text/plain": [
       "10"
      ]
     },
     "execution_count": 3,
     "metadata": {},
     "output_type": "execute_result"
    }
   ],
   "source": [
    "tuple1[1][0] # Accedi al indice 1 de la tupla, y luego al indice 0 del indice 1"
   ]
  }
 ],
 "metadata": {
  "kernelspec": {
   "display_name": "Python 3 (ipykernel)",
   "language": "python",
   "name": "python3"
  },
  "language_info": {
   "codemirror_mode": {
    "name": "ipython",
    "version": 3
   },
   "file_extension": ".py",
   "mimetype": "text/x-python",
   "name": "python",
   "nbconvert_exporter": "python",
   "pygments_lexer": "ipython3",
   "version": "3.10.8"
  }
 },
 "nbformat": 4,
 "nbformat_minor": 5
}
