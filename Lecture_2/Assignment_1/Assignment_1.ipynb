{
 "cells": [
  {
   "cell_type": "markdown",
   "metadata": {},
   "source": [
    "# 1 Assignment"
   ]
  },
  {
   "cell_type": "markdown",
   "metadata": {},
   "source": [
    "# 1.1 Tuple\n",
    "1. Print the first item of the `tuple1` object. **Hint: Use indexing**<br><br>\n",
    "2. Print the last item of the `tuple1` object.**Hint: Use indexing**<br><br>\n",
    "3. Change the value \"orange\" for \"pink grapefruit\". Comment the output. **Hint: Is it possible?** <br><br>\n",
    "4. Print the length of `tuple1`. **Hint: Length function**<br><br>\n",
    "5. Sort `tuple2` in descending order. **Hint: [Try this code](https://stackoverflow.com/questions/3453085/what-is-double-colon-in-python-when-subscripting-sequences)**<br><br>\n",
    "6. Generate a new tuple object named as `tuple3` with the half values of `tuple2`. **Hint: Use auxiliary variables.**<br><br>"
   ]
  },
  {
   "cell_type": "code",
   "execution_count": 5,
   "metadata": {},
   "outputs": [
    {
     "data": {
      "text/plain": [
       "('apple', 'banana', 'cherry', 'orange', 'kiwi', 'melon', 'mango')"
      ]
     },
     "execution_count": 5,
     "metadata": {},
     "output_type": "execute_result"
    }
   ],
   "source": [
    "tuple1 = (\"apple\", \"banana\", \"cherry\", \"orange\", \"kiwi\", \"melon\", \"mango\")\n",
    "tuple1"
   ]
  },
  {
   "cell_type": "code",
   "execution_count": 6,
   "metadata": {},
   "outputs": [
    {
     "data": {
      "text/plain": [
       "(10, 20, 30, 40, 50)"
      ]
     },
     "execution_count": 6,
     "metadata": {},
     "output_type": "execute_result"
    }
   ],
   "source": [
    "tuple2 = (10, 20, 30, 40, 50)\n",
    "tuple2"
   ]
  },
  {
   "cell_type": "code",
   "execution_count": 18,
   "metadata": {},
   "outputs": [
    {
     "name": "stdout",
     "output_type": "stream",
     "text": [
      "apple\n"
     ]
    }
   ],
   "source": [
    "## 1. Print the first item of the tuple1 object. Hint: Use indexing\n",
    "\n",
    "print(tuple1[0])"
   ]
  },
  {
   "cell_type": "code",
   "execution_count": 19,
   "metadata": {},
   "outputs": [
    {
     "name": "stdout",
     "output_type": "stream",
     "text": [
      "mango\n"
     ]
    }
   ],
   "source": [
    "## 2. Print the last item of the tuple1 object.Hint: Use indexing\n",
    "\n",
    "print(tuple1[-1])"
   ]
  },
  {
   "cell_type": "code",
   "execution_count": 27,
   "metadata": {},
   "outputs": [
    {
     "name": "stdout",
     "output_type": "stream",
     "text": [
      "['apple', 'banana', 'cherry', 'pink grapefruit', 'kiwi', 'melon', 'mango']\n"
     ]
    },
    {
     "data": {
      "text/plain": [
       "('apple', 'banana', 'cherry', 'pink grapefruit', 'kiwi', 'melon', 'mango')"
      ]
     },
     "execution_count": 27,
     "metadata": {},
     "output_type": "execute_result"
    }
   ],
   "source": [
    "## 3. Change the value \"orange\" for \"pink grapefruit\". Comment the output. Hint: Is it possible?\n",
    "\n",
    "tuple1 = (\"apple\", \"banana\", \"cherry\", \"orange\", \"kiwi\", \"melon\", \"mango\")\n",
    "tuple1\n",
    "tuple1_lista=list(tuple1)\n",
    "tuple1_lista\n",
    "tuple1_lista[3] = \"pink grapefruit\"\n",
    "print(tuple1_lista)\n",
    "tuple1=tuple(tuple1_lista)\n",
    "tuple1\n",
    "\n",
    "## Yes, it is possible, but first it has to become a list, make the modifications there and then return it to tuple."
   ]
  },
  {
   "cell_type": "code",
   "execution_count": 3,
   "metadata": {},
   "outputs": [
    {
     "name": "stdout",
     "output_type": "stream",
     "text": [
      "7\n"
     ]
    }
   ],
   "source": [
    "## 4. Print the length of tuple1. Hint: Length function\n",
    "\n",
    "tuple2 = (\"apple\", \"banana\", \"cherry\", \"pink grapefruit\", \"kiwi\", \"melon\", \"mango\")\n",
    "print(len(tuple2))"
   ]
  },
  {
   "cell_type": "code",
   "execution_count": 8,
   "metadata": {},
   "outputs": [
    {
     "data": {
      "text/plain": [
       "(50, 40, 30, 20, 10)"
      ]
     },
     "execution_count": 8,
     "metadata": {},
     "output_type": "execute_result"
    }
   ],
   "source": [
    "## 5. Sort tuple2 in descending order. Hint: Try this code\n",
    "\n",
    "tuple2 = (10, 20, 30, 40, 50)\n",
    "tuple2[::-1]"
   ]
  },
  {
   "cell_type": "code",
   "execution_count": 9,
   "metadata": {},
   "outputs": [
    {
     "data": {
      "text/plain": [
       "(5, 10, 15, 20, 25)"
      ]
     },
     "execution_count": 9,
     "metadata": {},
     "output_type": "execute_result"
    }
   ],
   "source": [
    "## 6. Generate a new tuple object named as tuple3 with the half values of tuple2. Hint: Use auxiliary variables.\n",
    "\n",
    "tuple3 = tuple(int(i/2) for i in tuple2)\n",
    "tuple3\n"
   ]
  },
  {
   "cell_type": "markdown",
   "metadata": {},
   "source": [
    "## 1.2 Lists\n",
    "1. Show the indices of the `np.nan` values  in the `f_list` list. We want to see this output: `The indices 0, 1, 4, 7 have np.nan values.` **Hint: Use print function and [f-strings](https://realpython.com/python-f-strings/) to insert the indices values.**<br><br>\n",
    "\n",
    "2. Replicate 4 times the values of the list `p2_list`. We expect an ouput like this: `[ 2 , 3, 4, 5, 2 , 3, 4, 5, 2 , 3, 4, 5, 2 , 3, 4, 5]`.  **Hint: Use multiplication function in `lists`and see the output.**<br><br>\n",
    "3. Print the length of `f_list`. **Hint: Length function**<br><br>\n",
    "4. Print `My teacher assistant is so boring.` using `text1` list. **Hint: Use the [`join` function](https://stackoverflow.com/questions/493819/why-is-it-string-joinlist-instead-of-list-joinstring)**<br><br>\n",
    "5. Print `My TA is so boring, but is very funny.` using `text1` list.**Hint: Use the `join` function, and `extend` method.**<br><br>\n",
    "6. Print <br>\n",
    "`The max value of values1 is 86 and is located in the 0 index. ` <br>\n",
    "`The min value of values1 is 0 and is located in the 7 index. ` <br> **Hint: Use the `f-string`, `min`, and `max` functions.**\n"
   ]
  },
  {
   "cell_type": "code",
   "execution_count": 6,
   "metadata": {},
   "outputs": [],
   "source": [
    "import numpy as np"
   ]
  },
  {
   "cell_type": "code",
   "execution_count": null,
   "metadata": {},
   "outputs": [],
   "source": [
    "f_list = [np.nan , np.nan, \"Austria\", \"Germany\", np.nan, \"Pakistan\", \"np.nan\", np.nan ]"
   ]
  },
  {
   "cell_type": "code",
   "execution_count": null,
   "metadata": {},
   "outputs": [],
   "source": [
    "text1 = ['My', 'teacher', 'assistant', 'is', 'so', 'boring.']"
   ]
  },
  {
   "cell_type": "code",
   "execution_count": null,
   "metadata": {},
   "outputs": [],
   "source": [
    "p2_list = [ 2 , 3, 4, 5 ]"
   ]
  },
  {
   "cell_type": "code",
   "execution_count": null,
   "metadata": {},
   "outputs": [],
   "source": [
    "values1 = [ 86, 86, 85, 85, 85, 83, 23, 0, 84, 1 ] "
   ]
  },
  {
   "cell_type": "code",
   "execution_count": 21,
   "metadata": {},
   "outputs": [
    {
     "data": {
      "text/plain": [
       "'The indices, [0, 1, 4, 7] have np.nan values.'"
      ]
     },
     "execution_count": 21,
     "metadata": {},
     "output_type": "execute_result"
    }
   ],
   "source": [
    "## 1. Show the indices of the np.nan values in the f_list list. We want to see this output: The indices 0, 1, 4, 7 have np.nan values. Hint: Use print function and f-strings to insert the indices values.\n",
    "\n",
    "import numpy as np\n",
    "\n",
    "f_list = [np.nan , np.nan, \"Austria\", \"Germany\", np.nan, \"Pakistan\", \"np.nan\", np.nan ] \n",
    "x=[p for p, v in enumerate(f_list) if v is np.nan]\n",
    "f\"The indices, {x} have np.nan values.\""
   ]
  },
  {
   "cell_type": "code",
   "execution_count": 24,
   "metadata": {},
   "outputs": [
    {
     "data": {
      "text/plain": [
       "[2, 3, 4, 5, 2, 3, 4, 5, 2, 3, 4, 5, 2, 3, 4, 5]"
      ]
     },
     "execution_count": 24,
     "metadata": {},
     "output_type": "execute_result"
    }
   ],
   "source": [
    "## 3. Replicate 4 times the values of the list p2_list. We expect an ouput like this: [ 2 , 3, 4, 5, 2 , 3, 4, 5, 2 , 3, 4, 5, 2 , 3, 4, 5]. Hint: Use multiplication function in listsand see the output.\n",
    "\n",
    "p2_list = [ 2 , 3, 4, 5 ]\n",
    "p2_list*4"
   ]
  },
  {
   "cell_type": "code",
   "execution_count": 25,
   "metadata": {},
   "outputs": [
    {
     "name": "stdout",
     "output_type": "stream",
     "text": [
      "4\n"
     ]
    }
   ],
   "source": [
    "## 3. Print the length of f_list. Hint: Length function\n",
    "print(len(p2_list))"
   ]
  },
  {
   "cell_type": "code",
   "execution_count": 27,
   "metadata": {},
   "outputs": [
    {
     "name": "stdout",
     "output_type": "stream",
     "text": [
      "My teacher assistant is so boring.\n"
     ]
    }
   ],
   "source": [
    "## 4. My teacher assistant is so boring. using text1 list. Hint: Use the join function\n",
    "text1 = ['My', 'teacher', 'assistant', 'is', 'so', 'boring.']\n",
    "print(\" \".join(text1))"
   ]
  },
  {
   "cell_type": "code",
   "execution_count": 43,
   "metadata": {},
   "outputs": [
    {
     "name": "stdout",
     "output_type": "stream",
     "text": [
      "My TA \b is so boring, but is very funny.\n"
     ]
    }
   ],
   "source": [
    "##5. Print My TA is so boring, but is very funny. using text1 list.Hint: Use the join function, and extend method.\n",
    "\n",
    "text1 = ['My', 'teacher', 'assistant', 'is', 'so', 'boring.']\n",
    "text1[1] = \"TA\"\n",
    "text1[2] = \"\\b\"\n",
    "text1[5] = \"boring,\"\n",
    "b=\" but is very funny.\"\n",
    "print(\" \".join(text1) + b)\n"
   ]
  },
  {
   "cell_type": "code",
   "execution_count": 53,
   "metadata": {},
   "outputs": [
    {
     "data": {
      "text/plain": [
       "'The max value of values1 is 86 and is located in the 0 index.'"
      ]
     },
     "execution_count": 53,
     "metadata": {},
     "output_type": "execute_result"
    }
   ],
   "source": [
    "##6. Print \n",
    "## The max value of values1 is 86 and is located in the 0 index.\n",
    "## The min value of values1 is 0 and is located in the 7 index.\n",
    "## Hint: Use the f-string, min, and max functions.\n",
    "\n",
    "values1 = [ 86, 86, 85, 85, 85, 83, 23, 0, 84, 1 ] \n",
    "a1=max(values1)\n",
    "a2=values1.index(a1)\n",
    "b1=min(values1)\n",
    "b2=values1.index(b1)\n",
    "c = f\"The max value of values1 is {a1} and is located in the {a2} index.\"\n",
    "d = f\"The min value of values1 is {b1} and is located in the {b2} index.\"\n",
    "c"
   ]
  },
  {
   "cell_type": "code",
   "execution_count": 54,
   "metadata": {},
   "outputs": [
    {
     "data": {
      "text/plain": [
       "'The min value of values1 is 0 and is located in the 7 index.'"
      ]
     },
     "execution_count": 54,
     "metadata": {},
     "output_type": "execute_result"
    }
   ],
   "source": [
    "d"
   ]
  },
  {
   "cell_type": "markdown",
   "metadata": {},
   "source": [
    "## 1.3 Dictionaries\n",
    "1. Create a dictionary with two keys: `even_numbers` and `odd_numbers`. The first key should have all the even numbers in this range `[0, 2000]`, and the second key must have all the odd numbers in this range `[9000, 19000]`. The values should be stored in a `list`. **Hint: Use the `np.arange`, `zip`, and `np.tolist()` functions.** <br><br>\n",
    "2. Check if `TA` is a key of your object created in exercise 1. **Hint: Generate an object with the keys of your dictionary and check the statement using [`in` function](https://stackoverflow.com/questions/1602934/check-if-a-given-key-already-exists-in-a-dictionary). Do not use `if` function. Use `print` function.** <br><br>\n",
    "3. Print the value of `brand` key of `car` dictionary. **Hint: Use the `get` method.** <br><br>\n",
    "4. Print all the the values of `brand` key of `car` dictionary. **Hint: Use the `values` method.** <br><br>\n",
    "5. Print the max value  of `friday` in `january` of `hr_sleep` dictionary. **Hint: [Indexing in nested dictioanries](https://stackoverflow.com/questions/25836376/how-to-get-the-inner-indexes-of-a-nested-dictionary-in-python).** <br><br>\n",
    "6. Add `march` key to the `hr_sleep` dictionary using `week1` and `values2` Python lists. **Hint: Use `zip` function adn [this link](https://stackoverflow.com/questions/1024847/how-can-i-add-new-keys-to-a-dictionary).** <br><br>"
   ]
  },
  {
   "cell_type": "code",
   "execution_count": null,
   "metadata": {},
   "outputs": [],
   "source": [
    "car = {\n",
    "  \"brand\": \"Ford\",\n",
    "  \"model\": \"Mustang\",\n",
    "  \"year\": 1964\n",
    "}\n",
    "\n",
    "hr_sleep = {\"january\": {\"wednesday\": 7,\n",
    "                      \"thursday\": 8,\n",
    "                      \"friday\": [2, 2, 1, 2]},\n",
    "          \"february\": {\"saturday\": 5,\n",
    "                       \"sunday\": 10,\n",
    "                       \"monday\": 8\n",
    "          }\n",
    "}"
   ]
  },
  {
   "cell_type": "code",
   "execution_count": null,
   "metadata": {},
   "outputs": [],
   "source": [
    "week1 = ['monday', 'sunday']\n",
    "values2 = [ [2, 3, 4 ] , 8, ]"
   ]
  },
  {
   "cell_type": "code",
   "execution_count": 68,
   "metadata": {},
   "outputs": [],
   "source": [
    "## 1. Create a dictionary with two keys: even_numbers and odd_numbers. The first key should have all the even numbers in this range [0, 2000], and the second key must have all the odd numbers in this range [9000, 19000]. The values should be stored in a list. Hint: Use the np.arange, zip, and np.tolist() functions.\n",
    "\n",
    "even_numbers = np.arange(0,2001)\n",
    "odd_numbers = np.arange(9000,19001)\n",
    "lista = dict( zip( even_numbers , odd_numbers ) )\n",
    "## Pendiente"
   ]
  },
  {
   "cell_type": "code",
   "execution_count": null,
   "metadata": {},
   "outputs": [],
   "source": [
    "## 2. Check if TA is a key of your object created in exercise 1. Hint: Generate an object with the keys of your dictionary and check the statement using in function. Do not use if function. Use print function.\n",
    "\n",
    "## Pendiente"
   ]
  },
  {
   "cell_type": "code",
   "execution_count": 69,
   "metadata": {},
   "outputs": [
    {
     "name": "stdout",
     "output_type": "stream",
     "text": [
      "Ford\n"
     ]
    }
   ],
   "source": [
    "## 3. Print the value of brand key of car dictionary. Hint: Use the get method.\n",
    "\n",
    "car = {\n",
    "  \"brand\": \"Ford\",\n",
    "  \"model\": \"Mustang\",\n",
    "  \"year\": 1964\n",
    "}\n",
    "\n",
    "a = car.get('brand')\n",
    "print(a)\n"
   ]
  },
  {
   "cell_type": "code",
   "execution_count": 72,
   "metadata": {},
   "outputs": [
    {
     "name": "stdout",
     "output_type": "stream",
     "text": [
      "dict_values(['Ford', 'Mustang', 1964])\n"
     ]
    }
   ],
   "source": [
    "## 4. Print all the the values of brand key of car dictionary. Hint: Use the values method.\n",
    "\n",
    "b = car.values()\n",
    "print(b)\n",
    "\n",
    "## Consultar.\n"
   ]
  },
  {
   "cell_type": "code",
   "execution_count": 93,
   "metadata": {},
   "outputs": [
    {
     "data": {
      "text/plain": [
       "{'january': {'wednesday': 7, 'thursday': 8, 'friday': [2, 2, 1, 2]},\n",
       " 'february': {'saturday': 5, 'sunday': 10, 'monday': 8}}"
      ]
     },
     "execution_count": 93,
     "metadata": {},
     "output_type": "execute_result"
    }
   ],
   "source": [
    "## 5. Print the max value of friday in january of hr_sleep dictionary. Hint: Indexing in nested dictioanries.\n",
    "\n",
    "hr_sleep = {\"january\": {\"wednesday\": 7,\n",
    "                      \"thursday\": 8,\n",
    "                      \"friday\": [2, 2, 1, 2]},\n",
    "          \"february\": {\"saturday\": 5,\n",
    "                       \"sunday\": 10,\n",
    "                       \"monday\": 8\n",
    "          }\n",
    "}\n",
    "\n",
    "a = hr_sleep.get('january')\n",
    "b = a.get(\"friday\")\n",
    "c = max(b)\n",
    "c\n",
    "hr_sleep"
   ]
  },
  {
   "cell_type": "code",
   "execution_count": 97,
   "metadata": {},
   "outputs": [
    {
     "data": {
      "text/plain": [
       "{'january': {'wednesday': 7, 'thursday': 8, 'friday': [2, 2, 1, 2]},\n",
       " 'february': {'saturday': 5, 'sunday': 10, 'monday': 8},\n",
       " 'march': {'monday': [[2, 3, 4], 8], 'sunday': [[2, 3, 4], 8]}}"
      ]
     },
     "execution_count": 97,
     "metadata": {},
     "output_type": "execute_result"
    }
   ],
   "source": [
    "## 6. Add march key to the hr_sleep dictionary using week1 and values2 Python lists. Hint: Use zip function adn this link.\n",
    "\n",
    "hr_sleep = {\"january\": {\"wednesday\": 7,\n",
    "                      \"thursday\": 8,\n",
    "                      \"friday\": [2, 2, 1, 2]},\n",
    "          \"february\": {\"saturday\": 5,\n",
    "                       \"sunday\": 10,\n",
    "                       \"monday\": 8\n",
    "          }\n",
    "}\n",
    "\n",
    "week1 = ['monday', 'sunday']\n",
    "values2 = [ [2, 3, 4 ] , 8, ]\n",
    "\n",
    "march = dict.fromkeys(week1, values2)\n",
    "hr_sleep.update( {\"march\":march} )\n",
    "hr_sleep"
   ]
  },
  {
   "cell_type": "markdown",
   "metadata": {},
   "source": [
    "## 1.4 Numpy\n",
    "1. Replace all the `even_numbers` in `np1` with 100. **Hint: Use `indexing` in arrys and [this filer](https://stackoverflow.com/questions/41638751/filtering-even-numbers-in-python).** <br><br>\n",
    "2. Create a 3x3 matrix with values ranging from 0 to 8. **Hint: Use `np.arange` and `np.reshape` method.** <br><br>\n",
    "3. Consider an array `Z = [1,2,3,4,5,6,7,8,9,10]`, generate an array `R = [ [ 1, 2, 3, 4], [ 2, 3, 4, 5 ], [ 3, 4, 5, 6 ], ..., [ 7, 8, 9, 10 ] ]`?.**Hint: Use `np.arange` and `np.concatenate`** <br><br>\n",
    "4. Create a 3x3x3 array with random values. **Hint: Use [`np.random.random`](https://docs.scipy.org/doc/numpy-1.15.0/reference/generated/numpy.random.random.html).** <br><br>\n",
    "5. Comment why this expression `np.nan == np.nan` is False. **Hint: Use stackoverflow.** <br><br>\n",
    "6. Print the `mean` and `standard deviation` of `np2`. **Hint: Use `f-string`, `np.mean`, and `np.var` methods.**"
   ]
  },
  {
   "cell_type": "code",
   "execution_count": null,
   "metadata": {},
   "outputs": [],
   "source": [
    "np1 = np.arange( 200, 750)\n",
    "np2 = np.random.normal( 50 , 4, 300)"
   ]
  },
  {
   "cell_type": "code",
   "execution_count": 119,
   "metadata": {},
   "outputs": [
    {
     "data": {
      "text/plain": [
       "array([100, 201, 100, 203, 100, 205, 100, 207, 100, 209, 100, 211, 100,\n",
       "       213, 100, 215, 100, 217, 100, 219, 100, 221, 100, 223, 100, 225,\n",
       "       100, 227, 100, 229, 100, 231, 100, 233, 100, 235, 100, 237, 100,\n",
       "       239, 100, 241, 100, 243, 100, 245, 100, 247, 100, 249, 100, 251,\n",
       "       100, 253, 100, 255, 100, 257, 100, 259, 100, 261, 100, 263, 100,\n",
       "       265, 100, 267, 100, 269, 100, 271, 100, 273, 100, 275, 100, 277,\n",
       "       100, 279, 100, 281, 100, 283, 100, 285, 100, 287, 100, 289, 100,\n",
       "       291, 100, 293, 100, 295, 100, 297, 100, 299, 100, 301, 100, 303,\n",
       "       100, 305, 100, 307, 100, 309, 100, 311, 100, 313, 100, 315, 100,\n",
       "       317, 100, 319, 100, 321, 100, 323, 100, 325, 100, 327, 100, 329,\n",
       "       100, 331, 100, 333, 100, 335, 100, 337, 100, 339, 100, 341, 100,\n",
       "       343, 100, 345, 100, 347, 100, 349, 100, 351, 100, 353, 100, 355,\n",
       "       100, 357, 100, 359, 100, 361, 100, 363, 100, 365, 100, 367, 100,\n",
       "       369, 100, 371, 100, 373, 100, 375, 100, 377, 100, 379, 100, 381,\n",
       "       100, 383, 100, 385, 100, 387, 100, 389, 100, 391, 100, 393, 100,\n",
       "       395, 100, 397, 100, 399, 100, 401, 100, 403, 100, 405, 100, 407,\n",
       "       100, 409, 100, 411, 100, 413, 100, 415, 100, 417, 100, 419, 100,\n",
       "       421, 100, 423, 100, 425, 100, 427, 100, 429, 100, 431, 100, 433,\n",
       "       100, 435, 100, 437, 100, 439, 100, 441, 100, 443, 100, 445, 100,\n",
       "       447, 100, 449, 100, 451, 100, 453, 100, 455, 100, 457, 100, 459,\n",
       "       100, 461, 100, 463, 100, 465, 100, 467, 100, 469, 100, 471, 100,\n",
       "       473, 100, 475, 100, 477, 100, 479, 100, 481, 100, 483, 100, 485,\n",
       "       100, 487, 100, 489, 100, 491, 100, 493, 100, 495, 100, 497, 100,\n",
       "       499, 100, 501, 100, 503, 100, 505, 100, 507, 100, 509, 100, 511,\n",
       "       100, 513, 100, 515, 100, 517, 100, 519, 100, 521, 100, 523, 100,\n",
       "       525, 100, 527, 100, 529, 100, 531, 100, 533, 100, 535, 100, 537,\n",
       "       100, 539, 100, 541, 100, 543, 100, 545, 100, 547, 100, 549, 100,\n",
       "       551, 100, 553, 100, 555, 100, 557, 100, 559, 100, 561, 100, 563,\n",
       "       100, 565, 100, 567, 100, 569, 100, 571, 100, 573, 100, 575, 100,\n",
       "       577, 100, 579, 100, 581, 100, 583, 100, 585, 100, 587, 100, 589,\n",
       "       100, 591, 100, 593, 100, 595, 100, 597, 100, 599, 100, 601, 100,\n",
       "       603, 100, 605, 100, 607, 100, 609, 100, 611, 100, 613, 100, 615,\n",
       "       100, 617, 100, 619, 100, 621, 100, 623, 100, 625, 100, 627, 100,\n",
       "       629, 100, 631, 100, 633, 100, 635, 100, 637, 100, 639, 100, 641,\n",
       "       100, 643, 100, 645, 100, 647, 100, 649, 100, 651, 100, 653, 100,\n",
       "       655, 100, 657, 100, 659, 100, 661, 100, 663, 100, 665, 100, 667,\n",
       "       100, 669, 100, 671, 100, 673, 100, 675, 100, 677, 100, 679, 100,\n",
       "       681, 100, 683, 100, 685, 100, 687, 100, 689, 100, 691, 100, 693,\n",
       "       100, 695, 100, 697, 100, 699, 100, 701, 100, 703, 100, 705, 100,\n",
       "       707, 100, 709, 100, 711, 100, 713, 100, 715, 100, 717, 100, 719,\n",
       "       100, 721, 100, 723, 100, 725, 100, 727, 100, 729, 100, 731, 100,\n",
       "       733, 100, 735, 100, 737, 100, 739, 100, 741, 100, 743, 100, 745,\n",
       "       100, 747, 100, 749])"
      ]
     },
     "execution_count": 119,
     "metadata": {},
     "output_type": "execute_result"
    }
   ],
   "source": [
    "## 1. Replace all the even_numbers in np1 with 100. Hint: Use indexing in arrys and this filer.\n",
    "\n",
    "np1 = np.arange( 200, 750 )\n",
    "np1[np1%2 == 0] = 100 \n",
    "np1\n"
   ]
  },
  {
   "cell_type": "code",
   "execution_count": 122,
   "metadata": {},
   "outputs": [
    {
     "name": "stdout",
     "output_type": "stream",
     "text": [
      "[[0 1 2]\n",
      " [3 4 5]\n",
      " [6 7 8]]\n"
     ]
    }
   ],
   "source": [
    "## 2. Create a 3x3 matrix with values ranging from 0 to 8. Hint: Use np.arange and np.reshape method.\n",
    "\n",
    "np3 = np.arange(0, 9).reshape ((3,3))\n",
    "print (np3)\n"
   ]
  },
  {
   "cell_type": "code",
   "execution_count": 126,
   "metadata": {},
   "outputs": [
    {
     "ename": "ValueError",
     "evalue": "The truth value of an array with more than one element is ambiguous. Use a.any() or a.all()",
     "output_type": "error",
     "traceback": [
      "\u001b[1;31m---------------------------------------------------------------------------\u001b[0m",
      "\u001b[1;31mValueError\u001b[0m                                Traceback (most recent call last)",
      "\u001b[1;32m<ipython-input-126-d4d8ef3e9431>\u001b[0m in \u001b[0;36m<module>\u001b[1;34m\u001b[0m\n\u001b[0;32m      2\u001b[0m \u001b[1;33m\u001b[0m\u001b[0m\n\u001b[0;32m      3\u001b[0m \u001b[0mZ\u001b[0m \u001b[1;33m=\u001b[0m \u001b[0mnp\u001b[0m\u001b[1;33m.\u001b[0m\u001b[0marange\u001b[0m\u001b[1;33m(\u001b[0m\u001b[1;36m1\u001b[0m\u001b[1;33m,\u001b[0m \u001b[1;36m11\u001b[0m\u001b[1;33m)\u001b[0m\u001b[1;33m\u001b[0m\u001b[1;33m\u001b[0m\u001b[0m\n\u001b[1;32m----> 4\u001b[1;33m \u001b[0mZ1\u001b[0m \u001b[1;33m=\u001b[0m \u001b[0mnp\u001b[0m\u001b[1;33m.\u001b[0m\u001b[0marange\u001b[0m\u001b[1;33m(\u001b[0m\u001b[0mZ\u001b[0m\u001b[1;33m,\u001b[0m\u001b[1;36m4\u001b[0m\u001b[1;33m)\u001b[0m\u001b[1;33m\u001b[0m\u001b[1;33m\u001b[0m\u001b[0m\n\u001b[0m",
      "\u001b[1;31mValueError\u001b[0m: The truth value of an array with more than one element is ambiguous. Use a.any() or a.all()"
     ]
    }
   ],
   "source": [
    "## 3. Consider an array Z = [1,2,3,4,5,6,7,8,9,10], generate an array R = [ [ 1, 2, 3, 4], [ 2, 3, 4, 5 ], [ 3, 4, 5, 6 ], ..., [ 7, 8, 9, 10 ] ]?.Hint: Use np.arange and np.concatenate\n",
    "\n",
    "Z = np.arange(1, 11)\n",
    "\n",
    "## Pendiente."
   ]
  },
  {
   "cell_type": "code",
   "execution_count": 128,
   "metadata": {},
   "outputs": [
    {
     "data": {
      "text/plain": [
       "array([[0.90350744, 0.35732862, 0.6991168 ],\n",
       "       [0.30321064, 0.16842733, 0.03701425],\n",
       "       [0.74209758, 0.30592888, 0.96719963]])"
      ]
     },
     "execution_count": 128,
     "metadata": {},
     "output_type": "execute_result"
    }
   ],
   "source": [
    "## 4. Create a 3x3x3 array with random values. Hint: Use np.random.random.\n",
    "\n",
    "np.random.random_sample((3,3))\n"
   ]
  },
  {
   "cell_type": "code",
   "execution_count": null,
   "metadata": {},
   "outputs": [],
   "source": [
    "## 5. Comment why this expression np.nan == np.nan is False. Hint: Use stackoverflow.\n",
    "\n",
    "## Pendiente."
   ]
  },
  {
   "cell_type": "code",
   "execution_count": 134,
   "metadata": {},
   "outputs": [
    {
     "name": "stdout",
     "output_type": "stream",
     "text": [
      "49.865805953513444\n",
      "3.967538484063314\n"
     ]
    }
   ],
   "source": [
    "## 6. Print the mean and standard deviation of np2. Hint: Use f-string, np.mean, and np.var methods.\n",
    "\n",
    "np2 = np.random.normal( 50 , 4, 300)\n",
    "a = np.mean(np2)\n",
    "b = np.std(np2)\n",
    "\n",
    "print(a)\n",
    "print(b)\n"
   ]
  },
  {
   "cell_type": "markdown",
   "metadata": {},
   "source": [
    "## Restricted Least Squares\n",
    "\n",
    "Given the following equation:\n",
    "\n",
    "\n",
    "$$\n",
    "\\begin{aligned} \n",
    "lnCT &= \\beta_{0}+\\beta_{q}lnq+ \\frac{1}{2}\\beta_{qq} ln^2q+\\beta_{q1}lnqlnp_1+\\beta_{q2}lnqlnp_2+ \\beta_{q1}lnqlnp_{3} +\\beta_{1}lnp_1+\\beta_{2}lnp_2+ \\beta_{3}lnp_3 \\\\\n",
    "& + \\frac{1}{2}\\beta_{11}ln^{2}p_1+ \\frac{1}{2}\\beta_{22}ln^{2}p_{2}+ \\frac{1}{2}\\beta_{33}ln^{2}p_{3} + \\frac{1}{2}\\beta_{12}lnp_{1}lnp_{2}+ \\frac{1}{2}\\beta_{13}lnp_{1}lnp_{3}+\\frac{1}{2}\\beta_{23}lnp_{2}lnp_{3} \n",
    "\\end{aligned}\n",
    "$$\n",
    "\n",
    "\n",
    "ST: \n",
    "\n",
    "<br>\n",
    "$$\n",
    "\\begin{aligned} \n",
    "\\beta_{1} + \\beta_{2} + \\beta_{3} &= 1 \\\\\n",
    "\\beta_{q1} + \\beta_{q2} + \\beta_{q3} &= 0 \\\\\n",
    "\\beta_{11} + \\beta_{12} + \\beta_{13} &= 0 \\\\\n",
    "\\beta_{21} + \\beta_{22} + \\beta_{23} &= 0 \\\\\n",
    "\\beta_{31} + \\beta_{32} + \\beta_{33} &= 0 \\\\\n",
    "\\beta_{ij} = \\beta_{ji}\n",
    "\\end{aligned}\n",
    "$$"
   ]
  },
  {
   "cell_type": "markdown",
   "metadata": {},
   "source": [
    "\n",
    "1. Get $\\widehat{\\boldsymbol{\\beta}}^{(RLS)}$ vector from the equation bellow. Use the `q`, `p1`, `p2`, `p3`, `CT` numpies. <br><br>\n",
    "2. Get the `covariance matrix` $\\mathbb{V}{\\rm ar} \\left(\\widehat{\\boldsymbol{\\beta}}^{(RLS)} \\right)$. <br><br>\n",
    "**Hint: For more information about Restricted Least Squares [click here](http://web.vu.lt/mif/a.buteikis/wp-content/uploads/PE_Book/4-4-Multiple-RLS.html).**<br>"
   ]
  },
  {
   "cell_type": "code",
   "execution_count": 1,
   "metadata": {},
   "outputs": [],
   "source": [
    "import pandas as pd\n",
    "greene = pd.read_csv(r\"../../_data/christensen_greene_f4.csv\")"
   ]
  },
  {
   "cell_type": "code",
   "execution_count": 2,
   "metadata": {},
   "outputs": [],
   "source": [
    "ct = greene.COST.values\n",
    "q = greene.Q.values\n",
    "p1 = greene.PL.values\n",
    "p2 = greene.PF.values\n",
    "p3 = greene.PK.values"
   ]
  },
  {
   "cell_type": "code",
   "execution_count": null,
   "metadata": {},
   "outputs": [],
   "source": [
    "## 1. Get the estimated beta vector from the equation\n",
    "\n",
    "# There are 15 independent variables and 6 specified restrictions. The last restriction can be made redundant by appliying it to the third, fourth, and fifth restrictions, meaning there are effectively 5 restrictions. \n",
    "L = np.array( ( [ 0, 0, 0, 0, 0, 0, 1, 1, 1, 0, 0, 0, 0, 0, 0 ],\n",
    "                [ 0, 0, 0, 1, 1, 1, 0, 0, 0, 0, 0, 0, 0, 0, 0 ], \n",
    "                [ 0, 0, 0, 0, 0, 0, 0, 0, 0, 1, 0, 0, 1, 1, 0 ], \n",
    "                [ 0, 0, 0, 0, 0, 0, 0, 0, 0, 0, 1, 0, 1, 0, 1 ], \n",
    "                [ 0, 0, 0, 0, 0, 0, 0, 0, 0, 0, 0, 1, 0, 1, 1 ] ) )\n",
    "\n",
    "rr = [ 1, 0, 0, 0, 0 ]\n",
    "\n",
    "\n",
    "\n",
    "\n"
   ]
  },
  {
   "cell_type": "code",
   "execution_count": 7,
   "metadata": {},
   "outputs": [
    {
     "data": {
      "text/plain": [
       "array([4.53690000e-02, 9.25802329e+00, 8.84709548e+01, 5.78512360e-01,\n",
       "       5.10172569e+00, 1.80150084e+00, 3.79332810e-01, 2.38827690e-01,\n",
       "       1.31652676e+00, 5.69904206e+01, 4.21563024e+00, 4.04877690e-01,\n",
       "       9.92502016e+00, 1.06370345e+02, 3.42084614e+01, 2.02950250e+01,\n",
       "       3.13275284e+01, 1.38793502e+01, 3.60780423e+01, 1.63405089e+02,\n",
       "       4.38429380e+01, 9.29855204e+01, 7.54326990e+01, 7.46012238e+01,\n",
       "       1.26380316e+02, 4.38522084e+01, 1.20264122e+02, 1.85695129e+02,\n",
       "       5.53461602e+01, 9.57325265e+01, 4.35435862e+02, 3.88452565e+02,\n",
       "       1.97208658e+02, 1.03840176e+02, 2.61675917e+02, 1.78518080e+03,\n",
       "       5.09007745e+02, 1.09015531e+03, 3.57070154e+02, 1.76037170e+02,\n",
       "       4.64204261e+02, 1.26240222e+03, 8.88105561e+02, 9.53407655e+02,\n",
       "       5.93239092e+02, 3.05557392e+02, 3.96041841e+02, 8.28639553e+02,\n",
       "       7.33499722e+02, 5.03647852e+02, 9.12444725e+02, 9.10096157e+02,\n",
       "       1.06171706e+03, 2.24547090e+03, 5.90018674e+02, 9.79201781e+02,\n",
       "       1.02325773e+03, 1.75574408e+03, 3.37739972e+03, 1.64252689e+03,\n",
       "       1.37393284e+03, 6.33458426e+02, 2.04147638e+03, 3.04443512e+03,\n",
       "       1.69577593e+03, 6.45761710e+03, 4.68951040e+03, 9.48401352e+03,\n",
       "       2.78397638e+03, 1.50910495e+03, 2.31481266e+03, 6.25214397e+03,\n",
       "       1.25185441e+04, 6.06605765e+03, 7.58667130e+03, 3.33237189e+03,\n",
       "       8.22953780e+03, 3.35737826e+04, 2.86406206e+04, 5.81448951e+03,\n",
       "       1.80172365e+04, 2.83510499e+04, 1.57090126e+04, 3.66961914e+04,\n",
       "       5.78468399e+04, 1.70041600e-02, 5.31878490e-01, 3.13467025e+00,\n",
       "       5.00282689e+00, 6.55001649e+00, 4.14448164e+00, 5.81192770e+01,\n",
       "       1.23412103e+02, 8.96316628e+01, 1.91163806e+02, 2.98926810e+02,\n",
       "       2.61481836e+02, 5.95238006e+02, 7.42251882e+02, 8.69483169e+02,\n",
       "       1.23264890e+03, 6.49301746e+02, 1.79875230e+03, 5.18911326e+03,\n",
       "       2.16057661e+04, 2.67718282e+03, 4.64777546e+02, 2.03661441e+02,\n",
       "       4.36963305e+03, 1.28268083e+04, 8.16706224e+03, 5.78334200e+04,\n",
       "       7.68933489e+04, 1.16591621e+04, 7.27773636e+04, 6.33945587e+03,\n",
       "       1.14794927e+03, 2.23589218e+02, 1.15418511e+03, 6.19413073e+03,\n",
       "       3.77878609e+02, 7.96638771e+04, 8.00551002e+04, 2.20134752e+05,\n",
       "       5.43771738e+05, 4.36124749e+02, 4.74333553e+02, 5.21830061e+02,\n",
       "       1.00088711e+03, 2.32013696e+03, 3.51423696e+01, 6.55841368e+02,\n",
       "       3.04956369e+02, 1.86131449e+00, 2.19012768e+03, 2.52097381e+03,\n",
       "       1.67231924e+03, 6.11246508e+02, 9.13490176e+02, 9.74444899e+02,\n",
       "       1.12939293e+04, 3.06499533e+03, 5.51249354e+02, 4.95610001e+02,\n",
       "       9.28463558e+02, 1.29029153e+04, 7.76145142e+03, 1.25270489e+04,\n",
       "       1.42500564e+04, 1.51888370e+02, 9.97296400e-02, 1.10853524e+02,\n",
       "       4.92831120e+02, 4.66393385e+01, 1.41413602e+01, 1.58579168e+01,\n",
       "       9.11315344e+02, 4.60446388e+03])"
      ]
     },
     "execution_count": 7,
     "metadata": {},
     "output_type": "execute_result"
    }
   ],
   "source": [
    "logct = np.log( ct )\n",
    "logq = np.log( q )\n",
    "logsqeq = np.square( logq )\n",
    "logp1 = np.log( p1 )\n",
    "logp2 = np.log( p2 )\n",
    "logp3 = np.log( p3 )\n"
   ]
  },
  {
   "cell_type": "code",
   "execution_count": null,
   "metadata": {},
   "outputs": [],
   "source": []
  }
 ],
 "metadata": {
  "hide_input": false,
  "kernelspec": {
   "display_name": "Python 3 (ipykernel)",
   "language": "python",
   "name": "python3"
  },
  "language_info": {
   "codemirror_mode": {
    "name": "ipython",
    "version": 3
   },
   "file_extension": ".py",
   "mimetype": "text/x-python",
   "name": "python",
   "nbconvert_exporter": "python",
   "pygments_lexer": "ipython3",
   "version": "3.8.8"
  }
 },
 "nbformat": 4,
 "nbformat_minor": 4
}
