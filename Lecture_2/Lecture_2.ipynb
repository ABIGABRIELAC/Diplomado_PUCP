{
 "cells": [
  {
   "cell_type": "markdown",
   "metadata": {},
   "source": [
    "# Introduction to Python: Tuples, Lists, Dictionaries, Arrays"
   ]
  },
  {
   "cell_type": "markdown",
   "metadata": {},
   "source": [
    "## Variables\n",
    "Containers for store data values. This variable has a label or name. This variable is an object in memory."
   ]
  },
  {
   "cell_type": "markdown",
   "metadata": {},
   "source": [
    "### Python Types\n",
    "\n",
    "There are three key python types: int, float, string and boolean."
   ]
  },
  {
   "cell_type": "code",
   "execution_count": 2,
   "metadata": {},
   "outputs": [
    {
     "data": {
      "text/plain": [
       "int"
      ]
     },
     "execution_count": 2,
     "metadata": {},
     "output_type": "execute_result"
    }
   ],
   "source": [
    "a = 30\n",
    "type(a)"
   ]
  },
  {
   "cell_type": "code",
   "execution_count": 6,
   "metadata": {},
   "outputs": [
    {
     "data": {
      "text/plain": [
       "float"
      ]
     },
     "execution_count": 6,
     "metadata": {},
     "output_type": "execute_result"
    }
   ],
   "source": [
    "a = 30.3\n",
    "type(a)"
   ]
  },
  {
   "cell_type": "code",
   "execution_count": 7,
   "metadata": {},
   "outputs": [
    {
     "data": {
      "text/plain": [
       "str"
      ]
     },
     "execution_count": 7,
     "metadata": {},
     "output_type": "execute_result"
    }
   ],
   "source": [
    "a = \"30\"\n",
    "type(a)"
   ]
  },
  {
   "cell_type": "code",
   "execution_count": 8,
   "metadata": {},
   "outputs": [
    {
     "data": {
      "text/plain": [
       "bool"
      ]
     },
     "execution_count": 8,
     "metadata": {},
     "output_type": "execute_result"
    }
   ],
   "source": [
    "a = True\n",
    "type(a)"
   ]
  },
  {
   "cell_type": "markdown",
   "metadata": {},
   "source": [
    "### [String](https://www.w3schools.com/python/python_ref_string.asp)\n",
    "A string is a sequence of characters."
   ]
  },
  {
   "cell_type": "code",
   "execution_count": 167,
   "metadata": {},
   "outputs": [
    {
     "name": "stdout",
     "output_type": "stream",
     "text": [
      "Hello \n",
      "\n",
      "Hello \n",
      "\n",
      "Hello \n",
      "\n",
      "Hello, welcome to\n",
      "           the world of Python\n"
     ]
    }
   ],
   "source": [
    "# defining strings in Python\n",
    "# all of the following are equivalent\n",
    "my_string = 'Hello'\n",
    "print(my_string , \"\\n\" )\n",
    "\n",
    "my_string = \"Hello\"\n",
    "print(my_string , \"\\n\")\n",
    "\n",
    "my_string = '''Hello'''\n",
    "print(my_string , \"\\n\")\n",
    "\n",
    "# triple quotes string can extend multiple lines\n",
    "my_string = \"\"\"Hello, welcome to\n",
    "           the world of Python\"\"\"\n",
    "print(my_string)"
   ]
  },
  {
   "cell_type": "code",
   "execution_count": 170,
   "metadata": {},
   "outputs": [
    {
     "name": "stdout",
     "output_type": "stream",
     "text": [
      "str =  Introduction to Python\n",
      "str[0] =  I\n",
      "str[-1] =  n\n",
      "str[1:5] =  ntro\n",
      "str[5:-2] =  duction to Pyth\n"
     ]
    }
   ],
   "source": [
    "# Accessing string characters in Python\n",
    "## Indexing\n",
    "str = 'Introduction to Python'\n",
    "print('str = ', str)\n",
    "\n",
    "#first character\n",
    "print('str[0] = ', str[0])\n",
    "\n",
    "#last character\n",
    "print('str[-1] = ', str[-1])\n",
    "\n",
    "#slicing 2nd to 5th character\n",
    "print('str[1:5] = ', str[1:5])\n",
    "\n",
    "#slicing 6th to 2nd last character\n",
    "print('str[5:-2] = ', str[5:-2])"
   ]
  },
  {
   "cell_type": "markdown",
   "metadata": {},
   "source": [
    "### [Bool](https://www.w3schools.com/python/python_booleans.asp)\n",
    "\n",
    "The Python Boolean type is one of Python’s built-in data types. It’s used to represent the truth value of an expression. For example, the expression 1 <= 2 is True, while the expression 0 == 1 is False. "
   ]
  },
  {
   "cell_type": "code",
   "execution_count": 171,
   "metadata": {
    "scrolled": true
   },
   "outputs": [
    {
     "name": "stdout",
     "output_type": "stream",
     "text": [
      "True\n",
      "False\n",
      "False\n"
     ]
    }
   ],
   "source": [
    "print(10 > 9)\n",
    "print(10 == 9)\n",
    "print(10 < 9)"
   ]
  },
  {
   "cell_type": "code",
   "execution_count": 172,
   "metadata": {},
   "outputs": [
    {
     "data": {
      "text/plain": [
       "True"
      ]
     },
     "execution_count": 172,
     "metadata": {},
     "output_type": "execute_result"
    }
   ],
   "source": [
    "True == 1"
   ]
  },
  {
   "cell_type": "code",
   "execution_count": 173,
   "metadata": {},
   "outputs": [
    {
     "data": {
      "text/plain": [
       "True"
      ]
     },
     "execution_count": 173,
     "metadata": {},
     "output_type": "execute_result"
    }
   ],
   "source": [
    "False == 0\n"
   ]
  },
  {
   "cell_type": "code",
   "execution_count": 174,
   "metadata": {},
   "outputs": [
    {
     "data": {
      "text/plain": [
       "1.0"
      ]
     },
     "execution_count": 174,
     "metadata": {},
     "output_type": "execute_result"
    }
   ],
   "source": [
    "True + (False / True)"
   ]
  },
  {
   "cell_type": "markdown",
   "metadata": {},
   "source": [
    "## [Tuple](https://www.datacamp.com/community/tutorials/python-tuples-tutorial?utm_source=adwords_ppc&utm_medium=cpc&utm_campaignid=1455363063&utm_adgroupid=65083631748&utm_device=c&utm_keyword=&utm_matchtype=b&utm_network=g&utm_adpostion=&utm_creative=278443377092&utm_targetid=dsa-429603003980&utm_loc_interest_ms=&utm_loc_physical_ms=9060932&gclid=CjwKCAiAvriMBhAuEiwA8Cs5lSzvIp9Hmu0C0HearAmYt_xmqCwjL-nbi0j1e-WlDcBcm2owtmfvGBoCjhEQAvD_BwE)\n",
    "It is an ordered and unchangeable Python container. We cannot change, add or remove items after the tuple has been created. Tuple items are ordered, unchangeable, and allow duplicate values."
   ]
  },
  {
   "cell_type": "code",
   "execution_count": 32,
   "metadata": {
    "scrolled": true
   },
   "outputs": [
    {
     "ename": "TypeError",
     "evalue": "'tuple' object does not support item assignment",
     "output_type": "error",
     "traceback": [
      "\u001b[1;31m---------------------------------------------------------------------------\u001b[0m",
      "\u001b[1;31mTypeError\u001b[0m                                 Traceback (most recent call last)",
      "\u001b[1;32m<ipython-input-32-93acb8aead4d>\u001b[0m in \u001b[0;36m<module>\u001b[1;34m\u001b[0m\n\u001b[0;32m      1\u001b[0m \u001b[0mtuple1\u001b[0m \u001b[1;33m=\u001b[0m \u001b[1;33m(\u001b[0m\u001b[1;36m1\u001b[0m\u001b[1;33m,\u001b[0m\u001b[1;36m3\u001b[0m \u001b[1;33m,\u001b[0m\u001b[1;36m3\u001b[0m \u001b[1;33m,\u001b[0m\u001b[1;36m5\u001b[0m\u001b[1;33m,\u001b[0m \u001b[1;36m10\u001b[0m\u001b[1;33m)\u001b[0m\u001b[1;33m\u001b[0m\u001b[1;33m\u001b[0m\u001b[0m\n\u001b[0;32m      2\u001b[0m \u001b[1;31m# I want to change the value in the index 1\u001b[0m\u001b[1;33m\u001b[0m\u001b[1;33m\u001b[0m\u001b[1;33m\u001b[0m\u001b[0m\n\u001b[1;32m----> 3\u001b[1;33m \u001b[0mtuple1\u001b[0m\u001b[1;33m[\u001b[0m\u001b[1;36m1\u001b[0m\u001b[1;33m]\u001b[0m \u001b[1;33m=\u001b[0m \u001b[1;36m4\u001b[0m\u001b[1;33m\u001b[0m\u001b[1;33m\u001b[0m\u001b[0m\n\u001b[0m\u001b[0;32m      4\u001b[0m \u001b[1;31m# It is not possible\u001b[0m\u001b[1;33m\u001b[0m\u001b[1;33m\u001b[0m\u001b[1;33m\u001b[0m\u001b[0m\n\u001b[0;32m      5\u001b[0m \u001b[1;31m# to change values\u001b[0m\u001b[1;33m\u001b[0m\u001b[1;33m\u001b[0m\u001b[1;33m\u001b[0m\u001b[0m\n",
      "\u001b[1;31mTypeError\u001b[0m: 'tuple' object does not support item assignment"
     ]
    }
   ],
   "source": [
    "tuple1 = (1,3 ,3 ,5, 10)\n",
    "# I want to change the value in the index 1\n",
    "tuple1[1] = 4\n",
    "# It is not possible\n",
    "# to change values"
   ]
  },
  {
   "cell_type": "markdown",
   "metadata": {},
   "source": [
    "| Method \t| Definition \t|\n",
    "|---\t|---\t|\n",
    "| count() | Returns the number of times <br> a specified value occurs in a tuple \t|\n",
    "| index() |\tSearches the tuple for a specified value <br> and returns the position of where it was found \t|\n"
   ]
  },
  {
   "cell_type": "code",
   "execution_count": 33,
   "metadata": {},
   "outputs": [
    {
     "name": "stdout",
     "output_type": "stream",
     "text": [
      "(1, 3, 3, 5, 10)\n"
     ]
    },
    {
     "data": {
      "text/plain": [
       "2"
      ]
     },
     "execution_count": 33,
     "metadata": {},
     "output_type": "execute_result"
    }
   ],
   "source": [
    "# count\n",
    "print( tuple1 )\n",
    "tuple1.count( 3 )"
   ]
  },
  {
   "cell_type": "code",
   "execution_count": 34,
   "metadata": {},
   "outputs": [
    {
     "name": "stdout",
     "output_type": "stream",
     "text": [
      "(1, 3, 3, 5, 10)\n"
     ]
    },
    {
     "data": {
      "text/plain": [
       "1"
      ]
     },
     "execution_count": 34,
     "metadata": {},
     "output_type": "execute_result"
    }
   ],
   "source": [
    "# index\n",
    "print( tuple1 )\n",
    "tuple1.index( 3 )"
   ]
  },
  {
   "cell_type": "markdown",
   "metadata": {},
   "source": [
    "| Function \t| Definition \t|\n",
    "| --- \t| --- \t|\n",
    "| type(tuple) \t| It returns the class type of an object. \t|\n",
    "| max(tuple) \t| It returns an item from the tuple with max value. \t|\n",
    "| min(tuple) \t| It returns an item from the tuple with min value. \t|\n",
    "| len(tuple) \t| It gives the total length of the tuple. \t|\n",
    "| tuple( list ) \t| Converts a list into a tuple. \t|"
   ]
  },
  {
   "cell_type": "code",
   "execution_count": 29,
   "metadata": {},
   "outputs": [
    {
     "name": "stdout",
     "output_type": "stream",
     "text": [
      "10\n"
     ]
    }
   ],
   "source": [
    "# Max value\n",
    "print( max(tuple1) )"
   ]
  },
  {
   "cell_type": "code",
   "execution_count": 28,
   "metadata": {},
   "outputs": [
    {
     "name": "stdout",
     "output_type": "stream",
     "text": [
      "5\n"
     ]
    }
   ],
   "source": [
    "# Length\n",
    "print( len(tuple1) )"
   ]
  },
  {
   "cell_type": "code",
   "execution_count": 30,
   "metadata": {},
   "outputs": [
    {
     "name": "stdout",
     "output_type": "stream",
     "text": [
      "1\n"
     ]
    }
   ],
   "source": [
    "# Min value\n",
    "print( min(tuple1) )"
   ]
  },
  {
   "cell_type": "code",
   "execution_count": 37,
   "metadata": {},
   "outputs": [
    {
     "name": "stdout",
     "output_type": "stream",
     "text": [
      "<class 'list'>\n",
      "<class 'tuple'>\n",
      "(2, 3, 4)\n"
     ]
    }
   ],
   "source": [
    "# Min value\n",
    "a = [2 , 3, 4]\n",
    "print( type( a ) )\n",
    "b = tuple(a)\n",
    "print( type( b ) )\n",
    "print( b )"
   ]
  },
  {
   "cell_type": "markdown",
   "metadata": {},
   "source": [
    "## [Lists](https://www.freecodecamp.org/news/lists-in-python-comprehensive-guide/)\n",
    "It is an ordered and mutable Python container. Its itmes are orderd, changeable, and allow duplicate values and different type of objects. Finally, every item has index because lists have a defined order."
   ]
  },
  {
   "cell_type": "markdown",
   "metadata": {},
   "source": [
    "| Method \t| Definition \t|\n",
    "|---\t|---\t|\n",
    "| sort() \t| Sorts the list in ascending order. \t|\n",
    "| append() \t| Adds a single element to a list. <br> This element will be located at the end of the list. \t|\n",
    "| extend() \t| Adds multiple elements to a list. \t|\n",
    "| index() \t| Returns the first appearance of the specified value. \t|\n"
   ]
  },
  {
   "cell_type": "code",
   "execution_count": 5,
   "metadata": {},
   "outputs": [
    {
     "name": "stdout",
     "output_type": "stream",
     "text": [
      "<class 'list'>\n",
      "<class 'str'>\n"
     ]
    }
   ],
   "source": [
    "# We use brackets to create a list\n",
    "a = [ 18, 20 , 30, \"alex\" ]\n",
    "print( type( a ) )\n",
    "print( type( a[-1] ) )"
   ]
  },
  {
   "cell_type": "code",
   "execution_count": null,
   "metadata": {},
   "outputs": [],
   "source": [
    "b = [ 3, 13, 2, 56, 76, 16]\n",
    "b.sort()\n",
    "print( b )"
   ]
  },
  {
   "cell_type": "code",
   "execution_count": null,
   "metadata": {},
   "outputs": [],
   "source": [
    "b.append( 87 )\n",
    "print( b )"
   ]
  },
  {
   "cell_type": "code",
   "execution_count": null,
   "metadata": {},
   "outputs": [],
   "source": [
    "b.extend( [ 19, 25, 76 ] )\n",
    "print( b )"
   ]
  },
  {
   "cell_type": "code",
   "execution_count": 10,
   "metadata": {},
   "outputs": [
    {
     "name": "stdout",
     "output_type": "stream",
     "text": [
      "[2, 3, 13, 16, 56, 76]\n",
      "[2, 3, 13, 16, 56, 76, 87]\n",
      "[2, 3, 13, 16, 56, 76, 87, 19, 25, 76]\n",
      "5\n"
     ]
    }
   ],
   "source": [
    "# Python uses 0-based indexing\n",
    "print( b.index( 76 ) )"
   ]
  },
  {
   "cell_type": "markdown",
   "metadata": {},
   "source": [
    "| Function \t| Definition \t|\n",
    "| --- \t| --- \t|\n",
    "| type(list) \t| It returns the class type of an object. \t|\n",
    "| max(list) \t| It returns an item from the list with max value. \t|\n",
    "| min(list) \t| It returns an item from the list with min value. \t|\n",
    "| len(list) \t| It gives the total length of the list. \t|\n",
    "| list(seq) \t| Converts a tuple into a list. \t|"
   ]
  },
  {
   "cell_type": "code",
   "execution_count": 11,
   "metadata": {},
   "outputs": [
    {
     "name": "stdout",
     "output_type": "stream",
     "text": [
      "[2, 3, 13, 16, 56, 76, 87, 19, 25, 76]\n",
      "<class 'list'>\n"
     ]
    }
   ],
   "source": [
    "# type of object\n",
    "print( b )\n",
    "print( type( b ) )"
   ]
  },
  {
   "cell_type": "code",
   "execution_count": 12,
   "metadata": {},
   "outputs": [
    {
     "name": "stdout",
     "output_type": "stream",
     "text": [
      "[2, 3, 13, 16, 56, 76, 87, 19, 25, 76]\n",
      "87\n"
     ]
    }
   ],
   "source": [
    "# max\n",
    "print( b )\n",
    "print( max( b ) )"
   ]
  },
  {
   "cell_type": "code",
   "execution_count": 13,
   "metadata": {},
   "outputs": [
    {
     "name": "stdout",
     "output_type": "stream",
     "text": [
      "[2, 3, 13, 16, 56, 76, 87, 19, 25, 76]\n",
      "2\n"
     ]
    }
   ],
   "source": [
    "# min\n",
    "print( b )\n",
    "print( min( b ) )"
   ]
  },
  {
   "cell_type": "code",
   "execution_count": 14,
   "metadata": {},
   "outputs": [
    {
     "name": "stdout",
     "output_type": "stream",
     "text": [
      "[2, 3, 13, 16, 56, 76, 87, 19, 25, 76]\n",
      "10\n"
     ]
    }
   ],
   "source": [
    "# length of a list\n",
    "print( b )\n",
    "print( len( b ) )"
   ]
  },
  {
   "cell_type": "code",
   "execution_count": 16,
   "metadata": {},
   "outputs": [
    {
     "name": "stdout",
     "output_type": "stream",
     "text": [
      "(4, 6)\n",
      "<class 'tuple'>\n",
      "[4, 6]\n",
      "<class 'list'>\n"
     ]
    }
   ],
   "source": [
    "# length of a list\n",
    "a = ( 4 , 6 )\n",
    "print( a )\n",
    "print( type( a ) )\n",
    "\n",
    "c = list( a )\n",
    "print( c )\n",
    "print( type( c ) )"
   ]
  },
  {
   "cell_type": "markdown",
   "metadata": {},
   "source": [
    "## [Dictionaries](https://realpython.com/python-dicts/)\n",
    "\n",
    "It is a ordered (Python >= 3.7) and mutable Python container. It does not allow duplicate key. They must be unique."
   ]
  },
  {
   "cell_type": "markdown",
   "metadata": {},
   "source": [
    "| Method \t| Definition \t|\n",
    "| --- \t| --- \t|\n",
    "|clear()|\tRemoves all the elements from the dictionary|\n",
    "|copy() |\tReturns a copy of the dictionary|\n",
    "|fromkeys() |\tReturns a dictionary with the specified keys and value|\n",
    "|get() |\tReturns the value of the specified key|\n",
    "|items() |\tReturns a list containing a tuple for each key value pair|\n",
    "|keys() | Returns a list containing the dictionary's keys|\n",
    "|pop() | Removes the element with the specified key|\n",
    "|popitem() | Removes the last inserted key-value pair|\n",
    "|setdefault() | Returns the value of the specified key. <br> If the key does not exist: insert the key, with the specified value|\n",
    "|update() |\tUpdates the dictionary with the specified key-value pairs |\n",
    "|values() | Returns a list of all the values in the dictionary|"
   ]
  },
  {
   "cell_type": "code",
   "execution_count": 39,
   "metadata": {},
   "outputs": [],
   "source": [
    "# dictionary containing the population of the 5 largest german cities\n",
    "population = {'Berlin': 3748148, 'Hamburg': 1822445, 'Munich': 1471508, 'Cologne': 1085664, 'Frankfurt': 753056 }"
   ]
  },
  {
   "cell_type": "code",
   "execution_count": 40,
   "metadata": {},
   "outputs": [
    {
     "name": "stdout",
     "output_type": "stream",
     "text": [
      "{'Berlin': 3748148, 'Hamburg': 1822445, 'Munich': 1471508, 'Cologne': 1085664, 'Frankfurt': 753056}\n",
      "{}\n"
     ]
    }
   ],
   "source": [
    "# clear\n",
    "print( population )\n",
    "population.clear()\n",
    "print( population )"
   ]
  },
  {
   "cell_type": "code",
   "execution_count": 42,
   "metadata": {},
   "outputs": [
    {
     "name": "stdout",
     "output_type": "stream",
     "text": [
      "{'Berlin': 3748148, 'Hamburg': 1822445, 'Munich': 1471508, 'Cologne': 1085664, 'Frankfurt': 753056}\n",
      "{'Berlin': 3748148, 'Hamburg': 1822445, 'Munich': 1471508, 'Cologne': 1085664, 'Frankfurt': 753056}\n"
     ]
    }
   ],
   "source": [
    "population = {'Berlin': 3748148, 'Hamburg': 1822445, \n",
    "              'Munich': 1471508, 'Cologne': 1085664, \n",
    "              'Frankfurt': 753056 }\n",
    "pop2 = population.copy()\n",
    "print( population )\n",
    "print( pop2 )"
   ]
  },
  {
   "cell_type": "code",
   "execution_count": 47,
   "metadata": {},
   "outputs": [
    {
     "data": {
      "text/plain": [
       "{'Berlin': None, 'Munich': None}"
      ]
     },
     "execution_count": 47,
     "metadata": {},
     "output_type": "execute_result"
    }
   ],
   "source": [
    "# Get information from keys\n",
    "population.fromkeys( ['Berlin' , 'Munich'] )"
   ]
  },
  {
   "cell_type": "code",
   "execution_count": 49,
   "metadata": {},
   "outputs": [
    {
     "name": "stdout",
     "output_type": "stream",
     "text": [
      "{'Berlin': 3748148, 'Hamburg': 1822445, 'Munich': 1471508, 'Cologne': 1085664, 'Frankfurt': 753056}\n"
     ]
    },
    {
     "data": {
      "text/plain": [
       "3748148"
      ]
     },
     "execution_count": 49,
     "metadata": {},
     "output_type": "execute_result"
    }
   ],
   "source": [
    "# Get information from key\n",
    "print( population ) \n",
    "population.get('Berlin')"
   ]
  },
  {
   "cell_type": "code",
   "execution_count": 51,
   "metadata": {},
   "outputs": [
    {
     "name": "stdout",
     "output_type": "stream",
     "text": [
      "{'Berlin': 3748148, 'Hamburg': 1822445, 'Munich': 1471508, 'Cologne': 1085664, 'Frankfurt': 753056}\n"
     ]
    },
    {
     "data": {
      "text/plain": [
       "dict_items([('Berlin', 3748148), ('Hamburg', 1822445), ('Munich', 1471508), ('Cologne', 1085664), ('Frankfurt', 753056)])"
      ]
     },
     "execution_count": 51,
     "metadata": {},
     "output_type": "execute_result"
    }
   ],
   "source": [
    "# Get information from key\n",
    "print( population ) \n",
    "population.items()"
   ]
  },
  {
   "cell_type": "code",
   "execution_count": 52,
   "metadata": {},
   "outputs": [
    {
     "name": "stdout",
     "output_type": "stream",
     "text": [
      "{'Berlin': 3748148, 'Hamburg': 1822445, 'Munich': 1471508, 'Cologne': 1085664, 'Frankfurt': 753056}\n"
     ]
    },
    {
     "data": {
      "text/plain": [
       "dict_keys(['Berlin', 'Hamburg', 'Munich', 'Cologne', 'Frankfurt'])"
      ]
     },
     "execution_count": 52,
     "metadata": {},
     "output_type": "execute_result"
    }
   ],
   "source": [
    "# Get information from key\n",
    "print( population ) \n",
    "print( population.keys() )\n",
    "# This list is useful when we \n",
    "# want to use a for loop"
   ]
  },
  {
   "cell_type": "code",
   "execution_count": 54,
   "metadata": {},
   "outputs": [
    {
     "name": "stdout",
     "output_type": "stream",
     "text": [
      "{'Berlin': 3748148, 'Hamburg': 1822445, 'Munich': 1471508, 'Cologne': 1085664, 'Frankfurt': 753056}\n",
      "{'Berlin': 3748148, 'Munich': 1471508, 'Cologne': 1085664, 'Frankfurt': 753056}\n"
     ]
    }
   ],
   "source": [
    "# Drop a key\n",
    "print( population )\n",
    "population.pop( 'Hamburg' )\n",
    "print( population )"
   ]
  },
  {
   "cell_type": "code",
   "execution_count": 55,
   "metadata": {},
   "outputs": [
    {
     "name": "stdout",
     "output_type": "stream",
     "text": [
      "{'Berlin': 3748148, 'Munich': 1471508, 'Cologne': 1085664}\n"
     ]
    }
   ],
   "source": [
    "# Drop an item\n",
    "population.popitem( )\n",
    "print( population )"
   ]
  },
  {
   "cell_type": "code",
   "execution_count": 68,
   "metadata": {},
   "outputs": [],
   "source": [
    "# Drop an item\n",
    "population.setdefault( 'Cologne' )\n",
    "population.setdefault( 'Leipzig' ) \n",
    "print(population)"
   ]
  },
  {
   "cell_type": "code",
   "execution_count": 73,
   "metadata": {},
   "outputs": [
    {
     "name": "stdout",
     "output_type": "stream",
     "text": [
      "{'Berlin': 3748148, 'Munich': 1471508, 'Cologne': 1085664, 'Leipzig': None, ('Leipzig', 5): None}\n",
      "{'Berlin': 3748148, 'Munich': 1471508, 'Cologne': 1085664, 'Leipzig': None, ('Leipzig', 5): None, 'Bonn': 327258}\n"
     ]
    }
   ],
   "source": [
    "# Add new items\n",
    "print( population )\n",
    "population.update( { \"Bonn\" :  327258 } )\n",
    "print( population )"
   ]
  },
  {
   "cell_type": "code",
   "execution_count": 78,
   "metadata": {},
   "outputs": [
    {
     "data": {
      "text/plain": [
       "dict_values([3748148, 1471508, 1085664, None, None, 327258])"
      ]
     },
     "execution_count": 78,
     "metadata": {},
     "output_type": "execute_result"
    }
   ],
   "source": [
    "# Get all values from all keys\n",
    "population.values()"
   ]
  },
  {
   "cell_type": "markdown",
   "metadata": {},
   "source": [
    "#### From lists to dictionaries"
   ]
  },
  {
   "cell_type": "code",
   "execution_count": null,
   "metadata": {},
   "outputs": [],
   "source": [
    "# keys\n",
    "cities = ['Fray Martin','Santa Rosa de Puquio','Cuchicorral','Santiago de Punchauca','La Cruz (11 Amigos)','Cerro Cañon','Cabaña Suche','San Lorenzo','Jose Carlos Mariategui','Pascal','La Esperanza','Fundo Pancha Paula','Olfa','Rio Seco','Paraiso','El Rosario','Cerro Puquio','La Campana','Las Animas','Vetancio','Roma Alta','San Jose','San Pedro de Carabayllo','Huacoy','Fundo Pampa Libre','Ex Fundo Santa Ines','Reposo','Carmelito','Santa Elena','Don Luis','Santa Ines Parcela','Asociacion Santa Ines','Roma Baja','Residencial Santa Lucia','San Francisco','Santa Margarita - Molinos','Sipan Peru','Fundo Cuadros','Bello Horizonte','El Hueco','Ex Fundo Mariategui','Naranjito','Vista Hermosa','El Sabroso de Jose Carlos Mariategui','Granja Carabayllo','Agropecuario Valle el Chillon','Camino Real','Copacabana','El Trebol','Tablada la Virgen','San Fernando de Carabayllo','San Fernando de Copacabana','La Manzana','Chacra Grande','Torres de Copacabana','San Pedro de Carabayllo','San Lorenzo','Chaclacayo','Chorrillos','Cieneguilla','Lindero','Pichicato','San Isidro','San Vicente','Piedra Liza','Santa Rosa de Chontay (Chontay)','La Libertad','El Agustino','Independencia','Jesus Maria','La Molina','La Victoria','Lince','Las Palmeras','Chosica','Lurin','Los Almacigos','Rinconada del Puruhuay','Fundo Santa Genoveva','Los Maderos','Casco Viejo','Vista Alegre','Buena Vista Alta','Lomas Pucara','Fundo la Querencia','Magdalena del Mar','Pueblo Libre','Miraflores','Pachacamac','Puente Manchay','Tambo Inga','Pampa Flores','Manchay Alto Lote B','Invasion Cementerio','Manchay Bajo','Santa Rosa de Mal Paso','Cardal','Jatosisa','Tomina','Pucusana','Honda','Quipa','Los Pelicanos','Playa Puerto Bello','Ñaves','Granja Santa Elena','Alvatroz II','Poseidon - Lobo Varado','Playa Minka Mar','Playa Acantilado','Puente Piedra','Punta Hermosa','Capilla Lucumo','Cucuya','Pampapacta','Avicola San Cirilo de Loma Negra - 03','Avicola San Cirilo de Loma Negra - 02','Avicola San Cirilo de Loma Negra - 01','Pampa Mamay','Cerro Botija','Agricultores y Ganaderos','Pampa Malanche Avicola Puma','Punta Negra','Chancheria','Rimac','San Bartolo','Plantel 41','Granja 4','Granja 5','Granja 07','Granja 44','Granja 47','Santa Maria I','Las Torres Santa Fe','San Francisco de Borja','San Isidro','San Juan de Lurigancho','Ciudad de Dios','San Luis','Barrio Obrero Industrial','San Miguel','Santa Anita - los Ficus','Santa Maria del Mar','Don Bruno','Santa Rosa','Santiago de Surco','Surquillo','Villa el Salvador','Villa Maria del Triunfo']\n",
    "# values\n",
    "postal_code=[15001,15003,15004,15006,15018,15019,15046,15072,15079,15081,15082,15083,15088,15123,15004,15011,15012,15019,15022,15023,15026,15476,15479,15483,15487,15491,15494,15498,15047,15049,15063,15082,15083,15121,15122,15313,15316,15318,15319,15320,15321,15324,15320,15320,15320,15320,15320,15320,15121,15320,15320,15121,15320,15320,15121,15121,15122,15122,15121,15121,15121,15320,15320,15320,15320,15320,15320,15121,15121,15121,15320,15121,15319,15121,15121,15121,15320,15320,15121,15121,15121,15121,15320,15320,15320,15122,15122,15122,15122,15122,15122,15122,15122,15121,15121,15122,15122,15121,15121,15122,15122,15121,15122,15122,15122,15472,15476,15054,15056,15057,15058,15063,15064,15066,15067,15593,15594,15593,15593,15593,15593,15593,15593,15593,15311,15312,15313,15314,15316,15324,15326,15327,15328,15332,15003,15004,15006,15007,15008,15009,15011,15018,15022,15311,15328,15331,15332,15333,15046]\n",
    "\n",
    "# Return a dictionarie\n",
    "ct_pc = dict( zip( cities , postal_code ) )\n",
    "print( ct_pc )"
   ]
  },
  {
   "cell_type": "markdown",
   "metadata": {},
   "source": [
    "### Excersises\n",
    "1. Write a Python script to check whether Lima is a key of ct_pc.\n",
    "2. Write a Python script to join two Python dictionaries.\n",
    "3. Write a Python script to add a key to a dictionary."
   ]
  },
  {
   "cell_type": "markdown",
   "metadata": {},
   "source": [
    "## [Numpy](https://numpy.org/doc/stable/user/numpy-for-matlab-users.html)\n",
    "Numpy is the core library for scientific computing in Python. It provides a high-performance multidimensional array object, and tools for working with these arrays. If you are already familiar with MATLAB, you might find this tutorial useful to get started with Numpy."
   ]
  },
  {
   "cell_type": "markdown",
   "metadata": {},
   "source": [
    "### Arrays\n",
    "A numpy array is a grid of values, all of the same type, and is indexed by a tuple of nonnegative integers. The number of dimensions is the rank of the array; the shape of an array is a tuple of integers giving the size of the array along each dimension."
   ]
  },
  {
   "cell_type": "code",
   "execution_count": 90,
   "metadata": {},
   "outputs": [
    {
     "name": "stdout",
     "output_type": "stream",
     "text": [
      "[1 2 3 4 5]\n",
      "[[1 2 3]\n",
      " [4 5 6]]\n"
     ]
    }
   ],
   "source": [
    "import numpy as np\n",
    "\n",
    "# 1D array\n",
    "a = np.array([1,2,3,4,5])\n",
    "print(a)\n",
    "\n",
    "# 2D array\n",
    "M = np.array([[1,2,3],[4,5,6]])\n",
    "print(M)"
   ]
  },
  {
   "cell_type": "markdown",
   "metadata": {},
   "source": [
    "|Function|\tDescription|\n",
    "| --- |--- |\n",
    "|np.array(a) |\tCreate -dimensional np array from sequence a|\n",
    "|np.linspace(a,b,N) |\tCreate 1D np array with N equally spaced values <br> from a to b (inclusively)|\n",
    "|np.arange(a,b,step) |\tCreate 1D np array with values from a to b (exclusively) <br> incremented by step|\n",
    "|np.zeros(N)\t| Create 1D np array of zeros of length |\n",
    "|np.zeros((n,m)) |\tCreate 2D np array of zeros with  rows and  columns|\n",
    "|np.ones(N) |\tCreate 1D np array of ones of length |\n",
    "|np.ones((n,m))|\tCreate 2D np array of ones with  rows and  columns|\n",
    "|np.eye(N)\t| Create 2D np array with  rows and  columns  <br> with ones on the diagonal  (ie. the identity matrix of size )|\n",
    "|np.concatenate( )|Join a sequence of arrays along an existing axis|\n",
    "|np.hstack( )|Stack arrays in sequence horizontally(column wise)|\n",
    "|np.vstack( )|Stack arrays in sequence vertically(row wise)|\n",
    "|np.column_stack( )|Stack 1-D arrays as columns into a 2-D array|\n",
    "|np.random.normal() | Draw random samples from a normal (Gaussian) distribution. |\n",
    "|np.linalg.inv() | Compute the (multiplicative) inverse of a matrix. |\n",
    "|np.dot() / @  | Matrix Multiplication. |"
   ]
  },
  {
   "cell_type": "code",
   "execution_count": 91,
   "metadata": {},
   "outputs": [
    {
     "name": "stdout",
     "output_type": "stream",
     "text": [
      "[0.  0.1 0.2 0.3 0.4 0.5 0.6 0.7 0.8 0.9 1. ]\n"
     ]
    }
   ],
   "source": [
    "# Create a 1D NumPy array with 11 equally spaced values from 0 to 1:\n",
    "x = np.linspace(0,1,11)\n",
    "print(x)"
   ]
  },
  {
   "cell_type": "code",
   "execution_count": 92,
   "metadata": {},
   "outputs": [
    {
     "name": "stdout",
     "output_type": "stream",
     "text": [
      "[ 0.   2.5  5.   7.5 10.  12.5 15.  17.5]\n"
     ]
    }
   ],
   "source": [
    "# Create a 1D NumPy array with values from 0 to 20 (exclusively) incremented by 2.5:\n",
    "y = np.arange(0,20,2.5)\n",
    "print(y)"
   ]
  },
  {
   "cell_type": "code",
   "execution_count": 94,
   "metadata": {},
   "outputs": [
    {
     "name": "stdout",
     "output_type": "stream",
     "text": [
      "[0. 0. 0. 0. 0.]\n",
      "[[0. 0. 0. 0. 0.]\n",
      " [0. 0. 0. 0. 0.]]\n"
     ]
    }
   ],
   "source": [
    "# Create a 1D NumPy array of zeros of length 5:\n",
    "z = np.zeros(5)\n",
    "print(z)\n",
    "\n",
    "# Create a 2D NumPy array of zeros of shape ( 2, 5 ) :\n",
    "M = np.zeros((2,5))\n",
    "print(M)"
   ]
  },
  {
   "cell_type": "code",
   "execution_count": 95,
   "metadata": {},
   "outputs": [
    {
     "name": "stdout",
     "output_type": "stream",
     "text": [
      "[1. 1. 1. 1. 1. 1. 1.]\n",
      "[[1. 1.]\n",
      " [1. 1.]\n",
      " [1. 1.]]\n"
     ]
    }
   ],
   "source": [
    "# Create a 1D NumPy array of ones of length 7:\n",
    "w = np.ones(7)\n",
    "print(w)\n",
    "\n",
    "# Create a 2D NumPy array of ones with 3 rows and 2 columns:\n",
    "N = np.ones((3,2))\n",
    "print(N)"
   ]
  },
  {
   "cell_type": "code",
   "execution_count": 96,
   "metadata": {},
   "outputs": [
    {
     "name": "stdout",
     "output_type": "stream",
     "text": [
      "[[1. 0. 0. 0. 0. 0. 0. 0. 0. 0.]\n",
      " [0. 1. 0. 0. 0. 0. 0. 0. 0. 0.]\n",
      " [0. 0. 1. 0. 0. 0. 0. 0. 0. 0.]\n",
      " [0. 0. 0. 1. 0. 0. 0. 0. 0. 0.]\n",
      " [0. 0. 0. 0. 1. 0. 0. 0. 0. 0.]\n",
      " [0. 0. 0. 0. 0. 1. 0. 0. 0. 0.]\n",
      " [0. 0. 0. 0. 0. 0. 1. 0. 0. 0.]\n",
      " [0. 0. 0. 0. 0. 0. 0. 1. 0. 0.]\n",
      " [0. 0. 0. 0. 0. 0. 0. 0. 1. 0.]\n",
      " [0. 0. 0. 0. 0. 0. 0. 0. 0. 1.]]\n"
     ]
    }
   ],
   "source": [
    "# Create the identity matrix of size 10:\n",
    "I = np.eye(10)\n",
    "print(I)"
   ]
  },
  {
   "cell_type": "code",
   "execution_count": 99,
   "metadata": {},
   "outputs": [
    {
     "name": "stdout",
     "output_type": "stream",
     "text": [
      "(10, 10)\n",
      "100\n"
     ]
    }
   ],
   "source": [
    "# Shape\n",
    "print( I.shape )\n",
    "\n",
    "# Size\n",
    "print(I.size)"
   ]
  },
  {
   "cell_type": "code",
   "execution_count": 107,
   "metadata": {},
   "outputs": [
    {
     "name": "stdout",
     "output_type": "stream",
     "text": [
      "[[5 6]\n",
      " [7 8]] \n",
      "\n",
      "[[1 2]] \n",
      "\n",
      "[[5 6]\n",
      " [7 8]\n",
      " [1 2]]\n"
     ]
    }
   ],
   "source": [
    "# Concateante\n",
    "g = np.array([[5,6],[7,8]])\n",
    "h = np.array([[1,2]])\n",
    "print(g, \"\\n\")\n",
    "print(h , \"\\n\")\n",
    "g_h = np.concatenate((g,h), axis = 0)\n",
    "print( g_h )"
   ]
  },
  {
   "cell_type": "code",
   "execution_count": 103,
   "metadata": {},
   "outputs": [
    {
     "name": "stdout",
     "output_type": "stream",
     "text": [
      "[[1 1 1]\n",
      " [2 2 2]\n",
      " [3 3 3]]\n",
      "[1 1 1 2 2 2 3 3 3]\n"
     ]
    }
   ],
   "source": [
    "# vstack \n",
    "x = np.array([1,1,1])\n",
    "y = np.array([2,2,2])\n",
    "z = np.array([3,3,3])\n",
    "vstacked = np.vstack((x,y,z))\n",
    "print(vstacked)\n",
    "\n",
    "# hstack \n",
    "hstacked = np.hstack((x,y,z))\n",
    "print(hstacked)\n"
   ]
  },
  {
   "cell_type": "markdown",
   "metadata": {},
   "source": [
    "### OLS with Numpy"
   ]
  },
  {
   "cell_type": "code",
   "execution_count": 129,
   "metadata": {},
   "outputs": [
    {
     "data": {
      "text/plain": [
       "(200, 1)"
      ]
     },
     "execution_count": 129,
     "metadata": {},
     "output_type": "execute_result"
    }
   ],
   "source": [
    "x0.reshape(-1, 1).shape"
   ]
  },
  {
   "cell_type": "code",
   "execution_count": 130,
   "metadata": {},
   "outputs": [
    {
     "data": {
      "text/plain": [
       "(200, 2)"
      ]
     },
     "execution_count": 130,
     "metadata": {},
     "output_type": "execute_result"
    }
   ],
   "source": [
    "# X data generation\n",
    "n_data = 200\n",
    "x1 = np.linspace(200, 500, n_data)\n",
    "x0 = np.ones(n_data)\n",
    "X = np.hstack(( x0.reshape(-1, 1 ) , x1.reshape(-1, 1 ) ))\n",
    "X.shape"
   ]
  },
  {
   "cell_type": "code",
   "execution_count": 131,
   "metadata": {},
   "outputs": [
    {
     "data": {
      "text/plain": [
       "(2, 1)"
      ]
     },
     "execution_count": 131,
     "metadata": {},
     "output_type": "execute_result"
    }
   ],
   "source": [
    "# select parameters\n",
    "beta = np.array([5, -2]).reshape(-1, 1 )\n",
    "beta.shape"
   ]
  },
  {
   "cell_type": "code",
   "execution_count": 133,
   "metadata": {},
   "outputs": [
    {
     "data": {
      "text/plain": [
       "(200, 1)"
      ]
     },
     "execution_count": 133,
     "metadata": {},
     "output_type": "execute_result"
    }
   ],
   "source": [
    "# y ture\n",
    "y_true = X @ beta\n",
    "y_true.shape"
   ]
  },
  {
   "cell_type": "code",
   "execution_count": 137,
   "metadata": {},
   "outputs": [
    {
     "data": {
      "text/plain": [
       "array([[-395.        ],\n",
       "       [-398.01507538],\n",
       "       [-401.03015075],\n",
       "       [-404.04522613],\n",
       "       [-407.06030151],\n",
       "       [-410.07537688],\n",
       "       [-413.09045226],\n",
       "       [-416.10552764],\n",
       "       [-419.12060302],\n",
       "       [-422.13567839],\n",
       "       [-425.15075377],\n",
       "       [-428.16582915],\n",
       "       [-431.18090452],\n",
       "       [-434.1959799 ],\n",
       "       [-437.21105528],\n",
       "       [-440.22613065],\n",
       "       [-443.24120603],\n",
       "       [-446.25628141],\n",
       "       [-449.27135678],\n",
       "       [-452.28643216],\n",
       "       [-455.30150754],\n",
       "       [-458.31658291],\n",
       "       [-461.33165829],\n",
       "       [-464.34673367],\n",
       "       [-467.36180905],\n",
       "       [-470.37688442],\n",
       "       [-473.3919598 ],\n",
       "       [-476.40703518],\n",
       "       [-479.42211055],\n",
       "       [-482.43718593],\n",
       "       [-485.45226131],\n",
       "       [-488.46733668],\n",
       "       [-491.48241206],\n",
       "       [-494.49748744],\n",
       "       [-497.51256281],\n",
       "       [-500.52763819],\n",
       "       [-503.54271357],\n",
       "       [-506.55778894],\n",
       "       [-509.57286432],\n",
       "       [-512.5879397 ],\n",
       "       [-515.60301508],\n",
       "       [-518.61809045],\n",
       "       [-521.63316583],\n",
       "       [-524.64824121],\n",
       "       [-527.66331658],\n",
       "       [-530.67839196],\n",
       "       [-533.69346734],\n",
       "       [-536.70854271],\n",
       "       [-539.72361809],\n",
       "       [-542.73869347],\n",
       "       [-545.75376884],\n",
       "       [-548.76884422],\n",
       "       [-551.7839196 ],\n",
       "       [-554.79899497],\n",
       "       [-557.81407035],\n",
       "       [-560.82914573],\n",
       "       [-563.84422111],\n",
       "       [-566.85929648],\n",
       "       [-569.87437186],\n",
       "       [-572.88944724],\n",
       "       [-575.90452261],\n",
       "       [-578.91959799],\n",
       "       [-581.93467337],\n",
       "       [-584.94974874],\n",
       "       [-587.96482412],\n",
       "       [-590.9798995 ],\n",
       "       [-593.99497487],\n",
       "       [-597.01005025],\n",
       "       [-600.02512563],\n",
       "       [-603.04020101],\n",
       "       [-606.05527638],\n",
       "       [-609.07035176],\n",
       "       [-612.08542714],\n",
       "       [-615.10050251],\n",
       "       [-618.11557789],\n",
       "       [-621.13065327],\n",
       "       [-624.14572864],\n",
       "       [-627.16080402],\n",
       "       [-630.1758794 ],\n",
       "       [-633.19095477],\n",
       "       [-636.20603015],\n",
       "       [-639.22110553],\n",
       "       [-642.2361809 ],\n",
       "       [-645.25125628],\n",
       "       [-648.26633166],\n",
       "       [-651.28140704],\n",
       "       [-654.29648241],\n",
       "       [-657.31155779],\n",
       "       [-660.32663317],\n",
       "       [-663.34170854],\n",
       "       [-666.35678392],\n",
       "       [-669.3718593 ],\n",
       "       [-672.38693467],\n",
       "       [-675.40201005],\n",
       "       [-678.41708543],\n",
       "       [-681.4321608 ],\n",
       "       [-684.44723618],\n",
       "       [-687.46231156],\n",
       "       [-690.47738693],\n",
       "       [-693.49246231],\n",
       "       [-696.50753769],\n",
       "       [-699.52261307],\n",
       "       [-702.53768844],\n",
       "       [-705.55276382],\n",
       "       [-708.5678392 ],\n",
       "       [-711.58291457],\n",
       "       [-714.59798995],\n",
       "       [-717.61306533],\n",
       "       [-720.6281407 ],\n",
       "       [-723.64321608],\n",
       "       [-726.65829146],\n",
       "       [-729.67336683],\n",
       "       [-732.68844221],\n",
       "       [-735.70351759],\n",
       "       [-738.71859296],\n",
       "       [-741.73366834],\n",
       "       [-744.74874372],\n",
       "       [-747.7638191 ],\n",
       "       [-750.77889447],\n",
       "       [-753.79396985],\n",
       "       [-756.80904523],\n",
       "       [-759.8241206 ],\n",
       "       [-762.83919598],\n",
       "       [-765.85427136],\n",
       "       [-768.86934673],\n",
       "       [-771.88442211],\n",
       "       [-774.89949749],\n",
       "       [-777.91457286],\n",
       "       [-780.92964824],\n",
       "       [-783.94472362],\n",
       "       [-786.95979899],\n",
       "       [-789.97487437],\n",
       "       [-792.98994975],\n",
       "       [-796.00502513],\n",
       "       [-799.0201005 ],\n",
       "       [-802.03517588],\n",
       "       [-805.05025126],\n",
       "       [-808.06532663],\n",
       "       [-811.08040201],\n",
       "       [-814.09547739],\n",
       "       [-817.11055276],\n",
       "       [-820.12562814],\n",
       "       [-823.14070352],\n",
       "       [-826.15577889],\n",
       "       [-829.17085427],\n",
       "       [-832.18592965],\n",
       "       [-835.20100503],\n",
       "       [-838.2160804 ],\n",
       "       [-841.23115578],\n",
       "       [-844.24623116],\n",
       "       [-847.26130653],\n",
       "       [-850.27638191],\n",
       "       [-853.29145729],\n",
       "       [-856.30653266],\n",
       "       [-859.32160804],\n",
       "       [-862.33668342],\n",
       "       [-865.35175879],\n",
       "       [-868.36683417],\n",
       "       [-871.38190955],\n",
       "       [-874.39698492],\n",
       "       [-877.4120603 ],\n",
       "       [-880.42713568],\n",
       "       [-883.44221106],\n",
       "       [-886.45728643],\n",
       "       [-889.47236181],\n",
       "       [-892.48743719],\n",
       "       [-895.50251256],\n",
       "       [-898.51758794],\n",
       "       [-901.53266332],\n",
       "       [-904.54773869],\n",
       "       [-907.56281407],\n",
       "       [-910.57788945],\n",
       "       [-913.59296482],\n",
       "       [-916.6080402 ],\n",
       "       [-919.62311558],\n",
       "       [-922.63819095],\n",
       "       [-925.65326633],\n",
       "       [-928.66834171],\n",
       "       [-931.68341709],\n",
       "       [-934.69849246],\n",
       "       [-937.71356784],\n",
       "       [-940.72864322],\n",
       "       [-943.74371859],\n",
       "       [-946.75879397],\n",
       "       [-949.77386935],\n",
       "       [-952.78894472],\n",
       "       [-955.8040201 ],\n",
       "       [-958.81909548],\n",
       "       [-961.83417085],\n",
       "       [-964.84924623],\n",
       "       [-967.86432161],\n",
       "       [-970.87939698],\n",
       "       [-973.89447236],\n",
       "       [-976.90954774],\n",
       "       [-979.92462312],\n",
       "       [-982.93969849],\n",
       "       [-985.95477387],\n",
       "       [-988.96984925],\n",
       "       [-991.98492462],\n",
       "       [-995.        ]])"
      ]
     },
     "execution_count": 137,
     "metadata": {},
     "output_type": "execute_result"
    }
   ],
   "source": [
    "y_true"
   ]
  },
  {
   "cell_type": "code",
   "execution_count": 138,
   "metadata": {},
   "outputs": [
    {
     "data": {
      "text/plain": [
       "array([[ -398.56985893],\n",
       "       [ -403.56417909],\n",
       "       [ -391.69686521],\n",
       "       [ -409.82581553],\n",
       "       [ -416.62100285],\n",
       "       [ -459.70205008],\n",
       "       [ -403.6106381 ],\n",
       "       [ -401.46852602],\n",
       "       [ -425.84838843],\n",
       "       [ -454.46195794],\n",
       "       [ -404.37359838],\n",
       "       [ -419.92815402],\n",
       "       [ -435.79202225],\n",
       "       [ -435.77245889],\n",
       "       [ -427.51367349],\n",
       "       [ -458.98497877],\n",
       "       [ -462.80024048],\n",
       "       [ -449.14620677],\n",
       "       [ -439.11484064],\n",
       "       [ -485.28511391],\n",
       "       [ -427.31117088],\n",
       "       [ -444.10719876],\n",
       "       [ -456.99901149],\n",
       "       [ -442.89710138],\n",
       "       [ -461.42185873],\n",
       "       [ -474.05720334],\n",
       "       [ -478.04439928],\n",
       "       [ -467.90934771],\n",
       "       [ -482.13904747],\n",
       "       [ -474.66845646],\n",
       "       [ -503.56149475],\n",
       "       [ -490.29055001],\n",
       "       [ -500.274013  ],\n",
       "       [ -480.61886203],\n",
       "       [ -468.05137707],\n",
       "       [ -526.68231991],\n",
       "       [ -520.57242752],\n",
       "       [ -487.49656668],\n",
       "       [ -530.70864746],\n",
       "       [ -511.45998461],\n",
       "       [ -523.18422496],\n",
       "       [ -546.91341742],\n",
       "       [ -542.75439978],\n",
       "       [ -539.72537175],\n",
       "       [ -501.73328121],\n",
       "       [ -533.84503828],\n",
       "       [ -546.96098264],\n",
       "       [ -527.20940826],\n",
       "       [ -571.49998011],\n",
       "       [ -538.05376778],\n",
       "       [ -569.04284196],\n",
       "       [ -542.80339232],\n",
       "       [ -569.26438044],\n",
       "       [ -551.95928883],\n",
       "       [ -571.66401464],\n",
       "       [ -523.05202794],\n",
       "       [ -584.803889  ],\n",
       "       [ -536.38466506],\n",
       "       [ -550.61780332],\n",
       "       [ -590.25021867],\n",
       "       [ -545.3561014 ],\n",
       "       [ -570.96995113],\n",
       "       [ -605.53852166],\n",
       "       [ -601.80836685],\n",
       "       [ -600.65586482],\n",
       "       [ -592.38633971],\n",
       "       [ -595.64489174],\n",
       "       [ -607.04683965],\n",
       "       [ -589.61024979],\n",
       "       [ -583.84882904],\n",
       "       [ -603.48169365],\n",
       "       [ -629.70453621],\n",
       "       [ -656.0367379 ],\n",
       "       [ -614.27036401],\n",
       "       [ -644.15042707],\n",
       "       [ -596.62773701],\n",
       "       [ -577.90871831],\n",
       "       [ -607.88929214],\n",
       "       [ -645.52691532],\n",
       "       [ -622.22445786],\n",
       "       [ -621.57596253],\n",
       "       [ -628.4671574 ],\n",
       "       [ -652.94942923],\n",
       "       [ -622.1025844 ],\n",
       "       [ -654.35587798],\n",
       "       [ -650.97594085],\n",
       "       [ -665.95175944],\n",
       "       [ -618.22070547],\n",
       "       [ -663.54386838],\n",
       "       [ -662.90306204],\n",
       "       [ -676.17866836],\n",
       "       [ -686.92773439],\n",
       "       [ -684.37258612],\n",
       "       [ -662.96836583],\n",
       "       [ -690.42712865],\n",
       "       [ -675.86017623],\n",
       "       [ -682.16653453],\n",
       "       [ -683.84923286],\n",
       "       [ -672.57773519],\n",
       "       [ -721.09900656],\n",
       "       [ -672.00102188],\n",
       "       [ -649.17343473],\n",
       "       [ -682.40955951],\n",
       "       [ -696.75794663],\n",
       "       [ -710.29725767],\n",
       "       [ -679.95849838],\n",
       "       [ -714.50813114],\n",
       "       [ -749.77922178],\n",
       "       [ -725.96339145],\n",
       "       [ -723.19946786],\n",
       "       [ -714.42075181],\n",
       "       [ -752.66965977],\n",
       "       [ -713.59065704],\n",
       "       [ -713.00464695],\n",
       "       [ -737.87270309],\n",
       "       [ -771.35168869],\n",
       "       [ -742.19425977],\n",
       "       [ -746.44617007],\n",
       "       [ -768.63034025],\n",
       "       [ -750.08105683],\n",
       "       [ -757.53415146],\n",
       "       [ -761.57532548],\n",
       "       [ -776.55177783],\n",
       "       [ -781.47330302],\n",
       "       [ -755.2840401 ],\n",
       "       [ -738.91614041],\n",
       "       [ -743.92621227],\n",
       "       [ -802.63269143],\n",
       "       [ -737.89515583],\n",
       "       [ -797.83904316],\n",
       "       [ -776.12699152],\n",
       "       [ -786.9596826 ],\n",
       "       [ -795.39175667],\n",
       "       [ -812.34589552],\n",
       "       [ -793.10919132],\n",
       "       [ -810.17669966],\n",
       "       [ -801.36743774],\n",
       "       [ -802.38172861],\n",
       "       [ -804.38222991],\n",
       "       [ -778.99474406],\n",
       "       [ -806.66983862],\n",
       "       [ -820.76450979],\n",
       "       [ -808.43443143],\n",
       "       [ -805.28815474],\n",
       "       [ -810.0432853 ],\n",
       "       [ -849.64615231],\n",
       "       [ -820.65535381],\n",
       "       [ -820.28142818],\n",
       "       [ -833.35927306],\n",
       "       [ -842.38838976],\n",
       "       [ -838.02980941],\n",
       "       [ -826.4355003 ],\n",
       "       [ -851.92565525],\n",
       "       [ -839.71099727],\n",
       "       [ -852.47818256],\n",
       "       [ -873.60405102],\n",
       "       [ -879.76490198],\n",
       "       [ -857.73893494],\n",
       "       [ -849.65297789],\n",
       "       [ -889.54511731],\n",
       "       [ -873.54821903],\n",
       "       [ -884.24483579],\n",
       "       [ -894.50264429],\n",
       "       [ -874.00313559],\n",
       "       [ -906.09050834],\n",
       "       [ -884.61164947],\n",
       "       [ -907.09733754],\n",
       "       [ -862.95928491],\n",
       "       [ -902.81059786],\n",
       "       [ -907.8311869 ],\n",
       "       [ -905.4693247 ],\n",
       "       [ -902.99316825],\n",
       "       [ -884.69036974],\n",
       "       [ -912.66675947],\n",
       "       [ -894.37340302],\n",
       "       [ -931.06138973],\n",
       "       [ -955.05023711],\n",
       "       [ -897.72028441],\n",
       "       [ -911.97368988],\n",
       "       [ -925.96052758],\n",
       "       [ -948.17820853],\n",
       "       [ -960.46862172],\n",
       "       [ -909.7554593 ],\n",
       "       [ -934.39568975],\n",
       "       [-1014.41862156],\n",
       "       [ -943.98792567],\n",
       "       [ -943.26984739],\n",
       "       [ -968.26126864],\n",
       "       [ -975.02373709],\n",
       "       [ -959.04339812],\n",
       "       [ -961.97610616],\n",
       "       [ -987.95471088],\n",
       "       [ -952.25670093],\n",
       "       [-1015.32991064],\n",
       "       [ -985.65379819],\n",
       "       [ -988.86432242],\n",
       "       [ -984.19016414],\n",
       "       [ -984.12815208],\n",
       "       [ -982.83586991],\n",
       "       [ -951.66928424]])"
      ]
     },
     "execution_count": 138,
     "metadata": {},
     "output_type": "execute_result"
    }
   ],
   "source": [
    "y_true + (np.random.normal(0, 1, n_data) * 20).reshape(-1, 1)"
   ]
  },
  {
   "cell_type": "code",
   "execution_count": 139,
   "metadata": {},
   "outputs": [
    {
     "name": "stdout",
     "output_type": "stream",
     "text": [
      "[[-396.56306994]\n",
      " [-405.79338693]\n",
      " [-395.43097819]\n",
      " [-427.09908557]]\n"
     ]
    }
   ],
   "source": [
    "#   add random normal noise\n",
    "sigma = 20\n",
    "y_actual = y_true + (np.random.normal(0, 1, n_data) * sigma).reshape(-1, 1)\n",
    "print(y_actual[0:4, :])"
   ]
  },
  {
   "cell_type": "markdown",
   "metadata": {},
   "source": [
    "The matrix equation for the estimated linear parameters is as below:\n",
    "$${\\hat {\\beta }}=(X^{T}X)^{-1}X^{T}y.$$"
   ]
  },
  {
   "cell_type": "code",
   "execution_count": 140,
   "metadata": {},
   "outputs": [],
   "source": [
    "# estimations\n",
    "beta_estimated = np.linalg.inv(X.T @ X) @ X.T @ y_actual"
   ]
  },
  {
   "cell_type": "code",
   "execution_count": 145,
   "metadata": {},
   "outputs": [
    {
     "data": {
      "text/plain": [
       "[<matplotlib.lines.Line2D at 0x1f4be45c700>]"
      ]
     },
     "execution_count": 145,
     "metadata": {},
     "output_type": "execute_result"
    },
    {
     "data": {
      "image/png": "[encoded data removed]",
      "text/plain": [
       "<Figure size 432x288 with 1 Axes>"
      ]
     },
     "metadata": {
      "needs_background": "light"
     },
     "output_type": "display_data"
    }
   ],
   "source": [
    "import matplotlib.pyplot as plt\n",
    "\n",
    "plt.plot(x1, y_actual, 'o')\n",
    "plt.plot(x1, y_true, 'g-', c = 'black')"
   ]
  },
  {
   "cell_type": "markdown",
   "metadata": {},
   "source": [
    "Calculate the sum of squared residual errors\n",
    "$$\n",
    "RSS=y^{T}y-y^{T}X(X^{T}X)^{{-1}}X^{T}y\n",
    "$$"
   ]
  },
  {
   "cell_type": "code",
   "execution_count": null,
   "metadata": {},
   "outputs": [],
   "source": [
    "y_actual"
   ]
  },
  {
   "cell_type": "code",
   "execution_count": 149,
   "metadata": {},
   "outputs": [],
   "source": [
    "RSS = ( y_actual.T @ y_actual - y_actual.T @ X @ np.linalg.inv(X.T @ X) @ X.T @ y_actual )"
   ]
  },
  {
   "cell_type": "markdown",
   "metadata": {},
   "source": [
    "Calculated the Total Sum of Squares of the spread of the actual (noisy) values around their mean\n",
    "$$\n",
    "TSS=(y-{\\bar  y})^{T}(y-{\\bar  y})=y^{T}y-2y^{T}{\\bar  y}+{\\bar  y}^{T}{\\bar  y}\n",
    "$$"
   ]
  },
  {
   "cell_type": "code",
   "execution_count": 154,
   "metadata": {},
   "outputs": [
    {
     "data": {
      "text/plain": [
       "array([[6259781.98063494]])"
      ]
     },
     "execution_count": 154,
     "metadata": {},
     "output_type": "execute_result"
    }
   ],
   "source": [
    "y_mean = ( np.ones(n_data) * np.mean(y_actual) ).reshape( -1 , 1 )\n",
    "TSS = (y_actual - y_mean).T @ (y_actual - y_mean)\n",
    "TSS"
   ]
  },
  {
   "cell_type": "code",
   "execution_count": 157,
   "metadata": {},
   "outputs": [],
   "source": [
    "# get predictions\n",
    "y_pred = X @ beta_estimated"
   ]
  },
  {
   "cell_type": "markdown",
   "metadata": {},
   "source": [
    "Calculate the Sum of Squares of the spread of the predictions around their mean.\n",
    "$$\n",
    "ESS=({\\hat  y}-{\\bar  y})^{T}({\\hat  y}-{\\bar  y})={\\hat  y}^{T}{\\hat  y}-2{\\hat  y}^{T}{\\bar  y}+{\\bar  y}^{T}{\\bar  y}\n",
    "$$"
   ]
  },
  {
   "cell_type": "code",
   "execution_count": 158,
   "metadata": {},
   "outputs": [
    {
     "data": {
      "text/plain": [
       "array([[6183746.10510812]])"
      ]
     },
     "execution_count": 158,
     "metadata": {},
     "output_type": "execute_result"
    }
   ],
   "source": [
    "ESS = (y_pred - y_mean).T @ (y_pred - y_mean)\n",
    "\n",
    "ESS"
   ]
  },
  {
   "cell_type": "code",
   "execution_count": 159,
   "metadata": {},
   "outputs": [
    {
     "data": {
      "text/plain": [
       "(array([[6259781.98063494]]), array([[6259781.98063497]]))"
      ]
     },
     "execution_count": 159,
     "metadata": {},
     "output_type": "execute_result"
    }
   ],
   "source": [
    "TSS, ESS + RSS"
   ]
  },
  {
   "cell_type": "markdown",
   "metadata": {},
   "source": [
    "Get $R^2$\n",
    "$$\n",
    "1 - RSS / TSS\n",
    "$$"
   ]
  },
  {
   "cell_type": "code",
   "execution_count": 160,
   "metadata": {},
   "outputs": [
    {
     "data": {
      "text/plain": [
       "array([[0.98785327]])"
      ]
     },
     "execution_count": 160,
     "metadata": {},
     "output_type": "execute_result"
    }
   ],
   "source": [
    "1 - RSS / TSS"
   ]
  },
  {
   "cell_type": "markdown",
   "metadata": {},
   "source": [
    "###  Standard error of regression\n",
    "Calculate the standard error of the regression. We divide by `(n-2)`, because the Expectation of the sum of squares is `(n-2)*sigma^2`."
   ]
  },
  {
   "cell_type": "code",
   "execution_count": 162,
   "metadata": {},
   "outputs": [
    {
     "data": {
      "text/plain": [
       "array([[19.59641736]])"
      ]
     },
     "execution_count": 162,
     "metadata": {},
     "output_type": "execute_result"
    }
   ],
   "source": [
    "sr2 = ( (1 / (n_data - 2)) * (y_pred - y_actual).T  @ (y_pred - y_actual))\n",
    "sr = np.sqrt(sr2)\n",
    "sr"
   ]
  },
  {
   "cell_type": "markdown",
   "metadata": {},
   "source": [
    "### Get variance and covariance Matrix\n",
    "In order to get the standard errors for our linear parameters, we use the matrix formula below:\n",
    "$$\n",
    "Var(β^)=σ^2(X′X)^{-1}\n",
    "$$"
   ]
  },
  {
   "cell_type": "code",
   "execution_count": 163,
   "metadata": {},
   "outputs": [
    {
     "data": {
      "text/plain": [
       "array([[ 3.29696407e+01, -8.87129794e-02],\n",
       "       [-8.87129794e-02,  2.53465655e-04]])"
      ]
     },
     "execution_count": 163,
     "metadata": {},
     "output_type": "execute_result"
    }
   ],
   "source": [
    "var_beta = sr2 * np.linalg.inv(X.T @ X)\n",
    "var_beta"
   ]
  },
  {
   "cell_type": "code",
   "execution_count": 164,
   "metadata": {},
   "outputs": [
    {
     "name": "stdout",
     "output_type": "stream",
     "text": [
      "Std Error for b0 5.74191959645663, \n",
      "Std Error for b1 0.015920604743239867\n"
     ]
    }
   ],
   "source": [
    "print(\n",
    "    f'Std Error for b0 {np.sqrt(var_beta[0, 0])}, \\nStd Error for b1 {np.sqrt(var_beta[1, 1])}'\n",
    ")"
   ]
  }
 ],
 "metadata": {
  "hide_input": false,
  "kernelspec": {
   "display_name": "Python 3",
   "language": "python",
   "name": "python3"
  },
  "language_info": {
   "codemirror_mode": {
    "name": "ipython",
    "version": 3
   },
   "file_extension": ".py",
   "mimetype": "text/x-python",
   "name": "python",
   "nbconvert_exporter": "python",
   "pygments_lexer": "ipython3",
   "version": "3.8.8"
  }
 },
 "nbformat": 4,
 "nbformat_minor": 4
}
