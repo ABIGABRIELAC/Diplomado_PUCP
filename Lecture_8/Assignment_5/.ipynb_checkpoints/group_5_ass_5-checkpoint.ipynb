{
 "cells": [
  {
   "cell_type": "code",
   "execution_count": null,
   "id": "e2642b8a",
   "metadata": {},
   "outputs": [],
   "source": [
    "#Assignment 5\n",
    "\n",
    "\n",
    "\n",
    "1. Each group must create their branch named group_#_ass_5 (group_1_ass_5) and save their results in the [Assignment_5](https://github.com/alexanderquispe/Diplomado_PUCP/tree/main/Lecture_8/Assignment_5) folder.\n",
    "2. Generate your API key in Google Cloud. [Follow this link](https://www.youtube.com/watch?v=wxqpvpNKD7A).\n",
    "3. Allow your API key to use Geocoding API. [Follow this link](https://www.youtube.com/watch?v=d1QGLwie9YU).\n",
    "4. You have to geolocate observations using addresses of any database of your election and name your **JN** like your branch. Your database should have no more than 100 observations. I suggest sampling your data.\n",
    "5. The output of your project should look like this table:\n",
    "\n",
    "|Address|Latitude|Longitude|\n",
    "|---|---|---|\n",
    "|Av. Alfonso Ugarte 1227, Cercado de Lima 15001, Peru| -12.055131331273099| -77.04105408467566|\n",
    "\n",
    "5. Exports your results in a CSV file and save it in the same folder and name it like your branch.\n",
    "3. Your Pull request should be linked to this issue.\n",
    "4. All the questions about the assignment should be posted in this issue."
   ]
  }
 ],
 "metadata": {
  "kernelspec": {
   "display_name": "Python 3 (ipykernel)",
   "language": "python",
   "name": "python3"
  },
  "language_info": {
   "codemirror_mode": {
    "name": "ipython",
    "version": 3
   },
   "file_extension": ".py",
   "mimetype": "text/x-python",
   "name": "python",
   "nbconvert_exporter": "python",
   "pygments_lexer": "ipython3",
   "version": "3.9.7"
  }
 },
 "nbformat": 4,
 "nbformat_minor": 5
}
