{
 "cells": [
  {
   "cell_type": "code",
   "execution_count": null,
   "id": "f36e2bf9",
   "metadata": {},
   "outputs": [],
   "source": [
    "# Import libraries\n",
    "import googlemaps\n",
    "import json\n",
    "import pprint\n",
    "import time\n",
    "import pandas as pd\n",
    "import numpy as np\n",
    "import re"
   ]
  },
  {
   "cell_type": "code",
   "execution_count": null,
   "id": "fc2cd915",
   "metadata": {},
   "outputs": [],
   "source": [
    "# import dataframe \n",
    "link = 'https://docs.google.com/spreadsheets/d/e/2PACX-1vT3AGPjXGXBnJ0VP00o0w4CxJnhFfYideLR7yBQZaQi-Ciu1BUh3oS7FvRHfiVmiQ/pub?output=xlsx'\n",
    "data = pd.read_excel(link,'100 OBS')\n",
    "data"
   ]
  }
 ],
 "metadata": {
  "kernelspec": {
   "display_name": "Python 3",
   "language": "python",
   "name": "python3"
  },
  "language_info": {
   "codemirror_mode": {
    "name": "ipython",
    "version": 3
   },
   "file_extension": ".py",
   "mimetype": "text/x-python",
   "name": "python",
   "nbconvert_exporter": "python",
   "pygments_lexer": "ipython3",
   "version": "3.8.8"
  }
 },
 "nbformat": 4,
 "nbformat_minor": 5
}
