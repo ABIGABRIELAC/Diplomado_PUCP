{
 "cells": [
  {
   "cell_type": "markdown",
   "id": "c76b5259",
   "metadata": {},
   "source": [
    "#Assignment 5\n",
    "\n",
    "\n",
    "1. Each group must create their branch named group_#_ass_5 (group_1_ass_5) and save their results in the [Assignment_5](https://github.com/alexanderquispe/Diplomado_PUCP/tree/main/Lecture_8/Assignment_5) folder.\n",
    "2. Generate your API key in Google Cloud. [Follow this link](https://www.youtube.com/watch?v=wxqpvpNKD7A).\n",
    "3. Allow your API key to use Geocoding API. [Follow this link](https://www.youtube.com/watch?v=d1QGLwie9YU).\n",
    "4. You have to geolocate observations using addresses of any database of your election and name your **JN** like your branch. Your database should have no more than 100 observations. I suggest sampling your data.\n",
    "5. The output of your project should look like this table:\n",
    "\n",
    "|Address|Latitude|Longitude|\n",
    "|---|---|---|\n",
    "|Av. Alfonso Ugarte 1227, Cercado de Lima 15001, Peru| -12.055131331273099| -77.04105408467566|\n",
    "\n",
    "5. Exports your results in a CSV file and save it in the same folder and name it like your branch.\n",
    "3. Your Pull request should be linked to this issue.\n",
    "4. All the questions about the assignment should be posted in this issue."
   ]
  },
  {
   "cell_type": "code",
   "execution_count": 1,
   "id": "ee6280b5",
   "metadata": {},
   "outputs": [
    {
     "ename": "ModuleNotFoundError",
     "evalue": "No module named 'googlemaps'",
     "output_type": "error",
     "traceback": [
      "\u001b[1;31m---------------------------------------------------------------------------\u001b[0m",
      "\u001b[1;31mModuleNotFoundError\u001b[0m                       Traceback (most recent call last)",
      "\u001b[1;32m~\\AppData\\Local\\Temp/ipykernel_3856/3099146602.py\u001b[0m in \u001b[0;36m<module>\u001b[1;34m\u001b[0m\n\u001b[0;32m      1\u001b[0m \u001b[1;31m## Parte 1\u001b[0m\u001b[1;33m\u001b[0m\u001b[1;33m\u001b[0m\u001b[0m\n\u001b[0;32m      2\u001b[0m \u001b[1;31m#!pip install googlemaps\u001b[0m\u001b[1;33m\u001b[0m\u001b[1;33m\u001b[0m\u001b[0m\n\u001b[1;32m----> 3\u001b[1;33m \u001b[1;32mimport\u001b[0m \u001b[0mgooglemaps\u001b[0m\u001b[1;33m\u001b[0m\u001b[1;33m\u001b[0m\u001b[0m\n\u001b[0m\u001b[0;32m      4\u001b[0m \u001b[1;32mimport\u001b[0m \u001b[0mjson\u001b[0m\u001b[1;33m\u001b[0m\u001b[1;33m\u001b[0m\u001b[0m\n\u001b[0;32m      5\u001b[0m \u001b[1;32mimport\u001b[0m \u001b[0mpprint\u001b[0m\u001b[1;33m\u001b[0m\u001b[1;33m\u001b[0m\u001b[0m\n",
      "\u001b[1;31mModuleNotFoundError\u001b[0m: No module named 'googlemaps'"
     ]
    }
   ],
   "source": [
    "## Parte 1 \n",
    "#!pip install googlemaps\n",
    "import googlemaps\n",
    "import json\n",
    "import pprint\n",
    "import time\n",
    "import pandas as pd\n",
    "import numpy as np\n",
    "import re\n",
    "\n",
    "data = pd.read_csv(r\"./PCR_data.csv\")\n",
    "data"
   ]
  },
  {
   "cell_type": "code",
   "execution_count": null,
   "id": "ce57f41d",
   "metadata": {},
   "outputs": [],
   "source": [
    "## Parte 2\n",
    "#Importar base de datos con direcciones de pruebas PCR gratuitas MINSA\n",
    "df = data.sample( n = 8 ).copy() #n = 50 para 50 datos\n",
    "df.reset_index(drop=True, inplace=True)\n",
    "df"
   ]
  },
  {
   "cell_type": "code",
   "execution_count": null,
   "id": "ba18629b",
   "metadata": {},
   "outputs": [],
   "source": [
    "#Generar latitud y longitud - Google API Key"
   ]
  },
  {
   "cell_type": "code",
   "execution_count": null,
   "id": "45e1f197",
   "metadata": {},
   "outputs": [],
   "source": [
    "#Guardar nueva base de datos con campos de latitud y longitud"
   ]
  }
 ],
 "metadata": {
  "kernelspec": {
   "display_name": "Python 3 (ipykernel)",
   "language": "python",
   "name": "python3"
  },
  "language_info": {
   "codemirror_mode": {
    "name": "ipython",
    "version": 3
   },
   "file_extension": ".py",
   "mimetype": "text/x-python",
   "name": "python",
   "nbconvert_exporter": "python",
   "pygments_lexer": "ipython3",
   "version": "3.9.7"
  }
 },
 "nbformat": 4,
 "nbformat_minor": 5
}
