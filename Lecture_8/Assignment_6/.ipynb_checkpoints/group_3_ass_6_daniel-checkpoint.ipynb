{
 "cells": [
  {
   "cell_type": "code",
   "execution_count": null,
   "id": "4be4e417",
   "metadata": {},
   "outputs": [],
   "source": [
    "from IPython.display import display, HTML\n",
    "\n",
    "display(HTML(data=\"\"\"\n",
    "<style>\n",
    "    div#notebook-container    { width: 95%; }\n",
    "    div#menubar-container     { width: 65%; }\n",
    "    div#maintoolbar-container { width: 99%; }a\n",
    "</style>\n",
    "\"\"\"))"
   ]
  },
  {
   "cell_type": "code",
   "execution_count": null,
   "id": "74c54e85",
   "metadata": {},
   "outputs": [],
   "source": [
    "from selenium import webdriver\n",
    "from webdriver_manager.chrome import ChromeDriverManager\n",
    "from selenium.webdriver.support.ui import Select\n",
    "from selenium.webdriver.common.by import By"
   ]
  },
  {
   "cell_type": "code",
   "execution_count": null,
   "id": "04f28a7a",
   "metadata": {},
   "outputs": [],
   "source": [
    "import pandas as pd\n",
    "import unidecode"
   ]
  },
  {
   "cell_type": "code",
   "execution_count": null,
   "id": "1a096a82",
   "metadata": {},
   "outputs": [],
   "source": [
    "url = 'https://www.sunedu.gob.pe/lista-universidades/'"
   ]
  },
  {
   "cell_type": "code",
   "execution_count": null,
   "id": "35156d9e",
   "metadata": {},
   "outputs": [],
   "source": [
    "driver = webdriver.Chrome(ChromeDriverManager().install())"
   ]
  },
  {
   "cell_type": "code",
   "execution_count": null,
   "id": "b2eb3561",
   "metadata": {},
   "outputs": [],
   "source": [
    "driver.get(url)\n",
    "print ('url: ', driver.current_url)\n",
    "print('title: ', driver.title)\n",
    "driver.maximize_window()"
   ]
  },
  {
   "cell_type": "code",
   "execution_count": null,
   "id": "12bed812",
   "metadata": {},
   "outputs": [],
   "source": [
    "publicas_path = driver.find_element(By.XPATH, '/html/body/div[1]/div[3]/div/div/div[1]/div/div/div/div[1]/ul/li[1]/a')\n",
    "publicas_path.click()"
   ]
  },
  {
   "cell_type": "code",
   "execution_count": null,
   "id": "7d68e303",
   "metadata": {},
   "outputs": [],
   "source": [
    "table1_path = driver.find_element(By.XPATH, '/html/body/div[1]/div[3]/div/div/div[1]/div/div/div/div[1]/div/div[1]/div')\n",
    "table1_html = table1_path.get_attribute('innerHTML')"
   ]
  },
  {
   "cell_type": "code",
   "execution_count": null,
   "id": "dd880b24",
   "metadata": {},
   "outputs": [],
   "source": [
    "#reading table using pandas\n",
    "table1 = pd.read_html(table1_html)\n",
    "table_publicas = table1[0].copy()"
   ]
  },
  {
   "cell_type": "code",
   "execution_count": null,
   "id": "f3e092ff",
   "metadata": {},
   "outputs": [],
   "source": [
    "# insertar nuevas columnas\n",
    "table_publicas['TIPO'] = \"Pública\"\n",
    "table_publicas['CONDICIÓN JURÍDICA'] = \"NaN\"\n",
    "table_publicas.rename(columns = {'DISPOSITIVO LEGAL DE LICENCIAMIENTO': 'DISPOSITIVO LEGAL DE LICENCIAMIENTO O DENEGATORIA'} , inplace=True)\n",
    "table_publicas"
   ]
  },
  {
   "cell_type": "code",
   "execution_count": null,
   "id": "ce8c19c6",
   "metadata": {},
   "outputs": [],
   "source": [
    "privadas_path = driver.find_element(By.XPATH, '/html/body/div[1]/div[3]/div/div/div[1]/div/div/div/div[1]/ul/li[2]/a')\n",
    "privadas_path.click()"
   ]
  },
  {
   "cell_type": "code",
   "execution_count": null,
   "id": "411d33b3",
   "metadata": {},
   "outputs": [],
   "source": [
    "table2_path = driver.find_element(By.XPATH, '/html/body/div[1]/div[3]/div/div/div[1]/div/div/div/div[1]/div/div[2]/div')\n",
    "table2_html = table2_path.get_attribute('innerHTML')"
   ]
  },
  {
   "cell_type": "code",
   "execution_count": null,
   "id": "125a7f62",
   "metadata": {},
   "outputs": [],
   "source": [
    "table2 = pd.read_html(table2_html)\n",
    "table_privadas = table2[0].copy()"
   ]
  },
  {
   "cell_type": "code",
   "execution_count": null,
   "id": "b5ab3d1c",
   "metadata": {},
   "outputs": [],
   "source": [
    "table_privadas['TIPO'] = \"Privada\"\n",
    "table_privadas"
   ]
  },
  {
   "cell_type": "code",
   "execution_count": null,
   "id": "5111f854",
   "metadata": {},
   "outputs": [],
   "source": [
    "print(table_publicas.shape)\n",
    "print(table_privadas.shape)"
   ]
  },
  {
   "cell_type": "code",
   "execution_count": null,
   "id": "9bbe5e08",
   "metadata": {},
   "outputs": [],
   "source": [
    "#pd.concat\n",
    "table_universidades = pd.concat([table_publicas, table_privadas])\n",
    "table_universidades"
   ]
  }
 ],
 "metadata": {
  "kernelspec": {
   "display_name": "Python 3",
   "language": "python",
   "name": "python3"
  },
  "language_info": {
   "codemirror_mode": {
    "name": "ipython",
    "version": 3
   },
   "file_extension": ".py",
   "mimetype": "text/x-python",
   "name": "python",
   "nbconvert_exporter": "python",
   "pygments_lexer": "ipython3",
   "version": "3.8.8"
  }
 },
 "nbformat": 4,
 "nbformat_minor": 5
}
