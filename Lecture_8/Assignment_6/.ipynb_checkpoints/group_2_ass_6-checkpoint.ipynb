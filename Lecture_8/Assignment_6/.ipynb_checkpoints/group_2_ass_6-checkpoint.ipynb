{
 "cells": [
  {
   "cell_type": "markdown",
   "metadata": {},
   "source": [
    "# Assignment 6\n"
   ]
  },
  {
   "cell_type": "markdown",
   "metadata": {},
   "source": [
    "librarys used for this assignment"
   ]
  },
  {
   "cell_type": "code",
   "execution_count": null,
   "metadata": {},
   "outputs": [],
   "source": [
    "#pip install Unidecode"
   ]
  },
  {
   "cell_type": "code",
   "execution_count": 2,
   "metadata": {},
   "outputs": [],
   "source": [
    "from webdriver_manager.chrome import ChromeDriverManager\n",
    "from selenium import webdriver\n",
    "import re\n",
    "import time \n",
    "from selenium.webdriver.support.ui import Select\n",
    "from datetime import date\n",
    "import pandas as pd\n",
    "import json\n",
    "import googlemaps\n",
    "import pprint\n",
    "import pandas as pd\n",
    "import numpy as np\n",
    "import os\n",
    "import urllib.request, json\n",
    "import csv\n",
    "from tqdm import tqdm_notebook as tqdm\n",
    "import unidecode"
   ]
  },
  {
   "cell_type": "markdown",
   "metadata": {},
   "source": [
    "#### 1. Scraping **SUNEDU** webpage to obtain information from national and private universities"
   ]
  },
  {
   "cell_type": "markdown",
   "metadata": {},
   "source": [
    "Generate the web driver"
   ]
  },
  {
   "cell_type": "code",
   "execution_count": 3,
   "metadata": {},
   "outputs": [
    {
     "name": "stderr",
     "output_type": "stream",
     "text": [
      "\n",
      "\n",
      "====== WebDriver manager ======\n",
      "Current google-chrome version is 97.0.4692\n",
      "Get LATEST chromedriver version for 97.0.4692 google-chrome\n",
      "Driver [C:\\Users\\Carlos\\.wdm\\drivers\\chromedriver\\win32\\97.0.4692.71\\chromedriver.exe] found in cache\n",
      "<ipython-input-3-c234546c721d>:3: DeprecationWarning: executable_path has been deprecated, please pass in a Service object\n",
      "  driver = webdriver.Chrome( ChromeDriverManager().install() )\n"
     ]
    }
   ],
   "source": [
    "options = webdriver.ChromeOptions()\n",
    "options.add_argument('--incognito')\n",
    "driver = webdriver.Chrome( ChromeDriverManager().install() )\n",
    "driver.maximize_window()\n",
    "\n",
    "url=\"https://www.sunedu.gob.pe/lista-universidades/\"\n",
    "\n",
    "driver.get(url)"
   ]
  },
  {
   "cell_type": "code",
   "execution_count": 4,
   "metadata": {},
   "outputs": [
    {
     "name": "stderr",
     "output_type": "stream",
     "text": [
      "<ipython-input-4-ef573a9e13bb>:6: DeprecationWarning: find_element_by_* commands are deprecated. Please use find_element() instead\n",
      "  table_path = driver.find_element_by_xpath( f\"/html/body/div[1]/div[3]/div/div/div[1]/div/div/div/div[1]/div/div[{Cont_x}]/div\" )\n",
      "<ipython-input-4-ef573a9e13bb>:6: DeprecationWarning: find_element_by_* commands are deprecated. Please use find_element() instead\n",
      "  table_path = driver.find_element_by_xpath( f\"/html/body/div[1]/div[3]/div/div/div[1]/div/div/div/div[1]/div/div[{Cont_x}]/div\" )\n"
     ]
    }
   ],
   "source": [
    "all_tables = {}\n",
    "\n",
    "for Cont_x in range( 1 , 3 ):\n",
    "    \n",
    "    # Extracting table data\n",
    "    table_path = driver.find_element_by_xpath( f\"/html/body/div[1]/div[3]/div/div/div[1]/div/div/div/div[1]/div/div[{Cont_x}]/div\" )\n",
    "    table_html = table_path.get_attribute( 'innerHTML' )\n",
    "        \n",
    "    table = pd.read_html( table_html )\n",
    "                        \n",
    "    # Selecting specific columns\n",
    "    table_clean = table[0].iloc[ :, 1: 4 ].copy()\n",
    "    \n",
    "    #Change columns names and reorder\n",
    "    table_clean = table_clean.rename(columns={\"UNIVERSIDAD\":\"Name_univ\",\"DEPARTAMENTO\":\"Department_univ\",\"PROVINCIA\":\"Province_univ\"}, inplace= False)\n",
    "    table_clean = table_clean.reindex(columns=['Department_univ', 'Province_univ', 'Name_univ'])    \n",
    "    \n",
    "    # store tables\n",
    "    all_tables[ Cont_x ] = table_clean"
   ]
  },
  {
   "cell_type": "code",
   "execution_count": 7,
   "metadata": {},
   "outputs": [
    {
     "data": {
      "text/html": [
       "<div>\n",
       "<style scoped>\n",
       "    .dataframe tbody tr th:only-of-type {\n",
       "        vertical-align: middle;\n",
       "    }\n",
       "\n",
       "    .dataframe tbody tr th {\n",
       "        vertical-align: top;\n",
       "    }\n",
       "\n",
       "    .dataframe thead th {\n",
       "        text-align: right;\n",
       "    }\n",
       "</style>\n",
       "<table border=\"1\" class=\"dataframe\">\n",
       "  <thead>\n",
       "    <tr style=\"text-align: right;\">\n",
       "      <th></th>\n",
       "      <th>Department_univ</th>\n",
       "      <th>Province_univ</th>\n",
       "      <th>Name_univ</th>\n",
       "    </tr>\n",
       "  </thead>\n",
       "  <tbody>\n",
       "    <tr>\n",
       "      <th>0</th>\n",
       "      <td>Lima</td>\n",
       "      <td>Lima</td>\n",
       "      <td>Universidad Nacional Mayor de San Marcos</td>\n",
       "    </tr>\n",
       "    <tr>\n",
       "      <th>1</th>\n",
       "      <td>Ayacucho</td>\n",
       "      <td>Huamanga</td>\n",
       "      <td>Universidad Nacional de San Cristóbal de Huamanga</td>\n",
       "    </tr>\n",
       "    <tr>\n",
       "      <th>2</th>\n",
       "      <td>Cusco</td>\n",
       "      <td>Cusco</td>\n",
       "      <td>Universidad Nacional de San Antonio Abad del C...</td>\n",
       "    </tr>\n",
       "    <tr>\n",
       "      <th>3</th>\n",
       "      <td>La Libertad</td>\n",
       "      <td>Trujillo</td>\n",
       "      <td>Universidad Nacional de Trujillo</td>\n",
       "    </tr>\n",
       "    <tr>\n",
       "      <th>4</th>\n",
       "      <td>Arequipa</td>\n",
       "      <td>Arequipa</td>\n",
       "      <td>Universidad Nacional de San Agustín de Arequipa</td>\n",
       "    </tr>\n",
       "    <tr>\n",
       "      <th>...</th>\n",
       "      <td>...</td>\n",
       "      <td>...</td>\n",
       "      <td>...</td>\n",
       "    </tr>\n",
       "    <tr>\n",
       "      <th>138</th>\n",
       "      <td>Junín</td>\n",
       "      <td>Huancayo</td>\n",
       "      <td>Universidad Santo Tomás de Aquino de Ciencia e...</td>\n",
       "    </tr>\n",
       "    <tr>\n",
       "      <th>139</th>\n",
       "      <td>Lima</td>\n",
       "      <td>Lima</td>\n",
       "      <td>Universidad Privada SISE</td>\n",
       "    </tr>\n",
       "    <tr>\n",
       "      <th>140</th>\n",
       "      <td>Lima</td>\n",
       "      <td>Lima</td>\n",
       "      <td>Universidad Seminario Evangélico de Lima (*12)</td>\n",
       "    </tr>\n",
       "    <tr>\n",
       "      <th>141</th>\n",
       "      <td>Lima</td>\n",
       "      <td>Lima</td>\n",
       "      <td>Universidad Seminario Bíblico Andino (*12)</td>\n",
       "    </tr>\n",
       "    <tr>\n",
       "      <th>142</th>\n",
       "      <td>Lima</td>\n",
       "      <td>Lima</td>\n",
       "      <td>Universidad Católica San José</td>\n",
       "    </tr>\n",
       "  </tbody>\n",
       "</table>\n",
       "<p>143 rows × 3 columns</p>\n",
       "</div>"
      ],
      "text/plain": [
       "    Department_univ Province_univ  \\\n",
       "0              Lima          Lima   \n",
       "1          Ayacucho      Huamanga   \n",
       "2             Cusco         Cusco   \n",
       "3       La Libertad      Trujillo   \n",
       "4          Arequipa      Arequipa   \n",
       "..              ...           ...   \n",
       "138           Junín      Huancayo   \n",
       "139            Lima          Lima   \n",
       "140            Lima          Lima   \n",
       "141            Lima          Lima   \n",
       "142            Lima          Lima   \n",
       "\n",
       "                                             Name_univ  \n",
       "0             Universidad Nacional Mayor de San Marcos  \n",
       "1    Universidad Nacional de San Cristóbal de Huamanga  \n",
       "2    Universidad Nacional de San Antonio Abad del C...  \n",
       "3                     Universidad Nacional de Trujillo  \n",
       "4      Universidad Nacional de San Agustín de Arequipa  \n",
       "..                                                 ...  \n",
       "138  Universidad Santo Tomás de Aquino de Ciencia e...  \n",
       "139                           Universidad Privada SISE  \n",
       "140     Universidad Seminario Evangélico de Lima (*12)  \n",
       "141         Universidad Seminario Bíblico Andino (*12)  \n",
       "142                      Universidad Católica San José  \n",
       "\n",
       "[143 rows x 3 columns]"
      ]
     },
     "execution_count": 7,
     "metadata": {},
     "output_type": "execute_result"
    }
   ],
   "source": [
    "data_universidad = pd.concat( all_tables.values() ).reset_index( drop = True )\n",
    "data_universidad"
   ]
  }
 ],
 "metadata": {
  "hide_input": false,
  "kernelspec": {
   "display_name": "Python 3 (ipykernel)",
   "language": "python",
   "name": "python3"
  },
  "language_info": {
   "codemirror_mode": {
    "name": "ipython",
    "version": 3
   },
   "file_extension": ".py",
   "mimetype": "text/x-python",
   "name": "python",
   "nbconvert_exporter": "python",
   "pygments_lexer": "ipython3",
   "version": "3.9.7"
  }
 },
 "nbformat": 4,
 "nbformat_minor": 4
}
